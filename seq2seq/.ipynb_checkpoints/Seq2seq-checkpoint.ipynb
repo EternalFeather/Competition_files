{
 "cells": [
  {
   "cell_type": "markdown",
   "metadata": {},
   "source": [
    "# Seq2Seq with Attention Model (Pytorch Version)"
   ]
  },
  {
   "cell_type": "markdown",
   "metadata": {},
   "source": [
    "## A neural network to translate from French to English"
   ]
  },
  {
   "cell_type": "markdown",
   "metadata": {},
   "source": [
    "**Examples**: [KEY: > input, = target, < output]<br>\n",
    "\n",
    "> il est en train de peindre un tableau .<br>\n",
    "= he is painting a picture .<br>\n",
    "< he is painting a picture .<br>\n",
    "\n",
    "> pourquoi ne pas essayer ce vin delicieux ?<br>\n",
    "= why not try that delicious wine ?<br>\n",
    "< why not try that delicious wine ?<br>\n",
    "\n",
    "> elle n est pas poete mais romanciere .<br>\n",
    "= she is not a poet but a novelist .<br>\n",
    "< she not not a poet but a novelist .<br>\n",
    "\n",
    "> vous etes trop maigre .<br>\n",
    "= you re too skinny .<br>\n",
    "< you re all alone .<br>"
   ]
  },
  {
   "cell_type": "markdown",
   "metadata": {},
   "source": [
    "Seq2Seq Paper Link: https://arxiv.org/abs/1409.3215<br>\n",
    "Attention Mechanism Paper Link: https://arxiv.org/abs/1409.0473"
   ]
  },
  {
   "cell_type": "markdown",
   "metadata": {},
   "source": [
    "- Two recurrent neural networks work together to transform one sequence to another. An encoder network condenses an input sequence into a vector, and a decoder network unfolds that vector into a new sequence. To improve upon this model we’ll use an attention mechanism, which lets the decoder learn to focus over a specific range of the input sequence."
   ]
  },
  {
   "cell_type": "markdown",
   "metadata": {},
   "source": [
    "![](https://i.imgur.com/GVpPU5w.png)"
   ]
  },
  {
   "cell_type": "markdown",
   "metadata": {},
   "source": [
    "## Requirements"
   ]
  },
  {
   "cell_type": "code",
   "execution_count": 1,
   "metadata": {},
   "outputs": [],
   "source": [
    "from __future__ import unicode_literals, print_function, division\n",
    "from io import open\n",
    "import unicodedata\n",
    "import string\n",
    "import re\n",
    "import random\n",
    "\n",
    "import torch\n",
    "import torch.nn as nn\n",
    "from torch import optim\n",
    "import torch.nn.functional as F\n",
    "\n",
    "device = torch.device(\"cuda\" if torch.cuda.is_available() else \"cpu\")"
   ]
  },
  {
   "cell_type": "markdown",
   "metadata": {},
   "source": [
    "## Load dataset"
   ]
  },
  {
   "cell_type": "markdown",
   "metadata": {},
   "source": [
    "The file is a tab separated list of translation pairs.<br>\n",
    "Download the data from [here](https://download.pytorch.org/tutorial/data.zip) and extract it to the current directory."
   ]
  },
  {
   "cell_type": "markdown",
   "metadata": {},
   "source": [
    "The files are all in Unicode, to simplify we will turn Unicode characters to ASCII."
   ]
  },
  {
   "cell_type": "code",
   "execution_count": 2,
   "metadata": {},
   "outputs": [],
   "source": [
    "def unicodeToAscii(s):\n",
    "    return ''.join(\n",
    "        c for c in unicodedata.normalize('NFD', s)\n",
    "        if unicodedata.category(c) != 'Mn'\n",
    "    )"
   ]
  },
  {
   "cell_type": "markdown",
   "metadata": {},
   "source": [
    "Lowercase, trim, and remove non-letter characters."
   ]
  },
  {
   "cell_type": "code",
   "execution_count": 3,
   "metadata": {},
   "outputs": [],
   "source": [
    "def normalizeString(s):\n",
    "    s = unicodeToAscii(s.lower().strip())\n",
    "    s = re.sub(r\"([.!?])\", r\" \\1\", s)\n",
    "    s = re.sub(r\"[^a-zA-Z.!?]+\", r\" \", s)\n",
    "    return s"
   ]
  },
  {
   "cell_type": "markdown",
   "metadata": {},
   "source": [
    "we will be representing each word in a language as a one-hot vector, or giant vector of zeros except for a single one (at the index of the word). "
   ]
  },
  {
   "cell_type": "markdown",
   "metadata": {},
   "source": [
    "![](https://i.imgur.com/Xkrm9Km.png)"
   ]
  },
  {
   "cell_type": "markdown",
   "metadata": {},
   "source": [
    "## Define the word & index transformer"
   ]
  },
  {
   "cell_type": "code",
   "execution_count": 4,
   "metadata": {},
   "outputs": [],
   "source": [
    "SOS_token = 0\n",
    "EOS_token = 1\n",
    "\n",
    "class Lang:\n",
    "    def __init__(self, name):\n",
    "        self.name = name\n",
    "        self.word2index = {}\n",
    "        self.word2count = {}\n",
    "        self.index2word = {0: \"SOS\", 1: \"EOS\"}\n",
    "        self.n_words = 2\n",
    "\n",
    "    def addSentence(self, sentence):\n",
    "        for word in sentence.split(' '):\n",
    "            self.addWord(word)\n",
    "\n",
    "    def addWord(self, word):\n",
    "        if word not in self.word2index:\n",
    "            self.word2index[word] = self.n_words\n",
    "            self.word2count[word] = 1\n",
    "            self.index2word[self.n_words] = word\n",
    "            self.n_words += 1\n",
    "        else:\n",
    "            self.word2count[word] += 1"
   ]
  },
  {
   "cell_type": "markdown",
   "metadata": {},
   "source": [
    "## Read dataset"
   ]
  },
  {
   "cell_type": "code",
   "execution_count": 5,
   "metadata": {},
   "outputs": [],
   "source": [
    "def readLangs(lang1, lang2, reverse=False):\n",
    "    print(\"Reading lines...\")\n",
    "\n",
    "    lines = open('data/{}-{}.txt'.format(lang1, lang2), encoding='utf-8').read().strip().split('\\n')\n",
    "    pairs = [[normalizeString(s) for s in l.split('\\t')] for l in lines]\n",
    "\n",
    "    if reverse:\n",
    "        pairs = [list(reversed(p)) for p in pairs]\n",
    "        input_lang = Lang(lang2)\n",
    "        output_lang = Lang(lang1)\n",
    "    else:\n",
    "        input_lang = Lang(lang1)\n",
    "        output_lang = Lang(lang2)\n",
    "\n",
    "    return input_lang, output_lang, pairs"
   ]
  },
  {
   "cell_type": "markdown",
   "metadata": {},
   "source": [
    "## Data Clearning (Sample by eng_prefixes)"
   ]
  },
  {
   "cell_type": "code",
   "execution_count": 6,
   "metadata": {},
   "outputs": [],
   "source": [
    "MAX_LENGTH = 10\n",
    "\n",
    "eng_prefixes = (\n",
    "    \"i am \", \"i m \",\n",
    "    \"he is\", \"he s \",\n",
    "    \"she is\", \"she s\",\n",
    "    \"you are\", \"you re \",\n",
    "    \"we are\", \"we re \",\n",
    "    \"they are\", \"they re \"\n",
    ")\n",
    "\n",
    "def filterPair(p):\n",
    "    return len(p[0].split(' ')) < MAX_LENGTH and len(p[1].split(' ')) < MAX_LENGTH and p[1].startswith(eng_prefixes)\n",
    "\n",
    "def filterPairs(pairs):\n",
    "    return [pair for pair in pairs if filterPair(pair)]"
   ]
  },
  {
   "cell_type": "code",
   "execution_count": 8,
   "metadata": {},
   "outputs": [],
   "source": [
    "def prepareData(lang1, lang2, reverse=False):\n",
    "    input_lang, output_lang, pairs = readLangs(lang1, lang2, reverse)\n",
    "    \n",
    "    print(\"Read %s sentence pairs\" % len(pairs))\n",
    "    pairs = filterPairs(pairs)\n",
    "    \n",
    "    print(\"Trimmed to %s sentence pairs\" % len(pairs))\n",
    "    print(\"Counting words...\")\n",
    "    \n",
    "    for pair in pairs:\n",
    "        input_lang.addSentence(pair[0])\n",
    "        output_lang.addSentence(pair[1])\n",
    "    \n",
    "    print(\"Counted words:\")\n",
    "    print(input_lang.name, input_lang.n_words)\n",
    "    print(output_lang.name, output_lang.n_words)\n",
    "    \n",
    "    return input_lang, output_lang, pairs"
   ]
  },
  {
   "cell_type": "code",
   "execution_count": 9,
   "metadata": {},
   "outputs": [
    {
     "name": "stdout",
     "output_type": "stream",
     "text": [
      "Reading lines...\n",
      "Read 135842 sentence pairs\n",
      "Trimmed to 10853 sentence pairs\n",
      "Counting words...\n",
      "Counted words:\n",
      "fra 4489\n",
      "eng 2925\n",
      "['ils sont tous coupables .', 'they re all guilty .']\n",
      "['tu es assez vieux pour savoir mieux .', 'you re old enough to know better .']\n",
      "['tu es oublieux .', 'you re forgetful .']\n",
      "['tu vas etre sur pieds .', 'you re going to be ok .']\n",
      "['je songe a demissionner immediatement .', 'i am thinking of resigning at once .']\n",
      "['je me bats .', 'i m fighting .']\n",
      "['je suis mouillee .', 'i m wet .']\n",
      "['vous etes degoutant .', 'you re disgusting .']\n",
      "['ils s amusent .', 'they re enjoying themselves .']\n",
      "['ils sont sans consequence .', 'they re of no consequence .']\n"
     ]
    }
   ],
   "source": [
    "input_lang, output_lang, pairs = prepareData('eng', 'fra', True)\n",
    "\n",
    "data_overview_num = 10\n",
    "for _ in range(data_overview_num):\n",
    "    print(random.choice(pairs))"
   ]
  },
  {
   "cell_type": "markdown",
   "metadata": {},
   "source": [
    "## Seq2Seq Model"
   ]
  },
  {
   "cell_type": "markdown",
   "metadata": {},
   "source": [
    "A Sequence to Sequence network, or seq2seq network, or Encoder Decoder network, is a model consisting of two RNNs called the encoder and decoder. The encoder reads an input sequence and outputs a single vector, and the decoder reads that vector to produce an output sequence."
   ]
  },
  {
   "cell_type": "markdown",
   "metadata": {},
   "source": [
    "### Encoder"
   ]
  },
  {
   "cell_type": "markdown",
   "metadata": {},
   "source": [
    "The encoder of a seq2seq network is a RNN that outputs some value for every word from the input sentence. For every input word the encoder outputs a vector and a hidden state, and uses the hidden state for the next input word."
   ]
  },
  {
   "cell_type": "markdown",
   "metadata": {},
   "source": [
    "![](https://i.imgur.com/n340MrD.png)"
   ]
  },
  {
   "cell_type": "code",
   "execution_count": null,
   "metadata": {},
   "outputs": [],
   "source": [
    "class EncoderRNN(nn.Module):\n",
    "    def __init__(self, input_size, hidden_size):\n",
    "        super(EncoderRNN, self).__init__()\n",
    "        self.hidden_size = hidden_size\n",
    "        \n",
    "        self.embedding = nn.Embedding(input_size, hidden_size)\n",
    "        self.gru = nn.GRU(hidden_size, hidden_size)\n",
    "        \n",
    "    def forward(self, inpt, hidden):\n",
    "        embedded = self.embedding(inpt).view(1, 1, -1)\n",
    "        output = embedded\n",
    "        output, hidden = self.gru(output, hidden)\n",
    "        return output, hidden\n",
    "    \n",
    "    def initHidden(self):\n",
    "        return torch.zeros(1, 1, self.hidden_size, device=device)"
   ]
  },
  {
   "cell_type": "markdown",
   "metadata": {},
   "source": [
    "### Decoder"
   ]
  },
  {
   "cell_type": "markdown",
   "metadata": {},
   "source": [
    "The decoder is another RNN that takes the encoder output vector(s) and outputs a sequence of words to create the translation."
   ]
  },
  {
   "cell_type": "markdown",
   "metadata": {},
   "source": [
    "In the simplest seq2seq decoder we use only last output of the encoder. This last output is sometimes called the context vector as it encodes context from the entire sequence. This context vector is used as the initial hidden state of the decoder."
   ]
  },
  {
   "cell_type": "markdown",
   "metadata": {},
   "source": [
    "![](https://i.imgur.com/XITOJbn.png)"
   ]
  },
  {
   "cell_type": "code",
   "execution_count": null,
   "metadata": {},
   "outputs": [],
   "source": [
    "class DecoderRNN(nn.Module):\n",
    "    def __init__(self, hidden_size, output_size):\n",
    "        super(DecoderRNN, self).__init__()\n",
    "        self.hidden_size = hidden_size\n",
    "        self.output_size = output_size\n",
    "        \n",
    "        self.embedding = nn.Embedding(self.output_size, self.hidden_size)\n",
    "        self.gru = nn.GRU(hidden_size, hidden_size)\n",
    "        self.out = nn.Linear(self.hidden_size, self.output_size)\n",
    "        self.softmax = nn.LogSoftmax(dim=1)\n",
    "        \n",
    "    def forward(self, inpt, hidden):\n",
    "        embedded = self.embedding(inpt).view(1, 1, -1)\n",
    "        output = F.relu(embedded)\n",
    "        output, hidden = self.gru(output, hidden)\n",
    "        output = self.softmax(self.out(output[0]))\n",
    "        return output, hidden\n",
    "    \n",
    "    def initHidden(self):\n",
    "        return torch.zeros(1, 1, self.hidden_size, device=device)"
   ]
  },
  {
   "cell_type": "markdown",
   "metadata": {},
   "source": [
    "### Attention Decoder"
   ]
  },
  {
   "cell_type": "markdown",
   "metadata": {},
   "source": [
    "Attention allows the decoder network to “focus” on a different part of the encoder’s outputs for every step of the decoder’s own outputs. First we calculate a set of attention weights. These will be multiplied by the encoder output vectors to create a weighted combination. The result should contain information about that specific part of the input sequence, and thus help the decoder choose the right output words."
   ]
  },
  {
   "cell_type": "markdown",
   "metadata": {},
   "source": [
    "![](https://i.imgur.com/QIliyjS.png)"
   ]
  },
  {
   "cell_type": "code",
   "execution_count": null,
   "metadata": {},
   "outputs": [],
   "source": [
    "class AttnDecoderRNN(nn.Module):\n",
    "    def __init__(self, hidden_size, output_size, dropout_p=0.1, max_length=MAX_LENGTH):\n",
    "        super(AttnDecoderRNN, self).__init__()\n",
    "        self.hidden_size = hidden_size\n",
    "        self.output_size = output_size\n",
    "        self.dropout_p = dropout_p\n",
    "        self.max_length = max_length\n",
    "        \n",
    "        self.embedding = nn.Embedding(self.output_size, self.hidden_size)\n",
    "        # Transform the double hidden features into probabilities with max_length size\n",
    "        self.attn = nn.Linear(self.hidden_size * 2, self.max_length)\n",
    "        self.attn_combine = nn.Linear(self.hidden_size * 2, self.hidden_size)\n",
    "        self.dropout = nn.Dropout(self.dropout_p)\n",
    "        self.gru = nn.GRU(self.hidden_size, self.hidden_size)\n",
    "        self.out = nn.Linear(self.hidden_size, self.output_size)\n",
    "        \n",
    "    def forward(self, inpt, hidden, encoder_outputs):\n",
    "        embedded = self.embedding(inpt).view(1, 1, -1)\n",
    "        embedded = self.dropout(embedded)\n",
    "        \n",
    "        attn_weights = F.softmax(self.attn(torch.cat((embedded[0], hidden[0]), 1)), dim=1)\n",
    "        attn_applied = torch.bmm(attn_weights.unsqueeze(0), encoder_outputs.unsqueeze(0))\n",
    "        \n",
    "        output = torch.cat((embedded[0], attn_applied[0]), 1)\n",
    "        output = self.attn_combine(output).unsqueeze(0)\n",
    "        \n",
    "        output = F.relu(output)\n",
    "        output, hidden = self.gru(output, hidden)\n",
    "        \n",
    "        output = F.log_softmax(self.out(output[0]), dim=1)\n",
    "        return output, hidden, attn_weights\n",
    "    \n",
    "    def initHidden(self):\n",
    "        return torch.zeors(1, 1, self.hidden_size, device=device)"
   ]
  },
  {
   "cell_type": "markdown",
   "metadata": {},
   "source": [
    "### Training"
   ]
  },
  {
   "cell_type": "markdown",
   "metadata": {},
   "source": [
    "Prepare the training data"
   ]
  },
  {
   "cell_type": "markdown",
   "metadata": {},
   "source": [
    "To train, for each pair we will need an input tensor (indexes of the words in the input sentence) and target tensor (indexes of the words in the target sentence). While creating these vectors we will append the EOS token to both sequences."
   ]
  },
  {
   "cell_type": "code",
   "execution_count": null,
   "metadata": {},
   "outputs": [],
   "source": [
    "def indexesFromSentence(lang, sentence):\n",
    "    return [lang.word2index[word] for word in sentence.split(' ')]\n",
    "\n",
    "def tensorFromSentence(lang, sentence):\n",
    "    indexes = indexesFromSentence(lang, sentence)\n",
    "    indexes.append(EOS_token)\n",
    "    return torch.tensor(indexes, dtype=torch.long, device=device).view(-1, 1)\n",
    "\n",
    "def tensorFromPair(pair):\n",
    "    input_tensor = tensorFromSentence(input_lang, pair[0])\n",
    "    output_tensor = tensorFromSentence(output_lang, pair[1])\n",
    "    return (input_tensor, output_tensor)"
   ]
  },
  {
   "cell_type": "markdown",
   "metadata": {},
   "source": [
    "Training the Model"
   ]
  },
  {
   "cell_type": "markdown",
   "metadata": {},
   "source": [
    "To train we run the input sentence through the encoder, and keep track of every output and the latest hidden state. Then the decoder is given the <SOS> token as its first input, and the last hidden state of the encoder as its first hidden state."
   ]
  },
  {
   "cell_type": "markdown",
   "metadata": {},
   "source": [
    "**A Tip** : “Teacher forcing” is the concept of using the real target outputs as each next input, instead of using the decoder’s guess as the next input. Using teacher forcing causes it to converge faster but when the trained network is exploited, it may exhibit instability. "
   ]
  },
  {
   "cell_type": "code",
   "execution_count": null,
   "metadata": {},
   "outputs": [],
   "source": [
    "teacher_forcing_ratio = 0.5\n",
    "\n",
    "def train(input_tensor, target_tensor, encoder, decoder, encoder_optimizer, decoder_optimizer, criterion, max_length=MAX_LENGTH):\n",
    "    encoder_hidden = encoder.initHidden()\n",
    "    \n",
    "    encoder_optimizer.zero_grad()\n",
    "    decoder_optimizer.zero_grad()\n",
    "    \n",
    "    input_length = input_tensor.size(0)\n",
    "    target_length = target_tensor.size(0)\n",
    "    \n",
    "    encoder_outputs = torch.zeros(max_length, encoder.hidden_size, device=device)\n",
    "    loss = 0\n",
    "    \n",
    "    for en_i in range(input_length):\n",
    "        encoder_output, encoder_hidden = encoder(input_tensor[en_i], encoder_hidden)\n",
    "        encoder_outputs[en_i] = encoder_output[0, 0]\n",
    "        \n",
    "    decoder_input = torch.tensor([[SOS_token]], device=device)\n",
    "    decoder_hidden = encoder_hidden\n",
    "    \n",
    "    use_teacher_forcing = True if random.random() < teacher_forcing_ratio else False\n",
    "    \n",
    "    if use_teacher_forcing:\n",
    "        # Teacher forcing mode\n",
    "        for de_i in range(target_length):\n",
    "            decoder_output, decoder_hidden, decoder_attention = decoder(decoder_input, decoder_hidden, encoder_outputs)\n",
    "            loss += criterion(decoder_output, target_tensor[de_i])\n",
    "            decoder_input = target_tensor[de_i]\n",
    "            \n",
    "    else:\n",
    "        # free running mode\n",
    "        for de_i in range(target_length):\n",
    "            decoder_output, decoder_hidden, decoder_attention = decoder(decoder_input, decoder_hidden, encoder_outputs)\n",
    "            # sample the final timestep output as the current input\n",
    "            topvalue, topindex = decoder_output.data.topk(1)\n",
    "            # detach from history as input\n",
    "            decoder_input = topindex.squeeze().detach()\n",
    "            \n",
    "            loss += criterion(decoder_output, target_tensor[de_i])\n",
    "            if decoder_input.item() == EOS_token:  # item() : to get a Python number from a tensor containing a single value\n",
    "                break\n",
    "                \n",
    "    loss.backward()\n",
    "    \n",
    "    encoder_optimizer.step()\n",
    "    decoder_optimizer.step()\n",
    "    \n",
    "    return loss.item() / target_length"
   ]
  },
  {
   "cell_type": "markdown",
   "metadata": {},
   "source": [
    "This is a helper function to print time elapsed and estimated time remaining given the current time and progress %."
   ]
  },
  {
   "cell_type": "code",
   "execution_count": null,
   "metadata": {},
   "outputs": [],
   "source": [
    "import time\n",
    "import math\n",
    "\n",
    "\n",
    "def asMinutes(s):\n",
    "    m = math.floor(s / 60)\n",
    "    s -= m * 60\n",
    "    return '%dm %ds' % (m, s)\n",
    "\n",
    "\n",
    "def timeSince(since, percent):\n",
    "    now = time.time()\n",
    "    s = now - since\n",
    "    es = s / (percent)\n",
    "    rs = es - s\n",
    "    return '%s (- %s)' % (asMinutes(s), asMinutes(rs))"
   ]
  },
  {
   "cell_type": "markdown",
   "metadata": {},
   "source": [
    "Training steps including:\n",
    "   - Start a timer\n",
    "   - Initialize optimizers and criterion\n",
    "   - Create set of training pairs\n",
    "   - Start empty losses array for plotting"
   ]
  },
  {
   "cell_type": "code",
   "execution_count": null,
   "metadata": {},
   "outputs": [],
   "source": [
    "import matplotlib.pyplot as plt\n",
    "plt.switch_backend('agg')\n",
    "%matplotlib inline\n",
    "import matplotlib.ticker as ticker\n",
    "import numpy as np\n",
    "\n",
    "def showPlot(points):\n",
    "    plt.figure()\n",
    "    fig, ax = plt.subplots()\n",
    "    loc = ticker.MultipleLocator(base=0.2)\n",
    "    ax.yaxis.set_major_locator(loc)\n",
    "    plt.plot(points)"
   ]
  },
  {
   "cell_type": "code",
   "execution_count": null,
   "metadata": {},
   "outputs": [],
   "source": [
    "def trainIters(encoder, decoder, n_iters, print_epoch=1000, plot_epoch=100, learning_rate=0.01):\n",
    "    start = time.time()\n",
    "    plot_losses = []\n",
    "    print_loss_total = 0\n",
    "    plot_loss_total = 0\n",
    "    \n",
    "    encoder_optimizer = optim.Adam(encoder.parameters(), lr=learning_rate)\n",
    "    decoder_optimizer = optim.Adam(decoder.parameters(), lr=learning_rate)\n",
    "    training_pairs = [tensorFromPair(random.choice(pairs)) for _ in range(n_iters)]\n",
    "    criterion = nn.NLLLoss()\n",
    "    \n",
    "    for iter in range(1, n_iters + 1):\n",
    "        training_pair = training_pairs[iter - 1]\n",
    "        input_tensor = training_pair[0]\n",
    "        target_tensor = training_pair[1]\n",
    "        \n",
    "        loss = train(input_tensor, target_tensor, encoder, decoder, encoder_optimizer, decoder_optimizer, criterion)\n",
    "        print_loss_total += loss\n",
    "        plot_loss_total += loss\n",
    "        \n",
    "        if iter % print_epoch == 0:\n",
    "            print_loss_avg = print_loss_total / print_epoch\n",
    "            print_loss_total = 0\n",
    "            print(\"Time: {} | ({} | [{:.2f}%]) avg: {:.4f}\".format(timeSince(start, iter / n_iters), iter, iter / n_iters * 100, print_loss_avg))\n",
    "            \n",
    "        if iter % plot_epoch == 0:\n",
    "            plot_loss_avg = plot_loss_total / plot_epoch\n",
    "            plot_losses.append(plot_loss_avg)\n",
    "            plt_loss_total = 0\n",
    "            \n",
    "    showPlot(plot_losses)"
   ]
  },
  {
   "cell_type": "markdown",
   "metadata": {},
   "source": [
    "Start training..."
   ]
  },
  {
   "cell_type": "code",
   "execution_count": null,
   "metadata": {},
   "outputs": [],
   "source": [
    "hidden_size = 256\n",
    "# input is an one-hot vector\n",
    "encoder = EncoderRNN(input_lang.n_words, hidden_size).to(device)\n",
    "attn_decoder = AttnDecoderRNN(hidden_size, output_lang.n_words, dropout_p=0.1).to(device)\n",
    "\n",
    "trainIters(encoder, attn_decoder, 75000, print_epoch=5000)"
   ]
  },
  {
   "cell_type": "markdown",
   "metadata": {},
   "source": [
    "### Evaluation"
   ]
  },
  {
   "cell_type": "markdown",
   "metadata": {},
   "source": [
    "Evaluation is mostly the same as training, but there are no targets so we simply feed the decoder’s predictions back to itself for each step. Every time it predicts a word we add it to the output string, and if it predicts the EOS token we stop there. We also store the decoder’s attention outputs for display later."
   ]
  },
  {
   "cell_type": "code",
   "execution_count": null,
   "metadata": {},
   "outputs": [],
   "source": [
    "def evaluate(encoder, decoder, sentence, max_length=MAX_LENGTH):\n",
    "    with torch.no_grad():\n",
    "        input_tensor = tensorFromSentence(input_lang, sentence)\n",
    "        input_length = input_tensor.size(0)\n",
    "        encoder_hidden = encoder.initHidden()\n",
    "        \n",
    "        encoder_outputs = torch.zeros(max_length, encoder.hidden_size, device=device)\n",
    "        \n",
    "        for en_i in range(input_length):\n",
    "            encoder_output, encoder_hidden = encoder(input_tensor[en_i], encoder_hidden)\n",
    "            encoder_outputs[en_i] += encoder_output[0, 0]\n",
    "            \n",
    "        decoder_input = torch.tensor([[SOS_token]], device=device)\n",
    "        decoder_hidden = encoder_hidden\n",
    "        \n",
    "        decoded_words = []\n",
    "        decoder_attentions = torch.zeros(max_length, max_length)\n",
    "        \n",
    "        for de_i in range(max_length):\n",
    "            decoder_output, decoder_hidden, decoder_attention = decoder(decoder_input, decoder_hidden, encoder_outputs)\n",
    "            decoder_attentions[de_i] = decoder_attention.data\n",
    "            topvalue, topindex = decoder_output.data.topk(1)\n",
    "            print(topvalue, topindex)\n",
    "            if topindex.item() == EOS_token:\n",
    "                decoded_words.append('<EOS>')\n",
    "                break\n",
    "            else:\n",
    "                decoded_words.append(output_lang.index2word[topvalue.item()])\n",
    "                \n",
    "            decoder_input = topvalue.squeeze().detach()\n",
    "            \n",
    "        return decoded_words, decoder_attentions[: de_i+1]"
   ]
  },
  {
   "cell_type": "markdown",
   "metadata": {},
   "source": [
    "We can evaluate random sentences from the training set and print out the input, target, and output to make some subjective quality judgements:"
   ]
  },
  {
   "cell_type": "code",
   "execution_count": null,
   "metadata": {},
   "outputs": [],
   "source": [
    "def evaluateRandomly(encoder, decoder, n=10):\n",
    "    for i in range(n):\n",
    "        pair = random.choice(pairs)\n",
    "        print(\">\", pair[0])\n",
    "        print(\"=\", pair[1])\n",
    "        output_words, attentions = evaluate(encoder, decoder, pair[0])\n",
    "        output_sentence = ' '.join(output_words)\n",
    "        print(\"<\", output_sentence)\n",
    "        print('\\n')"
   ]
  },
  {
   "cell_type": "markdown",
   "metadata": {},
   "source": [
    "Start evaluating..."
   ]
  },
  {
   "cell_type": "code",
   "execution_count": null,
   "metadata": {},
   "outputs": [],
   "source": [
    "evaluateRandomly(encoder, attn_decoder)"
   ]
  },
  {
   "cell_type": "markdown",
   "metadata": {},
   "source": [
    "### Data Visualizing"
   ]
  },
  {
   "cell_type": "code",
   "execution_count": null,
   "metadata": {},
   "outputs": [],
   "source": []
  },
  {
   "cell_type": "code",
   "execution_count": null,
   "metadata": {},
   "outputs": [],
   "source": []
  },
  {
   "cell_type": "code",
   "execution_count": null,
   "metadata": {},
   "outputs": [],
   "source": []
  },
  {
   "cell_type": "code",
   "execution_count": null,
   "metadata": {},
   "outputs": [],
   "source": []
  },
  {
   "cell_type": "markdown",
   "metadata": {},
   "source": [
    "# Seq2Seq Model using Tensorflow Version without Attention"
   ]
  },
  {
   "cell_type": "code",
   "execution_count": null,
   "metadata": {},
   "outputs": [],
   "source": [
    "import tensorflow as tf\n",
    "import numpy as np\n",
    "from tensorflow.python.ops import tensor_array_ops, control_flow_ops\n",
    "import collections"
   ]
  },
  {
   "cell_type": "markdown",
   "metadata": {},
   "source": [
    "# Parameters"
   ]
  },
  {
   "cell_type": "code",
   "execution_count": null,
   "metadata": {},
   "outputs": [],
   "source": [
    "batch_size = 64\n",
    "vocab_size = 5000\n",
    "embed_dims = 32\n",
    "enc_hidden_size = 16\n",
    "dec_hidden_size = 64\n",
    "seq_length = 8\n",
    "learning_rate = 0.01\n",
    "pointer = 0\n",
    "start_word = 2\n",
    "training_epoches = 10\n",
    "data_path = \"Chinese_quatrains_7.txt\"\n",
    "test_data_path = \"test.txt\"\n",
    "vocab_path = \"Chinese_quatrains_7.vocab\""
   ]
  },
  {
   "cell_type": "markdown",
   "metadata": {},
   "source": [
    "# data_helper"
   ]
  },
  {
   "cell_type": "code",
   "execution_count": null,
   "metadata": {},
   "outputs": [],
   "source": [
    "def build_vocab(vocab_path, data_path):\n",
    "    files = open(data_path, 'r', encoding='utf-8').read()\n",
    "    words = files.split()\n",
    "    wordcount = collections.Counter(words)\n",
    "    with open(vocab_path, 'w', encoding='utf-8') as f:\n",
    "        f.write(\"{}\\t1000000000\\n{}\\t1000000000\\n{}\\t1000000000\\n{}\\t1000000000\\n\".format(\"<UNK>\", \"<PAD>\", \"<SOS>\", \"<EOS>\"))\n",
    "        for word, count in wordcount.most_common(vocab_size-4):\n",
    "            f.write(\"{}\\t{}\\n\".format(word, count))\n",
    "        \n",
    "def mini_batch(vocab_path, data_path):\n",
    "    token_seqs, sentences = load_datasets(vocab_path, data_path)\n",
    "    num_batch = int(len(sentences) / xbatch_size)\n",
    "    sentences = sentences[:num_batch * batch_size]\n",
    "    token_seqs = token_seqs[:num_batch * batch_size]\n",
    "    sentences, tokens = np.array(sentences), np.array(token_seqs)\n",
    "    sentence_batch = np.split(sentences, num_batch, 0)\n",
    "    token_batch = np.split(tokens, num_batch, 0)\n",
    "    return token_batch, sentence_batch, num_batch\n",
    "    \n",
    "def load_datasets(vocab_path, data_path):\n",
    "    sentences = [line for line in open(data_path, 'r', encoding='utf-8').read().split(\"\\n\") if line]\n",
    "    word2idx, idx2word = load_vocab(vocab_path)\n",
    "    \n",
    "    token_list, sources = [], []\n",
    "    for source in sentences:\n",
    "        x = [word2idx.get(word, 1) for word in (source + \" <EOS>\").split()]\n",
    "        token_list.append(x)\n",
    "        sources.append(source)\n",
    "    return token_list, sources\n",
    "    \n",
    "def load_vocab(vocab_path):\n",
    "    vocab = [line.split()[0] for line in open(vocab_path, 'r', encoding='utf-8').read().splitlines()]\n",
    "    word2idx = {word: idx for idx, word in enumerate(vocab)}\n",
    "    idx2word = {word2idx[word]: word for word in word2idx}\n",
    "    return word2idx, idx2word\n",
    "\n",
    "def next_batch(token_batches, sentences, pointer, num_batch):\n",
    "    result = token_batches[pointer]\n",
    "    sentence = sentences[pointer]\n",
    "    pointer = (pointer + 1) % num_batch\n",
    "    return result, sentence"
   ]
  },
  {
   "cell_type": "code",
   "execution_count": null,
   "metadata": {},
   "outputs": [],
   "source": [
    "build_vocab(vocab_path, data_path)\n",
    "token_sequences, sentences, num_batch = mini_batch(vocab_path, data_path)\n",
    "\n",
    "# word2idx, idx2word = load_vocab(vocab_path)\n",
    "# result = next_batch(token_sequences, pointer, num_batch)\n",
    "# trans_sentences = []\n",
    "# for sentence in sentences[0]:\n",
    "#     transform = [word2idx.get(word, 1) for word in (sentence + \" <EOS>\").split()]\n",
    "#     trans_sentences.append(transform)\n",
    "# print(result[:3], \"\\n\\n\", np.array(trans_sentences)[:3])"
   ]
  },
  {
   "cell_type": "markdown",
   "metadata": {},
   "source": [
    "## Encoder"
   ]
  },
  {
   "cell_type": "code",
   "execution_count": null,
   "metadata": {},
   "outputs": [],
   "source": [
    "class Encoder(object):\n",
    "    def __init__(self, vocab_size, batch_size, embed_size, hidden_size, seq_length, start_word):\n",
    "        self.vocab_size = vocab_size\n",
    "        self.batch_size = batch_size\n",
    "        self.embed_size = embed_size\n",
    "        self.hidden_size = hidden_size\n",
    "        self.seq_length = seq_length\n",
    "        self.start_token = tf.constant([start_word] * self.batch_size, dtype=tf.int32)\n",
    "        self.enc_params = []\n",
    "        \n",
    "        with tf.variable_scope(\"encoder\"):\n",
    "            self.enc_embeddings = tf.Variable(self.init_matrix([self.vocab_size, self.embed_size]))\n",
    "            self.enc_params.append(self.enc_embeddings)\n",
    "            self.forward_layer = self.recurrent_lstm_forward(self.enc_params)\n",
    "            \n",
    "        # placeholder\n",
    "        self.x = tf.placeholder(tf.int32, shape=[self.batch_size, self.seq_length])\n",
    "        \n",
    "        # initialize\n",
    "        with tf.device(\"/cpu:0\"):\n",
    "            self.processed_x = tf.transpose(tf.nn.embedding_lookup(self.enc_embeddings, self.x), perm=[1, 0, 2])\n",
    "            \n",
    "        h0 = tf.zeros([self.batch_size, self.hidden_size])\n",
    "        self.hidden_memory_0 = tf.stack([h0, h0])\n",
    "        \n",
    "        # training_step\n",
    "        ta_embed_x_forward = tensor_array_ops.TensorArray(dtype=tf.float32, size=self.seq_length, dynamic_size=False, infer_shape=True)\n",
    "        ta_embed_x_forward = ta_embed_x_forward.unstack(self.processed_x)\n",
    "        ta_embed_x_backward = tensor_array_ops.TensorArray(dtype=tf.float32, size=self.seq_length, dynamic_size=False, infer_shape=True)\n",
    "        ta_embed_x_backward = ta_embed_x_backward.unstack(self.processed_x)\n",
    "\n",
    "        def _recurrence_lstm_forward(i, x_t, h_tm):\n",
    "            h_t = self.forward_layer(x_t, h_tm)\n",
    "            x_ = ta_embed_x_forward.read(i)\n",
    "            return i + 1, x_, h_t\n",
    "        \n",
    "        def _recurrence_lstm_backward(i, x_t, h_tm):\n",
    "            h_t = self.forward_layer(x_t, h_tm)\n",
    "            x_ = ta_embed_x_backward.read(i)\n",
    "            return i - 1, x_, h_t\n",
    "\n",
    "        _, _, hidden_memory_forward = control_flow_ops.while_loop(\n",
    "            cond=lambda i, _1, _2: i < self.seq_length,\n",
    "            body=_recurrence_lstm_forward,\n",
    "            loop_vars=(tf.constant(0, dtype=tf.int32), tf.nn.embedding_lookup(self.enc_embeddings, self.start_token), self.hidden_memory_0)\n",
    "        )\n",
    "        \n",
    "        _, _, hidden_memory_backward = control_flow_ops.while_loop(\n",
    "            cond=lambda i, _1, _2: i >= 0,\n",
    "            body=_recurrence_lstm_backward,\n",
    "            loop_vars=(tf.constant(self.seq_length - 1, dtype=tf.int32), tf.nn.embedding_lookup(self.enc_embeddings, self.start_token), self.hidden_memory_0)\n",
    "        )\n",
    "\n",
    "        hidden_forward, _ = tf.unstack(hidden_memory_forward)\n",
    "        hidden_backward, _ = tf.unstack(hidden_memory_backward)\n",
    "        self.hidden_state = tf.concat((hidden_forward, hidden_backward), 1)\n",
    "        \n",
    "    def init_matrix(self, shape):\n",
    "        return tf.random_normal(shape, stddev=0.1)\n",
    "    \n",
    "    def recurrent_lstm_forward(self, params):\n",
    "        self.Wi = tf.Variable(self.init_matrix([self.embed_size, self.hidden_size]))\n",
    "        self.Ui = tf.Variable(self.init_matrix([self.hidden_size, self.hidden_size]))\n",
    "        self.bi = tf.Variable(self.init_matrix([self.hidden_size]))\n",
    "        \n",
    "        self.Wf = tf.Variable(self.init_matrix([self.embed_size, self.hidden_size]))\n",
    "        self.Uf = tf.Variable(self.init_matrix([self.hidden_size, self.hidden_size]))\n",
    "        self.bf = tf.Variable(self.init_matrix([self.hidden_size]))\n",
    "        \n",
    "        self.Wo = tf.Variable(self.init_matrix([self.embed_size, self.hidden_size]))\n",
    "        self.Uo = tf.Variable(self.init_matrix([self.hidden_size, self.hidden_size]))\n",
    "        self.bo = tf.Variable(self.init_matrix([self.hidden_size]))\n",
    "        \n",
    "        self.Wc = tf.Variable(self.init_matrix([self.embed_size, self.hidden_size]))\n",
    "        self.Uc = tf.Variable(self.init_matrix([self.hidden_size, self.hidden_size]))\n",
    "        self.bc = tf.Variable(self.init_matrix([self.hidden_size]))\n",
    "        \n",
    "        params.extend([\n",
    "            self.Wi, self.Ui, self.bi,\n",
    "            self.Wf, self.Uf, self.bf,\n",
    "            self.Wo, self.Uo, self.bo,\n",
    "            self.Wc, self.Uc, self.bc\n",
    "        ])\n",
    "        \n",
    "        def forward(x, hidden_memory):\n",
    "            hidden_state, cell_state = tf.unstack(hidden_memory)\n",
    "            \n",
    "            i = tf.sigmoid(\n",
    "                tf.matmul(x, self.Wi) + tf.matmul(hidden_state, self.Ui) + self.bi\n",
    "            )\n",
    "            \n",
    "            f = tf.sigmoid(\n",
    "                tf.matmul(x, self.Wf) + tf.matmul(hidden_state, self.Uf) + self.bf\n",
    "            )\n",
    "            \n",
    "            o = tf.sigmoid(\n",
    "                tf.matmul(x, self.Wo) + tf.matmul(hidden_state, self.Uo) + self.bo\n",
    "            )\n",
    "            \n",
    "            c_ = tf.nn.tanh(\n",
    "                tf.matmul(x, self.Wc) + tf.matmul(hidden_state, self.Uc) + self.bc\n",
    "            )\n",
    "            \n",
    "            c = f * cell_state + i * c_\n",
    "            current_hidden_state = tf.nn.tanh(c)\n",
    "            \n",
    "            return tf.stack([current_hidden_state, c])\n",
    "            \n",
    "        return forward"
   ]
  },
  {
   "cell_type": "markdown",
   "metadata": {},
   "source": [
    "## Decoder"
   ]
  },
  {
   "cell_type": "code",
   "execution_count": null,
   "metadata": {},
   "outputs": [],
   "source": [
    "class Decoder(object):\n",
    "    def __init__(self, vocab_size, batch_size, embed_size, hidden_size, seq_length, start_word, learning_rate, dec_params):\n",
    "        self.vocab_size = vocab_size\n",
    "        self.batch_size = batch_size\n",
    "        self.embed_size = embed_size\n",
    "        self.hidden_size = hidden_size\n",
    "        self.seq_length = seq_length\n",
    "        self.start_token = tf.constant([start_word] * self.batch_size, dtype=tf.int32)\n",
    "        self.learning_rate = learning_rate\n",
    "        self.dec_params = dec_params\n",
    "        self.grad_clip = 5.0\n",
    "        \n",
    "        with tf.variable_scope(\"decoder\"):\n",
    "            self.dec_embeddings = tf.Variable(self.init_matrix([self.vocab_size, self.embed_size]))\n",
    "            self.dec_params.append(self.dec_embeddings)\n",
    "            self.forward_layer = self.recurrent_lstm_forward(self.dec_params)\n",
    "            self.linear_layer = self.recurrent_linear_forward(self.dec_params)\n",
    "            \n",
    "        # placeholder\n",
    "        self.x = tf.placeholder(tf.int32, shape=[self.batch_size, self.seq_length])\n",
    "        self.hidden_state = tf.placeholder(tf.float32, shape=[self.batch_size, self.hidden_size])\n",
    "        \n",
    "        with tf.device(\"/cpu:0\"):\n",
    "            self.processed_x = tf.transpose(tf.nn.embedding_lookup(self.dec_embeddings, self.x), perm=[1, 0, 2])\n",
    "            \n",
    "        cell_state = tf.zeros([self.batch_size, self.hidden_size])\n",
    "        self.hidden_memory = tf.stack([self.hidden_state, cell_state])\n",
    "            \n",
    "        # training_step\n",
    "        predictions = tensor_array_ops.TensorArray(dtype=tf.float32, size=self.seq_length, dynamic_size=False, infer_shape=True)\n",
    "        ta_embed_x = tensor_array_ops.TensorArray(dtype=tf.float32, size=self.seq_length, dynamic_size=False, infer_shape=True)\n",
    "        ta_embed_x = ta_embed_x.unstack(self.processed_x)\n",
    "        \n",
    "        def _training_recurrence(i, x_t, h_tm, predictions):\n",
    "            h_t = self.forward_layer(x_t, h_tm)\n",
    "            o_t = self.linear_layer(h_t)\n",
    "            predictions = predictions.write(i, o_t)\n",
    "            x_ = ta_embed_x.read(i)\n",
    "            return i + 1, x_, h_t, predictions\n",
    "        \n",
    "        _, _, _, predictions = control_flow_ops.while_loop(\n",
    "            cond=lambda i, _1, _2, _3: i < self.seq_length,\n",
    "            body=_training_recurrence,\n",
    "            loop_vars=(tf.constant(0, dtype=tf.int32), tf.nn.embedding_lookup(self.dec_embeddings, self.start_token), self.hidden_memory, predictions)\n",
    "        )\n",
    "        \n",
    "        self.predictions = predictions.stack()\n",
    "        self.predictions = tf.transpose(self.predictions, perm=[1, 0, 2])\n",
    "                \n",
    "        self.loss = -tf.reduce_sum(\n",
    "            tf.one_hot(tf.cast(tf.reshape(self.x, [-1]), tf.int32), self.vocab_size, 1.0, 0.0) * tf.log(\n",
    "                tf.clip_by_value(tf.reshape(self.predictions, [-1, vocab_size]), 1e-20, 1.0)\n",
    "            )\n",
    "        ) / (self.seq_length * self.batch_size)\n",
    "\n",
    "        self.optimizer = tf.train.AdamOptimizer(self.learning_rate)\n",
    "        self.gradients, _ = tf.clip_by_global_norm(tf.gradients(self.loss, self.dec_params), self.grad_clip)\n",
    "        self.update = self.optimizer.apply_gradients(zip(self.gradients, self.dec_params))\n",
    "        \n",
    "        # testing_step\n",
    "        output_prob_sequences = tensor_array_ops.TensorArray(dtype=tf.float32, size=self.seq_length, dynamic_size=False, infer_shape=True)\n",
    "        token_sequences = tensor_array_ops.TensorArray(dtype=tf.int32, size=self.seq_length, dynamic_size=False, infer_shape=True)\n",
    "        \n",
    "        def _pred_recurrence(i, x_t, h_tm, gen_o, gen_x):\n",
    "            h_t = self.forward_layer(x_t, h_tm)\n",
    "            o_t = self.linear_layer(h_t)\n",
    "            log_prob = tf.log(o_t)\n",
    "            next_token = tf.cast(tf.reshape(tf.multinomial(log_prob, 1), [self.batch_size]), tf.int32)\n",
    "            x_ = tf.nn.embedding_lookup(self.dec_embeddings, next_token)\n",
    "            gen_o = gen_o.write(i, tf.reduce_sum(tf.multiply(tf.one_hot(next_token, self.vocab_size, 1.0, 0.0), o_t), 1))\n",
    "            gen_x = gen_x.write(i, next_token)\n",
    "            return i + 1, x_, h_t, gen_o, gen_x\n",
    "        \n",
    "        _, _, _, self.output_prob_sequences, self.token_sequences = control_flow_ops.while_loop(\n",
    "            cond=lambda i, _1, _2, _3, _4: i < self.seq_length,\n",
    "            body=_pred_recurrence,\n",
    "            loop_vars=(tf.constant(0, dtype=tf.int32), tf.nn.embedding_lookup(self.dec_embeddings, self.start_token), self.hidden_memory, output_prob_sequences, token_sequences)\n",
    "        )\n",
    "        \n",
    "        self.token_sequences = self.token_sequences.stack()\n",
    "        self.token_sequences = tf.transpose(self.token_sequences, perm=[1, 0])\n",
    "            \n",
    "    def init_matrix(self, shape):\n",
    "        return tf.random_normal(shape, stddev=0.1)\n",
    "    \n",
    "    def recurrent_lstm_forward(self, params):\n",
    "        self.Wi = tf.Variable(self.init_matrix([self.embed_size, self.hidden_size]))\n",
    "        self.Ui = tf.Variable(self.init_matrix([self.hidden_size, self.hidden_size]))\n",
    "        self.bi = tf.Variable(self.init_matrix([self.hidden_size]))\n",
    "        \n",
    "        self.Wf = tf.Variable(self.init_matrix([self.embed_size, self.hidden_size]))\n",
    "        self.Uf = tf.Variable(self.init_matrix([self.hidden_size, self.hidden_size]))\n",
    "        self.bf = tf.Variable(self.init_matrix([self.hidden_size]))\n",
    "        \n",
    "        self.Wo = tf.Variable(self.init_matrix([self.embed_size, self.hidden_size]))\n",
    "        self.Uo = tf.Variable(self.init_matrix([self.hidden_size, self.hidden_size]))\n",
    "        self.bo = tf.Variable(self.init_matrix([self.hidden_size]))\n",
    "        \n",
    "        self.Wc = tf.Variable(self.init_matrix([self.embed_size, self.hidden_size]))\n",
    "        self.Uc = tf.Variable(self.init_matrix([self.hidden_size, self.hidden_size]))\n",
    "        self.bc = tf.Variable(self.init_matrix([self.hidden_size]))\n",
    "        \n",
    "        params.extend([\n",
    "            self.Wi, self.Ui, self.bi,\n",
    "            self.Wf, self.Uf, self.bf,\n",
    "            self.Wo, self.Uo, self.bo,\n",
    "            self.Wc, self.Uc, self.bc\n",
    "        ])\n",
    "        \n",
    "        def forward(x, hidden_memory):\n",
    "            hidden_state, cell_state = tf.unstack(hidden_memory)\n",
    "            \n",
    "            i = tf.sigmoid(\n",
    "                tf.matmul(x, self.Wi) + tf.matmul(hidden_state, self.Ui) + self.bi\n",
    "            )\n",
    "            \n",
    "            f = tf.sigmoid(\n",
    "                tf.matmul(x, self.Wf) + tf.matmul(hidden_state, self.Uf) + self.bf\n",
    "            )\n",
    "            \n",
    "            o = tf.sigmoid(\n",
    "                tf.matmul(x, self.Wo) + tf.matmul(hidden_state, self.Uo) + self.bo\n",
    "            )\n",
    "\n",
    "            c_ = tf.nn.tanh(\n",
    "                tf.matmul(x, self.Wc) + tf.matmul(hidden_state, self.Uc) + self.bc\n",
    "            )\n",
    "\n",
    "            c = f * cell_state + i * c_\n",
    "            current_hidden_state = tf.nn.tanh(c)\n",
    "            \n",
    "            return tf.stack([current_hidden_state, c])\n",
    "        \n",
    "        return forward\n",
    "    \n",
    "    def recurrent_linear_forward(self, params):\n",
    "        self.V = tf.Variable(self.init_matrix([self.hidden_size, self.vocab_size]))\n",
    "        self.c = tf.Variable(self.init_matrix([self.vocab_size]))\n",
    "        \n",
    "        params.extend([\n",
    "            self.V, self.c\n",
    "        ])\n",
    "        \n",
    "        def forward(hidden_memory):\n",
    "            hidden_state, cell_state = tf.unstack(hidden_memory)\n",
    "            logits = tf.matmul(hidden_state, self.V) + self.c\n",
    "            output = tf.nn.softmax(logits)\n",
    "            return output\n",
    "        \n",
    "        return forward"
   ]
  },
  {
   "cell_type": "markdown",
   "metadata": {},
   "source": [
    "## Training"
   ]
  },
  {
   "cell_type": "code",
   "execution_count": null,
   "metadata": {},
   "outputs": [],
   "source": [
    "class Seq2seq(object):\n",
    "    def __init__(self, vocab_size, batch_size, embed_dims, enc_hidden_size, dec_hidden_size, seq_length, start_word, learning_rate):\n",
    "        self.encoder = Encoder(vocab_size, batch_size, embed_dims, enc_hidden_size, seq_length, start_word)\n",
    "        self.decoder = Decoder(vocab_size, batch_size, embed_dims, dec_hidden_size, seq_length, start_word, learning_rate, self.encoder.enc_params)\n",
    "        \n",
    "    def forward(self, sess, batch):\n",
    "        hidden = sess.run(self.encoder.hidden_state, feed_dict={self.encoder.x: batch})\n",
    "        loss, _ = sess.run([self.decoder.loss, self.decoder.update], feed_dict={self.decoder.x: batch, self.decoder.hidden_state: hidden})\n",
    "        return loss\n",
    "    \n",
    "    def pred(self, sess, batch):\n",
    "        hidden = sess.run(self.encoder.hidden_state, feed_dict={self.encoder.x: batch})\n",
    "        pred = sess.run(self.decoder.token_sequences, feed_dict={self.decoder.x: batch, self.decoder.hidden_state: hidden})\n",
    "        return pred"
   ]
  },
  {
   "cell_type": "code",
   "execution_count": null,
   "metadata": {},
   "outputs": [],
   "source": [
    "seq2seq_model = Seq2seq(vocab_size, batch_size, embed_dims, enc_hidden_size, dec_hidden_size, seq_length, start_word, learning_rate)"
   ]
  },
  {
   "cell_type": "code",
   "execution_count": null,
   "metadata": {},
   "outputs": [],
   "source": [
    "config = tf.ConfigProto()\n",
    "config.gpu_options.allow_growth = True\n",
    "sess = tf.Session(config=config)\n",
    "sess.run(tf.global_variables_initializer())"
   ]
  },
  {
   "cell_type": "code",
   "execution_count": null,
   "metadata": {},
   "outputs": [],
   "source": [
    "for epoch in range(training_epoches):\n",
    "    pointer = 0\n",
    "    for i in range(num_batch):\n",
    "        batch, _ = next_batch(token_sequences, sentences, pointer, num_batch)\n",
    "        loss = seq2seq_model.forward(sess, batch)\n",
    "        if (epoch * num_batch + i) % 200 == 0:\n",
    "            print(\"MSG : Epoch {}/{}, loss = {}\".format(epoch * num_batch + i, training_epoches * num_batch, loss))"
   ]
  },
  {
   "cell_type": "markdown",
   "metadata": {},
   "source": [
    "## Testing"
   ]
  },
  {
   "cell_type": "code",
   "execution_count": null,
   "metadata": {},
   "outputs": [],
   "source": [
    "token_sequences, sentences, num_batch = mini_batch(vocab_path, test_data_path)\n",
    "pointer = 0\n",
    "word2idx, idx2word = load_vocab(vocab_path)\n",
    "write_file = open(\"Result_10.txt\", 'w', encoding='utf-8')\n",
    "for i in range(num_batch):\n",
    "    batch, sentence = next_batch(token_sequences, pointer, num_batch)\n",
    "    result = seq2seq_model.pred(sess, batch)\n",
    "    for i in range(batch.shape[0]):\n",
    "        batch_sentence = \"\".join(word for word in sentence[i].split())\n",
    "        result_sentence = \"\".join(idx2word.get(word, 1) for word in result[i])\n",
    "        write_file.write(batch_sentence + \"\\t\" + result_sentence + \"\\n\")\n",
    "        write_file.flush()\n",
    "print(\"MSG : Done!\")\n",
    "write_file.close()"
   ]
  }
 ],
 "metadata": {
  "kernelspec": {
   "display_name": "Python 3",
   "language": "python",
   "name": "python3"
  },
  "language_info": {
   "codemirror_mode": {
    "name": "ipython",
    "version": 3
   },
   "file_extension": ".py",
   "mimetype": "text/x-python",
   "name": "python",
   "nbconvert_exporter": "python",
   "pygments_lexer": "ipython3",
   "version": "3.5.2"
  }
 },
 "nbformat": 4,
 "nbformat_minor": 2
}
