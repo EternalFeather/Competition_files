{
 "cells": [
  {
   "cell_type": "markdown",
   "metadata": {},
   "source": [
    "# Packages"
   ]
  },
  {
   "cell_type": "code",
   "execution_count": 1,
   "metadata": {
    "collapsed": false
   },
   "outputs": [
    {
     "name": "stderr",
     "output_type": "stream",
     "text": [
      "Using TensorFlow backend.\n"
     ]
    }
   ],
   "source": [
    "import pandas as pd\n",
    "import numpy as np\n",
    "import os, re, csv, codecs, operator, sys, gc\n",
    "from collections import defaultdict, OrderedDict\n",
    "from tqdm import tqdm\n",
    "import jieba\n",
    "import seaborn as sns\n",
    "from collections import Counter\n",
    "from matplotlib import pyplot as plt\n",
    "%matplotlib inline\n",
    "\n",
    "from sklearn.model_selection import StratifiedKFold\n",
    "from sklearn.linear_model import LogisticRegression\n",
    "from sklearn.metrics import accuracy_score\n",
    "from sklearn.model_selection import cross_val_score, cross_val_predict, StratifiedKFold, KFold, train_test_split\n",
    "from sklearn.ensemble import ExtraTreesClassifier\n",
    "from sklearn.feature_extraction.text import CountVectorizer\n",
    "from sklearn.feature_extraction.text import TfidfVectorizer\n",
    "from scipy.sparse import csr_matrix, hstack\n",
    "from sklearn.preprocessing import LabelEncoder\n",
    "\n",
    "from keras.preprocessing.text import Tokenizer"
   ]
  },
  {
   "cell_type": "markdown",
   "metadata": {},
   "source": [
    "# Parameters"
   ]
  },
  {
   "cell_type": "code",
   "execution_count": 2,
   "metadata": {
    "collapsed": false
   },
   "outputs": [],
   "source": [
    "jieba.set_dictionary('dict.txt.big.txt')\n",
    "CLEAN_WORD_PATH = None\n",
    "TRAIN_DATA_FILE = 'data_original.csv'\n",
    "TEST_DATA_FILE = 'test.csv'\n",
    "FOLD_COUNT = 10\n",
    "list_classes = ['不受理', '不成立', '成立', '當事人不到場', '聲請人撤回']"
   ]
  },
  {
   "cell_type": "markdown",
   "metadata": {},
   "source": [
    "# Data Overview"
   ]
  },
  {
   "cell_type": "code",
   "execution_count": 3,
   "metadata": {
    "collapsed": true
   },
   "outputs": [],
   "source": [
    "train_df = pd.read_csv(TRAIN_DATA_FILE)"
   ]
  },
  {
   "cell_type": "code",
   "execution_count": 4,
   "metadata": {
    "collapsed": false
   },
   "outputs": [
    {
     "name": "stdout",
     "output_type": "stream",
     "text": [
      "<class 'pandas.core.frame.DataFrame'>\n",
      "RangeIndex: 6277 entries, 0 to 6276\n",
      "Data columns (total 22 columns):\n",
      "Unnamed: 0    6277 non-null int64\n",
      "id            6277 non-null int64\n",
      "收件日期          6277 non-null object\n",
      "收件時間          6277 non-null object\n",
      "結案日期          6220 non-null object\n",
      "結案時間          6220 non-null object\n",
      "協調開會方式        5251 non-null object\n",
      "案件大類型         6277 non-null object\n",
      "案件細節類型        6261 non-null object\n",
      "name          6277 non-null float64\n",
      "對照人           6271 non-null float64\n",
      "主席            6251 non-null float64\n",
      "people        4881 non-null float64\n",
      "是否成立          6277 non-null object\n",
      "和解條件          1649 non-null object\n",
      "調解現況          6277 non-null object\n",
      "調解次數          6274 non-null float64\n",
      "調解人數          6277 non-null int64\n",
      "have_other    6277 non-null int64\n",
      "調解天數          6277 non-null object\n",
      "縣市合併          6277 non-null int64\n",
      "調解內容與決議       5942 non-null object\n",
      "dtypes: float64(5), int64(5), object(12)\n",
      "memory usage: 1.1+ MB\n"
     ]
    }
   ],
   "source": [
    "train_df.info()"
   ]
  },
  {
   "cell_type": "code",
   "execution_count": 5,
   "metadata": {
    "collapsed": false
   },
   "outputs": [
    {
     "data": {
      "text/html": [
       "<div>\n",
       "<table border=\"1\" class=\"dataframe\">\n",
       "  <thead>\n",
       "    <tr style=\"text-align: right;\">\n",
       "      <th></th>\n",
       "      <th>Unnamed: 0</th>\n",
       "      <th>id</th>\n",
       "      <th>name</th>\n",
       "      <th>對照人</th>\n",
       "      <th>主席</th>\n",
       "      <th>people</th>\n",
       "      <th>調解次數</th>\n",
       "      <th>調解人數</th>\n",
       "      <th>have_other</th>\n",
       "      <th>縣市合併</th>\n",
       "    </tr>\n",
       "  </thead>\n",
       "  <tbody>\n",
       "    <tr>\n",
       "      <th>count</th>\n",
       "      <td>6277.000000</td>\n",
       "      <td>6.277000e+03</td>\n",
       "      <td>6.277000e+03</td>\n",
       "      <td>6.271000e+03</td>\n",
       "      <td>6.251000e+03</td>\n",
       "      <td>4.881000e+03</td>\n",
       "      <td>6274.000000</td>\n",
       "      <td>6277.000000</td>\n",
       "      <td>6277.000000</td>\n",
       "      <td>6277.000000</td>\n",
       "    </tr>\n",
       "    <tr>\n",
       "      <th>mean</th>\n",
       "      <td>3141.780628</td>\n",
       "      <td>1.026955e+07</td>\n",
       "      <td>5.672547e+91</td>\n",
       "      <td>1.469835e+95</td>\n",
       "      <td>3.802502e+14</td>\n",
       "      <td>3.179040e+18</td>\n",
       "      <td>1.464616</td>\n",
       "      <td>3.140354</td>\n",
       "      <td>0.328342</td>\n",
       "      <td>0.837502</td>\n",
       "    </tr>\n",
       "    <tr>\n",
       "      <th>std</th>\n",
       "      <td>1817.151939</td>\n",
       "      <td>2.622364e+05</td>\n",
       "      <td>4.493388e+93</td>\n",
       "      <td>6.812509e+96</td>\n",
       "      <td>7.871190e+12</td>\n",
       "      <td>1.059711e+19</td>\n",
       "      <td>0.884592</td>\n",
       "      <td>1.785473</td>\n",
       "      <td>0.469647</td>\n",
       "      <td>0.368936</td>\n",
       "    </tr>\n",
       "    <tr>\n",
       "      <th>min</th>\n",
       "      <td>0.000000</td>\n",
       "      <td>9.800147e+06</td>\n",
       "      <td>2.651900e+04</td>\n",
       "      <td>2.957900e+04</td>\n",
       "      <td>3.710000e+14</td>\n",
       "      <td>2.060000e+14</td>\n",
       "      <td>1.000000</td>\n",
       "      <td>1.000000</td>\n",
       "      <td>0.000000</td>\n",
       "      <td>0.000000</td>\n",
       "    </tr>\n",
       "    <tr>\n",
       "      <th>25%</th>\n",
       "      <td>1569.000000</td>\n",
       "      <td>1.000072e+07</td>\n",
       "      <td>2.650000e+14</td>\n",
       "      <td>2.650000e+14</td>\n",
       "      <td>3.710000e+14</td>\n",
       "      <td>2.640000e+14</td>\n",
       "      <td>1.000000</td>\n",
       "      <td>2.000000</td>\n",
       "      <td>0.000000</td>\n",
       "      <td>1.000000</td>\n",
       "    </tr>\n",
       "    <tr>\n",
       "      <th>50%</th>\n",
       "      <td>3138.000000</td>\n",
       "      <td>1.030058e+07</td>\n",
       "      <td>3.410000e+14</td>\n",
       "      <td>3.420000e+14</td>\n",
       "      <td>3.850000e+14</td>\n",
       "      <td>3.410000e+14</td>\n",
       "      <td>1.000000</td>\n",
       "      <td>3.000000</td>\n",
       "      <td>0.000000</td>\n",
       "      <td>1.000000</td>\n",
       "    </tr>\n",
       "    <tr>\n",
       "      <th>75%</th>\n",
       "      <td>4713.000000</td>\n",
       "      <td>1.050046e+07</td>\n",
       "      <td>4.060000e+14</td>\n",
       "      <td>4.060000e+14</td>\n",
       "      <td>3.850000e+14</td>\n",
       "      <td>3.720000e+14</td>\n",
       "      <td>2.000000</td>\n",
       "      <td>4.000000</td>\n",
       "      <td>1.000000</td>\n",
       "      <td>1.000000</td>\n",
       "    </tr>\n",
       "    <tr>\n",
       "      <th>max</th>\n",
       "      <td>6293.000000</td>\n",
       "      <td>1.070014e+07</td>\n",
       "      <td>3.560000e+95</td>\n",
       "      <td>3.600000e+98</td>\n",
       "      <td>3.900000e+14</td>\n",
       "      <td>3.850000e+19</td>\n",
       "      <td>24.000000</td>\n",
       "      <td>33.000000</td>\n",
       "      <td>1.000000</td>\n",
       "      <td>1.000000</td>\n",
       "    </tr>\n",
       "  </tbody>\n",
       "</table>\n",
       "</div>"
      ],
      "text/plain": [
       "        Unnamed: 0            id          name           對照人            主席  \\\n",
       "count  6277.000000  6.277000e+03  6.277000e+03  6.271000e+03  6.251000e+03   \n",
       "mean   3141.780628  1.026955e+07  5.672547e+91  1.469835e+95  3.802502e+14   \n",
       "std    1817.151939  2.622364e+05  4.493388e+93  6.812509e+96  7.871190e+12   \n",
       "min       0.000000  9.800147e+06  2.651900e+04  2.957900e+04  3.710000e+14   \n",
       "25%    1569.000000  1.000072e+07  2.650000e+14  2.650000e+14  3.710000e+14   \n",
       "50%    3138.000000  1.030058e+07  3.410000e+14  3.420000e+14  3.850000e+14   \n",
       "75%    4713.000000  1.050046e+07  4.060000e+14  4.060000e+14  3.850000e+14   \n",
       "max    6293.000000  1.070014e+07  3.560000e+95  3.600000e+98  3.900000e+14   \n",
       "\n",
       "             people         調解次數         調解人數   have_other         縣市合併  \n",
       "count  4.881000e+03  6274.000000  6277.000000  6277.000000  6277.000000  \n",
       "mean   3.179040e+18     1.464616     3.140354     0.328342     0.837502  \n",
       "std    1.059711e+19     0.884592     1.785473     0.469647     0.368936  \n",
       "min    2.060000e+14     1.000000     1.000000     0.000000     0.000000  \n",
       "25%    2.640000e+14     1.000000     2.000000     0.000000     1.000000  \n",
       "50%    3.410000e+14     1.000000     3.000000     0.000000     1.000000  \n",
       "75%    3.720000e+14     2.000000     4.000000     1.000000     1.000000  \n",
       "max    3.850000e+19    24.000000    33.000000     1.000000     1.000000  "
      ]
     },
     "execution_count": 5,
     "metadata": {},
     "output_type": "execute_result"
    }
   ],
   "source": [
    "train_df.describe()"
   ]
  },
  {
   "cell_type": "code",
   "execution_count": 6,
   "metadata": {
    "collapsed": false
   },
   "outputs": [
    {
     "data": {
      "text/html": [
       "<div>\n",
       "<table border=\"1\" class=\"dataframe\">\n",
       "  <thead>\n",
       "    <tr style=\"text-align: right;\">\n",
       "      <th></th>\n",
       "      <th>Unnamed: 0</th>\n",
       "      <th>id</th>\n",
       "      <th>name</th>\n",
       "      <th>對照人</th>\n",
       "      <th>主席</th>\n",
       "      <th>people</th>\n",
       "      <th>調解次數</th>\n",
       "      <th>調解人數</th>\n",
       "      <th>have_other</th>\n",
       "      <th>縣市合併</th>\n",
       "    </tr>\n",
       "  </thead>\n",
       "  <tbody>\n",
       "    <tr>\n",
       "      <th>Unnamed: 0</th>\n",
       "      <td>1.000000</td>\n",
       "      <td>0.984876</td>\n",
       "      <td>0.011837</td>\n",
       "      <td>-0.001737</td>\n",
       "      <td>-0.911305</td>\n",
       "      <td>-0.057375</td>\n",
       "      <td>-0.084035</td>\n",
       "      <td>-0.029792</td>\n",
       "      <td>0.032234</td>\n",
       "      <td>0.637676</td>\n",
       "    </tr>\n",
       "    <tr>\n",
       "      <th>id</th>\n",
       "      <td>0.984876</td>\n",
       "      <td>1.000000</td>\n",
       "      <td>0.011121</td>\n",
       "      <td>-0.002281</td>\n",
       "      <td>-0.884550</td>\n",
       "      <td>-0.057837</td>\n",
       "      <td>-0.078738</td>\n",
       "      <td>-0.021440</td>\n",
       "      <td>0.030596</td>\n",
       "      <td>0.688910</td>\n",
       "    </tr>\n",
       "    <tr>\n",
       "      <th>name</th>\n",
       "      <td>0.011837</td>\n",
       "      <td>0.011121</td>\n",
       "      <td>0.000000</td>\n",
       "      <td>-0.000000</td>\n",
       "      <td>-0.014866</td>\n",
       "      <td>0.047717</td>\n",
       "      <td>0.007641</td>\n",
       "      <td>-0.000990</td>\n",
       "      <td>-0.008822</td>\n",
       "      <td>0.005557</td>\n",
       "    </tr>\n",
       "    <tr>\n",
       "      <th>對照人</th>\n",
       "      <td>-0.001737</td>\n",
       "      <td>-0.002281</td>\n",
       "      <td>-0.000000</td>\n",
       "      <td>0.000000</td>\n",
       "      <td>0.003506</td>\n",
       "      <td>-0.005959</td>\n",
       "      <td>0.010095</td>\n",
       "      <td>0.094115</td>\n",
       "      <td>0.030664</td>\n",
       "      <td>0.009510</td>\n",
       "    </tr>\n",
       "    <tr>\n",
       "      <th>主席</th>\n",
       "      <td>-0.911305</td>\n",
       "      <td>-0.884550</td>\n",
       "      <td>-0.014866</td>\n",
       "      <td>0.003506</td>\n",
       "      <td>1.000000</td>\n",
       "      <td>0.051441</td>\n",
       "      <td>0.075239</td>\n",
       "      <td>0.044996</td>\n",
       "      <td>-0.026098</td>\n",
       "      <td>-0.543665</td>\n",
       "    </tr>\n",
       "    <tr>\n",
       "      <th>people</th>\n",
       "      <td>-0.057375</td>\n",
       "      <td>-0.057837</td>\n",
       "      <td>0.047717</td>\n",
       "      <td>-0.005959</td>\n",
       "      <td>0.051441</td>\n",
       "      <td>1.000000</td>\n",
       "      <td>0.010421</td>\n",
       "      <td>-0.020318</td>\n",
       "      <td>-0.016632</td>\n",
       "      <td>-0.051110</td>\n",
       "    </tr>\n",
       "    <tr>\n",
       "      <th>調解次數</th>\n",
       "      <td>-0.084035</td>\n",
       "      <td>-0.078738</td>\n",
       "      <td>0.007641</td>\n",
       "      <td>0.010095</td>\n",
       "      <td>0.075239</td>\n",
       "      <td>0.010421</td>\n",
       "      <td>1.000000</td>\n",
       "      <td>0.115864</td>\n",
       "      <td>0.104137</td>\n",
       "      <td>-0.030812</td>\n",
       "    </tr>\n",
       "    <tr>\n",
       "      <th>調解人數</th>\n",
       "      <td>-0.029792</td>\n",
       "      <td>-0.021440</td>\n",
       "      <td>-0.000990</td>\n",
       "      <td>0.094115</td>\n",
       "      <td>0.044996</td>\n",
       "      <td>-0.020318</td>\n",
       "      <td>0.115864</td>\n",
       "      <td>1.000000</td>\n",
       "      <td>0.573040</td>\n",
       "      <td>0.070428</td>\n",
       "    </tr>\n",
       "    <tr>\n",
       "      <th>have_other</th>\n",
       "      <td>0.032234</td>\n",
       "      <td>0.030596</td>\n",
       "      <td>-0.008822</td>\n",
       "      <td>0.030664</td>\n",
       "      <td>-0.026098</td>\n",
       "      <td>-0.016632</td>\n",
       "      <td>0.104137</td>\n",
       "      <td>0.573040</td>\n",
       "      <td>1.000000</td>\n",
       "      <td>0.042217</td>\n",
       "    </tr>\n",
       "    <tr>\n",
       "      <th>縣市合併</th>\n",
       "      <td>0.637676</td>\n",
       "      <td>0.688910</td>\n",
       "      <td>0.005557</td>\n",
       "      <td>0.009510</td>\n",
       "      <td>-0.543665</td>\n",
       "      <td>-0.051110</td>\n",
       "      <td>-0.030812</td>\n",
       "      <td>0.070428</td>\n",
       "      <td>0.042217</td>\n",
       "      <td>1.000000</td>\n",
       "    </tr>\n",
       "  </tbody>\n",
       "</table>\n",
       "</div>"
      ],
      "text/plain": [
       "            Unnamed: 0        id      name       對照人        主席    people  \\\n",
       "Unnamed: 0    1.000000  0.984876  0.011837 -0.001737 -0.911305 -0.057375   \n",
       "id            0.984876  1.000000  0.011121 -0.002281 -0.884550 -0.057837   \n",
       "name          0.011837  0.011121  0.000000 -0.000000 -0.014866  0.047717   \n",
       "對照人          -0.001737 -0.002281 -0.000000  0.000000  0.003506 -0.005959   \n",
       "主席           -0.911305 -0.884550 -0.014866  0.003506  1.000000  0.051441   \n",
       "people       -0.057375 -0.057837  0.047717 -0.005959  0.051441  1.000000   \n",
       "調解次數         -0.084035 -0.078738  0.007641  0.010095  0.075239  0.010421   \n",
       "調解人數         -0.029792 -0.021440 -0.000990  0.094115  0.044996 -0.020318   \n",
       "have_other    0.032234  0.030596 -0.008822  0.030664 -0.026098 -0.016632   \n",
       "縣市合併          0.637676  0.688910  0.005557  0.009510 -0.543665 -0.051110   \n",
       "\n",
       "                調解次數      調解人數  have_other      縣市合併  \n",
       "Unnamed: 0 -0.084035 -0.029792    0.032234  0.637676  \n",
       "id         -0.078738 -0.021440    0.030596  0.688910  \n",
       "name        0.007641 -0.000990   -0.008822  0.005557  \n",
       "對照人         0.010095  0.094115    0.030664  0.009510  \n",
       "主席          0.075239  0.044996   -0.026098 -0.543665  \n",
       "people      0.010421 -0.020318   -0.016632 -0.051110  \n",
       "調解次數        1.000000  0.115864    0.104137 -0.030812  \n",
       "調解人數        0.115864  1.000000    0.573040  0.070428  \n",
       "have_other  0.104137  0.573040    1.000000  0.042217  \n",
       "縣市合併       -0.030812  0.070428    0.042217  1.000000  "
      ]
     },
     "execution_count": 6,
     "metadata": {},
     "output_type": "execute_result"
    }
   ],
   "source": [
    "train_df.corr()"
   ]
  },
  {
   "cell_type": "code",
   "execution_count": 7,
   "metadata": {
    "collapsed": false
   },
   "outputs": [
    {
     "data": {
      "text/html": [
       "<div>\n",
       "<table border=\"1\" class=\"dataframe\">\n",
       "  <thead>\n",
       "    <tr style=\"text-align: right;\">\n",
       "      <th></th>\n",
       "      <th>Unnamed: 0</th>\n",
       "      <th>id</th>\n",
       "      <th>收件日期</th>\n",
       "      <th>收件時間</th>\n",
       "      <th>結案日期</th>\n",
       "      <th>結案時間</th>\n",
       "      <th>協調開會方式</th>\n",
       "      <th>案件大類型</th>\n",
       "      <th>案件細節類型</th>\n",
       "      <th>name</th>\n",
       "      <th>...</th>\n",
       "      <th>people</th>\n",
       "      <th>是否成立</th>\n",
       "      <th>和解條件</th>\n",
       "      <th>調解現況</th>\n",
       "      <th>調解次數</th>\n",
       "      <th>調解人數</th>\n",
       "      <th>have_other</th>\n",
       "      <th>調解天數</th>\n",
       "      <th>縣市合併</th>\n",
       "      <th>調解內容與決議</th>\n",
       "    </tr>\n",
       "  </thead>\n",
       "  <tbody>\n",
       "    <tr>\n",
       "      <th>0</th>\n",
       "      <td>0</td>\n",
       "      <td>9800147</td>\n",
       "      <td>2009/3/19</td>\n",
       "      <td>10:48</td>\n",
       "      <td>2009/3/19</td>\n",
       "      <td>15:00</td>\n",
       "      <td>獨任</td>\n",
       "      <td>A.民事</td>\n",
       "      <td>損害賠償</td>\n",
       "      <td>3.560000e+14</td>\n",
       "      <td>...</td>\n",
       "      <td>3.230000e+14</td>\n",
       "      <td>當事人不到場</td>\n",
       "      <td>NaN</td>\n",
       "      <td>調解書已歸檔。</td>\n",
       "      <td>1.0</td>\n",
       "      <td>3</td>\n",
       "      <td>0</td>\n",
       "      <td>1</td>\n",
       "      <td>0</td>\n",
       "      <td>民國〈下同〉97年12月6日下午6時30分許，OOO駕駛皇冠交通股份有限公司所有（車號：99...</td>\n",
       "    </tr>\n",
       "    <tr>\n",
       "      <th>1</th>\n",
       "      <td>1</td>\n",
       "      <td>9800150</td>\n",
       "      <td>2009/3/19</td>\n",
       "      <td>19:49</td>\n",
       "      <td>2009/5/5</td>\n",
       "      <td>14:30</td>\n",
       "      <td>獨任</td>\n",
       "      <td>B.刑事</td>\n",
       "      <td>車禍傷害糾紛</td>\n",
       "      <td>2.680000e+21</td>\n",
       "      <td>...</td>\n",
       "      <td>3.850000e+14</td>\n",
       "      <td>成立</td>\n",
       "      <td>NaN</td>\n",
       "      <td>調解書已歸檔。</td>\n",
       "      <td>2.0</td>\n",
       "      <td>5</td>\n",
       "      <td>1</td>\n",
       "      <td>34</td>\n",
       "      <td>0</td>\n",
       "      <td>民國〈下同〉98年2月7日0時5分許，第3人XXX騎乘本人CE7－063號機車搭載梁信瑋與陳...</td>\n",
       "    </tr>\n",
       "    <tr>\n",
       "      <th>2</th>\n",
       "      <td>2</td>\n",
       "      <td>9800151</td>\n",
       "      <td>2009/3/23</td>\n",
       "      <td>08:50</td>\n",
       "      <td>2009/4/14</td>\n",
       "      <td>15:30</td>\n",
       "      <td>NaN</td>\n",
       "      <td>A.民事</td>\n",
       "      <td>車禍損害賠償</td>\n",
       "      <td>2.780000e+14</td>\n",
       "      <td>...</td>\n",
       "      <td>NaN</td>\n",
       "      <td>當事人不到場</td>\n",
       "      <td>NaN</td>\n",
       "      <td>調解書已歸檔。</td>\n",
       "      <td>2.0</td>\n",
       "      <td>3</td>\n",
       "      <td>0</td>\n",
       "      <td>17</td>\n",
       "      <td>0</td>\n",
       "      <td>民國〈下同〉98年1月25日19時45分許，汪國全騎乘本人所有981－CBS號機車，在臺南市...</td>\n",
       "    </tr>\n",
       "    <tr>\n",
       "      <th>3</th>\n",
       "      <td>3</td>\n",
       "      <td>9800152</td>\n",
       "      <td>2009/3/23</td>\n",
       "      <td>08:55</td>\n",
       "      <td>2009/3/31</td>\n",
       "      <td>15:00</td>\n",
       "      <td>獨任</td>\n",
       "      <td>B.刑事</td>\n",
       "      <td>車禍傷害糾紛</td>\n",
       "      <td>3.410000e+14</td>\n",
       "      <td>...</td>\n",
       "      <td>3.040000e+14</td>\n",
       "      <td>聲請人撤回</td>\n",
       "      <td>NaN</td>\n",
       "      <td>調解書已歸檔。</td>\n",
       "      <td>1.0</td>\n",
       "      <td>3</td>\n",
       "      <td>0</td>\n",
       "      <td>7</td>\n",
       "      <td>0</td>\n",
       "      <td>民國〈下同〉98年2月12日9時49分許，謝天智駕駛OOO所有N8－0250號自小客車，在臺...</td>\n",
       "    </tr>\n",
       "    <tr>\n",
       "      <th>4</th>\n",
       "      <td>4</td>\n",
       "      <td>9800153</td>\n",
       "      <td>2009/3/23</td>\n",
       "      <td>08:59</td>\n",
       "      <td>2009/4/16</td>\n",
       "      <td>15:00</td>\n",
       "      <td>NaN</td>\n",
       "      <td>A.民事</td>\n",
       "      <td>財務糾紛</td>\n",
       "      <td>2.960000e+14</td>\n",
       "      <td>...</td>\n",
       "      <td>NaN</td>\n",
       "      <td>當事人不到場</td>\n",
       "      <td>NaN</td>\n",
       "      <td>調解書已歸檔。</td>\n",
       "      <td>2.0</td>\n",
       "      <td>2</td>\n",
       "      <td>0</td>\n",
       "      <td>19</td>\n",
       "      <td>0</td>\n",
       "      <td>雙方因合夥投資，辦理企業貸款及退股爭議申請調解，經調解結果如下：</td>\n",
       "    </tr>\n",
       "    <tr>\n",
       "      <th>5</th>\n",
       "      <td>5</td>\n",
       "      <td>9800154</td>\n",
       "      <td>2009/3/19</td>\n",
       "      <td>09:32</td>\n",
       "      <td>2009/4/28</td>\n",
       "      <td>14:30</td>\n",
       "      <td>NaN</td>\n",
       "      <td>B.刑事</td>\n",
       "      <td>車禍傷害糾紛</td>\n",
       "      <td>3.040000e+14</td>\n",
       "      <td>...</td>\n",
       "      <td>NaN</td>\n",
       "      <td>聲請人撤回</td>\n",
       "      <td>NaN</td>\n",
       "      <td>調解書已歸檔。</td>\n",
       "      <td>2.0</td>\n",
       "      <td>3</td>\n",
       "      <td>0</td>\n",
       "      <td>29</td>\n",
       "      <td>0</td>\n",
       "      <td>民國〈下同〉98年3月4日21時15分許，聲請人OOO騎乘本人所有TLM－290號機車搭載王...</td>\n",
       "    </tr>\n",
       "    <tr>\n",
       "      <th>6</th>\n",
       "      <td>6</td>\n",
       "      <td>9800157</td>\n",
       "      <td>2009/3/27</td>\n",
       "      <td>14:34</td>\n",
       "      <td>2009/6/9</td>\n",
       "      <td>14:00</td>\n",
       "      <td>獨任</td>\n",
       "      <td>B.刑事</td>\n",
       "      <td>車禍傷害糾紛</td>\n",
       "      <td>2.160000e+14</td>\n",
       "      <td>...</td>\n",
       "      <td>3.850000e+14</td>\n",
       "      <td>成立</td>\n",
       "      <td>NaN</td>\n",
       "      <td>調解書已歸檔。</td>\n",
       "      <td>6.0</td>\n",
       "      <td>3</td>\n",
       "      <td>1</td>\n",
       "      <td>53</td>\n",
       "      <td>0</td>\n",
       "      <td>民國〈下同〉97年12月18日9時55分許，OOO騎乘（車號：NM2－716號）機車與XXX...</td>\n",
       "    </tr>\n",
       "    <tr>\n",
       "      <th>7</th>\n",
       "      <td>7</td>\n",
       "      <td>9800158</td>\n",
       "      <td>2009/3/27</td>\n",
       "      <td>15:41</td>\n",
       "      <td>2009/4/2</td>\n",
       "      <td>14:30</td>\n",
       "      <td>獨任</td>\n",
       "      <td>A.民事</td>\n",
       "      <td>債務糾紛</td>\n",
       "      <td>4.060000e+14</td>\n",
       "      <td>...</td>\n",
       "      <td>3.230000e+14</td>\n",
       "      <td>當事人不到場</td>\n",
       "      <td>NaN</td>\n",
       "      <td>調解書已歸檔。</td>\n",
       "      <td>1.0</td>\n",
       "      <td>2</td>\n",
       "      <td>0</td>\n",
       "      <td>5</td>\n",
       "      <td>0</td>\n",
       "      <td>聲請人指稱XXX93年間，向聲請人借款新台幣壹拾貳萬捌佰元，經臺灣臺南地方法院94年9月7日...</td>\n",
       "    </tr>\n",
       "    <tr>\n",
       "      <th>8</th>\n",
       "      <td>8</td>\n",
       "      <td>9800159</td>\n",
       "      <td>2009/3/27</td>\n",
       "      <td>16:17</td>\n",
       "      <td>2009/5/21</td>\n",
       "      <td>15:00</td>\n",
       "      <td>獨任</td>\n",
       "      <td>B.刑事</td>\n",
       "      <td>毀損糾紛</td>\n",
       "      <td>3.560000e+14</td>\n",
       "      <td>...</td>\n",
       "      <td>3.230000e+14</td>\n",
       "      <td>不成立</td>\n",
       "      <td>NaN</td>\n",
       "      <td>調解書已歸檔。</td>\n",
       "      <td>2.0</td>\n",
       "      <td>3</td>\n",
       "      <td>0</td>\n",
       "      <td>40</td>\n",
       "      <td>0</td>\n",
       "      <td>OOO指稱98年1月21日19時在台南市開元路73巷66之7號其所有之電動車損壞，與王俊能、...</td>\n",
       "    </tr>\n",
       "    <tr>\n",
       "      <th>9</th>\n",
       "      <td>9</td>\n",
       "      <td>9800160</td>\n",
       "      <td>2009/3/27</td>\n",
       "      <td>16:40</td>\n",
       "      <td>2009/4/2</td>\n",
       "      <td>15:00</td>\n",
       "      <td>NaN</td>\n",
       "      <td>A.民事</td>\n",
       "      <td>損害賠償</td>\n",
       "      <td>2.650000e+14</td>\n",
       "      <td>...</td>\n",
       "      <td>NaN</td>\n",
       "      <td>聲請人撤回</td>\n",
       "      <td>NaN</td>\n",
       "      <td>調解書已歸檔。</td>\n",
       "      <td>1.0</td>\n",
       "      <td>2</td>\n",
       "      <td>0</td>\n",
       "      <td>5</td>\n",
       "      <td>0</td>\n",
       "      <td>NaN</td>\n",
       "    </tr>\n",
       "  </tbody>\n",
       "</table>\n",
       "<p>10 rows × 22 columns</p>\n",
       "</div>"
      ],
      "text/plain": [
       "   Unnamed: 0       id       收件日期   收件時間       結案日期   結案時間 協調開會方式 案件大類型  \\\n",
       "0           0  9800147  2009/3/19  10:48  2009/3/19  15:00     獨任  A.民事   \n",
       "1           1  9800150  2009/3/19  19:49   2009/5/5  14:30     獨任  B.刑事   \n",
       "2           2  9800151  2009/3/23  08:50  2009/4/14  15:30    NaN  A.民事   \n",
       "3           3  9800152  2009/3/23  08:55  2009/3/31  15:00     獨任  B.刑事   \n",
       "4           4  9800153  2009/3/23  08:59  2009/4/16  15:00    NaN  A.民事   \n",
       "5           5  9800154  2009/3/19  09:32  2009/4/28  14:30    NaN  B.刑事   \n",
       "6           6  9800157  2009/3/27  14:34   2009/6/9  14:00     獨任  B.刑事   \n",
       "7           7  9800158  2009/3/27  15:41   2009/4/2  14:30     獨任  A.民事   \n",
       "8           8  9800159  2009/3/27  16:17  2009/5/21  15:00     獨任  B.刑事   \n",
       "9           9  9800160  2009/3/27  16:40   2009/4/2  15:00    NaN  A.民事   \n",
       "\n",
       "   案件細節類型          name                        ...                          \\\n",
       "0    損害賠償  3.560000e+14                        ...                           \n",
       "1  車禍傷害糾紛  2.680000e+21                        ...                           \n",
       "2  車禍損害賠償  2.780000e+14                        ...                           \n",
       "3  車禍傷害糾紛  3.410000e+14                        ...                           \n",
       "4    財務糾紛  2.960000e+14                        ...                           \n",
       "5  車禍傷害糾紛  3.040000e+14                        ...                           \n",
       "6  車禍傷害糾紛  2.160000e+14                        ...                           \n",
       "7    債務糾紛  4.060000e+14                        ...                           \n",
       "8    毀損糾紛  3.560000e+14                        ...                           \n",
       "9    損害賠償  2.650000e+14                        ...                           \n",
       "\n",
       "         people    是否成立  和解條件     調解現況 調解次數 調解人數  have_other  調解天數  縣市合併  \\\n",
       "0  3.230000e+14  當事人不到場   NaN  調解書已歸檔。  1.0    3           0     1     0   \n",
       "1  3.850000e+14      成立   NaN  調解書已歸檔。  2.0    5           1    34     0   \n",
       "2           NaN  當事人不到場   NaN  調解書已歸檔。  2.0    3           0    17     0   \n",
       "3  3.040000e+14   聲請人撤回   NaN  調解書已歸檔。  1.0    3           0     7     0   \n",
       "4           NaN  當事人不到場   NaN  調解書已歸檔。  2.0    2           0    19     0   \n",
       "5           NaN   聲請人撤回   NaN  調解書已歸檔。  2.0    3           0    29     0   \n",
       "6  3.850000e+14      成立   NaN  調解書已歸檔。  6.0    3           1    53     0   \n",
       "7  3.230000e+14  當事人不到場   NaN  調解書已歸檔。  1.0    2           0     5     0   \n",
       "8  3.230000e+14     不成立   NaN  調解書已歸檔。  2.0    3           0    40     0   \n",
       "9           NaN   聲請人撤回   NaN  調解書已歸檔。  1.0    2           0     5     0   \n",
       "\n",
       "                                             調解內容與決議  \n",
       "0  民國〈下同〉97年12月6日下午6時30分許，OOO駕駛皇冠交通股份有限公司所有（車號：99...  \n",
       "1  民國〈下同〉98年2月7日0時5分許，第3人XXX騎乘本人CE7－063號機車搭載梁信瑋與陳...  \n",
       "2  民國〈下同〉98年1月25日19時45分許，汪國全騎乘本人所有981－CBS號機車，在臺南市...  \n",
       "3  民國〈下同〉98年2月12日9時49分許，謝天智駕駛OOO所有N8－0250號自小客車，在臺...  \n",
       "4                   雙方因合夥投資，辦理企業貸款及退股爭議申請調解，經調解結果如下：  \n",
       "5  民國〈下同〉98年3月4日21時15分許，聲請人OOO騎乘本人所有TLM－290號機車搭載王...  \n",
       "6  民國〈下同〉97年12月18日9時55分許，OOO騎乘（車號：NM2－716號）機車與XXX...  \n",
       "7  聲請人指稱XXX93年間，向聲請人借款新台幣壹拾貳萬捌佰元，經臺灣臺南地方法院94年9月7日...  \n",
       "8  OOO指稱98年1月21日19時在台南市開元路73巷66之7號其所有之電動車損壞，與王俊能、...  \n",
       "9                                                NaN  \n",
       "\n",
       "[10 rows x 22 columns]"
      ]
     },
     "execution_count": 7,
     "metadata": {},
     "output_type": "execute_result"
    }
   ],
   "source": [
    "train_df.head(10)"
   ]
  },
  {
   "cell_type": "code",
   "execution_count": 8,
   "metadata": {
    "collapsed": false
   },
   "outputs": [
    {
     "name": "stdout",
     "output_type": "stream",
     "text": [
      "True\n"
     ]
    }
   ],
   "source": [
    "print(np.any(train_df.isnull()) == True)"
   ]
  },
  {
   "cell_type": "code",
   "execution_count": 9,
   "metadata": {
    "collapsed": false
   },
   "outputs": [],
   "source": [
    "train_comments = train_df['調解內容與決議'].fillna('no comment').values\n",
    "train_comments_lengths = [len(str(s)) for s in train_comments]"
   ]
  },
  {
   "cell_type": "code",
   "execution_count": 10,
   "metadata": {
    "collapsed": false
   },
   "outputs": [
    {
     "name": "stdout",
     "output_type": "stream",
     "text": [
      "------Train------\n",
      "MAX LENGTH:\t\t 1041\n",
      "AVG LENGTH:\t\t 207.80277202485263\n",
      "MIN LENGTH:\t\t 5\n",
      "STANDARD DIVISION:\t 114.29728909040288\n",
      "RANGE:\t\t\t 5  to  436.3973502056584\n"
     ]
    }
   ],
   "source": [
    "def explore_comments(arr):\n",
    "    print(\"MAX LENGTH:\\t\\t\", np.max(arr))\n",
    "    print(\"AVG LENGTH:\\t\\t\", np.average(arr))\n",
    "    print(\"MIN LENGTH:\\t\\t\", np.min(arr))\n",
    "    print(\"STANDARD DIVISION:\\t\", np.std(arr))\n",
    "    print(\"RANGE:\\t\\t\\t\", np.min(arr), \" to \", np.average(arr) + 2 * np.std(arr))\n",
    "    \n",
    "print(\"------Train------\")\n",
    "explore_comments(train_comments_lengths)"
   ]
  },
  {
   "cell_type": "code",
   "execution_count": 11,
   "metadata": {
    "collapsed": false
   },
   "outputs": [
    {
     "name": "stdout",
     "output_type": "stream",
     "text": [
      "成立        3580\n",
      "不成立       1497\n",
      "當事人不到場     832\n",
      "聲請人撤回      347\n",
      "不受理         21\n",
      "Name: 是否成立, dtype: int64\n"
     ]
    }
   ],
   "source": [
    "print(train_df['是否成立'].value_counts())"
   ]
  },
  {
   "cell_type": "code",
   "execution_count": 12,
   "metadata": {
    "collapsed": false
   },
   "outputs": [
    {
     "data": {
      "image/png": "[encoded data removed]",
      "text/plain": [
       "<matplotlib.figure.Figure at 0x273a5f4e400>"
      ]
     },
     "metadata": {},
     "output_type": "display_data"
    }
   ],
   "source": [
    "sns.set()\n",
    "pd.Series(train_comments_lengths).astype(int).hist()\n",
    "plt.show()"
   ]
  },
  {
   "cell_type": "markdown",
   "metadata": {},
   "source": [
    "# Data Cleaning"
   ]
  },
  {
   "cell_type": "markdown",
   "metadata": {},
   "source": [
    "## Transfer Lable to One-hot"
   ]
  },
  {
   "cell_type": "code",
   "execution_count": 13,
   "metadata": {
    "collapsed": false
   },
   "outputs": [
    {
     "data": {
      "text/html": [
       "<div>\n",
       "<table border=\"1\" class=\"dataframe\">\n",
       "  <thead>\n",
       "    <tr style=\"text-align: right;\">\n",
       "      <th></th>\n",
       "      <th>Unnamed: 0</th>\n",
       "      <th>id</th>\n",
       "      <th>收件日期</th>\n",
       "      <th>收件時間</th>\n",
       "      <th>結案日期</th>\n",
       "      <th>結案時間</th>\n",
       "      <th>協調開會方式</th>\n",
       "      <th>案件大類型</th>\n",
       "      <th>案件細節類型</th>\n",
       "      <th>name</th>\n",
       "      <th>...</th>\n",
       "      <th>調解人數</th>\n",
       "      <th>have_other</th>\n",
       "      <th>調解天數</th>\n",
       "      <th>縣市合併</th>\n",
       "      <th>調解內容與決議</th>\n",
       "      <th>不受理</th>\n",
       "      <th>不成立</th>\n",
       "      <th>成立</th>\n",
       "      <th>當事人不到場</th>\n",
       "      <th>聲請人撤回</th>\n",
       "    </tr>\n",
       "  </thead>\n",
       "  <tbody>\n",
       "    <tr>\n",
       "      <th>0</th>\n",
       "      <td>0</td>\n",
       "      <td>9800147</td>\n",
       "      <td>2009/3/19</td>\n",
       "      <td>10:48</td>\n",
       "      <td>2009/3/19</td>\n",
       "      <td>15:00</td>\n",
       "      <td>獨任</td>\n",
       "      <td>A.民事</td>\n",
       "      <td>損害賠償</td>\n",
       "      <td>3.560000e+14</td>\n",
       "      <td>...</td>\n",
       "      <td>3</td>\n",
       "      <td>0</td>\n",
       "      <td>1</td>\n",
       "      <td>0</td>\n",
       "      <td>民國〈下同〉97年12月6日下午6時30分許，OOO駕駛皇冠交通股份有限公司所有（車號：99...</td>\n",
       "      <td>0</td>\n",
       "      <td>0</td>\n",
       "      <td>0</td>\n",
       "      <td>1</td>\n",
       "      <td>0</td>\n",
       "    </tr>\n",
       "    <tr>\n",
       "      <th>1</th>\n",
       "      <td>1</td>\n",
       "      <td>9800150</td>\n",
       "      <td>2009/3/19</td>\n",
       "      <td>19:49</td>\n",
       "      <td>2009/5/5</td>\n",
       "      <td>14:30</td>\n",
       "      <td>獨任</td>\n",
       "      <td>B.刑事</td>\n",
       "      <td>車禍傷害糾紛</td>\n",
       "      <td>2.680000e+21</td>\n",
       "      <td>...</td>\n",
       "      <td>5</td>\n",
       "      <td>1</td>\n",
       "      <td>34</td>\n",
       "      <td>0</td>\n",
       "      <td>民國〈下同〉98年2月7日0時5分許，第3人XXX騎乘本人CE7－063號機車搭載梁信瑋與陳...</td>\n",
       "      <td>0</td>\n",
       "      <td>0</td>\n",
       "      <td>1</td>\n",
       "      <td>0</td>\n",
       "      <td>0</td>\n",
       "    </tr>\n",
       "    <tr>\n",
       "      <th>2</th>\n",
       "      <td>2</td>\n",
       "      <td>9800151</td>\n",
       "      <td>2009/3/23</td>\n",
       "      <td>08:50</td>\n",
       "      <td>2009/4/14</td>\n",
       "      <td>15:30</td>\n",
       "      <td>NaN</td>\n",
       "      <td>A.民事</td>\n",
       "      <td>車禍損害賠償</td>\n",
       "      <td>2.780000e+14</td>\n",
       "      <td>...</td>\n",
       "      <td>3</td>\n",
       "      <td>0</td>\n",
       "      <td>17</td>\n",
       "      <td>0</td>\n",
       "      <td>民國〈下同〉98年1月25日19時45分許，汪國全騎乘本人所有981－CBS號機車，在臺南市...</td>\n",
       "      <td>0</td>\n",
       "      <td>0</td>\n",
       "      <td>0</td>\n",
       "      <td>1</td>\n",
       "      <td>0</td>\n",
       "    </tr>\n",
       "    <tr>\n",
       "      <th>3</th>\n",
       "      <td>3</td>\n",
       "      <td>9800152</td>\n",
       "      <td>2009/3/23</td>\n",
       "      <td>08:55</td>\n",
       "      <td>2009/3/31</td>\n",
       "      <td>15:00</td>\n",
       "      <td>獨任</td>\n",
       "      <td>B.刑事</td>\n",
       "      <td>車禍傷害糾紛</td>\n",
       "      <td>3.410000e+14</td>\n",
       "      <td>...</td>\n",
       "      <td>3</td>\n",
       "      <td>0</td>\n",
       "      <td>7</td>\n",
       "      <td>0</td>\n",
       "      <td>民國〈下同〉98年2月12日9時49分許，謝天智駕駛OOO所有N8－0250號自小客車，在臺...</td>\n",
       "      <td>0</td>\n",
       "      <td>0</td>\n",
       "      <td>0</td>\n",
       "      <td>0</td>\n",
       "      <td>1</td>\n",
       "    </tr>\n",
       "    <tr>\n",
       "      <th>4</th>\n",
       "      <td>4</td>\n",
       "      <td>9800153</td>\n",
       "      <td>2009/3/23</td>\n",
       "      <td>08:59</td>\n",
       "      <td>2009/4/16</td>\n",
       "      <td>15:00</td>\n",
       "      <td>NaN</td>\n",
       "      <td>A.民事</td>\n",
       "      <td>財務糾紛</td>\n",
       "      <td>2.960000e+14</td>\n",
       "      <td>...</td>\n",
       "      <td>2</td>\n",
       "      <td>0</td>\n",
       "      <td>19</td>\n",
       "      <td>0</td>\n",
       "      <td>雙方因合夥投資，辦理企業貸款及退股爭議申請調解，經調解結果如下：</td>\n",
       "      <td>0</td>\n",
       "      <td>0</td>\n",
       "      <td>0</td>\n",
       "      <td>1</td>\n",
       "      <td>0</td>\n",
       "    </tr>\n",
       "  </tbody>\n",
       "</table>\n",
       "<p>5 rows × 27 columns</p>\n",
       "</div>"
      ],
      "text/plain": [
       "   Unnamed: 0       id       收件日期   收件時間       結案日期   結案時間 協調開會方式 案件大類型  \\\n",
       "0           0  9800147  2009/3/19  10:48  2009/3/19  15:00     獨任  A.民事   \n",
       "1           1  9800150  2009/3/19  19:49   2009/5/5  14:30     獨任  B.刑事   \n",
       "2           2  9800151  2009/3/23  08:50  2009/4/14  15:30    NaN  A.民事   \n",
       "3           3  9800152  2009/3/23  08:55  2009/3/31  15:00     獨任  B.刑事   \n",
       "4           4  9800153  2009/3/23  08:59  2009/4/16  15:00    NaN  A.民事   \n",
       "\n",
       "   案件細節類型          name  ...   調解人數  have_other  調解天數 縣市合併  \\\n",
       "0    損害賠償  3.560000e+14  ...      3           0     1    0   \n",
       "1  車禍傷害糾紛  2.680000e+21  ...      5           1    34    0   \n",
       "2  車禍損害賠償  2.780000e+14  ...      3           0    17    0   \n",
       "3  車禍傷害糾紛  3.410000e+14  ...      3           0     7    0   \n",
       "4    財務糾紛  2.960000e+14  ...      2           0    19    0   \n",
       "\n",
       "                                             調解內容與決議 不受理  不成立  成立  當事人不到場  \\\n",
       "0  民國〈下同〉97年12月6日下午6時30分許，OOO駕駛皇冠交通股份有限公司所有（車號：99...   0    0   0       1   \n",
       "1  民國〈下同〉98年2月7日0時5分許，第3人XXX騎乘本人CE7－063號機車搭載梁信瑋與陳...   0    0   1       0   \n",
       "2  民國〈下同〉98年1月25日19時45分許，汪國全騎乘本人所有981－CBS號機車，在臺南市...   0    0   0       1   \n",
       "3  民國〈下同〉98年2月12日9時49分許，謝天智駕駛OOO所有N8－0250號自小客車，在臺...   0    0   0       0   \n",
       "4                   雙方因合夥投資，辦理企業貸款及退股爭議申請調解，經調解結果如下：   0    0   0       1   \n",
       "\n",
       "  聲請人撤回  \n",
       "0     0  \n",
       "1     0  \n",
       "2     0  \n",
       "3     1  \n",
       "4     0  \n",
       "\n",
       "[5 rows x 27 columns]"
      ]
     },
     "execution_count": 13,
     "metadata": {},
     "output_type": "execute_result"
    }
   ],
   "source": [
    "Score = train_df['是否成立']\n",
    "data = pd.get_dummies(Score)\n",
    "train_df = pd.concat([train_df, data], axis=1)\n",
    "train_df.head()"
   ]
  },
  {
   "cell_type": "code",
   "execution_count": 14,
   "metadata": {
    "collapsed": false
   },
   "outputs": [
    {
     "name": "stdout",
     "output_type": "stream",
     "text": [
      "<class 'pandas.core.frame.DataFrame'>\n",
      "RangeIndex: 6277 entries, 0 to 6276\n",
      "Data columns (total 27 columns):\n",
      "Unnamed: 0    6277 non-null int64\n",
      "id            6277 non-null int64\n",
      "收件日期          6277 non-null object\n",
      "收件時間          6277 non-null object\n",
      "結案日期          6220 non-null object\n",
      "結案時間          6220 non-null object\n",
      "協調開會方式        5251 non-null object\n",
      "案件大類型         6277 non-null object\n",
      "案件細節類型        6261 non-null object\n",
      "name          6277 non-null float64\n",
      "對照人           6271 non-null float64\n",
      "主席            6251 non-null float64\n",
      "people        4881 non-null float64\n",
      "是否成立          6277 non-null object\n",
      "和解條件          1649 non-null object\n",
      "調解現況          6277 non-null object\n",
      "調解次數          6274 non-null float64\n",
      "調解人數          6277 non-null int64\n",
      "have_other    6277 non-null int64\n",
      "調解天數          6277 non-null object\n",
      "縣市合併          6277 non-null int64\n",
      "調解內容與決議       5942 non-null object\n",
      "不受理           6277 non-null uint8\n",
      "不成立           6277 non-null uint8\n",
      "成立            6277 non-null uint8\n",
      "當事人不到場        6277 non-null uint8\n",
      "聲請人撤回         6277 non-null uint8\n",
      "dtypes: float64(5), int64(5), object(12), uint8(5)\n",
      "memory usage: 1.1+ MB\n"
     ]
    }
   ],
   "source": [
    "train_df.info()"
   ]
  },
  {
   "cell_type": "code",
   "execution_count": 15,
   "metadata": {
    "collapsed": false
   },
   "outputs": [
    {
     "data": {
      "image/png": "[encoded data removed]",
      "text/plain": [
       "<matplotlib.figure.Figure at 0x273a80784a8>"
      ]
     },
     "metadata": {},
     "output_type": "display_data"
    }
   ],
   "source": [
    "x = train_df.iloc[:, 22:].sum()\n",
    "\n",
    "plt.figure(figsize=(8, 4))\n",
    "ax = sns.barplot(x.index, x.values, alpha=0.8)\n",
    "plt.title(\"Summary\")\n",
    "plt.ylabel('Occurrences', fontsize=12)\n",
    "plt.xlabel('Results', fontsize=12)\n",
    "\n",
    "rects = ax.patches\n",
    "labels = x.values\n",
    "for rect, label in zip(rects, labels):\n",
    "    height = rect.get_height()\n",
    "    ax.text(rect.get_x() + rect.get_width() / 2, height + 5, ha='center', va='bottom', s='{:.1f}'.format(abs(label)))\n",
    "    \n",
    "plt.show()"
   ]
  },
  {
   "cell_type": "code",
   "execution_count": 16,
   "metadata": {
    "collapsed": false
   },
   "outputs": [
    {
     "data": {
      "text/plain": [
       "<matplotlib.axes._subplots.AxesSubplot at 0x273a8022da0>"
      ]
     },
     "execution_count": 16,
     "metadata": {},
     "output_type": "execute_result"
    },
    {
     "data": {
      "image/png": "[encoded data removed]",
      "text/plain": [
       "<matplotlib.figure.Figure at 0x273a80227f0>"
      ]
     },
     "metadata": {},
     "output_type": "display_data"
    }
   ],
   "source": [
    "colormap = plt.cm.plasma\n",
    "plt.figure(figsize=(10, 8))\n",
    "plt.title('Correlation of features', y=1.05, size=14)\n",
    "sns.heatmap(data.astype(float).corr(), linewidths=0.1, vmax=1.0, square=True, cmap=colormap, linecolor='white', annot=True)"
   ]
  },
  {
   "cell_type": "markdown",
   "metadata": {},
   "source": [
    "## Processing Clearning"
   ]
  },
  {
   "cell_type": "code",
   "execution_count": 17,
   "metadata": {
    "collapsed": true
   },
   "outputs": [],
   "source": [
    "def clean_text(text, remove_stopwords=False):\n",
    "    # remove url\n",
    "    text = re.sub(r\"(https?:\\/\\/)*(www\\.)?[-a-zA-Z0-9@:%._\\+~#=]{2,256}\\.[a-z]{2,6}\\b([-a-zA-Z0-9@:%_\\+.~#?&//=]*)\", \"\", text)\n",
    "    \n",
    "    # Special expressions\n",
    "    text = re.sub(r'〈下同〉', '', text)\n",
    "    text = re.sub(r'（車號：[a-zA-Z0-9－]*號）', '', text)\n",
    "    text = re.sub(r'（[\\' \\']*）', '', text)\n",
    "    text = re.sub(r'（下同）', '', text)\n",
    "    text = re.sub(r'\\\\r\\\\n[0-9a-zA-Z\\\\r\\\\n]*', '', text)\n",
    "    text = re.sub(r'(口)', '', text)\n",
    "    \n",
    "    text = re.sub(r',', '，', text)\n",
    "    text = re.sub(r'\\.+', '...', text)\n",
    "    text = re.sub(r'\\.{6}', '...', text)\n",
    "    text = re.sub(r'…', '...', text)\n",
    "    text = re.sub(r';', '；', text)\n",
    "    text = re.sub(r'°', '。', text)\n",
    "    text = re.sub(r'】', ']', text)\n",
    "    text = re.sub(r'【', '[', text)\n",
    "    text = re.sub(r'\\)', '\\）', text)\n",
    "    text = re.sub(r'\\(', '\\（', text)\n",
    "    text = re.sub(r'“', '\"', text)\n",
    "    text = re.sub(r' ', '', text)\n",
    "    text = re.sub(r'”', '\"', text)\n",
    "    text = re.sub(r'～', '~', text)\n",
    "    text = re.sub(r'·', '。', text)\n",
    "    text = re.sub(r'!', '！', text)\n",
    "    text = re.sub(r'—', '-', text)\n",
    "    text = re.sub(r'》', '\\）', text)\n",
    "    text = re.sub(r'《', '\\（', text)\n",
    "    text = re.sub(r'\\?', '\\？', text)\n",
    "    text = re.sub(r'。。。', '...', text)\n",
    "    text = re.sub(r'。。。。。。', '...', text)\n",
    "    text = re.sub(r':', '：', text)\n",
    "    \n",
    "    text = special_alpha_removal.sub('', text)\n",
    "    \n",
    "    return text\n",
    "\n",
    "# regex to remove all Non-Alpha Numeric and space\n",
    "special_character_removal = re.compile(r'[^a-z\\d ]', re.IGNORECASE)\n",
    "\n",
    "# regex to remove all Alpha Numeric and space\n",
    "special_alpha_removal = re.compile(r'[a-z\\d ]', re.IGNORECASE)\n",
    "\n",
    "# regex to replace all numeric\n",
    "replace_numbers = re.compile(r'\\d+', re.IGNORECASE)\n",
    "\n",
    "# regex to replace ###...\n",
    "replace_sharp = re.compile(r'[#]+', re.IGNORECASE)"
   ]
  },
  {
   "cell_type": "code",
   "execution_count": 18,
   "metadata": {
    "collapsed": false
   },
   "outputs": [
    {
     "name": "stdout",
     "output_type": "stream",
     "text": [
      "Processing data cleaning...\n",
      "Done!\n"
     ]
    }
   ],
   "source": [
    "cleaned_train_comments = []\n",
    "print('Processing data cleaning...')\n",
    "\n",
    "for text in train_comments:\n",
    "    cleaned_train_comments.append(clean_text(text))\n",
    "    \n",
    "train_df['cleaned_comments'] = cleaned_train_comments\n",
    "print('Done!')"
   ]
  },
  {
   "cell_type": "markdown",
   "metadata": {},
   "source": [
    "## Word segmentation analysis"
   ]
  },
  {
   "cell_type": "code",
   "execution_count": 19,
   "metadata": {
    "collapsed": false
   },
   "outputs": [
    {
     "name": "stderr",
     "output_type": "stream",
     "text": [
      "  0%|                                                                                         | 0/6277 [00:00<?, ?it/s]Building prefix dict from C:\\Users\\CZJ\\Desktop\\dict.txt.big.txt ...\n",
      "Loading model from cache C:\\Users\\CZJ\\AppData\\Local\\Temp\\jieba.u28d6904473ddf2ff282219392fdef7a7.cache\n",
      "Loading model cost 1.371 seconds.\n",
      "Prefix dict has been built succesfully.\n",
      "100%|█████████████████████████████████████████████████████████████████████████████| 6277/6277 [00:09<00:00, 630.83it/s]\n"
     ]
    },
    {
     "name": "stdout",
     "output_type": "stream",
     "text": [
      "25386\n"
     ]
    }
   ],
   "source": [
    "word_dict = defaultdict(int)\n",
    "\n",
    "for sentence in tqdm(train_df['調解內容與決議']):\n",
    "    seg_list = jieba.cut(str(sentence), cut_all=False)\n",
    "    for word in seg_list:\n",
    "        word_dict[word] += 1\n",
    "word_dict = sorted(word_dict.items(), key=operator.itemgetter(1), reverse=True)\n",
    "print(len(word_dict))"
   ]
  },
  {
   "cell_type": "code",
   "execution_count": 25,
   "metadata": {
    "collapsed": false
   },
   "outputs": [
    {
     "name": "stderr",
     "output_type": "stream",
     "text": [
      "100%|█████████████████████████████████████████████████████████████████████████████| 6277/6277 [00:06<00:00, 948.96it/s]\n"
     ]
    },
    {
     "name": "stdout",
     "output_type": "stream",
     "text": [
      "17196\n"
     ]
    }
   ],
   "source": [
    "cleaned_word_dict = defaultdict(int)\n",
    "\n",
    "for sentence in tqdm(train_df['cleaned_comments']):\n",
    "    seg_list = jieba.cut(str(sentence), cut_all=False)\n",
    "    for word in seg_list:\n",
    "        cleaned_word_dict[word] += 1\n",
    "cleaned_word_dict = sorted(cleaned_word_dict.items(), key=operator.itemgetter(1), reverse=True)\n",
    "print(len(cleaned_word_dict))"
   ]
  },
  {
   "cell_type": "code",
   "execution_count": 26,
   "metadata": {
    "collapsed": false
   },
   "outputs": [
    {
     "name": "stderr",
     "output_type": "stream",
     "text": [
      "100%|█████████████████████████████████████████████████████████████████████████████| 6277/6277 [00:06<00:00, 976.03it/s]\n"
     ]
    }
   ],
   "source": [
    "cut_sentences = []\n",
    "for sentence in tqdm(train_df['cleaned_comments']):\n",
    "    seg_list = jieba.cut(str(sentence), cut_all=False)\n",
    "    cut_sentences.append(\" \".join(seg_list))\n",
    "train_df['cleaned_comments_cut'] = cut_sentences"
   ]
  },
  {
   "cell_type": "code",
   "execution_count": 30,
   "metadata": {
    "collapsed": false
   },
   "outputs": [],
   "source": [
    "cut_train_sentences = train_df['cleaned_comments_cut']"
   ]
  },
  {
   "cell_type": "markdown",
   "metadata": {},
   "source": [
    "## A quick view of vocabulary"
   ]
  },
  {
   "cell_type": "code",
   "execution_count": 28,
   "metadata": {
    "collapsed": false
   },
   "outputs": [
    {
     "name": "stdout",
     "output_type": "stream",
     "text": [
      "chinese_word:  16892\n",
      "dig_english_word:  8422\n",
      "sign_count:  72\n",
      "[('人', 16399), ('年', 10262), ('月', 10200), ('日', 8569), ('聲請', 8521), ('給付', 7559), ('對造', 7204), ('與', 6799), ('下同', 6500), ('同意', 6220), ('結果', 5878), ('如下', 5743), ('不', 5593), ('民國', 5307), ('解', 5175), ('請調', 5173), ('騎乘', 5158), ('號', 5154), ('調解', 5025), ('故聲', 5008), ('機車', 4939), ('在', 4602), ('時', 4590), ('車損', 4486), ('新台幣', 4466), ('臺南市', 4432), ('發生', 4338), ('含', 4126), ('車禍', 4118), ('兩造', 4052), ('北區', 3946), ('本', 3866), ('其餘', 3822), ('汽車', 3729), ('強制', 3696), ('一', 3675), ('責任保險', 3617), ('事件', 3609), ('二', 3572), ('共計', 3556), ('拋棄', 3539), ('民事', 3538), ('請求權', 3536), ('造人', 3460), ('費用', 3401), ('萬元', 3398), ('駕駛', 3337), ('對', 3283), ('請', 3268), ('他', 3086), ('及其', 3074), ('必要', 3058), ('一切', 3047), ('所有', 2988), ('經', 2850), ('三', 2840), ('慰問金', 2792), ('體傷', 2774), ('醫療費', 2764), ('重型', 2747), ('分許', 2719), ('之', 2573), ('追究', 2536), ('刑事責任', 2530), ('付清', 2456), ('路', 2388), ('整', 2181), ('車費', 2053), ('雙方', 2038), ('自小', 1942), ('於', 1866), ('另', 1822), ('客車', 1765), ('當場', 1760), ('理賠金', 1756), ('致聲', 1740), ('立據', 1716), ('方式', 1663), ('分', 1539), ('普通', 1380), ('修', 1285), ('本人', 1233), ('貳', 1222), ('各項', 1180), ('均', 1174), ('部分', 1163), ('臺南', 1116), ('臺灣', 1084), ('前', 1082), ('地方法院', 1070), ('巷', 1066), ('自用', 1065), ('小客車', 1059), ('台南市', 1020), ('檢察署', 976), ('段', 953), ('自行', 944), ('約', 941), ('定於', 934), ('路口', 928), ('告訴', 856), ('號前', 837), ('致', 832), ('無體傷', 829), ('自行處理', 828), ('及', 801), ('受傷', 801), ('以', 765), ('請求', 747), ('賠償', 736), ('陳', 730), ('現金', 714), ('如', 688), ('捌', 687), ('金額', 678), ('不再', 677), ('元整', 661), ('傷', 641), ('房屋', 637), ('人體', 627), ('壹萬', 625), ('巷口', 608), ('向', 604), ('第', 599), ('搭載', 592), ('車號', 582), ('壹', 571), ('至', 565), ('上', 564), ('申領', 561), ('開', 554), ('由', 543), ('人修', 542), ('付予', 532), ('給', 524), ('壹拾', 520), ('仟', 520), ('元', 518), ('聲', 514), ('街', 511), ('有', 507), ('人願', 495), ('四', 488), ('公園路', 482), ('左', 481), ('並', 477), ('未', 476), ('後', 473), ('其他', 471), ('其', 468), ('日前', 467), ('轉介', 461), ('願', 456), ('委員會', 452), ('小', 439), ('互相', 438), ('北路', 436), ('貳仟', 435), ('因', 432), ('分期', 431), ('黃', 431), ('匯款', 431), ('當事人', 430), ('帳號', 427), ('街口', 426), ('公園', 426), ('西門', 425), ('全部', 417), ('申請', 396), ('刑事', 393), ('自', 392), ('口', 390), ('無車損', 389), ('上開', 389), ('為', 388), ('到期', 378), ('中華', 373), ('年度', 372), ('權', 371), ('撤回', 369), ('參', 366), ('拾', 365), ('台幣', 362), ('就', 360), ('案', 356), ('每月', 340), ('萬', 337), ('付款', 334), ('開元', 333), ('車輛', 326), ('和解', 326), ('長榮', 325), ('負擔', 322), ('土地', 320), ('視為', 315), ('戶名', 308), ('南路', 305), ('指稱', 305), ('損失', 303), ('仟元整', 299), ('表示', 295), ('海安', 293), ('有限公司', 292), ('貨車', 291), ('已', 288), ('陸仟元整', 285), ('伍仟元整', 280), ('案經', 280), ('樓', 279), ('前將', 278), ('和', 275), ('餘款', 274), ('日起', 274), ('成功', 272), ('分行', 271), ('以上', 269), ('區', 268), ('件', 263), ('新', 262), ('賢路', 262), ('二段', 260), ('玖', 259), ('立帳', 257), ('人傷', 256), ('輕型機車', 249), ('郵局', 249), ('銀行', 242), ('明細', 241), ('偵字', 241), ('台南', 239), ('支付', 236), ('北門', 235), ('時許', 234), ('文', 233), ('返還', 232), ('處', 231), ('付現金', 231), ('求償', 231), ('雙方同意', 230), ('應於', 230), ('等', 226), ('三段', 226), ('互不', 224), ('文成', 224), ('約定', 220), ('帳戶', 219), ('內', 218), ('不在', 214), ('登記', 213), ('建物', 209), ('借款', 209), ('東路', 208), ('歸由聲', 206), ('歸', 204), ('一期', 203), ('匯入', 203), ('壹仟', 203), ('係', 202), ('和緯路', 201), ('所', 201), ('營業', 200), ('中', 199), ('予聲', 197), ('一段', 191), ('萬伍', 191), ('無條件', 189), ('伍拾', 189), ('弄', 188), ('新臺幣', 187), ('租金', 187), ('傷害', 186), ('東豐', 185), ('永康', 185), ('即', 185), ('地號', 184), ('未付', 182), ('伍仟元', 181), ('各', 180), ('中西區', 180), ('腳踏車', 179), ('日止', 178), ('致對', 177), ('公司', 176), ('行經', 175), ('局號', 173), ('機構', 172), ('款項', 172), ('大興', 172), ('期間', 172), ('工程', 168), ('壹期', 168), ('糾紛', 166), ('租賃', 165), ('四段', 162), ('參拾', 162), ('北安路', 161), ('現', 160), ('該', 160), ('上述', 160), ('拾伍', 159), ('列', 158), ('清償', 152), ('連帶', 151), ('參仟元整', 150), ('造成', 150), ('修車', 148), ('積欠', 148), ('損害賠償', 148), ('履行', 148), ('安南', 147), ('伍佰元整', 145), ('附近', 144), ('後方', 143), ('交付', 139), ('路口處', 138), ('參萬', 137), ('指定', 136), ('參仟', 133), ('漏水', 127), ('林森', 126), ('支票', 126), ('應', 125), ('臨安', 125), ('股份', 125), ('買賣', 125), ('處理', 125), ('肆', 124), ('購買', 124), ('客貨車', 124), ('而', 124), ('大', 123), ('其中', 123), ('柒', 123), ('相互', 121), ('迄今', 121), ('行人', 121), ('偵辦', 120), ('再', 119), ('日至', 119), ('二人', 119), ('本件經', 119), ('期', 116), ('承租', 115), ('騎', 115), ('死亡', 115), ('使用', 113), ('完畢', 113), ('提出', 113), ('又', 112), ('尚未', 112), ('起', 111), ('伍', 110), ('不向', 109), ('金融機構', 109), ('撞', 108), ('予對', 108), ('月間', 108), ('東區', 107), ('每期', 106), ('本票', 106), ('提告', 105), ('整予', 104), ('款', 103), ('損', 103), ('契約', 101), ('前給', 100), ('附件', 100), ('伍萬', 99), ('北園', 99), ('押金', 98), ('乘車', 98), ('由聲', 97), ('本案', 97), ('拾元', 96), ('兌現', 96), ('緯', 96), ('面額', 96), ('惟', 96), ('債務', 95), ('亦', 95), ('所有權', 95), ('號之', 95), ('無法', 94), ('現場', 93), ('票號', 92), ('移轉', 92), ('日付', 91), ('分別', 90), ('車', 88), ('止', 88), ('歿', 88), ('搬遷', 88), ('成立', 87), ('五', 87), ('肆仟元整', 86), ('五段', 85), ('核交字', 85), ('債權', 85), ('文賢', 85), ('北', 84), ('物品', 84), ('對方', 83), ('視同', 83), ('楊', 82), ('將', 82), ('北成路', 81), ('辦理', 81), ('投資', 81), ('遭', 80), ('弄口', 80), ('損害', 80), ('整給', 80), ('俟', 80), ('日為', 80), ('的', 80), ('參萬伍', 79), ('收取', 78), ('付款日', 78), ('車車', 78), ('共', 77), ('人林', 77), ('到', 76), ('毆打', 76), ('租賃契約', 76), ('還款', 76), ('終止', 76), ('受損', 76), ('佰', 76), ('範圍', 75), ('並於', 75), ('皆', 75), ('月租金', 75), ('屆期', 73), ('本會', 73), ('同年', 73), ('渠', 72), ('不動產', 72), ('行駛', 71), ('陸', 71), ('陸佰元整', 71), ('欲', 71), ('金', 70), ('北安', 70), ('與育德', 70), ('挫傷', 70), ('陸仟元', 70), ('偵查', 69), ('已付', 69), ('育德路', 69), ('且', 69), ('故', 68), ('向聲', 68), ('新台幣伍', 68), ('忠義', 68), ('肆拾', 68), ('無', 67), ('二路', 67), ('權利', 67), ('各自', 67), ('喪葬費', 67), ('取得', 66), ('民德', 66), ('碰撞', 66), ('台', 66), ('大武', 65), ('毀損', 65), ('發現', 65), ('為止', 65), ('主張', 65), ('參仟元', 65), ('將上', 65), ('肆仟', 64), ('南街', 64), ('騰空', 64), ('爭議', 64), ('拾陸', 64), ('位於', 64), ('段口', 63), ('發票', 63), ('肆萬伍', 63), ('安平', 63), ('廢棄物', 63), ('南區', 62), ('壹佰', 62), ('要求', 62), ('張', 62), ('或', 62), ('卻', 61), ('肆萬', 61), ('問題', 61), ('系爭', 61), ('損壞', 61), ('先至', 61), ('用', 61), ('對面', 60), ('育德', 60), ('年間', 60), ('下午', 59), ('工作', 59), ('門牌', 59), ('被', 59), ('涉嫌', 59), ('醫療', 59), ('擦', 58), ('修復', 58), ('過失傷害', 58), ('北街', 58), ('一路', 57), ('租期', 57), ('沿', 57), ('金華', 57), ('提供', 57), ('車道', 57), ('致生', 57), ('陸仟', 57), ('大樓', 57), ('住處', 57), ('公里', 57), ('委託', 57), ('居住', 56), ('租約', 56), ('武聖', 56), ('不慎', 56), ('號重', 56), ('人均', 56), ('商業銀行', 56), ('導致', 56), ('經聲', 55), ('共分', 55), ('受', 55), ('嗣', 55), ('分在', 55), ('任何', 54), ('回', 54), ('但', 54), ('口角', 54), ('擔保', 54), ('住家', 53), ('之修', 53), ('要', 53), ('曾', 53), ('契約書', 53), ('會', 53), ('日期', 53), ('上午', 52), ('遺留', 52), ('修繕', 52), ('地', 52), ('經營', 51), ('詎', 51), ('嗣經', 51), ('始', 50), ('依', 50), ('勝利', 50), ('醫院', 50), ('實踐', 50), ('日將', 49), ('李', 49), ('長', 49), ('柒仟元整', 49), ('坐落', 48), ('三路', 48), ('負責', 48), ('當日', 48), ('惟對', 48), ('利息', 48), ('名下', 48), ('年月日', 48), ('字', 48), ('陸續', 47), ('牆壁', 47), ('名義', 47), ('除', 47), ('骨折', 47), ('價金', 47), ('建號', 47), ('里', 47), ('相關', 47), ('險', 47), ('夫妻', 47), ('繳納', 47), ('至本會', 47), ('過戶', 47), ('需', 47), ('伍佰元', 47), ('內容', 46), ('緯路', 46), ('未經', 46), ('細故', 46), ('以下', 46), ('徒手', 46), ('予', 46), ('分配', 45), ('晚上', 45), ('共同', 45), ('新台幣陸', 45), ('簽訂', 45), ('前鋒', 45), ('你', 45), ('林', 44), ('伍仟', 44), ('關係', 44), ('爭執', 44), ('生活費', 43), ('完成', 43), ('中華路', 43), ('停車場', 43), ('作為', 43), ('捌佰元整', 43), ('事後', 43), ('道路', 43), ('仍', 43), ('王', 43), ('號處', 43), ('原', 43), ('頭部', 42), ('南園', 42), ('區長', 42), ('日向', 42), ('原因', 42), ('下', 42), ('貳佰元整', 42), ('已經', 42), ('柒仟', 41), ('遂', 41), ('西華', 41), ('讓', 41), ('發生爭執', 41), ('詳如', 41), ('空白', 41), ('從', 41), ('照顧', 40), ('父親', 40), ('個', 40), ('橋', 40), ('中正', 40), ('復', 40), ('手機', 40), ('任由', 39), ('陸萬', 39), ('肆佰', 39), ('承攬', 39), ('開立', 39), ('月份', 39), ('因而', 39), ('撞擊', 39), ('簽立', 39), ('因此', 39), ('日應', 39), ('趙', 39), ('停車', 39), ('事宜', 39), ('蔡', 39), ('肆仟元', 39), ('同時', 38), ('事故', 38), ('責任', 38), ('外', 38), ('另案', 38), ('交', 38), ('身體', 38), ('勝利路', 38), ('南', 38), ('下稱', 38), ('所載', 38), ('嫌', 38), ('避不見面', 38), ('進行', 38), ('路邊', 37), ('修理費', 37), ('合意', 37), ('貸款', 37), ('本件', 37), ('繼承人', 37), ('賠付', 37), ('慰撫', 37), ('交通', 37), ('並簽立', 37), ('本會聲', 37), ('是', 36), ('國際', 36), ('陸拾', 36), ('大客車', 36), ('肇事', 36), ('稱', 36), ('鍾', 36), ('西側', 36), ('管理', 36), ('施工', 36), ('拆除', 36), ('雲', 35), ('尚有', 35), ('清', 35), ('重', 35), ('間', 35), ('第三', 35), ('賢', 35), ('詐欺', 35), ('自強', 35), ('合約', 35), ('日後', 34), ('信託', 34), ('應付', 34), ('停放', 34), ('修理', 34), ('日聲', 34), ('以新', 34), ('瑜', 34), ('到場', 34), ('住宅', 34), ('公尺', 34), ('貨款', 34), ('將其', 34), ('高雄市', 34), ('會款', 34), ('本金', 33), ('女兒', 33), ('臺', 33), ('電費', 33), ('中國', 33), ('仲介', 33), ('璇', 33), ('臺南縣', 33), ('車牌號碼', 33), ('面積', 33), ('伍元', 33), ('行', 32), ('高雄', 32), ('塗銷', 32), ('電動', 32), ('依約', 32), ('誠', 32), ('補償', 32), ('仁德', 32), ('行車', 32), ('國華', 32), ('之列外', 32), ('該車', 32), ('部份', 32), ('第一', 32), ('到期日', 31), ('至聲', 31), ('拾肆', 31), ('永康市', 31), ('妨害', 31), ('立', 31), ('侵占', 31), ('自行車', 31), ('解除', 31), ('負責人', 31), ('友人', 31), ('寬', 31), ('前以', 31), ('因對', 31), ('天花板', 31), ('前置', 31), ('搬離', 31), ('政府', 31), ('本次', 31), ('道歉', 30), ('前往', 30), ('擦傷', 30), ('國道', 30), ('施作', 30), ('業已', 30), ('工程款', 30), ('離婚', 30), ('償還', 30), ('協議書', 30), ('凌晨', 30), ('名譽', 30), ('交通事故', 30), ('平方公尺', 30), ('北側', 30), ('停', 30), ('對於', 30), ('鑑定', 30), ('他人', 30), ('法院', 30), ('竟', 29), ('資料', 29), ('已於', 29), ('健康', 29), ('線', 29), ('罪嫌', 29), ('復原', 29), ('合作金庫', 29), ('前述', 29), ('情形', 29), ('西路', 29), ('計程車', 29), ('並將', 29), ('次', 29), ('安和路', 29), ('精神', 29), ('受有', 29), ('告知', 29), ('文件', 29), ('因認', 28), ('南向', 28), ('中山路', 28), ('自己', 28), ('願意', 28), ('出租', 28), ('可', 28), ('書', 28), ('出售', 28), ('旁', 28), ('參拾伍', 28), ('西', 28), ('三個', 28), ('台灣', 28), ('退還', 28), ('甲方', 28), ('大港', 27), ('持', 27), ('付新', 27), ('先生', 27), ('倒地', 27), ('編號', 27), ('併', 27), ('開南', 27), ('瑄', 27), ('北成', 27), ('辱罵', 27), ('車門', 27), ('國泰', 27), ('共有', 27), ('成', 27), ('水電', 27), ('以後', 27), ('道', 27), ('育成', 27), ('電話', 26), ('體諒', 26), ('拍賣', 26), ('參佰', 26), ('號旁', 26), ('若', 26), ('住', 26), ('擔任', 26), ('案件', 26), ('互毆', 26), ('注意', 26), ('客運', 26), ('地板', 26), ('網站', 26), ('恐嚇', 26), ('不得', 26), ('收到', 26), ('人王', 26), ('屋頂', 26), ('基於', 26), ('企業', 26), ('每人', 25), ('昇', 25), ('怡', 25), ('錯誤', 25), ('妤', 25), ('參加', 25), ('認為', 25), ('美', 25), ('南側', 25), ('馬', 25), ('富北', 25), ('飼養', 25), ('左側', 25), ('歸還', 25), ('繼承', 25), ('北段', 25), ('左右', 25), ('提起', 25), ('兩', 25), ('情事', 25), ('乙', 25), ('房租', 24), ('打', 24), ('住戶', 24), ('陷於', 24), ('商品', 24), ('府', 24), ('合夥', 24), ('彰化', 24), ('民族', 24), ('晚間', 24), ('銷售', 24), ('丙', 24), ('鄰居', 24), ('肆佰元整', 24), ('之後', 24), ('筆', 24), ('文賢二街', 24), ('裝潢', 24), ('右', 24), ('許', 24), ('確認', 24), ('租屋', 24), ('折抵', 24), ('延平', 24), ('狀', 23), ('京城', 23), ('生活', 23), ('頂樓', 23), ('等語', 23), ('人將', 23), ('人前', 23), ('存摺', 23), ('遭對', 23), ('影響', 23), ('殘廢', 23), ('鄭', 23), ('尾款', 23), ('異議', 23), ('正覺', 23), ('管理費', 23), ('維修', 23), ('前方', 23), ('簽約', 23), ('並約', 22), ('不滿', 22), ('何', 22), ('共新', 22), ('一街', 22), ('並未', 22), ('人時', 22), ('興建', 22), ('設定', 22), ('條件', 22), ('每', 22), ('目前', 22), ('臉部', 22), ('美惠', 22), ('男女朋友', 22), ('屋水', 22), ('家庭', 22), ('社區', 22), ('樺', 22), ('人張', 22), ('多次', 22), ('中正路', 22), ('增值稅', 21), ('淑', 21), ('綺', 21), ('扣抵', 21), ('姓名', 21), ('進入', 21), ('不含', 21), ('無擔保', 21), ('因聲', 21), ('成傷', 21), ('與其', 21), ('母親', 21), ('我', 21), ('原諒', 21), ('三方', 21), ('侵害', 21), ('北忠街', 21), ('訂金', 21), ('絕無', 21), ('合計', 21), ('柒佰', 21), ('店', 21), ('黃柏', 21), ('調解機制', 21), ('參佰元整', 21), ('一張', 21), ('光', 21), ('新市區', 20), ('理賠', 20), ('戴', 20), ('電腦', 20), ('配偶', 20), ('私立', 20), ('員工', 20), ('地上', 20), ('犯意', 20), ('頸部', 20), ('檢察官', 20), ('現因', 20), ('拉扯', 20), ('出面', 20), ('中午', 20), ('派出所', 20), ('不詳', 20), ('傷車損', 20), ('陸佰元', 20), ('高', 20), ('立賢', 20), ('珊', 20), ('無人', 20), ('乙張', 20), ('客戶', 20), ('電梯', 20), ('存款', 20), ('南縣', 20), ('女', 20), ('萬零', 20), ('找', 20), ('右手', 20), ('營造', 20), ('先行', 20), ('先', 20), ('多處', 20), ('物', 20), ('電動車', 20), ('之上', 20), ('加油站', 20), ('某日', 20), ('柒萬伍', 20), ('浴室', 20), ('債務糾紛', 20), ('等等', 19), ('執行', 19), ('歐陽', 19), ('受騙', 19), ('門口', 19), ('該屋', 19), ('協商', 19), ('扶養費', 19), ('保管', 19), ('拿', 19), ('人施', 19), ('離去', 19), ('協議', 19), ('致其', 19), ('費', 19), ('市北區', 19), ('塑膠', 19), ('外傷', 19), ('屋主', 19), ('設備', 19), ('破壞', 19), ('零', 19), ('屋內', 19), ('竊取', 19), ('華南', 19), ('康樂', 19), ('揭', 19), ('委任', 19), ('路旁', 19), ('侵入', 19), ('曨', 19), ('歸仁', 19), ('離開', 19), ('息事寧人', 19), ('誤會', 19), ('不當', 19), ('鑰匙', 19), ('地址', 19), ('款壹拾', 19), ('都', 19), ('建設', 18), ('刊登', 18), ('抵押權', 18), ('分期付款', 18), ('交還', 18), ('嚴重', 18), ('冷氣', 18), ('協調', 18), ('陸萬伍', 18), ('透過', 18), ('文書', 18), ('車牌', 18), ('大學', 18), ('玉山', 18), ('最後', 18), ('另行', 18), ('使', 18), ('佯稱', 18), ('擅自', 18), ('僅', 18), ('安明', 18), ('千元', 18), ('去', 18), ('偽造', 18), ('美金', 18), ('廣告', 18), ('日及', 18), ('開設', 18), ('搬', 18), ('薪資', 18), ('翁', 18), ('嗣後', 18), ('聯絡', 18), ('小北', 18), ('二街', 18), ('走時', 18), ('王啟', 18), ('印章', 18), ('信用卡', 18), ('詳', 17), ('甲', 17), ('人吳', 17), ('崇德', 17), ('鐵皮', 17), ('同段', 17), ('當時', 17), ('屆時', 17), ('直行', 17), ('尚', 17), ('安', 17), ('拒', 17), ('原名', 17), ('坐落於', 17), ('瑕疵', 17), ('柒萬', 17), ('已將', 17), ('致對造', 17), ('壹佰元整', 17), ('按', 17), ('了', 17), ('富台', 17), ('丁方', 17), ('東興', 17), ('實業', 17), ('同', 17), ('右側', 17), ('被告', 17), ('金錢', 17), ('三人', 17), ('民權路', 17), ('給予', 17), ('涉有', 17), ('人車', 17), ('蘇', 17), ('酒後', 17), ('命令', 17), ('中山南路', 17), ('一樓', 17), ('日向聲', 17), ('巷處', 17), ('出資', 17), ('上址', 17), ('排水管', 17), ('核退', 17), ('正本', 17), ('珮', 17), ('明知', 16), ('方向', 16), ('黃玉', 16), ('駕車', 16), ('坪', 16), ('始知', 16), ('罪', 16), ('訴訟', 16), ('育德三街', 16), ('事項', 16), ('繳清', 16), ('育賢街', 16), ('證明', 16), ('規費', 16), ('伊', 16), ('地下', 16), ('郭', 16), ('任意', 16), ('工地', 16), ('人許', 16), ('還清', 16), ('統一', 16), ('路段', 16), ('地下室', 16), ('萱', 16), ('鄉', 16), ('利用', 16), ('東側', 16), ('則', 16), ('男子', 16), ('變更', 16), ('餐廳', 16), ('世華', 16), ('送', 16), ('押租', 16), ('人員', 16), ('簽發', 16), ('橋下', 16), ('彼此', 16), ('各付', 16), ('連帶保證', 16), ('同向', 16), ('剩餘', 16), ('逃逸', 16), ('遺產', 16), ('當', 16), ('涉犯', 16), ('並經', 16), ('中心', 16), ('肆元整', 16), ('人謝', 16), ('國', 16), ('賠償金', 16), ('北忠', 15), ('舖', 15), ('給聲', 15), ('強制執行', 15), ('完工', 15), ('繼續', 15), ('娥', 15), ('扣除', 15), ('將聲', 15), ('破裂', 15), ('也', 15), ('日間', 15), ('租', 15), ('供', 15), ('意圖', 15), ('保存', 15), ('達成', 15), ('葉', 15), ('作', 15), ('整修', 15), ('適', 15), ('得', 15), ('真', 15), ('契稅', 15), ('大橋', 15), ('善化', 15), ('授權', 15), ('日以', 15), ('繳交', 15), ('佔用', 15), ('財團法人', 15), ('嘉', 15), ('地點', 15), ('水管', 15), ('網路', 15), ('寮', 15), ('裕', 15), ('業務', 15), ('滲水', 15), ('一紙', 15), ('基金', 15), ('違反', 14), ('店內', 14), ('款伍', 14), ('通知', 14), ('房地', 14), ('公路', 14), ('柒仟元', 14), ('本區', 14), ('款肆', 14), ('紛爭', 14), ('大同路', 14), ('大陸', 14), ('企業社', 14), ('稅捐', 14), ('款壹', 14), ('德', 14), ('陸元整', 14), ('管委會', 14), ('管路', 14), ('幹', 14), ('食品', 14), ('大型', 14), ('料', 14), ('需要', 14), ('鐵門', 14), ('家', 14), ('書面', 14), ('萬柒仟', 14), ('自稱', 14), ('精忠', 14), ('收受', 14), ('言語', 14), ('同事', 14), ('造人林', 14), ('第一項', 14), ('李俊', 14), ('再付', 14), ('退票', 14), ('家中', 14), ('特定', 14), ('市場', 14), ('收執', 14), ('記載', 14), ('代辦費', 14), ('出手', 14), ('交予', 14), ('鐵皮屋', 14), ('柒拾', 14), ('調解書', 14), ('一併', 14), ('跌倒', 14), ('柒元整', 14), ('不依', 14), ('伶', 14), ('簽章', 14), ('羅', 14), ('匝道', 14), ('須', 14), ('佑', 14), ('警察局', 14), ('仁愛', 14), ('全數', 14), ('繳付', 14), ('攤位', 14), ('拒絕', 14), ('站', 13), ('行東', 13), ('點交', 13), ('經過', 13), ('捌佰元', 13), ('琇', 13), ('業經', 13), ('奕', 13), ('中央', 13), ('把', 13), ('文元', 13), ('五街', 13), ('開啟', 13), ('月初', 13), ('請人', 13), ('長勝', 13), ('觀海', 13), ('佃路', 13), ('屋', 13), ('大洲', 13), ('服務', 13), ('逸', 13), ('林家', 13), ('乃', 13), ('今', 13), ('人應', 13), ('訂立', 13), ('除聲', 13), ('地目', 13), ('傷及', 13), ('狀況', 13), ('鎮', 13), ('店面', 13), ('掉落', 13), ('借貸', 13), ('以為', 13), ('載', 13), ('造就', 13), ('參元整', 13), ('區安明路', 13), ('騎樓', 13), ('與育賢', 13), ('占用', 13), ('訂購', 13), ('才', 13), ('途經', 13), ('強制保險', 13), ('互助會', 13), ('遷移', 13), ('紅燈', 13), ('招牌', 13), ('圍牆', 13), ('柒佰元整', 13), ('鐵架', 13), ('之聲', 13), ('區海', 13), ('東', 13), ('指訴', 13), ('以供', 13), ('好', 13), ('火車站', 13), ('追撞', 13), ('左轉', 13), ('地面', 13), ('下車', 13), ('交往', 13), ('說', 13), ('搬出', 13), ('看護', 13), ('扶養', 13), ('住院', 13), ('對聲', 13), ('左手', 13), ('人並', 13), ('邀約', 13), ('不向聲', 13), ('萬陸仟', 13), ('看', 13), ('財產', 13), ('營區', 13), ('遷出', 13), ('應有', 13), ('壹佰參拾', 13), ('案外人', 13), ('責任險', 13), ('至今', 13), ('機關', 13), ('土地銀行', 13), ('宸', 13), ('聯邦', 12), ('住所', 12), ('劉永信', 12), ('租車', 12), ('操作', 12), ('上網', 12), ('人始', 12), ('持分', 12), ('冰箱', 12), ('號碼', 12), ('朋友', 12), ('明', 12), ('收據', 12), ('不願', 12), ('代理人', 12), ('適聲', 12), ('顏', 12), ('和田', 12), ('三期', 12), ('抵押', 12), ('北向', 12), ('希望', 12), ('消費', 12), ('北華', 12), ('廠', 12), ('睿', 12), ('攤還', 12), ('總價', 12), ('該路', 12), ('月底', 12), ('更換', 12), ('新建', 12), ('保證', 12), ('現象', 12), ('因故', 12), ('大潤發', 12), ('陸佰', 12), ('出血', 12), ('路面', 12), ('判決', 12), ('人賴', 12), ('簡', 12), ('特別', 12), ('邱', 12), ('身分證', 12), ('長子', 12), ('中路', 12), ('棟', 12), ('新化', 12), ('謝', 12), ('行庫', 12), ('永華', 12), ('肢體衝突', 12), ('因上', 12), ('錢', 12), ('便', 12), ('不法', 12), ('公分', 12), ('分局', 12), ('工業', 12), ('彩女', 12), ('借據', 12), ('妨害自由', 12), ('事業', 12), ('無損', 12), ('規定', 12), ('噪音', 12), ('二期', 12), ('停放在', 12), ('過程', 12), ('貳佰', 12), ('就此', 12), ('做', 12), ('權益', 12), ('正', 12), ('朝興', 12), ('產生', 12), ('男', 12), ('現已', 11), ('側門', 11), ('另聲', 11), ('一號', 11), ('凱翔', 11), ('郵政', 11), ('開支票', 11), ('信用', 11), ('壹元', 11), ('橋頭', 11), ('東門路', 11), ('錦', 11), ('正在', 11), ('鄉鎮', 11), ('一棟', 11), ('乙方', 11), ('現聲', 11), ('在案', 11), ('衍生', 11), ('總計', 11), ('圓環', 11), ('已給', 11), ('持有', 11), ('南北', 11), ('貨運', 11), ('閃避不及', 11), ('代號', 11), ('報警', 11), ('協同', 11), ('岔路', 11), ('分公司', 11), ('隔壁', 11), ('如有', 11), ('臺灣銀行', 11), ('包包', 11), ('續租', 11), ('沒有', 11), ('長期', 11), ('科技', 11), ('日內', 11), ('配合', 11), ('貳佰肆', 11), ('裕民', 11), ('後來', 11), ('衝突', 11), ('區安', 11), ('搭建', 11), ('免除', 11), ('領受', 11), ('鈍', 11), ('及聲', 11), ('厝', 11), ('室內', 11), ('截至', 11), ('出入口', 11), ('無異議', 11), ('台北', 11), ('清理', 11), ('平房', 11), ('陳家', 11), ('工資', 11), ('早上', 11), ('會首', 11), ('外側', 11), ('台幣伍', 11), ('整及', 11), ('黃金', 11), ('內側', 11), ('麵', 11), ('新興', 11), ('面向', 11), ('待', 11), ('撕裂', 11), ('貨品', 11), ('點', 11), ('機車行', 11), ('大道', 11), ('裁定', 11), ('房子', 11), ('民生', 11), ('雖', 11), ('越界', 11), ('離職', 11), ('東光', 11), ('買方', 11), ('主管機關', 11), ('名', 11), ('駛來', 11), ('摔', 11), ('竟未', 11), ('嘉義縣', 11), ('投保', 11), ('地政事務', 11), ('三街', 11), ('局', 11), ('美玲', 11), ('型', 11), ('送醫', 11), ('條', 11), ('保險', 11), ('代墊', 11), ('通運', 10), ('二分之一', 10), ('達', 10), ('華北', 10), ('大門', 10), ('著作', 10), ('實際', 10), ('架設', 10), ('計新', 10), ('潘', 10), ('薛', 10), ('駱', 10), ('詐欺罪', 10), ('年籍', 10), ('並由', 10), ('針對', 10), ('一次', 10), ('使用權', 10), ('國光', 10), ('查看', 10), ('發生衝突', 10), ('任職', 10), ('地政', 10), ('領取', 10), ('未還', 10), ('得知', 10), ('建築', 10), ('號及', 10), ('不堪', 10), ('確定', 10), ('催討', 10), ('爭吵', 10), ('張貼', 10), ('前路', 10), ('承', 10), ('胸部', 10), ('育有', 10), ('申辦', 10), ('清秀', 10), ('人間', 10), ('萬柒仟元整', 10), ('潘林', 10), ('蔡伊郡', 10), ('來', 10), ('娘', 10), ('簡字', 10), ('一台', 10), ('不及', 10), ('市', 10), ('清潔', 10), ('門診', 10), ('專任', 10), ('介紹', 10), ('其子', 10), ('踹', 10), ('安寧', 10), ('勛', 10), ('多', 10), ('違約金', 10), ('贈與', 10), ('進而', 10), ('開始', 10), ('不明', 10), ('口頭', 10), ('價值', 10), ('子女', 10), ('代為', 10), ('露天', 10), ('高幹', 10), ('台新', 10), ('陞', 10), ('法令', 10), ('同意書', 10), ('販賣', 10), ('委員', 10), ('水泥', 10), ('別', 10), ('無名', 10), ('來電', 10), ('烤', 10), ('勞保', 10), ('房間', 10), ('廁所', 10), ('安全', 10), ('心生', 10), ('二樓', 10), ('人聲', 10), ('勞動基準', 10), ('兵配', 10), ('置於', 10), ('祐', 10), ('積水', 10), ('鴻', 10), ('提示', 10), ('照片', 10), ('空地', 10), ('惟聲', 10), ('夫妻關係', 10), ('夥同', 10), ('瑋', 10), ('六', 10), ('應將', 10), ('晴', 10), ('呈', 10), ('二張', 10), ('無故', 10), ('堆高機', 10), ('核定', 10), ('陸萬陸', 10), ('現居', 10), ('則由', 10), ('人為', 10), ('理論', 10), ('永樂', 10), ('見面', 10), ('救護', 10), ('入', 10), ('材料', 10), ('乘客', 10), ('鄰房', 10), ('時間', 10), ('行走', 10), ('叡', 10), ('排水溝', 10), ('往南方', 10), ('員林', 10), ('科技股份', 9), ('秋', 9), ('紙', 9), ('銀', 9), ('主因', 9), ('不足', 9), ('通知書', 9), ('地下道', 9), ('等物', 9), ('壹台', 9), ('箱', 9), ('疏於', 9), ('言明', 9), ('解約', 9), ('安路', 9), ('兄弟', 9), ('壹佰陸拾', 9), ('由南向北', 9), ('安全帽', 9), ('王雨利', 9), ('私下', 9), ('砸傷', 9), ('價款', 9), ('前來', 9), ('另於', 9), ('款陸', 9), ('隔鄰', 9), ('據', 9), ('只', 9), ('肆佰元', 9), ('起至', 9), ('巷道', 9), ('小狗', 9), ('裂縫', 9), ('理由', 9), ('無權', 9), ('正南', 9), ('該店', 9), ('元及', 9), ('車前', 9), ('逾期', 9), ('辦公室', 9), ('分割', 9), ('仁', 9), ('富', 9), ('股票', 9), ('李書儂', 9), ('出入', 9), ('琮', 9), ('販售', 9), ('縣市', 9), ('無訛', 9), ('即聲', 9), ('室', 9), ('往', 9), ('一年', 9), ('等級', 9), ('人莊', 9), ('右轉', 9), ('若有', 9), ('之前', 9), ('啟能', 9), ('龜裂', 9), ('壹張', 9), ('車體', 9), ('占有', 9), ('之子', 9), ('造', 9), ('之際', 9), ('崑山', 9), ('施', 9), ('翔', 9), ('竟於', 9), ('毗鄰', 9), ('中旬', 9), ('閃避', 9), ('房屋買賣', 9), ('附設', 9), ('退回', 9), ('水電費', 9), ('大和路', 9), ('文賢二', 9), ('意見', 9), ('同日', 9), ('國有財產', 9), ('和解書', 9), ('全額', 9), ('鐵', 9), ('視該', 9), ('一部', 9), ('入口', 9), ('廚房', 9), ('公共', 9), ('項目', 9), ('二筆', 9), ('簽署', 9), ('經對', 9), ('多年', 9), ('還地', 9), ('總金額', 9), ('見', 9), ('開房', 9), ('證明書', 9), ('提前', 9), ('條例', 9), ('拆屋', 9), ('各新', 9), ('出', 9), ('認識', 9), ('麻豆', 9), ('建平', 9), ('客廳', 9), ('人蘇', 9), ('玫', 9), ('行使', 9), ('體', 9), ('保固', 9), ('大聲', 9), ('郭家', 9), ('王家', 9), ('咬傷', 9), ('市長', 9), ('號輕', 9), ('吳', 9), ('王美珍', 9), ('付', 9), ('乙事', 9), ('北上', 9), ('周嘉誼', 9), ('能', 9), ('帶', 9), ('同額', 9), ('裝修', 9), ('因未', 9), ('甄', 9), ('云云', 9), ('有人', 9), ('玉', 9), ('民', 9), ('見狀', 9), ('義務', 9), ('生意', 9), ('淑芳', 9), ('轉交', 9), ('華', 9), ('永福路', 9), ('環境', 8), ('公寓', 8), ('造人張', 8), ('謝錦珍', 8), ('文賢三街', 8), ('曹晉德', 8), ('陳淑鈴', 8), ('路號', 8), ('謊稱', 8), ('屋後', 8), ('並已', 8), ('亮', 8), ('治療', 8), ('生', 8), ('該址', 8), ('李嘉方', 8), ('撥打', 8), ('承諾', 8), ('翁靖雅', 8), ('颱風', 8), ('結婚', 8), ('未處理', 8), ('參佰元', 8), ('華興', 8), ('大灣', 8), ('人家', 8), ('狀所', 8), ('搬走', 8), ('使聲', 8), ('資金', 8), ('詐騙', 8), ('昱', 8), ('此事', 8), ('印鑑', 8), ('吉', 8), ('平日', 8), ('堂', 8), ('鄔永強', 8), ('雅', 8), ('行為', 8), ('以前', 8), ('西往東', 8), ('放置', 8), ('砂石', 8), ('眼鏡', 8), ('引車', 8), ('互', 8), ('未能', 8), ('移除', 8), ('夜市', 8), ('凱', 8), ('資融', 8), ('邱芳盛', 8), ('借', 8), ('不疑', 8), ('人陳彥', 8), ('廠牌', 8), ('小姐', 8), ('結清', 8), ('財務', 8), ('雙側', 8), ('市區', 8), ('本息', 8), ('欣', 8), ('美麗', 8), ('乘', 8), ('劉', 8), ('樓上', 8), ('致傷', 8), ('機器', 8), ('拾玖元整', 8), ('合作社', 8), ('一批', 8), ('逕', 8), ('育賢', 8), ('瓦斯', 8), ('交叉口', 8), ('區府', 8), ('樓下', 8), ('接受', 8), ('吳國', 8), ('偵緝', 8), ('長女', 8), ('戶', 8), ('卡', 8), ('檢查', 8), ('滑倒', 8), ('飛落', 8), ('邵家', 8), ('路由', 8), ('陸佰陸拾', 8), ('涉', 8), ('千興', 8), ('車身', 8), ('日經', 8), ('佔', 8), ('搭', 8), ('康茂富', 8), ('違規', 8), ('此', 8), ('社', 8), ('零壹', 8), ('關廟', 8), ('將該', 8), ('小孩', 8), ('李文', 8), ('人人', 8), ('磁磚', 8), ('則約', 8), ('莊', 8), ('宥', 8), ('徐', 8), ('認', 8), ('南下', 8), ('前開', 8), ('西向東', 8), ('處分', 8), ('上班', 8), ('隨即', 8), ('外出', 8), ('兒子', 8), ('收入', 8), ('富貴', 8), ('門牌號碼', 8), ('脖子', 8), ('協助', 8), ('完', 8), ('迄', 8), ('北華街', 8), ('並向', 8), ('摔倒', 8), ('法定繼承', 8), ('時前', 8), ('水槽', 8), ('機械', 8), ('友愛', 8), ('個人', 8), ('反映', 8), ('下雨', 8), ('奇美', 8), ('狗', 8), ('南科', 8), ('通行', 8), ('改善', 8), ('冷氣機', 8), ('排水', 8), ('採光罩', 8), ('建', 8), ('李佳霖', 8), ('補償金', 8), ('支', 8), ('鑑界', 8), ('調', 8), ('郭彥', 8), ('報案', 8), ('蔡秀霞', 7), ('其所', 7), ('連絡', 7), ('日因', 7), ('人馬', 7), ('事', 7), ('增建', 7), ('查字', 7), ('何馨楠', 7), ('教育', 7), ('周碧珠', 7), ('李明', 7), ('不知', 7), ('校區', 7), ('村', 7), ('億', 7), ('號案', 7), ('承擔', 7), ('直至', 7), ('隻', 7), ('不能', 7), ('高祖', 7), ('萬玖仟', 7), ('人陳映', 7), ('蔡宗志', 7), ('字號', 7), ('將系爭', 7), ('榮', 7), ('人及', 7), ('府城', 7), ('廠前', 7), ('信件', 7), ('地檢署', 7), ('防汛', 7), ('診所', 7), ('圖', 7), ('牆面', 7), ('說明', 7), ('二車', 7), ('言詞', 7), ('硯', 7), ('雄', 7), ('板', 7), ('人受', 7), ('之責', 7), ('日給', 7), ('遺失', 7), ('水溝', 7), ('碖', 7), ('同居', 7), ('月付', 7), ('以現', 7), ('笑', 7), ('破損', 7), ('學校', 7), ('銘', 7), ('世雄', 7), ('六甲', 7), ('清貴', 7), ('因為', 7), ('交易', 7), ('陽信', 7), ('手', 7), ('故障', 7), ('人即', 7), ('性', 7), ('劉幸', 7), ('送達', 7), ('英', 7), ('承租人', 7), ('賣方', 7), ('提', 7), ('股東', 7), ('之父', 7), ('綽號', 7), ('人須', 7), ('無蹤', 7), ('出現', 7), ('搭乘', 7), ('保安', 7), ('民生路', 7), ('四方', 7), ('簡鏡', 7), ('段處', 7), ('保養', 7), ('安通', 7), ('採取', 7), ('訴字', 7), ('肆萬肆', 7), ('一線', 7), ('惠', 7), ('未將', 7), ('讓渡', 7), ('珠', 7), ('人劉', 7), ('山區', 7), ('玉女', 7), ('拖延', 7), ('參佰參拾', 7), ('期限', 7), ('往北', 7), ('比例', 7), ('所示', 7), ('肆拾伍', 7), ('濬', 7), ('最大', 7), ('永福', 7), ('日生', 7), ('如意', 7), ('國民', 7), ('入股', 7), ('東寧', 7), ('七股', 7), ('號與', 7), ('太子', 7), ('廠商', 7), ('智勝', 7), ('格', 7), ('整之', 7), ('法及', 7), ('齊', 7), ('行動', 7), ('海成', 7), ('設', 7), ('丞', 7), ('白色', 7), ('頭皮', 7), ('肢體', 7), ('陽台', 7), ('被害人', 7), ('文生', 7), ('埕', 7), ('交叉路口', 7), ('吳素', 7), ('張勝凱', 7), ('證件', 7), ('參萬肆', 7), ('鹽水', 7), ('人葉', 7), ('所致', 7), ('加油', 7), ('置之不理', 7), ('先後', 7), ('相鄰', 7), ('亦不得', 7), ('珈', 7), ('託', 7), ('車上', 7), ('之台', 7), ('方', 7), ('楠', 7), ('小腿', 7), ('疑似', 7), ('至哲', 7), ('青年', 7), ('宅', 7), ('法定', 7), ('胡', 7), ('基地', 7), ('富邦', 7), ('人三人', 7), ('車行', 7), ('南康', 7), ('審理', 7), ('慶', 7), ('監護', 7), ('竊', 7), ('保險桿', 7), ('劉莊', 7), ('三號', 7), ('區甲頂', 7), ('金玉', 7), ('郡', 7), ('夫婦', 7), ('網寮', 7), ('黃梅', 7), ('養護中心', 7), ('檢察', 7), ('變賣', 7), ('業務員', 7), ('郭素芬', 7), ('部', 7), ('所生', 7), ('在場', 7), ('引起', 7), ('吳明', 7), ('數次', 7), ('南興', 7), ('禹', 7), ('車主', 7), ('甫', 7), ('人洪', 7), ('江龍', 7), ('代書', 7), ('賢北', 7), ('秋月', 7), ('彰化縣', 7), ('撞損', 7), ('監視器', 7), ('張津雪', 7), ('作廢', 7), ('設計', 7), ('損及', 7), ('統編', 7), ('翰', 7), ('一女', 7), ('聯繫', 7), ('留有', 7), ('未命名', 7), ('返回', 7), ('秀美', 7), ('處所', 7), ('柯', 7), ('淇', 7), ('消費者', 7), ('完全', 7), ('公然侮辱', 7), ('屏', 7), ('補習班', 7), ('簽名', 7), ('除上', 7), ('上方', 7), ('抓傷', 7), ('美體', 7), ('育', 7), ('轉讓', 7), ('何堪', 7), ('之行', 7), ('文字', 7), ('茲', 7), ('著作權', 7), ('楊順國', 7), ('原為', 7), ('其父', 7), ('吳苡', 7), ('畏懼', 7), ('僱於', 7), ('三樓', 7), ('行車執照', 7), ('以致', 7), ('手臂', 7), ('門前', 7), ('台語', 7), ('蔡伊尹', 7), ('入己', 7), ('公開', 7), ('遊戲', 7), ('提領', 7), ('柒萬肆', 7), ('小心', 7), ('儀', 7), ('楊舒婷', 7), ('前項', 6), ('王玟', 6), ('多萬元', 6), ('設置', 6), ('不讓', 6), ('切結', 6), ('乘坐', 6), ('教育費', 6), ('系統', 6), ('元予', 6), ('該處', 6), ('址', 6), ('人江', 6), ('生前', 6), ('保證金', 6), ('傷均', 6), ('蘋', 6), ('借名', 6), ('黑色', 6), ('玻璃', 6), ('身分', 6), ('科目', 6), ('民調', 6), ('相約', 6), ('合併', 6), ('丟擲', 6), ('渣打銀行', 6), ('南門', 6), ('附圖', 6), ('瑀', 6), ('臉書', 6), ('六合', 6), ('人黃怡', 6), ('困擾', 6), ('花', 6), ('債權債務', 6), ('崇明', 6), ('車子', 6), ('張奕勝', 6), ('國有土地', 6), ('之合會', 6), ('仙女', 6), ('權狀', 6), ('田', 6), ('慈善事業', 6), ('案經聲', 6), ('西區', 6), ('車頭', 6), ('型號', 6), ('王于', 6), ('如盈', 6), ('戶籍', 6), ('張果', 6), ('萬泰', 6), ('不佳', 6), ('綵', 6), ('十期', 6), ('電子', 6), ('車庫', 6), ('急救', 6), ('剝落', 6), ('岑', 6), ('林奕', 6), ('外牆', 6), ('某', 6), ('承認', 6), ('報酬', 6), ('有關', 6), ('脫落', 6), ('唐婕容', 6), ('下載', 6), ('財物', 6), ('連續', 6), ('退休', 6), ('嫺', 6), ('同住', 6), ('明德', 6), ('管線', 6), ('走', 6), ('衣服', 6), ('背部', 6), ('孩子', 6), ('黃昏', 6), ('宋', 6), ('李佩芸', 6), ('妘', 6), ('三民', 6), ('鑑定費', 6), ('人羅珮菁', 6), ('整外', 6), ('門號', 6), ('芯', 6), ('工時', 6), ('筆錄', 6), ('張捷', 6), ('光華', 6), ('淮', 6), ('幼試', 6), ('設立', 6), ('股權', 6), ('項', 6), ('性骨折', 6), ('售出', 6), ('欽', 6), ('小東', 6), ('怡婷', 6), ('阮', 6), ('致黃', 6), ('變換', 6), ('丟棄', 6), ('淹水', 6), ('用地', 6), ('可能', 6), ('果', 6), ('致林', 6), ('姈', 6), ('律師', 6), ('特力屋', 6), ('餘', 6), ('懷湘', 6), ('涂', 6), ('農會', 6), ('人尚', 6), ('鹽', 6), ('電線', 6), ('壁區', 6), ('入住', 6), ('伍仟元予', 6), ('尚欠', 6), ('出租人', 6), ('回家', 6), ('偉仁', 6), ('惇', 6), ('急需', 6), ('顱內', 6), ('佳里', 6), ('每個', 6), ('直接', 6), ('加蓋', 6), ('王敬堯', 6), ('血糖', 6), ('傷聲', 6), ('物權', 6), ('郭政昕', 6), ('購得', 6), ('不予', 6), ('知', 6), ('棚架', 6), ('蔡婷薇', 6), ('新光', 6), ('情況', 6), ('報廢', 6), ('售予', 6), ('絹', 6), ('獲', 6), ('肆仟玖佰元整', 6), ('妏', 6), ('堆高', 6), ('四分之一', 6), ('林子', 6), ('依安', 6), ('頂', 6), ('珺', 6), ('臺灣省', 6), ('冷飲店', 6), ('客', 6), ('右膝', 6), ('石春燕', 6), ('基金會', 6), ('借用', 6), ('並不', 6), ('路燈', 6), ('台北市', 6), ('吳怡君', 6), ('代', 6), ('西賢', 6), ('參佰陸', 6), ('一事', 6), ('配場', 6), ('花園', 6), ('閉鎖', 6), ('守義', 6), ('信用貸款', 6), ('芝', 6), ('副', 6), ('迄今已', 6), ('往西', 6), ('六期', 6), ('每年', 6), ('陸萬肆', 6), ('砸毀', 6), ('之用', 6), ('車業', 6), ('蘇靜瑜', 6), ('壹佰肆', 6), ('正於', 6), ('不同', 6), ('兵', 6), ('林奕寬', 6), ('一件', 6), ('因本', 6), ('腦震盪', 6), ('林清源', 6), ('台幣陸', 6), ('人稱', 6), ('芬', 6), ('法定代理', 6), ('理會', 6), ('款玖', 6), ('門鎖', 6), ('銀行貸款', 6), ('霓', 6), ('張芸珈', 6), ('竊盜', 6), ('金蓮', 6), ('挫', 6), ('澤', 6), ('未果', 6), ('楊懿婷', 6), ('組', 6), ('葉靜', 6), ('僅就', 6), ('設有', 6), ('昭', 6), ('由東向西', 6), ('執行命令', 6), ('人梁', 6), ('柒佰壹拾', 6), ('砸', 6), ('取回', 6), ('放', 6), ('飲料', 6), ('救護車', 6), ('戶籍謄本', 6), ('物流', 6), ('南市', 6), ('仟元', 6), ('京華', 6), ('穿越', 6), ('何仲', 6), ('致使', 6), ('除外', 6), ('朱', 6), ('欠款', 6), ('新市鄉', 6), ('興', 6), ('公同', 6), ('一筆', 6), ('活動中心', 6), ('李玉美', 6), ('沒', 6), ('足', 6), ('用餐', 6), ('週轉', 6), ('火災', 6), ('造人許', 6), ('碧', 6), ('違約', 6), ('其後', 6), ('徵收', 6), ('路上', 6), ('興南', 6), ('代辦', 6), ('鐵窗', 6), ('大雨', 6), ('王國', 6), ('並以', 6), ('鄭清芳', 6), ('留言', 6), ('正興', 6), ('異常', 6), ('人黃怡婷', 6), ('兵工廠', 6), ('類別', 6), ('叫', 6), ('系', 6), ('水塔', 6), ('詹孟軒', 6), ('油漆', 6), ('許秀枝', 6), ('污水', 6), ('唐', 6), ('勝路', 6), ('稅金', 6), ('並在', 6), ('通訊', 6), ('號大', 6), ('傷害罪', 6), ('轉診', 6), ('公司員工', 6), ('犬', 6), ('張涵', 6), ('施慶隆', 6), ('明慧', 6), ('附表', 6), ('柒佰元', 6), ('號房', 6), ('前後', 6), ('經由', 6), ('普濟', 6), ('保留', 6), ('代步車', 6), ('李昀', 6), ('探視', 6), ('扭打', 6), ('腳', 6), ('交由', 6), ('騷擾', 6), ('人行道', 6), ('家人', 6), ('吳南波', 6), ('警方', 6), ('股份有限', 6), ('措施', 6), ('莊坤', 6), ('往生', 6), ('光裕', 6), ('錄影', 6), ('租用', 6), ('成大', 6), ('董事', 6), ('起訴', 6), ('索討', 5), ('三字經', 5), ('上情', 5), ('均體', 5), ('轉彎', 5), ('遠信', 5), ('蕭暐翰', 5), ('員警', 5), ('因該', 5), ('李青霞', 5), ('敬', 5), ('客貨', 5), ('履約', 5), ('北向南', 5), ('各人', 5), ('自動', 5), ('提款機', 5), ('性行', 5), ('哲偉', 5), ('張美娣', 5), ('返家', 5), ('背書', 5), ('追加', 5), ('劉嘉琳', 5), ('商業', 5), ('樓梯間', 5), ('人士', 5), ('修須', 5), ('不知去向', 5), ('館', 5), ('楊林素', 5), ('安定區', 5), ('駛出', 5), ('秀', 5), ('醫師', 5), ('成員', 5), ('保持', 5), ('參萬柒仟', 5), ('張佑塵', 5), ('分社', 5), ('逕行', 5), ('教室', 5), ('茗', 5), ('服務費', 5), ('年邁', 5), ('表示歉意', 5), ('跳蚤市場', 5), ('仿冒', 5), ('銀行借款', 5), ('鄭茂松', 5), ('同一', 5), ('貳佰元', 5), ('中學', 5), ('氯離子', 5), ('然對', 5), ('裝設', 5), ('葉庭羽', 5), ('款新', 5), ('核發', 5), ('農牧', 5), ('蔡雅帆', 5), ('壁癌', 5), ('蔡麗花', 5), ('霈', 5), ('不到', 5), ('原有', 5), ('皮包', 5), ('雙', 5), ('國揚', 5), ('尺骨', 5), ('駱光裕', 5), ('警告', 5), ('區頂', 5), ('執字', 5), ('揚志', 5), ('立即', 5), ('之女', 5), ('光碟', 5), ('動手', 5), ('款柒拾', 5), ('然', 5), ('吳青君', 5), ('交給', 5), ('稚', 5), ('李黎霞', 5), ('開發', 5), ('李宜宸', 5), ('鍏', 5), ('自即日起', 5), ('文元段', 5), ('者', 5), ('林立', 5), ('所屬', 5), ('力行', 5), ('補習', 5), ('日起分', 5), ('王秀端', 5), ('車貸', 5), ('經紀', 5), ('蔡漢穎', 5), ('能力', 5), ('著', 5), ('製作', 5), ('留置', 5), ('李雅婷', 5), ('駕駛座', 5), ('工廠', 5), ('蔡翠鳳', 5), ('歲', 5), ('永豐', 5), ('緊急', 5), ('美英', 5), ('旭日', 5), ('人林秀娟', 5), ('屬', 5), ('人林淑煌', 5), ('李育', 5), ('一瓶', 5), ('土木', 5), ('背信', 5), ('雨水', 5), ('南海', 5), ('由北向南', 5), ('會議', 5), ('復國', 5), ('互控', 5), ('開門', 5), ('紅利', 5), ('嘉義', 5), ('華平', 5), ('葉子', 5), ('上車', 5), ('現僅', 5), ('妨礙', 5), ('之一', 5), ('一個', 5), ('人林婉蓉', 5), ('存放', 5), ('房屋內', 5), ('何姿', 5), ('娌', 5), ('賣家', 5), ('清川', 5), ('另案處理', 5), ('並非', 5), ('撞傷', 5), ('民事判決', 5), ('丙方', 5), ('逾', 5), ('板橋', 5), ('設施', 5), ('人以', 5), ('任', 5), ('青', 5), ('墓地', 5), ('壹佰壹拾', 5), ('窗戶', 5), ('鄭伊玲', 5), ('張岳霖', 5), ('煞車', 5), ('天佑', 5), ('翁于', 5), ('政升', 5), ('平均分配', 5), ('罹患', 5), ('鄭夙伶', 5), ('從事', 5), ('蔓', 5), ('打傷', 5), ('主委', 5), ('妻', 5), ('蓁', 5), ('負', 5), ('提款卡', 5), ('張秀琴', 5), ('三張', 5), ('許文', 5), ('打架', 5), ('楊偉立', 5), ('敏', 5), ('可以', 5), ('萬玖仟元整', 5), ('志豪', 5), ('雅玲', 5), ('期滿', 5), ('岑許', 5), ('為己', 5), ('邱秀鶴', 5), ('分手', 5), ('良', 5), ('指', 5), ('簡訊', 5), ('放在', 5), ('近', 5), ('區鹽', 5), ('林君豪', 5), ('司機', 5), ('路及', 5), ('承包', 5), ('大眾', 5), ('撤銷', 5), ('開車', 5), ('勞', 5), ('並持', 5), ('潮濕', 5), ('只有', 5), ('赤', 5), ('何忠', 5), ('腳趾', 5), ('毛衣', 5), ('朱天來', 5), ('張瑋恩', 5), ('另有', 5), ('案號', 5), ('稅', 5), ('函', 5), ('柒佰柒拾', 5), ('造人蘇', 5), ('郭秀琴', 5), ('南二中', 5), ('逆向', 5), ('造人王', 5), ('取信', 5), ('司票', 5), ('時因', 5), ('輕微', 5), ('今因', 5), ('兩筆', 5), ('停車位', 5), ('遊覽', 5), ('李建興', 5), ('司促', 5), ('柴頭', 5), ('通道', 5), ('據稱', 5), ('崁', 5), ('時分', 5), ('台幣肆', 5), ('支出', 5), ('未盡', 5), ('吳嘉慧', 5), ('估價', 5), ('旻', 5), ('暐', 5), ('結算', 5), ('韻婷', 5), ('王冠', 5), ('四期', 5), ('簡易', 5), ('票據', 5), ('共識', 5), ('治所', 5), ('年初', 5), ('吃', 5), ('五金', 5), ('倒車', 5), ('近端', 5), ('滄海', 5), ('出來', 5), ('壹佰參', 5), ('星羽', 5), ('崇善', 5), ('網路上', 5), ('人現', 5), ('並無', 5), ('蔡富', 5), ('騎車', 5), ('佃', 5), ('所以', 5), ('謝孟庭', 5), ('請傷', 5), ('拾玖元', 5), ('店家', 5), ('胡書', 5), ('如期', 5), ('邀', 5), ('吳玉秀', 5), ('溪橋', 5), ('溢收', 5), ('劉品', 5), ('踢', 5), ('葉靜芬', 5), ('農業區', 5), ('中山北路', 5), ('慢車道', 5), ('琡', 5), ('宋建南', 5), ('車窗', 5), ('先前', 5), ('吳俞', 5), ('郭璟霖', 5), ('岔口', 5), ('車款', 5), ('得標', 5), ('瑢', 5), ('職業', 5), ('扭傷', 5), ('俊傑', 5), ('向陽', 5), ('場所', 5), ('揚言', 5), ('正常', 5), ('蔡雅涵', 5), ('管理室', 5), ('警察', 5), ('前臂', 5), ('各為', 5), ('蔡志明', 5), ('輔助', 5), ('張儒', 5), ('出言', 5), ('孫孟輝', 5), ('余佩真', 5), ('吳某', 5), ('當初', 5), ('分區', 5), ('座落', 5), ('何秀霞', 5), ('楊宗憲', 5), ('撞毀', 5), ('打電話', 5), ('發霉', 5), ('之委代', 5), ('往前', 5), ('由西向東', 5), ('桂蘭', 5), ('時至', 5), ('盧冠云', 5), ('合建', 5), ('卿', 5), ('元至', 5), ('往西方', 5), ('適有', 5), ('邱婧容', 5), ('盧慈恩', 5), ('暨', 5), ('佳', 5), ('人陳品', 5), ('勸募', 5), ('謝進', 5), ('母子', 5), ('第五', 5), ('汽車貸款', 5), ('聲音', 5), ('專業', 5), ('筱晴', 5), ('北華段', 5), ('互告', 5), ('伍佰玖拾', 5), ('途中', 5), ('秀玲', 5), ('公務', 5), ('駛至', 5), ('傷口', 5), ('偉盛', 5), ('出價', 5), ('婕', 5), ('全凱', 5), ('以聲', 5), ('懸掛', 5), ('許永添', 5), ('指示', 5), ('摔車', 5), ('英素', 5), ('許成', 5), ('滲漏水', 5), ('行里', 5), ('人林俊毅', 5), ('不要', 5), ('誣告', 5), ('李宛', 5), ('安裝', 5), ('丁', 5), ('商標', 5), ('堤頂', 5), ('鄭世華', 5), ('蔡孟麗', 5), ('劉鎮', 5), ('夜間', 5), ('張慈', 5), ('林亮葦', 5), ('優先', 5), ('新北市', 5), ('之意', 5), ('方車損', 5), ('人方', 5), ('中華日報', 5), ('陪同', 5), ('陸佰柒拾', 5), ('梁榮鋒', 5), ('追究其', 5), ('不見', 5), ('代收', 5), ('輝', 5), ('汝', 5), ('擋住', 5), ('發', 5), ('佯以', 5), ('實', 5), ('賺取', 5), ('表', 5), ('管理員', 5), ('有所', 5), ('號地號', 5), ('告聲', 5), ('僱工', 5), ('小車', 5), ('祥', 5), ('壓', 5), ('運', 5), ('正義', 5), ('葉雪', 5), ('滿', 5), ('拳頭', 5), ('婷', 5), ('帶回', 5), ('貴金', 5), ('福德', 5), ('橫越', 5), ('斡旋', 5), ('蔡孟峰', 5), ('蓋章', 5), ('打擊', 5), ('太', 5), ('牆', 5), ('電源線', 5), ('吳銘宏', 5), ('購入', 5), ('潑灑', 5), ('練習場', 5), ('仟元則', 5), ('整並', 5), ('安東', 5), ('傢俱', 5), ('跟', 5), ('立人段', 5), ('一致', 5), ('參萬柒仟元整', 5), ('購物', 5), ('冬瓜', 5), ('依君', 5), ('突然', 5), ('故現', 5), ('之台灣', 5), ('萬肆', 5), ('吳佳哲', 5), ('馬路', 5), ('輕', 5), ('陸橋', 5), ('六十', 5), ('門外', 5), ('故意', 5), ('遮雨棚', 5), ('業', 5), ('臉', 5), ('証', 5), ('濕滑', 5), ('不獲', 5), ('離家', 5), ('腳踏', 5), ('志', 5), ('提撥', 5), ('門', 4), ('之民', 4), ('大路', 4), ('上肢', 4), ('著作權法', 4), ('佐理', 4), ('琍', 4), ('平', 4), ('在外', 4), ('產物保險', 4), ('花蓮縣', 4), ('高嘉翊', 4), ('由北', 4), ('李郁', 4), ('保險公司', 4), ('巷與育德', 4), ('閩', 4), ('夏林路', 4), ('錞', 4), ('壹佰元', 4), ('維修費', 4), ('滲漏', 4), ('影本', 4), ('咬', 4), ('崴', 4), ('槍', 4), ('豪', 4), ('所有權狀', 4), ('杕', 4), ('憓', 4), ('購屋', 4), ('人林佩珍', 4), ('所在', 4), ('吳建儀', 4), ('寶', 4), ('聖', 4), ('歇業', 4), ('養生', 4), ('嘉體傷', 4), ('金延齡', 4), ('取走', 4), ('姊妹', 4), ('鄭淑娟', 4), ('挪用', 4), ('一下', 4), ('手續', 4), ('女方', 4), ('清泉', 4), ('葉家', 4), ('林詠', 4), ('出於', 4), ('右前', 4), ('吳進廷', 4), ('蔡鎮宇', 4), ('葉衍廷', 4), ('出門', 4), ('宣告', 4), ('自大', 4), ('杜松', 4), ('教唆', 4), ('單位', 4), ('左前', 4), ('高成', 4), ('春', 4), ('突出', 4), ('儀蒨', 4), ('則由聲', 4), ('侯聖能', 4), ('肆萬陸', 4), ('山路', 4), ('曾麗珍', 4), ('經濟', 4), ('昌', 4), ('肩膀', 4), ('郭志', 4), ('屏東', 4), ('台中市', 4), ('泰', 4), ('文雅', 4), ('上面', 4), ('標誌', 4), ('癸', 4), ('捌佰壹', 4), ('擺放', 4), ('跑', 4), ('人黃千瑜', 4), ('中途', 4), ('人僅', 4), ('知悉', 4), ('公會', 4), ('黃鴻斌', 4), ('生活費用', 4), ('滷菜', 4), ('陳思璇', 4), ('鞋子', 4), ('王友廷', 4), ('含量', 4), ('受領', 4), ('洪淑貞', 4), ('恐嚇罪', 4), ('水龍頭', 4), ('出口處', 4), ('幼鳥', 4), ('造人施', 4), ('之車', 4), ('濠', 4), ('忠孝', 4), ('開刀', 4), ('程天助', 4), ('房東', 4), ('很', 4), ('洗衣店', 4), ('沈鐵民', 4), ('住址', 4), ('致令', 4), ('渝', 4), ('蘇慶峰', 4), ('彩珠', 4), ('高珊', 4), ('推撞', 4), ('左膝', 4), ('功能', 4), ('王孜任', 4), ('真實', 4), ('翻覆', 4), ('楊淑', 4), ('致該', 4), ('攤', 4), ('賣出', 4), ('詢問', 4), ('鄭采研', 4), ('不成', 4), ('上前', 4), ('凹陷', 4), ('貿然', 4), ('底價', 4), ('人林柏譯', 4), ('喜', 4), ('丁方應', 4), ('壕', 4), ('號口', 4), ('表明', 4), ('楊晨', 4), ('由於', 4), ('孫紹', 4), ('高鐵', 4), ('原本', 4), ('檢驗', 4), ('討債', 4), ('未繳', 4), ('筆記型電腦', 4), ('條第', 4), ('建造', 4), ('李禕柔', 4), ('經解', 4), ('照護', 4), ('李增坪', 4), ('字樣', 4), ('淑媛', 4), ('許日', 4), ('禮服', 4), ('夢', 4), ('全權', 4), ('肘', 4), ('籃智', 4), ('阿慶', 4), ('劉宸', 4), ('壹佰陸', 4), ('腳踢', 4), ('木質', 4), ('王登煌', 4), ('鄭玉琪', 4), ('捨棄', 4), ('人黃祥銘', 4), ('之王', 4), ('慧鳳', 4), ('港溪', 4), ('德宏', 4), ('作業', 4), ('超越', 4), ('意', 4), ('應自', 4), ('巷東', 4), ('楊博鈞', 4), ('鄢蜀', 4), ('遭到', 4), ('四張', 4), ('清心', 4), ('吳東', 4), ('結構', 4), ('蔡源植', 4), ('觀音', 4), ('呈祥', 4), ('燕車損', 4), ('寶華', 4), ('民街', 4), ('伍仟元則', 4), ('替', 4), ('大廈', 4), ('活動', 4), ('麗玉', 4), ('杜', 4), ('及將', 4), ('淑珍', 4), ('一起', 4), ('人當', 4), ('一直', 4), ('起居', 4), ('信宏', 4), ('周雅雯', 4), ('標示', 4), ('排放', 4), ('混凝土', 4), ('出賣', 4), ('鄭巧', 4), ('而致', 4), ('周吳', 4), ('請聲', 4), ('往來', 4), ('高龍賢', 4), ('倒', 4), ('完工後', 4), ('東西', 4), ('劉仲霖', 4), ('左眼', 4), ('竣賢', 4), ('轉賣', 4), ('查封', 4), ('春江', 4), ('參元', 4), ('人黃昕', 4), ('一半', 4), ('存入', 4), ('劉慈慧', 4), ('崑', 4), ('瑞昌', 4), ('影像', 4), ('瀏覽', 4), ('下肢', 4), ('她', 4), ('不良', 4), ('接獲', 4), ('腰部', 4), ('莊文彥', 4), ('所有人', 4), ('瀧富', 4), ('哲學', 4), ('人文', 4), ('家屬', 4), ('幃', 4), ('廣告社', 4), ('賣', 4), ('陸佰參', 4), ('主任', 4), ('成年', 4), ('財產權', 4), ('議定', 4), ('傷對', 4), ('江泉', 4), ('日許', 4), ('人先', 4), ('呂孟頻', 4), ('邱冠翔', 4), ('郭育彰', 4), ('塔位', 4), ('燕', 4), ('防止', 4), ('邵嵇睿', 4), ('楊惠珍', 4), ('偕', 4), ('獲利', 4), ('告', 4), ('號營', 4), ('嫥', 4), ('吟', 4), ('即將', 4), ('蔡林秀菊', 4), ('鎖骨', 4), ('曳', 4), ('企銀', 4), ('借予', 4), ('手部', 4), ('吳品', 4), ('日起聲', 4), ('軟體', 4), ('神經', 4), ('一個月', 4), ('感情', 4), ('專案', 4), ('何偉', 4), ('楊雪蓁', 4), ('出新', 4), ('茄', 4), ('擔保金', 4), ('日本', 4), ('接', 4), ('鈊', 4), ('路人', 4), ('就醫', 4), ('過世', 4), ('訊息', 4), ('次子', 4), ('盧', 4), ('人林芷筠', 4), ('人黃書', 4), ('牙齒', 4), ('吳林換', 4), ('造人涉', 4), ('曾雅卿', 4), ('林秀芳', 4), ('壹佰捌', 4), ('菁', 4), ('裝置', 4), ('死', 4), ('藉故', 4), ('買', 4), ('已先', 4), ('福慶', 4), ('生之子', 4), ('李尉', 4), ('集團', 4), ('依附', 4), ('通路', 4), ('王茂林', 4), ('下半年', 4), ('起駛', 4), ('人賴玥', 4), ('捌佰柒', 4), ('馮佳琪', 4), ('制止', 4), ('仟玖佰', 4), ('造人以', 4), ('區小', 4), ('號車', 4), ('報告', 4), ('及第', 4), ('張秀敏', 4), ('蔡玟', 4), ('區總頭', 4), ('月止', 4), ('懷疑', 4), ('號因', 4), ('吳珮芸', 4), ('股骨', 4), ('各壹', 4), ('往北方', 4), ('楊育軒', 4), ('排班', 4), ('差價', 4), ('蘇得', 4), ('梁', 4), ('相', 4), ('位置', 4), ('祈', 4), ('進', 4), ('王薇婷', 4), ('劉彥', 4), ('金飾', 4), ('玫秀', 4), ('第二', 4), ('郁淳', 4), ('屆滿', 4), ('由黃逸修', 4), ('二中', 4), ('過失', 4), ('右肩', 4), ('之兆豐', 4), ('平義', 4), ('櫃員機', 4), ('金及', 4), ('卓杏', 4), ('查獲', 4), ('兆豐', 4), ('淑英', 4), ('振源', 4), ('修護', 4), ('賴映', 4), ('一同', 4), ('寄', 4), ('半', 4), ('李詠', 4), ('惟上', 4), ('貸得', 4), ('人施作', 4), ('不合', 4), ('急診', 4), ('砡', 4), ('春華', 4), ('薛承緯', 4), ('琿', 4), ('翁睿澤體傷', 4), ('顧客', 4), ('人壹拾', 4), ('格上', 4), ('加', 4), ('瑾', 4), ('房間內', 4), ('一中', 4), ('富田', 4), ('還是', 4), ('航空', 4), ('國小前', 4), ('空間', 4), ('捲', 4), ('花盆', 4), ('火山', 4), ('本田', 4), ('人黃碧琴', 4), ('查證', 4), ('後僅', 4), ('適逢', 4), ('呂峻杰', 4), ('國有', 4), ('拖', 4), ('李林', 4), ('不治', 4), ('指出', 4), ('李亞蓁', 4), ('傷且', 4), ('翁林祺', 4), ('菜市場', 4), ('光強', 4), ('盆栽', 4), ('重劃', 4), ('建築物', 4), ('新城', 4), ('郭婉婷', 4), ('王秉洋', 4), ('中風', 4), ('撞壞', 4), ('涉及', 4), ('該院', 4), ('發展', 4), ('打聲', 4), ('成交', 4), ('彩雲', 4), ('謝澈', 4), ('向前', 4), ('開放性', 4), ('顱骨', 4), ('邊', 4), ('客人', 4), ('吳雨', 4), ('帶走', 4), ('余鳳英', 4), ('吳俊鴻', 4), ('東街口', 4), ('傾斜', 4), ('尚允', 4), ('勞動法', 4), ('即可', 4), ('安明路', 4), ('王菊子', 4), ('檢署', 4), ('路和緯', 4), ('馬達', 4), ('萩', 4), ('證明文件', 4), ('詠', 4), ('單', 4), ('與施', 4), ('舉辦', 4), ('資', 4), ('大豐', 4), ('失去', 4), ('駛離', 4), ('許芳源', 4), ('瑞', 4), ('螢幕', 4), ('程琮仁', 4), ('總', 4), ('失竊', 4), ('衝出', 4), ('改名', 4), ('隆起', 4), ('地震', 4), ('吳昱林', 4), ('壎', 4), ('明月', 4), ('婚姻', 4), ('亭', 4), ('陸仟玖佰元整', 4), ('法律', 4), ('元成', 4), ('昏迷', 4), ('蔡秀娟', 4), ('添軒', 4), ('肆佰陸', 4), ('靜文', 4), ('萣', 4), ('品', 4), ('會後', 4), ('高麗', 4), ('拍照', 4), ('搬運', 4), ('鄭文惠', 4), ('每會', 4), ('議價', 4), ('萬柒仟元', 4), ('復興路', 4), ('塞', 4), ('搬家', 4), ('內科', 4), ('胸壁', 4), ('持續', 4), ('教會', 4), ('萬整', 4), ('人黃筠潔', 4), ('周春燕', 4), ('閻家駿', 4), ('勝', 4), ('周佳演', 4), ('姵', 4), ('楊明松', 4), ('韋章', 4), ('竹篙', 4), ('許雁茹', 4), ('不符', 4), ('專利權', 4), ('事務所', 4), ('人林怡', 4), ('確實', 4), ('第二項', 4), ('許雯琳', 4), ('吳宗翰', 4), ('眼球', 4), ('柒佰肆', 4), ('戴佑珍', 4), ('秀馨', 4), ('未成年', 4), ('邱柏勝', 4), ('周昶', 4), ('是否', 4), ('桌', 4), ('國璽', 4), ('秋香', 4), ('電視', 4), ('獨自', 4), ('大腿', 4), ('未留下', 4), ('元大', 4), ('嗣聲', 4), ('許維', 4), ('明利', 4), ('債款', 4), ('禔', 4), ('王繼蓬', 4), ('宛真', 4), ('顧問', 4), ('鄉台', 4), ('大榮', 4), ('利潤', 4), ('南台', 4), ('報紙', 4), ('死者', 4), ('佐', 4), ('郭棗', 4), ('玖佰元整', 4), ('楠梓', 4), ('陳光明', 4), ('人陳翠華', 4), ('用於', 4), ('超商前', 4), ('補發', 4), ('嬴', 4), ('墊', 4), ('捌佰肆', 4), ('清車', 4), ('門牌號', 4), ('未獲', 4), ('君', 4), ('億峰', 4), ('董密', 4), ('周文鴻', 4), ('人陳淑莉', 4), ('清枝', 4), ('補助', 4), ('其將', 4), ('贍養費', 4), ('包含', 4), ('溫鈞霆', 4), ('其女', 4), ('廖', 4), ('青山', 4), ('憲政', 4), ('刷卡', 4), ('能源', 4), ('遊覽車', 4), ('兼', 4), ('乘方', 4), ('陳明輝', 4), ('蔡蘇', 4), ('莊雅惠', 4), ('則自', 4), ('三分之一', 4), ('鄭羽', 4), ('取消', 4), ('環境保護局', 4), ('之母', 4), ('瘀', 4), ('月華', 4), ('竹', 4), ('資產', 4), ('排骨', 4), ('之大', 4), ('損毀', 4), ('人陳法', 4), ('各給', 4), ('過', 4), ('姿', 4), ('王麗秋', 4), ('岡山', 4), ('人盧', 4), ('查知', 4), ('臺東', 4), ('後面', 4), ('全', 4), ('紘', 4), ('至成', 4), ('貳佰壹拾', 4), ('未依', 4), ('樓至', 4), ('一場', 4), ('而於', 4), ('郭陳麗姿', 4), ('發表', 4), ('明於', 4), ('建興', 4), ('檢修', 4), ('前聲', 4), ('公然', 4), ('短期', 4), ('重製', 4), ('每逢', 4), ('王士庭', 4), ('里南', 4), ('下營', 4), ('損人傷', 4), ('機具', 4), ('蔡佳興', 4), ('當面', 4), ('采', 4), ('文海', 4), ('郭秋君', 4), ('明汾', 4), ('事實上', 4), ('驗收', 4), ('無誤', 4), ('謝涵', 4), ('排水槽', 4), ('致王', 4), ('賣掉', 4), ('刑法', 4), ('不適', 4), ('回應', 4), ('汽車保險', 4), ('地方', 4), ('調閱', 4), ('具', 4), ('鄭景耀', 4), ('超過', 4), ('統亞', 4), ('公', 4), ('困難', 4), ('身亡', 4), ('邱義仁', 4), ('因車禍', 4), ('人林郁雯', 4), ('柏仁', 4), ('店長', 4), ('文章', 4), ('大成', 4), ('該棟', 4), ('電桿', 4), ('張曼瑜', 4), ('施琳姿', 4), ('花蓮市', 4), ('浪板', 4), ('孟娟', 4), ('樑柱', 4), ('爭', 4), ('給對', 4), ('簽定', 4), ('侵占罪', 4), ('汽機', 4), ('更', 4), ('左營', 4), ('朝', 4), ('迴轉', 4), ('置', 4), ('新樂', 4), ('鄭聿涵', 4), ('主臥室', 4), ('柔', 4), ('劉宇', 4), ('洪郁芳', 4), ('每日', 4), ('行人穿越', 4), ('郭義豪', 4), ('具狀', 4), ('後座', 4), ('呂怡靜', 4), ('蔡承佑', 4), ('入口處', 4), ('無著', 4), ('緻', 4), ('份', 4), ('寶貴', 4), ('點數', 4), ('媜', 4), ('施做', 4), ('許秀琴', 4), ('新街', 4), ('其向', 4), ('人林作', 4), ('其所施作', 4), ('葉琇玲', 4), ('款參', 4), ('吳宜', 4), ('防水', 4), ('出口', 4), ('許芳', 4), ('姿伶', 4), ('計算', 4), ('月委請', 4), ('肆佰參拾', 4), ('清洗', 4), ('吳俊儀', 4), ('圖片', 4), ('業於', 4), ('如聲', 4), ('號等', 4), ('電信', 4), ('李翊', 4), ('劉啟', 4), ('保險金', 4), ('秋蘭', 4), ('聯結', 4), ('就診', 4), ('賈文翔', 4), ('王俊驊', 4), ('新港', 4), ('誠富發', 4), ('清除', 4), ('聰敏', 4), ('用印', 4), ('劉明翰', 4), ('生產', 4), ('毀謗', 4), ('無線', 3), ('夙', 3), ('林雅雯', 3), ('酉', 3), ('未有', 3), ('從後撞', 3), ('引發', 3), ('佛學', 3), ('楊順福', 3), ('現任', 3), ('車損聲', 3), ('陽明', 3), ('水錶', 3), ('永明', 3), ('看診', 3), ('雄體', 3), ('蔡佩庭', 3), ('辰宇', 3), ('文振', 3), ('誹謗', 3), ('人壽', 3), ('徐玉珍', 3), ('人賴映婷', 3), ('中聲', 3), ('走廊', 3), ('紅腫', 3), ('自助餐', 3), ('蔡正', 3), ('校門口', 3), ('萬多元', 3), ('張振泓', 3), ('諮', 3), ('落差', 3), ('不還', 3), ('官慧玲', 3), ('人陳宗', 3), ('雜', 3), ('柏燕', 3), ('說話', 3), ('人陳雅雯', 3), ('葉凱偉', 3), ('人龍', 3), ('秀英', 3), ('楊融', 3), ('花費', 3), ('玉井', 3), ('訂於', 3), ('日盛', 3), ('特種', 3), ('康博堯', 3), ('移送', 3), ('臉頰', 3), ('永昌', 3), ('盜刷', 3), ('復興', 3), ('正明', 3), ('模具', 3), ('顯示', 3), ('三萬元', 3), ('限期', 3), ('全利', 3), ('以及', 3), ('韓菁萍', 3), ('蔡永霖', 3), ('欣怡', 3), ('本糧', 3), ('巷子', 3), ('溪', 3), ('文山', 3), ('璦', 3), ('勞動', 3), ('鄭吳', 3), ('轉帳', 3), ('沛蓁', 3), ('借得', 3), ('黃色', 3), ('執照', 3), ('梁家', 3), ('壹佰壹', 3), ('三筆', 3), ('咆哮', 3), ('事發', 3), ('楷', 3), ('洪立武', 3), ('破洞', 3), ('銀南', 3), ('金孝信', 3), ('孫先宗', 3), ('藝術', 3), ('買受人', 3), ('人陳煒', 3), ('短少', 3), ('林錦溝', 3), ('人孫', 3), ('水源', 3), ('蔡才', 3), ('原佃', 3), ('並回', 3), ('拍', 3), ('劉瑞富', 3), ('佳倍潔', 3), ('應由', 3), ('盧蒨', 3), ('芊', 3), ('要給', 3), ('萬年', 3), ('分院', 3), ('渣打', 3), ('壁', 3), ('合一', 3), ('綠地', 3), ('嘉里', 3), ('參萬陸', 3), ('需再', 3), ('宏遠', 3), ('受理', 3), ('中小企業', 3), ('華蘭', 3), ('侯佩玲', 3), ('洗車', 3), ('共約', 3), ('啟惠原', 3), ('融資', 3), ('巷前', 3), ('屋前', 3), ('守', 3), ('山貓', 3), ('資遣費', 3), ('糾葛', 3), ('王思婷', 3), ('員', 3), ('駕', 3), ('均分', 3), ('徐欣儀', 3), ('假扣押', 3), ('數仟元', 3), ('頡', 3), ('婌', 3), ('蔡同', 3), ('營', 3), ('虎骨酒', 3), ('相識', 3), ('莊惠晶', 3), ('聲稱', 3), ('邱建勳', 3), ('法容', 3), ('本市', 3), ('飛', 3), ('整理', 3), ('庭院', 3), ('施景中', 3), ('庇護', 3), ('潘慧芳', 3), ('楊喬安', 3), ('木地板', 3), ('邱慧芸', 3), ('殘障', 3), ('梅蘭', 3), ('江', 3), ('再次', 3), ('王麗雀', 3), ('子', 3), ('公車站', 3), ('源泉', 3), ('委由', 3), ('造人洪', 3), ('見證人', 3), ('債務人', 3), ('人黃紀', 3), ('玉米', 3), ('肆佰捌', 3), ('豆腐', 3), ('攝影', 3), ('林元', 3), ('餐盤', 3), ('學生', 3), ('蕭', 3), ('人黃懿純', 3), ('安段', 3), ('長田', 3), ('起重機', 3), ('垃圾車', 3), ('西湖', 3), ('東往', 3), ('依據', 3), ('亞東', 3), ('佳靖', 3), ('湯朝欽', 3), ('林麗菁', 3), ('桂', 3), ('雪', 3), ('李淑惠', 3), ('小吃', 3), ('人林佳', 3), ('行照', 3), ('陳莉莉', 3), ('保險局', 3), ('召集', 3), ('發生意外', 3), ('舒妤', 3), ('憲章', 3), ('顏面', 3), ('李黃春美', 3), ('洪婉寧', 3), ('鋁門', 3), ('泊', 3), ('限', 3), ('月琴', 3), ('意見書', 3), ('借新', 3), ('再度', 3), ('人系爭', 3), ('出國', 3), ('網', 3), ('李金', 3), ('慶涵', 3), ('不斷', 3), ('佰元整', 3), ('蘇郁馨', 3), ('屋簷', 3), ('平均', 3), ('住居', 3), ('樊', 3), ('退', 3), ('人黃浚', 3), ('一對', 3), ('綾', 3), ('周建龍', 3), ('人有', 3), ('郭希成', 3), ('水池', 3), ('投射燈', 3), ('用均', 3), ('樹', 3), ('葉凌韻', 3), ('鄭福江', 3), ('疼痛', 3), ('近來', 3), ('不利', 3), ('天明', 3), ('鄭宇晉', 3), ('世', 3), ('艾珍', 3), ('咖', 3), ('盜版', 3), ('益民', 3), ('水', 3), ('祝壽', 3), ('號電桿', 3), ('陳毅', 3), ('采茜', 3), ('許耿豪', 3), ('密碼', 3), ('文賢國', 3), ('三重', 3), ('生財器具', 3), ('撿拾', 3), ('修正', 3), ('婚生子女', 3), ('意涵', 3), ('周淑如', 3), ('影片', 3), ('店員', 3), ('徒步', 3), ('王琬晴', 3), ('計元整', 3), ('加以', 3), ('追逐', 3), ('方便', 3), ('徐詩婷', 3), ('海', 3), ('依法', 3), ('林王', 3), ('註冊', 3), ('存', 3), ('金等', 3), ('逕自', 3), ('每次', 3), ('盧家', 3), ('蔡柏洲', 3), ('運送', 3), ('盈涵', 3), ('人竟', 3), ('遷離', 3), ('水康區', 3), ('吳佳鋒', 3), ('否', 3), ('弘霖', 3), ('腰椎', 3), ('漁會', 3), ('謝富', 3), ('你們', 3), ('玉器', 3), ('房客', 3), ('唐麗香', 3), ('鴻佳', 3), ('趁機', 3), ('因其', 3), ('經向', 3), ('股利', 3), ('喬雯', 3), ('土城', 3), ('廖敏蓉', 3), ('人分', 3), ('參佰陸拾', 3), ('香懷', 3), ('鄧', 3), ('人林展', 3), ('六路', 3), ('肆元', 3), ('解散', 3), ('司', 3), ('人伍', 3), ('柳', 3), ('殯葬', 3), ('打開', 3), ('下方', 3), ('提款', 3), ('諴', 3), ('蔡昆澤', 3), ('填寫', 3), ('整合', 3), ('林榮冠', 3), ('郭和蒲', 3), ('德欽', 3), ('震動', 3), ('弟弟', 3), ('冒用', 3), ('水流', 3), ('商議', 3), ('雅虎', 3), ('女婿', 3), ('鄭采茵', 3), ('複', 3), ('德興', 3), ('區慶平路', 3), ('出借', 3), ('因病', 3), ('謝季', 3), ('客服', 3), ('再委請', 3), ('距離', 3), ('兩人', 3), ('劉建宗', 3), ('發起', 3), ('現林', 3), ('不甘', 3), ('由東', 3), ('柒拾伍', 3), ('行政', 3), ('定時', 3), ('這種', 3), ('倉庫', 3), ('四筆', 3), ('參萬玖仟元整', 3), ('墘', 3), ('頭期款', 3), ('林振昌', 3), ('簽單', 3), ('鎚', 3), ('擋風玻璃', 3), ('李維霖', 3), ('中指', 3), ('肆萬柒仟元整', 3), ('次女', 3), ('莊妍貞', 3), ('波', 3), ('住宅區', 3), ('轉介本件', 3), ('易字', 3), ('張其', 3), ('盧儀芳', 3), ('地區', 3), ('造人店', 3), ('姐姐', 3), ('伸手', 3), ('訴訟費用', 3), ('莊林澤', 3), ('羽', 3), ('過低', 3), ('去向不明', 3), ('中度', 3), ('退貨', 3), ('王俊皓', 3), ('五仟元', 3), ('撤告', 3), ('俊', 3), ('吳清宗', 3), ('林貴金', 3), ('保健食品', 3), ('淦', 3), ('人林福雄', 3), ('林勇志', 3), ('叫罵', 3), ('文聲', 3), ('蔡嘉隆', 3), ('少年', 3), ('一定', 3), ('掉', 3), ('百分之', 3), ('屏東縣', 3), ('中小', 3), ('與育德路', 3), ('造人余', 3), ('人永保', 3), ('當期', 3), ('承接', 3), ('誘使', 3), ('無骨', 3), ('千芳', 3), ('攜帶', 3), ('永吉', 3), ('片', 3), ('姚', 3), ('人大', 3), ('華銀', 3), ('否認', 3), ('路東', 3), ('植牙', 3), ('價額', 3), ('區郡安路', 3), ('不當得利', 3), ('街巷', 3), ('運轉', 3), ('寀', 3), ('金忠', 3), ('東河', 3), ('超車', 3), ('人黃秀', 3), ('藉以', 3), ('二次', 3), ('人林思妤', 3), ('維護', 3), ('經調', 3), ('李昆霖', 3), ('封閉', 3), ('人陳貞吟', 3), ('歉意', 3), ('建築材料', 3), ('聽', 3), ('私自', 3), ('歐', 3), ('柏宏', 3), ('金鳳體傷', 3), ('前夫', 3), ('地基', 3), ('七里香', 3), ('扆', 3), ('壁紙', 3), ('醫護人員', 3), ('林麗美', 3), ('私人', 3), ('經查', 3), ('李昱', 3), ('幸', 3), ('區尚', 3), ('湖內', 3), ('主', 3), ('商行', 3), ('連佩雯', 3), ('工期', 3), ('亡故', 3), ('道旁', 3), ('答應', 3), ('陶', 3), ('指控', 3), ('榛', 3), ('慢車', 3), ('萍', 3), ('吳映', 3), ('枝葉', 3), ('許家', 3), ('楊尚尉', 3), ('之鐵', 3), ('其車', 3), ('加工', 3), ('不便', 3), ('退保', 3), ('下層', 3), ('張敏珠', 3), ('桶', 3), ('常', 3), ('圍籬', 3), ('面', 3), ('摔傷', 3), ('趁', 3), ('應徵', 3), ('庭', 3), ('自由', 3), ('阿蓮', 3), ('唐芬萍', 3), ('苓', 3), ('柒佰玖拾', 3), ('林崇德', 3), ('門鈴', 3), ('人林慧琴', 3), ('國宅', 3), ('更名', 3), ('李廷緯', 3), ('椅子', 3), ('端', 3), ('區溪', 3), ('父', 3), ('愮', 3), ('人葉靜', 3), ('廠內', 3), ('李忠憲', 3), ('低價', 3), ('加入', 3), ('套', 3), ('明道', 3), ('每張', 3), ('情感', 3), ('陳鴻榮', 3), ('廠房', 3), ('如果', 3), ('林文進', 3), ('承購', 3), ('盧敬文', 3), ('伍佰元則', 3), ('東向', 3), ('郭月秀', 3), ('日要', 3), ('馮', 3), ('獲得', 3), ('寶珠', 3), ('佳益行', 3), ('錆', 3), ('李惠如', 3), ('原定', 3), ('溱', 3), ('早餐', 3), ('年底', 3), ('左腳', 3), ('維持', 3), ('人黃惠珍', 3), ('後門', 3), ('照鏡', 3), ('施逸陽', 3), ('主治醫師', 3), ('湘', 3), ('規格', 3), ('警示', 3), ('損均', 3), ('書予', 3), ('黃金山', 3), ('三合', 3), ('李炎山', 3), ('柯葉碧子', 3), ('春子', 3), ('韌帶', 3), ('會同', 3), ('吳博雄', 3), ('日即', 3), ('巧', 3), ('吳蘇玲', 3), ('促字', 3), ('假', 3), ('環', 3), ('三紙', 3), ('人林秉叡', 3), ('溍', 3), ('愉', 3), ('車位', 3), ('肌肉', 3), ('郭欽水', 3), ('全福', 3), ('潘奕玟', 3), ('大哥大', 3), ('水電工程', 3), ('年來', 3), ('豪體傷', 3), ('相互間', 3), ('上半年', 3), ('正盟', 3), ('洪梓傑', 3), ('基祿', 3), ('喬', 3), ('公告', 3), ('郭雪', 3), ('穿', 3), ('該地', 3), ('北邊', 3), ('人黃', 3), ('阮妙賢', 3), ('劉育', 3), ('禛', 3), ('不知情', 3), ('機會', 3), ('在家', 3), ('文體', 3), ('左肩', 3), ('朱曉', 3), ('房屋貸款', 3), ('取', 3), ('蔡瑞真', 3), ('台灣省', 3), ('東安', 3), ('造人賴', 3), ('闖越', 3), ('林振明', 3), ('吳承諺', 3), ('吳慧玲', 3), ('吊車', 3), ('段家', 3), ('張志良', 3), ('素梅', 3), ('由受', 3), ('石羽詩', 3), ('統聯', 3), ('嚴錦聰', 3), ('天成', 3), ('洪建豪', 3), ('蒼德', 3), ('毀棄', 3), ('恭', 3), ('行銷', 3), ('素惠', 3), ('兆', 3), ('頸椎', 3), ('七', 3), ('拍打', 3), ('性騷擾', 3), ('歐盛雄', 3), ('摟', 3), ('租給', 3), ('強行', 3), ('曾柏諺', 3), ('美修', 3), ('元給', 3), ('貨物', 3), ('少年法庭', 3), ('順其', 3), ('自宅', 3), ('增為', 3), ('南化區', 3), ('雨衣', 3), ('瑞芬', 3), ('采妙', 3), ('向上', 3), ('新華', 3), ('李爵麟', 3), ('唐見璋', 3), ('王俊能', 3), ('哲持', 3), ('推擠', 3), ('大姆指', 3), ('奇摩', 3), ('明偉', 3), ('撫養', 3), ('同址', 3), ('張馨文', 3), ('慈', 3), ('大約', 3), ('裝', 3), ('招攬', 3), ('永興', 3), ('駱元', 3), ('鳳爪', 3), ('審核', 3), ('人段', 3), ('吃飯', 3), ('陸佰肆', 3), ('新樓', 3), ('房產', 3), ('之下', 3), ('辦妥', 3), ('錡', 3), ('人原', 3), ('沈孟嬅', 3), ('張夢麟', 3), ('稅籍', 3), ('段佩琪', 3), ('正文', 3), ('現就', 3), ('鄭閎', 3), ('四樓', 3), ('勞工保險', 3), ('扭', 3), ('二年', 3), ('數位', 3), ('吳金', 3), ('登旺', 3), ('太元', 3), ('五台', 3), ('泰羽', 3), ('王昕', 3), ('啟峰', 3), ('聊天', 3), ('敲打', 3), ('人因', 3), ('即日起', 3), ('安康', 3), ('平台', 3), ('零玖拾', 3), ('眼眶', 3), ('車無', 3), ('臥室', 3), ('壓縮機', 3), ('捌佰陸', 3), ('雅婷', 3), ('靠近', 3), ('大維', 3), ('號的', 3), ('散佈', 3), ('蔡泳震', 3), ('農科', 3), ('人顏', 3), ('德昌', 3), ('邀聲', 3), ('周余蒨', 3), ('未給', 3), ('如數', 3), ('滑', 3), ('存證', 3), ('觸摸', 3), ('人右', 3), ('化學', 3), ('予以', 3), ('鄭昱婕', 3), ('施龍', 3), ('同棟', 3), ('口處', 3), ('廖紹齊', 3), ('肋骨', 3), ('人陳春秀', 3), ('楊馥蓉', 3), ('國一', 3), ('號誌', 3), ('育樂', 3), ('方法', 3), ('麥書維', 3), ('伍佰', 3), ('留下', 3), ('否則', 3), ('楊宗翰', 3), ('人則', 3), ('王雅雯', 3), ('崇安', 3), ('人鼎', 3), ('國立', 3), ('鋼筋', 3), ('便利商店', 3), ('漆', 3), ('雄州', 3), ('詹項', 3), ('蕭智益', 3), ('李蕙', 3), ('網頁', 3), ('經銷商', 3), ('張憶', 3), ('往後', 3), ('瘀傷', 3), ('蕭克', 3), ('湖美', 3), ('李貴珠', 3), ('邱萬', 3), ('王儷蓁', 3), ('郭俊麟', 3), ('雅區', 3), ('零件', 3), ('乙案', 3), ('開對', 3), ('殘體', 3), ('冷', 3), ('趁聲', 3), ('鄰', 3), ('誤信', 3), ('未附', 3), ('解前', 3), ('振南', 3), ('松', 3), ('狀態', 3), ('賣場', 3), ('晏', 3), ('蔡昀璋', 3), ('源', 3), ('而聲', 3), ('李文郁', 3), ('民宅', 3), ('造人劉', 3), ('隱瞞', 3), ('方仲儀', 3), ('職員', 3), ('交易量', 3), ('灣', 3), ('薛雨', 3), ('清吉', 3), ('成果', 3), ('當月', 3), ('舊識', 3), ('現況', 3), ('查詢', 3), ('揚', 3), ('吉安', 3), ('柒萬陸', 3), ('款壹佰', 3), ('王輝麟', 3), ('有聲', 3), ('佰元', 3), ('致李', 3), ('致渠', 3), ('楊順', 3), ('侵犯', 3), ('額', 3), ('姆費', 3), ('計畫', 3), ('王施勉', 3), ('釣蝦場', 3), ('豐瑞', 3), ('王勝', 3), ('董事長', 3), ('按時', 3), ('主機', 3), ('檢號', 3), ('曹晉', 3), ('現經', 3), ('蔡秉達', 3), ('游雅', 3), ('吳逸煒', 3), ('收回', 3), ('林永權', 3), ('超出', 3), ('謀生', 3), ('豔', 3), ('楊惠婷', 3), ('人南君', 3), ('何人', 3), ('人范氏', 3), ('保人', 3), ('與立', 3), ('不實', 3), ('信華', 3), ('北海', 3), ('還', 3), ('橈骨', 3), ('流血', 3), ('右前方', 3), ('車頂', 3), ('桂花', 3), ('葉慶嵩', 3), ('反應', 3), ('大光', 3), ('區台', 3), ('人陳國綸', 3), ('王廷軒', 3), ('追討', 3), ('擔保責任', 3), ('壹佰柒拾', 3), ('商標法', 3), ('無效', 3), ('山莊', 3), ('晟', 3), ('分隔', 3), ('辜詩婷', 3), ('汽油', 3), ('聽聞', 3), ('班', 3), ('紀錄', 3), ('更改', 3), ('休息', 3), ('謝容', 3), ('人黃志', 3), ('仔', 3), ('自來水', 3), ('倒會', 3), ('智', 3), ('霍', 3), ('胡富', 3), ('先於', 3), ('按期', 3), ('王順國', 3), ('好事', 3), ('郭條', 3), ('肆佰玖拾', 3), ('洗衣', 3), ('自家', 3), ('開價', 3), ('劉辰', 3), ('幫聲', 3), ('所得', 3), ('林進', 3), ('肆萬柒仟', 3), ('一時', 3), ('石育', 3), ('手肘', 3), ('岑秉龍', 3), ('價', 3), ('懲罰性', 3), ('人林莉菁', 3), ('參佰肆', 3), ('委託書', 3), ('老人', 3), ('暴力', 3), ('楊韻潔', 3), ('撘', 3), ('催繳', 3), ('李黃慶梅', 3), ('管轄', 3), ('施昭偉', 3), ('吳佳紋', 3), ('之妻', 3), ('動產', 3), ('右腳', 3), ('高雄縣', 3), ('機', 3), ('泉源', 3), ('清體傷', 3), ('吳黃明', 3), ('背面', 3), ('環保局', 3), ('集', 3), ('羅素', 3), ('天', 3), ('高立', 3), ('貳佰參拾', 3), ('現先', 3), ('內部', 3), ('雲車損', 3), ('蘇怡', 3), ('蔡宗諭', 3), ('處於', 3), ('鄭旭', 3), ('定', 3), ('王逸琳', 3), ('李良軒', 3), ('款柒', 3), ('後續', 3), ('頂里', 3), ('於是', 3), ('人陳芳', 3), ('價格', 3), ('林泓成', 3), ('幫忙', 3), ('張莉婷', 3), ('講義', 3), ('王雅君', 3), ('柯宇晉', 3), ('林月琴', 3), ('楊家', 3), ('某處', 3), ('零伍佰元整', 3), ('勞務費', 3), ('造人程', 3), ('重大', 3), ('涓', 3), ('邱利', 3), ('私人物品', 3), ('逝世', 3), ('哲霖', 3), ('林吉村', 3), ('條規', 3), ('三年', 3), ('安吉', 3), ('隔日', 3), ('建展', 3), ('參萬玖仟', 3), ('位', 3), ('脫位', 3), ('分前', 3), ('小娟', 3), ('衝撞', 3), ('手掌', 3), ('李迪悠', 3), ('木棒', 3), ('推銷', 3), ('輛', 3), ('護欄', 3), ('元未還', 3), ('楊聰元', 3), ('結帳', 3), ('昆明', 3), ('葉榮', 3), ('謝裕鋒', 3), ('玖佰參拾', 3), ('刑調', 3), ('當晚', 3), ('宛麟', 3), ('憑', 3), ('駛', 3), ('鋐', 3), ('許文福', 3), ('蔡宜倫', 3), ('顯庭', 3), ('女友', 3), ('捌佰柒拾', 3), ('高速公路', 3), ('蔡林', 3), ('票', 3), ('屏體傷', 3), ('郭亭', 3), ('北園橋', 3), ('人陳芷羚', 3), ('石璨綸', 3), ('張穎擷', 3), ('吳秀葉', 3), ('溪河', 3), ('強調', 3), ('不給', 3), ('芳', 3), ('正安', 3), ('人麥', 3), ('丈', 3), ('動作', 3), ('人民', 3), ('平路', 3), ('天聖', 3), ('奕奕', 3), ('蔡宗弦', 3), ('彩', 3), ('驛', 3), ('施素', 3), ('確為', 3), ('宿舍', 3), ('人陳佳蓉', 3), ('謝君儀', 3), ('王姿琪', 3), ('瑞雲', 3), ('一隻', 3), ('擴點', 3), ('陸元', 3), ('開時', 3), ('郭鴻霆', 3), ('幀', 3), ('莊松雄', 3), ('人黃鈺雅', 3), ('交流', 3), ('中興', 3), ('美珠', 3), ('經本會', 3), ('停工', 3), ('今日', 3), ('傳', 3), ('蔡益仁', 3), ('配通', 3), ('玹', 3), ('吳宥儀', 3), ('解決', 3), ('不聞不問', 3), ('意舫', 3), ('無傷', 3), ('紙以', 3), ('曾炳魁', 3), ('向仲信', 3), ('吳燕珍', 3), ('款為', 3), ('荃', 3), ('許紋', 3), ('洺', 3), ('科', 3), ('賴詹寶嬌', 3), ('李榮', 3), ('周瑋軒', 3), ('楊輝旭', 3), ('巷內', 3), ('百分之五', 3), ('許丞凱', 3), ('蔡旻君', 3), ('楊苓', 3), ('蘇奕容', 3), ('人陳鈺', 3), ('紋', 3), ('茸', 3), ('旭', 3), ('王建明', 3), ('呂宗', 3), ('蕭凱云', 3), ('弟', 3), ('及車', 3), ('王金柱', 3), ('正仁', 3), ('人黃瑋', 3), ('鄧宇傑', 3), ('瀛', 3), ('盈靜', 3), ('另約', 3), ('書費', 3), ('藍海', 3), ('來車', 3), ('侯怡帆', 3), ('吳明儒', 3), ('王泰', 3), ('懷孕', 3), ('捌佰陸拾', 3), ('開系爭', 3), ('雙手', 3), ('並均', 3), ('蔡正成', 3), ('有權', 3), ('李林淑玲', 3), ('逼迫', 3), ('吳雅敏', 3), ('邱靖', 3), ('扣押', 3), ('蔡季瑾', 3), ('轉借', 3), ('產生糾紛', 3), ('鐘', 3), ('實為', 3), ('金秋', 3), ('抵銷', 3), ('五期', 3), ('西和路', 3), ('簽訂契約', 3), ('人陳國舟', 3), ('斯', 3), ('複製', 3), ('合法', 3), ('人趙益', 3), ('安中', 3), ('鍚', 3), ('藏密', 3), ('蔡貞', 3), ('街交', 3), ('商談', 3), ('特', 3), ('人林佳憲', 3), ('藥妝店', 3), ('頂美三街', 3), ('之共', 3), ('思源', 3), ('蔡平', 3), ('一家', 3), ('處置', 3), ('貳佰參', 3), ('假借', 3), ('整約', 3), ('小段', 3), ('傳送', 3), ('用錢', 3), ('將原', 3), ('三宅', 3), ('興華', 3), ('鄭靜軒', 3), ('銀花', 3), ('住所地', 3), ('張振欽', 3), ('東段', 3), ('化糞池', 3), ('扣款', 3), ('蔡妙子', 3), ('明星', 3), ('清水', 3), ('郭雨軒', 3), ('犯', 3), ('褓', 3), ('清風', 3), ('顏高敏', 3), ('美花', 3), ('王郭', 3), ('文凱', 3), ('佛像', 3), ('侑', 3), ('郭素惠', 3), ('言行', 3), ('南山', 3), ('甲魚', 3), ('文元國', 3), ('大安', 3), ('廚具', 3), ('機時', 3), ('各別', 3), ('徐子婷', 3), ('郭靜蓉', 3), ('廷', 3), ('什麼', 3), ('點選', 3), ('雋', 3), ('器具', 3), ('李張幸', 3), ('蘇恒璋', 3), ('盧春益', 3), ('環河', 3), ('岡', 3), ('徐銘澤', 3), ('壹個', 3), ('吳信', 3), ('中油', 3), ('兩車', 3), ('人黃銘', 3), ('方泳傑', 3), ('廖珍平', 3), ('蕭瑞敏', 3), ('張耀仁', 3), ('公學', 3), ('吳雅琪', 3), ('郭麗雪', 3), ('黃琮淵', 3), ('緊鄰', 3), ('血腫', 3), ('棒', 3), ('眼部', 3), ('注入', 3), ('木棍', 3), ('謝麗惠', 3), ('補貼', 3), ('臺中市', 3), ('呂杰穎', 3), ('賢街', 3), ('察覺', 3), ('經送', 3), ('現金支付', 3), ('覃陳', 3), ('壹佰玖拾', 3), ('太保', 3), ('左臉', 3), ('卡拉', 3), ('柱子', 3), ('志達', 3), ('月霞', 3), ('吳隱展', 3), ('東橋', 3), ('吳旗', 3), ('娟', 3), ('吉通', 3), ('惟其', 3), ('蔡淑貞', 3), ('萬炎彬', 3), ('任人', 3), ('燈', 3), ('冠', 3), ('持票', 3), ('另自', 3), ('突爆', 3), ('肆佰肆', 3), ('之夫', 3), ('過久', 3), ('家具', 3), ('追', 3), ('人共新', 3), ('將車', 3), ('許素娟', 3), ('抵押借款', 3), ('每天', 3), ('吋', 3), ('磚造', 3), ('喜樹', 3), ('寄至', 3), ('整作', 3), ('為聲', 3), ('遲', 3), ('而涉', 3), ('國慶', 3), ('許涵', 3), ('吳宗', 3), ('賣予', 3), ('黃士', 3), ('日分', 3), ('上訴', 3), ('六萬元', 3), ('許豪文', 3), ('國賢', 3), ('涂巧', 3), ('右邊', 3), ('遭拒', 3), ('石頭', 3), ('截肢', 3), ('飽', 3), ('聲聲', 3), ('讚', 3), ('人夏宏毅', 3), ('保費', 3), ('東城', 3), ('床', 3), ('全體', 3), ('經其', 3), ('債權人', 3), ('郭文昆', 3), ('毆打成傷', 3), ('貳佰柒拾', 3), ('洪翊婷', 3), ('吳孟芳', 3), ('謙', 3), ('周麗娟', 3), ('致有', 3), ('分擔', 3), ('人傑', 3), ('方面', 3), ('財損', 3), ('元分', 3), ('人林煒', 3), ('八街', 3), ('他們', 3), ('推倒', 3), ('電料', 3), ('佯', 3), ('不想', 3), ('興業', 3), ('王宥', 3), ('故本件', 3), ('滲透', 3), ('六段', 3), ('官田', 3), ('汽車旅館', 3), ('五樓', 3), ('志遠', 3), ('昭平', 3), ('分攤', 3), ('信', 3), ('榮結', 3), ('鄭雅今', 3), ('結束', 3), ('謝心', 3), ('費時', 3), ('蕭百修', 3), ('翁瑋彤', 3), ('故未', 3), ('籃敏昌', 3), ('與育', 3), ('轉包', 3), ('之日止', 3), ('張仲賢', 3), ('學園', 3), ('大內', 3), ('子車', 3), ('斷裂', 3), ('駛入', 3), ('宜真', 3), ('計', 3), ('非', 3), ('沈彥', 3), ('張惠娥', 3), ('侯', 3), ('人程', 3), ('全義', 3), ('放於', 3), ('馮瑜麟', 3), ('許芳美', 3), ('唐銘宏', 3), ('王洪', 3), ('王君萍', 3), ('通過', 3), ('地檢', 3), ('調字', 3), ('以壹拾', 3), ('建綸', 3), ('書上', 3), ('環保', 3), ('依湘', 3), ('王俊凱', 3), ('蔡宜庭', 3), ('延宕', 3), ('汪偉翔', 3), ('姿安', 3), ('沈宓', 3), ('熱水爐', 3), ('秀鳳', 3), ('郭肅', 3), ('追訴權', 3), ('膝蓋', 3), ('張博閔', 3), ('四人', 3), ('人陳瑞吟', 3), ('權利義務', 3), ('鄰屋', 3), ('音量', 3), ('法拍', 3), ('嬋娟', 3), ('康祥段', 3), ('人壽保險', 3), ('預繳', 3), ('冰', 3), ('貳佰柒', 3), ('蔡政軒', 3), ('退租', 3), ('附', 3), ('信函', 3), ('無力', 3), ('持球', 3), ('一層', 3), ('土狗', 3), ('鄭俊鴻', 3), ('分至', 3), ('爭執不下', 3), ('郭建', 3), ('王愛芸', 3), ('林相', 3), ('數萬元', 3), ('股', 3), ('轉述', 3), ('誆', 3), ('馨', 3), ('分鐘', 3), ('侵佔', 3), ('林德榮', 3), ('郭昱宏', 3), ('時即', 3), ('未歸', 3), ('鄭雅麟', 3), ('人陳憶婷', 3), ('許雅婷', 3), ('桌子', 3), ('杜崇凱', 3), ('畢業', 3), ('看到', 3), ('正橋', 3), ('林怡瑾', 3), ('壹佰零', 3), ('金為', 3), ('全球', 3), ('千', 3), ('蒐證', 3), ('劉志強', 3), ('李錫端', 3), ('衣', 3), ('郭宗北', 3), ('淑女', 3), ('電錶', 3), ('激能', 3), ('呂騏', 3), ('杜維哲', 3), ('人方郁', 3), ('少調', 3), ('李雅媚', 3), ('人林例', 3), ('周素綿', 3), ('神像', 3), ('人陳慧玲', 3), ('秋體傷', 3), ('王淑瑩', 3), ('自有', 3), ('酒瓶', 3), ('聶仲澤', 3), ('政源', 3), ('檳榔', 3), ('月容', 3), ('經中', 3), ('五路', 3), ('監理', 3), ('買車', 3), ('廖淑芬', 3), ('仿冒品', 3), ('捌佰玖拾', 3), ('周芳玟', 3), ('醫學院', 3), ('認定', 3), ('太太', 3), ('蔣采純', 3), ('現與', 3), ('人傅', 3), ('顏維晨', 3), ('探視權', 3), ('一支', 3), ('時長', 3), ('造人陳彥', 3), ('中間', 3), ('年前', 3), ('樟', 3), ('百元', 3), ('薛淑碧', 3), ('人余宛蓉', 3), ('驚嚇', 3), ('絆倒', 3), ('偕同', 3), ('內有', 3), ('郭張', 3), ('張明', 3), ('損聲', 3), ('吳逢玉', 3), ('桐樹', 3), ('疏未', 3), ('退休金', 3), ('人黃冠', 3), ('將對', 3), ('依上', 3), ('數年', 3), ('侯北成', 3), ('王萬祥', 3), ('王幸', 3), ('江俊德', 3), ('茶葉', 3), ('劉家', 3), ('協', 2), ('柯權', 2), ('居正', 2), ('杜宜蓉', 2), ('樓梯', 2), ('鐵材', 2), ('人心', 2), ('東大', 2), ('郭柄志', 2), ('做出', 2), ('人陳禎', 2), ('方景亮', 2), ('取財', 2), ('流入', 2), ('移動', 2), ('載運', 2), ('掛鉤', 2), ('廣車損', 2), ('阮氏玲', 2), ('冠蓉', 2), ('一鑫', 2), ('任體傷', 2), ('有時', 2), ('永', 2), ('盧炎輝', 2), ('就學', 2), ('方順成', 2), ('這樣', 2), ('杜翠蓉', 2), ('蔡耿榮', 2), ('德路', 2), ('頭', 2), ('已達', 2), ('放款', 2), ('式', 2), ('出院', 2), ('汪林秀盆', 2), ('康清旗', 2), ('存續', 2), ('亞龍', 2), ('人童', 2), ('永久', 2), ('方沛淳', 2), ('睡覺', 2), ('貞', 2), ('立人國', 2), ('安盈', 2), ('賴淑芬', 2), ('碰轟', 2), ('女兒牆', 2), ('健豪', 2), ('蔡宜蓁', 2), ('並拿', 2), ('門柱', 2), ('裸照', 2), ('須依', 2), ('吳鄭', 2), ('名字', 2), ('李錦雀', 2), ('鵝肉', 2), ('沿育北', 2), ('東山', 2), ('不定期', 2), ('老吳', 2), ('人陳淑惠', 2), ('數日', 2), ('嘔吐', 2), ('隨同', 2), ('人富', 2), ('尹', 2), ('水及', 2), ('心', 2), ('髖部', 2), ('志成', 2), ('期共', 2), ('榮民', 2), ('人何', 2), ('楊進', 2), ('丈量', 2), ('開刀手術', 2), ('侯金', 2), ('婚姻關係', 2), ('張家', 2), ('邱凱', 2), ('網購', 2), ('黃淑惠', 2), ('號建地', 2), ('股款', 2), ('並由聲', 2), ('鄭忠典', 2), ('施麗蘭', 2), ('許惠茹', 2), ('鄭佳印', 2), ('慈音', 2), ('翠', 2), ('瑛', 2), ('移車', 2), ('吸乳器', 2), ('水泥製品', 2), ('新加坡', 2), ('泡', 2), ('闢', 2), ('萬玖仟元', 2), ('鄧煜馨', 2), ('永安路', 2), ('撥', 2), ('一只', 2), ('過來', 2), ('發覺', 2), ('偉志', 2), ('王晟彰', 2), ('遊說', 2), ('鄭秀慧', 2), ('王維', 2), ('登載', 2), ('潘保林', 2), ('自後駛', 2), ('與劉', 2), ('不料', 2), ('桌上', 2), ('因開啟', 2), ('松山區', 2), ('聯', 2), ('榮吉', 2), ('煮飯', 2), ('不理', 2), ('達成協議', 2), ('潘怡君', 2), ('髒亂', 2), ('許賀', 2), ('李玉', 2), ('仍將', 2), ('塏', 2), ('裁切', 2), ('人陳麗珍', 2), ('把玩', 2), ('菸酒', 2), ('麗真', 2), ('零陸拾', 2), ('莊律文', 2), ('渠母', 2), ('耀宏', 2), ('七期', 2), ('配管', 2), ('刪除', 2), ('淩', 2), ('崇善路', 2), ('標得', 2), ('以要', 2), ('建案', 2), ('致陳偉仁', 2), ('主任委員', 2), ('謝正', 2), ('金新', 2), ('人陳育', 2), ('因見', 2), ('胡鼎炎', 2), ('李星輝', 2), ('文德', 2), ('連接', 2), ('軍用', 2), ('請領', 2), ('竹鄉', 2), ('葉展富', 2), ('號所', 2), ('杜治緯', 2), ('胡明宏體傷', 2), ('吳政霖', 2), ('王合瑞', 2), ('稽核', 2), ('樓前', 2), ('號向', 2), ('俞潔', 2), ('之娛', 2), ('蕭維揚', 2), ('邱士榮', 2), ('親密', 2), ('短', 2), ('埔', 2), ('林亭吟', 2), ('僱用', 2), ('徐子翔', 2), ('及伍', 2), ('蔡勝益', 2), ('多名', 2), ('改造', 2), ('奕鋒', 2), ('至此', 2), ('購置', 2), ('落', 2), ('以本', 2), ('時上', 2), ('祖母', 2), ('珠願', 2), ('將本件', 2), ('高雄地', 2), ('剩下', 2), ('換貨', 2), ('戴佑全', 2), ('設計師', 2), ('意外', 2), ('劉蘇麗珠', 2), ('溪路', 2), ('搶救無效', 2), ('盛新', 2), ('蔡銀奇', 2), ('吳彥', 2), ('打球', 2), ('難以', 2), ('非望', 2), ('覓', 2), ('充作', 2), ('金葉', 2), ('人要', 2), ('屋及', 2), ('謝俊宏', 2), ('溫', 2), ('東門', 2), ('賴書通', 2), ('鄭雅', 2), ('祝', 2), ('抽水', 2), ('專利權人', 2), ('張智芳', 2), ('磚', 2), ('開關', 2), ('金欣', 2), ('王荷', 2), ('本共經', 2), ('戶籍地', 2), ('怡安', 2), ('王保盛', 2), ('張念台', 2), ('女子', 2), ('灑水', 2), ('泡水', 2), ('美國', 2), ('郭上', 2), ('周鉦壹', 2), ('仟玖佰元整', 2), ('瑞文', 2), ('數學', 2), ('鄭雨鈴', 2), ('本件僅', 2), ('王朝', 2), ('印花稅', 2), ('城', 2), ('木林', 2), ('母女', 2), ('梁育瑋', 2), ('劉冠廷', 2), ('郭繼明', 2), ('蕭辰易', 2), ('七米', 2), ('游雅雯', 2), ('三會', 2), ('救治', 2), ('詹', 2), ('沿和緯', 2), ('散播', 2), ('兩顆', 2), ('開窗', 2), ('澤及', 2), ('平交道', 2), ('東森', 2), ('煙燻', 2), ('尊願', 2), ('人魏', 2), ('劉育智', 2), ('林明利', 2), ('煜', 2), ('許原', 2), ('李雅純', 2), ('鼓吹', 2), ('號遭', 2), ('三層樓', 2), ('隆', 2), ('產下', 2), ('現要', 2), ('韋君', 2), ('濱海', 2), ('暫時', 2), ('翻車', 2), ('李麗貞', 2), ('之作', 2), ('監遂', 2), ('處即', 2), ('惠鈴', 2), ('慢慢', 2), ('肺炎', 2), ('環宇', 2), ('莊云詳', 2), ('合會', 2), ('拾得', 2), ('吳依倫', 2), ('人陳麗惠', 2), ('安排', 2), ('拍屋', 2), ('思', 2), ('洪菁怡', 2), ('張梅足', 2), ('第一期', 2), ('李怡靜', 2), ('呂鳳珠', 2), ('瘦仔', 2), ('失智', 2), ('炎墉', 2), ('藍麗玉', 2), ('花旗', 2), ('威盛', 2), ('竟以', 2), ('巷交', 2), ('咖啡', 2), ('蕭陽修', 2), ('財旺', 2), ('同月', 2), ('港區', 2), ('李秀珠', 2), ('老板', 2), ('董慧馨', 2), ('郭于', 2), ('王雪麗', 2), ('王浩宇', 2), ('攜回', 2), ('薇', 2), ('柒佰柒', 2), ('德三街', 2), ('劉驊', 2), ('解曉蘭', 2), ('美人', 2), ('周湘瑤', 2), ('電告', 2), ('二王', 2), ('獅', 2), ('棉被', 2), ('李心雅', 2), ('俸', 2), ('工項', 2), ('劉財華', 2), ('母', 2), ('余', 2), ('曾經', 2), ('薛如芬', 2), ('生物', 2), ('協會', 2), ('僅以', 2), ('西賢街', 2), ('同方向', 2), ('思汝體傷', 2), ('塊', 2), ('閃煞', 2), ('柏翰', 2), ('偉銘', 2), ('賒欠', 2), ('慶平路', 2), ('恫稱', 2), ('徐蘇秀花', 2), ('國基', 2), ('供稱', 2), ('邱顯昌', 2), ('張慶良', 2), ('如玉', 2), ('人黃鼎倫', 2), ('西段', 2), ('開釋', 2), ('林奕丞', 2), ('林雅苹', 2), ('氣墊', 2), ('檢測', 2), ('欠聲', 2), ('領空權', 2), ('智慧財產', 2), ('許祺明', 2), ('手法', 2), ('永勝', 2), ('借給', 2), ('陸佰陸', 2), ('群', 2), ('仟元給', 2), ('鋁窗', 2), ('碇', 2), ('順財', 2), ('新生', 2), ('代工', 2), ('福慶願', 2), ('林月', 2), ('借到', 2), ('張雅蕾', 2), ('受體', 2), ('開工', 2), ('既', 2), ('警車', 2), ('李永傑', 2), ('願書', 2), ('鬆動', 2), ('電影', 2), ('至陽', 2), ('臀部', 2), ('洪美', 2), ('尤玉子', 2), ('釘', 2), ('人田仁傑', 2), ('橙', 2), ('亟需', 2), ('邱美', 2), ('日南鑑', 2), ('商標權', 2), ('人黃峻弘', 2), ('康耀', 2), ('金元寶', 2), ('彝', 2), ('罰單', 2), ('變形', 2), ('周嘉鈴', 2), ('落暉', 2), ('林柏', 2), ('人卓麗香', 2), ('斗六', 2), ('啟恩', 2), ('我要', 2), ('鄭羽庭', 2), ('冷煤', 2), ('堆置', 2), ('劉通智', 2), ('海東', 2), ('速達', 2), ('進雄', 2), ('李慶隆', 2), ('李佑宸', 2), ('要斷', 2), ('蘇文', 2), ('發給', 2), ('耕德', 2), ('空空', 2), ('威脅', 2), ('蘇蔡', 2), ('改良', 2), ('造人顏', 2), ('莊勝宇', 2), ('一輛', 2), ('樓高', 2), ('竟將', 2), ('洪月卿', 2), ('高牆', 2), ('違法', 2), ('療費', 2), ('遺囑', 2), ('張極', 2), ('就是', 2), ('絕對', 2), ('同樓', 2), ('美工刀', 2), ('泰倫', 2), ('之狗', 2), ('劉信良', 2), ('傷勢', 2), ('接至', 2), ('突', 2), ('伊瑄', 2), ('覺得', 2), ('開重', 2), ('大拇指', 2), ('茆員銘', 2), ('決議', 2), ('日新段', 2), ('麻痺', 2), ('出讓', 2), ('屏東市', 2), ('攸', 2), ('巷弄', 2), ('音響', 2), ('一點', 2), ('陳淑芬', 2), ('王尚仁', 2), ('蔡世仁', 2), ('不雅', 2), ('協談', 2), ('鄰地', 2), ('范', 2), ('曬', 2), ('顏士', 2), ('正忠', 2), ('始將', 2), ('發函', 2), ('穿著', 2), ('壞', 2), ('開安中', 2), ('受到', 2), ('下顎', 2), ('改建', 2), ('勸阻', 2), ('婉鈺', 2), ('扣留', 2), ('可德', 2), ('工街', 2), ('秀珠', 2), ('賸', 2), ('珊修', 2), ('麋', 2), ('商借', 2), ('蕭菽芸', 2), ('電玩', 2), ('對黃昱翔', 2), ('號謝', 2), ('近日', 2), ('清空', 2), ('建富', 2), ('香火', 2), ('加盟店', 2), ('人林雪麗', 2), ('經理', 2), ('人去樓空', 2), ('膨脹', 2), ('儒', 2), ('郁晟', 2), ('明吉修', 2), ('賭場', 2), ('人林育', 2), ('院', 2), ('蘇隆義', 2), ('傅方儒', 2), ('測量', 2), ('新行', 2), ('簡知翔', 2), ('棒球', 2), ('聰明', 2), ('面對', 2), ('走上', 2), ('掛號', 2), ('莊弘松', 2), ('林怡', 2), ('人林振宇', 2), ('嬌', 2), ('全台通', 2), ('國小旁', 2), ('日漆晨', 2), ('吳佳霖', 2), ('解結', 2), ('整地', 2), ('葉梅桂', 2), ('另以', 2), ('蘇渟文', 2), ('器始', 2), ('洗澡時', 2), ('手指', 2), ('奇寧', 2), ('營利', 2), ('點唱', 2), ('沿小', 2), ('徵友', 2), ('詹寶嬌', 2), ('素不相識', 2), ('松興', 2), ('林重安', 2), ('未立', 2), ('以利', 2), ('柯承宗', 2), ('反悔', 2), ('擴大', 2), ('聖車損', 2), ('莊良純', 2), ('更正', 2), ('移至', 2), ('郭品慧', 2), ('陸仟伍', 2), ('老年', 2), ('戴宜庭', 2), ('原先', 2), ('林昱成', 2), ('啟示', 2), ('呂奇龍', 2), ('點唱機', 2), ('石樹蘭', 2), ('翁志文', 2), ('同聲', 2), ('交通費', 2), ('洋', 2), ('聽到', 2), ('姚先生', 2), ('一般', 2), ('潘嬅', 2), ('窗外', 2), ('月租', 2), ('四萬', 2), ('在國', 2), ('林佩珍', 2), ('吳坤', 2), ('秀瓊', 2), ('拉傷', 2), ('蔡耿榮願', 2), ('租借', 2), ('婆婆', 2), ('擊中', 2), ('澔', 2), ('逃離現場', 2), ('檢查署', 2), ('法上', 2), ('郭瑞枝', 2), ('靖喻', 2), ('出席', 2), ('寄放', 2), ('李柏毅', 2), ('毛刷', 2), ('宋沂蓁', 2), ('車隊', 2), ('已故', 2), ('邱靖森', 2), ('名車', 2), ('莆怡', 2), ('要錢', 2), ('病房', 2), ('派員', 2), ('景', 2), ('前面', 2), ('林宗仁', 2), ('社內里', 2), ('蔡宗恩', 2), ('干擾', 2), ('達旺', 2), ('劉建明', 2), ('歸責', 2), ('現欲', 2), ('鐵板', 2), ('菜刀', 2), ('林秀足', 2), ('出去', 2), ('其替', 2), ('草場', 2), ('時速', 2), ('牌前', 2), ('以黃雅霜', 2), ('建樺', 2), ('何沛歆', 2), ('崇學路', 2), ('林麗琴', 2), ('薪', 2), ('蔡金發', 2), ('正杉', 2), ('蕭士', 2), ('木', 2), ('保證書', 2), ('邱明賢', 2), ('司南', 2), ('鄭雅丰', 2), ('人無體', 2), ('王裕銘', 2), ('施淑霞', 2), ('人之子', 2), ('林展弘', 2), ('魏', 2), ('左偏', 2), ('三村', 2), ('留在', 2), ('不睦', 2), ('格前', 2), ('上課', 2), ('等傷', 2), ('線路', 2), ('吳珮君', 2), ('北里', 2), ('經濟部', 2), ('林秀盈', 2), ('榮菁莉', 2), ('鄭意', 2), ('李基福', 2), ('蔡芳芬', 2), ('蔡銘徽', 2), ('肆佰參', 2), ('林砂', 2), ('邱和章', 2), ('樑', 2), ('經一', 2), ('反於', 2), ('書房', 2), ('斜線', 2), ('人自', 2), ('交付給', 2), ('郵寄', 2), ('田雅', 2), ('法人', 2), ('敲擊', 2), ('張翊芳', 2), ('蔡淑苓', 2), ('壹紙', 2), ('嚴冠鈞', 2), ('肱骨', 2), ('鈑', 2), ('並有', 2), ('起即', 2), ('文謙', 2), ('尚待', 2), ('最高', 2), ('所受', 2), ('鹽行', 2), ('煌', 2), ('堂主', 2), ('區兵', 2), ('拜訪', 2), ('抵達', 2), ('人林吉村', 2), ('王思懿', 2), ('車未', 2), ('五元', 2), ('葉釋霞', 2), ('造人陳旻宏', 2), ('賈丁', 2), ('鋪設', 2), ('王榮', 2), ('左手腕', 2), ('施麗紅', 2), ('並請', 2), ('變造', 2), ('黃信', 2), ('貝拉', 2), ('吳羿廷', 2), ('溪尾', 2), ('人林怡君', 2), ('彭', 2), ('嫈', 2), ('遛狗', 2), ('廖見欣', 2), ('鄭一', 2), ('蔡真香', 2), ('芍', 2), ('捏造', 2), ('拆字', 2), ('李佳蔚', 2), ('尹翔', 2), ('屆', 2), ('蔡函', 2), ('枰', 2), ('廖曉菁', 2), ('林語', 2), ('吳忠明', 2), ('欣體傷', 2), ('內門', 2), ('區平', 2), ('劉國英', 2), ('家用', 2), ('堅持', 2), ('反擊', 2), ('玉體', 2), ('郭惠珊', 2), ('長興', 2), ('凱翔間', 2), ('鄭滿香', 2), ('掛槍', 2), ('一腳', 2), ('歐建志', 2), ('邱靖雄', 2), ('等情', 2), ('膝', 2), ('王旭華', 2), ('肆萬玖仟元整', 2), ('標準', 2), ('區勝學路', 2), ('午餐', 2), ('出生年月', 2), ('薛魏', 2), ('致游雅雯', 2), ('下旬', 2), ('用電', 2), ('售價', 2), ('分處', 2), ('王書政', 2), ('小康', 2), ('林宥', 2), ('歐靜', 2), ('政憲', 2), ('並依', 2), ('張何', 2), ('住院費用', 2), ('疾病', 2), ('張峻榮', 2), ('張國庭', 2), ('大哥', 2), ('人肆', 2), ('與環', 2), ('人丁', 2), ('吳玥', 2), ('棠', 2), ('踩踏', 2), ('衝', 2), ('怡雯', 2), ('周貴', 2), ('普', 2), ('人陳琴治', 2), ('王得明', 2), ('余榮陽', 2), ('哲體傷', 2), ('電廠', 2), ('夏忠', 2), ('談判', 2), ('正強', 2), ('鬥爭', 2), ('戴宇', 2), ('伊達', 2), ('犯罪', 2), ('李懷南', 2), ('藝品店', 2), ('洪瑋遠', 2), ('最好', 2), ('懿', 2), ('參仟玖佰陸', 2), ('主管', 2), ('綿車損', 2), ('左耳', 2), ('建昌', 2), ('人持', 2), ('從中', 2), ('郭水金', 2), ('照', 2), ('油箱', 2), ('潘龍慶', 2), ('用及', 2), ('薛周淑惠', 2), ('就要', 2), ('工程處', 2), ('凱基', 2), ('致謝', 2), ('陰莖', 2), ('建宇', 2), ('吳文', 2), ('現對', 2), ('播放', 2), ('羿蓁', 2), ('人黃旨', 2), ('一再', 2), ('格位', 2), ('中興路', 2), ('拆', 2), ('冠彰', 2), ('南工', 2), ('人共', 2), ('疑因', 2), ('兌領', 2), ('元並', 2), ('李文瑞及', 2), ('並願', 2), ('意願', 2), ('杜美琴', 2), ('王雅瑩', 2), ('凱旋', 2), ('收益', 2), ('李孟涵', 2), ('簡上', 2), ('書立', 2), ('民醫院', 2), ('李雨倫', 2), ('交與', 2), ('快車道', 2), ('調取', 2), ('柒佰陸', 2), ('修敏', 2), ('零用金', 2), ('旨', 2), ('人莫富名', 2), ('富美', 2), ('參佰壹拾', 2), ('怕', 2), ('跳票', 2), ('字體大小', 2), ('人羅于婷', 2), ('迨', 2), ('五佰元整', 2), ('造人陳雅晴', 2), ('李美瑩', 2), ('三百萬元', 2), ('鄭才', 2), ('蘇梅凰', 2), ('郭昱辰', 2), ('至許', 2), ('盛', 2), ('璟', 2), ('胡正廷', 2), ('分因', 2), ('人陳靖', 2), ('人陳永蓮', 2), ('欣車損', 2), ('特約', 2), ('占', 2), ('涂陳錦子', 2), ('人黃慧', 2), ('勾到', 2), ('張銘傑', 2), ('苡', 2), ('國興', 2), ('石燿嘉', 2), ('曾家豪', 2), ('中及', 2), ('蔣采', 2), ('層樓', 2), ('走動', 2), ('世界', 2), ('剩', 2), ('東向西', 2), ('本原', 2), ('僅需', 2), ('王德榮', 2), ('準備', 2), ('住宿', 2), ('桃園', 2), ('鄭璋', 2), ('育英', 2), ('代理', 2), ('適對', 2), ('幾萬元', 2), ('敔', 2), ('飲水機', 2), ('冠勤', 2), ('關住', 2), ('因素', 2), ('建志', 2), ('江中', 2), ('已婚', 2), ('南乙', 2), ('葉基湧', 2), ('朱利', 2), ('小弟', 2), ('點等語', 2), ('鄭英富', 2), ('兄妹', 2), ('樓房', 2), ('板金', 2), ('桂車損', 2), ('鄭沛倫', 2), ('違建', 2), ('許松', 2), ('大昌', 2), ('書為', 2), ('城怡娃', 2), ('產權', 2), ('偵', 2), ('楊永裕', 2), ('謝明勳', 2), ('志強', 2), ('入店', 2), ('寵物用品', 2), ('鴻陽', 2), ('參佰柒拾', 2), ('吳文堯間', 2), ('簡財發', 2), ('駱遠', 2), ('甚', 2), ('撞擊到', 2), ('切車', 2), ('倫體', 2), ('允諾', 2), ('人林慶豪', 2), ('劉林', 2), ('祖公', 2), ('田明巧', 2), ('加盟', 2), ('沈郁修', 2), ('之中', 2), ('標的物', 2), ('溫淑惠', 2), ('水龍', 2), ('葉馨蓮', 2), ('入侵', 2), ('養護', 2), ('二段式', 2), ('食品工業', 2), ('人范元哲', 2), ('逾越', 2), ('砍傷', 2), ('仍得', 2), ('冠淳', 2), ('蔡通榮', 2), ('十字路口', 2), ('阻塞', 2), ('新營', 2), ('及金爐', 2), ('訴追', 2), ('王惠香', 2), ('李可弘', 2), ('事先', 2), ('莊惠喻', 2), ('吳湘', 2), ('謝金桃', 2), ('連宸漢', 2), ('球館', 2), ('漆板造', 2), ('寺', 2), ('范文', 2), ('邵', 2), ('雇用', 2), ('以示', 2), ('謝育君', 2), ('得逞', 2), ('遙控器', 2), ('人方燕蓉', 2), ('楊勝凱', 2), ('洗臉盆', 2), ('邱盈良', 2), ('人林暉祥', 2), ('立德', 2), ('佔據', 2), ('大理石', 2), ('許毅俊', 2), ('德國', 2), ('吳宥潔', 2), ('張予', 2), ('爰', 2), ('所及', 2), ('白河', 2), ('楷霖', 2), ('逃離', 2), ('控告', 2), ('致陳', 2), ('遲遲', 2), ('許振河', 2), ('順德', 2), ('湘捷', 2), ('以便', 2), ('檢轉介', 2), ('文忠', 2), ('林南吉', 2), ('急難', 2), ('宏', 2), ('為系爭', 2), ('單行道', 2), ('楊御樞', 2), ('歌曲', 2), ('撞致', 2), ('王逸翔', 2), ('偷', 2), ('愛華', 2), ('謝瑞洋', 2), ('留存', 2), ('轉向', 2), ('天色', 2), ('柏升', 2), ('侵權', 2), ('富強', 2), ('劉張', 2), ('植物', 2), ('劉季', 2), ('楊麗玲', 2), ('搖擺', 2), ('蔡明', 2), ('吳岱螢', 2), ('芫', 2), ('警局', 2), ('涂景文', 2), ('車後', 2), ('佯為', 2), ('蘇靖棠', 2), ('訂定', 2), ('華西街', 2), ('子體', 2), ('區嘉', 2), ('番路', 2), ('商請', 2), ('支付現金', 2), ('區內', 2), ('林展', 2), ('施蓉琳', 2), ('廣慈', 2), ('人江佳', 2), ('日到', 2), ('鋼管', 2), ('兩棟', 2), ('林珮騏', 2), ('天堂', 2), ('貨', 2), ('郭睿', 2), ('蘇黎世', 2), ('辦事處', 2), ('數值', 2), ('八點', 2), ('女嬰', 2), ('吳誠緯', 2), ('摔落', 2), ('靖芬', 2), ('鄭仔', 2), ('破皮', 2), ('祖先', 2), ('麒', 2), ('高級中學', 2), ('建國', 2), ('美郁', 2), ('傅宗明', 2), ('林貞宏', 2), ('地聲', 2), ('中成', 2), ('蔣宇帆', 2), ('盈華', 2), ('訴', 2), ('商譽', 2), ('柔米', 2), ('發電設備', 2), ('翁睿澤', 2), ('牌', 2), ('洪文二體傷', 2), ('願為', 2), ('伍佰柒拾', 2), ('停止', 2), ('蔡志', 2), ('現在', 2), ('劉朝席', 2), ('擁有', 2), ('而來', 2), ('民權', 2), ('驗', 2), ('合作', 2), ('不像', 2), ('自首', 2), ('信義路', 2), ('豐華', 2), ('人葉緣', 2), ('圖利', 2), ('撞及', 2), ('肆佰柒拾', 2), ('榮車損', 2), ('尤坤添', 2), ('轉售', 2), ('犯有', 2), ('吳火城', 2), ('請解', 2), ('王彥', 2), ('手錶', 2), ('姿婷', 2), ('林文濱', 2), ('補強', 2), ('術後', 2), ('並在聲', 2), ('梁典祥', 2), ('吹落', 2), ('性休克', 2), ('再生能源', 2), ('湘雅', 2), ('郭榮傳', 2), ('人林梅桂', 2), ('土葬', 2), ('張燕鈴', 2), ('號自', 2), ('前付', 2), ('市民', 2), ('腓骨', 2), ('賴', 2), ('保管箱', 2), ('只要', 2), ('結識', 2), ('身上', 2), ('相連', 2), ('麥月桃', 2), ('寶煌', 2), ('領班', 2), ('柯尊致', 2), ('有限責任', 2), ('聲明', 2), ('法', 2), ('曹富', 2), ('列舉', 2), ('意外險', 2), ('濱', 2), ('爾特', 2), ('加上', 2), ('雅車損', 2), ('哲修', 2), ('品如', 2), ('並將聲', 2), ('李維庭', 2), ('惠珍', 2), ('楊翎', 2), ('緣聲', 2), ('人賴品', 2), ('火險', 2), ('薛正延', 2), ('區區', 2), ('柒元', 2), ('東寶', 2), ('楊閏光', 2), ('胡秋雲修', 2), ('推展', 2), ('動物醫院', 2), ('路竹', 2), ('一方', 2), ('江辛', 2), ('蔡黃', 2), ('吳錫平', 2), ('隔音', 2), ('鄭景中', 2), ('跨越', 2), ('恐', 2), ('遊藝場', 2), ('財政部', 2), ('失控', 2), ('精等', 2), ('熊', 2), ('人連', 2), ('記憶卡', 2), ('受損害', 2), ('籤', 2), ('日江宏謙', 2), ('互為', 2), ('依死', 2), ('余姵蓁', 2), ('王文智', 2), ('翁永媚', 2), ('二個', 2), ('信街', 2), ('結冰', 2), ('木松', 2), ('沒收', 2), ('作成', 2), ('黃志忠', 2), ('楊雯雯', 2), ('張然成', 2), ('並使', 2), ('人車損', 2), ('巫', 2), ('眉帽', 2), ('王莉雯', 2), ('白藏盛', 2), ('自對', 2), ('人江秉家', 2), ('一帶', 2), ('還去', 2), ('林麗瑛', 2), ('大量', 2), ('人新', 2), ('超商', 2), ('玩', 2), ('求救', 2), ('保障', 2), ('王麗鸞', 2), ('弦', 2), ('儒修', 2), ('人陳鈺淞體傷', 2), ('某屋', 2), ('陸佰玖拾', 2), ('菊花', 2), ('光復', 2), ('繳款', 2), ('人未', 2), ('第二顆', 2), ('吳敏薇', 2), ('籃球場', 2), ('威達', 2), ('左邊', 2), ('蔡錦', 2), ('護士', 2), ('同上址', 2), ('王俊雄', 2), ('吳惠湘', 2), ('順展', 2), ('泰山', 2), ('建智', 2), ('吳坤隆', 2), ('未留', 2), ('酌減', 2), ('莊翠蘭', 2), ('銀勳', 2), ('蔡順斌', 2), ('弘名', 2), ('購', 2), ('子孫', 2), ('合夥人', 2), ('珀', 2), ('規約', 2), ('層', 2), ('奇隆', 2), ('平臺', 2), ('李史民', 2), ('洪賢成', 2), ('德光', 2), ('葉朝信', 2), ('建瑋', 2), ('記錄', 2), ('運動', 2), ('銘刻', 2), ('香車', 2), ('門路', 2), ('豐路', 2), ('解曉蘭修', 2), ('施行', 2), ('枷榕', 2), ('日定', 2), ('撥付', 2), ('城嘉玲', 2), ('陸仟元則', 2), ('盧分', 2), ('十字', 2), ('星期天', 2), ('及右', 2), ('吳采宸', 2), ('據致', 2), ('清單', 2), ('反鎖', 2), ('張淑貞', 2), ('王天', 2), ('豪文修', 2), ('大林', 2), ('宋孟勳', 2), ('信翰', 2), ('寄交', 2), ('同域', 2), ('五筆', 2), ('仍然', 2), ('拆佣', 2), ('憑證', 2), ('生於', 2), ('施嬰桃', 2), ('農曆年', 2), ('汎', 2), ('哀', 2), ('集集', 2), ('季蓮舫', 2), ('進聲', 2), ('短扣', 2), ('明哲', 2), ('駱遠哲', 2), ('官麗華', 2), ('林俊', 2), ('代位', 2), ('竹車損', 2), ('其擾', 2), ('全宏', 2), ('課', 2), ('邱秀芬', 2), ('梁均', 2), ('之店', 2), ('榮路', 2), ('彭雅惠', 2), ('邱俊', 2), ('另將', 2), ('人口', 2), ('卓', 2), ('聽力', 2), ('與賴', 2), ('中古車', 2), ('鄭孟藝', 2), ('唐志鴻', 2), ('並用', 2), ('場', 2), ('鄭幸子', 2), ('避', 2), ('此行', 2), ('保險費', 2), ('付聲', 2), ('人黃麗雅', 2), ('應該', 2), ('認對', 2), ('蔡忠彥', 2), ('格旁', 2), ('骯髒', 2), ('尾', 2), ('香', 2), ('新民', 2), ('吳家源', 2), ('公廟', 2), ('施以', 2), ('之犬', 2), ('其為', 2), ('下列', 2), ('由陳葉', 2), ('人林鉦皓', 2), ('電腦主機', 2), ('開球', 2), ('展店', 2), ('會談', 2), ('書狀', 2), ('北屯', 2), ('違章建築', 2), ('媺', 2), ('事實', 2), ('不好', 2), ('鄭淑芬', 2), ('世振', 2), ('賴麗娜', 2), ('姚繼雄', 2), ('故經', 2), ('造人葉', 2), ('許淑敏', 2), ('王淑玲', 2), ('一塊', 2), ('孫永麟', 2), ('用途', 2), ('劉卓', 2), ('葉亭', 2), ('現有', 2), ('下去', 2), ('吳永鉦', 2), ('逃匿', 2), ('李阡瑋', 2), ('遲旻修', 2), ('監視', 2), ('家樂', 2), ('股份公司', 2), ('積極', 2), ('建聲', 2), ('富麗', 2), ('秋格', 2), ('蔡命', 2), ('小雨', 2), ('中並', 2), ('吳秋明', 2), ('因陳', 2), ('疑侵', 2), ('李冠瑤', 2), ('社群', 2), ('餐車', 2), ('洪鳳儀', 2), ('金融', 2), ('貨櫃', 2), ('許進昌', 2), ('豐磊', 2), ('禮', 2), ('及於', 2), ('裙子', 2), ('再犯', 2), ('記得', 2), ('區福德', 2), ('張本', 2), ('葉宇婷', 2), ('陳育', 2), ('知情', 2), ('分得', 2), ('支及', 2), ('宮娥', 2), ('上層', 2), ('地價稅', 2), ('鐵棒', 2), ('嗎', 2), ('交通局', 2), ('張訓銘', 2), ('領走', 2), ('龍潭', 2), ('公司股票', 2), ('人陳昭元', 2), ('陳玉蓮', 2), ('建築工地', 2), ('安富', 2), ('日住', 2), ('舞廳', 2), ('鄭慧', 2), ('莊先生', 2), ('點至', 2), ('另拾', 2), ('李婉津', 2), ('朱敬銘', 2), ('洪嗣淵', 2), ('帆布', 2), ('仲介公司', 2), ('劃傷', 2), ('污損', 2), ('開建', 2), ('法商', 2), ('人陳安群', 2), ('王偉聖', 2), ('資格', 2), ('金鳳', 2), ('動力機械', 2), ('偉森', 2), ('卡號', 2), ('徐奕玄', 2), ('江姿瑩', 2), ('臺北', 2), ('以附', 2), ('慶賢', 2), ('蔡鳳娥', 2), ('區淵', 2), ('遭其', 2), ('惟車損', 2), ('顒', 2), ('之同額', 2), ('李光', 2), ('運回', 2), ('商', 2), ('年刑', 2), ('因誤', 2), ('超商內', 2), ('總共', 2), ('餘新', 2), ('江宏謙', 2), ('朱瑞蘭', 2), ('慧英', 2), ('榮珮華', 2), ('高珮菁', 2), ('宇修', 2), ('造人並', 2), ('手上', 2), ('人施文', 2), ('閆恒蛟', 2), ('新型', 2), ('吳雅筑', 2), ('建宏', 2), ('減速', 2), ('謝宜蓁', 2), ('邱閔南', 2), ('將門', 2), ('聘請', 2), ('建宏體傷', 2), ('哲宇', 2), ('得手', 2), ('蘇守堂', 2), ('英傑', 2), ('養護費', 2), ('一群', 2), ('面前', 2), ('彭柏翔', 2), ('下陷', 2), ('大樓住戶', 2), ('余佩玲', 2), ('鄭春琅', 2), ('比率', 2), ('竹林', 2), ('兩間', 2), ('扣', 2), ('預警', 2), ('美車損', 2), ('版面', 2), ('湖美二', 2), ('地磚', 2), ('何柏逸', 2), ('砸破', 2), ('銘修', 2), ('鉛版', 2), ('父母', 2), ('原於', 2), ('新美', 2), ('韻如', 2), ('楊繁', 2), ('別人', 2), ('施佳維', 2), ('福建', 2), ('公共設施', 2), ('號世峰', 2), ('順位', 2), ('申行', 2), ('斜坡', 2), ('續約', 2), ('大和里文', 2), ('忠勇', 2), ('電風扇', 2), ('手腳', 2), ('周子暉', 2), ('妻子', 2), ('聶津珈', 2), ('李正川', 2), ('王郁', 2), ('范鳳嬌', 2), ('直', 2), ('徵信社', 2), ('緊靠', 2), ('討回', 2), ('射擊', 2), ('龍文', 2), ('區公所', 2), ('雇工', 2), ('大德', 2), ('日約', 2), ('停車費', 2), ('執迅', 2), ('抱住', 2), ('朱怡靜', 2), ('自負', 2), ('李歐梅', 2), ('不租', 2), ('地主', 2), ('廟', 2), ('林忠雄', 2), ('另涉', 2), ('吳燕玉', 2), ('扳機', 2), ('墊付', 2), ('運費', 2), ('銀行帳戶', 2), ('張玉枝', 2), ('吳誌', 2), ('中斷', 2), ('有壹期', 2), ('凹洞', 2), ('李西志', 2), ('林高暉', 2), ('蔬菜', 2), ('降低', 2), ('架', 2), ('受雇', 2), ('鄭淑雯', 2), ('百貨', 2), ('王敬驊', 2), ('林先生', 2), ('鵬', 2), ('李克洛', 2), ('奢侈', 2), ('周素', 2), ('爸', 2), ('遷入', 2), ('呂盈荻', 2), ('韋寧', 2), ('蕭慶容', 2), ('蘇郁秀', 2), ('應允', 2), ('派', 2), ('重賢', 2), ('人白宜', 2), ('國中', 2), ('吳建志', 2), ('惟體傷', 2), ('洪孜鳳', 2), ('數期', 2), ('拒付', 2), ('成交價', 2), ('九人', 2), ('人賴家', 2), ('何仲因', 2), ('如體傷', 2), ('張書堯', 2), ('起來', 2), ('謝麗', 2), ('物體', 2), ('熱水器', 2), ('吳淑貞', 2), ('甘承恩', 2), ('偏名', 2), ('手機號碼', 2), ('文康', 2), ('久', 2), ('會員', 2), ('鄭百凱', 2), ('其至', 2), ('乙事聲', 2), ('抗辯權', 2), ('鄒麗華', 2), ('遵堂', 2), ('雇主', 2), ('代繳', 2), ('汶樺', 2), ('紀虹玉', 2), ('子女教育', 2), ('陳嬿竹', 2), ('點止', 2), ('之三', 2), ('便溺', 2), ('林珮津', 2), ('同地號', 2), ('方麥', 2), ('柒佰參拾', 2), ('增加', 2), ('張芳瑜', 2), ('黃東', 2), ('旅遊', 2), ('之名', 2), ('城國隆', 2), ('進貨', 2), ('李曉萍', 2), ('結凍', 2), ('讓步', 2), ('阻擋', 2), ('遲至', 2), ('設於', 2), ('骨盆', 2), ('進輝', 2), ('油', 2), ('吳弘鈞行', 2), ('主動', 2), ('正當', 2), ('蘇雅鈴', 2), ('未滿', 2), ('芮萱', 2), ('鈞', 2), ('一組', 2), ('莊惠', 2), ('言辭', 2), ('雜物', 2), ('書籍', 2), ('美玉', 2), ('予對造', 2), ('列帳', 2), ('侮辱', 2), ('熱氣', 2), ('再於', 2), ('吳孟峰', 2), ('吳瑞寶', 2), ('邱鈺婷', 2), ('胡凱翔', 2), ('呼吸衰竭', 2), ('瑞修', 2), ('化妝品', 2), ('代轉', 2), ('精工', 2), ('橫突', 2), ('輕型', 2), ('西門町', 2), ('李宜', 2), ('路之交', 2), ('遇到', 2), ('城怡婷', 2), ('龍', 2), ('劉伯村', 2), ('張富發', 2), ('成杏', 2), ('西北', 2), ('怪手', 2), ('吳仲恩', 2), ('格內', 2), ('號竟', 2), ('張鈺玲', 2), ('運用', 2), ('吳芷琳', 2), ('朱清', 2), ('中段', 2), ('緹', 2), ('陸佰零肆', 2), ('之新', 2), ('盧怡安', 2), ('周金亮', 2), ('包裝', 2), ('人陳怡潔', 2), ('人黃舜屏', 2), ('一言不合', 2), ('黃水', 2), ('莊福仁', 2), ('朝貴', 2), ('雙城', 2), ('方車', 2), ('後並', 2), ('願以', 2), ('莊國森', 2), ('神腦', 2), ('翁靖雅修', 2), ('每週五', 2), ('人林怡瑾', 2), ('鄭仲翔', 2), ('肆萬柒仟元', 2), ('李政憲', 2), ('吳永霖', 2), ('蓉', 2), ('嘉南', 2), ('感覺', 2), ('寄存', 2), ('打掃', 2), ('蘇郁雯', 2), ('素女', 2), ('指摘', 2), ('年事已高', 2), ('造人吳', 2), ('之同址', 2), ('曾女', 2), ('周芳', 2), ('洪來', 2), ('蔡根壯', 2), ('張妙吟', 2), ('壓到', 2), ('經台灣', 2), ('接觸', 2), ('全身', 2), ('打給', 2), ('工具機', 2), ('薀', 2), ('許幸子', 2), ('許吳栗', 2), ('人卓雅玲', 2), ('人帶', 2), ('一體', 2), ('應繳', 2), ('三車', 2), ('綑', 2), ('鏡頭', 2), ('自陳', 2), ('回聲', 2), ('課長', 2), ('極限', 2), ('張王菊子', 2), ('丁方均', 2), ('元寶', 2), ('明秀', 2), ('欣容', 2), ('三次', 2), ('動物', 2), ('防火巷', 2), ('彩蓮體傷', 2), ('禾', 2), ('談不成', 2), ('掃把', 2), ('頎盛', 2), ('空', 2), ('兵仔', 2), ('舒彥', 2), ('造人周', 2), ('自理', 2), ('不勝酒力', 2), ('翁鳴謙', 2), ('經元路', 2), ('口欲', 2), ('起身', 2), ('柯鶯鶯修', 2), ('未達', 2), ('光賢段', 2), ('葶', 2), ('識字', 2), ('蘇美', 2), ('召開', 2), ('惟因', 2), ('青所', 2), ('圓整', 2), ('過大', 2), ('任職期間', 2), ('凱文', 2), ('所訂', 2), ('對外', 2), ('修剪', 2), ('致何', 2), ('瓶', 2), ('廟小段', 2), ('傳單', 2), ('換發', 2), ('印', 2), ('主臥', 2), ('鯤', 2), ('計費', 2), ('藝文', 2), ('造林', 2), ('粵桂', 2), ('鑑定書', 2), ('營運', 2), ('富德', 2), ('脛骨', 2), ('化案號', 2), ('坤', 2), ('千歲', 2), ('李淑貞', 2), ('綁', 2), ('部位', 2), ('清連', 2), ('蘇林', 2), ('素嬌', 2), ('吳育', 2), ('投資法', 2), ('美容美髮', 2), ('費及', 2), ('人林華訓', 2), ('蔡靜怡', 2), ('安順', 2), ('缺乏', 2), ('建龍', 2), ('理事長', 2), ('人住', 2), ('觀亭', 2), ('棟霖', 2), ('邱馨瑤', 2), ('喇叭', 2), ('照明', 2), ('張智堯', 2), ('林粟', 2), ('內向', 2), ('將油', 2), ('商場', 2), ('黃河', 2), ('莊洪美', 2), ('承諾書', 2), ('林正', 2), ('渠父', 2), ('人陳怡慧', 2), ('另陳懷', 2), ('林玉枝', 2), ('質押', 2), ('飼主', 2), ('通相姦', 2), ('工用', 2), ('只付', 2), ('核准', 2), ('與富', 2), ('吳世昌', 2), ('故於', 2), ('予洪秀鑾放', 2), ('吊飾', 2), ('警訊', 2), ('鄭琮', 2), ('紡織', 2), ('其受', 2), ('龔南愷', 2), ('呂炎琴', 2), ('偵續', 2), ('人周', 2), ('街由南', 2), ('臨時', 2), ('伍佰陸', 2), ('路肩', 2), ('營收', 2), ('詠翔', 2), ('寧體傷', 2), ('吳聖瑜', 2), ('火鍋', 2), ('說明書', 2), ('劉富雄', 2), ('冷凍', 2), ('管轄區', 2), ('出拳', 2), ('發出', 2), ('信義', 2), ('鐵屑', 2), ('欣願', 2), ('眼睛', 2), ('嫌隙', 2), ('姿惠體傷', 2), ('陳瑩軒', 2), ('鄭守元', 2), ('正北', 2), ('服飾', 2), ('府安路', 2), ('官路', 2), ('雨傘', 2), ('劉展', 2), ('人林永祥', 2), ('人辰豪', 2), ('婦產科', 2), ('鼓山', 2), ('內湖', 2), ('拒絕往來', 2), ('臨靠', 2), ('龍泉', 2), ('人如', 2), ('騙', 2), ('翁翊航', 2), ('郭嘉琪', 2), ('六年', 2), ('避免', 2), ('屋況', 2), ('爐', 2), ('大燈', 2), ('加強', 2), ('頎方', 2), ('李明德', 2), ('人陳思', 2), ('吳芷楹', 2), ('施瓊惠', 2), ('牙醫', 2), ('蘇秋菊', 2), ('張元碩', 2), ('梁榮峰', 2), ('硬', 2), ('橋上', 2), ('搬回', 2), ('徐香', 2), ('人頭', 2), ('乾洗', 2), ('輪椅', 2), ('因已', 2), ('後將', 2), ('農路', 2), ('人榮珮華', 2), ('關於', 2), ('刨除', 2), ('並稱', 2), ('龔', 2), ('所為', 2), ('張芸', 2), ('元月', 2), ('莊林堂', 2), ('假意', 2), ('薛吉宏', 2), ('登財', 2), ('人林香', 2), ('藍甫卿', 2), ('座落在', 2), ('偵第', 2), ('經堯', 2), ('利率', 2), ('到處', 2), ('鄭鈞豪', 2), ('李蘊恩願', 2), ('節', 2), ('人陳馨', 2), ('大家', 2), ('人陳雪願', 2), ('文理', 2), ('全家', 2), ('周健保', 2), ('均須', 2), ('尤', 2), ('郭奎菜', 2), ('新店', 2), ('永大', 2), ('待轉', 2), ('撿', 2), ('錢莊', 2), ('段賢安', 2), ('區正強', 2), ('屁股', 2), ('高等法院', 2), ('零陸佰元整', 2), ('建材', 2), ('提及', 2), ('新台', 2), ('鵠', 2), ('冠茂', 2), ('夏邦', 2), ('回程', 2), ('王翁桂', 2), ('八時', 2), ('張碧雄', 2), ('支號', 2), ('北興', 2), ('品質', 2), ('對照', 2), ('票款', 2), ('方秀櫻', 2), ('高度', 2), ('吳蒼文', 2), ('陸拾伍', 2), ('將來', 2), ('趙國', 2), ('楊宗諭', 2), ('加壓', 2), ('不會', 2), ('前向', 2), ('吉無車損', 2), ('劉良浩', 2), ('陳鴻熙', 2), ('蔡順', 2), ('鄭君平', 2), ('王敬富', 2), ('區欲往', 2), ('人侯季', 2), ('同鄉會', 2), ('李蘊恩', 2), ('即刻', 2), ('李興', 2), ('壓斷', 2), ('大順', 2), ('攤販', 2), ('圓體', 2), ('贓車', 2), ('人黃弘', 2), ('防治法', 2), ('旗津', 2), ('診治', 2), ('一些', 2), ('願將', 2), ('吳富', 2), ('余奕萱', 2), ('集合', 2), ('蔡玫芬', 2), ('萎縮', 2), ('休', 2), ('聯盟', 2), ('陳莉蓁', 2), ('南寧', 2), ('信瑋', 2), ('法師', 2), ('曾素', 2), ('宇洋', 2), ('金雀', 2), ('張湘玉', 2), ('兩支', 2), ('傅星晨', 2), ('樓層', 2), ('鏽蝕', 2), ('其未', 2), ('牟利', 2), ('限額', 2), ('偷鐵', 2), ('爆裂', 2), ('漆板', 2), ('柏均', 2), ('蘇逸茹', 2), ('法拍屋', 2), ('健', 2), ('李雅媛', 2), ('個合會', 2), ('千越', 2), ('並且', 2), ('吳芊', 2), ('張奕勝及', 2), ('人陳婉婷', 2), ('傷傷', 2), ('該署', 2), ('包括', 2), ('四街', 2), ('鑽', 2), ('匯至', 2), ('即期支票', 2), ('南投縣', 2), ('退縮', 2), ('整後即', 2), ('進田', 2), ('勾掛', 2), ('憶', 2), ('半年', 2), ('國稅局', 2), ('谷文硯', 2), ('貳佰玖', 2), ('引擎', 2), ('憲無體傷', 2), ('邱敬翔', 2), ('改變', 2), ('林雨', 2), ('之內', 2), ('敬仁', 2), ('酒店', 2), ('數人', 2), ('滲透到', 2), ('法國巴黎', 2), ('林聖憲', 2), ('樓及', 2), ('延期', 2), ('杜銘豪', 2), ('不服', 2), ('何淑娥', 2), ('愉快', 2), ('張怡拙', 2), ('刻', 2), ('單影', 2), ('孫秀', 2), ('崇', 2), ('瑞宏', 2), ('鄭佳蓉', 2), ('鄭雅云', 2), ('楊玉蓮', 2), ('預告', 2), ('塑膠袋', 2), ('金花', 2), ('莊千儀', 2), ('開支', 2), ('張育敏', 2), ('因有', 2), ('明體', 2), ('古蕙菁', 2), ('推車', 2), ('屬於', 2), ('沈柏穎', 2), ('內埔', 2), ('鄭智聰', 2), ('點多', 2), ('以肆', 2), ('胡嘉哲', 2), ('誤認', 2), ('人見', 2), ('年金', 2), ('七街', 2), ('水費', 2), ('茂輝', 2), ('人陳席', 2), ('瓦斯筒', 2), ('私設', 2), ('邢德堂', 2), ('郭宸', 2), ('人林芷妤', 2), ('相抵', 2), ('經常', 2), ('堆放', 2), ('將新', 2), ('整治', 2), ('閎', 2), ('吳榮峰', 2), ('快速道路', 2), ('志勇', 2), ('人江怡', 2), ('贏祥', 2), ('甲線', 2), ('財根', 2), ('吳侑翰', 2), ('戶頭', 2), ('同為', 2), ('文斗', 2), ('廖錦芳', 2), ('遲延', 2), ('日借', 2), ('出具', 2), ('葉馨', 2), ('杯', 2), ('日始', 2), ('不可', 2), ('踩到', 2), ('李金爐', 2), ('備齊', 2), ('靜怡', 2), ('差額', 2), ('大智街', 2), ('劉瀚中', 2), ('劉誼', 2), ('飲酒', 2), ('燙傷', 2), ('百達', 2), ('朱嘉俊', 2), ('磚塊', 2), ('設計費', 2), ('軍', 2), ('製造', 2), ('東建', 2), ('自備', 2), ('料件', 2), ('張軒', 2), ('行至', 2), ('王麗容', 2), ('金項鍊', 2), ('載明', 2), ('忠孝路', 2), ('賢車損', 2), ('操', 2), ('未回', 2), ('隱私', 2), ('透天', 2), ('蔡有銘', 2), ('科儀', 2), ('腦膜', 2), ('羅文', 2), ('精神科', 2), ('款柒萬', 2), ('街及', 2), ('與羅貴金', 2), ('以此', 2), ('吟體傷', 2), ('吳體', 2), ('棍子', 2), ('李維軒', 2), ('女士', 2), ('美蘭', 2), ('知名', 2), ('因請', 2), ('睡眠', 2), ('磨具', 2), ('陸佰玖', 2), ('吳志仁', 2), ('拖車', 2), ('捐', 2), ('溫股', 2), ('直到', 2), ('大漢', 2), ('先訴', 2), ('兩側', 2), ('童惠屏', 2), ('五霖', 2), ('吳冠宏', 2), ('塗裝', 2), ('郭品', 2), ('禕', 2), ('號後', 2), ('郭國津', 2), ('豐', 2), ('租字', 2), ('郭惠琴', 2), ('蔡先生', 2), ('簡萍蘭', 2), ('互提', 2), ('狀並', 2), ('報請', 2), ('張欣', 2), ('算', 2), ('外面', 2), ('簡翊珈', 2), ('初步', 2), ('已依', 2), ('整未', 2), ('人林秀玲', 2), ('任華', 2), ('安溪', 2), ('埩', 2), ('隨後', 2), ('柯葉', 2), ('沈', 2), ('南市區', 2), ('該案', 2), ('法代', 2), ('申棟', 2), ('看屋', 2), ('四兩', 2), ('竹願', 2), ('學歷', 2), ('門牙', 2), ('綸', 2), ('予王', 2), ('陳嬿宸', 2), ('五仟元整', 2), ('高壓', 2), ('鋼釘', 2), ('而據', 2), ('周陳玉霞', 2), ('褘', 2), ('購車', 2), ('張雅涵', 2), ('人林彥', 2), ('隨時', 2), ('陳小姐', 2), ('只能', 2), ('參仟伍', 2), ('障礙物', 2), ('精神疾病', 2), ('感染', 2), ('刷印', 2), ('鏈條', 2), ('諭', 2), ('度', 2), ('朱珮珊', 2), ('人黃振育', 2), ('委請', 2), ('小偷', 2), ('智障', 2), ('水淹', 2), ('宜蘭', 2), ('呈現', 2), ('楊嘉珍', 2), ('號聲', 2), ('門市', 2), ('轉入', 2), ('袁晨昕', 2), ('接到', 2), ('郭柏', 2), ('廖慧卿', 2), ('遠東', 2), ('萬象', 2), ('程登祿', 2), ('尤福', 2), ('任何一方', 2), ('珚', 2), ('所欠', 2), ('李瀠圳', 2), ('玖佰柒拾', 2), ('鄭力', 2), ('宋美英', 2), ('張鏢淙', 2), ('李怡蓉', 2), ('南臺', 2), ('油煙機', 2), ('關閉', 2), ('范耀恒', 2), ('興向聲', 2), ('王非', 2), ('王繪', 2), ('曾慶埏', 2), ('手環', 2), ('載有', 2), ('元元整', 2), ('邱敏雄', 2), ('登記費', 2), ('前門', 2), ('李佳倫', 2), ('泰體傷', 2), ('尤香蓮', 2), ('林岳鋒', 2), ('勒住', 2), ('魏順菊', 2), ('人陳忠謀', 2), ('一份', 2), ('至廷', 2), ('滑板', 2), ('四名', 2), ('永欣星', 2), ('界線', 2), ('民雄鄉', 2), ('峰', 2), ('藉詞', 2), ('保單', 2), ('邱利秦', 2), ('王得', 2), ('義務人', 2), ('觀光', 2), ('舒晴', 2), ('馬路上', 2), ('趙俊彥', 2), ('玫螢', 2), ('未到', 2), ('技師', 2), ('鄭春來', 2), ('田蘭英', 2), ('鄭誌', 2), ('汪敬逸', 2), ('腹部', 2), ('整平', 2), ('開合', 2), ('死死', 2), ('冷凍庫', 2), ('署', 2), ('或物', 2), ('領空', 2), ('嫻', 2), ('楊璧鳳', 2), ('德旺', 2), ('畢即', 2), ('鼎', 2), ('吳信廣', 2), ('李秀', 2), ('人黃銘祥', 2), ('之凱基', 2), ('桃園縣', 2), ('日興', 2), ('文豪', 2), ('二紙', 2), ('意路', 2), ('錢黛萍', 2), ('視聽', 2), ('海佃路', 2), ('國賓', 2), ('職務', 2), ('郭杰霖', 2), ('負荷', 2), ('楊子賢', 2), ('致楊', 2), ('張為', 2), ('桂珠', 2), ('李黃淑幸', 2), ('關嶺', 2), ('之重', 2), ('必須', 2), ('之應', 2), ('之車損', 2), ('李國明', 2), ('適宜', 2), ('上臂', 2), ('秀紅', 2), ('月許', 2), ('臨時工', 2), ('人籃', 2), ('先帶', 2), ('號鴨母', 2), ('允若', 2), ('歡', 2), ('蔡素靜', 2), ('王立民', 2), ('林芸', 2), ('博文', 2), ('宋東', 2), ('李丹伶', 2), ('擬於', 2), ('買受', 2), ('付費', 2), ('餘萬元', 2), ('姿吟', 2), ('王含玉', 2), ('宜泉', 2), ('菀', 2), ('壬區', 2), ('福懋', 2), ('整間', 2), ('整建', 2), ('蔡月英', 2), ('德泰', 2), ('周', 2), ('脅迫', 2), ('電器', 2), ('吳伊婷', 2), ('楊佳蒨', 2), ('幣', 2), ('沙坑', 2), ('器材', 2), ('雙膝', 2), ('駕駛執照', 2), ('沈俊廷', 2), ('王俊智', 2), ('饒育', 2), ('之合', 2), ('號成', 2), ('許錦桃', 2), ('代表人', 2), ('王澤宏', 2), ('琄', 2), ('魏穆', 2), ('鄭仲妤', 2), ('焜', 2), ('慧', 2), ('曾翊豪', 2), ('純修', 2), ('擺設', 2), ('預付', 2), ('裂開', 2), ('寶林', 2), ('兩重', 2), ('張秋桂', 2), ('邊緣', 2), ('質', 2), ('鯓', 2), ('造人湯', 2), ('受驚嚇', 2), ('標俊辰', 2), ('飲料店', 2), ('言論', 2), ('大勇', 2), ('謝宗憲', 2), ('造人遲', 2), ('同學', 2), ('清願', 2), ('執造', 2), ('小拇指', 2), ('林幼綿', 2), ('阮伯洋', 2), ('號燈桿', 2), ('王哲偉', 2), ('德成', 2), ('人陳義孟', 2), ('賴逸驍', 2), ('谷文西', 2), ('人方彥', 2), ('重新', 2), ('蔡秉昱', 2), ('麗雅', 2), ('區永', 2), ('雙淇淋機', 2), ('湘霖', 2), ('楊東', 2), ('周貴彬', 2), ('另告', 2), ('污辱', 2), ('洽談', 2), ('豐泰', 2), ('李至弘', 2), ('林夏吟', 2), ('致何仲因', 2), ('全新', 2), ('至上', 2), ('發放', 2), ('失當', 2), ('未得聲', 2), ('鐵絲網', 2), ('需載', 2), ('柔體傷', 2), ('噴漆', 2), ('朱美娥', 2), ('拿走', 2), ('陀', 2), ('人葉雪', 2), ('綠園', 2), ('騙取', 2), ('林于', 2), ('符合', 2), ('含上', 2), ('邱芳', 2), ('濂', 2), ('扯掉', 2), ('莊云', 2), ('令', 2), ('溢出', 2), ('楊玉琴', 2), ('周姿儀', 2), ('椅', 2), ('八德', 2), ('李榮泰', 2), ('采昀', 2), ('秋雄', 2), ('郭國', 2), ('指對', 2), ('吳木森', 2), ('湯碧琴', 2), ('得款', 2), ('品瑄', 2), ('優惠', 2), ('孫', 2), ('敗血', 2), ('弘志', 2), ('良德', 2), ('徐俊', 2), ('服務處', 2), ('謝板', 2), ('郭連妹', 2), ('人黃于', 2), ('蓮珍', 2), ('邱裕富', 2), ('李怡健', 2), ('仁武', 2), ('跟隨', 2), ('日交屋', 2), ('人黃婉禎', 2), ('齊願', 2), ('義孟車損', 2), ('偽簽', 2), ('吳冠霆', 2), ('胡祐維', 2), ('侯素', 2), ('世宗', 2), ('遭受', 2), ('年資', 2), ('葉雅芬', 2), ('前輪', 2), ('惟有', 2), ('里長', 2), ('草稿', 2), ('房屋出租', 2), ('每週日', 2), ('余榮陽修', 2), ('儀修', 2), ('名單', 2), ('三萬', 2), ('人宅', 2), ('無照', 2), ('關上', 2), ('李心', 2), ('克', 2), ('迄至', 2), ('璿', 2), ('路自', 2), ('溫雅', 2), ('滑向', 2), ('蔡燕', 2), ('團體', 2), ('通知單', 2), ('隱匿', 2), ('張義烈', 2), ('林建志', 2), ('人羅莉惠', 2), ('瑪雅', 2), ('之日起', 2), ('箱泡', 2), ('收訖', 2), ('林晏瑩', 2), ('闖紅燈', 2), ('玉英', 2), ('造人傅', 2), ('潪', 2), ('背', 2), ('李芷因', 2), ('吳秀桃', 2), ('前為', 2), ('處分權', 2), ('劉燕', 2), ('並移', 2), ('約制', 2), ('廂式', 2), ('房損', 2), ('惟向', 2), ('因對造', 2), ('之富邦', 2), ('迴', 2), ('人陳宗湖', 2), ('三民路', 2), ('張幸', 2), ('公款', 2), ('沈偉芳', 2), ('澎湖', 2), ('乃文', 2), ('瑞挺', 2), ('公設', 2), ('凱體傷', 2), ('林秉叡', 2), ('回饋', 2), ('年紀', 2), ('有事', 2), ('扯', 2), ('顓繹車損', 2), ('唐溪', 2), ('邱郁涵', 2), ('在職', 2), ('侯梅', 2), ('手腕', 2), ('陸萬柒仟元整', 2), ('李國文', 2), ('標的', 2), ('蔡宏南', 2), ('紀並', 2), ('平整', 2), ('一座', 2), ('物及', 2), ('宋秀鈴', 2), ('聖心', 2), ('影視', 2), ('因風大', 2), ('人陳柏', 2), ('高低', 2), ('奧', 2), ('皇龍', 2), ('順', 2), ('其因', 2), ('專利', 2), ('許政', 2), ('王紫茵', 2), ('交屋', 2), ('事情', 2), ('液化', 2), ('金蘭', 2), ('沛彤', 2), ('國威', 2), ('禹豪', 2), ('買回', 2), ('納稅', 2), ('周峻毅', 2), ('旅客', 2), ('人方國', 2), ('造價', 2), ('朱美燕', 2), ('所地', 2), ('有利可圖', 2), ('包', 2), ('典當', 2), ('磚牆', 2), ('工程顧問', 2), ('傅雅萍', 2), ('收費', 2), ('繫', 2), ('森木', 2), ('士', 2), ('荑', 2), ('廖銘姿', 2), ('喻', 2), ('蘇立', 2), ('認證', 2), ('行時', 2), ('西港', 2), ('許嘉雯', 2), ('交貨', 2), ('認聲', 2), ('零肆', 2), ('保有', 2), ('詹志翔', 2), ('洪雅', 2), ('邱素瑛', 2), ('撞倒', 2), ('實驗室', 2), ('手套', 2), ('王煜菱', 2), ('柯文', 2), ('吳柏', 2), ('高仕倫', 2), ('路共食', 2), ('源商', 2), ('取出', 2), ('街處', 2), ('將於', 2), ('榮興', 2), ('找到', 2), ('藍景純', 2), ('第二款', 2), ('詳談', 2), ('人陳儷', 2), ('區分', 2), ('中止', 2), ('零柒拾', 2), ('受其', 2), ('肺', 2), ('人陳輝陽', 2), ('德利', 2), ('網咖店', 2), ('煞', 2), ('余振榮', 2), ('漏油', 2), ('鄭繡玉', 2), ('殘疾', 2), ('條之', 2), ('偵宇', 2), ('運行', 2), ('李文玉', 2), ('鄉農', 2), ('連', 2), ('林文彬', 2), ('館主', 2), ('美雪', 2), ('去年', 2), ('煞停', 2), ('升', 2), ('張力', 2), ('以腳', 2), ('然上', 2), ('工務段', 2), ('涂慧英', 2), ('故而', 2), ('電暖器', 2), ('薛暖慧', 2), ('靖', 2), ('好友', 2), ('劉玲孜', 2), ('書經', 2), ('孜', 2), ('給他', 2), ('七喜', 2), ('楊文忠', 2), ('安全帶', 2), ('號橋', 2), ('如為', 2), ('晏體傷', 2), ('排', 2), ('台塑', 2), ('行之', 2), ('貨運行', 2), ('潘麒蓉', 2), ('興農', 2), ('半夜', 2), ('林幸蓉', 2), ('黃楊', 2), ('儷', 2), ('變電', 2), ('楊馥蓉願', 2), ('太陽能', 2), ('劉淑惠', 2), ('徐曉惠', 2), ('另一台', 2), ('區怡安路', 2), ('月刊', 2), ('不負', 2), ('限於', 2), ('劉芸', 2), ('壓克力', 2), ('吳致', 2), ('鋼骨', 2), ('音樂', 2), ('日伍', 2), ('惟現', 2), ('郭信雄', 2), ('關門', 2), ('人黃珮雯', 2), ('南輝', 2), ('吳雅苓', 2), ('招蓮', 2), ('莫富名', 2), ('人除', 2), ('廖嘉哲', 2), ('八萬元', 2), ('李忍', 2), ('林有福', 2), ('小人', 2), ('埤', 2), ('敲', 2), ('薰', 2), ('兩廣', 2), ('中之安親', 2), ('肩部', 2), ('大同', 2), ('兒童', 2), ('蔡幼絨', 2), ('時整', 2), ('張雅微', 2), ('慶雄', 2), ('靜緩', 2), ('彈琴', 2), ('及代', 2), ('李雅琛', 2), ('行健', 2), ('劉金雀', 2), ('郭琬玉', 2), ('續住', 2), ('其妻', 2), ('人賴筱雅', 2), ('蘇容', 2), ('養育', 2), ('刀', 2), ('梅', 2), ('園', 2), ('翁月蘭', 2), ('鑽孔', 2), ('邱錦源', 2), ('鄭煌雄', 2), ('彰', 2), ('滿意', 2), ('一位', 2), ('棻', 2), ('均遭', 2), ('貼', 2), ('談', 2), ('梧', 2), ('惟該', 2), ('慶豐', 2), ('工處', 2), ('反對', 2), ('林吉雄', 2), ('傳真', 2), ('核交', 2), ('民安', 2), ('資金週轉', 2), ('藍景恒', 2), ('謝靜雯', 2), ('無涉', 2), ('狹小', 2), ('楊森', 2), ('洪惠敏', 2), ('愷', 2), ('謨', 2), ('吳清祿', 2), ('鎮段', 2), ('吳崇寬', 2), ('人陳柏翰', 2), ('弘哲', 2), ('手提包', 2), ('以外', 2), ('林宜靜', 2), ('鼻子', 2), ('戶政事務', 2), ('佣金', 2), ('寵物店', 2), ('安全門', 2), ('千文', 2), ('陸佰捌', 2), ('對話', 2), ('人信', 2), ('五人', 2), ('金鐘', 2), ('婚紗店', 2), ('瑞豐', 2), ('再將', 2), ('林玉理', 2), ('薛碧香', 2), ('號未', 2), ('誤解', 2), ('三台', 2), ('碰觸', 2), ('棉', 2), ('打壞', 2), ('戴妙臻', 2), ('造字', 2), ('老化', 2), ('仕', 2), ('茜', 2), ('停靠', 2), ('沿文', 2), ('賭博', 1), ('賓士', 1), ('明發', 1), ('社段', 1), ('吟願', 1), ('視線', 1), ('孟筠', 1), ('孫小姐', 1), ('不順', 1), ('小馬', 1), ('遠修', 1), ('於眾', 1), ('輔導', 1), ('示意', 1), ('國八', 1), ('下體', 1), ('建元', 1), ('立方米', 1), ('拌', 1), ('批', 1), ('林招蓮', 1), ('中里', 1), ('右昌', 1), ('值為', 1), ('謝天智', 1), ('巾', 1), ('共來', 1), ('兩仟', 1), ('林麗賢', 1), ('福華', 1), ('李之鶴', 1), ('偽酒', 1), ('吳佩臻', 1), ('適用', 1), ('遷', 1), ('許金池', 1), ('蘇天', 1), ('傷無車損', 1), ('助理', 1), ('積累', 1), ('時適', 1), ('仁車損', 1), ('工務', 1), ('蔡穎', 1), ('明確', 1), ('修受', 1), ('人萬應', 1), ('虛構', 1), ('拾獲', 1), ('產期', 1), ('由父', 1), ('左腹', 1), ('產物', 1), ('瑞民路', 1), ('人游', 1), ('雅修', 1), ('蔡靜', 1), ('付與', 1), ('燒錄', 1), ('各壹張', 1), ('人黃瑋豪', 1), ('鐵棍', 1), ('萬澤', 1), ('未來', 1), ('許明', 1), ('曾文溪', 1), ('分其', 1), ('講師', 1), ('許凰', 1), ('鳥', 1), ('壹個給', 1), ('柏油', 1), ('林高雄', 1), ('又將', 1), ('但是', 1), ('誠耘', 1), ('短缺', 1), ('買賣雙方', 1), ('造人給', 1), ('九樓', 1), ('慶文', 1), ('線芳谷', 1), ('健保加', 1), ('票貼', 1), ('益聖', 1), ('肖仔', 1), ('改修', 1), ('張桂', 1), ('廖敏', 1), ('因未帶', 1), ('庭審', 1), ('下該', 1), ('騙術', 1), ('時多許', 1), ('款柒仟元整', 1), ('大坑', 1), ('查清', 1), ('那條', 1), ('蝶', 1), ('林岱', 1), ('總務', 1), ('萬兀', 1), ('永慶', 1), ('造人田', 1), ('丁采', 1), ('人陳逸珊', 1), ('毛氏', 1), ('移置', 1), ('致陳信宏', 1), ('陳淑芳', 1), ('王春貴', 1), ('幾車', 1), ('外露', 1), ('還對', 1), ('由法代', 1), ('試騎', 1), ('黃素', 1), ('林政宜', 1), ('安北', 1), ('如已', 1), ('邱志偉', 1), ('伍佰貳', 1), ('以地政', 1), ('收尾', 1), ('厚生', 1), ('日含', 1), ('莊富欄', 1), ('行員', 1), ('蔡佩宜', 1), ('腳掌', 1), ('萬以', 1), ('伍陸仟', 1), ('旋以', 1), ('耳機', 1), ('之傷', 1), ('枚', 1), ('人陳振雲疏', 1), ('拋繼笨', 1), ('人黃琪芳', 1), ('王建程', 1), ('錄第', 1), ('罵聲', 1), ('楊惠', 1), ('地坪', 1), ('育智', 1), ('污染', 1), ('始開', 1), ('還本', 1), ('眼科', 1), ('衛民', 1), ('金儷', 1), ('圖案', 1), ('災害', 1), ('許郭秋霞', 1), ('王智賢', 1), ('國花', 1), ('深信不疑', 1), ('祀', 1), ('癌症', 1), ('郭愛珍', 1), ('學費', 1), ('冠南', 1), ('米克斯', 1), ('寶格成', 1), ('頂段', 1), ('旁巷', 1), ('含稅', 1), ('品潔', 1), ('該期', 1), ('王森', 1), ('佯裝不知', 1), ('貳佰零伍', 1), ('零星', 1), ('床鋪', 1), ('爐火', 1), ('駕敏', 1), ('竊賊', 1), ('儀軒', 1), ('傷腦', 1), ('久之', 1), ('分陸期', 1), ('水果刀', 1), ('人黃昱翔', 1), ('伍仟元分', 1), ('箱體', 1), ('未得', 1), ('稅等', 1), ('重量', 1), ('輸贏', 1), ('及時發現', 1), ('共用', 1), ('由母', 1), ('起租', 1), ('葉英定', 1), ('葉輝雄', 1), ('落下', 1), ('願作', 1), ('鄉堤', 1), ('吳坤福', 1), ('素蓮', 1), ('人四人', 1), ('月給', 1), ('作對', 1), ('笑玲', 1), ('斜', 1), ('西屯路', 1), ('觸口村', 1), ('周姿吟', 1), ('金霞', 1), ('鄭王', 1), ('碎渣', 1), ('自營', 1), ('美杏', 1), ('腦出血', 1), ('幫人', 1), ('旅社', 1), ('業於以', 1), ('美德', 1), ('該張', 1), ('新興村', 1), ('帑', 1), ('蔡元生', 1), ('處理廠', 1), ('鄭夙雅新', 1), ('高傲', 1), ('蔡銘儒', 1), ('開藥', 1), ('揚雨青', 1), ('含聲', 1), ('琛', 1), ('黃連', 1), ('飯店', 1), ('蕭穎', 1), ('經盧文斌', 1), ('布繡', 1), ('謝亞妘', 1), ('內將', 1), ('許博沅', 1), ('屋側', 1), ('書報', 1), ('梅因', 1), ('蔡宇竣', 1), ('索賠', 1), ('兩位', 1), ('幼子', 1), ('禾聯', 1), ('人洪靖', 1), ('掀', 1), ('展業', 1), ('周康榮', 1), ('指表', 1), ('區南勢', 1), ('戴麗華共乘', 1), ('土方', 1), ('人林晉', 1), ('劉政忠', 1), ('各陸拾', 1), ('經手', 1), ('致杜', 1), ('重測', 1), ('郭富雄', 1), ('攔查', 1), ('林蘇玉', 1), ('林榮蘭', 1), ('哲騎', 1), ('江里', 1), ('沿鹽', 1), ('九', 1), ('八樓', 1), ('趁隙', 1), ('模板', 1), ('鑽入', 1), ('保密', 1), ('租房子', 1), ('勸導', 1), ('訊問', 1), ('因遲', 1), ('零玖', 1), ('為主', 1), ('日內將', 1), ('經協', 1), ('楊金映', 1), ('及育賢', 1), ('人林梅', 1), ('柯鶯鶯', 1), ('與陳淑鈴', 1), ('道口', 1), ('照後鏡', 1), ('陸仟玖佰參拾', 1), ('中成路', 1), ('那', 1), ('放行', 1), ('涂梅芳', 1), ('擾人', 1), ('施艷貴', 1), ('台灣倍', 1), ('周碧瑩', 1), ('參仟玖佰柒拾', 1), ('掀翻', 1), ('兒女', 1), ('秋茂園', 1), ('南一', 1), ('侵建', 1), ('卻是', 1), ('吳明烈', 1), ('前庭', 1), ('避而', 1), ('林雲如', 1), ('謾罵', 1), ('乃將', 1), ('人陳妙', 1), ('張鴻坤', 1), ('知言', 1), ('鐘梅', 1), ('造人代為', 1), ('蔡志宏', 1), ('行程', 1), ('裸露', 1), ('智體傷', 1), ('正後方', 1), ('不繳', 1), ('國安', 1), ('甲班', 1), ('廢氣', 1), ('及腳', 1), ('造人岩', 1), ('門上', 1), ('有意', 1), ('錯將', 1), ('新莊', 1), ('國軍', 1), ('貨寄到', 1), ('其常', 1), ('柒仟元則', 1), ('屢次', 1), ('聿', 1), ('許耿豪願', 1), ('吳旗監', 1), ('甄及', 1), ('以將', 1), ('嬰兒', 1), ('飼料', 1), ('吳佩容', 1), ('明後卻', 1), ('至遲', 1), ('吳佳儀', 1), ('周書毅', 1), ('醫', 1), ('龐韶文', 1), ('技', 1), ('周瑞峰', 1), ('虔涉', 1), ('北方', 1), ('王靖', 1), ('狗叫聲', 1), ('地琥', 1), ('朋與', 1), ('鄭介舜', 1), ('之遠傳', 1), ('造人永欣', 1), ('鳳', 1), ('郭建麟', 1), ('每到', 1), ('人江宏謙', 1), ('即開', 1), ('消費性', 1), ('楊祐東', 1), ('同仁堂', 1), ('品瑜', 1), ('延', 1), ('二輛', 1), ('藤條', 1), ('王雨利持', 1), ('合德', 1), ('座位', 1), ('分離式', 1), ('永嘉', 1), ('啤酒', 1), ('所涉', 1), ('防震', 1), ('富國', 1), ('金慶昌', 1), ('吳貞賢', 1), ('富農', 1), ('邊界', 1), ('小部份', 1), ('造人原', 1), ('區安富', 1), ('正順', 1), ('王施', 1), ('郭賴君', 1), ('右岸', 1), ('侯明', 1), ('補償費', 1), ('費費', 1), ('專用', 1), ('臺東縣', 1), ('孟學', 1), ('或壹期', 1), ('吳銘章', 1), ('美好', 1), ('會金新', 1), ('文名', 1), ('延後', 1), ('萬柒仟元給', 1), ('服務中心', 1), ('樓店', 1), ('窗', 1), ('張琴雯', 1), ('國信', 1), ('感冒', 1), ('溝', 1), ('高秀', 1), ('冒稱', 1), ('包底', 1), ('麥粉', 1), ('李珍', 1), ('拴', 1), ('桃修', 1), ('彈', 1), ('但後向', 1), ('常客', 1), ('對付', 1), ('買下', 1), ('看報', 1), ('網址', 1), ('刑事處分', 1), ('剪', 1), ('揮打', 1), ('汪素', 1), ('原是', 1), ('通訊地址', 1), ('噯', 1), ('百萬元', 1), ('精神賠償', 1), ('醫藥費', 1), ('適魏郁', 1), ('真車損', 1), ('王吉英', 1), ('一大早', 1), ('造人方彥', 1), ('挪為', 1), ('梵修', 1), ('走向', 1), ('照費及', 1), ('函文', 1), ('朱美', 1), ('弱電', 1), ('林園', 1), ('劉沛', 1), ('蔡林秀菊之子', 1), ('氣密', 1), ('依該', 1), ('品晟', 1), ('光學', 1), ('杜順明', 1), ('吳虹偉體', 1), ('人卓鈺', 1), ('拿到', 1), ('中西', 1), ('當下', 1), ('珊願', 1), ('貴婷', 1), ('抵債', 1), ('乙筆', 1), ('吳青', 1), ('邱賴碧蓮', 1), ('放入', 1), ('夾到', 1), ('疾苦', 1), ('魏淑慧', 1), ('把門', 1), ('莊淑鈴', 1), ('章景', 1), ('年托', 1), ('現岑秉龍', 1), ('王逸琳施', 1), ('智亮', 1), ('裁', 1), ('文集', 1), ('中時', 1), ('派報', 1), ('王以楨', 1), ('展弘', 1), ('超炫', 1), ('圍欄', 1), ('劉寧展', 1), ('給角屋', 1), ('信宏為', 1), ('造人陳春菊', 1), ('並告', 1), ('人涂', 1), ('日始將', 1), ('食宿費', 1), ('人陳偉傑', 1), ('賴麗蘭', 1), ('呂麗蓉', 1), ('軒', 1), ('本行', 1), ('樓施作', 1), ('鄭方', 1), ('伍佰參拾', 1), ('盧昕宏', 1), ('肖像', 1), ('廉', 1), ('伍仟玖佰元整', 1), ('慈無車損', 1), ('留言板', 1), ('武昌', 1), ('棚作', 1), ('王怡信', 1), ('尚須', 1), ('李采薇', 1), ('始得', 1), ('邱馨儀', 1), ('隨身', 1), ('瓊惠修', 1), ('完再', 1), ('呂育', 1), ('電磁', 1), ('林春梅', 1), ('轉用', 1), ('拖欠', 1), ('吳秋', 1), ('劉惠貞', 1), ('歸由三人', 1), ('新義盛', 1), ('並須', 1), ('弘瑋', 1), ('慶賢及', 1), ('獲取', 1), ('清美', 1), ('由夏邦', 1), ('所在地', 1), ('螢修', 1), ('狀元', 1), ('千峰', 1), ('孟宇', 1), ('大多數', 1), ('揮拳', 1), ('韓國', 1), ('加裝', 1), ('人林榮泰', 1), ('客票', 1), ('週', 1), ('頭頂', 1), ('一職', 1), ('人林春梅', 1), ('分向', 1), ('金繼強', 1), ('僅肯', 1), ('許艷秋', 1), ('因煞', 1), ('王旭', 1), ('印刷', 1), ('之權', 1), ('新孝', 1), ('病例', 1), ('蚊', 1), ('權利金', 1), ('咖啡機', 1), ('號之金初', 1), ('路科', 1), ('碧煌', 1), ('之計畫', 1), ('尋仇', 1), ('鄭朝榮', 1), ('一部分', 1), ('謝佳純', 1), ('刺痛', 1), ('專用權', 1), ('洪增雄', 1), ('王琮', 1), ('美商', 1), ('保護', 1), ('高級', 1), ('桃園市', 1), ('枷蓉', 1), ('絨', 1), ('康幸義', 1), ('前案', 1), ('貳佰陸拾', 1), ('持偽造', 1), ('不然', 1), ('紙給', 1), ('平板', 1), ('戰聲', 1), ('干元', 1), ('仁鴻以', 1), ('並委由', 1), ('反胃', 1), ('喻等', 1), ('帳目', 1), ('東偉龍願', 1), ('張偉賢', 1), ('良將', 1), ('爭訟', 1), ('謝淑一', 1), ('收銀機', 1), ('張裕玉', 1), ('李清美', 1), ('因欲', 1), ('含有', 1), ('致歐', 1), ('及合', 1), ('錢付', 1), ('郭乃萍', 1), ('仁安', 1), ('店展', 1), ('廷修', 1), ('初期', 1), ('該名', 1), ('大無', 1), ('甄體傷', 1), ('陽興', 1), ('王聖安', 1), ('李黃', 1), ('松原', 1), ('乘騎', 1), ('地段', 1), ('沾滿', 1), ('詹柏成', 1), ('柒萬柒仟', 1), ('聰', 1), ('口腔', 1), ('車輛通行', 1), ('劉友榮', 1), ('銀行戶頭', 1), ('翠華車損', 1), ('借取', 1), ('張凱嵐', 1), ('球棒', 1), ('對本', 1), ('槓頂', 1), ('林梅桂', 1), ('沿該', 1), ('遺族', 1), ('鳳英', 1), ('張成', 1), ('干興', 1), ('福星', 1), ('號施', 1), ('迭', 1), ('郭宗德', 1), ('洪建', 1), ('鄭淑華', 1), ('拉門', 1), ('真正', 1), ('怡平路', 1), ('恫嚇', 1), ('區政', 1), ('電信公司', 1), ('晚班', 1), ('杜素', 1), ('郁翰', 1), ('王惟銘', 1), ('借柒拾', 1), ('以法', 1), ('非常', 1), ('蔡慶義', 1), ('壞死', 1), ('徐彩瑛', 1), ('房地產權', 1), ('鳳昭', 1), ('地質', 1), ('壹千', 1), ('求助', 1), ('人林明', 1), ('敬仁願', 1), ('七張', 1), ('高時', 1), ('何舜弘', 1), ('致魏郁', 1), ('已代為', 1), ('市政', 1), ('送到', 1), ('李夢書', 1), ('裡外', 1), ('御體傷', 1), ('人余林婉惠', 1), ('還當', 1), ('細量', 1), ('天文', 1), ('王裕銘修', 1), ('限制', 1), ('發揮', 1), ('臨停', 1), ('大旺', 1), ('走火', 1), ('及北忠', 1), ('之大騏', 1), ('整元整', 1), ('江碧娟', 1), ('廢棄', 1), ('則有', 1), ('居', 1), ('部落', 1), ('祈佑', 1), ('提請', 1), ('號法', 1), ('掙脫', 1), ('張子正', 1), ('再盤', 1), ('一灘', 1), ('秀貞', 1), ('李建南', 1), ('人雙', 1), ('即母', 1), ('需將', 1), ('林宏謀', 1), ('人陳碧玲', 1), ('人雲冰願', 1), ('日立', 1), ('吳明珍', 1), ('祥向現', 1), ('席間', 1), ('顏耀文願', 1), ('生存', 1), ('宏為', 1), ('韋俊先', 1), ('德川', 1), ('得以', 1), ('林錫玄', 1), ('雪玲', 1), ('顏秀庭', 1), ('雅珠', 1), ('吳明潭', 1), ('瑞體傷', 1), ('琦', 1), ('房內', 1), ('委外', 1), ('幼獅', 1), ('很煩', 1), ('惡習', 1), ('此為', 1), ('王夢涵', 1), ('五張', 1), ('韓重輝', 1), ('月則', 1), ('動工', 1), ('吳葉秀蘭', 1), ('吳林', 1), ('青華', 1), ('可共見', 1), ('南屯區', 1), ('需新', 1), ('大埔', 1), ('明益', 1), ('東偉龍', 1), ('狗吠', 1), ('葛春榮', 1), ('警示燈', 1), ('吳岱', 1), ('櫻桃', 1), ('素慧', 1), ('再行', 1), ('皆須', 1), ('月後將', 1), ('經提告', 1), ('防水層', 1), ('振', 1), ('安娜', 1), ('萬昌街', 1), ('受傷害', 1), ('需先', 1), ('據查', 1), ('楊潔馨', 1), ('接林澤峰', 1), ('正緯', 1), ('得分', 1), ('林麗貞', 1), ('棋車損', 1), ('現代', 1), ('夜', 1), ('所寫', 1), ('胡秋', 1), ('接濟', 1), ('蔡淑敏', 1), ('長達', 1), ('武勝路', 1), ('桂業', 1), ('福仁', 1), ('翁翊航修', 1), ('鄭金梅', 1), ('元合會', 1), ('先擦', 1), ('窩', 1), ('提醒', 1), ('整為止', 1), ('管溝', 1), ('擔憂', 1), ('日買', 1), ('紀兆軒', 1), ('區東榮里', 1), ('車在', 1), ('安全島', 1), ('地界', 1), ('同路', 1), ('布', 1), ('及開', 1), ('其緯', 1), ('佳宜', 1), ('云無車損', 1), ('鄰棟', 1), ('吳政', 1), ('新光人壽', 1), ('莊添全', 1), ('公面', 1), ('砂', 1), ('宋振威', 1), ('側邊', 1), ('純屬', 1), ('朱安瑞', 1), ('傅智', 1), ('姿菁', 1), ('施慶點', 1), ('樊宇銨', 1), ('余美儀', 1), ('謄本', 1), ('高璇', 1), ('傅錦滿', 1), ('竣所', 1), ('劉碧園', 1), ('設攤', 1), ('復健', 1), ('共壹拾', 1), ('失慮', 1), ('日刷', 1), ('房屋結構', 1), ('指述', 1), ('人黃郁', 1), ('三子', 1), ('造人黃慧純', 1), ('故暫', 1), ('交渠', 1), ('振輝', 1), ('退除', 1), ('雙親', 1), ('頂棚', 1), ('教育館', 1), ('美華街', 1), ('發群', 1), ('林秉謙', 1), ('馬上', 1), ('全家福', 1), ('茂二村', 1), ('及欣昊', 1), ('康秀惠', 1), ('外談', 1), ('全聯', 1), ('李靜國', 1), ('澆下', 1), ('楊梅鎮', 1), ('許冠琳', 1), ('四輛', 1), ('二聲', 1), ('同色', 1), ('殆盡', 1), ('追至', 1), ('別名', 1), ('施博函', 1), ('申請費', 1), ('李文良', 1), ('雨刷箱', 1), ('林玉弘', 1), ('拋光', 1), ('及周', 1), ('誠願', 1), ('蔡姿瑜', 1), ('瑞鴻', 1), ('現為', 1), ('傳銷', 1), ('巫貴蘭', 1), ('有膽', 1), ('永就里', 1), ('怒斥', 1), ('出境', 1), ('多發性', 1), ('分始將', 1), ('布袋戲', 1), ('前次', 1), ('有些', 1), ('人林煒堅', 1), ('何書薇', 1), ('柱', 1), ('徵求', 1), ('人林俊', 1), ('溫室', 1), ('劉雪漪', 1), ('伍佰玖', 1), ('林賴秀枝', 1), ('禁錮', 1), ('謝明', 1), ('歐俊誼', 1), ('惠車損', 1), ('號大御', 1), ('人林酉宸', 1), ('日光燈', 1), ('而居', 1), ('偷竊', 1), ('各式', 1), ('機械加工', 1), ('一包', 1), ('工作日', 1), ('顏伯庭', 1), ('人陳亭', 1), ('聖憲', 1), ('里區', 1), ('經銷', 1), ('郭炳杉欲', 1), ('進門', 1), ('之機', 1), ('南勝', 1), ('元作', 1), ('楠修', 1), ('自覺', 1), ('之原', 1), ('願自', 1), ('蔡素', 1), ('哲', 1), ('正殿', 1), ('李穎', 1), ('巧雲在', 1), ('號葉燦盛', 1), ('籃子', 1), ('解繳', 1), ('廖樹松', 1), ('吳盧美', 1), ('藉此', 1), ('木製', 1), ('衰竭', 1), ('純青', 1), ('高正明', 1), ('徐菁穗', 1), ('其調', 1), ('謝佳璋', 1), ('依票', 1), ('松柯', 1), ('鋼架', 1), ('人交', 1), ('雲始', 1), ('郭慧茹', 1), ('古銑', 1), ('周無體傷', 1), ('李國豪', 1), ('表與', 1), ('桀', 1), ('洪秀惠', 1), ('楊宗翰代為', 1), ('葉靜茹', 1), ('一看', 1), ('石場', 1), ('成品', 1), ('便將', 1), ('禹綸', 1), ('煙昭', 1), ('一頁', 1), ('電源', 1), ('區勝華街', 1), ('併發', 1), ('汙水', 1), ('無照駕駛', 1), ('即鄰', 1), ('鄭添清', 1), ('免於', 1), ('埔里', 1), ('誤導', 1), ('翌任', 1), ('台中大智', 1), ('尚餘新', 1), ('每斤', 1), ('侯彥', 1), ('其上', 1), ('吳正霖', 1), ('北第', 1), ('楊明賢', 1), ('紗門', 1), ('鄭美', 1), ('顯', 1), ('移交', 1), ('蔡景', 1), ('北辰', 1), ('後輪', 1), ('安清', 1), ('服務態度', 1), ('溫度', 1), ('城里', 1), ('東義', 1), ('額外', 1), ('劉通智修', 1), ('尤素梅', 1), ('北富', 1), ('服務生', 1), ('字體', 1), ('張伶利', 1), ('願向', 1), ('龐大', 1), ('管', 1), ('玉將', 1), ('內出血', 1), ('洪明凱', 1), ('賴英素', 1), ('李逸琪', 1), ('期予', 1), ('魯月枝', 1), ('人陳瑩軒', 1), ('徐風凱', 1), ('郭白', 1), ('江佳穎', 1), ('人方泳傑', 1), ('政豪', 1), ('公案', 1), ('開不實', 1), ('楊任華', 1), ('安定', 1), ('致蘇', 1), ('數家', 1), ('企研', 1), ('請林', 1), ('四台', 1), ('親子', 1), ('相片', 1), ('腎衰竭', 1), ('王韻筑', 1), ('鹽水鎮', 1), ('癲癇', 1), ('蔡郁美', 1), ('第二點', 1), ('經蔡平', 1), ('病重', 1), ('三叉神經', 1), ('乙宣', 1), ('斤', 1), ('賴翠珊', 1), ('王翊', 1), ('戴俊義', 1), ('謝偉謙', 1), ('立電', 1), ('要招', 1), ('服裝', 1), ('聖俸', 1), ('僱', 1), ('于', 1), ('建福', 1), ('給褓姆', 1), ('沈雅琳', 1), ('心意', 1), ('房貸', 1), ('豪共乘', 1), ('洗碗', 1), ('鴻敏', 1), ('信譽', 1), ('歐成翰', 1), ('殘值', 1), ('柴油', 1), ('蔡博任', 1), ('玖佰參', 1), ('未接', 1), ('寒暑假', 1), ('租其', 1), ('艾迪', 1), ('子黃良全', 1), ('照料', 1), ('區賢安街', 1), ('尚群', 1), ('上西', 1), ('只願', 1), ('林文翔', 1), ('骨密度', 1), ('無門', 1), ('請傅', 1), ('分店', 1), ('郭菊', 1), ('及北忠街', 1), ('電器行', 1), ('周佩宜', 1), ('雅卿', 1), ('吳榮美', 1), ('竊占聲', 1), ('山地', 1), ('葉麗雪', 1), ('強押', 1), ('造人方', 1), ('王劉子', 1), ('辰亞', 1), ('王勇添', 1), ('號全棟', 1), ('金融風暴', 1), ('東勢', 1), ('稅費', 1), ('本利', 1), ('人黃麗美', 1), ('風大', 1), ('肆仟玖佰', 1), ('雖經聲', 1), ('唐世河', 1), ('黃嬿融', 1), ('欺騙', 1), ('落葉', 1), ('國中大', 1), ('巷由南', 1), ('偵探', 1), ('現就聲', 1), ('簡調', 1), ('院生', 1), ('診斷', 1), ('大門口', 1), ('吳瑜慶', 1), ('宏願', 1), ('雙掛', 1), ('譽婷', 1), ('交通部', 1), ('推對', 1), ('人衣', 1), ('玫車損', 1), ('現由世祥', 1), ('劉燕菊', 1), ('鄉文賢', 1), ('任克剛', 1), ('電力設施', 1), ('王嘉穗', 1), ('歐承翰將', 1), ('預資', 1), ('人林茂森', 1), ('林佩瑾', 1), ('楊雅晴修', 1), ('莊擁翔', 1), ('膝部', 1), ('研究所', 1), ('惟渠', 1), ('提兌', 1), ('男方', 1), ('流氓', 1), ('借渠', 1), ('吳博雄願', 1), ('菜籃', 1), ('手冊', 1), ('穢語', 1), ('聶盈斐', 1), ('放任', 1), ('盒內', 1), ('劉善羚', 1), ('東冠', 1), ('教練', 1), ('伍佰柒', 1), ('違背', 1), ('掛失', 1), ('竣杰', 1), ('品潔修', 1), ('信坤', 1), ('蔡裕昌', 1), ('外套', 1), ('史', 1), ('前進', 1), ('吳啟淵', 1), ('豐民', 1), ('凎', 1), ('慈元', 1), ('王翊修', 1), ('謝雅婷', 1), ('楊盛元', 1), ('美學', 1), ('四林村', 1), ('康', 1), ('並因', 1), ('禹辰', 1), ('票二', 1), ('蘇梅珠', 1), ('升高', 1), ('一通', 1), ('拆裝', 1), ('向吳', 1), ('擇一', 1), ('靜止', 1), ('造人黃瓊慧', 1), ('台段', 1), ('琥之', 1), ('款壹佰參拾', 1), ('會金', 1), ('致施', 1), ('並確', 1), ('酒測', 1), ('造人梁', 1), ('破爛', 1), ('林依凡', 1), ('德均', 1), ('評估', 1), ('各戶', 1), ('吳柳', 1), ('郭茂豐', 1), ('拖下來', 1), ('自保', 1), ('閱覽', 1), ('斷震', 1), ('中受', 1), ('人林彩華', 1), ('安盈珊修', 1), ('尊', 1), ('日入', 1), ('載楨倫', 1), ('將味味', 1), ('另要', 1), ('母王', 1), ('吊籃', 1), ('泰元', 1), ('拍定', 1), ('減輕', 1), ('新竹市', 1), ('週歲', 1), ('蔡振祥', 1), ('棋展', 1), ('作出', 1), ('款後即', 1), ('佐久政', 1), ('鯤榮', 1), ('所含', 1), ('僅差', 1), ('胡俊哲', 1), ('趟', 1), ('新安', 1), ('之犬種', 1), ('阮榮', 1), ('興車損', 1), ('全捷', 1), ('芙茵均', 1), ('飯後', 1), ('人陳淑敏', 1), ('褲子', 1), ('中事', 1), ('裁製', 1), ('顓繹', 1), ('丁美月', 1), ('迎', 1), ('起因', 1), ('之莊', 1), ('謝基祿', 1), ('秋金', 1), ('林澤峰', 1), ('有要', 1), ('材質', 1), ('項海容', 1), ('購物網', 1), ('與陳士', 1), ('染上', 1), ('曾煥清', 1), ('姿惠', 1), ('將陳柏翰', 1), ('薏', 1), ('恩承', 1), ('致林姬', 1), ('竟然', 1), ('義齒', 1), ('景旭', 1), ('邱家良', 1), ('之水易銹', 1), ('王長', 1), ('國中旁', 1), ('體傷車', 1), ('愛', 1), ('大會', 1), ('引起糾紛', 1), ('重點', 1), ('供黃雅玲取', 1), ('手續費', 1), ('吳姓', 1), ('雜工', 1), ('李碧', 1), ('兩路', 1), ('異次元', 1), ('傳票', 1), ('李佳青', 1), ('拿刀', 1), ('三層', 1), ('唯', 1), ('宏有', 1), ('日交', 1), ('當向', 1), ('李靜惠', 1), ('根治', 1), ('林莫春', 1), ('人黃偉', 1), ('執勤', 1), ('男友', 1), ('遺贈', 1), ('留學', 1), ('撞見', 1), ('既成', 1), ('勒索', 1), ('欠租', 1), ('整建工程', 1), ('問堂', 1), ('存字', 1), ('汽水', 1), ('致洪世彥', 1), ('報社', 1), ('逸群', 1), ('付訖', 1), ('載客', 1), ('人系聲', 1), ('素霞', 1), ('物私權', 1), ('神', 1), ('造人陳宗賢', 1), ('耀德', 1), ('三人間', 1), ('盧志忠', 1), ('將有', 1), ('牙冠', 1), ('周昶佑', 1), ('以陳大育', 1), ('恥骨', 1), ('醫藥', 1), ('清楚', 1), ('詳修', 1), ('肩', 1), ('石玉直', 1), ('瑞在', 1), ('供對造', 1), ('煞車燈', 1), ('除去', 1), ('李天', 1), ('林秋霞', 1), ('單挑', 1), ('溝渠', 1), ('莊翌', 1), ('渠旁', 1), ('可依本', 1), ('劉驊瑞', 1), ('已受', 1), ('許源明', 1), ('方因', 1), ('分配利潤', 1), ('油門', 1), ('林世欽', 1), ('拼裝車', 1), ('再有', 1), ('號內', 1), ('人范宇浩', 1), ('彭育賢', 1), ('蔡承佑修', 1), ('制傑', 1), ('李雪子', 1), ('且聲', 1), ('倒退', 1), ('十子', 1), ('文化', 1), ('依聲', 1), ('郭炳杉', 1), ('符聲', 1), ('耕作', 1), ('唐俊榮', 1), ('大衣', 1), ('威寶', 1), ('逐持', 1), ('商工', 1), ('起訴書', 1), ('文昱及', 1), ('蘇玉', 1), ('國綸', 1), ('湖美街', 1), ('壹佰貳', 1), ('電動機', 1), ('三公', 1), ('秀香', 1), ('人收', 1), ('松裕', 1), ('白天', 1), ('圉', 1), ('林秉宏', 1), ('本文', 1), ('楓', 1), ('樂安', 1), ('其以', 1), ('丁明恆', 1), ('周冠弟', 1), ('危險', 1), ('李味珍', 1), ('六樓', 1), ('蔡永宸', 1), ('胡育倫', 1), ('新竹', 1), ('湲', 1), ('裕忠路', 1), ('進明', 1), ('劉梓卿', 1), ('曾葉', 1), ('王姵云', 1), ('瓜葛', 1), ('胡楊', 1), ('吳莊', 1), ('隆昌', 1), ('抽血', 1), ('巷之交', 1), ('展延', 1), ('金立牌', 1), ('郭金順', 1), ('鄉二仁路', 1), ('開戶', 1), ('痛', 1), ('林仕彬', 1), ('連章', 1), ('養子', 1), ('葉崇鴻', 1), ('文城', 1), ('致田雅', 1), ('燒壞', 1), ('金屬', 1), ('柯南', 1), ('社內', 1), ('清共乘', 1), ('馨慧', 1), ('吳瑞寶之', 1), ('捌佰壹拾', 1), ('週年', 1), ('開健', 1), ('晨', 1), ('儲存', 1), ('蔓體傷', 1), ('慧願', 1), ('巫居旺', 1), ('糖廠', 1), ('勘查', 1), ('九四', 1), ('惡言', 1), ('左岸', 1), ('李文瑞', 1), ('因年', 1), ('張宏權', 1), ('分參期', 1), ('處遭', 1), ('文化路', 1), ('瓦舍', 1), ('李昭蓉', 1), ('及及', 1), ('海三', 1), ('淵持', 1), ('其班', 1), ('音樂聲', 1), ('港溪溪', 1), ('如修', 1), ('孫臆文', 1), ('告其', 1), ('致撞', 1), ('瀠', 1), ('醫學科', 1), ('一品', 1), ('中車損', 1), ('造聲', 1), ('人委由', 1), ('人亡', 1), ('藍景澄自', 1), ('韋兆安', 1), ('楊源順', 1), ('巷鹽信', 1), ('金輪', 1), ('德洋', 1), ('勝街', 1), ('退款', 1), ('日由聲', 1), ('鄰接', 1), ('症', 1), ('資助', 1), ('三餐', 1), ('育民', 1), ('豐車損', 1), ('營業員', 1), ('永添', 1), ('成本費用', 1), ('司執速', 1), ('造人定', 1), ('人黃馨慧', 1), ('用腳', 1), ('資料卡', 1), ('行政院', 1), ('梁耀文', 1), ('樓為', 1), ('松修', 1), ('錐及', 1), ('碗', 1), ('咨翰', 1), ('邱伯勝', 1), ('兩指', 1), ('致張', 1), ('證物', 1), ('吳奇', 1), ('郭林', 1), ('登錄', 1), ('張秀婷', 1), ('案二', 1), ('水晶體', 1), ('萬約', 1), ('扯破', 1), ('出生日期', 1), ('區知', 1), ('文鏹', 1), ('皇冠', 1), ('沾', 1), ('日先', 1), ('崩塌', 1), ('互動', 1), ('各樓層', 1), ('一車', 1), ('光照', 1), ('人林伯彰', 1), ('吳昌恭', 1), ('孫昌詠', 1), ('證人', 1), ('屋瓦', 1), ('林素', 1), ('張津雪新', 1), ('北和緯路', 1), ('新約', 1), ('但常', 1), ('磚屋', 1), ('堿', 1), ('鄭惠娟', 1), ('屈辱', 1), ('鄰宅', 1), ('約翰', 1), ('滿地', 1), ('性別', 1), ('尊重', 1), ('謝炎松', 1), ('飄入', 1), ('麗燕', 1), ('及壁癌', 1), ('三尊', 1), ('及黃俊賢', 1), ('人共見', 1), ('其侑細', 1), ('形式', 1), ('散熱', 1), ('借調', 1), ('由本會', 1), ('方隆政', 1), ('鄭夙惠', 1), ('楊靖彥', 1), ('陳老闆', 1), ('區往', 1), ('尚未付清', 1), ('送至', 1), ('造人陳宗湖', 1), ('屋之事', 1), ('王月英', 1), ('提提', 1), ('與鐘', 1), ('與趙俊彥', 1), ('旋將', 1), ('代價', 1), ('林伯松', 1), ('總局', 1), ('人林素', 1), ('巷永祥', 1), ('模壹個', 1), ('蔡耀川', 1), ('資本額', 1), ('左上', 1), ('南院', 1), ('楊瓊蓉', 1), ('同案', 1), ('點心', 1), ('損鄰', 1), ('紅山', 1), ('鄭弘儀', 1), ('讓售', 1), ('輻射', 1), ('畇', 1), ('健銘', 1), ('走出', 1), ('亙願', 1), ('找補', 1), ('和平路', 1), ('即利信', 1), ('進葉燦盛', 1), ('李曉玟', 1), ('張吉宏', 1), ('王姿燕', 1), ('金聯', 1), ('過境', 1), ('無影', 1), ('四佰元整', 1), ('區華路', 1), ('期即', 1), ('並向聲', 1), ('至於', 1), ('投入', 1), ('洪靖雅', 1), ('邵鑑', 1), ('冒', 1), ('帶往', 1), ('理財', 1), ('四林路', 1), ('增長', 1), ('林芷筠', 1), ('品牌', 1), ('有裂損', 1), ('顏世利', 1), ('鄭孟儒', 1), ('尖物', 1), ('江該', 1), ('應雪琴', 1), ('哀亞', 1), ('訓受', 1), ('瑞珠', 1), ('西邊', 1), ('故轉介', 1), ('而將', 1), ('何柏逸車損', 1), ('立榮', 1), ('二百元', 1), ('勦', 1), ('游泳', 1), ('致電', 1), ('歸由林', 1), ('追償', 1), ('查明', 1), ('印文', 1), ('歐金魯', 1), ('蓮體傷', 1), ('錦瓶', 1), ('收支', 1), ('與佑民', 1), ('舉辦活動', 1), ('祭壇', 1), ('存檔', 1), ('左足', 1), ('整未給', 1), ('楊國楨', 1), ('介紹費', 1), ('辦竣', 1), ('將曾', 1), ('向陳秋雄', 1), ('弄底', 1), ('極大', 1), ('綜', 1), ('投宿在', 1), ('想', 1), ('枷蓉願', 1), ('年息', 1), ('阻礙', 1), ('謝瑩儒', 1), ('呂道明', 1), ('成本', 1), ('理髮', 1), ('徐嬌春', 1), ('孫水麟', 1), ('錄用', 1), ('看顧', 1), ('民生東路', 1), ('巖', 1), ('人性', 1), ('黑暗', 1), ('許春娥', 1), ('陸仟玖佰柒拾', 1), ('河底', 1), ('王沅雄', 1), ('吳佩芸', 1), ('處藏放時', 1), ('名叫', 1), ('拍攝', 1), ('吳塾', 1), ('窗玻璃', 1), ('法器', 1), ('薏軒', 1), ('並搬', 1), ('人跌', 1), ('扳手', 1), ('華美', 1), ('人林吟姿', 1), ('江秀綿修', 1), ('富棟', 1), ('驚人', 1), ('順國認', 1), ('蔡采蓉', 1), ('永平', 1), ('快', 1), ('故任', 1), ('成人', 1), ('小客', 1), ('人陳佩', 1), ('發包', 1), ('公益', 1), ('十分', 1), ('林世菁', 1), ('黃景', 1), ('謝吳', 1), ('連繫', 1), ('桐', 1), ('丁品', 1), ('失智症', 1), ('貞雅', 1), ('楊朝', 1), ('土字', 1), ('勞雇', 1), ('珽', 1), ('娶', 1), ('不見蹤影', 1), ('人林和宏', 1), ('整店', 1), ('兼任', 1), ('以息', 1), ('水泥漿', 1), ('張君毓', 1), ('爐店', 1), ('處及', 1), ('胡潛', 1), ('監察', 1), ('林榮興', 1), ('判決書', 1), ('書信', 1), ('鈕扣', 1), ('噴濺', 1), ('鄭繡', 1), ('王威翔', 1), ('金連', 1), ('營養', 1), ('張宸', 1), ('此車', 1), ('花台', 1), ('之貓', 1), ('郭秀娥', 1), ('經人', 1), ('林柏譯', 1), ('幹麻請', 1), ('造裝', 1), ('及仲岐', 1), ('楊明華', 1), ('育北', 1), ('材料費', 1), ('要將', 1), ('吳聰賢', 1), ('識之永旭', 1), ('李佳倫修', 1), ('號大光', 1), ('猛然', 1), ('受害者', 1), ('經營者', 1), ('車載', 1), ('週邊', 1), ('徐惠瑛', 1), ('信徒', 1), ('王靖淑修', 1), ('三舍', 1), ('李承翰', 1), ('以手將', 1), ('欣受', 1), ('戶鄰房', 1), ('市南區', 1), ('李雅芬', 1), ('李炯銘', 1), ('舒服', 1), ('有緣', 1), ('稱其', 1), ('申訴', 1), ('地有', 1), ('晃動', 1), ('街機', 1), ('亦須', 1), ('凱斯', 1), ('儀表板', 1), ('各大', 1), ('未裝', 1), ('載往', 1), ('整包', 1), ('管理人員', 1), ('訓誡', 1), ('盡', 1), ('雅體傷', 1), ('楊輝旭修', 1), ('林茂森', 1), ('安雄', 1), ('便宜', 1), ('張君毓願', 1), ('碼', 1), ('國際貿易', 1), ('秦', 1), ('偵騎', 1), ('吳柏辰', 1), ('搖管機', 1), ('之千越', 1), ('聯電', 1), ('嘉執', 1), ('堤防道', 1), ('趕', 1), ('光賢里', 1), ('站牌', 1), ('林姿伶', 1), ('外人', 1), ('拖吊', 1), ('人黃慧純', 1), ('開山', 1), ('分再', 1), ('延遲', 1), ('歐潘秀金', 1), ('尿液', 1), ('盧怡安體傷', 1), ('以表', 1), ('追趕', 1), ('發黑', 1), ('義興', 1), ('泰倫不向', 1), ('百分之十三', 1), ('蘇明陽修', 1), ('鎖匠', 1), ('繫上', 1), ('山南路', 1), ('許馨', 1), ('賴政文', 1), ('柯素', 1), ('人民幣', 1), ('人黃雅楨', 1), ('吳星輝', 1), ('點燃', 1), ('房價', 1), ('普羅米', 1), ('王百山', 1), ('人羅乾恩', 1), ('日共', 1), ('華哥', 1), ('盤內', 1), ('奶粉', 1), ('治安', 1), ('生命', 1), ('因閃', 1), ('添購', 1), ('接收', 1), ('楊雅秀', 1), ('李雅芳', 1), ('向駛', 1), ('三千', 1), ('涂淑芬', 1), ('蘇庭穎', 1), ('惟黃順', 1), ('排除', 1), ('堆土', 1), ('蘇長', 1), ('罐', 1), ('元外', 1), ('暑轉介', 1), ('招蓮車損', 1), ('適站', 1), ('林志倉', 1), ('所餘新', 1), ('立下', 1), ('吳品慧', 1), ('諺', 1), ('總經理', 1), ('承買', 1), ('王尚仁及', 1), ('入帳', 1), ('車皆要', 1), ('張秀澤', 1), ('劉桂英聲', 1), ('此聲', 1), ('因住', 1), ('劉明婷', 1), ('席等物', 1), ('曾雅惠', 1), ('蔡麗雪', 1)] \n",
      "\n",
      " [('r', 12953), ('n', 12953), ('OOO', 8098), ('XXX', 7014), ('10', 2336), ('1', 1876), ('2', 1742), ('5', 1717), ('3', 1656), ('4', 1544), ('12', 1540), ('9', 1522), ('7', 1520), ('8', 1505), ('103', 1460), ('11', 1456), ('105', 1438), ('106', 1403), ('104', 1347), ('6', 1344), ('101', 1157), ('100', 1156), ('30', 1104), ('15', 1051), ('20', 1027), ('99', 988), ('17', 702), ('18', 673), ('98', 637), ('16', 625), ('102', 615), ('14', 591), ('13', 581), ('25', 581), ('19', 539), ('21', 509), ('22', 509), ('50', 443), ('23', 392), ('24', 359), ('40', 347), ('28', 347), ('27', 344), ('nan', 335), ('45', 284), ('26', 281), ('29', 254), ('31', 245), ('35', 205), ('55', 194)] \n",
      "\n",
      " [('，', 39144), ('\\\\', 38859), ('、', 25618), ('。', 15446), ('（', 13836), ('）', 13501), ('：', 9967), (' ', 8348), ('－', 6109), ('〈', 3575), ('〉', 3417), ('—', 1723), (')', 1238), ('-', 1208), ('(', 749), ('；', 434), (':', 180), ('」', 172), ('「', 168), ('…', 101)]\n"
     ]
    }
   ],
   "source": [
    "chinese_list, sign_list, dig_english_list = [], [], []\n",
    "for word, count in word_dict:\n",
    "    for char in word:\n",
    "        if char >= u'\\u4E00' and char <= u\"\\u9FA5\":\n",
    "            chinese_list.append((word, count))\n",
    "        elif (char >= u'\\u0041' and char <= u'\\u005A') or (char >= u'\\u0061' and char <= u'\\u007A') or (char >= u'\\u0030' and char <= u'\\u0039'):\n",
    "            dig_english_list.append((word, count))\n",
    "            break\n",
    "        else:\n",
    "            sign_list.append((word, count))\n",
    "            break\n",
    "sorted_dig_english_list = sorted(set(dig_english_list), key=lambda x: x[1], reverse=True)\n",
    "sorted_sign_list = sorted(set(sign_list), key=lambda x: x[1], reverse=True)\n",
    "sorted_chinese_list = sorted(set(chinese_list), key=lambda x: x[1], reverse=True)\n",
    "print(\"chinese_word: \", len(sorted_chinese_list))\n",
    "print(\"dig_english_word: \", len(sorted_dig_english_list))\n",
    "print(\"sign_count: \", len(sorted_sign_list))\n",
    "print(sorted_chinese_list[:10000], '\\n\\n', sorted_dig_english_list[:50], '\\n\\n', sorted_sign_list[:20])"
   ]
  },
  {
   "cell_type": "code",
   "execution_count": 29,
   "metadata": {
    "collapsed": false
   },
   "outputs": [
    {
     "name": "stdout",
     "output_type": "stream",
     "text": [
      "chinese_word:  17142\n",
      "dig_english_word:  0\n",
      "sign_count:  54\n",
      "[('人', 14891), ('聲請', 8549), ('給付', 7556), ('對造', 7234), ('與', 6771), ('同意', 6220), ('結果', 5878), ('如下', 5743), ('不', 5617), ('年月日', 5336), ('民國', 5305), ('解', 5175), ('請調', 5173), ('騎乘', 5157), ('調解', 5025), ('故聲', 5009), ('機車', 4938), ('在', 4655), ('年月日時', 4443), ('車損', 4441), ('臺南市', 4432), ('新台幣', 4355), ('發生', 4340), ('含', 4144), ('車禍', 4118), ('兩造', 4052), ('北區', 3946), ('本', 3868), ('其餘', 3822), ('號', 3736), ('汽車', 3730), ('強制', 3696), ('責任保險', 3617), ('事件', 3609), ('一', 3602), ('二', 3571), ('共計', 3556), ('拋棄', 3539), ('民事', 3538), ('請求權', 3536), ('萬元', 3446), ('費用', 3401), ('造人', 3344), ('駕駛', 3338), ('對', 3250), ('請', 3231), ('他', 3086), ('及其', 3074), ('必要', 3058), ('一切', 3047), ('所有', 2988), ('經', 2840), ('三', 2813), ('慰問金', 2792), ('醫療費', 2764), ('重型', 2747), ('分許', 2662), ('追究', 2535), ('刑事責任', 2530), ('之', 2524), ('付清', 2457), ('體傷', 2337), ('整', 2184), ('車費', 2053), ('雙方', 2040), ('自小', 1942), ('於', 1865), ('路', 1858), ('另', 1822), ('客車', 1764), ('當場', 1760), ('理賠金', 1756), ('致聲', 1741), ('前', 1737), ('立據', 1716), ('方式', 1663), ('分', 1493), ('普通', 1380), ('本人', 1233), ('貳', 1227), ('各項', 1180), ('部分', 1163), ('均', 1152), ('臺南', 1116), ('臺灣', 1086), ('人修', 1077), ('地方法院', 1070), ('自用', 1065), ('小客車', 1059), ('傷', 1055), ('人體', 1047), ('台南市', 1020), ('檢察署', 976), ('自行', 944), ('約', 942), ('定於', 934), ('告訴', 856), ('無體傷', 829), ('自行處理', 828), ('受傷', 801), ('人願', 800), ('路段', 788), ('及', 785), ('致', 772), ('以', 764), ('修', 747), ('請求', 747), ('賠償', 736), ('陳', 732), ('現金', 711), ('如', 688), ('捌', 687), ('金額', 678), ('不再', 677), ('至', 671), ('向', 657), ('元整', 654), ('房屋', 635), ('壹萬', 626), ('搭載', 592), ('號前', 585), ('壹', 573), ('月', 566), ('申領', 561), ('上', 559), ('巷', 546), ('有', 535), ('開', 535), ('由', 534), ('付予', 532), ('給', 531), ('公園路', 525), ('仟', 521), ('壹拾', 517), ('年', 517), ('分期', 515), ('聲', 513), ('四', 485), ('後', 483), ('左', 480), ('元', 476), ('並', 474), ('未', 471), ('其他', 471), ('其', 470), ('轉介', 461), ('委員會', 452), ('小', 441), ('互相', 438), ('貳仟', 435), ('黃', 432), ('匯款', 431), ('當事人', 430), ('因', 429), ('帳號', 427), ('西門', 425), ('全部', 417), ('申請', 396), ('街巷', 396), ('刑事', 393), ('無車損', 388), ('上開', 387), ('第號', 385), ('為', 385), ('公園', 383), ('到期', 378), ('台幣', 374), ('年度', 372), ('權', 371), ('撤回', 369), ('拾', 367), ('參', 366), ('自', 360), ('起', 359), ('北路', 354), ('案', 350), ('每月', 340), ('就', 334), ('付款', 333), ('開元', 333), ('車輛', 328), ('和解', 326), ('長榮', 325), ('負擔', 322), ('土地', 320), ('賢路', 317), ('視為', 316), ('和', 316), ('戶名', 308), ('南路', 308), ('指稱', 305), ('損失', 303), ('中', 297), ('仟元整', 296), ('表示', 295), ('海安', 293), ('有限公司', 292), ('貨車', 291), ('許', 289), ('已', 288), ('陸仟元整', 284), ('前將', 283), ('伍仟元整', 280), ('案經', 279), ('餘款', 274), ('中華', 274), ('萬', 273), ('成功', 272), ('分行', 271), ('文', 271), ('以上', 269), ('區', 266), ('處', 265), ('件', 263), ('二段', 260), ('玖', 258), ('立帳', 257), ('巷號', 256), ('止', 255), ('輕型機車', 249), ('人傷', 249), ('郵局', 249), ('日', 246), ('街', 244), ('明細', 241), ('路號', 241), ('台南', 239), ('銀行', 238), ('偵字', 236), ('支付', 236), ('北門', 235), ('付現金', 234), ('返還', 232), ('求償', 231), ('雙方同意', 230), ('應於', 230), ('內', 227), ('三段', 226), ('互不', 224), ('文成', 224), ('等', 223), ('約定', 220), ('不在', 214), ('帳戶', 213), ('登記', 213), ('新', 210), ('建物', 209), ('借款', 209), ('歸由聲', 206), ('所', 205), ('歸', 204), ('車號', 204), ('一期', 203), ('匯入', 203), ('壹仟', 203), ('係', 202), ('時', 201), ('營業', 200), ('予聲', 198), ('東路', 198), ('北安路', 193), ('萬伍', 191), ('一段', 190), ('無條件', 189), ('伍拾', 189), ('新臺幣', 187), ('租金', 187), ('即', 187), ('傷害', 186), ('東豐', 185), ('永康', 185), ('路巷', 185), ('未付', 182), ('腳踏車', 180), ('地號', 180), ('伍仟元', 180), ('中西區', 180), ('段', 178), ('公司', 175), ('巷弄', 175), ('行經', 175), ('局號', 173), ('機構', 172), ('款項', 172), ('大興', 172), ('期間', 172), ('各', 169), ('壹期', 168), ('拾伍', 167), ('工程', 167), ('糾紛', 166), ('租賃', 165), ('四段', 162), ('參拾', 162), ('上述', 160), ('列', 158), ('該', 157), ('願', 152), ('清償', 152), ('連帶', 151), ('樓', 151), ('參仟元整', 150), ('造成', 150), ('修車', 148), ('積欠', 148), ('損害賠償', 148), ('履行', 148), ('安南', 147), ('和緯路', 146), ('伍佰元整', 145), ('附近', 144), ('後方', 143), ('應', 143), ('交付', 139), ('參萬', 138), ('指定', 136), ('間', 135), ('參仟', 133), ('現', 133), ('漏水', 127), ('林森', 126), ('支票', 126), ('肆', 126), ('臨安', 125), ('股份', 125), ('買賣', 125), ('處理', 125), ('購買', 124), ('柒', 124), ('客貨車', 124), ('其中', 123), ('新台幣伍', 122), ('而', 122), ('相互', 121), ('再', 121), ('迄今', 121), ('行人', 121), ('偵辦', 120), ('大', 119), ('二人', 119), ('本件經', 119), ('騎', 117), ('承租', 115), ('死亡', 115), ('使用', 113), ('完畢', 113), ('提出', 113), ('又', 112), ('下同', 112), ('尚未', 112), ('緯路', 111), ('撞', 109), ('致對', 109), ('金融機構', 109), ('予對', 108), ('街號', 107), ('東區', 107), ('每期', 106), ('共', 106), ('本票', 106), ('不向', 105), ('整予', 104), ('號樓', 103), ('損', 103), ('款', 102), ('契約', 101), ('乘車', 100), ('前給', 100), ('付新', 100), ('附件', 100), ('伍萬', 99), ('北園', 99), ('第人', 98), ('押金', 98), ('提告', 97), ('華北', 97), ('由聲', 97), ('本案', 97), ('北街', 96), ('拾元', 96), ('兌現', 96), ('面額', 96), ('債務', 95), ('亦', 95), ('所有權', 95), ('時分', 94), ('無法', 94), ('現場', 93), ('票號', 92), ('移轉', 92), ('分別', 90), ('一路', 89), ('惟', 89), ('歿', 88), ('搬遷', 88), ('成立', 87), ('將上', 87), ('肆仟元整', 86), ('五段', 85), ('新台幣陸', 85), ('核交字', 85), ('債權', 85), ('致對造', 85), ('物品', 84), ('對方', 83), ('將', 83), ('視同', 83), ('佰', 82), ('緯', 82), ('辦理', 81), ('投資', 81), ('的', 81), ('損害', 80), ('勝利路', 80), ('整給', 80), ('俟', 80), ('人人', 80), ('參萬伍', 79), ('到', 79), ('收取', 78), ('付款日', 78), ('車車', 78), ('人林', 77), ('皆', 76), ('租賃契約', 76), ('遭', 76), ('還款', 76), ('終止', 76), ('受損', 76), ('範圍', 75), ('並於', 75), ('楊', 75), ('育德路', 75), ('向聲', 75), ('月租金', 75), ('日為', 75), ('毆打', 74), ('五', 74), ('屆期', 73), ('本會', 73), ('欲', 73), ('北', 72), ('不動產', 72), ('行駛', 71), ('渠', 71), ('陸佰元整', 71), ('路處', 71), ('且', 70), ('挫傷', 70), ('偵查', 69), ('已付', 69), ('車', 69), ('受', 69), ('陸仟元', 69), ('北成路', 69), ('二路', 68), ('忠義', 68), ('權利', 67), ('段號', 67), ('各自', 67), ('喪葬費', 67), ('拾陸', 66), ('取得', 66), ('民德', 66), ('碰撞', 66), ('為止', 66), ('肆拾', 66), ('參仟元', 66), ('金', 66), ('大武', 65), ('毀損', 65), ('發現', 65), ('主張', 65), ('無', 65), ('下', 64), ('肆仟', 64), ('人均', 64), ('騰空', 64), ('爭議', 64), ('肆萬伍', 64), ('位於', 64), ('發票', 63), ('安平', 63), ('廢棄物', 63), ('故', 63), ('南區', 62), ('壹佰', 62), ('要求', 62), ('或', 62), ('卻', 61), ('問題', 61), ('三路', 61), ('損壞', 61), ('先至', 61), ('肆萬', 60), ('對面', 60), ('年間', 60), ('系爭', 59), ('工作', 59), ('門牌', 59), ('被', 59), ('涉嫌', 59), ('醫療', 59), ('陸仟', 59), ('用', 59), ('擦', 58), ('修復', 58), ('要', 58), ('過失傷害', 58), ('租期', 57), ('金華', 57), ('提供', 57), ('車道', 57), ('大樓', 57), ('住處', 57), ('公里', 57), ('委託', 57), ('張', 56), ('居住', 56), ('租約', 56), ('武聖', 56), ('地', 56), ('不慎', 56), ('號重', 56), ('商業銀行', 56), ('導致', 56), ('經聲', 55), ('沿', 55), ('致生', 55), ('台', 54), ('任何', 54), ('回', 54), ('擔保', 54), ('弄', 54), ('住家', 53), ('之修', 53), ('同', 53), ('但', 53), ('號之', 53), ('契約書', 53), ('嗣', 53), ('伍', 53), ('遺留', 52), ('曾', 52), ('修繕', 52), ('日期', 52), ('南街', 51), ('之號', 51), ('經營', 51), ('詎', 51), ('嗣經', 51), ('第', 51), ('醫院', 50), ('實踐', 50), ('里', 50), ('依', 49), ('會', 49), ('長', 49), ('柒仟元整', 49), ('坐落', 48), ('午時', 48), ('始', 48), ('負責', 48), ('當日', 48), ('惟對', 48), ('利息', 48), ('陸續', 47), ('牆壁', 47), ('名義', 47), ('除', 47), ('骨折', 47), ('價金', 47), ('相關', 47), ('險', 47), ('夫妻', 47), ('繳納', 47), ('至本會', 47), ('過戶', 47), ('需', 47), ('一街', 47), ('內容', 46), ('未經', 46), ('細故', 46), ('以下', 46), ('與育德', 46), ('道路', 46), ('徒手', 46), ('分配', 45), ('晚上', 45), ('中華路', 45), ('伍仟', 45), ('育德', 45), ('共同', 45), ('簽訂', 45), ('字', 45), ('前鋒', 45), ('簽立', 45), ('你', 45), ('予', 45), ('伍佰元', 44), ('角', 44), ('建號', 44), ('關係', 44), ('爭執', 44), ('仍', 44), ('生活費', 43), ('完成', 43), ('名下', 43), ('林', 43), ('停車場', 43), ('捌佰元整', 43), ('事後', 43), ('巷處', 43), ('頭部', 42), ('南園', 42), ('區長', 42), ('原因', 42), ('貳佰元整', 42), ('已經', 42), ('李', 42), ('遂', 41), ('西華', 41), ('作為', 41), ('發生爭執', 41), ('詳如', 41), ('空白', 41), ('開南', 41), ('王', 41), ('原', 41), ('照顧', 40), ('父親', 40), ('橋', 40), ('中正', 40), ('讓', 40), ('復', 40), ('手機', 40), ('任由', 39), ('從', 39), ('陸萬', 39), ('柒仟', 39), ('肆佰', 39), ('承攬', 39), ('開立', 39), ('月份', 39), ('因而', 39), ('撞擊', 39), ('因此', 39), ('文賢', 39), ('趙', 39), ('停車', 39), ('事宜', 39), ('蔡', 39), ('肆仟元', 39), ('北成', 39), ('同時', 38), ('立', 38), ('事故', 38), ('另案', 38), ('北安', 38), ('身體', 38), ('弄號', 38), ('下稱', 38), ('所載', 38), ('嫌', 38), ('避不見面', 38), ('進行', 38), ('路邊', 37), ('是', 37), ('修理費', 37), ('合意', 37), ('貸款', 37), ('繼承人', 37), ('賠付', 37), ('責任', 37), ('慰撫', 37), ('交通', 37), ('本會聲', 37), ('國際', 36), ('陸拾', 36), ('本件', 36), ('下午', 36), ('交', 36), ('大客車', 36), ('肇事', 36), ('鍾', 36), ('西側', 36), ('管理', 36), ('施工', 36), ('拆除', 36), ('雲', 35), ('尚有', 35), ('重', 35), ('外', 35), ('第三', 35), ('詐欺', 35), ('自強', 35), ('合約', 35), ('信託', 34), ('應付', 34), ('停放', 34), ('修理', 34), ('自年', 34), ('上午', 34), ('以新', 34), ('瑜', 34), ('到場', 34), ('住宅', 34), ('公尺', 34), ('貨款', 34), ('高雄市', 34), ('稱', 34), ('會款', 34), ('本金', 33), ('女兒', 33), ('臺', 33), ('路巷號', 33), ('拾肆', 33), ('電費', 33), ('中國', 33), ('仲介', 33), ('璇', 33), ('臺南縣', 33), ('南', 33), ('車牌號碼', 33), ('面積', 33), ('伍元', 33), ('高雄', 32), ('塗銷', 32), ('旁', 32), ('電動', 32), ('依約', 32), ('補償', 32), ('仁德', 32), ('行車', 32), ('之列外', 32), ('該車', 32), ('部份', 32), ('第一', 32), ('到期日', 31), ('將其', 31), ('賢', 31), ('竟', 31), ('施作', 31), ('永康市', 31), ('妨害', 31), ('侵占', 31), ('自行車', 31), ('陸', 31), ('清', 31), ('解除', 31), ('負責人', 31), ('友人', 31), ('寬', 31), ('停', 31), ('街處', 31), ('前以', 31), ('誠', 31), ('因對', 31), ('天花板', 31), ('前置', 31), ('搬離', 31), ('政府', 31), ('本次', 31), ('人將', 31), ('至聲', 30), ('道歉', 30), ('前往', 30), ('擦傷', 30), ('國道', 30), ('業已', 30), ('並簽立', 30), ('工程款', 30), ('離婚', 30), ('協議書', 30), ('名譽', 30), ('交通事故', 30), ('平方公尺', 30), ('北側', 30), ('對於', 30), ('鑑定', 30), ('他人', 30), ('法院', 30), ('資料', 29), ('已於', 29), ('健康', 29), ('罪嫌', 29), ('復原', 29), ('合作金庫', 29), ('前述', 29), ('償還', 29), ('情形', 29), ('西路', 29), ('計程車', 29), ('並將', 29), ('安和路', 29), ('精神', 29), ('告知', 29), ('台灣', 29), ('文件', 29), ('南向', 28), ('中山路', 28), ('自己', 28), ('願意', 28), ('出租', 28), ('可', 28), ('書', 28), ('出售', 28), ('道', 28), ('參拾伍', 28), ('三個', 28), ('退還', 28), ('甲方', 28), ('大港', 27), ('倒地', 27), ('編號', 27), ('併', 27), ('號處', 27), ('因認', 27), ('瑄', 27), ('辱罵', 27), ('車門', 27), ('國泰', 27), ('水電', 27), ('人前', 27), ('以後', 27), ('致車損', 27), ('育成', 27), ('電話', 26), ('體諒', 26), ('先生', 26), ('怡', 26), ('拍賣', 26), ('參佰', 26), ('擔任', 26), ('案件', 26), ('互毆', 26), ('注意', 26), ('客運', 26), ('地板', 26), ('網站', 26), ('國華', 26), ('之後', 26), ('恐嚇', 26), ('馬', 26), ('不得', 26), ('共有', 26), ('成', 26), ('收到', 26), ('屋頂', 26), ('基於', 26), ('企業', 26), ('日前', 26), ('持', 26), ('每人', 25), ('住', 25), ('昇', 25), ('錯誤', 25), ('妤', 25), ('若', 25), ('參加', 25), ('與富', 25), ('美', 25), ('北忠街', 25), ('南側', 25), ('飼養', 25), ('左側', 25), ('歸還', 25), ('繼承', 25), ('北段', 25), ('左右', 25), ('提起', 25), ('五街', 25), ('中正路', 25), ('情事', 25), ('育賢街', 25), ('乙', 25), ('房租', 24), ('打', 24), ('住戶', 24), ('陷於', 24), ('商品', 24), ('認為', 24), ('合夥', 24), ('彰化', 24), ('民族', 24), ('晚間', 24), ('銷售', 24), ('丙', 24), ('鄰居', 24), ('肆佰元整', 24), ('號車', 24), ('人王', 24), ('裝潢', 24), ('兩', 24), ('確認', 24), ('折抵', 24), ('延平', 24), ('次', 24), ('狀', 23), ('京城', 23), ('共新', 23), ('租屋', 23), ('生活', 23), ('頂樓', 23), ('等語', 23), ('文賢二街', 23), ('存摺', 23), ('遭對', 23), ('影響', 23), ('殘廢', 23), ('每', 23), ('尾款', 23), ('個', 23), ('店', 23), ('異議', 23), ('正覺', 23), ('管理費', 23), ('維修', 23), ('前方', 23), ('簽約', 23), ('人並', 23), ('並約', 22), ('日後', 22), ('並未', 22), ('傷車損', 22), ('人時', 22), ('興建', 22), ('設定', 22), ('條件', 22), ('鄭', 22), ('目前', 22), ('臉部', 22), ('美惠', 22), ('男女朋友', 22), ('屋水', 22), ('家庭', 22), ('先', 22), ('光', 22), ('社區', 22), ('樺', 22), ('多次', 22), ('增值稅', 21), ('綺', 21), ('扣抵', 21), ('姓名', 21), ('安明路', 21), ('進入', 21), ('時許', 21), ('無擔保', 21), ('人車', 21), ('因聲', 21), ('與其', 21), ('母親', 21), ('我', 21), ('原諒', 21), ('三方', 21), ('侵害', 21), ('右', 21), ('訂金', 21), ('府', 21), ('絕無', 21), ('合計', 21), ('柒佰', 21), ('黃柏', 21), ('人張', 21), ('調解機制', 21), ('參佰元整', 21), ('一張', 21), ('不滿', 21), ('新市區', 20), ('理賠', 20), ('戴', 20), ('西', 20), ('電腦', 20), ('配偶', 20), ('私立', 20), ('員工', 20), ('地上', 20), ('犯意', 20), ('頸部', 20), ('檢察官', 20), ('現因', 20), ('拉扯', 20), ('路旁', 20), ('派出所', 20), ('不詳', 20), ('人施', 20), ('陸佰元', 20), ('無人', 20), ('乙張', 20), ('客戶', 20), ('電梯', 20), ('存款', 20), ('南縣', 20), ('女', 20), ('萬零', 20), ('找', 20), ('右手', 20), ('營造', 20), ('先行', 20), ('多處', 20), ('物', 20), ('電動車', 20), ('之上', 20), ('加油站', 20), ('某日', 20), ('柒萬伍', 20), ('出入', 20), ('浴室', 20), ('債務糾紛', 20), ('等等', 19), ('執行', 19), ('歐陽', 19), ('受騙', 19), ('該屋', 19), ('協商', 19), ('扶養費', 19), ('保管', 19), ('行', 19), ('分期付款', 19), ('離去', 19), ('協議', 19), ('費', 19), ('市北區', 19), ('民權路', 19), ('塑膠', 19), ('外傷', 19), ('屋主', 19), ('設備', 19), ('破壞', 19), ('零', 19), ('屋內', 19), ('珊', 19), ('凌晨時分', 19), ('成傷', 19), ('竊取', 19), ('華南', 19), ('高', 19), ('康樂', 19), ('揭', 19), ('委任', 19), ('侵入', 19), ('偽造', 19), ('曨', 19), ('歸仁', 19), ('離開', 19), ('息事寧人', 19), ('誤會', 19), ('淑', 19), ('不當', 19), ('鑰匙', 19), ('地址', 19), ('款壹拾', 19), ('都', 19), ('建設', 18), ('刊登', 18), ('拿', 18), ('抵押權', 18), ('交還', 18), ('嚴重', 18), ('冷氣', 18), ('協調', 18), ('陸萬伍', 18), ('致其', 18), ('透過', 18), ('文書', 18), ('車牌', 18), ('大學', 18), ('出面', 18), ('玉山', 18), ('同年', 18), ('號旁', 18), ('另行', 18), ('佯稱', 18), ('擅自', 18), ('千元', 18), ('去', 18), ('一號', 18), ('開設', 18), ('搬', 18), ('薪資', 18), ('翁', 18), ('傷聲', 18), ('嗣後', 18), ('聯絡', 18), ('走時', 18), ('上址', 18), ('王啟', 18), ('印章', 18), ('信用卡', 18), ('人謝', 17), ('詳', 17), ('甲', 17), ('崇德', 17), ('鐵皮', 17), ('當時', 17), ('屆時', 17), ('入', 17), ('直行', 17), ('尚', 17), ('安', 17), ('拒', 17), ('原名', 17), ('坐落於', 17), ('瑕疵', 17), ('柒萬', 17), ('已將', 17), ('壹佰元整', 17), ('按', 17), ('了', 17), ('富台', 17), ('丁方', 17), ('東興', 17), ('則', 17), ('實業', 17), ('右側', 17), ('被告', 17), ('金錢', 17), ('三人', 17), ('給予', 17), ('涉有', 17), ('最後', 17), ('送', 17), ('蘇', 17), ('酒後', 17), ('命令', 17), ('中山南路', 17), ('一樓', 17), ('得', 17), ('廣告', 17), ('當', 17), ('出資', 17), ('排水管', 17), ('國', 17), ('核退', 17), ('前路', 17), ('正本', 17), ('珮', 17), ('明知', 16), ('方向', 16), ('黃玉', 16), ('駕車', 16), ('坪', 16), ('始知', 16), ('罪', 16), ('日付', 16), ('訴訟', 16), ('事項', 16), ('繳清', 16), ('證明', 16), ('規費', 16), ('與育', 16), ('郭', 16), ('任意', 16), ('還清', 16), ('統一', 16), ('地下室', 16), ('萱', 16), ('鄉', 16), ('利用', 16), ('東側', 16), ('男子', 16), ('使', 16), ('變更', 16), ('餐廳', 16), ('世華', 16), ('押租', 16), ('與育德路', 16), ('人員', 16), ('嘉', 16), ('簽發', 16), ('美金', 16), ('橋下', 16), ('彼此', 16), ('各付', 16), ('連帶保證', 16), ('同向', 16), ('剩餘', 16), ('期', 16), ('逃逸', 16), ('文元', 16), ('二街', 16), ('遺產', 16), ('涉犯', 16), ('並經', 16), ('中心', 16), ('小北', 16), ('肆元整', 16), ('賠償金', 16), ('交叉', 15), ('舖', 15), ('柒仟元', 15), ('給聲', 15), ('伊', 15), ('強制執行', 15), ('完工', 15), ('何', 15), ('繼續', 15), ('娥', 15), ('扣除', 15), ('將聲', 15), ('破裂', 15), ('也', 15), ('租', 15), ('供', 15), ('意圖', 15), ('保存', 15), ('達成', 15), ('人應', 15), ('整修', 15), ('適', 15), ('真', 15), ('以為', 15), ('契稅', 15), ('地下', 15), ('僅', 15), ('致受', 15), ('大橋', 15), ('善化', 15), ('授權', 15), ('工地', 15), ('繳交', 15), ('佔用', 15), ('同段', 15), ('北華街', 15), ('財團法人', 15), ('地點', 15), ('水管', 15), ('網路', 15), ('寮', 15), ('業務', 15), ('滲水', 15), ('一紙', 15), ('基金', 15), ('違反', 14), ('款伍', 14), ('通知', 14), ('房地', 14), ('公路', 14), ('奕', 14), ('人始', 14), ('本區', 14), ('款肆', 14), ('紛爭', 14), ('大陸', 14), ('企業社', 14), ('稅捐', 14), ('款壹', 14), ('陸元整', 14), ('管委會', 14), ('管路', 14), ('幹', 14), ('德三街', 14), ('食品', 14), ('大型', 14), ('需要', 14), ('鐵門', 14), ('書面', 14), ('萬柒仟', 14), ('自稱', 14), ('精忠', 14), ('收受', 14), ('言語', 14), ('同事', 14), ('造人林', 14), ('第一項', 14), ('李俊', 14), ('退票', 14), ('線', 14), ('應再付', 14), ('特定', 14), ('市場', 14), ('收執', 14), ('才', 14), ('記載', 14), ('代辦費', 14), ('出手', 14), ('交予', 14), ('鐵皮屋', 14), ('好', 14), ('柒拾', 14), ('調解書', 14), ('一併', 14), ('跌倒', 14), ('柒元整', 14), ('不依', 14), ('三街', 14), ('伶', 14), ('簽章', 14), ('對聲', 14), ('羅', 14), ('台幣伍', 14), ('匝道', 14), ('佑', 14), ('警察局', 14), ('仁愛', 14), ('全數', 14), ('繳付', 14), ('攤位', 14), ('拒絕', 14), ('段巷', 14), ('站', 13), ('行東', 13), ('點交', 13), ('經過', 13), ('捌佰元', 13), ('人行', 13), ('琇', 13), ('業經', 13), ('中央', 13), ('把', 13), ('未還', 13), ('開啟', 13), ('料', 13), ('月初', 13), ('長勝', 13), ('育德三街', 13), ('大洲', 13), ('門', 13), ('服務', 13), ('逸', 13), ('林家', 13), ('乃', 13), ('今', 13), ('訂立', 13), ('除聲', 13), ('地目', 13), ('傷及', 13), ('狀況', 13), ('鎮', 13), ('店面', 13), ('掉落', 13), ('借貸', 13), ('造就', 13), ('參元整', 13), ('騎樓', 13), ('占用', 13), ('訂購', 13), ('人許', 13), ('途經', 13), ('強制保險', 13), ('互助會', 13), ('遷移', 13), ('紅燈', 13), ('家中', 13), ('招牌', 13), ('圍牆', 13), ('柒佰元整', 13), ('鐵架', 13), ('之聲', 13), ('指訴', 13), ('以供', 13), ('中午', 13), ('火車站', 13), ('追撞', 13), ('第條', 13), ('左轉', 13), ('地面', 13), ('街路', 13), ('字號', 13), ('下車', 13), ('交往', 13), ('錢', 13), ('彩女', 13), ('搬出', 13), ('看護', 13), ('扶養', 13), ('左手', 13), ('邀約', 13), ('萬陸仟', 13), ('看', 13), ('財產', 13), ('營區', 13), ('遷出', 13), ('應有', 13), ('壹佰參拾', 13), ('案外人', 13), ('責任險', 13), ('至今', 13), ('機關', 13), ('土地銀行', 13), ('宸', 13), ('聯邦', 12), ('凱翔', 12), ('住所', 12), ('劉永信', 12), ('租車', 12), ('操作', 12), ('上網', 12), ('岔路', 12), ('雖', 12), ('店內', 12), ('冰箱', 12), ('號碼', 12), ('朋友', 12), ('收據', 12), ('不願', 12), ('代理人', 12), ('民', 12), ('適聲', 12), ('顏', 12), ('和田', 12), ('三期', 12), ('抵押', 12), ('北向', 12), ('希望', 12), ('消費', 12), ('人間', 12), ('請人', 12), ('觀海', 12), ('大同路', 12), ('睿', 12), ('攤還', 12), ('總價', 12), ('月底', 12), ('更換', 12), ('屋', 12), ('新建', 12), ('保證', 12), ('現象', 12), ('傷均', 12), ('因故', 12), ('大潤發', 12), ('陸佰', 12), ('載', 12), ('出血', 12), ('路面', 12), ('判決', 12), ('現就', 12), ('人賴', 12), ('特別', 12), ('人吳', 12), ('邱', 12), ('身分證', 12), ('長子', 12), ('立賢', 12), ('民生路', 12), ('新化', 12), ('行庫', 12), ('永華', 12), ('說', 12), ('肢體衝突', 12), ('整及', 12), ('因未', 12), ('因上', 12), ('便', 12), ('不法', 12), ('公分', 12), ('第期', 12), ('分局', 12), ('工業', 12), ('永福路', 12), ('借據', 12), ('型', 12), ('住院', 12), ('妨害自由', 12), ('不向聲', 12), ('事業', 12), ('無損', 12), ('規定', 12), ('噪音', 12), ('二期', 12), ('停放在', 12), ('過程', 12), ('出', 12), ('就此', 12), ('做', 12), ('權益', 12), ('正', 12), ('朝興', 12), ('產生', 12), ('安路', 12), ('男', 12), ('大門', 11), ('現已', 11), ('側門', 11), ('另聲', 11), ('郵政', 11), ('開支票', 11), ('信用', 11), ('壹元', 11), ('橋頭', 11), ('錦', 11), ('正在', 11), ('鄉鎮', 11), ('凌晨', 11), ('該路', 11), ('一棟', 11), ('乙方', 11), ('現聲', 11), ('在案', 11), ('衍生', 11), ('總計', 11), ('圓環', 11), ('已給', 11), ('持有', 11), ('南北', 11), ('貨運', 11), ('萬柒仟元整', 11), ('葉', 11), ('閃避不及', 11), ('代號', 11), ('報警', 11), ('月間', 11), ('起至', 11), ('作', 11), ('協同', 11), ('分公司', 11), ('隔壁', 11), ('富', 11), ('包包', 11), ('廠', 11), ('借', 11), ('續租', 11), ('沒有', 11), ('長期', 11), ('科技', 11), ('配合', 11), ('貳佰肆', 11), ('西和路', 11), ('裕民', 11), ('後來', 11), ('衝突', 11), ('搭建', 11), ('免除', 11), ('領受', 11), ('鈍', 11), ('及聲', 11), ('厝', 11), ('室內', 11), ('截至', 11), ('無異議', 11), ('台北', 11), ('清理', 11), ('平房', 11), ('陳家', 11), ('人及', 11), ('人聲', 11), ('工資', 11), ('兵配', 11), ('會首', 11), ('外側', 11), ('區安明路', 11), ('東', 11), ('黃金', 11), ('內側', 11), ('麵', 11), ('面向', 11), ('待', 11), ('撕裂', 11), ('貨品', 11), ('機車行', 11), ('大道', 11), ('裁定', 11), ('房子', 11), ('門前', 11), ('越界', 11), ('離職', 11), ('東光', 11), ('買方', 11), ('主管機關', 11), ('駛來', 11), ('摔', 11), ('竟未', 11), ('應將', 11), ('嘉義縣', 11), ('謝', 11), ('投保', 11), ('地政事務', 11), ('鄰房', 11), ('美玲', 11), ('送醫', 11), ('損人傷', 11), ('保險', 11), ('文賢三街', 11), ('代墊', 11), ('通運', 10), ('二分之一', 10), ('達', 10), ('明', 10), ('著作', 10), ('實際', 10), ('架設', 10), ('計新', 10), ('潘', 10), ('薛', 10), ('駱', 10), ('詐欺罪', 10), ('北忠', 10), ('年籍', 10), ('並由', 10), ('裕', 10), ('針對', 10), ('一次', 10), ('使用權', 10), ('國光', 10), ('生', 10), ('查看', 10), ('華東', 10), ('發生衝突', 10), ('人須', 10), ('任職', 10), ('地政', 10), ('領取', 10), ('得知', 10), ('建築', 10), ('不堪', 10), ('確定', 10), ('催討', 10), ('爭吵', 10), ('張貼', 10), ('承', 10), ('胸部', 10), ('育有', 10), ('申辦', 10), ('清秀', 10), ('潘林', 10), ('蔡伊郡', 10), ('娘', 10), ('簡字', 10), ('共分', 10), ('之前', 10), ('一台', 10), ('不及', 10), ('市', 10), ('清潔', 10), ('門診', 10), ('專任', 10), ('介紹', 10), ('其子', 10), ('踹', 10), ('安寧', 10), ('若有', 10), ('元年', 10), ('勛', 10), ('多', 10), ('違約金', 10), ('贈與', 10), ('進而', 10), ('開始', 10), ('不明', 10), ('街段', 10), ('日止', 10), ('價值', 10), ('子女', 10), ('露天', 10), ('高幹', 10), ('台新', 10), ('巷之號', 10), ('陞', 10), ('法令', 10), ('同意書', 10), ('販賣', 10), ('大和路', 10), ('文賢二', 10), ('委員', 10), ('水泥', 10), ('別', 10), ('無名', 10), ('來電', 10), ('烤', 10), ('勞保', 10), ('房間', 10), ('廁所', 10), ('安全', 10), ('心生', 10), ('二樓', 10), ('勞動基準', 10), ('置於', 10), ('祐', 10), ('積水', 10), ('鴻', 10), ('提示', 10), ('將該', 10), ('照片', 10), ('日起', 10), ('空地', 10), ('惟聲', 10), ('夫妻關係', 10), ('夥同', 10), ('瑋', 10), ('開房', 10), ('晴', 10), ('呈', 10), ('二張', 10), ('無故', 10), ('堆高機', 10), ('核定', 10), ('陸萬陸', 10), ('現居', 10), ('則由', 10), ('理論', 10), ('永樂', 10), ('見面', 10), ('救護', 10), ('材料', 10), ('通路', 10), ('乘客', 10), ('局', 10), ('時間', 10), ('行走', 10), ('叡', 10), ('排水溝', 10), ('往南方', 10), ('員林', 10), ('科技股份', 9), ('秋', 9), ('銀', 9), ('主因', 9), ('不足', 9), ('通知書', 9), ('地下道', 9), ('等物', 9), ('壹台', 9), ('箱', 9), ('疏於', 9), ('解約', 9), ('兄弟', 9), ('壹佰陸拾', 9), ('由南向北', 9), ('安全帽', 9), ('王雨利', 9), ('私下', 9), ('筆', 9), ('砸傷', 9), ('價款', 9), ('前來', 9), ('另於', 9), ('人家', 9), ('款陸', 9), ('隔鄰', 9), ('據', 9), ('只', 9), ('人受', 9), ('肆佰元', 9), ('小狗', 9), ('裂縫', 9), ('理由', 9), ('無權', 9), ('該店', 9), ('李明', 9), ('車前', 9), ('逾期', 9), ('辦公室', 9), ('分割', 9), ('股票', 9), ('李書儂', 9), ('損及', 9), ('琮', 9), ('販售', 9), ('市區', 9), ('縣市', 9), ('無訛', 9), ('即聲', 9), ('經提告', 9), ('往', 9), ('一年', 9), ('等級', 9), ('右轉', 9), ('來', 9), ('如有', 9), ('啟能', 9), ('龜裂', 9), ('臺灣銀行', 9), ('壹張', 9), ('車體', 9), ('占有', 9), ('造', 9), ('之際', 9), ('崑山', 9), ('代為', 9), ('施', 9), ('竟於', 9), ('毗鄰', 9), ('中旬', 9), ('閃避', 9), ('房屋買賣', 9), ('附設', 9), ('退回', 9), ('水電費', 9), ('意見', 9), ('同日', 9), ('國有財產', 9), ('和解書', 9), ('全額', 9), ('鐵', 9), ('視該', 9), ('早上', 9), ('一部', 9), ('廚房', 9), ('育德路號', 9), ('公共', 9), ('項目', 9), ('二筆', 9), ('簽署', 9), ('經對', 9), ('多年', 9), ('還地', 9), ('總金額', 9), ('點', 9), ('證明書', 9), ('提前', 9), ('條例', 9), ('拆屋', 9), ('各新', 9), ('認識', 9), ('麻豆', 9), ('名', 9), ('建平', 9), ('客廳', 9), ('人蘇', 9), ('棟', 9), ('玫', 9), ('行使', 9), ('六', 9), ('須', 9), ('保固', 9), ('大聲', 9), ('新興', 9), ('郭家', 9), ('王家', 9), ('咬傷', 9), ('市長', 9), ('號輕', 9), ('吳', 9), ('王美珍', 9), ('乙事', 9), ('北上', 9), ('周嘉誼', 9), ('人稱', 9), ('帶', 9), ('同額', 9), ('裝修', 9), ('甄', 9), ('云云', 9), ('有人', 9), ('玉', 9), ('見狀', 9), ('台線', 9), ('義務', 9), ('生意', 9), ('淑芳', 9), ('轉交', 9), ('華', 9), ('環境', 8), ('造人張', 8), ('謝錦珍', 8), ('曹晉德', 8), ('陳淑鈴', 8), ('謊稱', 8), ('屋後', 8), ('區海佃', 8), ('之台', 8), ('治療', 8), ('言明', 8), ('該址', 8), ('李嘉方', 8), ('撥打', 8), ('承諾', 8), ('翁靖雅', 8), ('颱風', 8), ('及號', 8), ('結婚', 8), ('未處理', 8), ('參佰元', 8), ('華興', 8), ('大灣', 8), ('狀所', 8), ('搬走', 8), ('使聲', 8), ('資金', 8), ('詐騙', 8), ('昱', 8), ('此事', 8), ('印鑑', 8), ('吉', 8), ('平日', 8), ('鄔永強', 8), ('雅', 8), ('勝利', 8), ('行為', 8), ('以前', 8), ('西往東', 8), ('放置', 8), ('砂石', 8), ('眼鏡', 8), ('引車', 8), ('互', 8), ('未能', 8), ('巷道', 8), ('移除', 8), ('夜市', 8), ('凱', 8), ('資融', 8), ('仁', 8), ('邱芳盛', 8), ('人陳彥', 8), ('室', 8), ('廠牌', 8), ('小姐', 8), ('結清', 8), ('財務', 8), ('雙側', 8), ('本息', 8), ('欣', 8), ('美麗', 8), ('劉', 8), ('樓上', 8), ('之子', 8), ('各分', 8), ('致傷', 8), ('機器', 8), ('拾玖元整', 8), ('人莊', 8), ('合作社', 8), ('一批', 8), ('逕', 8), ('瓦斯', 8), ('巷前', 8), ('區府', 8), ('及同', 8), ('樓下', 8), ('接受', 8), ('吳國', 8), ('偵緝', 8), ('長女', 8), ('翔', 8), ('榮', 8), ('檢查', 8), ('德街', 8), ('滑倒', 8), ('飛落', 8), ('邵家', 8), ('路由', 8), ('陸佰陸拾', 8), ('賢北', 8), ('區安', 8), ('千興', 8), ('車身', 8), ('日經', 8), ('佔', 8), ('搭', 8), ('康茂富', 8), ('簡', 8), ('違規', 8), ('此', 8), ('社', 8), ('見', 8), ('零壹', 8), ('關廟', 8), ('小孩', 8), ('李文', 8), ('育', 8), ('磁磚', 8), ('則約', 8), ('莊', 8), ('宥', 8), ('南下', 8), ('前開', 8), ('西向東', 8), ('處分', 8), ('上班', 8), ('隨即', 8), ('外出', 8), ('兒子', 8), ('收入', 8), ('富貴', 8), ('門牌號碼', 8), ('人為', 8), ('脖子', 8), ('協助', 8), ('完', 8), ('並向', 8), ('摔倒', 8), ('法定繼承', 8), ('水槽', 8), ('機械', 8), ('友愛', 8), ('個人', 8), ('銀行帳戶', 8), ('反映', 8), ('下雨', 8), ('奇美', 8), ('狗', 8), ('南科', 8), ('通行', 8), ('改善', 8), ('冷氣機', 8), ('排水', 8), ('至同', 8), ('採光罩', 8), ('建', 8), ('李佳霖', 8), ('補償金', 8), ('將系爭', 8), ('鑑界', 8), ('英', 8), ('調', 8), ('郭彥', 8), ('報案', 8), ('蔡秀霞', 7), ('其所', 7), ('連絡', 7), ('人馬', 7), ('徐', 7), ('事', 7), ('增建', 7), ('乘', 7), ('查字', 7), ('教育', 7), ('周碧珠', 7), ('不知', 7), ('校區', 7), ('億', 7), ('承擔', 7), ('直至', 7), ('隻', 7), ('不能', 7), ('高祖', 7), ('萬玖仟', 7), ('人陳映', 7), ('蔡宗志', 7), ('張奕勝', 7), ('府城', 7), ('堂', 7), ('廠前', 7), ('信件', 7), ('地檢署', 7), ('貳佰', 7), ('防汛', 7), ('診所', 7), ('牆面', 7), ('路時', 7), ('說明', 7), ('二車', 7), ('言詞', 7), ('硯', 7), ('板', 7), ('之責', 7), ('南線', 7), ('遺失', 7), ('水溝', 7), ('中路', 7), ('碖', 7), ('同居', 7), ('月付', 7), ('以現', 7), ('笑', 7), ('破損', 7), ('學校', 7), ('世雄', 7), ('六甲', 7), ('清貴', 7), ('因為', 7), ('交易', 7), ('陽信', 7), ('故障', 7), ('體', 7), ('走', 7), ('性', 7), ('劉幸', 7), ('送達', 7), ('承租人', 7), ('賣方', 7), ('提', 7), ('正南', 7), ('股東', 7), ('起即', 7), ('之父', 7), ('綽號', 7), ('無蹤', 7), ('出現', 7), ('搭乘', 7), ('保安', 7), ('四方', 7), ('簡鏡', 7), ('保養', 7), ('採取', 7), ('訴字', 7), ('肆萬肆', 7), ('一線', 7), ('惠', 7), ('未將', 7), ('讓渡', 7), ('珠', 7), ('人劉', 7), ('山區', 7), ('人以', 7), ('玉女', 7), ('拖延', 7), ('參佰參拾', 7), ('期限', 7), ('往北', 7), ('第號案', 7), ('比例', 7), ('所示', 7), ('濬', 7), ('最大', 7), ('如意', 7), ('國民', 7), ('入股', 7), ('東寧', 7), ('七股', 7), ('太子', 7), ('廠商', 7), ('智勝', 7), ('格', 7), ('整之', 7), ('法及', 7), ('不疑', 7), ('齊', 7), ('行動', 7), ('海成', 7), ('頂', 7), ('客', 7), ('前付', 7), ('設', 7), ('丞', 7), ('白色', 7), ('頭皮', 7), ('肢體', 7), ('被害人', 7), ('文生', 7), ('埕', 7), ('亮', 7), ('吳素', 7), ('損均', 7), ('張勝凱', 7), ('證件', 7), ('參萬肆', 7), ('鹽水', 7), ('人葉', 7), ('所致', 7), ('加油', 7), ('置之不理', 7), ('先後', 7), ('相鄰', 7), ('亦不得', 7), ('珈', 7), ('託', 7), ('車上', 7), ('楠', 7), ('小腿', 7), ('疑似', 7), ('至哲', 7), ('青年', 7), ('法定', 7), ('胡', 7), ('基地', 7), ('富邦', 7), ('人三人', 7), ('車行', 7), ('南康', 7), ('審理', 7), ('慶', 7), ('監護', 7), ('竊', 7), ('持分', 7), ('保險桿', 7), ('劉莊', 7), ('三號', 7), ('區甲頂', 7), ('金玉', 7), ('郡', 7), ('夫婦', 7), ('網寮', 7), ('黃梅', 7), ('養護中心', 7), ('檢察', 7), ('變賣', 7), ('業務員', 7), ('郭素芬', 7), ('所生', 7), ('在場', 7), ('引起', 7), ('吳明', 7), ('數次', 7), ('南興', 7), ('禹', 7), ('車主', 7), ('人洪', 7), ('江龍', 7), ('代書', 7), ('秋月', 7), ('彰化縣', 7), ('撞損', 7), ('監視器', 7), ('張津雪', 7), ('作廢', 7), ('設計', 7), ('統編', 7), ('能', 7), ('翰', 7), ('一女', 7), ('聯繫', 7), ('留有', 7), ('未命名', 7), ('返回', 7), ('秀美', 7), ('處所', 7), ('淇', 7), ('消費者', 7), ('完全', 7), ('公然侮辱', 7), ('屏', 7), ('認', 7), ('補習班', 7), ('號房', 7), ('簽名', 7), ('除上', 7), ('上方', 7), ('東門', 7), ('抓傷', 7), ('美體', 7), ('轉讓', 7), ('何堪', 7), ('之行', 7), ('文字', 7), ('茲', 7), ('著作權', 7), ('楊順國', 7), ('原為', 7), ('其父', 7), ('並已', 7), ('吳苡', 7), ('畏懼', 7), ('僱於', 7), ('行車執照', 7), ('以致', 7), ('手臂', 7), ('台語', 7), ('蔡伊尹', 7), ('入己', 7), ('公開', 7), ('遊戲', 7), ('提領', 7), ('柒萬肆', 7), ('小心', 7), ('儀', 7), ('楊舒婷', 7), ('前項', 6), ('王玟', 6), ('多萬元', 6), ('設置', 6), ('不讓', 6), ('切結', 6), ('乘坐', 6), ('教育費', 6), ('系統', 6), ('華人', 6), ('該處', 6), ('址', 6), ('人江', 6), ('生前', 6), ('保證金', 6), ('司', 6), ('蘋', 6), ('借名', 6), ('巷路', 6), ('黑色', 6), ('玻璃', 6), ('身分', 6), ('科目', 6), ('民調', 6), ('相約', 6), ('何馨楠', 6), ('合併', 6), ('丟擲', 6), ('渣打銀行', 6), ('南門', 6), ('現與', 6), ('附圖', 6), ('瑀', 6), ('臉書', 6), ('圖', 6), ('六合', 6), ('人黃怡', 6), ('困擾', 6), ('花', 6), ('雄', 6), ('債權債務', 6), ('崇明', 6), ('涉', 6), ('車子', 6), ('國有土地', 6), ('仙女', 6), ('權狀', 6), ('田', 6), ('慈善事業', 6), ('案經聲', 6), ('西區', 6), ('車頭', 6), ('型號', 6), ('王于', 6), ('如盈', 6), ('戶籍', 6), ('張果', 6), ('萬泰', 6), ('不佳', 6), ('綵', 6), ('十期', 6), ('電子', 6), ('車庫', 6), ('急救', 6), ('付', 6), ('銘', 6), ('東門路', 6), ('剝落', 6), ('岑', 6), ('林奕', 6), ('承認', 6), ('報酬', 6), ('有關', 6), ('脫落', 6), ('唐婕容', 6), ('手', 6), ('下載', 6), ('連續', 6), ('退休', 6), ('嫺', 6), ('同住', 6), ('明德', 6), ('管線', 6), ('衣服', 6), ('背部', 6), ('孩子', 6), ('黃昏', 6), ('李佩芸', 6), ('妘', 6), ('三民', 6), ('鑑定費', 6), ('人羅珮菁', 6), ('整外', 6), ('門號', 6), ('何國', 6), ('芯', 6), ('工時', 6), ('筆錄', 6), ('張捷', 6), ('卡', 6), ('光華', 6), ('淮', 6), ('幼試', 6), ('設立', 6), ('股權', 6), ('性骨折', 6), ('售出', 6), ('欽', 6), ('小東', 6), ('怡婷', 6), ('阮', 6), ('致黃', 6), ('變換', 6), ('丟棄', 6), ('淹水', 6), ('用地', 6), ('可能', 6), ('果', 6), ('致林', 6), ('姈', 6), ('律師', 6), ('特力屋', 6), ('餘', 6), ('涂', 6), ('農會', 6), ('人尚', 6), ('鹽', 6), ('電線', 6), ('壁區', 6), ('入住', 6), ('伍仟元予', 6), ('尚欠', 6), ('出租人', 6), ('函', 6), ('回家', 6), ('偉仁', 6), ('惇', 6), ('急需', 6), ('顱內', 6), ('佳里', 6), ('每個', 6), ('直接', 6), ('加蓋', 6), ('王敬堯', 6), ('血糖', 6), ('物權', 6), ('郭政昕', 6), ('購得', 6), ('不予', 6), ('知', 6), ('定', 6), ('棚架', 6), ('蔡婷薇', 6), ('新光', 6), ('情況', 6), ('報廢', 6), ('售予', 6), ('陽台', 6), ('絹', 6), ('獲', 6), ('肆仟玖佰元整', 6), ('妏', 6), ('期滿', 6), ('堆高', 6), ('四分之一', 6), ('林子', 6), ('致車', 6), ('依安', 6), ('珺', 6), ('臺灣省', 6), ('冷飲店', 6), ('右膝', 6), ('石春燕', 6), ('基金會', 6), ('借用', 6), ('並不', 6), ('路燈', 6), ('台北市', 6), ('吳怡君', 6), ('參佰陸', 6), ('一事', 6), ('楊甫', 6), ('花園', 6), ('閉鎖', 6), ('守義', 6), ('信用貸款', 6), ('副', 6), ('迄今已', 6), ('往西', 6), ('六期', 6), ('每年', 6), ('陸萬肆', 6), ('砸毀', 6), ('宅', 6), ('之用', 6), ('車業', 6), ('蘇靜瑜', 6), ('壹佰肆', 6), ('正於', 6), ('不同', 6), ('林奕寬', 6), ('一件', 6), ('因本', 6), ('腦震盪', 6), ('林清源', 6), ('台幣陸', 6), ('芬', 6), ('法定代理', 6), ('理會', 6), ('款玖', 6), ('門鎖', 6), ('銀行貸款', 6), ('霓', 6), ('張芸珈', 6), ('竊盜', 6), ('金蓮', 6), ('挫', 6), ('澤', 6), ('未果', 6), ('楊懿婷', 6), ('葉靜', 6), ('設有', 6), ('昭', 6), ('由東向西', 6), ('執行命令', 6), ('柒佰壹拾', 6), ('砸', 6), ('取回', 6), ('放', 6), ('飲料', 6), ('救護車', 6), ('戶籍謄本', 6), ('物流', 6), ('南市', 6), ('京華', 6), ('穿越', 6), ('何仲', 6), ('致使', 6), ('除外', 6), ('朱', 6), ('欠款', 6), ('新市鄉', 6), ('興', 6), ('公同', 6), ('一筆', 6), ('活動中心', 6), ('李玉美', 6), ('沒', 6), ('足', 6), ('迄', 6), ('用餐', 6), ('週轉', 6), ('火災', 6), ('碧', 6), ('違約', 6), ('公寓', 6), ('徵收', 6), ('路上', 6), ('興南', 6), ('代辦', 6), ('鐵窗', 6), ('北華', 6), ('大雨', 6), ('柯', 6), ('王國', 6), ('牆', 6), ('並以', 6), ('鄭清芳', 6), ('留言', 6), ('正興', 6), ('異常', 6), ('人黃怡婷', 6), ('兵工廠', 6), ('類別', 6), ('叫', 6), ('系', 6), ('水塔', 6), ('詹孟軒', 6), ('油漆', 6), ('許秀枝', 6), ('污水', 6), ('唐', 6), ('稅金', 6), ('並在', 6), ('通訊', 6), ('號大', 6), ('傷害罪', 6), ('轉診', 6), ('公司員工', 6), ('犬', 6), ('張涵', 6), ('施慶隆', 6), ('明慧', 6), ('附表', 6), ('柒佰元', 6), ('前後', 6), ('經由', 6), ('普濟', 6), ('保留', 6), ('代步車', 6), ('李昀', 6), ('探視', 6), ('扭打', 6), ('腳', 6), ('交由', 6), ('騷擾', 6), ('人行道', 6), ('家人', 6), ('吳南波', 6), ('由北', 6), ('警方', 6), ('股份有限', 6), ('措施', 6), ('就體', 6), ('莊坤', 6), ('往生', 6), ('光裕', 6), ('三樓', 6), ('錄影', 6), ('租用', 6), ('成大', 6), ('民生', 6), ('董事', 6), ('家', 6), ('起訴', 6), ('為分', 5), ('索討', 5), ('佃路', 5), ('三字經', 5), ('上情', 5), ('樓之號', 5), ('均體', 5), ('轉彎', 5), ('遠信', 5), ('蕭暐翰', 5), ('員警', 5), ('因該', 5), ('李青霞', 5), ('敬', 5), ('客貨', 5), ('履約', 5), ('北向南', 5), ('各人', 5), ('自動', 5), ('提款機', 5), ('性行', 5), ('德路', 5), ('元予', 5), ('哲偉', 5), ('張美娣', 5), ('返家', 5), ('背書', 5), ('追加', 5), ('劉嘉琳', 5), ('商業', 5), ('樓梯間', 5), ('萬仟元', 5), ('人士', 5), ('修須', 5), ('不知去向', 5), ('館', 5), ('楊林素', 5), ('安定區', 5), ('駛出', 5), ('秀', 5), ('醫師', 5), ('成員', 5), ('保持', 5), ('參萬柒仟', 5), ('張佑塵', 5), ('分社', 5), ('毆打成傷', 5), ('逕行', 5), ('教室', 5), ('茗', 5), ('服務費', 5), ('年邁', 5), ('表示歉意', 5), ('跳蚤市場', 5), ('仿冒', 5), ('銀行借款', 5), ('鄭茂松', 5), ('同一', 5), ('貳佰元', 5), ('中學', 5), ('頭', 5), ('氯離子', 5), ('然對', 5), ('裝設', 5), ('葉庭羽', 5), ('款新', 5), ('核發', 5), ('農牧', 5), ('蔡雅帆', 5), ('壁癌', 5), ('蔡麗花', 5), ('霈', 5), ('不到', 5), ('原有', 5), ('皮包', 5), ('國揚', 5), ('尺骨', 5), ('駱光裕', 5), ('警告', 5), ('區頂', 5), ('執字', 5), ('揚志', 5), ('立即', 5), ('光碟', 5), ('人僅', 5), ('動手', 5), ('款柒拾', 5), ('其年', 5), ('之合會', 5), ('吳青君', 5), ('交給', 5), ('稚', 5), ('李黎霞', 5), ('開發', 5), ('李宜宸', 5), ('鍏', 5), ('自即日起', 5), ('林立', 5), ('所屬', 5), ('力行', 5), ('財物', 5), ('補習', 5), ('王秀端', 5), ('車貸', 5), ('現就車', 5), ('經紀', 5), ('蔡漢穎', 5), ('能力', 5), ('著', 5), ('製作', 5), ('留置', 5), ('李雅婷', 5), ('駕駛座', 5), ('未繳', 5), ('永豐', 5), ('緊急', 5), ('持分分', 5), ('美英', 5), ('旭日', 5), ('人林秀娟', 5), ('屬', 5), ('人林淑煌', 5), ('李育', 5), ('一瓶', 5), ('土木', 5), ('背信', 5), ('雨水', 5), ('南海', 5), ('面', 5), ('由北向南', 5), ('會議', 5), ('復國', 5), ('互控', 5), ('開門', 5), ('紅利', 5), ('嘉義', 5), ('葉子', 5), ('上車', 5), ('現僅', 5), ('妨礙', 5), ('之一', 5), ('一個', 5), ('人林婉蓉', 5), ('存放', 5), ('房屋內', 5), ('何姿', 5), ('致體傷', 5), ('娌', 5), ('賣家', 5), ('清川', 5), ('另案處理', 5), ('均分', 5), ('並非', 5), ('撞傷', 5), ('民事判決', 5), ('丙方', 5), ('板橋', 5), ('設施', 5), ('外牆', 5), ('青', 5), ('墓地', 5), ('壹佰壹拾', 5), ('窗戶', 5), ('鄭伊玲', 5), ('張岳霖', 5), ('煞車', 5), ('天佑', 5), ('翁于', 5), ('政升', 5), ('平均分配', 5), ('罹患', 5), ('鄭夙伶', 5), ('從事', 5), ('區海', 5), ('蔓', 5), ('打傷', 5), ('主委', 5), ('西賢街', 5), ('人即', 5), ('蓁', 5), ('提款卡', 5), ('張秀琴', 5), ('三張', 5), ('許文', 5), ('打架', 5), ('楊偉立', 5), ('可以', 5), ('萬玖仟元整', 5), ('志豪', 5), ('雅玲', 5), ('岑許', 5), ('為己', 5), ('買', 5), ('邱秀鶴', 5), ('分手', 5), ('良', 5), ('與育賢街', 5), ('簡訊', 5), ('放在', 5), ('近', 5), ('林君豪', 5), ('司機', 5), ('路及', 5), ('承包', 5), ('大眾', 5), ('撤銷', 5), ('開車', 5), ('勞', 5), ('並持', 5), ('潮濕', 5), ('只有', 5), ('赤', 5), ('何忠', 5), ('腳趾', 5), ('毛衣', 5), ('朱天來', 5), ('張瑋恩', 5), ('案號', 5), ('稅', 5), ('支', 5), ('柒佰柒拾', 5), ('造人蘇', 5), ('郭秀琴', 5), ('南二中', 5), ('逆向', 5), ('造人王', 5), ('取信', 5), ('司票', 5), ('懷湘', 5), ('人民', 5), ('平路', 5), ('輕微', 5), ('今因', 5), ('日內', 5), ('兩筆', 5), ('停車位', 5), ('兵', 5), ('遊覽', 5), ('李建興', 5), ('號與', 5), ('配場', 5), ('柴頭', 5), ('通道', 5), ('據稱', 5), ('崁', 5), ('台幣肆', 5), ('支出', 5), ('未盡', 5), ('吳嘉慧', 5), ('估價', 5), ('人原', 5), ('華平路', 5), ('暐', 5), ('結算', 5), ('韻婷', 5), ('王冠', 5), ('四期', 5), ('簡易', 5), ('票據', 5), ('共識', 5), ('治所', 5), ('年初', 5), ('吃', 5), ('五金', 5), ('倒車', 5), ('近端', 5), ('滄海', 5), ('出來', 5), ('壹佰參', 5), ('星羽', 5), ('網路上', 5), ('人現', 5), ('並無', 5), ('蔡富', 5), ('騎車', 5), ('佃', 5), ('所以', 5), ('謝孟庭', 5), ('請傷', 5), ('人梁', 5), ('拾玖元', 5), ('店家', 5), ('胡書', 5), ('如期', 5), ('德', 5), ('吳玉秀', 5), ('溪橋', 5), ('溢收', 5), ('劉品', 5), ('踢', 5), ('現就體', 5), ('東街', 5), ('葉靜芬', 5), ('福德街', 5), ('農業區', 5), ('中山北路', 5), ('慢車道', 5), ('琡', 5), ('宋建南', 5), ('車窗', 5), ('先前', 5), ('僅就', 5), ('吳俞', 5), ('郭璟霖', 5), ('車款', 5), ('得標', 5), ('瑢', 5), ('職業', 5), ('扭傷', 5), ('俊傑', 5), ('向陽', 5), ('場所', 5), ('揚言', 5), ('正常', 5), ('蔡雅涵', 5), ('造人許', 5), ('四街', 5), ('管理室', 5), ('警察', 5), ('前臂', 5), ('各為', 5), ('其後', 5), ('蔡志明', 5), ('輔助', 5), ('張儒', 5), ('出言', 5), ('元及', 5), ('孫孟輝', 5), ('余佩真', 5), ('吳某', 5), ('當初', 5), ('分區', 5), ('座落', 5), ('何秀霞', 5), ('楊宗憲', 5), ('號巷', 5), ('撞毀', 5), ('打電話', 5), ('發霉', 5), ('之委代', 5), ('往前', 5), ('由西向東', 5), ('桂蘭', 5), ('盧冠云', 5), ('合建', 5), ('卿', 5), ('往西方', 5), ('適有', 5), ('邱婧容', 5), ('盧慈恩', 5), ('暨', 5), ('佳', 5), ('人陳品', 5), ('勸募', 5), ('謝進', 5), ('母子', 5), ('第五', 5), ('汽車貸款', 5), ('聲音', 5), ('專業', 5), ('筱晴', 5), ('互告', 5), ('伍佰玖拾', 5), ('途中', 5), ('秀玲', 5), ('公務', 5), ('偉盛', 5), ('出價', 5), ('全凱', 5), ('以聲', 5), ('懸掛', 5), ('許永添', 5), ('與立', 5), ('指示', 5), ('摔車', 5), ('英素', 5), ('許成', 5), ('滲漏水', 5), ('行里', 5), ('人林俊毅', 5), ('不要', 5), ('誣告', 5), ('李宛', 5), ('安裝', 5), ('丁', 5), ('商標', 5), ('堤頂', 5), ('鄭世華', 5), ('蔡孟麗', 5), ('劉鎮', 5), ('夜間', 5), ('勝路', 5), ('張慈', 5), ('林亮葦', 5), ('優先', 5), ('新北市', 5), ('之意', 5), ('人方', 5), ('中華日報', 5), ('陪同', 5), ('陸佰柒拾', 5), ('梁榮鋒', 5), ('追究其', 5), ('不見', 5), ('代收', 5), ('輝', 5), ('汝', 5), ('擋住', 5), ('電桿', 5), ('佯以', 5), ('下筆', 5), ('實', 5), ('賺取', 5), ('施琳姿', 5), ('至成', 5), ('表', 5), ('管理員', 5), ('有所', 5), ('告聲', 5), ('僱工', 5), ('朝', 5), ('小車', 5), ('壓', 5), ('運', 5), ('正義', 5), ('路與育', 5), ('葉雪', 5), ('拳頭', 5), ('婷', 5), ('帶回', 5), ('貴金', 5), ('橫越', 5), ('斡旋', 5), ('蔡孟峰', 5), ('蓋章', 5), ('打擊', 5), ('太', 5), ('電源線', 5), ('吳銘宏', 5), ('購入', 5), ('潑灑', 5), ('練習場', 5), ('仟元則', 5), ('整並', 5), ('安東', 5), ('傢俱', 5), ('跟', 5), ('立人段', 5), ('一致', 5), ('參萬柒仟元整', 5), ('購物', 5), ('冬瓜', 5), ('依君', 5), ('突然', 5), ('科', 5), ('故現', 5), ('之台灣', 5), ('萬肆', 5), ('吳佳哲', 5), ('馬路', 5), ('輕', 5), ('委請', 5), ('陸橋', 5), ('六十', 5), ('門外', 5), ('前期', 5), ('故意', 5), ('遮雨棚', 5), ('業', 5), ('臉', 5), ('証', 5), ('濕滑', 5), ('不獲', 5), ('離家', 5), ('人伍', 5), ('志', 5), ('提撥', 5), ('之民', 4), ('上肢', 4), ('著作權法', 4), ('佐理', 4), ('琍', 4), ('平', 4), ('在外', 4), ('村', 4), ('產物保險', 4), ('花蓮縣', 4), ('高嘉翊', 4), ('李郁', 4), ('保險公司', 4), ('閩', 4), ('夏林路', 4), ('錞', 4), ('壹佰元', 4), ('維修費', 4), ('滲漏', 4), ('影本', 4), ('咬', 4), ('崴', 4), ('槍', 4), ('為聲', 4), ('豪', 4), ('所有權狀', 4), ('杕', 4), ('憓', 4), ('購屋', 4), ('人林佩珍', 4), ('巷時', 4), ('所在', 4), ('吳建儀', 4), ('寶', 4), ('聖', 4), ('歇業', 4), ('養生', 4), ('嘉體傷', 4), ('金延齡', 4), ('姊妹', 4), ('鄭淑娟', 4), ('挪用', 4), ('一下', 4), ('手續', 4), ('女方', 4), ('清泉', 4), ('葉家', 4), ('林詠', 4), ('出於', 4), ('右前', 4), ('吳進廷', 4), ('蔡鎮宇', 4), ('葉衍廷', 4), ('出門', 4), ('宣告', 4), ('自大', 4), ('杜松', 4), ('教唆', 4), ('單位', 4), ('經向', 4), ('左前', 4), ('高成', 4), ('突出', 4), ('儀蒨', 4), ('則由聲', 4), ('侯聖能', 4), ('肆萬陸', 4), ('泡', 4), ('山路', 4), ('曾麗珍', 4), ('經濟', 4), ('葉吟', 4), ('昌', 4), ('肩膀', 4), ('郭志', 4), ('屏東', 4), ('台中市', 4), ('文雅', 4), ('泰', 4), ('上面', 4), ('標誌', 4), ('癸', 4), ('捌佰壹', 4), ('擺放', 4), ('跑', 4), ('人黃千瑜', 4), ('中途', 4), ('知悉', 4), ('公會', 4), ('黃鴻斌', 4), ('生活費用', 4), ('滷菜', 4), ('陳思璇', 4), ('鞋子', 4), ('王友廷', 4), ('含量', 4), ('受領', 4), ('洪淑貞', 4), ('分在', 4), ('交屋', 4), ('恐嚇罪', 4), ('水龍頭', 4), ('幼鳥', 4), ('某', 4), ('造人施', 4), ('之車', 4), ('濠', 4), ('忠孝', 4), ('開刀', 4), ('然', 4), ('程天助', 4), ('房東', 4), ('很', 4), ('洗衣店', 4), ('沈鐵民', 4), ('住址', 4), ('者', 4), ('前應', 4), ('致令', 4), ('渝', 4), ('蘇慶峰', 4), ('彩珠', 4), ('高珊', 4), ('推撞', 4), ('左膝', 4), ('功能', 4), ('王孜任', 4), ('真實', 4), ('翻覆', 4), ('楊淑', 4), ('致該', 4), ('攤', 4), ('賣出', 4), ('詢問', 4), ('鄭采研', 4), ('不成', 4), ('上前', 4), ('當期', 4), ('人裕', 4), ('凹陷', 4), ('紙', 4), ('貿然', 4), ('人肆', 4), ('底價', 4), ('人林柏譯', 4), ('喜', 4), ('丁方應', 4), ('宋', 4), ('壕', 4), ('表明', 4), ('楊晨', 4), ('由於', 4), ('孫紹', 4), ('工廠', 4), ('間止', 4), ('高鐵', 4), ('原本', 4), ('檢驗', 4), ('討債', 4), ('筆記型電腦', 4), ('蔡翠鳳', 4), ('建造', 4), ('李禕柔', 4), ('經解', 4), ('照護', 4), ('李增坪', 4), ('字樣', 4), ('淑媛', 4), ('許日', 4), ('禮服', 4), ('夢', 4), ('全權', 4), ('肘', 4), ('籃智', 4), ('阿慶', 4), ('劉宸', 4), ('壹佰陸', 4), ('腳踢', 4), ('木質', 4), ('王登煌', 4), ('鄭玉琪', 4), ('捨棄', 4), ('至樓', 4), ('人黃祥銘', 4), ('之王', 4), ('慧鳳', 4), ('第項', 4), ('港溪', 4), ('德宏', 4), ('作業', 4), ('超越', 4), ('巷東', 4), ('楊博鈞', 4), ('鄢蜀', 4), ('遭到', 4), ('四張', 4), ('清心', 4), ('人系爭', 4), ('吳東', 4), ('結構', 4), ('蔡源植', 4), ('觀音', 4), ('簡瑾', 4), ('呈祥', 4), ('燕車損', 4), ('寶華', 4), ('伍仟元則', 4), ('替', 4), ('大廈', 4), ('活動', 4), ('麗玉', 4), ('杜', 4), ('入處', 4), ('及將', 4), ('淑珍', 4), ('一起', 4), ('因年', 4), ('人當', 4), ('一直', 4), ('起居', 4), ('信宏', 4), ('周雅雯', 4), ('標示', 4), ('排放', 4), ('混凝土', 4), ('出賣', 4), ('鄭巧', 4), ('而致', 4), ('周吳', 4), ('請聲', 4), ('往來', 4), ('高龍賢', 4), ('倒', 4), ('完工後', 4), ('溪', 4), ('東西', 4), ('劉仲霖', 4), ('左眼', 4), ('竣賢', 4), ('轉賣', 4), ('合會', 4), ('造人共家', 4), ('查封', 4), ('春江', 4), ('參元', 4), ('人黃昕', 4), ('一半', 4), ('存入', 4), ('劉慈慧', 4), ('崑', 4), ('瑞昌', 4), ('影像', 4), ('吳清', 4), ('瀏覽', 4), ('下肢', 4), ('她', 4), ('不良', 4), ('接獲', 4), ('腰部', 4), ('莊文彥', 4), ('所有人', 4), ('瀧富', 4), ('哲學', 4), ('人文', 4), ('家屬', 4), ('幃', 4), ('廣告社', 4), ('賣', 4), ('大光', 4), ('陸佰參', 4), ('負', 4), ('主任', 4), ('成年', 4), ('財產權', 4), ('議定', 4), ('傷對', 4), ('江泉', 4), ('人先', 4), ('呂孟頻', 4), ('邱冠翔', 4), ('郭育彰', 4), ('塔位', 4), ('燕', 4), ('防止', 4), ('邵嵇睿', 4), ('路路', 4), ('楊惠珍', 4), ('偕', 4), ('指', 4), ('獲利', 4), ('號營', 4), ('嫥', 4), ('巷與育', 4), ('即將', 4), ('蔡林秀菊', 4), ('鎖骨', 4), ('區鹽', 4), ('始將', 4), ('借予', 4), ('手部', 4), ('吳品', 4), ('軟體', 4), ('取', 4), ('機', 4), ('神經', 4), ('一個月', 4), ('感情', 4), ('專案', 4), ('何偉', 4), ('楊雪蓁', 4), ('出新', 4), ('茄', 4), ('擔保金', 4), ('日本', 4), ('伍佰', 4), ('王逸琳', 4), ('接', 4), ('鈊', 4), ('路人', 4), ('就醫', 4), ('過世', 4), ('訊息', 4), ('次子', 4), ('人林芷筠', 4), ('牙齒', 4), ('吳林換', 4), ('造人涉', 4), ('曾雅卿', 4), ('林秀芳', 4), ('壹佰捌', 4), ('敏', 4), ('菁', 4), ('裝置', 4), ('死', 4), ('藉故', 4), ('已先', 4), ('福慶', 4), ('生之子', 4), ('李尉', 4), ('集團', 4), ('依附', 4), ('江宏謙', 4), ('王茂林', 4), ('下半年', 4), ('起駛', 4), ('人賴玥', 4), ('海', 4), ('路和緯路', 4), ('捌佰柒', 4), ('馮佳琪', 4), ('制止', 4), ('仟玖佰', 4), ('造人以', 4), ('區小', 4), ('報告', 4), ('時因', 4), ('及第', 4), ('張秀敏', 4), ('蔡玟', 4), ('區總頭', 4), ('懷疑', 4), ('吳珮芸', 4), ('股骨', 4), ('各壹', 4), ('往北方', 4), ('永福', 4), ('楊育軒', 4), ('另有', 4), ('排班', 4), ('差價', 4), ('蘇得', 4), ('梁', 4), ('相', 4), ('位置', 4), ('祈', 4), ('王薇婷', 4), ('劉彥', 4), ('金飾', 4), ('玫秀', 4), ('第二', 4), ('郁淳', 4), ('屆滿', 4), ('由黃逸修', 4), ('過失', 4), ('右肩', 4), ('之兆豐', 4), ('平義', 4), ('櫃員機', 4), ('金及', 4), ('卓杏', 4), ('查獲', 4), ('兆豐', 4), ('淑英', 4), ('振源', 4), ('修護', 4), ('賴映', 4), ('一同', 4), ('寄', 4), ('半', 4), ('李詠', 4), ('惟上', 4), ('貸得', 4), ('人施作', 4), ('不合', 4), ('急診', 4), ('砡', 4), ('春華', 4), ('薛承緯', 4), ('琿', 4), ('翁睿澤體傷', 4), ('偵', 4), ('顧客', 4), ('人壹拾', 4), ('格上', 4), ('人右', 4), ('文賢街', 4), ('房間內', 4), ('一中', 4), ('富田', 4), ('還是', 4), ('航空', 4), ('國小前', 4), ('空間', 4), ('捲', 4), ('幀', 4), ('花盆', 4), ('火山', 4), ('本田', 4), ('人黃碧琴', 4), ('查證', 4), ('後僅', 4), ('適逢', 4), ('呂峻杰', 4), ('國有', 4), ('拖', 4), ('李林', 4), ('不治', 4), ('一路路', 4), ('指出', 4), ('李亞蓁', 4), ('傷且', 4), ('翁林祺', 4), ('二街號', 4), ('菜市場', 4), ('光強', 4), ('旻', 4), ('盆栽', 4), ('重劃', 4), ('建築物', 4), ('新城', 4), ('郭婉婷', 4), ('王秉洋', 4), ('中風', 4), ('撞壞', 4), ('涉及', 4), ('賢街', 4), ('該院', 4), ('發展', 4), ('打聲', 4), ('成交', 4), ('謝澈', 4), ('彩雲', 4), ('向前', 4), ('開放性', 4), ('顱骨', 4), ('邊', 4), ('客人', 4), ('吳雨', 4), ('帶走', 4), ('余鳳英', 4), ('育德路巷', 4), ('吳俊鴻', 4), ('傾斜', 4), ('尚允', 4), ('勞動法', 4), ('即可', 4), ('王菊子', 4), ('檢署', 4), ('馬達', 4), ('萩', 4), ('證明文件', 4), ('詠', 4), ('單', 4), ('與施', 4), ('舉辦', 4), ('資', 4), ('大豐', 4), ('失去', 4), ('駛離', 4), ('許芳源', 4), ('代', 4), ('螢幕', 4), ('程琮仁', 4), ('總', 4), ('失竊', 4), ('邀', 4), ('衝出', 4), ('芝', 4), ('改名', 4), ('隆起', 4), ('地震', 4), ('吳昱林', 4), ('壎', 4), ('明月', 4), ('婚姻', 4), ('亭', 4), ('陸仟玖佰元整', 4), ('戶', 4), ('法律', 4), ('元成', 4), ('昏迷', 4), ('蔡秀娟', 4), ('添軒', 4), ('肆佰陸', 4), ('萣', 4), ('品', 4), ('會後', 4), ('高麗', 4), ('拍照', 4), ('搬運', 4), ('鄭文惠', 4), ('每會', 4), ('議價', 4), ('萬柒仟元', 4), ('復興路', 4), ('塞', 4), ('部', 4), ('搬家', 4), ('內科', 4), ('胸壁', 4), ('持續', 4), ('教會', 4), ('萬整', 4), ('人黃筠潔', 4), ('周春燕', 4), ('閻家駿', 4), ('勝', 4), ('周佳演', 4), ('姵', 4), ('楊明松', 4), ('韋章', 4), ('起聲', 4), ('竹篙', 4), ('整未', 4), ('許雁茹', 4), ('不符', 4), ('專利權', 4), ('事務所', 4), ('人林怡', 4), ('確實', 4), ('第二項', 4), ('許雯琳', 4), ('吳宗翰', 4), ('眼球', 4), ('柒佰肆', 4), ('戴佑珍', 4), ('秀馨', 4), ('未成年', 4), ('邱柏勝', 4), ('周昶', 4), ('是否', 4), ('後期', 4), ('國璽', 4), ('秋香', 4), ('電視', 4), ('獨自', 4), ('大腿', 4), ('未留下', 4), ('元大', 4), ('起分', 4), ('嗣聲', 4), ('許維', 4), ('明利', 4), ('債款', 4), ('禔', 4), ('王繼蓬', 4), ('宛真', 4), ('顧問', 4), ('鄉台', 4), ('大榮', 4), ('利潤', 4), ('婕', 4), ('南台', 4), ('報紙', 4), ('與育賢', 4), ('死者', 4), ('佐', 4), ('郭棗', 4), ('玖佰元整', 4), ('楠梓', 4), ('陳光明', 4), ('大同', 4), ('人陳翠華', 4), ('用於', 4), ('超商前', 4), ('補發', 4), ('嬴', 4), ('墊', 4), ('捌佰肆', 4), ('清車', 4), ('門牌號', 4), ('未獲', 4), ('君', 4), ('億峰', 4), ('董密', 4), ('周文鴻', 4), ('巷巷', 4), ('人陳淑莉', 4), ('清枝', 4), ('補助', 4), ('其將', 4), ('贍養費', 4), ('包含', 4), ('溫鈞霆', 4), ('其女', 4), ('廖', 4), ('青山', 4), ('憲政', 4), ('刷卡', 4), ('能源', 4), ('遊覽車', 4), ('兼', 4), ('乘方', 4), ('陳明輝', 4), ('蔡蘇', 4), ('莊雅惠', 4), ('北華段', 4), ('則自', 4), ('三分之一', 4), ('顏維晨', 4), ('取消', 4), ('出處', 4), ('環境保護局', 4), ('之母', 4), ('瘀', 4), ('駛至', 4), ('月華', 4), ('竹', 4), ('資產', 4), ('排骨', 4), ('之大', 4), ('損毀', 4), ('人陳法', 4), ('各給', 4), ('過', 4), ('姿', 4), ('王麗秋', 4), ('岡山', 4), ('人盧', 4), ('查知', 4), ('臺東', 4), ('後面', 4), ('全', 4), ('紘', 4), ('貳佰壹拾', 4), ('未依', 4), ('一場', 4), ('而於', 4), ('郭陳麗姿', 4), ('發表', 4), ('明於', 4), ('五樓', 4), ('建興', 4), ('檢修', 4), ('前聲', 4), ('公然', 4), ('短期', 4), ('重製', 4), ('每逢', 4), ('王士庭', 4), ('下營', 4), ('機具', 4), ('蔡佳興', 4), ('當面', 4), ('采', 4), ('文海', 4), ('郭秋君', 4), ('明汾', 4), ('事實上', 4), ('驗收', 4), ('無誤', 4), ('謝涵', 4), ('排水槽', 4), ('致王', 4), ('賣掉', 4), ('刑法', 4), ('不適', 4), ('回應', 4), ('汽車保險', 4), ('地方', 4), ('調閱', 4), ('具', 4), ('鄭景耀', 4), ('超過', 4), ('安中', 4), ('統亞', 4), ('公', 4), ('困難', 4), ('身亡', 4), ('邱義仁', 4), ('因車禍', 4), ('人林郁雯', 4), ('柏仁', 4), ('店長', 4), ('文章', 4), ('樓至樓', 4), ('大成', 4), ('該棟', 4), ('張曼瑜', 4), ('花蓮市', 4), ('人陳宗', 4), ('浪板', 4), ('孟娟', 4), ('樑柱', 4), ('爭', 4), ('給對', 4), ('簽定', 4), ('侵占罪', 4), ('汽機', 4), ('更', 4), ('左營', 4), ('自月', 4), ('迴轉', 4), ('置', 4), ('新樂', 4), ('鄭聿涵', 4), ('主臥室', 4), ('柔', 4), ('劉宇', 4), ('洪郁芳', 4), ('每日', 4), ('行人穿越', 4), ('郭義豪', 4), ('具狀', 4), ('後座', 4), ('呂怡靜', 4), ('蔡承佑', 4), ('無著', 4), ('緻', 4), ('份', 4), ('寶貴', 4), ('點數', 4), ('媜', 4), ('施做', 4), ('許秀琴', 4), ('其向', 4), ('腳踏', 4), ('人林作', 4), ('其所施作', 4), ('葉琇玲', 4), ('款參', 4), ('萬年', 4), ('吳宜', 4), ('附', 4), ('防水', 4), ('許芳', 4), ('姿伶', 4), ('計算', 4), ('崇善路', 4), ('肆佰參拾', 4), ('清洗', 4), ('吳俊儀', 4), ('圖片', 4), ('如聲', 4), ('電信', 4), ('李翊', 4), ('劉啟', 4), ('保險金', 4), ('秋蘭', 4), ('聯結', 4), ('就診', 4), ('賈文翔', 4), ('王俊驊', 4), ('新港', 4), ('誠富發', 4), ('清除', 4), ('聰敏', 4), ('用印', 4), ('劉明翰', 4), ('生產', 4), ('毀謗', 4), ('無線', 3), ('夙', 3), ('林雅雯', 3), ('酉', 3), ('未有', 3), ('從後撞', 3), ('引發', 3), ('佛學', 3), ('楊順福', 3), ('現任', 3), ('車損聲', 3), ('陽明', 3), ('刀', 3), ('水錶', 3), ('永明', 3), ('看診', 3), ('雄體', 3), ('蔡佩庭', 3), ('辰宇', 3), ('文振', 3), ('誹謗', 3), ('人壽', 3), ('徐玉珍', 3), ('人賴映婷', 3), ('中聲', 3), ('走廊', 3), ('紅腫', 3), ('自助餐', 3), ('蔡正', 3), ('萬多元', 3), ('張振泓', 3), ('柒仟伍', 3), ('諮', 3), ('落差', 3), ('歲', 3), ('不還', 3), ('官慧玲', 3), ('雜', 3), ('柏燕', 3), ('說話', 3), ('人陳雅雯', 3), ('葉凱偉', 3), ('人龍', 3), ('秀英', 3), ('楊融', 3), ('花費', 3), ('玉井', 3), ('訂於', 3), ('日盛', 3), ('特種', 3), ('康博堯', 3), ('移送', 3), ('臉頰', 3), ('永昌', 3), ('盜刷', 3), ('復興', 3), ('正明', 3), ('模具', 3), ('顯示', 3), ('三萬元', 3), ('限期', 3), ('全利', 3), ('以及', 3), ('韓菁萍', 3), ('蔡永霖', 3), ('欣怡', 3), ('本糧', 3), ('巷子', 3), ('文山', 3), ('璦', 3), ('勞動', 3), ('鄭吳', 3), ('轉帳', 3), ('人國賢', 3), ('沛蓁', 3), ('借得', 3), ('黃色', 3), ('執照', 3), ('梁家', 3), ('壹佰壹', 3), ('拍屋', 3), ('三筆', 3), ('咆哮', 3), ('事發', 3), ('楷', 3), ('洪立武', 3), ('破洞', 3), ('銀南', 3), ('金孝信', 3), ('同月', 3), ('孫先宗', 3), ('藝術', 3), ('買受人', 3), ('人陳煒', 3), ('短少', 3), ('美人', 3), ('南鑑案', 3), ('林錦溝', 3), ('人孫', 3), ('水源', 3), ('蔡才', 3), ('原佃', 3), ('並回', 3), ('拍', 3), ('劉瑞富', 3), ('佳倍潔', 3), ('應由', 3), ('盧蒨', 3), ('芊', 3), ('要給', 3), ('分院', 3), ('渣打', 3), ('壁', 3), ('合一', 3), ('綠地', 3), ('嘉里', 3), ('需再', 3), ('宏遠', 3), ('受理', 3), ('中小企業', 3), ('華蘭', 3), ('侯佩玲', 3), ('洗車', 3), ('啟惠原', 3), ('融資', 3), ('屋前', 3), ('守', 3), ('山貓', 3), ('資遣費', 3), ('糾葛', 3), ('王思婷', 3), ('徐欣儀', 3), ('假扣押', 3), ('數仟元', 3), ('頡', 3), ('婌', 3), ('蔡同', 3), ('營', 3), ('虎骨酒', 3), ('相識', 3), ('莊惠晶', 3), ('聲稱', 3), ('邱建勳', 3), ('法容', 3), ('飛', 3), ('整理', 3), ('庭院', 3), ('施景中', 3), ('逾', 3), ('庇護', 3), ('潘慧芳', 3), ('楊喬安', 3), ('木地板', 3), ('邱慧芸', 3), ('殘障', 3), ('梅蘭', 3), ('江', 3), ('再次', 3), ('王麗雀', 3), ('子', 3), ('公車站', 3), ('源泉', 3), ('見證人', 3), ('債務人', 3), ('人黃紀', 3), ('玉米', 3), ('肆佰捌', 3), ('豆腐', 3), ('攝影', 3), ('林元', 3), ('餐盤', 3), ('學生', 3), ('蕭', 3), ('人黃懿純', 3), ('安段', 3), ('產下', 3), ('長田', 3), ('起重機', 3), ('垃圾車', 3), ('西湖', 3), ('東往', 3), ('依據', 3), ('亞東', 3), ('佳靖', 3), ('湯朝欽', 3), ('林麗菁', 3), ('桂', 3), ('雪', 3), ('李淑惠', 3), ('小吃', 3), ('人林佳', 3), ('行照', 3), ('陳莉莉', 3), ('保險局', 3), ('召集', 3), ('發生意外', 3), ('舒妤', 3), ('憲章', 3), ('顏面', 3), ('李黃春美', 3), ('洪婉寧', 3), ('鋁門', 3), ('泊', 3), ('限', 3), ('月琴', 3), ('意見書', 3), ('再度', 3), ('出國', 3), ('網', 3), ('妻', 3), ('李金', 3), ('慶涵', 3), ('一街號', 3), ('不斷', 3), ('佰元整', 3), ('蘇郁馨', 3), ('屋簷', 3), ('平均', 3), ('住居', 3), ('樊', 3), ('退', 3), ('人黃浚', 3), ('一對', 3), ('綾', 3), ('周建龍', 3), ('郭希成', 3), ('水池', 3), ('投射燈', 3), ('用均', 3), ('葉凌韻', 3), ('鄭福江', 3), ('疼痛', 3), ('近來', 3), ('不利', 3), ('天明', 3), ('鄭宇晉', 3), ('世', 3), ('艾珍', 3), ('現欲', 3), ('咖', 3), ('盜版', 3), ('時時', 3), ('益民', 3), ('祝壽', 3), ('陳毅', 3), ('采茜', 3), ('許耿豪', 3), ('密碼', 3), ('文賢國', 3), ('三重', 3), ('生財器具', 3), ('撿拾', 3), ('修正', 3), ('婚生子女', 3), ('意涵', 3), ('周淑如', 3), ('影片', 3), ('店員', 3), ('林砂', 3), ('徒步', 3), ('王琬晴', 3), ('計元整', 3), ('加以', 3), ('追逐', 3), ('方便', 3), ('徐詩婷', 3), ('依法', 3), ('林王', 3), ('註冊', 3), ('存', 3), ('金等', 3), ('逕自', 3), ('每次', 3), ('盧家', 3), ('蔡柏洲', 3), ('運送', 3), ('盈涵', 3), ('人竟', 3), ('遷離', 3), ('水康區', 3), ('吳佳鋒', 3), ('否', 3), ('弘霖', 3), ('腰椎', 3), ('漁會', 3), ('謝富', 3), ('你們', 3), ('玉器', 3), ('房客', 3), ('唐麗香', 3), ('鴻佳', 3), ('趁機', 3), ('因其', 3), ('股利', 3), ('喬雯', 3), ('土城', 3), ('廖敏蓉', 3), ('春', 3), ('參佰陸拾', 3), ('香懷', 3), ('鄧', 3), ('人林展', 3), ('六路', 3), ('肆元', 3), ('解散', 3), ('柳', 3), ('殯葬', 3), ('打開', 3), ('下方', 3), ('提款', 3), ('諴', 3), ('蔡昆澤', 3), ('填寫', 3), ('整合', 3), ('林榮冠', 3), ('郭和蒲', 3), ('德欽', 3), ('震動', 3), ('弟弟', 3), ('冒用', 3), ('水流', 3), ('商議', 3), ('與環', 3), ('雅虎', 3), ('女婿', 3), ('鄭采茵', 3), ('複', 3), ('德興', 3), ('出借', 3), ('因病', 3), ('謝季', 3), ('客服', 3), ('再委請', 3), ('距離', 3), ('兩人', 3), ('劉建宗', 3), ('發起', 3), ('現林', 3), ('不甘', 3), ('由東', 3), ('行政', 3), ('定時', 3), ('這種', 3), ('倉庫', 3), ('四筆', 3), ('參萬玖仟元整', 3), ('墘', 3), ('頭期款', 3), ('林振昌', 3), ('簽單', 3), ('鎚', 3), ('擋風玻璃', 3), ('李維霖', 3), ('線路', 3), ('中指', 3), ('次女', 3), ('莊妍貞', 3), ('波', 3), ('住宅區', 3), ('占', 3), ('轉介本件', 3), ('易字', 3), ('張其', 3), ('盧儀芳', 3), ('地區', 3), ('曳', 3), ('造人店', 3), ('姐姐', 3), ('伸手', 3), ('訴訟費用', 3), ('莊林澤', 3), ('羽', 3), ('過低', 3), ('去向不明', 3), ('中度', 3), ('退貨', 3), ('王俊皓', 3), ('五仟元', 3), ('撤告', 3), ('俊', 3), ('吳清宗', 3), ('林貴金', 3), ('保健食品', 3), ('淦', 3), ('人林福雄', 3), ('林勇志', 3), ('叫罵', 3), ('文聲', 3), ('蔡嘉隆', 3), ('少年', 3), ('一定', 3), ('掉', 3), ('百分之', 3), ('日應', 3), ('屏東縣', 3), ('中小', 3), ('造人余', 3), ('人永保', 3), ('承接', 3), ('誘使', 3), ('無骨', 3), ('千芳', 3), ('攜帶', 3), ('永吉', 3), ('許靜文', 3), ('姚', 3), ('人大', 3), ('華銀', 3), ('否認', 3), ('路東', 3), ('植牙', 3), ('價額', 3), ('區郡安路', 3), ('不當得利', 3), ('司促', 3), ('運轉', 3), ('寀', 3), ('金忠', 3), ('東河', 3), ('超車', 3), ('人黃秀', 3), ('藉以', 3), ('二次', 3), ('人林思妤', 3), ('維護', 3), ('經調', 3), ('李昆霖', 3), ('封閉', 3), ('人陳貞吟', 3), ('歉意', 3), ('建築材料', 3), ('聽', 3), ('私自', 3), ('歐', 3), ('柏宏', 3), ('金鳳體傷', 3), ('前夫', 3), ('地基', 3), ('七里香', 3), ('扆', 3), ('壁紙', 3), ('醫護人員', 3), ('林麗美', 3), ('私人', 3), ('經查', 3), ('李昱', 3), ('區尚', 3), ('湖內', 3), ('主', 3), ('商行', 3), ('連佩雯', 3), ('工期', 3), ('亡故', 3), ('道旁', 3), ('答應', 3), ('陶', 3), ('指控', 3), ('榛', 3), ('慢車', 3), ('萍', 3), ('吳映', 3), ('枝葉', 3), ('許家', 3), ('楊尚尉', 3), ('之鐵', 3), ('其車', 3), ('加工', 3), ('不便', 3), ('企銀', 3), ('退保', 3), ('下層', 3), ('張敏珠', 3), ('常', 3), ('圍籬', 3), ('摔傷', 3), ('趁', 3), ('應徵', 3), ('庭', 3), ('自由', 3), ('阿蓮', 3), ('唐芬萍', 3), ('苓', 3), ('柒佰玖拾', 3), ('林崇德', 3), ('門鈴', 3), ('人林慧琴', 3), ('國宅', 3), ('更名', 3), ('李廷緯', 3), ('椅子', 3), ('端', 3), ('區溪', 3), ('愮', 3), ('人葉靜', 3), ('廠內', 3), ('李忠憲', 3), ('加', 3), ('低價', 3), ('加入', 3), ('崇善', 3), ('套', 3), ('明道', 3), ('每張', 3), ('情感', 3), ('陳鴻榮', 3), ('廠房', 3), ('如果', 3), ('林文進', 3), ('承購', 3), ('盧敬文', 3), ('伍佰元則', 3), ('成路', 3), ('東向', 3), ('郭月秀', 3), ('馮', 3), ('獲得', 3), ('寶珠', 3), ('佳益行', 3), ('錆', 3), ('李惠如', 3), ('原定', 3), ('溱', 3), ('早餐', 3), ('年底', 3), ('左腳', 3), ('維持', 3), ('人黃惠珍', 3), ('後門', 3), ('照鏡', 3), ('施逸陽', 3), ('主治醫師', 3), ('湘', 3), ('規格', 3), ('警示', 3), ('書予', 3), ('黃金山', 3), ('三合', 3), ('宏', 3), ('李炎山', 3), ('柯葉碧子', 3), ('春子', 3), ('韌帶', 3), ('會同', 3), ('吳博雄', 3), ('巧', 3), ('吳蘇玲', 3), ('促字', 3), ('假', 3), ('環', 3), ('三紙', 3), ('人林秉叡', 3), ('溍', 3), ('子體', 3), ('愉', 3), ('車位', 3), ('肌肉', 3), ('郭欽水', 3), ('全福', 3), ('潘奕玟', 3), ('大哥大', 3), ('水電工程', 3), ('年來', 3), ('建國', 3), ('豪體傷', 3), ('相互間', 3), ('上半年', 3), ('正盟', 3), ('洪梓傑', 3), ('基祿', 3), ('喬', 3), ('公告', 3), ('郭雪', 3), ('穿', 3), ('該地', 3), ('北邊', 3), ('阮妙賢', 3), ('劉育', 3), ('禛', 3), ('不知情', 3), ('機會', 3), ('在家', 3), ('文體', 3), ('左肩', 3), ('朱曉', 3), ('房屋貸款', 3), ('蔡瑞真', 3), ('台灣省', 3), ('東安', 3), ('造人賴', 3), ('闖越', 3), ('林振明', 3), ('吳承諺', 3), ('吳慧玲', 3), ('吊車', 3), ('段家', 3), ('張志良', 3), ('素梅', 3), ('由受', 3), ('石羽詩', 3), ('統聯', 3), ('嚴錦聰', 3), ('天成', 3), ('洪建豪', 3), ('蒼德', 3), ('毀棄', 3), ('恭', 3), ('行銷', 3), ('素惠', 3), ('兆', 3), ('頸椎', 3), ('七', 3), ('性騷擾', 3), ('拍打', 3), ('歐盛雄', 3), ('摟', 3), ('租給', 3), ('強行', 3), ('曾柏諺', 3), ('美修', 3), ('貨物', 3), ('少年法庭', 3), ('順其', 3), ('自宅', 3), ('增為', 3), ('南化區', 3), ('雨衣', 3), ('瑞芬', 3), ('采妙', 3), ('向上', 3), ('新華', 3), ('李爵麟', 3), ('唐見璋', 3), ('王俊能', 3), ('信街', 3), ('哲持', 3), ('推擠', 3), ('大姆指', 3), ('奇摩', 3), ('明偉', 3), ('撫養', 3), ('同址', 3), ('並使', 3), ('張馨文', 3), ('慈', 3), ('大約', 3), ('裝', 3), ('招攬', 3), ('之外', 3), ('永興', 3), ('駱元', 3), ('鳳爪', 3), ('審核', 3), ('人段', 3), ('吃飯', 3), ('陸佰肆', 3), ('新樓', 3), ('房產', 3), ('之下', 3), ('辦妥', 3), ('錡', 3), ('沈孟嬅', 3), ('張夢麟', 3), ('稅籍', 3), ('段佩琪', 3), ('正文', 3), ('鄭閎', 3), ('四樓', 3), ('勞工保險', 3), ('扭', 3), ('二年', 3), ('數位', 3), ('吳金', 3), ('登旺', 3), ('太元', 3), ('五台', 3), ('泰羽', 3), ('王昕', 3), ('啟峰', 3), ('聊天', 3), ('敲打', 3), ('即日起', 3), ('安康', 3), ('平台', 3), ('零玖拾', 3), ('眼眶', 3), ('車無', 3), ('臥室', 3), ('日將', 3), ('壓縮機', 3), ('捌佰陸', 3), ('雅婷', 3), ('靠近', 3), ('大維', 3), ('文和街', 3), ('散佈', 3), ('蔡泳震', 3), ('農科', 3), ('人顏', 3), ('德昌', 3), ('邀聲', 3), ('周余蒨', 3), ('未給', 3), ('如數', 3), ('滑', 3), ('存證', 3), ('觸摸', 3), ('化學', 3), ('予以', 3), ('組', 3), ('鄭昱婕', 3), ('施龍', 3), ('同棟', 3), ('廖紹齊', 3), ('肋骨', 3), ('人陳春秀', 3), ('楊馥蓉', 3), ('國一', 3), ('號誌', 3), ('育樂', 3), ('方法', 3), ('麥書維', 3), ('否則', 3), ('楊宗翰', 3), ('人則', 3), ('王雅雯', 3), ('崇安', 3), ('人鼎', 3), ('國立', 3), ('鋼筋', 3), ('便利商店', 3), ('漆', 3), ('雄州', 3), ('詹項', 3), ('蕭智益', 3), ('李蕙', 3), ('網頁', 3), ('經銷商', 3), ('張憶', 3), ('往後', 3), ('瘀傷', 3), ('蕭克', 3), ('湖美', 3), ('人黃書', 3), ('李貴珠', 3), ('王儷蓁', 3), ('郭俊麟', 3), ('雅區', 3), ('零件', 3), ('乙案', 3), ('開對', 3), ('殘體', 3), ('冷', 3), ('趁聲', 3), ('誤信', 3), ('與府', 3), ('未附', 3), ('解前', 3), ('二中', 3), ('振南', 3), ('松', 3), ('狀態', 3), ('賣場', 3), ('晏', 3), ('蔡昀璋', 3), ('源', 3), ('而聲', 3), ('李文郁', 3), ('民宅', 3), ('造人劉', 3), ('隱瞞', 3), ('方仲儀', 3), ('職員', 3), ('交易量', 3), ('薛雨', 3), ('清吉', 3), ('成果', 3), ('當月', 3), ('舊識', 3), ('現況', 3), ('查詢', 3), ('揚', 3), ('吉安', 3), ('柒萬陸', 3), ('款壹佰', 3), ('王輝麟', 3), ('有聲', 3), ('致李', 3), ('致渠', 3), ('楊順', 3), ('侵犯', 3), ('區中', 3), ('額', 3), ('姆費', 3), ('計畫', 3), ('王施勉', 3), ('釣蝦場', 3), ('豐瑞', 3), ('王勝', 3), ('董事長', 3), ('按時', 3), ('主機', 3), ('檢號', 3), ('曹晉', 3), ('現經', 3), ('蔡秉達', 3), ('游雅', 3), ('吳逸煒', 3), ('收回', 3), ('林永權', 3), ('超出', 3), ('謀生', 3), ('豔', 3), ('楊惠婷', 3), ('人南君', 3), ('何人', 3), ('人范氏', 3), ('保人', 3), ('不實', 3), ('信華', 3), ('北海', 3), ('橈骨', 3), ('流血', 3), ('右前方', 3), ('車頂', 3), ('桂花', 3), ('葉慶嵩', 3), ('反應', 3), ('人陳國綸', 3), ('王廷軒', 3), ('追討', 3), ('擔保責任', 3), ('壹佰柒拾', 3), ('瑞', 3), ('商標法', 3), ('無效', 3), ('山莊', 3), ('晟', 3), ('分隔', 3), ('辜詩婷', 3), ('之三', 3), ('汽油', 3), ('聽聞', 3), ('班', 3), ('紀錄', 3), ('更改', 3), ('休息', 3), ('謝容', 3), ('人黃志', 3), ('仔', 3), ('自來水', 3), ('倒會', 3), ('智', 3), ('霍', 3), ('胡富', 3), ('先於', 3), ('按期', 3), ('王順國', 3), ('好事', 3), ('郭條', 3), ('肆佰玖拾', 3), ('洗衣', 3), ('自家', 3), ('開價', 3), ('劉辰', 3), ('幫聲', 3), ('所得', 3), ('林進', 3), ('肆萬柒仟', 3), ('一時', 3), ('石育', 3), ('中段', 3), ('手肘', 3), ('岑秉龍', 3), ('價', 3), ('懲罰性', 3), ('人林莉菁', 3), ('參佰肆', 3), ('委託書', 3), ('老人', 3), ('暴力', 3), ('楊韻潔', 3), ('撘', 3), ('催繳', 3), ('方車損', 3), ('李黃慶梅', 3), ('管轄', 3), ('施昭偉', 3), ('巷樓', 3), ('吳佳紋', 3), ('動產', 3), ('右腳', 3), ('高雄縣', 3), ('泉源', 3), ('吳黃明', 3), ('背面', 3), ('環保局', 3), ('羅素', 3), ('高立', 3), ('貳佰參拾', 3), ('現先', 3), ('內部', 3), ('雲車損', 3), ('蘇怡', 3), ('蔡宗諭', 3), ('處於', 3), ('空', 3), ('鄭旭', 3), ('李良軒', 3), ('款柒', 3), ('後續', 3), ('頂里', 3), ('於是', 3), ('人陳芳', 3), ('價格', 3), ('林泓成', 3), ('幫忙', 3), ('張莉婷', 3), ('講義', 3), ('王雅君', 3), ('柯宇晉', 3), ('林月琴', 3), ('楊家', 3), ('某處', 3), ('零伍佰元整', 3), ('勞務費', 3), ('西賢', 3), ('造人程', 3), ('重大', 3), ('涓', 3), ('邱利', 3), ('私人物品', 3), ('區安中', 3), ('逝世', 3), ('哲霖', 3), ('林吉村', 3), ('條規', 3), ('三年', 3), ('安吉', 3), ('隔日', 3), ('建展', 3), ('參萬玖仟', 3), ('何方', 3), ('位', 3), ('脫位', 3), ('世峰', 3), ('小娟', 3), ('衝撞', 3), ('條', 3), ('手掌', 3), ('李迪悠', 3), ('木棒', 3), ('推銷', 3), ('護欄', 3), ('楊聰元', 3), ('結帳', 3), ('昆明', 3), ('葉榮', 3), ('謝裕鋒', 3), ('玖佰參拾', 3), ('當晚', 3), ('宛麟', 3), ('憑', 3), ('因有', 3), ('鋐', 3), ('許文福', 3), ('蔡宜倫', 3), ('顯庭', 3), ('女友', 3), ('捌佰柒拾', 3), ('高速公路', 3), ('蔡林', 3), ('票', 3), ('屏體傷', 3), ('郭亭', 3), ('北園橋', 3), ('人陳芷羚', 3), ('人頭', 3), ('石璨綸', 3), ('張穎擷', 3), ('吳秀葉', 3), ('溪河', 3), ('強調', 3), ('不給', 3), ('正安', 3), ('人麥', 3), ('丈', 3), ('動作', 3), ('天聖', 3), ('奕奕', 3), ('蔡宗弦', 3), ('彩', 3), ('驛', 3), ('施素', 3), ('確為', 3), ('宿舍', 3), ('人陳佳蓉', 3), ('謝君儀', 3), ('王姿琪', 3), ('瑞雲', 3), ('一隻', 3), ('擴點', 3), ('陸元', 3), ('開時', 3), ('郭鴻霆', 3), ('莊松雄', 3), ('人黃鈺雅', 3), ('交流', 3), ('中興', 3), ('美珠', 3), ('經本會', 3), ('停工', 3), ('今日', 3), ('傳', 3), ('蔡益仁', 3), ('配通', 3), ('玹', 3), ('吳宥儀', 3), ('解決', 3), ('不聞不問', 3), ('意舫', 3), ('無傷', 3), ('紙以', 3), ('曾炳魁', 3), ('向仲信', 3), ('吳燕珍', 3), ('款為', 3), ('荃', 3), ('許紋', 3), ('洺', 3), ('賴詹寶嬌', 3), ('李榮', 3), ('周瑋軒', 3), ('楊輝旭', 3), ('百分之五', 3), ('許丞凱', 3), ('蔡旻君', 3), ('楊苓', 3), ('蘇奕容', 3), ('人陳鈺', 3), ('紋', 3), ('茸', 3), ('旭', 3), ('王建明', 3), ('呂宗', 3), ('蕭凱云', 3), ('弟', 3), ('及車', 3), ('王金柱', 3), ('正仁', 3), ('人黃瑋', 3), ('鄧宇傑', 3), ('瀛', 3), ('盈靜', 3), ('另約', 3), ('書費', 3), ('藍海', 3), ('來車', 3), ('侯怡帆', 3), ('吳明儒', 3), ('王泰', 3), ('懷孕', 3), ('李瀠圳', 3), ('捌佰陸拾', 3), ('開系爭', 3), ('雙手', 3), ('並均', 3), ('蔡正成', 3), ('有權', 3), ('李林淑玲', 3), ('逼迫', 3), ('吳雅敏', 3), ('邱靖', 3), ('扣押', 3), ('蔡季瑾', 3), ('轉借', 3), ('產生糾紛', 3), ('鐘', 3), ('實為', 3), ('金秋', 3), ('抵銷', 3), ('五期', 3), ('簽訂契約', 3), ('人陳國舟', 3), ('斯', 3), ('複製', 3), ('合法', 3), ('人趙益', 3), ('鍚', 3), ('藏密', 3), ('蔡貞', 3), ('商談', 3), ('特', 3), ('人林佳憲', 3), ('藥妝店', 3), ('頂美三街', 3), ('之共', 3), ('思源', 3), ('蔡平', 3), ('一家', 3), ('處置', 3), ('貳佰參', 3), ('假借', 3), ('整約', 3), ('小段', 3), ('傳送', 3), ('用錢', 3), ('將原', 3), ('三宅', 3), ('興華', 3), ('鄭靜軒', 3), ('銀花', 3), ('住所地', 3), ('張振欽', 3), ('東段', 3), ('化糞池', 3), ('扣款', 3), ('蔡妙子', 3), ('明星', 3), ('清水', 3), ('郭雨軒', 3), ('犯', 3), ('發', 3), ('褓', 3), ('清風', 3), ('顏高敏', 3), ('美花', 3), ('王郭', 3), ('文凱', 3), ('佛像', 3), ('侑', 3), ('郭素惠', 3), ('言行', 3), ('南山', 3), ('甲魚', 3), ('文元國', 3), ('大安', 3), ('廚具', 3), ('機時', 3), ('各別', 3), ('徐子婷', 3), ('郭靜蓉', 3), ('什麼', 3), ('點選', 3), ('雋', 3), ('器具', 3), ('李張幸', 3), ('蘇恒璋', 3), ('盧春益', 3), ('環河', 3), ('岡', 3), ('徐銘澤', 3), ('等家', 3), ('壹個', 3), ('吳信', 3), ('中油', 3), ('兩車', 3), ('人黃銘', 3), ('廖珍平', 3), ('方泳傑', 3), ('蕭瑞敏', 3), ('張耀仁', 3), ('大路', 3), ('公學', 3), ('吳雅琪', 3), ('郭麗雪', 3), ('黃琮淵', 3), ('緊鄰', 3), ('血腫', 3), ('棒', 3), ('眼部', 3), ('注入', 3), ('木棍', 3), ('謝麗惠', 3), ('補貼', 3), ('臺中市', 3), ('呂杰穎', 3), ('察覺', 3), ('經送', 3), ('現金支付', 3), ('覃陳', 3), ('壹佰玖拾', 3), ('太保', 3), ('左臉', 3), ('卡拉', 3), ('柱子', 3), ('志達', 3), ('月霞', 3), ('吳隱展', 3), ('東橋', 3), ('吳旗', 3), ('吉通', 3), ('滿', 3), ('惟其', 3), ('蔡淑貞', 3), ('萬炎彬', 3), ('任人', 3), ('燈', 3), ('冠', 3), ('持票', 3), ('另自', 3), ('突爆', 3), ('肆佰肆', 3), ('過久', 3), ('家具', 3), ('追', 3), ('將車', 3), ('許素娟', 3), ('抵押借款', 3), ('每天', 3), ('吋', 3), ('磚造', 3), ('喜樹', 3), ('寄至', 3), ('整作', 3), ('遲', 3), ('而涉', 3), ('國慶', 3), ('許涵', 3), ('吳宗', 3), ('賣予', 3), ('黃士', 3), ('上訴', 3), ('六萬元', 3), ('開部', 3), ('許豪文', 3), ('張為', 3), ('涂巧', 3), ('右邊', 3), ('遭拒', 3), ('石頭', 3), ('截肢', 3), ('飽', 3), ('聲聲', 3), ('讚', 3), ('人夏宏毅', 3), ('保費', 3), ('東城', 3), ('床', 3), ('全體', 3), ('號及號', 3), ('經其', 3), ('債權人', 3), ('郭文昆', 3), ('貳佰柒拾', 3), ('洪翊婷', 3), ('吳孟芳', 3), ('謙', 3), ('周麗娟', 3), ('致有', 3), ('分擔', 3), ('人傑', 3), ('方面', 3), ('財損', 3), ('人林煒', 3), ('八街', 3), ('他們', 3), ('推倒', 3), ('電料', 3), ('佯', 3), ('不想', 3), ('王宥', 3), ('興業', 3), ('故本件', 3), ('滲透', 3), ('六段', 3), ('官田', 3), ('汽車旅館', 3), ('志遠', 3), ('昭平', 3), ('分攤', 3), ('榮結', 3), ('鄭雅今', 3), ('結束', 3), ('謝心', 3), ('費時', 3), ('蕭百修', 3), ('翁瑋彤', 3), ('故未', 3), ('籃敏昌', 3), ('轉包', 3), ('之日止', 3), ('張仲賢', 3), ('學園', 3), ('大內', 3), ('子車', 3), ('盧祥', 3), ('斷裂', 3), ('駛入', 3), ('宜真', 3), ('非', 3), ('沈彥', 3), ('張惠娥', 3), ('侯', 3), ('人程', 3), ('全義', 3), ('放於', 3), ('馮瑜麟', 3), ('許芳美', 3), ('唐銘宏', 3), ('王洪', 3), ('王君萍', 3), ('通過', 3), ('地檢', 3), ('調字', 3), ('以壹拾', 3), ('建綸', 3), ('書上', 3), ('新興路', 3), ('鄭羽', 3), ('環保', 3), ('依湘', 3), ('王俊凱', 3), ('蔡宜庭', 3), ('第次', 3), ('延宕', 3), ('汪偉翔', 3), ('姿安', 3), ('號戶', 3), ('沈宓', 3), ('熱水爐', 3), ('秀鳳', 3), ('郭肅', 3), ('追訴權', 3), ('膝蓋', 3), ('張博閔', 3), ('四人', 3), ('人陳瑞吟', 3), ('權利義務', 3), ('鄰屋', 3), ('音量', 3), ('法拍', 3), ('嬋娟', 3), ('人壽保險', 3), ('預繳', 3), ('雙', 3), ('冰', 3), ('貳佰柒', 3), ('蔡政軒', 3), ('退租', 3), ('信函', 3), ('無力', 3), ('持球', 3), ('一層', 3), ('土狗', 3), ('號及', 3), ('鄭俊鴻', 3), ('爭執不下', 3), ('郭建', 3), ('王愛芸', 3), ('林相', 3), ('數萬元', 3), ('股', 3), ('轉述', 3), ('誆', 3), ('馨', 3), ('分鐘', 3), ('侵佔', 3), ('林德榮', 3), ('郭昱宏', 3), ('時即', 3), ('未歸', 3), ('鄭雅麟', 3), ('人陳憶婷', 3), ('許雅婷', 3), ('旁巷', 3), ('桌子', 3), ('杜崇凱', 3), ('畢業', 3), ('看到', 3), ('正橋', 3), ('因風大', 3), ('林怡瑾', 3), ('壹佰零', 3), ('金為', 3), ('全球', 3), ('蒐證', 3), ('劉志強', 3), ('李錫端', 3), ('衣', 3), ('郭宗北', 3), ('淑女', 3), ('電錶', 3), ('激能', 3), ('呂騏', 3), ('杜維哲', 3), ('人方郁', 3), ('少調', 3), ('李雅媚', 3), ('人林例', 3), ('周素綿', 3), ('神像', 3), ('人陳慧玲', 3), ('秋體傷', 3), ('王淑瑩', 3), ('自有', 3), ('酒瓶', 3), ('聶仲澤', 3), ('政源', 3), ('檳榔', 3), ('月容', 3), ('經中', 3), ('五路', 3), ('人峰', 3), ('監理', 3), ('買車', 3), ('廖淑芬', 3), ('仿冒品', 3), ('捌佰玖拾', 3), ('周芳玟', 3), ('醫學院', 3), ('認定', 3), ('煞', 3), ('太太', 3), ('蔣采純', 3), ('探視權', 3), ('一支', 3), ('時長', 3), ('造人陳彥', 3), ('中間', 3), ('年前', 3), ('樟', 3), ('百元', 3), ('薛淑碧', 3), ('等筆', 3), ('人余宛蓉', 3), ('驚嚇', 3), ('絆倒', 3), ('偕同', 3), ('內有', 3), ('郭張', 3), ('張明', 3), ('損聲', 3), ('吳逢玉', 3), ('桐樹', 3), ('疏未', 3), ('退休金', 3), ('人黃冠', 3), ('將對', 3), ('海佃', 3), ('依上', 3), ('數年', 3), ('侯北成', 3), ('王萬祥', 3), ('王幸', 3), ('江俊德', 3), ('茶葉', 3), ('劉家', 3), ('協', 2), ('柯權', 2), ('居正', 2), ('杜宜蓉', 2), ('樓梯', 2), ('鐵材', 2), ('人心', 2), ('東大', 2), ('郭柄志', 2), ('做出', 2), ('人陳禎', 2), ('方景亮', 2), ('取財', 2), ('流入', 2), ('移動', 2), ('載運', 2), ('掛鉤', 2), ('廣車損', 2), ('阮氏玲', 2), ('冠蓉', 2), ('一鑫', 2), ('任體傷', 2), ('有時', 2), ('永', 2), ('盧炎輝', 2), ('就學', 2), ('方順成', 2), ('這樣', 2), ('杜翠蓉', 2), ('蔡耿榮', 2), ('已達', 2), ('放款', 2), ('出院', 2), ('汪林秀盆', 2), ('康清旗', 2), ('存續', 2), ('亞龍', 2), ('人童', 2), ('永久', 2), ('方沛淳', 2), ('睡覺', 2), ('貞', 2), ('立人國', 2), ('人傅', 2), ('安盈', 2), ('賴淑芬', 2), ('碰轟', 2), ('女兒牆', 2), ('健豪', 2), ('蔡宜蓁', 2), ('並拿', 2), ('門柱', 2), ('裸照', 2), ('須依', 2), ('吳鄭', 2), ('名字', 2), ('李錦雀', 2), ('鵝肉', 2), ('沿育北', 2), ('東山', 2), ('不定期', 2), ('老吳', 2), ('人陳淑惠', 2), ('數日', 2), ('嘔吐', 2), ('隨同', 2), ('人富', 2), ('尹', 2), ('水及', 2), ('心', 2), ('緯路路', 2), ('髖部', 2), ('志成', 2), ('榮民', 2), ('楊進', 2), ('丈量', 2), ('開刀手術', 2), ('侯金', 2), ('婚姻關係', 2), ('張家', 2), ('邱凱', 2), ('網購', 2), ('黃淑惠', 2), ('號建地', 2), ('第地號', 2), ('股款', 2), ('並由聲', 2), ('鄭忠典', 2), ('施麗蘭', 2), ('許惠茹', 2), ('鄭佳印', 2), ('慈音', 2), ('翠', 2), ('移車', 2), ('吸乳器', 2), ('水泥製品', 2), ('新加坡', 2), ('闢', 2), ('萬玖仟元', 2), ('鄧煜馨', 2), ('永安路', 2), ('撥', 2), ('一只', 2), ('過來', 2), ('發覺', 2), ('偉志', 2), ('王晟彰', 2), ('遊說', 2), ('鄭秀慧', 2), ('王維', 2), ('登載', 2), ('潘保林', 2), ('自後駛', 2), ('與劉', 2), ('不料', 2), ('桌上', 2), ('因開啟', 2), ('松山區', 2), ('聯', 2), ('榮吉', 2), ('煮飯', 2), ('不理', 2), ('達成協議', 2), ('潘怡君', 2), ('髒亂', 2), ('許賀', 2), ('李玉', 2), ('仍將', 2), ('塏', 2), ('裁切', 2), ('人陳麗珍', 2), ('把玩', 2), ('菸酒', 2), ('麗真', 2), ('零陸拾', 2), ('莊律文', 2), ('渠母', 2), ('耀宏', 2), ('七期', 2), ('配管', 2), ('刪除', 2), ('淩', 2), ('建案', 2), ('致陳偉仁', 2), ('主任委員', 2), ('謝正', 2), ('金新', 2), ('之女', 2), ('因見', 2), ('胡鼎炎', 2), ('李星輝', 2), ('文德', 2), ('連接', 2), ('軍用', 2), ('請領', 2), ('竹鄉', 2), ('葉展富', 2), ('杜治緯', 2), ('胡明宏體傷', 2), ('吳政霖', 2), ('王合瑞', 2), ('稽核', 2), ('樓前', 2), ('俞潔', 2), ('之娛', 2), ('蕭維揚', 2), ('邱士榮', 2), ('親密', 2), ('短', 2), ('埔', 2), ('林亭吟', 2), ('僱用', 2), ('徐子翔', 2), ('及伍', 2), ('蔡勝益', 2), ('多名', 2), ('改造', 2), ('路之號', 2), ('至此', 2), ('購置', 2), ('落', 2), ('以本', 2), ('時上', 2), ('祖母', 2), ('珠願', 2), ('將本件', 2), ('高雄地', 2), ('剩下', 2), ('換貨', 2), ('戴佑全', 2), ('設計師', 2), ('意外', 2), ('交渠', 2), ('劉蘇麗珠', 2), ('搶救無效', 2), ('盛新', 2), ('蔡銀奇', 2), ('吳彥', 2), ('打球', 2), ('偵第號', 2), ('難以', 2), ('非望', 2), ('覓', 2), ('充作', 2), ('金葉', 2), ('人要', 2), ('屋及', 2), ('謝俊宏', 2), ('溫', 2), ('賴書通', 2), ('鄭雅', 2), ('萬仟元整', 2), ('祝', 2), ('抽水', 2), ('專利權人', 2), ('張智芳', 2), ('磚', 2), ('開關', 2), ('金欣', 2), ('王荷', 2), ('本共經', 2), ('戶籍地', 2), ('王保盛', 2), ('張念台', 2), ('女子', 2), ('灑水', 2), ('泡水', 2), ('美國', 2), ('郭上', 2), ('周鉦壹', 2), ('仟玖佰元整', 2), ('瑞文', 2), ('數學', 2), ('鄭雨鈴', 2), ('本件僅', 2), ('王朝', 2), ('印花稅', 2), ('城', 2), ('木林', 2), ('母女', 2), ('梁育瑋', 2), ('劉冠廷', 2), ('立榮', 2), ('郭繼明', 2), ('蕭辰易', 2), ('七米', 2), ('游雅雯', 2), ('三會', 2), ('救治', 2), ('詹', 2), ('沿和緯', 2), ('散播', 2), ('兩顆', 2), ('開窗', 2), ('澤及', 2), ('平交道', 2), ('東森', 2), ('煙燻', 2), ('尊願', 2), ('人魏', 2), ('劉育智', 2), ('林明利', 2), ('煜', 2), ('許原', 2), ('李雅純', 2), ('鼓吹', 2), ('三層樓', 2), ('隆', 2), ('現要', 2), ('韋君', 2), ('濱海', 2), ('暫時', 2), ('文元段', 2), ('翻車', 2), ('李麗貞', 2), ('之作', 2), ('監遂', 2), ('處即', 2), ('惠鈴', 2), ('慢慢', 2), ('肺炎', 2), ('環宇', 2), ('莊云詳', 2), ('拾得', 2), ('吳依倫', 2), ('人陳麗惠', 2), ('安排', 2), ('及北忠街', 2), ('思', 2), ('洪菁怡', 2), ('張梅足', 2), ('第一期', 2), ('李怡靜', 2), ('傷之', 2), ('呂鳳珠', 2), ('瘦仔', 2), ('炎墉', 2), ('儀式', 2), ('藍麗玉', 2), ('花旗', 2), ('威盛', 2), ('竟以', 2), ('咖啡', 2), ('蕭陽修', 2), ('財旺', 2), ('港區', 2), ('李秀珠', 2), ('老板', 2), ('董慧馨', 2), ('郭于', 2), ('王雪麗', 2), ('王浩宇', 2), ('攜回', 2), ('薇', 2), ('柒佰柒', 2), ('劉驊', 2), ('解曉蘭', 2), ('周湘瑤', 2), ('電告', 2), ('二王', 2), ('獅', 2), ('棉被', 2), ('李心雅', 2), ('俸', 2), ('工項', 2), ('劉財華', 2), ('母', 2), ('余', 2), ('曾經', 2), ('薛如芬', 2), ('生物', 2), ('協會', 2), ('僅以', 2), ('同方向', 2), ('思汝體傷', 2), ('萬千', 2), ('閃煞', 2), ('柏翰', 2), ('偉銘', 2), ('賒欠', 2), ('慶平路', 2), ('恫稱', 2), ('徐蘇秀花', 2), ('國基', 2), ('供稱', 2), ('邱顯昌', 2), ('張慶良', 2), ('如玉', 2), ('上點', 2), ('人黃鼎倫', 2), ('西段', 2), ('開釋', 2), ('林奕丞', 2), ('林雅苹', 2), ('氣墊', 2), ('參萬陸', 2), ('不含', 2), ('檢測', 2), ('欠聲', 2), ('領空權', 2), ('智慧財產', 2), ('許祺明', 2), ('手法', 2), ('永勝', 2), ('對本', 2), ('借給', 2), ('陸佰陸', 2), ('群', 2), ('鋁窗', 2), ('碇', 2), ('順財', 2), ('新生', 2), ('代工', 2), ('福慶願', 2), ('林月', 2), ('借到', 2), ('張雅蕾', 2), ('受體', 2), ('開工', 2), ('共約', 2), ('既', 2), ('警車', 2), ('李永傑', 2), ('願書', 2), ('鬆動', 2), ('電影', 2), ('至陽', 2), ('樹', 2), ('因來', 2), ('臀部', 2), ('洪美', 2), ('釘', 2), ('人田仁傑', 2), ('橙', 2), ('亟需', 2), ('邱美', 2), ('商標權', 2), ('人黃峻弘', 2), ('員', 2), ('康耀', 2), ('駕', 2), ('金元寶', 2), ('彝', 2), ('罰單', 2), ('變形', 2), ('周嘉鈴', 2), ('落暉', 2), ('林柏', 2), ('人卓麗香', 2), ('斗六', 2), ('啟恩', 2), ('文化路', 2), ('我要', 2), ('水', 2), ('鄭羽庭', 2), ('冷煤', 2), ('堆置', 2), ('取走', 2), ('劉通智', 2), ('海東', 2), ('速達', 2), ('進雄', 2), ('李慶隆', 2), ('李佑宸', 2), ('要斷', 2), ('蘇文', 2), ('發給', 2), ('耕德', 2), ('空空', 2), ('威脅', 2), ('蘇蔡', 2), ('改良', 2), ('造人顏', 2), ('莊勝宇', 2), ('一輛', 2), ('樓高', 2), ('本市', 2), ('洪月卿', 2), ('高牆', 2), ('違法', 2), ('療費', 2), ('遺囑', 2), ('張極', 2), ('就是', 2), ('絕對', 2), ('同樓', 2), ('美工刀', 2), ('泰倫', 2), ('之狗', 2), ('劉信良', 2), ('九', 2), ('傷勢', 2), ('接至', 2), ('突', 2), ('伊瑄', 2), ('覺得', 2), ('開重', 2), ('區台線', 2), ('大拇指', 2), ('委由', 2), ('決議', 2), ('日新段', 2), ('麻痺', 2), ('出讓', 2), ('造人洪', 2), ('屏東市', 2), ('攸', 2), ('音響', 2), ('一點', 2), ('故年', 2), ('陳淑芬', 2), ('王尚仁', 2), ('蔡世仁', 2), ('不雅', 2), ('協談', 2), ('鄰地', 2), ('范', 2), ('曬', 2), ('顏士', 2), ('正忠', 2), ('發函', 2), ('穿著', 2), ('壞', 2), ('開安中', 2), ('受到', 2), ('下顎', 2), ('改建', 2), ('造人原', 2), ('勸阻', 2), ('婉鈺', 2), ('扣留', 2), ('惟未', 2), ('可德', 2), ('工街', 2), ('秀珠', 2), ('賸', 2), ('珊修', 2), ('麋', 2), ('商借', 2), ('蕭菽芸', 2), ('號門', 2), ('電玩', 2), ('對黃昱翔', 2), ('近日', 2), ('清空', 2), ('建富', 2), ('香火', 2), ('加盟店', 2), ('人林雪麗', 2), ('經理', 2), ('人去樓空', 2), ('膨脹', 2), ('儒', 2), ('郁晟', 2), ('明吉修', 2), ('賭場', 2), ('人林育', 2), ('院', 2), ('蘇隆義', 2), ('傅方儒', 2), ('測量', 2), ('簡知翔', 2), ('棒球', 2), ('聰明', 2), ('面對', 2), ('走上', 2), ('掛號', 2), ('莊弘松', 2), ('中校', 2), ('林怡', 2), ('人林振宇', 2), ('嬌', 2), ('全台通', 2), ('國小旁', 2), ('人分', 2), ('吳佳霖', 2), ('解結', 2), ('整地', 2), ('葉梅桂', 2), ('另以', 2), ('蘇渟文', 2), ('器始', 2), ('洗澡時', 2), ('手指', 2), ('奇寧', 2), ('營利', 2), ('點唱', 2), ('意', 2), ('沿小', 2), ('徵友', 2), ('詹寶嬌', 2), ('素不相識', 2), ('借新', 2), ('松興', 2), ('林重安', 2), ('未立', 2), ('以利', 2), ('柯承宗', 2), ('反悔', 2), ('擴大', 2), ('聖車損', 2), ('莊良純', 2), ('更正', 2), ('移至', 2), ('郭品慧', 2), ('陸仟伍', 2), ('老年', 2), ('戴宜庭', 2), ('原先', 2), ('林昱成', 2), ('啟示', 2), ('呂奇龍', 2), ('點唱機', 2), ('石樹蘭', 2), ('翁志文', 2), ('同聲', 2), ('交通費', 2), ('角及', 2), ('洋', 2), ('聽到', 2), ('姚先生', 2), ('項', 2), ('一般', 2), ('潘嬅', 2), ('窗外', 2), ('月租', 2), ('四萬', 2), ('在國', 2), ('林佩珍', 2), ('吳坤', 2), ('芝角', 2), ('拉傷', 2), ('蔡耿榮願', 2), ('人有', 2), ('租借', 2), ('婆婆', 2), ('擊中', 2), ('澔', 2), ('逃離現場', 2), ('檢查署', 2), ('法上', 2), ('郭瑞枝', 2), ('公寓樓', 2), ('靖喻', 2), ('出席', 2), ('寄放', 2), ('李柏毅', 2), ('毛刷', 2), ('區安明', 2), ('宋沂蓁', 2), ('車隊', 2), ('因失智', 2), ('已故', 2), ('邱靖森', 2), ('名車', 2), ('及安', 2), ('業於', 2), ('莆怡', 2), ('要錢', 2), ('病房', 2), ('派員', 2), ('景', 2), ('前面', 2), ('林宗仁', 2), ('社內里', 2), ('蔡宗恩', 2), ('干擾', 2), ('達旺', 2), ('劉建明', 2), ('歸責', 2), ('鐵板', 2), ('菜刀', 2), ('林秀足', 2), ('出去', 2), ('其替', 2), ('草場', 2), ('時速', 2), ('牌前', 2), ('以黃雅霜', 2), ('建樺', 2), ('何沛歆', 2), ('崇學路', 2), ('林麗琴', 2), ('薪', 2), ('蔡金發', 2), ('逾個', 2), ('促號', 2), ('正杉', 2), ('號電桿', 2), ('蕭士', 2), ('木', 2), ('保證書', 2), ('從樓', 2), ('邱明賢', 2), ('司南', 2), ('鄭雅丰', 2), ('人無體', 2), ('王裕銘', 2), ('施淑霞', 2), ('人之子', 2), ('林展弘', 2), ('魏', 2), ('左偏', 2), ('三村', 2), ('留在', 2), ('不睦', 2), ('格前', 2), ('上課', 2), ('等傷', 2), ('吳珮君', 2), ('北里', 2), ('經濟部', 2), ('林秀盈', 2), ('榮菁莉', 2), ('鄭意', 2), ('李基福', 2), ('蔡芳芬', 2), ('蔡銘徽', 2), ('肆佰參', 2), ('邱和章', 2), ('樑', 2), ('經一', 2), ('反於', 2), ('斜線', 2), ('書房', 2), ('交付給', 2), ('郵寄', 2), ('田雅', 2), ('法人', 2), ('敲擊', 2), ('張翊芳', 2), ('蔡淑苓', 2), ('壹紙', 2), ('嚴冠鈞', 2), ('肱骨', 2), ('鈑', 2), ('並有', 2), ('文謙', 2), ('尚待', 2), ('最高', 2), ('鹽行', 2), ('煌', 2), ('堂主', 2), ('區兵', 2), ('拜訪', 2), ('抵達', 2), ('人林吉村', 2), ('王思懿', 2), ('五元', 2), ('葉釋霞', 2), ('造人陳旻宏', 2), ('賈丁', 2), ('鋪設', 2), ('王榮', 2), ('左手腕', 2), ('施麗紅', 2), ('並請', 2), ('變造', 2), ('黃信', 2), ('貝拉', 2), ('吳羿廷', 2), ('溪尾', 2), ('人林怡君', 2), ('彭', 2), ('遛狗', 2), ('嫈', 2), ('廖見欣', 2), ('鄭一', 2), ('蔡真香', 2), ('芍', 2), ('捏造', 2), ('拆字', 2), ('李佳蔚', 2), ('尹翔', 2), ('屆', 2), ('蔡函', 2), ('枰', 2), ('廖曉菁', 2), ('林語', 2), ('吳忠明', 2), ('欣體傷', 2), ('內門', 2), ('區平', 2), ('劉國英', 2), ('刑', 2), ('肆拾伍', 2), ('家用', 2), ('因頭', 2), ('堅持', 2), ('反擊', 2), ('玉體', 2), ('郭惠珊', 2), ('長興', 2), ('凱翔間', 2), ('鄭滿香', 2), ('掛槍', 2), ('一腳', 2), ('歐建志', 2), ('邱靖雄', 2), ('等情', 2), ('膝', 2), ('王旭華', 2), ('之樓', 2), ('肆萬玖仟元整', 2), ('標準', 2), ('午餐', 2), ('出生年月', 2), ('薛魏', 2), ('致游雅雯', 2), ('下旬', 2), ('用電', 2), ('售價', 2), ('分處', 2), ('王書政', 2), ('小康', 2), ('林宥', 2), ('歐靜', 2), ('片', 2), ('政憲', 2), ('並依', 2), ('張何', 2), ('住院費用', 2), ('疾病', 2), ('張峻榮', 2), ('張國庭', 2), ('大哥', 2), ('人丁', 2), ('吳玥', 2), ('棠', 2), ('踩踏', 2), ('衝', 2), ('怡雯', 2), ('周貴', 2), ('人陳琴治', 2), ('王得明', 2), ('余榮陽', 2), ('哲體傷', 2), ('電廠', 2), ('區慶平路', 2), ('夏忠', 2), ('談判', 2), ('正強', 2), ('鬥爭', 2), ('戴宇', 2), ('伊達', 2), ('犯罪', 2), ('李懷南', 2), ('藝品店', 2), ('洪瑋遠', 2), ('最好', 2), ('懿', 2), ('參仟玖佰陸', 2), ('主管', 2), ('綿車損', 2), ('左耳', 2), ('建昌', 2), ('人持', 2), ('從中', 2), ('郭水金', 2), ('照', 2), ('油箱', 2), ('潘龍慶', 2), ('用及', 2), ('薛周淑惠', 2), ('柒拾伍', 2), ('就要', 2), ('工程處', 2), ('凱基', 2), ('致謝', 2), ('陰莖', 2), ('建宇', 2), ('吳文', 2), ('偵號', 2), ('現對', 2), ('播放', 2), ('羿蓁', 2), ('人黃旨', 2), ('一再', 2), ('格位', 2), ('中興路', 2), ('拆', 2), ('冠彰', 2), ('南工', 2), ('疑因', 2), ('兌領', 2), ('元並', 2), ('李文瑞及', 2), ('並願', 2), ('意願', 2), ('杜美琴', 2), ('王雅瑩', 2), ('收益', 2), ('李孟涵', 2), ('簡上', 2), ('書立', 2), ('民醫院', 2), ('李雨倫', 2), ('交與', 2), ('幸', 2), ('快車道', 2), ('調取', 2), ('柒佰陸', 2), ('修敏', 2), ('零用金', 2), ('旨', 2), ('人莫富名', 2), ('富美', 2), ('參佰壹拾', 2), ('怕', 2), ('跳票', 2), ('字體大小', 2), ('人羅于婷', 2), ('迨', 2), ('肆萬柒仟元整', 2), ('五佰元整', 2), ('造人陳雅晴', 2), ('李美瑩', 2), ('三百萬元', 2), ('鄭才', 2), ('吟', 2), ('蘇梅凰', 2), ('郭昱辰', 2), ('至許', 2), ('盛', 2), ('璟', 2), ('胡正廷', 2), ('人陳靖', 2), ('人陳永蓮', 2), ('欣車損', 2), ('特約', 2), ('涂陳錦子', 2), ('人黃慧', 2), ('勾到', 2), ('張銘傑', 2), ('苡', 2), ('國興', 2), ('石燿嘉', 2), ('曾家豪', 2), ('中及', 2), ('蔣采', 2), ('層樓', 2), ('走動', 2), ('世界', 2), ('剩', 2), ('東向西', 2), ('本原', 2), ('僅需', 2), ('王德榮', 2), ('桶', 2), ('準備', 2), ('住宿', 2), ('桃園', 2), ('鄭璋', 2), ('育英', 2), ('代理', 2), ('凱旋路', 2), ('適對', 2), ('幾萬元', 2), ('早', 2), ('敔', 2), ('飲水機', 2), ('冠勤', 2), ('關住', 2), ('因素', 2), ('建志', 2), ('江中', 2), ('已婚', 2), ('南乙', 2), ('葉基湧', 2), ('朱利', 2), ('小弟', 2), ('點等語', 2), ('鄭英富', 2), ('兄妹', 2), ('樓房', 2), ('板金', 2), ('桂車損', 2), ('鄭沛倫', 2), ('違建', 2), ('許松', 2), ('大昌', 2), ('書為', 2), ('城怡娃', 2), ('產權', 2), ('楊永裕', 2), ('謝明勳', 2), ('志強', 2), ('入店', 2), ('寵物用品', 2), ('鴻陽', 2), ('參佰柒拾', 2), ('吳文堯間', 2), ('簡財發', 2), ('駱遠', 2), ('甚', 2), ('撞擊到', 2), ('切車', 2), ('倫體', 2), ('人作', 2), ('允諾', 2), ('人林慶豪', 2), ('劉林', 2), ('祖公', 2), ('田明巧', 2), ('加盟', 2), ('沈郁修', 2), ('之中', 2), ('標的物', 2), ('溫淑惠', 2), ('水龍', 2), ('葉馨蓮', 2), ('入侵', 2), ('養護', 2), ('二段式', 2), ('食品工業', 2), ('人范元哲', 2), ('逾越', 2), ('砍傷', 2), ('冠淳', 2), ('蔡通榮', 2), ('阻塞', 2), ('新營', 2), ('及金爐', 2), ('訴追', 2), ('王惠香', 2), ('李可弘', 2), ('事先', 2), ('莊惠喻', 2), ('吳湘', 2), ('謝金桃', 2), ('連宸漢', 2), ('球館', 2), ('漆板造', 2), ('寺', 2), ('范文', 2), ('雇用', 2), ('以示', 2), ('謝育君', 2), ('得逞', 2), ('遙控器', 2), ('人方燕蓉', 2), ('楊勝凱', 2), ('洗臉盆', 2), ('邱盈良', 2), ('人林暉祥', 2), ('宴席', 2), ('立德', 2), ('佔據', 2), ('大理石', 2), ('許毅俊', 2), ('德國', 2), ('吳宥潔', 2), ('張予', 2), ('爰', 2), ('區怡安', 2), ('所及', 2), ('白河', 2), ('楷霖', 2), ('逃離', 2), ('控告', 2), ('致陳', 2), ('遲遲', 2), ('許振河', 2), ('順德', 2), ('湘捷', 2), ('以便', 2), ('檢轉介', 2), ('文忠', 2), ('林南吉', 2), ('急難', 2), ('為系爭', 2), ('單行道', 2), ('楊御樞', 2), ('歌曲', 2), ('撞致', 2), ('王逸翔', 2), ('偷', 2), ('愛華', 2), ('謝瑞洋', 2), ('留存', 2), ('轉向', 2), ('天色', 2), ('柏升', 2), ('侵權', 2), ('富強', 2), ('劉張', 2), ('植物', 2), ('劉季', 2), ('楊麗玲', 2), ('搖擺', 2), ('蔡明', 2), ('吳岱螢', 2), ('芫', 2), ('警局', 2), ('涂景文', 2), ('佯為', 2), ('蘇靖棠', 2), ('訂定', 2), ('華西街', 2), ('區嘉', 2), ('番路', 2), ('商請', 2), ('支付現金', 2), ('區內', 2), ('林展', 2), ('施蓉琳', 2), ('人江佳', 2), ('鋼管', 2), ('林珮騏', 2), ('兩棟', 2), ('天堂', 2), ('貨', 2), ('任', 2), ('郭睿', 2), ('蘇黎世', 2), ('辦事處', 2), ('數值', 2), ('八點', 2), ('女嬰', 2), ('元會', 2), ('吳誠緯', 2), ('摔落', 2), ('靖芬', 2), ('鄭仔', 2), ('破皮', 2), ('祖先', 2), ('麒', 2), ('高級中學', 2), ('美郁', 2), ('林貞宏', 2), ('地聲', 2), ('蔣宇帆', 2), ('起以', 2), ('訴', 2), ('商譽', 2), ('怡安路', 2), ('柔米', 2), ('發電設備', 2), ('底', 2), ('翁睿澤', 2), ('牌', 2), ('洪文二體傷', 2), ('願為', 2), ('伍佰柒拾', 2), ('停止', 2), ('蔡志', 2), ('現在', 2), ('劉朝席', 2), ('路前', 2), ('擁有', 2), ('而來', 2), ('驗', 2), ('合作', 2), ('不像', 2), ('自首', 2), ('信義路', 2), ('豐華', 2), ('人葉緣', 2), ('圖利', 2), ('撞及', 2), ('肆佰柒拾', 2), ('榮車損', 2), ('尤坤添', 2), ('轉售', 2), ('犯有', 2), ('吳火城', 2), ('請解', 2), ('王彥', 2), ('手錶', 2), ('姿婷', 2), ('林文濱', 2), ('補強', 2), ('術後', 2), ('並在聲', 2), ('梁典祥', 2), ('吹落', 2), ('性休克', 2), ('再生能源', 2), ('湘雅', 2), ('郭榮傳', 2), ('人林梅桂', 2), ('土葬', 2), ('張燕鈴', 2), ('號自', 2), ('市民', 2), ('腓骨', 2), ('賴', 2), ('保管箱', 2), ('只要', 2), ('結識', 2), ('身上', 2), ('相連', 2), ('外門', 2), ('麥月桃', 2), ('寶煌', 2), ('領班', 2), ('柯尊致', 2), ('有限責任', 2), ('聲明', 2), ('法', 2), ('曹富', 2), ('父', 2), ('列舉', 2), ('意外險', 2), ('濱', 2), ('爾特', 2), ('加上', 2), ('第人張', 2), ('雅車損', 2), ('故請', 2), ('哲修', 2), ('品如', 2), ('並將聲', 2), ('李維庭', 2), ('惠珍', 2), ('楊翎', 2), ('緣聲', 2), ('人賴品', 2), ('火險', 2), ('薛正延', 2), ('區區', 2), ('柒元', 2), ('東寶', 2), ('楊閏光', 2), ('胡秋雲修', 2), ('推展', 2), ('動物醫院', 2), ('路竹', 2), ('一方', 2), ('江辛', 2), ('蔡黃', 2), ('段路', 2), ('元給', 2), ('吳錫平', 2), ('隔音', 2), ('東和路', 2), ('鄭景中', 2), ('跨越', 2), ('恐', 2), ('遊藝場', 2), ('財政部', 2), ('失控', 2), ('精等', 2), ('熊', 2), ('人連', 2), ('記憶卡', 2), ('受損害', 2), ('籤', 2), ('依死', 2), ('余姵蓁', 2), ('區永大', 2), ('互為', 2), ('會期', 2), ('王文智', 2), ('翁永媚', 2), ('二個', 2), ('結冰', 2), ('木松', 2), ('沒收', 2), ('十字路', 2), ('作成', 2), ('黃志忠', 2), ('楊雯雯', 2), ('張然成', 2), ('巫', 2), ('王莉雯', 2), ('白藏盛', 2), ('自對', 2), ('人江秉家', 2), ('一帶', 2), ('還去', 2), ('林麗瑛', 2), ('大量', 2), ('屋門', 2), ('超商', 2), ('玩', 2), ('人之妻', 2), ('求救', 2), ('保障', 2), ('王麗鸞', 2), ('弦', 2), ('洪健豪', 2), ('儒修', 2), ('人陳鈺淞體傷', 2), ('某屋', 2), ('陸佰玖拾', 2), ('菊花', 2), ('光復', 2), ('繳款', 2), ('第二顆', 2), ('吳敏薇', 2), ('籃球場', 2), ('威達', 2), ('左邊', 2), ('蔡錦', 2), ('護士', 2), ('同上址', 2), ('王俊雄', 2), ('吳惠湘', 2), ('順展', 2), ('泰山', 2), ('建智', 2), ('吳坤隆', 2), ('未留', 2), ('酌減', 2), ('莊翠蘭', 2), ('銀勳', 2), ('蔡順斌', 2), ('弘名', 2), ('購', 2), ('子孫', 2), ('合夥人', 2), ('珀', 2), ('規約', 2), ('奇隆', 2), ('平臺', 2), ('李史民', 2), ('洪賢成', 2), ('葉朝信', 2), ('建瑋', 2), ('記錄', 2), ('運動', 2), ('銘刻', 2), ('香車', 2), ('門路', 2), ('豐路', 2), ('由南', 2), ('解曉蘭修', 2), ('施行', 2), ('枷榕', 2), ('撥付', 2), ('城嘉玲', 2), ('陸仟元則', 2), ('十字', 2), ('星期天', 2), ('人因', 2), ('及右', 2), ('吳采宸', 2), ('據致', 2), ('清單', 2), ('執迅號', 2), ('反鎖', 2), ('張淑貞', 2), ('王天', 2), ('豪文修', 2), ('大林', 2), ('宋孟勳', 2), ('信翰', 2), ('寄交', 2), ('同域', 2), ('五筆', 2), ('仍然', 2), ('拆佣', 2), ('憑證', 2), ('生於', 2), ('施嬰桃', 2), ('農曆年', 2), ('汎', 2), ('哀', 2), ('集集', 2), ('季蓮舫', 2), ('進聲', 2), ('短扣', 2), ('明哲', 2), ('駱遠哲', 2), ('官麗華', 2), ('林俊', 2), ('代位', 2), ('竹車損', 2), ('其擾', 2), ('全宏', 2), ('富德街', 2), ('有頭', 2), ('邱秀芬', 2), ('梁均', 2), ('之店', 2), ('彭雅惠', 2), ('號的', 2), ('萬陸仟元整', 2), ('邱俊', 2), ('另將', 2), ('聽力', 2), ('與賴', 2), ('中古車', 2), ('鄭孟藝', 2), ('唐志鴻', 2), ('並用', 2), ('場', 2), ('鄭幸子', 2), ('避', 2), ('此行', 2), ('保險費', 2), ('堤防', 2), ('應該', 2), ('認對', 2), ('蔡忠彥', 2), ('格旁', 2), ('骯髒', 2), ('尾', 2), ('香', 2), ('新民', 2), ('吳家源', 2), ('社內村', 2), ('公廟', 2), ('施以', 2), ('桌個', 2), ('之犬', 2), ('之個', 2), ('其為', 2), ('下列', 2), ('由陳葉', 2), ('人林鉦皓', 2), ('電腦主機', 2), ('開球', 2), ('展店', 2), ('會談', 2), ('住進', 2), ('書狀', 2), ('北屯', 2), ('違章建築', 2), ('媺', 2), ('事實', 2), ('應自', 2), ('留下', 2), ('不好', 2), ('鄭淑芬', 2), ('世振', 2), ('日間', 2), ('賴麗娜', 2), ('姚繼雄', 2), ('故經', 2), ('造人葉', 2), ('許淑敏', 2), ('王淑玲', 2), ('一塊', 2), ('孫永麟', 2), ('用途', 2), ('劉卓', 2), ('葉亭', 2), ('該路號', 2), ('現有', 2), ('下去', 2), ('吳永鉦', 2), ('逃匿', 2), ('李阡瑋', 2), ('遲旻修', 2), ('監視', 2), ('家樂', 2), ('股份公司', 2), ('積極', 2), ('建聲', 2), ('富麗', 2), ('秋格', 2), ('蔡命', 2), ('小雨', 2), ('中並', 2), ('吳秋明', 2), ('因陳', 2), ('疑侵', 2), ('李冠瑤', 2), ('社群', 2), ('餐車', 2), ('洪鳳儀', 2), ('金融', 2), ('貨櫃', 2), ('許進昌', 2), ('豐磊', 2), ('禮', 2), ('及於', 2), ('裙子', 2), ('邱萬', 2), ('再犯', 2), ('記得', 2), ('區福德', 2), ('張本', 2), ('洪語婕', 2), ('葉宇婷', 2), ('陳育', 2), ('知情', 2), ('分得', 2), ('支及', 2), ('弄路', 2), ('宮娥', 2), ('上層', 2), ('地價稅', 2), ('鐵棒', 2), ('交通局', 2), ('嗎', 2), ('張訓銘', 2), ('領走', 2), ('龍潭', 2), ('公司股票', 2), ('人陳昭元', 2), ('陳玉蓮', 2), ('建築工地', 2), ('舞廳', 2), ('鄭慧', 2), ('莊先生', 2), ('點至', 2), ('另拾', 2), ('方', 2), ('李婉津', 2), ('朱敬銘', 2), ('洪嗣淵', 2), ('帆布', 2), ('伍芙茵', 2), ('仲介公司', 2), ('劃傷', 2), ('污損', 2), ('開建', 2), ('法商', 2), ('人陳安群', 2), ('王偉聖', 2), ('資格', 2), ('金鳳', 2), ('動力機械', 2), ('偉森', 2), ('卡號', 2), ('徐奕玄', 2), ('江姿瑩', 2), ('各紙', 2), ('臺北', 2), ('慶賢', 2), ('蔡鳳娥', 2), ('區淵', 2), ('遭其', 2), ('惟車損', 2), ('顒', 2), ('之同額', 2), ('李光', 2), ('運回', 2), ('商', 2), ('年刑', 2), ('因誤', 2), ('超商內', 2), ('總共', 2), ('餘新', 2), ('朱瑞蘭', 2), ('榮珮華', 2), ('高珮菁', 2), ('宇修', 2), ('造人並', 2), ('手上', 2), ('灣', 2), ('閆恒蛟', 2), ('新型', 2), ('吳雅筑', 2), ('建宏', 2), ('減速', 2), ('謝宜蓁', 2), ('邱閔南', 2), ('將門', 2), ('聘請', 2), ('建宏體傷', 2), ('哲宇', 2), ('得手', 2), ('蘇守堂', 2), ('英傑', 2), ('養護費', 2), ('一群', 2), ('面前', 2), ('彭柏翔', 2), ('下陷', 2), ('大樓住戶', 2), ('余佩玲', 2), ('鄭春琅', 2), ('比率', 2), ('竹林', 2), ('兩間', 2), ('扣', 2), ('預警', 2), ('佰元', 2), ('第個', 2), ('美車損', 2), ('版面', 2), ('地磚', 2), ('何柏逸', 2), ('砸破', 2), ('鉛版', 2), ('人樓', 2), ('父母', 2), ('原於', 2), ('韻如', 2), ('楊繁', 2), ('別人', 2), ('施佳維', 2), ('福建', 2), ('公共設施', 2), ('順位', 2), ('申行', 2), ('斜坡', 2), ('續約', 2), ('大和里文', 2), ('忠勇', 2), ('電風扇', 2), ('手腳', 2), ('周子暉', 2), ('妻子', 2), ('聶津珈', 2), ('李正川', 2), ('王郁', 2), ('范鳳嬌', 2), ('直', 2), ('徵信社', 2), ('緊靠', 2), ('討回', 2), ('射擊', 2), ('龍文', 2), ('區公所', 2), ('雇工', 2), ('大德', 2), ('停車費', 2), ('抱住', 2), ('朱怡靜', 2), ('自負', 2), ('李歐梅', 2), ('不租', 2), ('湖美二街', 2), ('地主', 2), ('廟', 2), ('林忠雄', 2), ('另涉', 2), ('吳燕玉', 2), ('扳機', 2), ('墊付', 2), ('運費', 2), ('張玉枝', 2), ('吳誌', 2), ('中斷', 2), ('有壹期', 2), ('凹洞', 2), ('李西志', 2), ('林高暉', 2), ('蔬菜', 2), ('降低', 2), ('架', 2), ('受雇', 2), ('鄭淑雯', 2), ('百貨', 2), ('王敬驊', 2), ('林先生', 2), ('鵬', 2), ('李克洛', 2), ('奢侈', 2), ('周素', 2), ('爸', 2), ('遷入', 2), ('呂盈荻', 2), ('韋寧', 2), ('蕭慶容', 2), ('蘇郁秀', 2), ('應允', 2), ('派', 2), ('重賢', 2), ('人白宜', 2), ('國中', 2), ('吳建志', 2), ('惟體傷', 2), ('洪孜鳳', 2), ('數期', 2), ('拒付', 2), ('成交價', 2), ('由為', 2), ('九人', 2), ('人賴家', 2), ('何仲因', 2), ('如體傷', 2), ('張書堯', 2), ('起來', 2), ('謝麗', 2), ('物體', 2), ('熱水器', 2), ('吳淑貞', 2), ('甘承恩', 2), ('偏名', 2), ('手機號碼', 2), ('文康', 2), ('久', 2), ('會員', 2), ('鄭百凱', 2), ('其至', 2), ('乙事聲', 2), ('抗辯權', 2), ('安通', 2), ('鄒麗華', 2), ('遵堂', 2), ('雇主', 2), ('代繳', 2), ('汶樺', 2), ('紀虹玉', 2), ('子女教育', 2), ('陳嬿竹', 2), ('點止', 2), ('便溺', 2), ('林珮津', 2), ('同地號', 2), ('方麥', 2), ('柒佰參拾', 2), ('增加', 2), ('張芳瑜', 2), ('黃東', 2), ('旅遊', 2), ('之名', 2), ('城國隆', 2), ('進貨', 2), ('李曉萍', 2), ('結凍', 2), ('讓步', 2), ('阻擋', 2), ('遲至', 2), ('設於', 2), ('骨盆', 2), ('進輝', 2), ('鄰', 2), ('油', 2), ('吳弘鈞行', 2), ('主動', 2), ('入屋', 2), ('正當', 2), ('蘇雅鈴', 2), ('芮萱', 2), ('鈞', 2), ('一組', 2), ('莊惠', 2), ('言辭', 2), ('雜物', 2), ('書籍', 2), ('美玉', 2), ('予對造', 2), ('列帳', 2), ('侮辱', 2), ('熱氣', 2), ('再於', 2), ('吳孟峰', 2), ('吳瑞寶', 2), ('邱鈺婷', 2), ('胡凱翔', 2), ('呼吸衰竭', 2), ('瑞修', 2), ('化妝品', 2), ('代轉', 2), ('精工', 2), ('橫突', 2), ('輕型', 2), ('西門町', 2), ('李宜', 2), ('路之交', 2), ('遇到', 2), ('城怡婷', 2), ('龍', 2), ('劉伯村', 2), ('張富發', 2), ('成杏', 2), ('西北', 2), ('怪手', 2), ('吳仲恩', 2), ('格內', 2), ('張鈺玲', 2), ('運用', 2), ('吳芷琳', 2), ('核交號', 2), ('第人黃麗雅', 2), ('朱清', 2), ('緹', 2), ('陸佰零肆', 2), ('之新', 2), ('盧怡安', 2), ('周金亮', 2), ('包裝', 2), ('人陳怡潔', 2), ('人黃舜屏', 2), ('一言不合', 2), ('黃水', 2), ('莊福仁', 2), ('朝貴', 2), ('雙城', 2), ('後並', 2), ('願以', 2), ('莊國森', 2), ('神腦', 2), ('家門', 2), ('翁靖雅修', 2), ('每週五', 2), ('人林怡瑾', 2), ('鄭仲翔', 2), ('肆萬柒仟元', 2), ('李政憲', 2), ('吳永霖', 2), ('蓉', 2), ('造人竟', 2), ('嘉南', 2), ('感覺', 2), ('寄存', 2), ('打掃', 2), ('蘇郁雯', 2), ('素女', 2), ('指摘', 2), ('年事已高', 2), ('造人吳', 2), ('之同址', 2), ('曾女', 2), ('周芳', 2), ('洪來', 2), ('蔡根壯', 2), ('張妙吟', 2), ('壓到', 2), ('清體傷', 2), ('經台灣', 2), ('接觸', 2), ('全身', 2), ('打給', 2), ('工具機', 2), ('薀', 2), ('許幸子', 2), ('許吳栗', 2), ('人卓雅玲', 2), ('人帶', 2), ('一體', 2), ('應繳', 2), ('集', 2), ('三車', 2), ('綑', 2), ('鏡頭', 2), ('回聲', 2), ('課長', 2), ('極限', 2), ('張王菊子', 2), ('丁方均', 2), ('元寶', 2), ('明秀', 2), ('欣容', 2), ('三次', 2), ('動物', 2), ('防火巷', 2), ('彩蓮體傷', 2), ('禾', 2), ('談不成', 2), ('掃把', 2), ('以須', 2), ('頎盛', 2), ('舒彥', 2), ('兵仔', 2), ('造人周', 2), ('自理', 2), ('不勝酒力', 2), ('翁鳴謙', 2), ('經元路', 2), ('起身', 2), ('柯鶯鶯修', 2), ('未達', 2), ('光賢段', 2), ('葶', 2), ('識字', 2), ('蘇美', 2), ('召開', 2), ('惟因', 2), ('青所', 2), ('圓整', 2), ('還', 2), ('美街', 2), ('過大', 2), ('任職期間', 2), ('凱文', 2), ('所訂', 2), ('前時', 2), ('對外', 2), ('修剪', 2), ('致何', 2), ('瓶', 2), ('廟小段', 2), ('傳單', 2), ('換發', 2), ('印', 2), ('鯤', 2), ('計費', 2), ('藝文', 2), ('人告', 2), ('造林', 2), ('粵桂', 2), ('鑑定書', 2), ('營運', 2), ('受有', 2), ('脛骨', 2), ('化案號', 2), ('坤', 2), ('千歲', 2), ('李淑貞', 2), ('綁', 2), ('部位', 2), ('清連', 2), ('蘇林', 2), ('素嬌', 2), ('吳育', 2), ('投資法', 2), ('美容美髮', 2), ('費及', 2), ('人林華訓', 2), ('蔡靜怡', 2), ('安順', 2), ('缺乏', 2), ('建龍', 2), ('理事長', 2), ('人住', 2), ('觀亭', 2), ('棟霖', 2), ('邱馨瑤', 2), ('喇叭', 2), ('照明', 2), ('張智堯', 2), ('林粟', 2), ('內向', 2), ('將油', 2), ('商場', 2), ('因無', 2), ('黃河', 2), ('莊洪美', 2), ('承諾書', 2), ('林正', 2), ('渠父', 2), ('人陳怡慧', 2), ('損人', 2), ('另陳懷', 2), ('林玉枝', 2), ('質押', 2), ('飼主', 2), ('通相姦', 2), ('工用', 2), ('只付', 2), ('核准', 2), ('吳世昌', 2), ('故於', 2), ('予洪秀鑾放', 2), ('吊飾', 2), ('警訊', 2), ('鄭琮', 2), ('紡織', 2), ('其受', 2), ('龔南愷', 2), ('呂炎琴', 2), ('偵續', 2), ('許對', 2), ('人周', 2), ('街由南', 2), ('臨時', 2), ('伍佰陸', 2), ('路肩', 2), ('營收', 2), ('詠翔', 2), ('寧體傷', 2), ('吳聖瑜', 2), ('火鍋', 2), ('說明書', 2), ('劉富雄', 2), ('冷凍', 2), ('管轄區', 2), ('出拳', 2), ('發出', 2), ('信義', 2), ('鐵屑', 2), ('欣願', 2), ('眼睛', 2), ('嫌隙', 2), ('旁路', 2), ('姿惠體傷', 2), ('陳瑩軒', 2), ('鄭守元', 2), ('服飾', 2), ('府安路', 2), ('官路', 2), ('雨傘', 2), ('劉展', 2), ('人林永祥', 2), ('人辰豪', 2), ('婦產科', 2), ('鼓山', 2), ('內湖', 2), ('拒絕往來', 2), ('臨靠', 2), ('龍泉', 2), ('人如', 2), ('騙', 2), ('翁翊航', 2), ('郭嘉琪', 2), ('六年', 2), ('避免', 2), ('屋況', 2), ('爐', 2), ('新美街', 2), ('大燈', 2), ('加強', 2), ('頎方', 2), ('李明德', 2), ('人陳思', 2), ('吳芷楹', 2), ('施瓊惠', 2), ('上建號', 2), ('牙醫', 2), ('蘇秋菊', 2), ('張元碩', 2), ('梁榮峰', 2), ('硬', 2), ('橋上', 2), ('搬回', 2), ('徐香', 2), ('乾洗', 2), ('輪椅', 2), ('有名', 2), ('因已', 2), ('後將', 2), ('人榮珮華', 2), ('關於', 2), ('刨除', 2), ('並稱', 2), ('龔', 2), ('張芸', 2), ('元月', 2), ('莊林堂', 2), ('假意', 2), ('芳', 2), ('鐵工廠', 2), ('薛吉宏', 2), ('登財', 2), ('人林香', 2), ('藍甫卿', 2), ('座落在', 2), ('經堯', 2), ('利率', 2), ('到處', 2), ('鄭鈞豪', 2), ('李蘊恩願', 2), ('節', 2), ('漆晨', 2), ('人陳馨', 2), ('大家', 2), ('人陳雪願', 2), ('文理', 2), ('全家', 2), ('周健保', 2), ('均須', 2), ('尤', 2), ('郭奎菜', 2), ('新店', 2), ('永大', 2), ('待轉', 2), ('撿', 2), ('錢莊', 2), ('區正強', 2), ('屁股', 2), ('高等法院', 2), ('零陸佰元整', 2), ('建材', 2), ('提及', 2), ('新台', 2), ('鵠', 2), ('冠茂', 2), ('之山葉', 2), ('夏邦', 2), ('回程', 2), ('王翁桂', 2), ('八時', 2), ('張碧雄', 2), ('支號', 2), ('品質', 2), ('對照', 2), ('票款', 2), ('方秀櫻', 2), ('高度', 2), ('吳蒼文', 2), ('將來', 2), ('趙國', 2), ('楊宗諭', 2), ('加壓', 2), ('不會', 2), ('前向', 2), ('吉無車損', 2), ('劉良浩', 2), ('陳鴻熙', 2), ('蔡順', 2), ('鄭君平', 2), ('王敬富', 2), ('區欲往', 2), ('人侯季', 2), ('同鄉會', 2), ('李蘊恩', 2), ('即刻', 2), ('沿中', 2), ('李興', 2), ('壓斷', 2), ('大順', 2), ('攤販', 2), ('圓體', 2), ('贓車', 2), ('人黃弘', 2), ('防治法', 2), ('旗津', 2), ('診治', 2), ('一些', 2), ('吳富', 2), ('余奕萱', 2), ('集合', 2), ('蔡玫芬', 2), ('萎縮', 2), ('及筆', 2), ('聯盟', 2), ('陳莉蓁', 2), ('南寧', 2), ('信瑋', 2), ('法師', 2), ('曾素', 2), ('宇洋', 2), ('金雀', 2), ('張湘玉', 2), ('兩支', 2), ('傅星晨', 2), ('樓層', 2), ('鏽蝕', 2), ('六街', 2), ('其未', 2), ('牟利', 2), ('限額', 2), ('偷鐵', 2), ('爆裂', 2), ('漆板', 2), ('柏均', 2), ('蘇逸茹', 2), ('健', 2), ('李雅媛', 2), ('千越', 2), ('人工', 2), ('並且', 2), ('吳芊', 2), ('張奕勝及', 2), ('人陳婉婷', 2), ('傷傷', 2), ('金元', 2), ('該署', 2), ('包括', 2), ('鑽', 2), ('匯至', 2), ('即期支票', 2), ('南投縣', 2), ('退縮', 2), ('整後即', 2), ('進田', 2), ('勾掛', 2), ('憶', 2), ('半年', 2), ('國稅局', 2), ('谷文硯', 2), ('貳佰玖', 2), ('引擎', 2), ('憲無體傷', 2), ('邱敬翔', 2), ('改變', 2), ('林雨', 2), ('之內', 2), ('敬仁', 2), ('酒店', 2), ('數人', 2), ('滲透到', 2), ('法國巴黎', 2), ('林聖憲', 2), ('延期', 2), ('杜銘豪', 2), ('不服', 2), ('何淑娥', 2), ('愉快', 2), ('張怡拙', 2), ('刻', 2), ('單影', 2), ('孫秀', 2), ('瑞宏', 2), ('鄭佳蓉', 2), ('街之號', 2), ('鄭雅云', 2), ('楊玉蓮', 2), ('預告', 2), ('塑膠袋', 2), ('金花', 2), ('莊千儀', 2), ('開支', 2), ('張育敏', 2), ('駛', 2), ('明體', 2), ('古蕙菁', 2), ('推車', 2), ('屬於', 2), ('沈柏穎', 2), ('內埔', 2), ('鄭智聰', 2), ('點多', 2), ('以肆', 2), ('胡嘉哲', 2), ('誤認', 2), ('人見', 2), ('年金', 2), ('七街', 2), ('水費', 2), ('茂輝', 2), ('人陳席', 2), ('瓦斯筒', 2), ('下樓', 2), ('私設', 2), ('邢德堂', 2), ('故無其', 2), ('郭宸', 2), ('人林芷妤', 2), ('相抵', 2), ('經常', 2), ('堆放', 2), ('將新', 2), ('整治', 2), ('閎', 2), ('吳榮峰', 2), ('快速道路', 2), ('志勇', 2), ('人江怡', 2), ('贏祥', 2), ('甲線', 2), ('財根', 2), ('吳侑翰', 2), ('戶頭', 2), ('同為', 2), ('文斗', 2), ('廖錦芳', 2), ('遲延', 2), ('出具', 2), ('葉馨', 2), ('杯', 2), ('不可', 2), ('踩到', 2), ('李金爐', 2), ('備齊', 2), ('靜怡', 2), ('差額', 2), ('劉瀚中', 2), ('劉誼', 2), ('飲酒', 2), ('該紙', 2), ('燙傷', 2), ('百達', 2), ('朱嘉俊', 2), ('磚塊', 2), ('設計費', 2), ('軍', 2), ('製造', 2), ('東建', 2), ('自備', 2), ('料件', 2), ('張軒', 2), ('由人', 2), ('行至', 2), ('王麗容', 2), ('金項鍊', 2), ('載明', 2), ('忠孝路', 2), ('賢車損', 2), ('操', 2), ('十路', 2), ('隱私', 2), ('透天', 2), ('蔡有銘', 2), ('腦膜', 2), ('羅文', 2), ('精神科', 2), ('款柒萬', 2), ('街及', 2), ('與羅貴金', 2), ('以此', 2), ('吳體', 2), ('棍子', 2), ('李維軒', 2), ('女士', 2), ('南工處', 2), ('美蘭', 2), ('知名', 2), ('因請', 2), ('睡眠', 2), ('磨具', 2), ('陸佰玖', 2), ('吳志仁', 2), ('拖車', 2), ('捐', 2), ('溫股', 2), ('直到', 2), ('大漢', 2), ('先訴', 2), ('住樓', 2), ('兩側', 2), ('童惠屏', 2), ('五霖', 2), ('吳冠宏', 2), ('塗裝', 2), ('郭品', 2), ('禕', 2), ('文車損', 2), ('號後', 2), ('郭國津', 2), ('豐', 2), ('租字', 2), ('郭惠琴', 2), ('蔡先生', 2), ('簡萍蘭', 2), ('互提', 2), ('狀並', 2), ('報請', 2), ('張欣', 2), ('算', 2), ('外面', 2), ('簡翊珈', 2), ('初步', 2), ('已依', 2), ('人林秀玲', 2), ('任華', 2), ('前自', 2), ('安溪', 2), ('埩', 2), ('隨後', 2), ('柯葉', 2), ('沈', 2), ('南市區', 2), ('該案', 2), ('法代', 2), ('申棟', 2), ('看屋', 2), ('四兩', 2), ('竹願', 2), ('學歷', 2), ('門牙', 2), ('綸', 2), ('予王', 2), ('陳嬿宸', 2), ('五仟元整', 2), ('高壓', 2), ('鋼釘', 2), ('而據', 2), ('周陳玉霞', 2), ('褘', 2), ('購車', 2), ('張雅涵', 2), ('人林彥', 2), ('隨時', 2), ('陳小姐', 2), ('只能', 2), ('參仟伍', 2), ('障礙物', 2), ('精神疾病', 2), ('感染', 2), ('刷印', 2), ('鏈條', 2), ('諭', 2), ('朱珮珊', 2), ('人黃振育', 2), ('小偷', 2), ('智障', 2), ('水淹', 2), ('宜蘭', 2), ('呈現', 2), ('楊嘉珍', 2), ('號聲', 2), ('門市', 2), ('轉入', 2), ('袁晨昕', 2), ('郭柏', 2), ('接到', 2), ('廖慧卿', 2), ('遠東', 2), ('萬象', 2), ('程登祿', 2), ('尤福', 2), ('任何一方', 2), ('珚', 2), ('所欠', 2), ('玖佰柒拾', 2), ('鄭力', 2), ('宋美英', 2), ('張鏢淙', 2), ('李怡蓉', 2), ('南臺', 2), ('油煙機', 2), ('關閉', 2), ('范耀恒', 2), ('巷作', 2), ('興向聲', 2), ('王非', 2), ('王繪', 2), ('曾慶埏', 2), ('手環', 2), ('載有', 2), ('元元整', 2), ('邱敏雄', 2), ('登記費', 2), ('前門', 2), ('李佳倫', 2), ('泰體傷', 2), ('尤香蓮', 2), ('林岳鋒', 2), ('勒住', 2), ('魏順菊', 2), ('人陳忠謀', 2), ('一份', 2), ('至廷', 2), ('滑板', 2), ('四名', 2), ('永欣星', 2), ('界線', 2), ('民雄鄉', 2), ('藉詞', 2), ('保單', 2), ('邱利秦', 2), ('王得', 2), ('義務人', 2), ('觀光', 2), ('舒晴', 2), ('之夫', 2), ('馬路上', 2), ('趙俊彥', 2), ('玫螢', 2), ('未到', 2), ('技師', 2), ('鄭春來', 2), ('田蘭英', 2), ('鄭誌', 2), ('汪敬逸', 2), ('腹部', 2), ('整平', 2), ('開合', 2), ('死死', 2), ('冷凍庫', 2), ('署', 2), ('街交', 2), ('或物', 2), ('領空', 2), ('嫻', 2), ('楊璧鳳', 2), ('德旺', 2), ('畢即', 2), ('吳信廣', 2), ('李秀', 2), ('大智', 2), ('人黃銘祥', 2), ('之凱基', 2), ('桃園縣', 2), ('日興', 2), ('文豪', 2), ('共張', 2), ('二紙', 2), ('意路', 2), ('錢黛萍', 2), ('視聽', 2), ('國賓', 2), ('職務', 2), ('郭杰霖', 2), ('永祥', 2), ('負荷', 2), ('楊子賢', 2), ('致楊', 2), ('桂珠', 2), ('李黃淑幸', 2), ('關嶺', 2), ('之重', 2), ('必須', 2), ('之應', 2), ('之車損', 2), ('李國明', 2), ('適宜', 2), ('上臂', 2), ('秀紅', 2), ('臨時工', 2), ('人籃', 2), ('先帶', 2), ('號鴨母', 2), ('允若', 2), ('世璋', 2), ('歡', 2), ('蔡素靜', 2), ('王立民', 2), ('林芸', 2), ('博文', 2), ('李丹伶', 2), ('宋東', 2), ('擬於', 2), ('付費', 2), ('餘萬元', 2), ('姿吟', 2), ('王含玉', 2), ('宜泉', 2), ('菀', 2), ('壬區', 2), ('福懋', 2), ('整間', 2), ('整建', 2), ('蔡月英', 2), ('德泰', 2), ('周', 2), ('脅迫', 2), ('電器', 2), ('吳伊婷', 2), ('楊佳蒨', 2), ('沙坑', 2), ('器材', 2), ('偽', 2), ('雙膝', 2), ('駕駛執照', 2), ('沈俊廷', 2), ('王俊智', 2), ('饒育', 2), ('元分', 2), ('廷', 2), ('之合', 2), ('號成', 2), ('許錦桃', 2), ('代表人', 2), ('王澤宏', 2), ('琄', 2), ('魏穆', 2), ('鄭仲妤', 2), ('焜', 2), ('慧', 2), ('曾翊豪', 2), ('純修', 2), ('擺設', 2), ('預付', 2), ('裂開', 2), ('寶林', 2), ('兩重', 2), ('張秋桂', 2), ('邊緣', 2), ('質', 2), ('鯓', 2), ('造人湯', 2), ('受驚嚇', 2), ('標俊辰', 2), ('飲料店', 2), ('言論', 2), ('信', 2), ('大勇', 2), ('謝宗憲', 2), ('造人遲', 2), ('同學', 2), ('執造', 2), ('小拇指', 2), ('林幼綿', 2), ('阮伯洋', 2), ('王哲偉', 2), ('德成', 2), ('人陳義孟', 2), ('賴逸驍', 2), ('谷文西', 2), ('人方彥', 2), ('重新', 2), ('蔡秉昱', 2), ('麗雅', 2), ('逐', 2), ('雙淇淋機', 2), ('湘霖', 2), ('楊東', 2), ('周貴彬', 2), ('段賢安街', 2), ('另告', 2), ('污辱', 2), ('洽談', 2), ('豐泰', 2), ('李至弘', 2), ('林夏吟', 2), ('致何仲因', 2), ('全新', 2), ('至上', 2), ('發放', 2), ('失當', 2), ('未得聲', 2), ('鐵絲網', 2), ('需載', 2), ('柔體傷', 2), ('噴漆', 2), ('朱美娥', 2), ('拿走', 2), ('陀', 2), ('人葉雪', 2), ('綠園', 2), ('騙取', 2), ('林于', 2), ('符合', 2), ('含上', 2), ('橋處', 2), ('邱芳', 2), ('生角', 2), ('濂', 2), ('扯掉', 2), ('莊云', 2), ('令', 2), ('溢出', 2), ('楊玉琴', 2), ('調號', 2), ('周姿儀', 2), ('椅', 2), ('八德', 2), ('李榮泰', 2), ('采昀', 2), ('秋雄', 2), ('郭國', 2), ('指對', 2), ('吳木森', 2), ('湯碧琴', 2), ('得款', 2), ('品瑄', 2), ('優惠', 2), ('孫', 2), ('敗血', 2), ('弘志', 2), ('良德', 2), ('徐俊', 2), ('服務處', 2), ('謝板', 2), ('郭連妹', 2), ('人黃于', 2), ('蓮珍', 2), ('邱裕富', 2), ('李怡健', 2), ('仁武', 2), ('跟隨', 2), ('人黃婉禎', 2), ('齊願', 2), ('義孟車損', 2), ('偽簽', 2), ('吳冠霆', 2), ('胡祐維', 2), ('盧分生', 2), ('侯素', 2), ('世宗', 2), ('遭受', 2), ('年資', 2), ('葉雅芬', 2), ('前輪', 2), ('惟有', 2), ('里長', 2), ('草稿', 2), ('房屋出租', 2), ('每週日', 2), ('人共新', 2), ('儀修', 2), ('余榮陽修', 2), ('由作', 2), ('名單', 2), ('三萬', 2), ('人宅', 2), ('無照', 2), ('關上', 2), ('李心', 2), ('克', 2), ('迄至', 2), ('璿', 2), ('路自', 2), ('溫雅', 2), ('廣慈街', 2), ('滑向', 2), ('蔡燕', 2), ('團體', 2), ('通知單', 2), ('隱匿', 2), ('張義烈', 2), ('林建志', 2), ('人羅莉惠', 2), ('瑪雅', 2), ('之日起', 2), ('收訖', 2), ('林晏瑩', 2), ('闖紅燈', 2), ('玉英', 2), ('造人傅', 2), ('潪', 2), ('背', 2), ('李芷因', 2), ('吳秀桃', 2), ('處分權', 2), ('劉燕', 2), ('並移', 2), ('約制', 2), ('廂式', 2), ('房損', 2), ('惟向', 2), ('因對造', 2), ('之富邦', 2), ('迴', 2), ('人陳宗湖', 2), ('三民路', 2), ('張幸', 2), ('公款', 2), ('林王昭治', 2), ('時至', 2), ('沈偉芳', 2), ('澎湖', 2), ('乃文', 2), ('瑞挺', 2), ('公設', 2), ('凱體傷', 2), ('林秉叡', 2), ('回饋', 2), ('年紀', 2), ('有事', 2), ('扯', 2), ('顓繹車損', 2), ('唐溪', 2), ('邱郁涵', 2), ('在職', 2), ('侯梅', 2), ('手腕', 2), ('陸萬柒仟元整', 2), ('李國文', 2), ('標的', 2), ('蔡宏南', 2), ('紀並', 2), ('平整', 2), ('一座', 2), ('物及', 2), ('宋秀鈴', 2), ('聖心', 2), ('影視', 2), ('藍景澄', 2), ('高低', 2), ('奧', 2), ('皇龍', 2), ('其因', 2), ('專利', 2), ('許政', 2), ('王紫茵', 2), ('事情', 2), ('液化', 2), ('金蘭', 2), ('沛彤', 2), ('國威', 2), ('禹豪', 2), ('買回', 2), ('納稅', 2), ('周峻毅', 2), ('旅客', 2), ('人方國', 2), ('造價', 2), ('朱美燕', 2), ('所地', 2), ('有利可圖', 2), ('角而', 2), ('包', 2), ('典當', 2), ('磚牆', 2), ('工程顧問', 2), ('傅雅萍', 2), ('收費', 2), ('繫', 2), ('森木', 2), ('士', 2), ('荑', 2), ('廖銘姿', 2), ('喻', 2), ('蘇立', 2), ('認證', 2), ('行時', 2), ('西港', 2), ('許嘉雯', 2), ('交貨', 2), ('認聲', 2), ('零肆', 2), ('保有', 2), ('詹志翔', 2), ('洪雅', 2), ('邱素瑛', 2), ('撞倒', 2), ('實驗室', 2), ('手套', 2), ('王煜菱', 2), ('柯文', 2), ('吳柏', 2), ('高仕倫', 2), ('路共食', 2), ('源商', 2), ('取出', 2), ('將於', 2), ('榮興', 2), ('找到', 2), ('藍景純', 2), ('第二款', 2), ('詳談', 2), ('人陳儷', 2), ('區分', 2), ('中止', 2), ('零柒拾', 2), ('受其', 2), ('肺', 2), ('人陳輝陽', 2), ('德利', 2), ('網咖店', 2), ('余振榮', 2), ('漏油', 2), ('鄭繡玉', 2), ('殘疾', 2), ('偵宇', 2), ('運行', 2), ('桌', 2), ('李文玉', 2), ('鄉農', 2), ('連', 2), ('祥', 2), ('林文彬', 2), ('館主', 2), ('美雪', 2), ('去年', 2), ('升', 2), ('張力', 2), ('以腳', 2), ('然上', 2), ('工務段', 2), ('涂慧英', 2), ('故而', 2), ('電暖器', 2), ('薛暖慧', 2), ('靖', 2), ('好友', 2), ('劉玲孜', 2), ('書經', 2), ('孜', 2), ('給他', 2), ('七喜', 2), ('楊文忠', 2), ('安全帶', 2), ('號橋', 2), ('如為', 2), ('晏體傷', 2), ('台塑', 2), ('行之', 2), ('貨運行', 2), ('潘麒蓉', 2), ('興農', 2), ('半夜', 2), ('林幸蓉', 2), ('黃楊', 2), ('儷', 2), ('變電', 2), ('請出', 2), ('楊馥蓉願', 2), ('太陽能', 2), ('劉淑惠', 2), ('徐曉惠', 2), ('另一台', 2), ('月刊', 2), ('不負', 2), ('限於', 2), ('信路', 2), ('劉芸', 2), ('壓克力', 2), ('康祥段', 2), ('吳致', 2), ('鋼骨', 2), ('音樂', 2), ('惟現', 2), ('郭信雄', 2), ('關門', 2), ('人黃珮雯', 2), ('南輝', 2), ('吳雅苓', 2), ('招蓮', 2), ('莫富名', 2), ('人除', 2), ('廖嘉哲', 2), ('八萬元', 2), ('李忍', 2), ('林有福', 2), ('邵能', 2), ('小人', 2), ('敲', 2), ('薰', 2), ('兩廣', 2), ('中之安親', 2), ('肩部', 2), ('兒童', 2), ('蔡幼絨', 2), ('張雅微', 2), ('慶雄', 2), ('彈琴', 2), ('及代', 2), ('李雅琛', 2), ('行健', 2), ('劉金雀', 2), ('郭琬玉', 2), ('其妻', 2), ('人賴筱雅', 2), ('蘇容', 2), ('養育', 2), ('梅', 2), ('園', 2), ('翁月蘭', 2), ('鑽孔', 2), ('邱錦源', 2), ('鄭煌雄', 2), ('彰', 2), ('滿意', 2), ('一位', 2), ('以年', 2), ('棻', 2), ('均遭', 2), ('貼', 2), ('談', 2), ('梧', 2), ('惟該', 2), ('慶豐', 2), ('反對', 2), ('林吉雄', 2), ('傳真', 2), ('民安', 2), ('資金週轉', 2), ('藍景恒', 2), ('謝靜雯', 2), ('無涉', 2), ('狹小', 2), ('楊森', 2), ('洪惠敏', 2), ('愷', 2), ('謨', 2), ('吳清祿', 2), ('鎮段', 2), ('吳崇寬', 2), ('人陳柏翰', 2), ('弘哲', 2), ('手提包', 2), ('以外', 2), ('林宜靜', 2), ('鼻子', 2), ('戶政事務', 2), ('佣金', 2), ('寵物店', 2), ('安全門', 2), ('千文', 2), ('陸佰捌', 2), ('對話', 2), ('五人', 2), ('金鐘', 2), ('婚紗店', 2), ('瑞豐', 2), ('再將', 2), ('林玉理', 2), ('薛碧香', 2), ('誤解', 2), ('三台', 2), ('碰觸', 2), ('棉', 2), ('打壞', 2), ('戴妙臻', 2), ('造字', 2), ('老化', 2), ('仕', 2), ('茜', 2), ('停靠', 2), ('沿文', 2), ('賭博', 1), ('賓士', 1), ('明發', 1), ('社段', 1), ('吟願', 1), ('視線', 1), ('孟筠', 1), ('孫小姐', 1), ('不順', 1), ('小馬', 1), ('遠修', 1), ('於眾', 1), ('輔導', 1), ('示意', 1), ('國八', 1), ('下體', 1), ('建元', 1), ('立方米', 1), ('拌', 1), ('林招蓮', 1), ('中里', 1), ('右昌', 1), ('日聲', 1), ('值為', 1), ('謝天智', 1), ('巾', 1), ('兩仟', 1), ('共來', 1), ('林麗賢', 1), ('福華', 1), ('偽酒', 1), ('吳佩臻', 1), ('適用', 1), ('遷', 1), ('路車', 1), ('時整', 1), ('許金池', 1), ('蘇天', 1), ('傷無車損', 1), ('助理', 1), ('積累', 1), ('時適', 1), ('仁車損', 1), ('工務', 1), ('蔡穎', 1), ('明確', 1), ('修受', 1), ('人萬應', 1), ('虛構', 1), ('拾獲', 1), ('後頭', 1), ('產期', 1), ('由父', 1), ('左腹', 1), ('產物', 1), ('人游', 1), ('雅修', 1), ('蔡靜', 1), ('付與', 1), ('路號將', 1), ('燒錄', 1), ('各壹張', 1), ('人黃瑋豪', 1), ('鐵棍', 1), ('萬澤', 1), ('未來', 1), ('由以', 1), ('許明', 1), ('曾文溪', 1), ('分其', 1), ('講師', 1), ('許凰', 1), ('何馨', 1), ('舉喜', 1), ('柏油', 1), ('林高雄', 1), ('又將', 1), ('但是', 1), ('誠耘', 1), ('一至', 1), ('短缺', 1), ('買賣雙方', 1), ('造人給', 1), ('九樓', 1), ('慶文', 1), ('線芳谷', 1), ('健保加', 1), ('票貼', 1), ('益聖', 1), ('肖仔', 1), ('改修', 1), ('張桂', 1), ('廖敏', 1), ('因未帶', 1), ('庭審', 1), ('共標', 1), ('騙術', 1), ('款柒仟元整', 1), ('大坑', 1), ('查清', 1), ('那條', 1), ('蝶', 1), ('林岱', 1), ('總務', 1), ('永慶', 1), ('丁采', 1), ('人陳逸珊', 1), ('毛氏', 1), ('移置', 1), ('致陳信宏', 1), ('陳淑芳', 1), ('王春貴', 1), ('幾車', 1), ('外露', 1), ('還對', 1), ('由法代', 1), ('試騎', 1), ('黃素', 1), ('林政宜', 1), ('邱志偉', 1), ('如已', 1), ('伍佰貳', 1), ('以地政', 1), ('收尾', 1), ('厚生', 1), ('莊富欄', 1), ('行員', 1), ('蔡佩宜', 1), ('腳掌', 1), ('伍陸仟', 1), ('尤玉子', 1), ('之張', 1), ('旋以', 1), ('耳機', 1), ('之傷', 1), ('枚', 1), ('人陳振雲疏', 1), ('拋繼笨', 1), ('人黃琪芳', 1), ('王建程', 1), ('罵聲', 1), ('楊惠', 1), ('地坪', 1), ('育智', 1), ('污染', 1), ('始開', 1), ('還本', 1), ('眼科', 1), ('衛民', 1), ('金儷', 1), ('圖案', 1), ('災害', 1), ('許郭秋霞', 1), ('王智賢', 1), ('國花', 1), ('深信不疑', 1), ('祀', 1), ('癌症', 1), ('郭愛珍', 1), ('學費', 1), ('冠南', 1), ('米克斯', 1), ('寶格成', 1), ('含稅', 1), ('品潔', 1), ('該期', 1), ('王森', 1), ('佯裝不知', 1), ('貳佰零伍', 1), ('零星', 1), ('床鋪', 1), ('爐火', 1), ('駕敏', 1), ('竊賊', 1), ('儀軒', 1), ('傷腦', 1), ('共紙', 1), ('久之', 1), ('分陸期', 1), ('水果刀', 1), ('未得', 1), ('箱體', 1), ('稅等', 1), ('重量', 1), ('輸贏', 1), ('及時發現', 1), ('共用', 1), ('由母', 1), ('螢體傷', 1), ('起租', 1), ('葉英定', 1), ('葉輝雄', 1), ('落下', 1), ('願作', 1), ('吳坤福', 1), ('素蓮', 1), ('人四人', 1), ('作對', 1), ('笑玲', 1), ('至宅', 1), ('斜', 1), ('西屯路', 1), ('周姿吟', 1), ('金霞', 1), ('鄭王', 1), ('碎渣', 1), ('自營', 1), ('美杏', 1), ('腦出血', 1), ('幫人', 1), ('旅社', 1), ('業於以', 1), ('該張', 1), ('美德', 1), ('新興村', 1), ('帑', 1), ('蔡元生', 1), ('處理廠', 1), ('高傲', 1), ('鄭夙雅新', 1), ('蔡銘儒', 1), ('午月', 1), ('開藥', 1), ('千', 1), ('揚雨青', 1), ('含聲', 1), ('琛', 1), ('黃連', 1), ('飯店', 1), ('蕭穎', 1), ('巷號江', 1), ('經盧文斌', 1), ('謝亞妘', 1), ('內將', 1), ('許博沅', 1), ('屋側', 1), ('書報', 1), ('梅因', 1), ('蔡宇竣', 1), ('索賠', 1), ('兩位', 1), ('幼子', 1), ('禾聯', 1), ('人洪靖', 1), ('掀', 1), ('展業', 1), ('周康榮', 1), ('區南勢', 1), ('戴麗華共乘', 1), ('土方', 1), ('交岔時', 1), ('人林晉', 1), ('劉政忠', 1), ('各陸拾', 1), ('經手', 1), ('致杜', 1), ('重測', 1), ('郭富雄', 1), ('攔查', 1), ('林蘇玉', 1), ('林榮蘭', 1), ('哲騎', 1), ('中年', 1), ('江里', 1), ('沿鹽', 1), ('八樓', 1), ('造人進', 1), ('趁隙', 1), ('模板', 1), ('鑽入', 1), ('保密', 1), ('租房子', 1), ('宋武願', 1), ('勸導', 1), ('訊問', 1), ('因遲', 1), ('零玖', 1), ('為主', 1), ('日內將', 1), ('楊金映', 1), ('經協', 1), ('吳尚曄壹', 1), ('鄭雨鈴修', 1), ('人林梅', 1), ('柯鶯鶯', 1), ('與陳淑鈴', 1), ('照後鏡', 1), ('人渠', 1), ('陸仟玖佰參拾', 1), ('公英二', 1), ('那', 1), ('放行', 1), ('涂梅芳', 1), ('擾人', 1), ('施艷貴', 1), ('台灣倍', 1), ('周碧瑩', 1), ('參仟玖佰柒拾', 1), ('掀翻', 1), ('兒女', 1), ('秋茂園', 1), ('南一', 1), ('怡安', 1), ('卻是', 1), ('吳明烈', 1), ('前庭', 1), ('避而', 1), ('林雲如', 1), ('謾罵', 1), ('乃將', 1), ('人陳妙', 1), ('張鴻坤', 1), ('知言', 1), ('鐘梅', 1), ('造人代為', 1), ('蔡志宏', 1), ('行程', 1), ('裸露', 1), ('智體傷', 1), ('正後方', 1), ('不繳', 1), ('國安', 1), ('甲班', 1), ('廢氣', 1), ('及腳', 1), ('造人岩', 1), ('門上', 1), ('有意', 1), ('錯將', 1), ('新莊', 1), ('國軍', 1), ('貨寄到', 1), ('其常', 1), ('柒仟元則', 1), ('許耿豪願', 1), ('屢次', 1), ('聿', 1), ('吳旗監', 1), ('甄及', 1), ('以將', 1), ('嬰兒', 1), ('飼料', 1), ('吳佩容', 1), ('明後卻', 1), ('至遲', 1), ('吳佳儀', 1), ('周書毅', 1), ('龐韶文', 1), ('技', 1), ('虔涉', 1), ('周瑞峰', 1), ('北方', 1), ('王靖', 1), ('狗叫聲', 1), ('地琥', 1), ('朋與', 1), ('鄭介舜', 1), ('造人永欣', 1), ('鳳', 1), ('郭建麟', 1), ('每到', 1), ('人江宏謙', 1), ('即開', 1), ('消費性', 1), ('楊祐東', 1), ('同仁堂', 1), ('品瑜', 1), ('延', 1), ('二輛', 1), ('藤條', 1), ('王雨利持', 1), ('合德', 1), ('座位', 1), ('分離式', 1), ('永嘉', 1), ('啤酒', 1), ('所涉', 1), ('防震', 1), ('樂', 1), ('富國', 1), ('金慶昌', 1), ('吳貞賢', 1), ('富農', 1), ('邊界', 1), ('圖份當', 1), ('小部份', 1), ('區安富', 1), ('正順', 1), ('王施', 1), ('郭賴君', 1), ('右岸', 1), ('侯明', 1), ('補償費', 1), ('費費', 1), ('專用', 1), ('號遭', 1), ('臺東縣', 1), ('孟學', 1), ('或壹期', 1), ('吳銘章', 1), ('美好', 1), ('會金新', 1), ('文名', 1), ('延後', 1), ('讓續', 1), ('開號', 1), ('萬柒仟元給', 1), ('服務中心', 1), ('窗', 1), ('張琴雯', 1), ('國信', 1), ('感冒', 1), ('溝', 1), ('高秀', 1), ('冒稱', 1), ('包底', 1), ('麥粉', 1), ('李珍', 1), ('拴', 1), ('桃修', 1), ('彈', 1), ('但後向', 1), ('常客', 1), ('對付', 1), ('買下', 1), ('看報', 1), ('網址', 1), ('刑事處分', 1), ('剪', 1), ('號謝', 1), ('揮打', 1), ('汪素', 1), ('百萬元', 1), ('通訊地址', 1), ('噯', 1), ('精神賠償', 1), ('鐵板燒', 1), ('醫藥費', 1), ('適魏郁', 1), ('真車損', 1), ('王吉英', 1), ('一大早', 1), ('造人方彥', 1), ('挪為', 1), ('梵修', 1), ('走向', 1), ('照費及', 1), ('函文', 1), ('路開', 1), ('朱美', 1), ('弱電', 1), ('劉沛', 1), ('林園', 1), ('蔡林秀菊之子', 1), ('氣密', 1), ('依該', 1), ('品晟', 1), ('光學', 1), ('杜順明', 1), ('吳虹偉體', 1), ('人卓鈺', 1), ('拿到', 1), ('中西', 1), ('當下', 1), ('珊願', 1), ('貴婷', 1), ('抵債', 1), ('乙筆', 1), ('邱賴碧蓮', 1), ('放入', 1), ('夾到', 1), ('疾苦', 1), ('魏淑慧', 1), ('把門', 1), ('業於年', 1), ('莊淑鈴', 1), ('章景', 1), ('現岑秉龍', 1), ('王逸琳施', 1), ('智亮', 1), ('裁', 1), ('文集', 1), ('中時', 1), ('派報', 1), ('王以楨', 1), ('建民路', 1), ('滿元', 1), ('展弘', 1), ('超炫', 1), ('圍欄', 1), ('新行', 1), ('劉寧展', 1), ('給角屋', 1), ('信宏為', 1), ('造人陳春菊', 1), ('並告', 1), ('人涂', 1), ('食宿費', 1), ('人陳偉傑', 1), ('賴麗蘭', 1), ('地號筆', 1), ('呂麗蓉', 1), ('軒', 1), ('本行', 1), ('鄭方', 1), ('伍佰參拾', 1), ('盧昕宏', 1), ('肖像', 1), ('廉', 1), ('伍仟玖佰元整', 1), ('慈無車損', 1), ('留言板', 1), ('武昌', 1), ('棚作', 1), ('王怡信', 1), ('尚須', 1), ('李采薇', 1), ('始得', 1), ('及鼎', 1), ('邱馨儀', 1), ('隨身', 1), ('瓊惠修', 1), ('完再', 1), ('呂育', 1), ('電磁', 1), ('林春梅', 1), ('轉用', 1), ('拖欠', 1), ('吳秋', 1), ('鄉二仁', 1), ('劉惠貞', 1), ('歸由三人', 1), ('新義盛', 1), ('柏車損', 1), ('弘瑋', 1), ('慶賢及', 1), ('造人玲', 1), ('並須', 1), ('獲取', 1), ('清美', 1), ('由夏邦', 1), ('致人車', 1), ('所在地', 1), ('螢修', 1), ('狀元', 1), ('千峰', 1), ('孟宇', 1), ('及富', 1), ('大多數', 1), ('揮拳', 1), ('韓國', 1), ('加裝', 1), ('人林榮泰', 1), ('客票', 1), ('週', 1), ('頭頂', 1), ('人林春梅', 1), ('一職', 1), ('金繼強', 1), ('分向', 1), ('瑛', 1), ('斤兩', 1), ('許艷秋', 1), ('因煞', 1), ('之以', 1), ('王旭', 1), ('印刷', 1), ('之權', 1), ('共戶', 1), ('新孝', 1), ('病例', 1), ('蚊', 1), ('權利金', 1), ('咖啡機', 1), ('路科', 1), ('碧煌', 1), ('之計畫', 1), ('尋仇', 1), ('鄭朝榮', 1), ('一部分', 1), ('謝佳純', 1), ('刺痛', 1), ('專用權', 1), ('洪增雄', 1), ('王琮', 1), ('美商', 1), ('保護', 1), ('高級', 1), ('不向方', 1), ('桃園市', 1), ('枷蓉', 1), ('絨', 1), ('康幸義', 1), ('號曳', 1), ('前案', 1), ('貳佰陸拾', 1), ('鳳頭', 1), ('持偽造', 1), ('不然', 1), ('致方', 1), ('平板', 1), ('戰聲', 1), ('仁鴻以', 1), ('大觀路', 1), ('並委由', 1), ('反胃', 1), ('喻等', 1), ('帳目', 1), ('東偉龍願', 1), ('張偉賢', 1), ('良將', 1), ('爭訟', 1), ('謝淑一', 1), ('收銀機', 1), ('張裕玉', 1), ('李清美', 1), ('因欲', 1), ('含有', 1), ('致歐', 1), ('及合', 1), ('程先生', 1), ('錢付', 1), ('郭乃萍', 1), ('仁安', 1), ('店展', 1), ('初期', 1), ('該名', 1), ('大無', 1), ('甄體傷', 1), ('陽興', 1), ('王聖安', 1), ('校門', 1), ('李黃', 1), ('松原', 1), ('樓門', 1), ('乘騎', 1), ('街共次', 1), ('地段', 1), ('沾滿', 1), ('詹柏成', 1), ('柒萬柒仟', 1), ('聰', 1), ('車輛通行', 1), ('劉友榮', 1), ('造人黃仁', 1), ('銀行戶頭', 1), ('翠華車損', 1), ('借取', 1), ('張凱嵐', 1), ('球棒', 1), ('槓頂', 1), ('林梅桂', 1), ('沿該', 1), ('遺族', 1), ('鳳英', 1), ('仟元給', 1), ('張成', 1), ('干興', 1), ('宗明', 1), ('福星', 1), ('迭', 1), ('鄭淑華', 1), ('郭宗德', 1), ('洪建', 1), ('拉門', 1), ('真正', 1), ('怡平路', 1), ('恫嚇', 1), ('續住', 1), ('區政', 1), ('村中', 1), ('電信公司', 1), ('晚班', 1), ('杜素', 1), ('郁翰', 1), ('王惟銘', 1), ('借柒拾', 1), ('以法', 1), ('非常', 1), ('蔡慶義', 1), ('壞死', 1), ('徐彩瑛', 1), ('房地產權', 1), ('鳳昭', 1), ('地質', 1), ('壹千', 1), ('求助', 1), ('人林明', 1), ('敬仁願', 1), ('七張', 1), ('高時', 1), ('何舜弘', 1), ('致魏郁', 1), ('已代為', 1), ('市政', 1), ('投標', 1), ('送到', 1), ('李夢書', 1), ('巷號施', 1), ('裡外', 1), ('御體傷', 1), ('人余林婉惠', 1), ('還當', 1), ('細量', 1), ('天文', 1), ('王裕銘修', 1), ('限制', 1), ('發揮', 1), ('臨停', 1), ('大旺', 1), ('走火', 1), ('之大騏', 1), ('人穎', 1), ('整元整', 1), ('江碧娟', 1), ('廢棄', 1), ('則有', 1), ('居', 1), ('部落', 1), ('提請', 1), ('日給', 1), ('祈佑', 1), ('掙脫', 1), ('張子正', 1), ('再盤', 1), ('一灘', 1), ('人陳育', 1), ('秀貞', 1), ('李建南', 1), ('人雙', 1), ('即母', 1), ('需將', 1), ('第人黃昱翔', 1), ('林宏謀', 1), ('基泉行', 1), ('人陳碧玲', 1), ('人雲冰願', 1), ('日立', 1), ('吳明珍', 1), ('祥向現', 1), ('席間', 1), ('生存', 1), ('宏為', 1), ('韋俊先', 1), ('德川', 1), ('號筆', 1), ('得以', 1), ('林錫玄', 1), ('雪玲', 1), ('顏秀庭', 1), ('雅珠', 1), ('吳明潭', 1), ('瑞體傷', 1), ('房內', 1), ('委外', 1), ('幼獅', 1), ('很煩', 1), ('惡習', 1), ('此為', 1), ('王夢涵', 1), ('五張', 1), ('韓重輝', 1), ('區德民路', 1), ('動工', 1), ('吳葉秀蘭', 1), ('吳林', 1), ('可共見', 1), ('青華', 1), ('南屯區', 1), ('需新', 1), ('大埔', 1), ('明益', 1), ('東偉龍', 1), ('狗吠', 1), ('葛春榮', 1), ('警示燈', 1), ('吳岱', 1), ('櫻桃', 1), ('素慧', 1), ('再行', 1), ('皆須', 1), ('月後將', 1), ('認涉', 1), ('防水層', 1), ('振', 1), ('安娜', 1), ('萬昌街', 1), ('受傷害', 1), ('需先', 1), ('據查', 1), ('楊潔馨', 1), ('接林澤峰', 1), ('正緯', 1), ('得分', 1), ('林麗貞', 1), ('棋車損', 1), ('現代', 1), ('夜', 1), ('所寫', 1), ('接濟', 1), ('胡秋', 1), ('蔡淑敏', 1), ('長達', 1), ('武勝路', 1), ('桂業', 1), ('福仁', 1), ('翁翊航修', 1), ('鄭金梅', 1), ('予陽星', 1), ('先擦', 1), ('窩', 1), ('提醒', 1), ('整為止', 1), ('管溝', 1), ('擔憂', 1), ('紀兆軒', 1), ('區東榮里', 1), ('安全島', 1), ('王城路', 1), ('地界', 1), ('同路', 1), ('布', 1), ('及開', 1), ('其緯', 1), ('佳宜', 1), ('云無車損', 1), ('鄰棟', 1), ('吳政', 1), ('新光人壽', 1), ('莊添全', 1), ('公面', 1), ('砂', 1), ('宋振威', 1), ('側邊', 1), ('純屬', 1), ('朱安瑞', 1), ('傅智', 1), ('姿菁', 1), ('施慶點', 1), ('樊宇銨', 1), ('余美儀', 1), ('謄本', 1), ('高璇', 1), ('傅錦滿', 1), ('竣所', 1), ('劉碧園', 1), ('設攤', 1), ('復健', 1), ('共壹拾', 1), ('失慮', 1), ('房屋結構', 1), ('指述', 1), ('三子', 1), ('造人黃慧純', 1), ('故暫', 1), ('竟將', 1), ('振輝', 1), ('退除', 1), ('雙親', 1), ('頂棚', 1), ('教育館', 1), ('發群', 1), ('林秉謙', 1), ('馬上', 1), ('全家福', 1), ('茂二村', 1), ('及欣昊', 1), ('康秀惠', 1), ('外談', 1), ('全聯', 1), ('李靜國', 1), ('澆下', 1), ('楊梅鎮', 1), ('許冠琳', 1), ('四輛', 1), ('二聲', 1), ('同色', 1), ('殆盡', 1), ('追至', 1), ('別名', 1), ('施博函', 1), ('申請費', 1), ('李文良', 1), ('雨刷箱', 1), ('林玉弘', 1), ('拋光', 1), ('及周', 1), ('人瑛', 1), ('誠願', 1), ('蔡姿瑜', 1), ('瑞鴻', 1), ('現為', 1), ('傳銷', 1), ('巫貴蘭', 1), ('有膽', 1), ('永就里', 1), ('怒斥', 1), ('出境', 1), ('多發性', 1), ('布袋戲', 1), ('有些', 1), ('前次', 1), ('何書薇', 1), ('柱', 1), ('徵求', 1), ('溫室', 1), ('劉雪漪', 1), ('伍佰玖', 1), ('林賴秀枝', 1), ('禁錮', 1), ('謝明', 1), ('歐俊誼', 1), ('惠車損', 1), ('號大御', 1), ('人林酉宸', 1), ('日光燈', 1), ('而居', 1), ('偷竊', 1), ('各式', 1), ('一包', 1), ('機械加工', 1), ('工作日', 1), ('顏伯庭', 1), ('人陳亭', 1), ('聖憲', 1), ('里區', 1), ('經銷', 1), ('郭炳杉欲', 1), ('進門', 1), ('之機', 1), ('南勝', 1), ('元作', 1), ('楠修', 1), ('自覺', 1), ('之原', 1), ('願自', 1), ('蔡素', 1), ('哲', 1), ('正殿', 1), ('李穎', 1), ('巧雲在', 1), ('籃子', 1), ('解繳', 1), ('廖樹松', 1), ('吳盧美', 1), ('美一街', 1), ('藉此', 1), ('木製', 1), ('衰竭', 1), ('純青', 1), ('高正明', 1), ('徐菁穗', 1), ('其調', 1), ('謝佳璋', 1), ('依票', 1), ('松柯', 1), ('鋼架', 1), ('人交', 1), ('雲始', 1), ('郭慧茹', 1), ('古銑', 1), ('周無體傷', 1), ('李國豪', 1), ('表與', 1), ('桀', 1), ('洪秀惠', 1), ('楊宗翰代為', 1), ('葉靜茹', 1), ('一看', 1), ('石場', 1), ('成品', 1), ('便將', 1), ('禹綸', 1), ('煙昭', 1), ('一頁', 1), ('電源', 1), ('區勝華街', 1), ('併發', 1), ('汙水', 1), ('無照駕駛', 1), ('即鄰', 1), ('鄭添清', 1), ('免於', 1), ('埔里', 1), ('誤導', 1), ('翌任', 1), ('台中大智', 1), ('尚餘新', 1), ('侯彥', 1), ('其上', 1), ('吳正霖', 1), ('謝旻樵', 1), ('楊明賢', 1), ('紗門', 1), ('鄭美', 1), ('顯', 1), ('移交', 1), ('蔡景', 1), ('北辰', 1), ('後輪', 1), ('服務態度', 1), ('溫度', 1), ('城里', 1), ('東義', 1), ('額外', 1), ('劉通智修', 1), ('尤素梅', 1), ('服務生', 1), ('字體', 1), ('張伶利', 1), ('願向', 1), ('龐大', 1), ('管', 1), ('內出血', 1), ('洪明凱', 1), ('賴英素', 1), ('李逸琪', 1), ('魯月枝', 1), ('人陳瑩軒', 1), ('徐風凱', 1), ('郭白', 1), ('江佳穎', 1), ('人方泳傑', 1), ('政豪', 1), ('公案', 1), ('開不實', 1), ('楊任華', 1), ('安定', 1), ('致蘇', 1), ('數家', 1), ('企研', 1), ('四台', 1), ('請林', 1), ('環賢北', 1), ('親子', 1), ('相片', 1), ('腎衰竭', 1), ('王韻筑', 1), ('鹽水鎮', 1), ('癲癇', 1), ('蔡郁美', 1), ('第二點', 1), ('經蔡平', 1), ('病重', 1), ('三叉神經', 1), ('乙宣', 1), ('賴翠珊', 1), ('王翊', 1), ('戴俊義', 1), ('謝偉謙', 1), ('中事路', 1), ('立電', 1), ('要招', 1), ('服裝', 1), ('聖俸', 1), ('銀號', 1), ('僱', 1), ('于', 1), ('建福', 1), ('給褓姆', 1), ('沈雅琳', 1), ('心意', 1), ('房貸', 1), ('豪共乘', 1), ('洗碗', 1), ('鴻敏', 1), ('信譽', 1), ('歐成翰', 1), ('殘值', 1), ('柴油', 1), ('蔡博任', 1), ('玖佰參', 1), ('未接', 1), ('寒暑假', 1), ('新台幣玖佰柒', 1), ('租其', 1), ('艾迪', 1), ('照料', 1), ('子黃良全', 1), ('區賢安街', 1), ('尚群', 1), ('只願', 1), ('林文翔', 1), ('骨密度', 1), ('無門', 1), ('交以', 1), ('請傅', 1), ('迄年', 1), ('鄭琦', 1), ('分店', 1), ('郭菊', 1), ('電器行', 1), ('周佩宜', 1), ('雅卿', 1), ('吳榮美', 1), ('竊占聲', 1), ('山地', 1), ('葉麗雪', 1), ('強押', 1), ('造人方', 1), ('王劉子', 1), ('沿台線', 1), ('辰亞', 1), ('王勇添', 1), ('東勢', 1), ('金融風暴', 1), ('稅費', 1), ('本利', 1), ('人黃麗美', 1), ('肆仟玖佰', 1), ('雖經聲', 1), ('唐世河', 1), ('黃嬿融', 1), ('欺騙', 1), ('落葉', 1), ('國中大', 1), ('巷由南', 1), ('偵探', 1), ('現就聲', 1), ('簡調', 1), ('院生', 1), ('金萬', 1), ('診斷', 1), ('宏願', 1), ('吳瑜慶', 1), ('雙掛', 1), ('譽婷', 1), ('交通部', 1), ('推對', 1), ('人衣', 1), ('玫車損', 1), ('現由世祥', 1), ('劉燕菊', 1), ('鄉文賢', 1), ('任克剛', 1), ('電力設施', 1), ('王嘉穗', 1), ('歐承翰將', 1), ('預資', 1), ('康祥', 1), ('林佩瑾', 1), ('人林茂森', 1), ('楊雅晴修', 1), ('莊擁翔', 1), ('膝部', 1), ('提兌', 1), ('研究所', 1), ('惟渠', 1), ('男方', 1), ('流氓', 1), ('借渠', 1), ('吳博雄願', 1), ('菜籃', 1), ('手冊', 1), ('穢語', 1), ('聶盈斐', 1), ('放任', 1), ('盒內', 1), ('劉善羚', 1), ('東冠', 1), ('教練', 1), ('伍佰柒', 1), ('違背', 1), ('掛失', 1), ('竣杰', 1), ('品潔修', 1), ('信坤', 1), ('蔡裕昌', 1), ('外套', 1), ('史', 1), ('前進', 1), ('吳啟淵', 1), ('豐民', 1), ('凎', 1), ('慈元', 1), ('王翊修', 1), ('傅順', 1), ('謝雅婷', 1), ('北和緯', 1), ('楊盛元', 1), ('美學', 1), ('四林村', 1), ('康', 1), ('並因', 1), ('禹辰', 1), ('票二', 1), ('蘇梅珠', 1), ('升高', 1), ('一通', 1), ('拆裝', 1), ('向吳', 1), ('靜止', 1), ('擇一', 1), ('造人黃瓊慧', 1), ('會金', 1), ('款壹佰參拾', 1), ('致施', 1), ('並確', 1), ('酒測', 1), ('造人梁', 1), ('破爛', 1), ('大和路號', 1), ('損且', 1), ('林依凡', 1), ('德均', 1), ('起元', 1), ('評估', 1), ('各戶', 1), ('吳柳', 1), ('郭茂豐', 1), ('拖下來', 1), ('自保', 1), ('閱覽', 1), ('新街', 1), ('原頂訂', 1), ('斷震', 1), ('中受', 1), ('人林彩華', 1), ('尊', 1), ('安盈珊修', 1), ('載楨倫', 1), ('將味味', 1), ('另要', 1), ('母王', 1), ('吊籃', 1), ('泰元', 1), ('拍定', 1), ('減輕', 1), ('新竹市', 1), ('週歲', 1), ('蔡振祥', 1), ('棋展', 1), ('作出', 1), ('款後即', 1), ('佐久政', 1), ('鯤榮', 1), ('所含', 1), ('僅差', 1), ('胡俊哲', 1), ('趟', 1), ('區勝學路', 1), ('人用', 1), ('文三二', 1), ('新安', 1), ('之犬種', 1), ('阮榮', 1), ('興車損', 1), ('全捷', 1), ('芙茵均', 1), ('飯後', 1), ('人陳淑敏', 1), ('褲子', 1), ('裁製', 1), ('顓繹', 1), ('丁美月', 1), ('迎', 1), ('起因', 1), ('之莊', 1), ('謝基祿', 1), ('秋金', 1), ('林澤峰', 1), ('有要', 1), ('材質', 1), ('項海容', 1), ('購物網', 1), ('與陳士', 1), ('染上', 1), ('曾煥清', 1), ('姿惠', 1), ('將陳柏翰', 1), ('薏', 1), ('恩承', 1), ('致林姬', 1), ('竟然', 1), ('義齒', 1), ('景旭', 1), ('邱家良', 1), ('之水易銹', 1), ('王長', 1), ('國中旁', 1), ('體傷車', 1), ('愛', 1), ('大會', 1), ('引起糾紛', 1), ('重點', 1), ('供黃雅玲取', 1), ('手續費', 1), ('吳姓', 1), ('李碧', 1), ('兩路', 1), ('雜工', 1), ('異次元', 1), ('傳票', 1), ('李佳青', 1), ('拿刀', 1), ('三層', 1), ('唯', 1), ('宏有', 1), ('民街', 1), ('當向', 1), ('李靜惠', 1), ('林莫春', 1), ('根治', 1), ('人黃偉', 1), ('執勤', 1), ('男友', 1), ('撞見', 1), ('遺贈', 1), ('留學', 1), ('既成', 1), ('勒索', 1), ('欠租', 1), ('整建工程', 1), ('患光', 1), ('問堂', 1), ('致洪世彥', 1), ('存字', 1), ('汽水', 1), ('報社', 1), ('應買', 1), ('逸群', 1), ('付訖', 1), ('載客', 1), ('人系聲', 1), ('造人田', 1), ('素霞', 1), ('物私權', 1), ('神', 1), ('造人陳宗賢', 1), ('耀德', 1), ('分為期', 1), ('盧志忠', 1), ('三人間', 1), ('將有', 1), ('牙冠', 1), ('周昶佑', 1), ('以陳大育', 1), ('恥骨', 1), ('醫藥', 1), ('清楚', 1), ('詳修', 1), ('肩', 1), ('瑞在', 1), ('石玉直', 1), ('供對造', 1), ('煞車燈', 1), ('除去', 1), ('李天', 1), ('林秋霞', 1), ('單挑', 1), ('溝渠', 1), ('秀瓊', 1), ('莊翌', 1), ('渠旁', 1), ('可依本', 1), ('劉驊瑞', 1), ('人委請', 1), ('已受', 1), ('許源明', 1), ('標得', 1), ('分配利潤', 1), ('之事', 1), ('林世欽', 1), ('油門', 1), ('拼裝車', 1), ('再有', 1), ('人范宇浩', 1), ('號內', 1), ('彭育賢', 1), ('蔡承佑修', 1), ('制傑', 1), ('李雪子', 1), ('且聲', 1), ('倒退', 1), ('十子', 1), ('依聲', 1), ('郭炳杉', 1), ('人春福修', 1), ('符聲', 1), ('唐俊榮', 1), ('大衣', 1), ('耕作', 1), ('威寶', 1), ('之遠傳', 1), ('商工', 1), ('起訴書', 1), ('文昱及', 1), ('蘇玉', 1), ('國綸', 1), ('湖美街', 1), ('壹佰貳', 1), ('電動機', 1), ('三公', 1), ('秀香', 1), ('人收', 1), ('松裕', 1), ('白天', 1), ('圉', 1), ('林秉宏', 1), ('本文', 1), ('楓', 1), ('樂安', 1), ('其以', 1), ('丁明恆', 1), ('周冠弟', 1), ('危險', 1), ('李味珍', 1), ('六樓', 1), ('蔡永宸', 1), ('胡育倫', 1), ('新竹', 1), ('湲', 1), ('裕忠路', 1), ('進明', 1), ('劉梓卿', 1), ('興路號', 1), ('曾葉', 1), ('王姵云', 1), ('瓜葛', 1), ('胡楊', 1), ('號向', 1), ('吳莊', 1), ('隆昌', 1), ('抽血', 1), ('展延', 1), ('金立牌', 1), ('郭金順', 1), ('開戶', 1), ('痛', 1), ('林仕彬', 1), ('連章', 1), ('養子', 1), ('葉崇鴻', 1), ('文城', 1), ('致田雅', 1), ('燒壞', 1), ('金屬', 1), ('柯南', 1), ('清共乘', 1), ('馨慧', 1), ('吳瑞寶之', 1), ('捌佰壹拾', 1), ('週年', 1), ('開健', 1), ('聯單', 1), ('儲存', 1), ('分分許', 1), ('適第人', 1), ('蔓體傷', 1), ('慧願', 1), ('巫居旺', 1), ('糖廠', 1), ('勘查', 1), ('九四', 1), ('惡言', 1), ('左岸', 1), ('李文瑞', 1), ('張宏權', 1), ('分參期', 1), ('處遭', 1), ('瓦舍', 1), ('李昭蓉', 1), ('及及', 1), ('海三', 1), ('淵持', 1), ('音樂聲', 1), ('其班', 1), ('港溪溪', 1), ('如修', 1), ('孫臆文', 1), ('致撞', 1), ('第人黃元成', 1), ('醫學科', 1), ('一品', 1), ('中車損', 1), ('造聲', 1), ('人委由', 1), ('人亡', 1), ('韋兆安', 1), ('楊源順', 1), ('金輪', 1), ('德洋', 1), ('勝街', 1), ('退款', 1), ('日由聲', 1), ('鄰接', 1), ('症', 1), ('資助', 1), ('三餐', 1), ('育民', 1), ('豐車損', 1), ('營業員', 1), ('永添', 1), ('成本費用', 1), ('造人定', 1), ('人黃馨慧', 1), ('用腳', 1), ('資料卡', 1), ('行政院', 1), ('梁耀文', 1), ('樓為', 1), ('松修', 1), ('錐及', 1), ('碗', 1), ('咨翰', 1), ('鋒角', 1), ('邱伯勝', 1), ('兩指', 1), ('致張', 1), ('證物', 1), ('吳奇', 1), ('郭林', 1), ('登錄', 1), ('張秀婷', 1), ('案二', 1), ('水晶體', 1), ('萬約', 1), ('扯破', 1), ('出生日期', 1), ('區知', 1), ('文鏹', 1), ('皇冠', 1), ('沾', 1), ('崩塌', 1), ('互動', 1), ('各樓層', 1), ('一車', 1), ('光照', 1), ('人林伯彰', 1), ('吳昌恭', 1), ('屋瓦', 1), ('孫昌詠', 1), ('證人', 1), ('精組', 1), ('林素', 1), ('張津雪新', 1), ('新約', 1), ('但常', 1), ('磚屋', 1), ('堿', 1), ('鄭惠娟', 1), ('屈辱', 1), ('已個', 1), ('鄰宅', 1), ('約翰', 1), ('滿地', 1), ('性別', 1), ('尊重', 1), ('謝炎松', 1), ('飄入', 1), ('麗燕', 1), ('及壁癌', 1), ('三尊', 1), ('及黃俊賢', 1), ('人共見', 1), ('其侑細', 1), ('形式', 1), ('散熱', 1), ('借調', 1), ('由本會', 1), ('方隆政', 1), ('鄭夙惠', 1), ('楊靖彥', 1), ('陳老闆', 1), ('因樓', 1), ('區往', 1), ('尚未付清', 1), ('造人陳宗湖', 1), ('屋之事', 1), ('王月英', 1), ('提提', 1), ('與鐘', 1), ('與趙俊彥', 1), ('卡張', 1), ('旋將', 1), ('代價', 1), ('林伯松', 1), ('總局', 1), ('人林素', 1), ('模壹個', 1), ('嗣持', 1), ('蔡耀川', 1), ('資本額', 1), ('左上', 1), ('南院', 1), ('楊瓊蓉', 1), ('同案', 1), ('點心', 1), ('損鄰', 1), ('紅山', 1), ('鄭弘儀', 1), ('讓售', 1), ('輻射', 1), ('畇', 1), ('健銘', 1), ('走出', 1), ('亙願', 1), ('茆員銘', 1), ('找補', 1), ('和平路', 1), ('即利信', 1), ('進葉燦盛', 1), ('李曉玟', 1), ('張吉宏', 1), ('王姿燕', 1), ('共塊', 1), ('金聯', 1), ('腔', 1), ('無影', 1), ('四佰元整', 1), ('區華路', 1), ('並向聲', 1), ('過境', 1), ('至於', 1), ('投入', 1), ('洪靖雅', 1), ('邵鑑', 1), ('冒', 1), ('帶往', 1), ('理財', 1), ('李之鶴人涉', 1), ('增長', 1), ('三岔路', 1), ('林芷筠', 1), ('品牌', 1), ('有裂損', 1), ('顏世利', 1), ('鄭孟儒', 1), ('元後即', 1), ('尖物', 1), ('江該', 1), ('應雪琴', 1), ('哀亞', 1), ('瑞珠', 1), ('訓受', 1), ('西邊', 1), ('北忠路', 1), ('故轉介', 1), ('而將', 1), ('何柏逸車損', 1), ('二百元', 1), ('勦', 1), ('幸名', 1), ('游泳', 1), ('致電', 1), ('歸由林', 1), ('查明', 1), ('追償', 1), ('印文', 1), ('蓮體傷', 1), ('歐金魯', 1), ('錦瓶', 1), ('與佑民', 1), ('收支', 1), ('舉辦活動', 1), ('祭壇', 1), ('存檔', 1), ('左足', 1), ('整未給', 1), ('楊國楨', 1), ('介紹費', 1), ('辦竣', 1), ('將曾', 1), ('向陳秋雄', 1), ('弄底', 1), ('二街育德', 1), ('極大', 1), ('綜', 1), ('投宿在', 1), ('想', 1), ('枷蓉願', 1), ('難線', 1), ('年息', 1), ('阻礙', 1), ('謝瑩儒', 1), ('呂道明', 1), ('成本', 1), ('理髮', 1), ('徐嬌春', 1), ('孫水麟', 1), ('錄用', 1), ('看顧', 1), ('民生東路', 1), ('巖', 1), ('框片', 1), ('人性', 1), ('黑暗', 1), ('許春娥', 1), ('陸仟玖佰柒拾', 1), ('王沅雄', 1), ('河底', 1), ('吳佩芸', 1), ('處藏放時', 1), ('名叫', 1), ('拍攝', 1), ('吳塾', 1), ('窗玻璃', 1), ('妻請', 1), ('法器', 1), ('薏軒', 1), ('並搬', 1), ('人跌', 1), ('扳手', 1), ('華美', 1), ('人林吟姿', 1), ('江秀綿修', 1), ('富棟', 1), ('驚人', 1), ('順國認', 1), ('蔡采蓉', 1), ('永平', 1), ('快', 1), ('故任', 1), ('成人', 1), ('小客', 1), ('人陳佩', 1), ('發包', 1), ('公益', 1), ('十分', 1), ('林世菁', 1), ('黃景', 1), ('謝吳', 1), ('連繫', 1), ('丁品', 1), ('失智症', 1), ('貞雅', 1), ('楊朝', 1), ('土字', 1), ('勞雇', 1), ('珽', 1), ('娶', 1), ('不見蹤影', 1), ('兼任', 1), ('整店', 1), ('以息', 1), ('水泥漿', 1), ('張君毓', 1), ('爐店', 1), ('處及', 1), ('胡潛', 1), ('監察', 1), ('林榮興', 1), ('判決書', 1), ('書信', 1), ('鈕扣', 1), ('噴濺', 1), ('鄭繡', 1), ('王威翔', 1), ('金連', 1), ('營養', 1), ('張宸', 1), ('巷交岔時', 1), ('此車', 1), ('花台', 1), ('之貓', 1), ('郭秀娥', 1), ('經人', 1), ('林柏譯', 1), ('幹麻請', 1), ('造裝', 1), ('及仲岐', 1), ('楊明華', 1), ('材料費', 1), ('要將', 1), ('壹個給', 1), ('識之永旭', 1), ('吳聰賢', 1), ('李佳倫修', 1), ('猛然', 1), ('受害者', 1), ('經營者', 1), ('車載', 1), ('週邊', 1), ('徐惠瑛', 1), ('王靖淑修', 1), ('信徒', 1), ('三舍', 1), ('李承翰', 1), ('以手將', 1), ('欣受', 1), ('市南區', 1), ('李雅芬', 1), ('李炯銘', 1), ('舒服', 1), ('有緣', 1), ('申訴', 1), ('另個', 1), ('上西向', 1), ('地有', 1), ('晃動', 1), ('街機', 1), ('亦須', 1), ('第款', 1), ('凱斯', 1), ('儀表板', 1), ('各大', 1), ('未裝', 1), ('載往', 1), ('貴元', 1), ('管理人員', 1), ('訓誡', 1), ('迄同', 1), ('盡', 1), ('橋墩下', 1), ('雅體傷', 1), ('楊輝旭修', 1), ('起角', 1), ('安雄', 1), ('林茂森', 1), ('便宜', 1), ('張君毓願', 1), ('碼', 1), ('國際貿易', 1), ('秦', 1), ('偵騎', 1), ('吳柏辰', 1), ('搖管機', 1), ('之千越', 1)] \n",
      "\n",
      " [] \n",
      "\n",
      " [('，', 39144), ('、', 25618), ('。', 15446), ('：', 9771), ('）', 8811), ('（', 8657), ('－', 5733), ('-', 2931), ('〈', 2732), ('〉', 2574), ('\\\\', 2015), ('；', 440), ('...', 414), ('」', 172), ('「', 168), ('？', 115), ('○', 54), ('......', 35), ('─', 33), ('/', 27)]\n"
     ]
    }
   ],
   "source": [
    "chinese_list, sign_list, dig_english_list = [], [], []\n",
    "for word, count in cleaned_word_dict:\n",
    "    for char in word:\n",
    "        if char >= u'\\u4E00' and char <= u\"\\u9FA5\":\n",
    "            chinese_list.append((word, count))\n",
    "        elif (char >= u'\\u0041' and char <= u'\\u005A') or (char >= u'\\u0061' and char <= u'\\u007A') or (char >= u'\\u0030' and char <= u'\\u0039'):\n",
    "            dig_english_list.append((word, count))\n",
    "            break\n",
    "        else:\n",
    "            sign_list.append((word, count))\n",
    "            break\n",
    "sorted_dig_english_list = sorted(set(dig_english_list), key=lambda x: x[1], reverse=True)\n",
    "sorted_sign_list = sorted(set(sign_list), key=lambda x: x[1], reverse=True)\n",
    "sorted_chinese_list = sorted(set(chinese_list), key=lambda x: x[1], reverse=True)\n",
    "print(\"chinese_word: \", len(sorted_chinese_list))\n",
    "print(\"dig_english_word: \", len(sorted_dig_english_list))\n",
    "print(\"sign_count: \", len(sorted_sign_list))\n",
    "print(sorted_chinese_list[:10000], '\\n\\n', sorted_dig_english_list[:50], '\\n\\n', sorted_sign_list[:20])"
   ]
  },
  {
   "cell_type": "markdown",
   "metadata": {},
   "source": [
    "# Build Vocabulary"
   ]
  },
  {
   "cell_type": "code",
   "execution_count": 31,
   "metadata": {
    "collapsed": true
   },
   "outputs": [],
   "source": [
    "tokenizer = Tokenizer(num_words=20000, filters='\"#$%&()+,-./:;<=>@[\\\\]^_`{|}~\\t\\n')"
   ]
  },
  {
   "cell_type": "code",
   "execution_count": 32,
   "metadata": {
    "collapsed": false
   },
   "outputs": [
    {
     "name": "stdout",
     "output_type": "stream",
     "text": [
      "Automatically train vocab & tokenizer...\n",
      "Found 17180 unique tokens\n"
     ]
    }
   ],
   "source": [
    "print('Automatically train vocab & tokenizer...')\n",
    "tokenizer.fit_on_texts(cut_train_sentences)\n",
    "\n",
    "train_sequences = tokenizer.texts_to_sequences(cut_train_sentences)\n",
    "\n",
    "word_index = tokenizer.word_index\n",
    "print('Found %s unique tokens' % len(word_index))"
   ]
  },
  {
   "cell_type": "markdown",
   "metadata": {},
   "source": [
    "# Tf-idf Feature Extraction"
   ]
  },
  {
   "cell_type": "markdown",
   "metadata": {},
   "source": [
    "## Word-Level"
   ]
  },
  {
   "cell_type": "code",
   "execution_count": 33,
   "metadata": {
    "collapsed": false
   },
   "outputs": [
    {
     "name": "stderr",
     "output_type": "stream",
     "text": [
      "D:\\Python\\lib\\site-packages\\sklearn\\feature_extraction\\text.py:1059: FutureWarning: Conversion of the second argument of issubdtype from `float` to `np.floating` is deprecated. In future, it will be treated as `np.float64 == np.dtype(float).type`.\n",
      "  if hasattr(X, 'dtype') and np.issubdtype(X.dtype, np.float):\n"
     ]
    },
    {
     "name": "stdout",
     "output_type": "stream",
     "text": [
      "Word vectorization process Done!\n"
     ]
    }
   ],
   "source": [
    "word_vectorizer = TfidfVectorizer(\n",
    "    sublinear_tf=True,\n",
    "    strip_accents='unicode',\n",
    "    analyzer='word',\n",
    "    token_pattern=r'\\w{1,}',\n",
    "    ngram_range=(1, 6),\n",
    "    max_features=20000\n",
    ")\n",
    "word_vectorizer.fit(cut_train_sentences)\n",
    "train_word_features = word_vectorizer.transform(cut_train_sentences)\n",
    "print('Word vectorization process Done!')"
   ]
  },
  {
   "cell_type": "code",
   "execution_count": 34,
   "metadata": {
    "collapsed": false
   },
   "outputs": [],
   "source": [
    "train_tfidf_features = train_word_features.tocsr()"
   ]
  },
  {
   "cell_type": "code",
   "execution_count": 35,
   "metadata": {
    "collapsed": false
   },
   "outputs": [
    {
     "data": {
      "text/plain": [
       "(6277, 20000)"
      ]
     },
     "execution_count": 35,
     "metadata": {},
     "output_type": "execute_result"
    }
   ],
   "source": [
    "train_tfidf_features.shape"
   ]
  },
  {
   "cell_type": "markdown",
   "metadata": {},
   "source": [
    "## Temporary Veiw & Processing Col Features"
   ]
  },
  {
   "cell_type": "code",
   "execution_count": 36,
   "metadata": {
    "collapsed": false
   },
   "outputs": [],
   "source": [
    "cols = list(train_df.columns)"
   ]
  },
  {
   "cell_type": "code",
   "execution_count": 37,
   "metadata": {
    "collapsed": false
   },
   "outputs": [],
   "source": [
    "data_columns = np.array([cols[3]] + cols[5:13] + cols[14:21])\n",
    "label_column = np.array([cols[13]])"
   ]
  },
  {
   "cell_type": "code",
   "execution_count": 38,
   "metadata": {
    "collapsed": false
   },
   "outputs": [],
   "source": [
    "train_df['結案時間'] = [replace_sharp.sub('99:99', str(text)) for text in train_df['結案時間'].fillna(' ').values]\n",
    "train_df['收件時間'] = [replace_sharp.sub('99:99', str(text)) for text in train_df['收件時間'].fillna(' ').values]"
   ]
  },
  {
   "cell_type": "code",
   "execution_count": 39,
   "metadata": {
    "collapsed": false
   },
   "outputs": [
    {
     "name": "stdout",
     "output_type": "stream",
     "text": [
      "6277\n"
     ]
    }
   ],
   "source": [
    "new_col = []\n",
    "for lin in train_df['對照人'].fillna(' ').values:\n",
    "    temp = \"000000\"\n",
    "    if temp in str(lin):\n",
    "        new_col.append(lin)\n",
    "    else:\n",
    "        new_col.append(\"gb\")\n",
    "\n",
    "print(len(new_col))"
   ]
  },
  {
   "cell_type": "code",
   "execution_count": 40,
   "metadata": {
    "collapsed": false
   },
   "outputs": [
    {
     "data": {
      "text/plain": [
       "[array([192, 616,  74, ...,  73,  79,  88], dtype=int64),\n",
       " array([46, 42, 50, ..., 13, 37, 37], dtype=int64),\n",
       " array([2, 2, 0, ..., 2, 2, 2], dtype=int64),\n",
       " array([0, 1, 0, ..., 1, 0, 1], dtype=int64),\n",
       " array([128, 224, 226, ..., 224, 128, 224], dtype=int64),\n",
       " array([182, 304, 142, ..., 133, 192, 182], dtype=int64),\n",
       " array([275, 645, 156, ..., 259, 327, 159], dtype=int64),\n",
       " array([3, 3, 3, ..., 1, 1, 1], dtype=int64),\n",
       " array([13, 18,  0, ...,  5,  0, 14], dtype=int64),\n",
       " array([   0,    0,    0, ...,   47, 1176,  532], dtype=int64),\n",
       " array([4, 4, 4, ..., 5, 5, 5], dtype=int64),\n",
       " array([1, 4, 4, ..., 1, 1, 1], dtype=int64),\n",
       " array([2, 4, 2, ..., 1, 1, 2], dtype=int64),\n",
       " array([0, 1, 0, ..., 0, 0, 0], dtype=int64),\n",
       " array([ 69, 200, 133, ...,  70,  70,  70], dtype=int64),\n",
       " array([0, 0, 0, ..., 1, 1, 1], dtype=int64)]"
      ]
     },
     "execution_count": 40,
     "metadata": {},
     "output_type": "execute_result"
    }
   ],
   "source": [
    "feature_data = []\n",
    "for column in data_columns:\n",
    "    try:\n",
    "        le = LabelEncoder()\n",
    "        le.fit(list(train_df[column].fillna(' ').values))\n",
    "        feature_data.append(le.transform(list(train_df[column].fillna(' ').values)))\n",
    "    except:\n",
    "        print(column)\n",
    "feature_data"
   ]
  },
  {
   "cell_type": "code",
   "execution_count": 41,
   "metadata": {
    "collapsed": false
   },
   "outputs": [],
   "source": [
    "train_feature_sets = []\n",
    "for line in zip(feature_data[0], feature_data[0], feature_data[1], feature_data[2], feature_data[3], feature_data[4], feature_data[5], \n",
    "                feature_data[6], feature_data[7], feature_data[8], feature_data[9], feature_data[10], feature_data[11], feature_data[12],\n",
    "                feature_data[13], feature_data[14], feature_data[15]):\n",
    "    train_feature_sets.append(line)\n",
    "train_feature_sets = np.array(train_feature_sets)"
   ]
  },
  {
   "cell_type": "markdown",
   "metadata": {},
   "source": [
    "# Model Training"
   ]
  },
  {
   "cell_type": "markdown",
   "metadata": {},
   "source": [
    "## Logistic Regression Model with Tfidf Features (Multi-Lables)"
   ]
  },
  {
   "cell_type": "code",
   "execution_count": 42,
   "metadata": {
    "collapsed": false
   },
   "outputs": [
    {
     "name": "stdout",
     "output_type": "stream",
     "text": [
      "## In fold 1 ##\n",
      "Processing 不受理 ...\n",
      "Training accuracy is 0.9968135953266065\n",
      "Validation accuracy is 0.9984076433121019\n",
      "Processing 不成立 ...\n",
      "Training accuracy is 0.9697291556027615\n",
      "Validation accuracy is 0.7579617834394905\n",
      "Processing 成立 ...\n",
      "Training accuracy is 0.9835369091874668\n",
      "Validation accuracy is 0.8726114649681529\n",
      "Processing 當事人不到場 ...\n",
      "Training accuracy is 0.96831297574792\n",
      "Validation accuracy is 0.8487261146496815\n",
      "Processing 聲請人撤回 ...\n",
      "Training accuracy is 0.9614090989555674\n",
      "Validation accuracy is 0.9554140127388535\n",
      "## In fold 2 ##\n",
      "Processing 不受理 ...\n",
      "Training accuracy is 0.9969906178084617\n",
      "Validation accuracy is 0.9936305732484076\n",
      "Processing 不成立 ...\n",
      "Training accuracy is 0.9631793237741193\n",
      "Validation accuracy is 0.8168789808917197\n",
      "Processing 成立 ...\n",
      "Training accuracy is 0.9713223579394583\n",
      "Validation accuracy is 0.9872611464968153\n",
      "Processing 當事人不到場 ...\n",
      "Training accuracy is 0.9658346610019473\n",
      "Validation accuracy is 0.8535031847133758\n",
      "Processing 聲請人撤回 ...\n",
      "Training accuracy is 0.9619401664011329\n",
      "Validation accuracy is 0.9410828025477707\n",
      "## In fold 3 ##\n",
      "Processing 不受理 ...\n",
      "Training accuracy is 0.9966365728447513\n",
      "Validation accuracy is 0.9984076433121019\n",
      "Processing 不成立 ...\n",
      "Training accuracy is 0.9599929191007258\n",
      "Validation accuracy is 0.8535031847133758\n",
      "Processing 成立 ...\n",
      "Training accuracy is 0.9722074703487343\n",
      "Validation accuracy is 0.9777070063694268\n",
      "Processing 當事人不到場 ...\n",
      "Training accuracy is 0.9660116834838024\n",
      "Validation accuracy is 0.8869426751592356\n",
      "Processing 聲請人撤回 ...\n",
      "Training accuracy is 0.9615861214374225\n",
      "Validation accuracy is 0.9681528662420382\n",
      "## In fold 4 ##\n",
      "Processing 不受理 ...\n",
      "Training accuracy is 0.9969906178084617\n",
      "Validation accuracy is 0.9936305732484076\n",
      "Processing 不成立 ...\n",
      "Training accuracy is 0.9617631439192778\n",
      "Validation accuracy is 0.8359872611464968\n",
      "Processing 成立 ...\n",
      "Training accuracy is 0.9759249424676933\n",
      "Validation accuracy is 0.9299363057324841\n",
      "Processing 當事人不到場 ...\n",
      "Training accuracy is 0.9654806160382369\n",
      "Validation accuracy is 0.8789808917197452\n",
      "Processing 聲請人撤回 ...\n",
      "Training accuracy is 0.9614090989555674\n",
      "Validation accuracy is 0.9570063694267515\n",
      "## In fold 5 ##\n",
      "Processing 不受理 ...\n",
      "Training accuracy is 0.9966365728447513\n",
      "Validation accuracy is 0.9984076433121019\n",
      "Processing 不成立 ...\n",
      "Training accuracy is 0.9605239865462913\n",
      "Validation accuracy is 0.7882165605095541\n",
      "Processing 成立 ...\n",
      "Training accuracy is 0.9702602230483272\n",
      "Validation accuracy is 0.9872611464968153\n",
      "Processing 當事人不到場 ...\n",
      "Training accuracy is 0.9660116834838024\n",
      "Validation accuracy is 0.85828025477707\n",
      "Processing 聲請人撤回 ...\n",
      "Training accuracy is 0.9645955036289608\n",
      "Validation accuracy is 0.9235668789808917\n",
      "## In fold 6 ##\n",
      "Processing 不受理 ...\n",
      "Training accuracy is 0.9964595503628961\n",
      "Validation accuracy is 0.9984076433121019\n",
      "Processing 不成立 ...\n",
      "Training accuracy is 0.9631793237741193\n",
      "Validation accuracy is 0.802547770700637\n",
      "Processing 成立 ...\n",
      "Training accuracy is 0.9700832005664719\n",
      "Validation accuracy is 0.9792993630573248\n",
      "Processing 當事人不到場 ...\n",
      "Training accuracy is 0.9668967958930784\n",
      "Validation accuracy is 0.8487261146496815\n",
      "Processing 聲請人撤回 ...\n",
      "Training accuracy is 0.9631793237741193\n",
      "Validation accuracy is 0.9140127388535032\n",
      "## In fold 7 ##\n",
      "Processing 不受理 ...\n",
      "Training accuracy is 0.9975216852540273\n",
      "Validation accuracy is 0.9888535031847133\n",
      "Processing 不成立 ...\n",
      "Training accuracy is 0.9644184811471057\n",
      "Validation accuracy is 0.804140127388535\n",
      "Processing 成立 ...\n",
      "Training accuracy is 0.9697291556027615\n",
      "Validation accuracy is 0.9920382165605095\n",
      "Processing 當事人不到場 ...\n",
      "Training accuracy is 0.9674278633386441\n",
      "Validation accuracy is 0.8646496815286624\n",
      "Processing 聲請人撤回 ...\n",
      "Training accuracy is 0.9630023012922642\n",
      "Validation accuracy is 0.9219745222929936\n",
      "## In fold 8 ##\n",
      "Processing 不受理 ...\n",
      "Training accuracy is 0.9964601769911504\n",
      "Validation accuracy is 0.9984051036682615\n",
      "Processing 不成立 ...\n",
      "Training accuracy is 0.964070796460177\n",
      "Validation accuracy is 0.8165869218500797\n",
      "Processing 成立 ...\n",
      "Training accuracy is 0.9709734513274336\n",
      "Validation accuracy is 0.9776714513556619\n",
      "Processing 當事人不到場 ...\n",
      "Training accuracy is 0.9676106194690266\n",
      "Validation accuracy is 0.8421052631578947\n",
      "Processing 聲請人撤回 ...\n",
      "Training accuracy is 0.963716814159292\n",
      "Validation accuracy is 0.94896331738437\n",
      "## In fold 9 ##\n",
      "Processing 不受理 ...\n",
      "Training accuracy is 0.996283185840708\n",
      "Validation accuracy is 1.0\n",
      "Processing 不成立 ...\n",
      "Training accuracy is 0.9633628318584071\n",
      "Validation accuracy is 0.7719298245614035\n",
      "Processing 成立 ...\n",
      "Training accuracy is 0.9739823008849557\n",
      "Validation accuracy is 0.9505582137161085\n",
      "Processing 當事人不到場 ...\n",
      "Training accuracy is 0.9679646017699115\n",
      "Validation accuracy is 0.8516746411483254\n",
      "Processing 聲請人撤回 ...\n",
      "Training accuracy is 0.9624778761061947\n",
      "Validation accuracy is 0.9441786283891547\n",
      "## In fold 10 ##\n",
      "Processing 不受理 ...\n",
      "Training accuracy is 0.9966371681415929\n",
      "Validation accuracy is 0.9984051036682615\n",
      "Processing 不成立 ...\n",
      "Training accuracy is 0.9619469026548673\n",
      "Validation accuracy is 0.8341307814992025\n",
      "Processing 成立 ...\n",
      "Training accuracy is 0.9720353982300884\n",
      "Validation accuracy is 0.9840510366826156\n",
      "Processing 當事人不到場 ...\n",
      "Training accuracy is 0.9667256637168141\n",
      "Validation accuracy is 0.8915470494417863\n",
      "Processing 聲請人撤回 ...\n",
      "Training accuracy is 0.9621238938053097\n",
      "Validation accuracy is 0.9457735247208932\n",
      "K-fold cross validation Done!\n"
     ]
    }
   ],
   "source": [
    "kfold = KFold(n_splits=FOLD_COUNT, shuffle=False)\n",
    "tfidf_models = []\n",
    "for i, (train_idx, test_idx) in enumerate(kfold.split(train_tfidf_features)):\n",
    "    print('## In fold {} ##'.format(i + 1))\n",
    "    classifier = LogisticRegression(solver='sag', C=12.0)\n",
    "    \n",
    "    for class_name in list_classes:\n",
    "        print('Processing {} ...'.format(class_name))\n",
    "        train_target = train_df[class_name][train_idx]\n",
    "        \n",
    "        classifier.fit(train_tfidf_features[train_idx], train_target)\n",
    "        y_pred = classifier.predict(train_tfidf_features[train_idx])\n",
    "        \n",
    "        print('Training accuracy is {}'.format(accuracy_score(y_pred, train_target)))\n",
    "        \n",
    "        val_target = train_df[class_name][test_idx]\n",
    "        val_pred = classifier.predict(train_tfidf_features[test_idx])\n",
    "        \n",
    "        print('Validation accuracy is {}'.format(accuracy_score(val_pred, val_target)))\n",
    "        \n",
    "    tfidf_models.append(classifier)\n",
    "print('K-fold cross validation Done!')"
   ]
  },
  {
   "cell_type": "code",
   "execution_count": 43,
   "metadata": {
    "collapsed": false
   },
   "outputs": [
    {
     "name": "stdout",
     "output_type": "stream",
     "text": [
      "## In fold 1 ##\n",
      "Processing 不受理 ...\n",
      "Training accuracy is 0.9964595503628961\n",
      "Validation accuracy is 0.9984076433121019\n",
      "Processing 不成立 ...\n",
      "Training accuracy is 0.7696937511063905\n",
      "Validation accuracy is 0.7197452229299363\n",
      "Processing 成立 ...\n",
      "Training accuracy is 0.8334218445742609\n",
      "Validation accuracy is 0.643312101910828\n",
      "Processing 當事人不到場 ...\n",
      "Training accuracy is 0.8702425208001416\n",
      "Validation accuracy is 0.856687898089172\n",
      "Processing 聲請人撤回 ...\n",
      "Training accuracy is 0.9433528058063374\n",
      "Validation accuracy is 0.9570063694267515\n",
      "## In fold 2 ##\n",
      "Processing 不受理 ...\n",
      "Training accuracy is 0.9969906178084617\n",
      "Validation accuracy is 0.9936305732484076\n",
      "Processing 不成立 ...\n",
      "Training accuracy is 0.7663303239511418\n",
      "Validation accuracy is 0.7388535031847133\n",
      "Processing 成立 ...\n",
      "Training accuracy is 0.8445742609311383\n",
      "Validation accuracy is 0.6242038216560509\n",
      "Processing 當事人不到場 ...\n",
      "Training accuracy is 0.8727208355461143\n",
      "Validation accuracy is 0.8439490445859873\n",
      "Processing 聲請人撤回 ...\n",
      "Training accuracy is 0.9449460081430342\n",
      "Validation accuracy is 0.9426751592356688\n",
      "## In fold 3 ##\n",
      "Processing 不受理 ...\n",
      "Training accuracy is 0.9964595503628961\n",
      "Validation accuracy is 0.9984076433121019\n",
      "Processing 不成立 ...\n",
      "Training accuracy is 0.7649141440963002\n",
      "Validation accuracy is 0.732484076433121\n",
      "Processing 成立 ...\n",
      "Training accuracy is 0.8328907771286953\n",
      "Validation accuracy is 0.660828025477707\n",
      "Processing 當事人不到場 ...\n",
      "Training accuracy is 0.8674101610904585\n",
      "Validation accuracy is 0.8869426751592356\n",
      "Processing 聲請人撤回 ...\n",
      "Training accuracy is 0.9419366259514959\n",
      "Validation accuracy is 0.9697452229299363\n",
      "## In fold 4 ##\n",
      "Processing 不受理 ...\n",
      "Training accuracy is 0.9969906178084617\n",
      "Validation accuracy is 0.9936305732484076\n",
      "Processing 不成立 ...\n",
      "Training accuracy is 0.763852009205169\n",
      "Validation accuracy is 0.7643312101910829\n",
      "Processing 成立 ...\n",
      "Training accuracy is 0.8268720127456187\n",
      "Validation accuracy is 0.697452229299363\n",
      "Processing 當事人不到場 ...\n",
      "Training accuracy is 0.8659939812356169\n",
      "Validation accuracy is 0.893312101910828\n",
      "Processing 聲請人撤回 ...\n",
      "Training accuracy is 0.9435298282881927\n",
      "Validation accuracy is 0.9554140127388535\n",
      "## In fold 5 ##\n",
      "Processing 不受理 ...\n",
      "Training accuracy is 0.9964595503628961\n",
      "Validation accuracy is 0.9984076433121019\n",
      "Processing 不成立 ...\n",
      "Training accuracy is 0.7663303239511418\n",
      "Validation accuracy is 0.7531847133757962\n",
      "Processing 成立 ...\n",
      "Training accuracy is 0.8089927420782439\n",
      "Validation accuracy is 0.8264331210191083\n",
      "Processing 當事人不到場 ...\n",
      "Training accuracy is 0.8713046556912728\n",
      "Validation accuracy is 0.856687898089172\n",
      "Processing 聲請人撤回 ...\n",
      "Training accuracy is 0.9470702779252965\n",
      "Validation accuracy is 0.9235668789808917\n",
      "## In fold 6 ##\n",
      "Processing 不受理 ...\n",
      "Training accuracy is 0.9964595503628961\n",
      "Validation accuracy is 0.9984076433121019\n",
      "Processing 不成立 ...\n",
      "Training accuracy is 0.7599575146043548\n",
      "Validation accuracy is 0.7818471337579618\n",
      "Processing 成立 ...\n",
      "Training accuracy is 0.8004956629491945\n",
      "Validation accuracy is 0.9410828025477707\n",
      "Processing 當事人不到場 ...\n",
      "Training accuracy is 0.8713046556912728\n",
      "Validation accuracy is 0.8487261146496815\n",
      "Processing 聲請人撤回 ...\n",
      "Training accuracy is 0.9481324128164277\n",
      "Validation accuracy is 0.9140127388535032\n",
      "## In fold 7 ##\n",
      "Processing 不受理 ...\n",
      "Training accuracy is 0.9975216852540273\n",
      "Validation accuracy is 0.9888535031847133\n",
      "Processing 不成立 ...\n",
      "Training accuracy is 0.7626128518321826\n",
      "Validation accuracy is 0.7595541401273885\n",
      "Processing 成立 ...\n",
      "Training accuracy is 0.8012037528766154\n",
      "Validation accuracy is 0.9506369426751592\n",
      "Processing 當事人不到場 ...\n",
      "Training accuracy is 0.8718357231368383\n",
      "Validation accuracy is 0.8503184713375797\n",
      "Processing 聲請人撤回 ...\n",
      "Training accuracy is 0.9463621879978757\n",
      "Validation accuracy is 0.9299363057324841\n",
      "## In fold 8 ##\n",
      "Processing 不受理 ...\n",
      "Training accuracy is 0.9964601769911504\n",
      "Validation accuracy is 0.9984051036682615\n",
      "Processing 不成立 ...\n",
      "Training accuracy is 0.7584070796460177\n",
      "Validation accuracy is 0.7910685805422647\n",
      "Processing 成立 ...\n",
      "Training accuracy is 0.804070796460177\n",
      "Validation accuracy is 0.9537480063795853\n",
      "Processing 當事人不到場 ...\n",
      "Training accuracy is 0.8702654867256637\n",
      "Validation accuracy is 0.8628389154704944\n",
      "Processing 聲請人撤回 ...\n",
      "Training accuracy is 0.9438938053097345\n",
      "Validation accuracy is 0.9521531100478469\n",
      "## In fold 9 ##\n",
      "Processing 不受理 ...\n",
      "Training accuracy is 0.996283185840708\n",
      "Validation accuracy is 1.0\n",
      "Processing 不成立 ...\n",
      "Training accuracy is 0.7608849557522124\n",
      "Validation accuracy is 0.7687400318979266\n",
      "Processing 成立 ...\n",
      "Training accuracy is 0.8115044247787611\n",
      "Validation accuracy is 0.89792663476874\n",
      "Processing 當事人不到場 ...\n",
      "Training accuracy is 0.8686725663716814\n",
      "Validation accuracy is 0.8803827751196173\n",
      "Processing 聲請人撤回 ...\n",
      "Training accuracy is 0.9442477876106194\n",
      "Validation accuracy is 0.94896331738437\n",
      "## In fold 10 ##\n",
      "Processing 不受理 ...\n",
      "Training accuracy is 0.9964601769911504\n",
      "Validation accuracy is 0.9984051036682615\n",
      "Processing 不成立 ...\n",
      "Training accuracy is 0.7591150442477876\n",
      "Validation accuracy is 0.7894736842105263\n",
      "Processing 成立 ...\n",
      "Training accuracy is 0.8093805309734513\n",
      "Validation accuracy is 0.8963317384370016\n",
      "Processing 當事人不到場 ...\n",
      "Training accuracy is 0.8654867256637168\n",
      "Validation accuracy is 0.8963317384370016\n",
      "Processing 聲請人撤回 ...\n",
      "Training accuracy is 0.943716814159292\n",
      "Validation accuracy is 0.9537480063795853\n",
      "K-fold cross validation Done!\n"
     ]
    }
   ],
   "source": [
    "for i, (train_idx, test_idx) in enumerate(kfold.split(train_feature_sets)):\n",
    "    print('## In fold {} ##'.format(i + 1))\n",
    "    classifier = LogisticRegression(C=1.0, class_weight=None, dual=False, fit_intercept=True, intercept_scaling=1, \n",
    "                   max_iter=100, multi_class='ovr', penalty='l2', random_state=None, solver='liblinear', tol=0.0001,verbose=0)\n",
    "    \n",
    "    for class_name in list_classes:\n",
    "        print('Processing {} ...'.format(class_name))\n",
    "        train_target = train_df[class_name][train_idx]\n",
    "        \n",
    "        classifier.fit(train_feature_sets[train_idx], train_target)\n",
    "        y_pred = classifier.predict(train_feature_sets[train_idx])\n",
    "        \n",
    "        print('Training accuracy is {}'.format(accuracy_score(y_pred, train_target)))\n",
    "        \n",
    "        val_target = train_df[class_name][test_idx]\n",
    "        val_pred = classifier.predict(train_feature_sets[test_idx])\n",
    "        \n",
    "        print('Validation accuracy is {}'.format(accuracy_score(val_pred, val_target)))\n",
    "        \n",
    "    tfidf_models.append(classifier)\n",
    "print('K-fold cross validation Done!')"
   ]
  },
  {
   "cell_type": "markdown",
   "metadata": {},
   "source": [
    "## Multi-Classification"
   ]
  },
  {
   "cell_type": "code",
   "execution_count": 45,
   "metadata": {
    "collapsed": true
   },
   "outputs": [],
   "source": [
    "train_label = train_df['是否成立']"
   ]
  },
  {
   "cell_type": "code",
   "execution_count": 48,
   "metadata": {
    "collapsed": false
   },
   "outputs": [
    {
     "name": "stdout",
     "output_type": "stream",
     "text": [
      "## In fold 1 ##\n",
      "Training accuracy is 0.944572339295201\n",
      "Validation accuracy is 0.6349206349206349\n",
      "## In fold 2 ##\n",
      "Training accuracy is 0.9236898016997167\n",
      "Validation accuracy is 0.7901430842607313\n",
      "## In fold 3 ##\n",
      "Training accuracy is 0.924057355284121\n",
      "Validation accuracy is 0.7977707006369427\n",
      "## In fold 4 ##\n",
      "Training accuracy is 0.9279518498849354\n",
      "Validation accuracy is 0.7929936305732485\n",
      "## In fold 5 ##\n",
      "Training accuracy is 0.9226411754292795\n",
      "Validation accuracy is 0.7388535031847133\n",
      "## In fold 6 ##\n",
      "Training accuracy is 0.9229952203929899\n",
      "Validation accuracy is 0.7388535031847133\n",
      "## In fold 7 ##\n",
      "Training accuracy is 0.9244114002478315\n",
      "Validation accuracy is 0.7738853503184714\n",
      "## In fold 8 ##\n",
      "Training accuracy is 0.9256768713502035\n",
      "Validation accuracy is 0.7811501597444089\n",
      "## In fold 9 ##\n",
      "Training accuracy is 0.9292160679525747\n",
      "Validation accuracy is 0.7332268370607029\n",
      "## In fold 10 ##\n",
      "Training accuracy is 0.9247920721996107\n",
      "Validation accuracy is 0.7827476038338658\n",
      "K-fold cross validation Done!\n"
     ]
    }
   ],
   "source": [
    "kfold = StratifiedKFold(n_splits=FOLD_COUNT, shuffle=False)\n",
    "multi_classifier_tfidf_models = []\n",
    "for i, (train_idx, test_idx) in enumerate(kfold.split(train_tfidf_features, train_label)):\n",
    "    print('## In fold {} ##'.format(i + 1))\n",
    "    classifier = LogisticRegression(solver='sag', C=12.0)\n",
    "    \n",
    "    train_target = train_label[train_idx]\n",
    "    classifier.fit(train_tfidf_features[train_idx], train_target)\n",
    "    y_pred = classifier.predict(train_tfidf_features[train_idx])\n",
    "\n",
    "    print('Training accuracy is {}'.format(accuracy_score(y_pred, train_target)))\n",
    "\n",
    "    val_target = train_label[test_idx]\n",
    "    val_pred = classifier.predict(train_tfidf_features[test_idx])\n",
    "\n",
    "    print('Validation accuracy is {}'.format(accuracy_score(val_pred, val_target)))\n",
    "        \n",
    "    multi_classifier_tfidf_models.append(classifier)\n",
    "print('K-fold cross validation Done!')"
   ]
  },
  {
   "cell_type": "code",
   "execution_count": 49,
   "metadata": {
    "collapsed": false
   },
   "outputs": [
    {
     "name": "stdout",
     "output_type": "stream",
     "text": [
      "## In fold 1 ##\n",
      "Training accuracy is 0.6966530901363556\n",
      "Validation accuracy is 0.5825396825396826\n",
      "## In fold 2 ##\n",
      "Training accuracy is 0.6921033994334278\n",
      "Validation accuracy is 0.5977742448330684\n",
      "## In fold 3 ##\n",
      "Training accuracy is 0.6999468932554435\n",
      "Validation accuracy is 0.589171974522293\n",
      "## In fold 4 ##\n",
      "Training accuracy is 0.6925119490175252\n",
      "Validation accuracy is 0.5971337579617835\n",
      "## In fold 5 ##\n",
      "Training accuracy is 0.6910957691626837\n",
      "Validation accuracy is 0.6401273885350318\n",
      "## In fold 6 ##\n",
      "Training accuracy is 0.6818906001062135\n",
      "Validation accuracy is 0.7436305732484076\n",
      "## In fold 7 ##\n",
      "Training accuracy is 0.6756948132412817\n",
      "Validation accuracy is 0.7786624203821656\n",
      "## In fold 8 ##\n",
      "Training accuracy is 0.6745708724119625\n",
      "Validation accuracy is 0.7811501597444089\n",
      "## In fold 9 ##\n",
      "Training accuracy is 0.6789948681649266\n",
      "Validation accuracy is 0.6869009584664537\n",
      "## In fold 10 ##\n",
      "Training accuracy is 0.6751017519023181\n",
      "Validation accuracy is 0.6693290734824281\n",
      "K-fold cross validation Done!\n"
     ]
    }
   ],
   "source": [
    "for i, (train_idx, test_idx) in enumerate(kfold.split(train_feature_sets, train_label)):\n",
    "    print('## In fold {} ##'.format(i + 1))\n",
    "    classifier = LogisticRegression(C=1.0, class_weight=None, dual=False, fit_intercept=True, intercept_scaling=1, \n",
    "                   max_iter=100, multi_class='ovr', penalty='l2', random_state=None, solver='liblinear', tol=0.0001,verbose=0)\n",
    "    train_target = train_label[train_idx]\n",
    "\n",
    "    classifier.fit(train_feature_sets[train_idx], train_target)\n",
    "    y_pred = classifier.predict(train_feature_sets[train_idx])\n",
    "\n",
    "    print('Training accuracy is {}'.format(accuracy_score(y_pred, train_target)))\n",
    "\n",
    "    val_target = train_label[test_idx]\n",
    "    val_pred = classifier.predict(train_feature_sets[test_idx])\n",
    "\n",
    "    print('Validation accuracy is {}'.format(accuracy_score(val_pred, val_target)))\n",
    "        \n",
    "    multi_classifier_tfidf_models.append(classifier)\n",
    "print('K-fold cross validation Done!')"
   ]
  },
  {
   "cell_type": "markdown",
   "metadata": {},
   "source": [
    "# ExtraTreesClassifier"
   ]
  },
  {
   "cell_type": "code",
   "execution_count": null,
   "metadata": {
    "collapsed": true
   },
   "outputs": [],
   "source": [
    "accs = []\n",
    "et_predictions = OrderedDict()\n",
    "et_predictions['id'] = test_df['id']\n",
    "\n",
    "for class_name in list_classes:\n",
    "    train_target = train_df[class_name]\n",
    "    classifier = ExtraTreesClassifier(n_estimators=30)\n",
    "    \n",
    "    cv_score = np.mean(cross_val_score(classifier, train_tfidf_features, train_target, cv=10, scoring='roc_auc'))\n",
    "    accs.append(cv_score)\n",
    "    print('CV Score for class {} is {}'.format(class_name, cv_score))\n",
    "    \n",
    "    classifier.fit(train_tfidf_features, train_target)\n",
    "    et_predictions[class_name] = classifier.predict_proba(test_tfidf_features)[:, 1]\n",
    "    \n",
    "submission = pd.DataFrame.from_dict(et_predictions)\n",
    "submission.to_csv('result/LR_Based/ExtraTreesClassifier_Submission.csv', index=False)"
   ]
  },
  {
   "cell_type": "markdown",
   "metadata": {},
   "source": [
    "# Predictions (Optional)"
   ]
  },
  {
   "cell_type": "code",
   "execution_count": null,
   "metadata": {
    "collapsed": true
   },
   "outputs": [],
   "source": [
    "for i, model in enumerate(tfidf_models):\n",
    "    print('## In Model {} ##'.format(i + 1))\n",
    "    predictions = OrderedDict()\n",
    "    predictions['id'] = test_df['id']\n",
    "    \n",
    "    for class_name in list_classes:\n",
    "        predictions[class_name] = model.predict_proba(test_tfidf_features)[:, 1]\n",
    "        print('Predict the proba for {} Done!'.format(class_name))\n",
    "        print(predictions.keys())\n",
    "    \n",
    "    print(predictions.keys())\n",
    "    submission = pd.DataFrame.from_dict(predictions)\n",
    "    submission.to_csv('Logistic_Regression_Submission_{}.csv'.format(i), index=False)"
   ]
  },
  {
   "cell_type": "markdown",
   "metadata": {},
   "source": [
    "# Result Ensemble"
   ]
  },
  {
   "cell_type": "code",
   "execution_count": null,
   "metadata": {
    "collapsed": true
   },
   "outputs": [],
   "source": [
    "def bagging(arrs, path):\n",
    "    print(\"Doing ensemble on\")\n",
    "    subs = []\n",
    "    for arr in arrs:\n",
    "        print(arr)\n",
    "        subs.append(pd.read_csv(arr))\n",
    "    \n",
    "    for sub in subs[1:]:\n",
    "        for c in list_classes:\n",
    "            subs[0][c] += sub[c]\n",
    "    \n",
    "    for c in list_classes:\n",
    "        subs[0][c] /= len(subs)\n",
    "        \n",
    "    subs[0].to_csv(path, index=False)"
   ]
  },
  {
   "cell_type": "code",
   "execution_count": null,
   "metadata": {
    "collapsed": true
   },
   "outputs": [],
   "source": []
  }
 ],
 "metadata": {
  "kernelspec": {
   "display_name": "Python 3",
   "language": "python",
   "name": "python3"
  },
  "language_info": {
   "codemirror_mode": {
    "name": "ipython",
    "version": 3
   },
   "file_extension": ".py",
   "mimetype": "text/x-python",
   "name": "python",
   "nbconvert_exporter": "python",
   "pygments_lexer": "ipython3",
   "version": "3.6.0"
  }
 },
 "nbformat": 4,
 "nbformat_minor": 2
}
