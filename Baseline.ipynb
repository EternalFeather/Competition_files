{
 "cells": [
  {
   "cell_type": "markdown",
   "metadata": {},
   "source": [
    "# Packages"
   ]
  },
  {
   "cell_type": "code",
   "execution_count": 2,
   "metadata": {},
   "outputs": [],
   "source": [
    "import pandas as pd\n",
    "import numpy as np\n",
    "import os, re, csv, codecs, operator, sys, gc\n",
    "from collections import defaultdict, OrderedDict\n",
    "from tqdm import tqdm\n",
    "import jieba\n",
    "import seaborn as sns\n",
    "from collections import Counter\n",
    "from matplotlib import pyplot as plt\n",
    "%matplotlib inline\n",
    "\n",
    "from sklearn.model_selection import StratifiedKFold\n",
    "from sklearn.linear_model import LogisticRegression\n",
    "from sklearn.metrics import accuracy_score\n",
    "from sklearn.model_selection import cross_val_score, cross_val_predict, StratifiedKFold, KFold, train_test_split\n",
    "from sklearn.ensemble import ExtraTreesClassifier\n",
    "from sklearn.feature_extraction.text import CountVectorizer\n",
    "from sklearn.feature_extraction.text import TfidfVectorizer\n",
    "from scipy.sparse import csr_matrix, hstack\n",
    "from sklearn.preprocessing import LabelEncoder\n",
    "\n",
    "from keras.preprocessing.text import Tokenizer"
   ]
  },
  {
   "cell_type": "markdown",
   "metadata": {},
   "source": [
    "# Parameters"
   ]
  },
  {
   "cell_type": "code",
   "execution_count": 3,
   "metadata": {},
   "outputs": [],
   "source": [
    "jieba.set_dictionary('dict.txt.big.txt')\n",
    "CLEAN_WORD_PATH = None\n",
    "TRAIN_DATA_FILE = 'data_original.csv'\n",
    "TEST_DATA_FILE = 'test.csv'\n",
    "FOLD_COUNT = 10\n",
    "list_classes = ['不受理', '不成立', '成立', '當事人不到場', '聲請人撤回']"
   ]
  },
  {
   "cell_type": "markdown",
   "metadata": {},
   "source": [
    "# Data Overview"
   ]
  },
  {
   "cell_type": "code",
   "execution_count": 4,
   "metadata": {},
   "outputs": [],
   "source": [
    "train_df = pd.read_csv(TRAIN_DATA_FILE)"
   ]
  },
  {
   "cell_type": "code",
   "execution_count": 5,
   "metadata": {},
   "outputs": [
    {
     "name": "stdout",
     "output_type": "stream",
     "text": [
      "<class 'pandas.core.frame.DataFrame'>\n",
      "RangeIndex: 6277 entries, 0 to 6276\n",
      "Data columns (total 22 columns):\n",
      "Unnamed: 0    6277 non-null int64\n",
      "id            6277 non-null int64\n",
      "收件日期          6277 non-null object\n",
      "收件時間          6277 non-null object\n",
      "結案日期          6220 non-null object\n",
      "結案時間          6220 non-null object\n",
      "協調開會方式        5251 non-null object\n",
      "案件大類型         6277 non-null object\n",
      "案件細節類型        6261 non-null object\n",
      "name          6277 non-null float64\n",
      "對照人           6271 non-null float64\n",
      "主席            6251 non-null float64\n",
      "people        4881 non-null float64\n",
      "是否成立          6277 non-null object\n",
      "和解條件          1649 non-null object\n",
      "調解現況          6277 non-null object\n",
      "調解次數          6274 non-null float64\n",
      "調解人數          6277 non-null int64\n",
      "have_other    6277 non-null int64\n",
      "調解天數          6277 non-null object\n",
      "縣市合併          6277 non-null int64\n",
      "調解內容與決議       5942 non-null object\n",
      "dtypes: float64(5), int64(5), object(12)\n",
      "memory usage: 1.1+ MB\n"
     ]
    }
   ],
   "source": [
    "train_df.info()"
   ]
  },
  {
   "cell_type": "code",
   "execution_count": 6,
   "metadata": {},
   "outputs": [
    {
     "data": {
      "text/html": [
       "<div>\n",
       "<style scoped>\n",
       "    .dataframe tbody tr th:only-of-type {\n",
       "        vertical-align: middle;\n",
       "    }\n",
       "\n",
       "    .dataframe tbody tr th {\n",
       "        vertical-align: top;\n",
       "    }\n",
       "\n",
       "    .dataframe thead th {\n",
       "        text-align: right;\n",
       "    }\n",
       "</style>\n",
       "<table border=\"1\" class=\"dataframe\">\n",
       "  <thead>\n",
       "    <tr style=\"text-align: right;\">\n",
       "      <th></th>\n",
       "      <th>Unnamed: 0</th>\n",
       "      <th>id</th>\n",
       "      <th>name</th>\n",
       "      <th>對照人</th>\n",
       "      <th>主席</th>\n",
       "      <th>people</th>\n",
       "      <th>調解次數</th>\n",
       "      <th>調解人數</th>\n",
       "      <th>have_other</th>\n",
       "      <th>縣市合併</th>\n",
       "    </tr>\n",
       "  </thead>\n",
       "  <tbody>\n",
       "    <tr>\n",
       "      <th>count</th>\n",
       "      <td>6277.000000</td>\n",
       "      <td>6.277000e+03</td>\n",
       "      <td>6.277000e+03</td>\n",
       "      <td>6.271000e+03</td>\n",
       "      <td>6.251000e+03</td>\n",
       "      <td>4.881000e+03</td>\n",
       "      <td>6274.000000</td>\n",
       "      <td>6277.000000</td>\n",
       "      <td>6277.000000</td>\n",
       "      <td>6277.000000</td>\n",
       "    </tr>\n",
       "    <tr>\n",
       "      <th>mean</th>\n",
       "      <td>3141.780628</td>\n",
       "      <td>1.026955e+07</td>\n",
       "      <td>5.672547e+91</td>\n",
       "      <td>1.469835e+95</td>\n",
       "      <td>3.802502e+14</td>\n",
       "      <td>3.179040e+18</td>\n",
       "      <td>1.464616</td>\n",
       "      <td>3.140354</td>\n",
       "      <td>0.328342</td>\n",
       "      <td>0.837502</td>\n",
       "    </tr>\n",
       "    <tr>\n",
       "      <th>std</th>\n",
       "      <td>1817.151939</td>\n",
       "      <td>2.622364e+05</td>\n",
       "      <td>4.493388e+93</td>\n",
       "      <td>6.812509e+96</td>\n",
       "      <td>7.871190e+12</td>\n",
       "      <td>1.059711e+19</td>\n",
       "      <td>0.884592</td>\n",
       "      <td>1.785473</td>\n",
       "      <td>0.469647</td>\n",
       "      <td>0.368936</td>\n",
       "    </tr>\n",
       "    <tr>\n",
       "      <th>min</th>\n",
       "      <td>0.000000</td>\n",
       "      <td>9.800147e+06</td>\n",
       "      <td>2.651900e+04</td>\n",
       "      <td>2.957900e+04</td>\n",
       "      <td>3.710000e+14</td>\n",
       "      <td>2.060000e+14</td>\n",
       "      <td>1.000000</td>\n",
       "      <td>1.000000</td>\n",
       "      <td>0.000000</td>\n",
       "      <td>0.000000</td>\n",
       "    </tr>\n",
       "    <tr>\n",
       "      <th>25%</th>\n",
       "      <td>1569.000000</td>\n",
       "      <td>1.000072e+07</td>\n",
       "      <td>2.650000e+14</td>\n",
       "      <td>2.650000e+14</td>\n",
       "      <td>3.710000e+14</td>\n",
       "      <td>2.640000e+14</td>\n",
       "      <td>1.000000</td>\n",
       "      <td>2.000000</td>\n",
       "      <td>0.000000</td>\n",
       "      <td>1.000000</td>\n",
       "    </tr>\n",
       "    <tr>\n",
       "      <th>50%</th>\n",
       "      <td>3138.000000</td>\n",
       "      <td>1.030058e+07</td>\n",
       "      <td>3.410000e+14</td>\n",
       "      <td>3.420000e+14</td>\n",
       "      <td>3.850000e+14</td>\n",
       "      <td>3.410000e+14</td>\n",
       "      <td>1.000000</td>\n",
       "      <td>3.000000</td>\n",
       "      <td>0.000000</td>\n",
       "      <td>1.000000</td>\n",
       "    </tr>\n",
       "    <tr>\n",
       "      <th>75%</th>\n",
       "      <td>4713.000000</td>\n",
       "      <td>1.050046e+07</td>\n",
       "      <td>4.060000e+14</td>\n",
       "      <td>4.060000e+14</td>\n",
       "      <td>3.850000e+14</td>\n",
       "      <td>3.720000e+14</td>\n",
       "      <td>2.000000</td>\n",
       "      <td>4.000000</td>\n",
       "      <td>1.000000</td>\n",
       "      <td>1.000000</td>\n",
       "    </tr>\n",
       "    <tr>\n",
       "      <th>max</th>\n",
       "      <td>6293.000000</td>\n",
       "      <td>1.070014e+07</td>\n",
       "      <td>3.560000e+95</td>\n",
       "      <td>3.600000e+98</td>\n",
       "      <td>3.900000e+14</td>\n",
       "      <td>3.850000e+19</td>\n",
       "      <td>24.000000</td>\n",
       "      <td>33.000000</td>\n",
       "      <td>1.000000</td>\n",
       "      <td>1.000000</td>\n",
       "    </tr>\n",
       "  </tbody>\n",
       "</table>\n",
       "</div>"
      ],
      "text/plain": [
       "        Unnamed: 0            id          name           對照人            主席  \\\n",
       "count  6277.000000  6.277000e+03  6.277000e+03  6.271000e+03  6.251000e+03   \n",
       "mean   3141.780628  1.026955e+07  5.672547e+91  1.469835e+95  3.802502e+14   \n",
       "std    1817.151939  2.622364e+05  4.493388e+93  6.812509e+96  7.871190e+12   \n",
       "min       0.000000  9.800147e+06  2.651900e+04  2.957900e+04  3.710000e+14   \n",
       "25%    1569.000000  1.000072e+07  2.650000e+14  2.650000e+14  3.710000e+14   \n",
       "50%    3138.000000  1.030058e+07  3.410000e+14  3.420000e+14  3.850000e+14   \n",
       "75%    4713.000000  1.050046e+07  4.060000e+14  4.060000e+14  3.850000e+14   \n",
       "max    6293.000000  1.070014e+07  3.560000e+95  3.600000e+98  3.900000e+14   \n",
       "\n",
       "             people         調解次數         調解人數   have_other         縣市合併  \n",
       "count  4.881000e+03  6274.000000  6277.000000  6277.000000  6277.000000  \n",
       "mean   3.179040e+18     1.464616     3.140354     0.328342     0.837502  \n",
       "std    1.059711e+19     0.884592     1.785473     0.469647     0.368936  \n",
       "min    2.060000e+14     1.000000     1.000000     0.000000     0.000000  \n",
       "25%    2.640000e+14     1.000000     2.000000     0.000000     1.000000  \n",
       "50%    3.410000e+14     1.000000     3.000000     0.000000     1.000000  \n",
       "75%    3.720000e+14     2.000000     4.000000     1.000000     1.000000  \n",
       "max    3.850000e+19    24.000000    33.000000     1.000000     1.000000  "
      ]
     },
     "execution_count": 6,
     "metadata": {},
     "output_type": "execute_result"
    }
   ],
   "source": [
    "train_df.describe()"
   ]
  },
  {
   "cell_type": "code",
   "execution_count": 7,
   "metadata": {},
   "outputs": [],
   "source": [
    "cleaned_comments = []\n",
    "temp = train_df['調解內容與決議'].fillna('no sentence').values\n",
    "for line in temp:\n",
    "    if '經調解結果如左：' in line:\n",
    "        a = line.split('經調解結果如左：')[0]\n",
    "    else:\n",
    "        a = line.split('經調解結果如下：')[0]\n",
    "    cleaned_comments.append(a)\n",
    "train_df['調解內容與決議'] = cleaned_comments"
   ]
  },
  {
   "cell_type": "code",
   "execution_count": 8,
   "metadata": {},
   "outputs": [
    {
     "data": {
      "text/html": [
       "<div>\n",
       "<style scoped>\n",
       "    .dataframe tbody tr th:only-of-type {\n",
       "        vertical-align: middle;\n",
       "    }\n",
       "\n",
       "    .dataframe tbody tr th {\n",
       "        vertical-align: top;\n",
       "    }\n",
       "\n",
       "    .dataframe thead th {\n",
       "        text-align: right;\n",
       "    }\n",
       "</style>\n",
       "<table border=\"1\" class=\"dataframe\">\n",
       "  <thead>\n",
       "    <tr style=\"text-align: right;\">\n",
       "      <th></th>\n",
       "      <th>Unnamed: 0</th>\n",
       "      <th>id</th>\n",
       "      <th>name</th>\n",
       "      <th>對照人</th>\n",
       "      <th>主席</th>\n",
       "      <th>people</th>\n",
       "      <th>調解次數</th>\n",
       "      <th>調解人數</th>\n",
       "      <th>have_other</th>\n",
       "      <th>縣市合併</th>\n",
       "    </tr>\n",
       "  </thead>\n",
       "  <tbody>\n",
       "    <tr>\n",
       "      <th>Unnamed: 0</th>\n",
       "      <td>1.000000</td>\n",
       "      <td>0.984876</td>\n",
       "      <td>0.011837</td>\n",
       "      <td>-0.001737</td>\n",
       "      <td>-0.911305</td>\n",
       "      <td>-0.057375</td>\n",
       "      <td>-0.084035</td>\n",
       "      <td>-0.029792</td>\n",
       "      <td>0.032234</td>\n",
       "      <td>0.637676</td>\n",
       "    </tr>\n",
       "    <tr>\n",
       "      <th>id</th>\n",
       "      <td>0.984876</td>\n",
       "      <td>1.000000</td>\n",
       "      <td>0.011121</td>\n",
       "      <td>-0.002281</td>\n",
       "      <td>-0.884550</td>\n",
       "      <td>-0.057837</td>\n",
       "      <td>-0.078738</td>\n",
       "      <td>-0.021440</td>\n",
       "      <td>0.030596</td>\n",
       "      <td>0.688910</td>\n",
       "    </tr>\n",
       "    <tr>\n",
       "      <th>name</th>\n",
       "      <td>0.011837</td>\n",
       "      <td>0.011121</td>\n",
       "      <td>0.000000</td>\n",
       "      <td>-0.000000</td>\n",
       "      <td>-0.014866</td>\n",
       "      <td>0.047717</td>\n",
       "      <td>0.007641</td>\n",
       "      <td>-0.000990</td>\n",
       "      <td>-0.008822</td>\n",
       "      <td>0.005557</td>\n",
       "    </tr>\n",
       "    <tr>\n",
       "      <th>對照人</th>\n",
       "      <td>-0.001737</td>\n",
       "      <td>-0.002281</td>\n",
       "      <td>-0.000000</td>\n",
       "      <td>0.000000</td>\n",
       "      <td>0.003506</td>\n",
       "      <td>-0.005959</td>\n",
       "      <td>0.010095</td>\n",
       "      <td>0.094115</td>\n",
       "      <td>0.030664</td>\n",
       "      <td>0.009510</td>\n",
       "    </tr>\n",
       "    <tr>\n",
       "      <th>主席</th>\n",
       "      <td>-0.911305</td>\n",
       "      <td>-0.884550</td>\n",
       "      <td>-0.014866</td>\n",
       "      <td>0.003506</td>\n",
       "      <td>1.000000</td>\n",
       "      <td>0.051441</td>\n",
       "      <td>0.075239</td>\n",
       "      <td>0.044996</td>\n",
       "      <td>-0.026098</td>\n",
       "      <td>-0.543665</td>\n",
       "    </tr>\n",
       "    <tr>\n",
       "      <th>people</th>\n",
       "      <td>-0.057375</td>\n",
       "      <td>-0.057837</td>\n",
       "      <td>0.047717</td>\n",
       "      <td>-0.005959</td>\n",
       "      <td>0.051441</td>\n",
       "      <td>1.000000</td>\n",
       "      <td>0.010421</td>\n",
       "      <td>-0.020318</td>\n",
       "      <td>-0.016632</td>\n",
       "      <td>-0.051110</td>\n",
       "    </tr>\n",
       "    <tr>\n",
       "      <th>調解次數</th>\n",
       "      <td>-0.084035</td>\n",
       "      <td>-0.078738</td>\n",
       "      <td>0.007641</td>\n",
       "      <td>0.010095</td>\n",
       "      <td>0.075239</td>\n",
       "      <td>0.010421</td>\n",
       "      <td>1.000000</td>\n",
       "      <td>0.115864</td>\n",
       "      <td>0.104137</td>\n",
       "      <td>-0.030812</td>\n",
       "    </tr>\n",
       "    <tr>\n",
       "      <th>調解人數</th>\n",
       "      <td>-0.029792</td>\n",
       "      <td>-0.021440</td>\n",
       "      <td>-0.000990</td>\n",
       "      <td>0.094115</td>\n",
       "      <td>0.044996</td>\n",
       "      <td>-0.020318</td>\n",
       "      <td>0.115864</td>\n",
       "      <td>1.000000</td>\n",
       "      <td>0.573040</td>\n",
       "      <td>0.070428</td>\n",
       "    </tr>\n",
       "    <tr>\n",
       "      <th>have_other</th>\n",
       "      <td>0.032234</td>\n",
       "      <td>0.030596</td>\n",
       "      <td>-0.008822</td>\n",
       "      <td>0.030664</td>\n",
       "      <td>-0.026098</td>\n",
       "      <td>-0.016632</td>\n",
       "      <td>0.104137</td>\n",
       "      <td>0.573040</td>\n",
       "      <td>1.000000</td>\n",
       "      <td>0.042217</td>\n",
       "    </tr>\n",
       "    <tr>\n",
       "      <th>縣市合併</th>\n",
       "      <td>0.637676</td>\n",
       "      <td>0.688910</td>\n",
       "      <td>0.005557</td>\n",
       "      <td>0.009510</td>\n",
       "      <td>-0.543665</td>\n",
       "      <td>-0.051110</td>\n",
       "      <td>-0.030812</td>\n",
       "      <td>0.070428</td>\n",
       "      <td>0.042217</td>\n",
       "      <td>1.000000</td>\n",
       "    </tr>\n",
       "  </tbody>\n",
       "</table>\n",
       "</div>"
      ],
      "text/plain": [
       "            Unnamed: 0        id      name       對照人        主席    people  \\\n",
       "Unnamed: 0    1.000000  0.984876  0.011837 -0.001737 -0.911305 -0.057375   \n",
       "id            0.984876  1.000000  0.011121 -0.002281 -0.884550 -0.057837   \n",
       "name          0.011837  0.011121  0.000000 -0.000000 -0.014866  0.047717   \n",
       "對照人          -0.001737 -0.002281 -0.000000  0.000000  0.003506 -0.005959   \n",
       "主席           -0.911305 -0.884550 -0.014866  0.003506  1.000000  0.051441   \n",
       "people       -0.057375 -0.057837  0.047717 -0.005959  0.051441  1.000000   \n",
       "調解次數         -0.084035 -0.078738  0.007641  0.010095  0.075239  0.010421   \n",
       "調解人數         -0.029792 -0.021440 -0.000990  0.094115  0.044996 -0.020318   \n",
       "have_other    0.032234  0.030596 -0.008822  0.030664 -0.026098 -0.016632   \n",
       "縣市合併          0.637676  0.688910  0.005557  0.009510 -0.543665 -0.051110   \n",
       "\n",
       "                調解次數      調解人數  have_other      縣市合併  \n",
       "Unnamed: 0 -0.084035 -0.029792    0.032234  0.637676  \n",
       "id         -0.078738 -0.021440    0.030596  0.688910  \n",
       "name        0.007641 -0.000990   -0.008822  0.005557  \n",
       "對照人         0.010095  0.094115    0.030664  0.009510  \n",
       "主席          0.075239  0.044996   -0.026098 -0.543665  \n",
       "people      0.010421 -0.020318   -0.016632 -0.051110  \n",
       "調解次數        1.000000  0.115864    0.104137 -0.030812  \n",
       "調解人數        0.115864  1.000000    0.573040  0.070428  \n",
       "have_other  0.104137  0.573040    1.000000  0.042217  \n",
       "縣市合併       -0.030812  0.070428    0.042217  1.000000  "
      ]
     },
     "execution_count": 8,
     "metadata": {},
     "output_type": "execute_result"
    }
   ],
   "source": [
    "train_df.corr()"
   ]
  },
  {
   "cell_type": "code",
   "execution_count": 9,
   "metadata": {},
   "outputs": [
    {
     "data": {
      "text/html": [
       "<div>\n",
       "<style scoped>\n",
       "    .dataframe tbody tr th:only-of-type {\n",
       "        vertical-align: middle;\n",
       "    }\n",
       "\n",
       "    .dataframe tbody tr th {\n",
       "        vertical-align: top;\n",
       "    }\n",
       "\n",
       "    .dataframe thead th {\n",
       "        text-align: right;\n",
       "    }\n",
       "</style>\n",
       "<table border=\"1\" class=\"dataframe\">\n",
       "  <thead>\n",
       "    <tr style=\"text-align: right;\">\n",
       "      <th></th>\n",
       "      <th>Unnamed: 0</th>\n",
       "      <th>id</th>\n",
       "      <th>收件日期</th>\n",
       "      <th>收件時間</th>\n",
       "      <th>結案日期</th>\n",
       "      <th>結案時間</th>\n",
       "      <th>協調開會方式</th>\n",
       "      <th>案件大類型</th>\n",
       "      <th>案件細節類型</th>\n",
       "      <th>name</th>\n",
       "      <th>...</th>\n",
       "      <th>people</th>\n",
       "      <th>是否成立</th>\n",
       "      <th>和解條件</th>\n",
       "      <th>調解現況</th>\n",
       "      <th>調解次數</th>\n",
       "      <th>調解人數</th>\n",
       "      <th>have_other</th>\n",
       "      <th>調解天數</th>\n",
       "      <th>縣市合併</th>\n",
       "      <th>調解內容與決議</th>\n",
       "    </tr>\n",
       "  </thead>\n",
       "  <tbody>\n",
       "    <tr>\n",
       "      <th>0</th>\n",
       "      <td>0</td>\n",
       "      <td>9800147</td>\n",
       "      <td>2009/3/19</td>\n",
       "      <td>10:48</td>\n",
       "      <td>2009/3/19</td>\n",
       "      <td>15:00</td>\n",
       "      <td>獨任</td>\n",
       "      <td>A.民事</td>\n",
       "      <td>損害賠償</td>\n",
       "      <td>3.560000e+14</td>\n",
       "      <td>...</td>\n",
       "      <td>3.230000e+14</td>\n",
       "      <td>當事人不到場</td>\n",
       "      <td>NaN</td>\n",
       "      <td>調解書已歸檔。</td>\n",
       "      <td>1.0</td>\n",
       "      <td>3</td>\n",
       "      <td>0</td>\n",
       "      <td>1</td>\n",
       "      <td>0</td>\n",
       "      <td>民國〈下同〉97年12月6日下午6時30分許，OOO駕駛皇冠交通股份有限公司所有（車號：99...</td>\n",
       "    </tr>\n",
       "    <tr>\n",
       "      <th>1</th>\n",
       "      <td>1</td>\n",
       "      <td>9800150</td>\n",
       "      <td>2009/3/19</td>\n",
       "      <td>19:49</td>\n",
       "      <td>2009/5/5</td>\n",
       "      <td>14:30</td>\n",
       "      <td>獨任</td>\n",
       "      <td>B.刑事</td>\n",
       "      <td>車禍傷害糾紛</td>\n",
       "      <td>2.680000e+21</td>\n",
       "      <td>...</td>\n",
       "      <td>3.850000e+14</td>\n",
       "      <td>成立</td>\n",
       "      <td>NaN</td>\n",
       "      <td>調解書已歸檔。</td>\n",
       "      <td>2.0</td>\n",
       "      <td>5</td>\n",
       "      <td>1</td>\n",
       "      <td>34</td>\n",
       "      <td>0</td>\n",
       "      <td>民國〈下同〉98年2月7日0時5分許，第3人XXX騎乘本人CE7－063號機車搭載梁信瑋與陳...</td>\n",
       "    </tr>\n",
       "    <tr>\n",
       "      <th>2</th>\n",
       "      <td>2</td>\n",
       "      <td>9800151</td>\n",
       "      <td>2009/3/23</td>\n",
       "      <td>08:50</td>\n",
       "      <td>2009/4/14</td>\n",
       "      <td>15:30</td>\n",
       "      <td>NaN</td>\n",
       "      <td>A.民事</td>\n",
       "      <td>車禍損害賠償</td>\n",
       "      <td>2.780000e+14</td>\n",
       "      <td>...</td>\n",
       "      <td>NaN</td>\n",
       "      <td>當事人不到場</td>\n",
       "      <td>NaN</td>\n",
       "      <td>調解書已歸檔。</td>\n",
       "      <td>2.0</td>\n",
       "      <td>3</td>\n",
       "      <td>0</td>\n",
       "      <td>17</td>\n",
       "      <td>0</td>\n",
       "      <td>民國〈下同〉98年1月25日19時45分許，汪國全騎乘本人所有981－CBS號機車，在臺南市...</td>\n",
       "    </tr>\n",
       "    <tr>\n",
       "      <th>3</th>\n",
       "      <td>3</td>\n",
       "      <td>9800152</td>\n",
       "      <td>2009/3/23</td>\n",
       "      <td>08:55</td>\n",
       "      <td>2009/3/31</td>\n",
       "      <td>15:00</td>\n",
       "      <td>獨任</td>\n",
       "      <td>B.刑事</td>\n",
       "      <td>車禍傷害糾紛</td>\n",
       "      <td>3.410000e+14</td>\n",
       "      <td>...</td>\n",
       "      <td>3.040000e+14</td>\n",
       "      <td>聲請人撤回</td>\n",
       "      <td>NaN</td>\n",
       "      <td>調解書已歸檔。</td>\n",
       "      <td>1.0</td>\n",
       "      <td>3</td>\n",
       "      <td>0</td>\n",
       "      <td>7</td>\n",
       "      <td>0</td>\n",
       "      <td>民國〈下同〉98年2月12日9時49分許，謝天智駕駛OOO所有N8－0250號自小客車，在臺...</td>\n",
       "    </tr>\n",
       "    <tr>\n",
       "      <th>4</th>\n",
       "      <td>4</td>\n",
       "      <td>9800153</td>\n",
       "      <td>2009/3/23</td>\n",
       "      <td>08:59</td>\n",
       "      <td>2009/4/16</td>\n",
       "      <td>15:00</td>\n",
       "      <td>NaN</td>\n",
       "      <td>A.民事</td>\n",
       "      <td>財務糾紛</td>\n",
       "      <td>2.960000e+14</td>\n",
       "      <td>...</td>\n",
       "      <td>NaN</td>\n",
       "      <td>當事人不到場</td>\n",
       "      <td>NaN</td>\n",
       "      <td>調解書已歸檔。</td>\n",
       "      <td>2.0</td>\n",
       "      <td>2</td>\n",
       "      <td>0</td>\n",
       "      <td>19</td>\n",
       "      <td>0</td>\n",
       "      <td>雙方因合夥投資，辦理企業貸款及退股爭議申請調解，</td>\n",
       "    </tr>\n",
       "    <tr>\n",
       "      <th>5</th>\n",
       "      <td>5</td>\n",
       "      <td>9800154</td>\n",
       "      <td>2009/3/19</td>\n",
       "      <td>09:32</td>\n",
       "      <td>2009/4/28</td>\n",
       "      <td>14:30</td>\n",
       "      <td>NaN</td>\n",
       "      <td>B.刑事</td>\n",
       "      <td>車禍傷害糾紛</td>\n",
       "      <td>3.040000e+14</td>\n",
       "      <td>...</td>\n",
       "      <td>NaN</td>\n",
       "      <td>聲請人撤回</td>\n",
       "      <td>NaN</td>\n",
       "      <td>調解書已歸檔。</td>\n",
       "      <td>2.0</td>\n",
       "      <td>3</td>\n",
       "      <td>0</td>\n",
       "      <td>29</td>\n",
       "      <td>0</td>\n",
       "      <td>民國〈下同〉98年3月4日21時15分許，聲請人OOO騎乘本人所有TLM－290號機車搭載王...</td>\n",
       "    </tr>\n",
       "    <tr>\n",
       "      <th>6</th>\n",
       "      <td>6</td>\n",
       "      <td>9800157</td>\n",
       "      <td>2009/3/27</td>\n",
       "      <td>14:34</td>\n",
       "      <td>2009/6/9</td>\n",
       "      <td>14:00</td>\n",
       "      <td>獨任</td>\n",
       "      <td>B.刑事</td>\n",
       "      <td>車禍傷害糾紛</td>\n",
       "      <td>2.160000e+14</td>\n",
       "      <td>...</td>\n",
       "      <td>3.850000e+14</td>\n",
       "      <td>成立</td>\n",
       "      <td>NaN</td>\n",
       "      <td>調解書已歸檔。</td>\n",
       "      <td>6.0</td>\n",
       "      <td>3</td>\n",
       "      <td>1</td>\n",
       "      <td>53</td>\n",
       "      <td>0</td>\n",
       "      <td>民國〈下同〉97年12月18日9時55分許，OOO騎乘（車號：NM2－716號）機車與XXX...</td>\n",
       "    </tr>\n",
       "    <tr>\n",
       "      <th>7</th>\n",
       "      <td>7</td>\n",
       "      <td>9800158</td>\n",
       "      <td>2009/3/27</td>\n",
       "      <td>15:41</td>\n",
       "      <td>2009/4/2</td>\n",
       "      <td>14:30</td>\n",
       "      <td>獨任</td>\n",
       "      <td>A.民事</td>\n",
       "      <td>債務糾紛</td>\n",
       "      <td>4.060000e+14</td>\n",
       "      <td>...</td>\n",
       "      <td>3.230000e+14</td>\n",
       "      <td>當事人不到場</td>\n",
       "      <td>NaN</td>\n",
       "      <td>調解書已歸檔。</td>\n",
       "      <td>1.0</td>\n",
       "      <td>2</td>\n",
       "      <td>0</td>\n",
       "      <td>5</td>\n",
       "      <td>0</td>\n",
       "      <td>聲請人指稱XXX93年間，向聲請人借款新台幣壹拾貳萬捌佰元，經臺灣臺南地方法院94年9月7日...</td>\n",
       "    </tr>\n",
       "    <tr>\n",
       "      <th>8</th>\n",
       "      <td>8</td>\n",
       "      <td>9800159</td>\n",
       "      <td>2009/3/27</td>\n",
       "      <td>16:17</td>\n",
       "      <td>2009/5/21</td>\n",
       "      <td>15:00</td>\n",
       "      <td>獨任</td>\n",
       "      <td>B.刑事</td>\n",
       "      <td>毀損糾紛</td>\n",
       "      <td>3.560000e+14</td>\n",
       "      <td>...</td>\n",
       "      <td>3.230000e+14</td>\n",
       "      <td>不成立</td>\n",
       "      <td>NaN</td>\n",
       "      <td>調解書已歸檔。</td>\n",
       "      <td>2.0</td>\n",
       "      <td>3</td>\n",
       "      <td>0</td>\n",
       "      <td>40</td>\n",
       "      <td>0</td>\n",
       "      <td>OOO指稱98年1月21日19時在台南市開元路73巷66之7號其所有之電動車損壞，與王俊能、...</td>\n",
       "    </tr>\n",
       "    <tr>\n",
       "      <th>9</th>\n",
       "      <td>9</td>\n",
       "      <td>9800160</td>\n",
       "      <td>2009/3/27</td>\n",
       "      <td>16:40</td>\n",
       "      <td>2009/4/2</td>\n",
       "      <td>15:00</td>\n",
       "      <td>NaN</td>\n",
       "      <td>A.民事</td>\n",
       "      <td>損害賠償</td>\n",
       "      <td>2.650000e+14</td>\n",
       "      <td>...</td>\n",
       "      <td>NaN</td>\n",
       "      <td>聲請人撤回</td>\n",
       "      <td>NaN</td>\n",
       "      <td>調解書已歸檔。</td>\n",
       "      <td>1.0</td>\n",
       "      <td>2</td>\n",
       "      <td>0</td>\n",
       "      <td>5</td>\n",
       "      <td>0</td>\n",
       "      <td>no sentence</td>\n",
       "    </tr>\n",
       "  </tbody>\n",
       "</table>\n",
       "<p>10 rows × 22 columns</p>\n",
       "</div>"
      ],
      "text/plain": [
       "   Unnamed: 0       id       收件日期   收件時間       結案日期   結案時間 協調開會方式 案件大類型  \\\n",
       "0           0  9800147  2009/3/19  10:48  2009/3/19  15:00     獨任  A.民事   \n",
       "1           1  9800150  2009/3/19  19:49   2009/5/5  14:30     獨任  B.刑事   \n",
       "2           2  9800151  2009/3/23  08:50  2009/4/14  15:30    NaN  A.民事   \n",
       "3           3  9800152  2009/3/23  08:55  2009/3/31  15:00     獨任  B.刑事   \n",
       "4           4  9800153  2009/3/23  08:59  2009/4/16  15:00    NaN  A.民事   \n",
       "5           5  9800154  2009/3/19  09:32  2009/4/28  14:30    NaN  B.刑事   \n",
       "6           6  9800157  2009/3/27  14:34   2009/6/9  14:00     獨任  B.刑事   \n",
       "7           7  9800158  2009/3/27  15:41   2009/4/2  14:30     獨任  A.民事   \n",
       "8           8  9800159  2009/3/27  16:17  2009/5/21  15:00     獨任  B.刑事   \n",
       "9           9  9800160  2009/3/27  16:40   2009/4/2  15:00    NaN  A.民事   \n",
       "\n",
       "   案件細節類型          name                        ...                          \\\n",
       "0    損害賠償  3.560000e+14                        ...                           \n",
       "1  車禍傷害糾紛  2.680000e+21                        ...                           \n",
       "2  車禍損害賠償  2.780000e+14                        ...                           \n",
       "3  車禍傷害糾紛  3.410000e+14                        ...                           \n",
       "4    財務糾紛  2.960000e+14                        ...                           \n",
       "5  車禍傷害糾紛  3.040000e+14                        ...                           \n",
       "6  車禍傷害糾紛  2.160000e+14                        ...                           \n",
       "7    債務糾紛  4.060000e+14                        ...                           \n",
       "8    毀損糾紛  3.560000e+14                        ...                           \n",
       "9    損害賠償  2.650000e+14                        ...                           \n",
       "\n",
       "         people    是否成立  和解條件     調解現況 調解次數 調解人數  have_other  調解天數  縣市合併  \\\n",
       "0  3.230000e+14  當事人不到場   NaN  調解書已歸檔。  1.0    3           0     1     0   \n",
       "1  3.850000e+14      成立   NaN  調解書已歸檔。  2.0    5           1    34     0   \n",
       "2           NaN  當事人不到場   NaN  調解書已歸檔。  2.0    3           0    17     0   \n",
       "3  3.040000e+14   聲請人撤回   NaN  調解書已歸檔。  1.0    3           0     7     0   \n",
       "4           NaN  當事人不到場   NaN  調解書已歸檔。  2.0    2           0    19     0   \n",
       "5           NaN   聲請人撤回   NaN  調解書已歸檔。  2.0    3           0    29     0   \n",
       "6  3.850000e+14      成立   NaN  調解書已歸檔。  6.0    3           1    53     0   \n",
       "7  3.230000e+14  當事人不到場   NaN  調解書已歸檔。  1.0    2           0     5     0   \n",
       "8  3.230000e+14     不成立   NaN  調解書已歸檔。  2.0    3           0    40     0   \n",
       "9           NaN   聲請人撤回   NaN  調解書已歸檔。  1.0    2           0     5     0   \n",
       "\n",
       "                                             調解內容與決議  \n",
       "0  民國〈下同〉97年12月6日下午6時30分許，OOO駕駛皇冠交通股份有限公司所有（車號：99...  \n",
       "1  民國〈下同〉98年2月7日0時5分許，第3人XXX騎乘本人CE7－063號機車搭載梁信瑋與陳...  \n",
       "2  民國〈下同〉98年1月25日19時45分許，汪國全騎乘本人所有981－CBS號機車，在臺南市...  \n",
       "3  民國〈下同〉98年2月12日9時49分許，謝天智駕駛OOO所有N8－0250號自小客車，在臺...  \n",
       "4                           雙方因合夥投資，辦理企業貸款及退股爭議申請調解，  \n",
       "5  民國〈下同〉98年3月4日21時15分許，聲請人OOO騎乘本人所有TLM－290號機車搭載王...  \n",
       "6  民國〈下同〉97年12月18日9時55分許，OOO騎乘（車號：NM2－716號）機車與XXX...  \n",
       "7  聲請人指稱XXX93年間，向聲請人借款新台幣壹拾貳萬捌佰元，經臺灣臺南地方法院94年9月7日...  \n",
       "8  OOO指稱98年1月21日19時在台南市開元路73巷66之7號其所有之電動車損壞，與王俊能、...  \n",
       "9                                        no sentence  \n",
       "\n",
       "[10 rows x 22 columns]"
      ]
     },
     "execution_count": 9,
     "metadata": {},
     "output_type": "execute_result"
    }
   ],
   "source": [
    "train_df.head(10)"
   ]
  },
  {
   "cell_type": "code",
   "execution_count": 10,
   "metadata": {},
   "outputs": [
    {
     "name": "stdout",
     "output_type": "stream",
     "text": [
      "True\n"
     ]
    }
   ],
   "source": [
    "print(np.any(train_df.isnull()) == True)"
   ]
  },
  {
   "cell_type": "code",
   "execution_count": 11,
   "metadata": {},
   "outputs": [],
   "source": [
    "train_comments = train_df['調解內容與決議'].fillna('no comment').values\n",
    "train_comments_lengths = [len(str(s)) for s in train_comments]"
   ]
  },
  {
   "cell_type": "code",
   "execution_count": 12,
   "metadata": {},
   "outputs": [
    {
     "name": "stdout",
     "output_type": "stream",
     "text": [
      "------Train------\n",
      "MAX LENGTH:\t\t 1041\n",
      "AVG LENGTH:\t\t 168.21076947586425\n",
      "MIN LENGTH:\t\t 5\n",
      "STANDARD DIVISION:\t 112.13384869972471\n",
      "RANGE:\t\t\t 5  to  392.47846687531364\n"
     ]
    }
   ],
   "source": [
    "def explore_comments(arr):\n",
    "    print(\"MAX LENGTH:\\t\\t\", np.max(arr))\n",
    "    print(\"AVG LENGTH:\\t\\t\", np.average(arr))\n",
    "    print(\"MIN LENGTH:\\t\\t\", np.min(arr))\n",
    "    print(\"STANDARD DIVISION:\\t\", np.std(arr))\n",
    "    print(\"RANGE:\\t\\t\\t\", np.min(arr), \" to \", np.average(arr) + 2 * np.std(arr))\n",
    "    \n",
    "print(\"------Train------\")\n",
    "explore_comments(train_comments_lengths)"
   ]
  },
  {
   "cell_type": "code",
   "execution_count": 13,
   "metadata": {},
   "outputs": [
    {
     "name": "stdout",
     "output_type": "stream",
     "text": [
      "成立        3580\n",
      "不成立       1497\n",
      "當事人不到場     832\n",
      "聲請人撤回      347\n",
      "不受理         21\n",
      "Name: 是否成立, dtype: int64\n"
     ]
    }
   ],
   "source": [
    "print(train_df['是否成立'].value_counts())"
   ]
  },
  {
   "cell_type": "code",
   "execution_count": 14,
   "metadata": {},
   "outputs": [
    {
     "data": {
      "image/png": "[encoded data removed]",
      "text/plain": [
       "<matplotlib.figure.Figure at 0x21610e25278>"
      ]
     },
     "metadata": {},
     "output_type": "display_data"
    }
   ],
   "source": [
    "sns.set()\n",
    "pd.Series(train_comments_lengths).astype(int).hist()\n",
    "plt.show()"
   ]
  },
  {
   "cell_type": "markdown",
   "metadata": {},
   "source": [
    "# Data Cleaning"
   ]
  },
  {
   "cell_type": "markdown",
   "metadata": {},
   "source": [
    "## Transfer Lable to One-hot"
   ]
  },
  {
   "cell_type": "code",
   "execution_count": 15,
   "metadata": {},
   "outputs": [
    {
     "data": {
      "text/html": [
       "<div>\n",
       "<style scoped>\n",
       "    .dataframe tbody tr th:only-of-type {\n",
       "        vertical-align: middle;\n",
       "    }\n",
       "\n",
       "    .dataframe tbody tr th {\n",
       "        vertical-align: top;\n",
       "    }\n",
       "\n",
       "    .dataframe thead th {\n",
       "        text-align: right;\n",
       "    }\n",
       "</style>\n",
       "<table border=\"1\" class=\"dataframe\">\n",
       "  <thead>\n",
       "    <tr style=\"text-align: right;\">\n",
       "      <th></th>\n",
       "      <th>Unnamed: 0</th>\n",
       "      <th>id</th>\n",
       "      <th>收件日期</th>\n",
       "      <th>收件時間</th>\n",
       "      <th>結案日期</th>\n",
       "      <th>結案時間</th>\n",
       "      <th>協調開會方式</th>\n",
       "      <th>案件大類型</th>\n",
       "      <th>案件細節類型</th>\n",
       "      <th>name</th>\n",
       "      <th>...</th>\n",
       "      <th>調解人數</th>\n",
       "      <th>have_other</th>\n",
       "      <th>調解天數</th>\n",
       "      <th>縣市合併</th>\n",
       "      <th>調解內容與決議</th>\n",
       "      <th>不受理</th>\n",
       "      <th>不成立</th>\n",
       "      <th>成立</th>\n",
       "      <th>當事人不到場</th>\n",
       "      <th>聲請人撤回</th>\n",
       "    </tr>\n",
       "  </thead>\n",
       "  <tbody>\n",
       "    <tr>\n",
       "      <th>0</th>\n",
       "      <td>0</td>\n",
       "      <td>9800147</td>\n",
       "      <td>2009/3/19</td>\n",
       "      <td>10:48</td>\n",
       "      <td>2009/3/19</td>\n",
       "      <td>15:00</td>\n",
       "      <td>獨任</td>\n",
       "      <td>A.民事</td>\n",
       "      <td>損害賠償</td>\n",
       "      <td>3.560000e+14</td>\n",
       "      <td>...</td>\n",
       "      <td>3</td>\n",
       "      <td>0</td>\n",
       "      <td>1</td>\n",
       "      <td>0</td>\n",
       "      <td>民國〈下同〉97年12月6日下午6時30分許，OOO駕駛皇冠交通股份有限公司所有（車號：99...</td>\n",
       "      <td>0</td>\n",
       "      <td>0</td>\n",
       "      <td>0</td>\n",
       "      <td>1</td>\n",
       "      <td>0</td>\n",
       "    </tr>\n",
       "    <tr>\n",
       "      <th>1</th>\n",
       "      <td>1</td>\n",
       "      <td>9800150</td>\n",
       "      <td>2009/3/19</td>\n",
       "      <td>19:49</td>\n",
       "      <td>2009/5/5</td>\n",
       "      <td>14:30</td>\n",
       "      <td>獨任</td>\n",
       "      <td>B.刑事</td>\n",
       "      <td>車禍傷害糾紛</td>\n",
       "      <td>2.680000e+21</td>\n",
       "      <td>...</td>\n",
       "      <td>5</td>\n",
       "      <td>1</td>\n",
       "      <td>34</td>\n",
       "      <td>0</td>\n",
       "      <td>民國〈下同〉98年2月7日0時5分許，第3人XXX騎乘本人CE7－063號機車搭載梁信瑋與陳...</td>\n",
       "      <td>0</td>\n",
       "      <td>0</td>\n",
       "      <td>1</td>\n",
       "      <td>0</td>\n",
       "      <td>0</td>\n",
       "    </tr>\n",
       "    <tr>\n",
       "      <th>2</th>\n",
       "      <td>2</td>\n",
       "      <td>9800151</td>\n",
       "      <td>2009/3/23</td>\n",
       "      <td>08:50</td>\n",
       "      <td>2009/4/14</td>\n",
       "      <td>15:30</td>\n",
       "      <td>NaN</td>\n",
       "      <td>A.民事</td>\n",
       "      <td>車禍損害賠償</td>\n",
       "      <td>2.780000e+14</td>\n",
       "      <td>...</td>\n",
       "      <td>3</td>\n",
       "      <td>0</td>\n",
       "      <td>17</td>\n",
       "      <td>0</td>\n",
       "      <td>民國〈下同〉98年1月25日19時45分許，汪國全騎乘本人所有981－CBS號機車，在臺南市...</td>\n",
       "      <td>0</td>\n",
       "      <td>0</td>\n",
       "      <td>0</td>\n",
       "      <td>1</td>\n",
       "      <td>0</td>\n",
       "    </tr>\n",
       "    <tr>\n",
       "      <th>3</th>\n",
       "      <td>3</td>\n",
       "      <td>9800152</td>\n",
       "      <td>2009/3/23</td>\n",
       "      <td>08:55</td>\n",
       "      <td>2009/3/31</td>\n",
       "      <td>15:00</td>\n",
       "      <td>獨任</td>\n",
       "      <td>B.刑事</td>\n",
       "      <td>車禍傷害糾紛</td>\n",
       "      <td>3.410000e+14</td>\n",
       "      <td>...</td>\n",
       "      <td>3</td>\n",
       "      <td>0</td>\n",
       "      <td>7</td>\n",
       "      <td>0</td>\n",
       "      <td>民國〈下同〉98年2月12日9時49分許，謝天智駕駛OOO所有N8－0250號自小客車，在臺...</td>\n",
       "      <td>0</td>\n",
       "      <td>0</td>\n",
       "      <td>0</td>\n",
       "      <td>0</td>\n",
       "      <td>1</td>\n",
       "    </tr>\n",
       "    <tr>\n",
       "      <th>4</th>\n",
       "      <td>4</td>\n",
       "      <td>9800153</td>\n",
       "      <td>2009/3/23</td>\n",
       "      <td>08:59</td>\n",
       "      <td>2009/4/16</td>\n",
       "      <td>15:00</td>\n",
       "      <td>NaN</td>\n",
       "      <td>A.民事</td>\n",
       "      <td>財務糾紛</td>\n",
       "      <td>2.960000e+14</td>\n",
       "      <td>...</td>\n",
       "      <td>2</td>\n",
       "      <td>0</td>\n",
       "      <td>19</td>\n",
       "      <td>0</td>\n",
       "      <td>雙方因合夥投資，辦理企業貸款及退股爭議申請調解，</td>\n",
       "      <td>0</td>\n",
       "      <td>0</td>\n",
       "      <td>0</td>\n",
       "      <td>1</td>\n",
       "      <td>0</td>\n",
       "    </tr>\n",
       "  </tbody>\n",
       "</table>\n",
       "<p>5 rows × 27 columns</p>\n",
       "</div>"
      ],
      "text/plain": [
       "   Unnamed: 0       id       收件日期   收件時間       結案日期   結案時間 協調開會方式 案件大類型  \\\n",
       "0           0  9800147  2009/3/19  10:48  2009/3/19  15:00     獨任  A.民事   \n",
       "1           1  9800150  2009/3/19  19:49   2009/5/5  14:30     獨任  B.刑事   \n",
       "2           2  9800151  2009/3/23  08:50  2009/4/14  15:30    NaN  A.民事   \n",
       "3           3  9800152  2009/3/23  08:55  2009/3/31  15:00     獨任  B.刑事   \n",
       "4           4  9800153  2009/3/23  08:59  2009/4/16  15:00    NaN  A.民事   \n",
       "\n",
       "   案件細節類型          name  ...   調解人數  have_other  調解天數 縣市合併  \\\n",
       "0    損害賠償  3.560000e+14  ...      3           0     1    0   \n",
       "1  車禍傷害糾紛  2.680000e+21  ...      5           1    34    0   \n",
       "2  車禍損害賠償  2.780000e+14  ...      3           0    17    0   \n",
       "3  車禍傷害糾紛  3.410000e+14  ...      3           0     7    0   \n",
       "4    財務糾紛  2.960000e+14  ...      2           0    19    0   \n",
       "\n",
       "                                             調解內容與決議 不受理  不成立  成立  當事人不到場  \\\n",
       "0  民國〈下同〉97年12月6日下午6時30分許，OOO駕駛皇冠交通股份有限公司所有（車號：99...   0    0   0       1   \n",
       "1  民國〈下同〉98年2月7日0時5分許，第3人XXX騎乘本人CE7－063號機車搭載梁信瑋與陳...   0    0   1       0   \n",
       "2  民國〈下同〉98年1月25日19時45分許，汪國全騎乘本人所有981－CBS號機車，在臺南市...   0    0   0       1   \n",
       "3  民國〈下同〉98年2月12日9時49分許，謝天智駕駛OOO所有N8－0250號自小客車，在臺...   0    0   0       0   \n",
       "4                           雙方因合夥投資，辦理企業貸款及退股爭議申請調解，   0    0   0       1   \n",
       "\n",
       "  聲請人撤回  \n",
       "0     0  \n",
       "1     0  \n",
       "2     0  \n",
       "3     1  \n",
       "4     0  \n",
       "\n",
       "[5 rows x 27 columns]"
      ]
     },
     "execution_count": 15,
     "metadata": {},
     "output_type": "execute_result"
    }
   ],
   "source": [
    "Score = train_df['是否成立']\n",
    "data = pd.get_dummies(Score)\n",
    "train_df = pd.concat([train_df, data], axis=1)\n",
    "train_df.head()"
   ]
  },
  {
   "cell_type": "code",
   "execution_count": 16,
   "metadata": {},
   "outputs": [
    {
     "name": "stdout",
     "output_type": "stream",
     "text": [
      "<class 'pandas.core.frame.DataFrame'>\n",
      "RangeIndex: 6277 entries, 0 to 6276\n",
      "Data columns (total 27 columns):\n",
      "Unnamed: 0    6277 non-null int64\n",
      "id            6277 non-null int64\n",
      "收件日期          6277 non-null object\n",
      "收件時間          6277 non-null object\n",
      "結案日期          6220 non-null object\n",
      "結案時間          6220 non-null object\n",
      "協調開會方式        5251 non-null object\n",
      "案件大類型         6277 non-null object\n",
      "案件細節類型        6261 non-null object\n",
      "name          6277 non-null float64\n",
      "對照人           6271 non-null float64\n",
      "主席            6251 non-null float64\n",
      "people        4881 non-null float64\n",
      "是否成立          6277 non-null object\n",
      "和解條件          1649 non-null object\n",
      "調解現況          6277 non-null object\n",
      "調解次數          6274 non-null float64\n",
      "調解人數          6277 non-null int64\n",
      "have_other    6277 non-null int64\n",
      "調解天數          6277 non-null object\n",
      "縣市合併          6277 non-null int64\n",
      "調解內容與決議       6277 non-null object\n",
      "不受理           6277 non-null uint8\n",
      "不成立           6277 non-null uint8\n",
      "成立            6277 non-null uint8\n",
      "當事人不到場        6277 non-null uint8\n",
      "聲請人撤回         6277 non-null uint8\n",
      "dtypes: float64(5), int64(5), object(12), uint8(5)\n",
      "memory usage: 1.1+ MB\n"
     ]
    }
   ],
   "source": [
    "train_df.info()"
   ]
  },
  {
   "cell_type": "code",
   "execution_count": 17,
   "metadata": {},
   "outputs": [
    {
     "data": {
      "image/png": "[encoded data removed]",
      "text/plain": [
       "<matplotlib.figure.Figure at 0x21610f53940>"
      ]
     },
     "metadata": {},
     "output_type": "display_data"
    }
   ],
   "source": [
    "x = train_df.iloc[:, 22:].sum()\n",
    "\n",
    "plt.figure(figsize=(8, 4))\n",
    "ax = sns.barplot(x.index, x.values, alpha=0.8)\n",
    "plt.title(\"Summary\")\n",
    "plt.ylabel('Occurrences', fontsize=12)\n",
    "plt.xlabel('Results', fontsize=12)\n",
    "\n",
    "rects = ax.patches\n",
    "labels = x.values\n",
    "for rect, label in zip(rects, labels):\n",
    "    height = rect.get_height()\n",
    "    ax.text(rect.get_x() + rect.get_width() / 2, height + 5, ha='center', va='bottom', s='{:.1f}'.format(abs(label)))\n",
    "    \n",
    "plt.show()"
   ]
  },
  {
   "cell_type": "code",
   "execution_count": 18,
   "metadata": {},
   "outputs": [
    {
     "data": {
      "text/plain": [
       "<matplotlib.axes._subplots.AxesSubplot at 0x21610e25128>"
      ]
     },
     "execution_count": 18,
     "metadata": {},
     "output_type": "execute_result"
    },
    {
     "data": {
      "image/png": "[encoded data removed]",
      "text/plain": [
       "<matplotlib.figure.Figure at 0x21610ef75c0>"
      ]
     },
     "metadata": {},
     "output_type": "display_data"
    }
   ],
   "source": [
    "colormap = plt.cm.plasma\n",
    "plt.figure(figsize=(10, 8))\n",
    "plt.title('Correlation of features', y=1.05, size=14)\n",
    "sns.heatmap(data.astype(float).corr(), linewidths=0.1, vmax=1.0, square=True, cmap=colormap, linecolor='white', annot=True)"
   ]
  },
  {
   "cell_type": "code",
   "execution_count": 19,
   "metadata": {},
   "outputs": [
    {
     "data": {
      "text/plain": [
       "19"
      ]
     },
     "execution_count": 19,
     "metadata": {},
     "output_type": "execute_result"
    }
   ],
   "source": [
    "len(pd.unique(train_df['people'].fillna('no people').values)) - 1"
   ]
  },
  {
   "cell_type": "code",
   "execution_count": 20,
   "metadata": {},
   "outputs": [],
   "source": [
    "new_df = train_df.apply(lambda row: row['是否成立'] == '成立' or row['是否成立'] == '不成立', axis=1)"
   ]
  },
  {
   "cell_type": "code",
   "execution_count": 21,
   "metadata": {},
   "outputs": [
    {
     "data": {
      "text/plain": [
       "5077"
      ]
     },
     "execution_count": 21,
     "metadata": {},
     "output_type": "execute_result"
    }
   ],
   "source": [
    "df_new = train_df[new_df]\n",
    "len(df_new)"
   ]
  },
  {
   "cell_type": "code",
   "execution_count": 22,
   "metadata": {},
   "outputs": [
    {
     "name": "stdout",
     "output_type": "stream",
     "text": [
      "538 538 538 538\n"
     ]
    }
   ],
   "source": [
    "result = pd.DataFrame()\n",
    "people, ty, success, unsuc= [], [], [], []\n",
    "for n in pd.unique(df_new['people'].values):\n",
    "    for t in pd.unique(df_new['案件細節類型'].values):\n",
    "        a = df_new[df_new['people'] == n]\n",
    "        if a[a['案件細節類型'] == t]['是否成立'].empty:\n",
    "            continue\n",
    "        else:\n",
    "            b = a[a['案件細節類型'] == t]['是否成立'].value_counts()\n",
    "            people.append(n)\n",
    "            ty.append(t)\n",
    "            if len(b) == 2:\n",
    "                success.append(b['成立'])\n",
    "                unsuc.append(b['不成立'])\n",
    "            else:\n",
    "                try:\n",
    "                    success.append(b['成立'])\n",
    "                    unsuc.append('0')\n",
    "                except:\n",
    "                    success.append('0')\n",
    "                    unsuc.append(b['不成立'])\n",
    "print(len(people), len(ty), len(success), len(unsuc))\n",
    "result['people'] = people\n",
    "result['案件細節類型'] = ty\n",
    "result['成立'] = success\n",
    "result['不成立'] = unsuc"
   ]
  },
  {
   "cell_type": "code",
   "execution_count": 23,
   "metadata": {},
   "outputs": [],
   "source": [
    "result.to_csv('results/success.csv', encoding='big5', index=False)"
   ]
  },
  {
   "cell_type": "markdown",
   "metadata": {},
   "source": [
    "## Processing Clearning"
   ]
  },
  {
   "cell_type": "code",
   "execution_count": 24,
   "metadata": {},
   "outputs": [],
   "source": [
    "def clean_text(text, remove_stopwords=False):\n",
    "    # remove url\n",
    "    text = re.sub(r\"(https?:\\/\\/)*(www\\.)?[-a-zA-Z0-9@:%._\\+~#=]{2,256}\\.[a-z]{2,6}\\b([-a-zA-Z0-9@:%_\\+.~#?&//=]*)\", \"\", text)\n",
    "    \n",
    "    # Special expressions\n",
    "    text = re.sub(r'〈下同〉', '', text)\n",
    "    text = re.sub(r'（車號：[a-zA-Z0-9－]*號）', '', text)\n",
    "    text = re.sub(r'（[\\' \\']*）', '', text)\n",
    "    text = re.sub(r'（下同）', '', text)\n",
    "    text = re.sub(r'\\\\r\\\\n[0-9a-zA-Z\\\\r\\\\n]*', '', text)\n",
    "    text = re.sub(r'(口)', '', text)\n",
    "    \n",
    "    text = re.sub(r',', '，', text)\n",
    "    text = re.sub(r'\\.+', '...', text)\n",
    "    text = re.sub(r'\\.{6}', '...', text)\n",
    "    text = re.sub(r'…', '...', text)\n",
    "    text = re.sub(r';', '；', text)\n",
    "    text = re.sub(r'°', '。', text)\n",
    "    text = re.sub(r'】', ']', text)\n",
    "    text = re.sub(r'【', '[', text)\n",
    "    text = re.sub(r'\\)', '\\）', text)\n",
    "    text = re.sub(r'\\(', '\\（', text)\n",
    "    text = re.sub(r'“', '\"', text)\n",
    "    text = re.sub(r' ', '', text)\n",
    "    text = re.sub(r'”', '\"', text)\n",
    "    text = re.sub(r'～', '~', text)\n",
    "    text = re.sub(r'·', '。', text)\n",
    "    text = re.sub(r'!', '！', text)\n",
    "    text = re.sub(r'—', '-', text)\n",
    "    text = re.sub(r'》', '\\）', text)\n",
    "    text = re.sub(r'《', '\\（', text)\n",
    "    text = re.sub(r'\\?', '\\？', text)\n",
    "    text = re.sub(r'。。。', '...', text)\n",
    "    text = re.sub(r'。。。。。。', '...', text)\n",
    "    text = re.sub(r':', '：', text)\n",
    "    \n",
    "    text = special_alpha_removal.sub('', text)\n",
    "    \n",
    "    return text\n",
    "\n",
    "# regex to remove all Non-Alpha Numeric and space\n",
    "special_character_removal = re.compile(r'[^a-z\\d ]', re.IGNORECASE)\n",
    "\n",
    "# regex to remove all Alpha Numeric and space\n",
    "special_alpha_removal = re.compile(r'[a-z\\d ]', re.IGNORECASE)\n",
    "\n",
    "# regex to replace all numeric\n",
    "replace_numbers = re.compile(r'\\d+', re.IGNORECASE)\n",
    "\n",
    "# regex to replace ###...\n",
    "replace_sharp = re.compile(r'[#]+', re.IGNORECASE)"
   ]
  },
  {
   "cell_type": "code",
   "execution_count": 25,
   "metadata": {},
   "outputs": [
    {
     "name": "stdout",
     "output_type": "stream",
     "text": [
      "Processing data cleaning...\n",
      "Done!\n"
     ]
    }
   ],
   "source": [
    "cleaned_train_comments = []\n",
    "print('Processing data cleaning...')\n",
    "\n",
    "for text in train_comments:\n",
    "    cleaned_train_comments.append(clean_text(text))\n",
    "    \n",
    "train_df['cleaned_comments'] = cleaned_train_comments\n",
    "print('Done!')"
   ]
  },
  {
   "cell_type": "markdown",
   "metadata": {},
   "source": [
    "## Word segmentation analysis"
   ]
  },
  {
   "cell_type": "code",
   "execution_count": 26,
   "metadata": {},
   "outputs": [
    {
     "name": "stderr",
     "output_type": "stream",
     "text": [
      "  0%|                                                                                         | 0/6277 [00:00<?, ?it/s]Building prefix dict from C:\\Users\\c0975\\Downloads\\Competition_files-master\\dict.txt.big.txt ...\n",
      "Loading model from cache C:\\Users\\c0975\\AppData\\Local\\Temp\\jieba.uf7b5b04cdb779818526bbe2cb22cc3e5.cache\n",
      "Loading model cost 1.826 seconds.\n",
      "Prefix dict has been built succesfully.\n",
      "100%|█████████████████████████████████████████████████████████████████████████████| 6277/6277 [00:10<00:00, 606.80it/s]\n"
     ]
    },
    {
     "name": "stdout",
     "output_type": "stream",
     "text": [
      "24178\n"
     ]
    }
   ],
   "source": [
    "word_dict = defaultdict(int)\n",
    "\n",
    "for sentence in tqdm(train_df['調解內容與決議']):\n",
    "    seg_list = jieba.cut(str(sentence), cut_all=False)\n",
    "    for word in seg_list:\n",
    "        word_dict[word] += 1\n",
    "word_dict = sorted(word_dict.items(), key=operator.itemgetter(1), reverse=True)\n",
    "print(len(word_dict))"
   ]
  },
  {
   "cell_type": "code",
   "execution_count": 27,
   "metadata": {},
   "outputs": [
    {
     "name": "stderr",
     "output_type": "stream",
     "text": [
      "100%|█████████████████████████████████████████████████████████████████████████████| 6277/6277 [00:06<00:00, 978.70it/s]\n"
     ]
    },
    {
     "name": "stdout",
     "output_type": "stream",
     "text": [
      "16302\n"
     ]
    }
   ],
   "source": [
    "cleaned_word_dict = defaultdict(int)\n",
    "\n",
    "for sentence in tqdm(train_df['cleaned_comments']):\n",
    "    seg_list = jieba.cut(str(sentence), cut_all=False)\n",
    "    for word in seg_list:\n",
    "        cleaned_word_dict[word] += 1\n",
    "cleaned_word_dict = sorted(cleaned_word_dict.items(), key=operator.itemgetter(1), reverse=True)\n",
    "print(len(cleaned_word_dict))"
   ]
  },
  {
   "cell_type": "code",
   "execution_count": 28,
   "metadata": {},
   "outputs": [
    {
     "name": "stderr",
     "output_type": "stream",
     "text": [
      "100%|████████████████████████████████████████████████████████████████████████████| 6277/6277 [00:06<00:00, 1001.99it/s]\n"
     ]
    }
   ],
   "source": [
    "cut_sentences = []\n",
    "for sentence in tqdm(train_df['cleaned_comments']):\n",
    "    seg_list = jieba.cut(str(sentence), cut_all=False)\n",
    "    cut_sentences.append(\" \".join(seg_list))\n",
    "train_df['cleaned_comments_cut'] = cut_sentences"
   ]
  },
  {
   "cell_type": "code",
   "execution_count": 29,
   "metadata": {},
   "outputs": [],
   "source": [
    "cut_train_sentences = train_df['cleaned_comments_cut']"
   ]
  },
  {
   "cell_type": "code",
   "execution_count": 54,
   "metadata": {},
   "outputs": [],
   "source": [
    "cut_train_sentences = train_df['cleaned_comments']"
   ]
  },
  {
   "cell_type": "markdown",
   "metadata": {},
   "source": [
    "## A quick view of vocabulary"
   ]
  },
  {
   "cell_type": "code",
   "execution_count": 55,
   "metadata": {},
   "outputs": [
    {
     "name": "stdout",
     "output_type": "stream",
     "text": [
      "chinese_word:  16019\n",
      "dig_english_word:  8090\n",
      "sign_count:  69\n"
     ]
    },
    {
     "name": "stdout",
     "output_type": "stream",
     "text": [
      "[('人', 14841), ('年', 8512), ('月', 8438), ('聲請', 7728), ('日', 7411), ('與', 6761), ('對造', 6365), ('下同', 6191), ('民國', 5278), ('解', 5174), ('請調', 5171), ('騎乘', 5154), ('故聲', 5008), ('機車', 4915), ('號', 4829), ('時', 4559), ('臺南市', 4410), ('車損', 4364), ('在', 4344), ('發生', 4338), ('車禍', 4114), ('北區', 3905), ('如下', 3750), ('同意', 3726), ('給付', 3634), ('不', 3608), ('結果', 3456), ('造人', 3390), ('駕駛', 3330), ('對', 3209), ('請', 3153), ('含', 2998), ('所有', 2978), ('體傷', 2743), ('重型', 2742), ('分許', 2719), ('兩造', 2666), ('本', 2453), ('汽車', 2450), ('新台幣', 2411), ('其餘', 2407), ('強制', 2394), ('責任保險', 2359), ('路', 2359), ('之', 2289), ('一', 2249), ('共計', 2239), ('調解', 2210), ('事件', 2206), ('二', 2174), ('萬元', 2171), ('民事', 2145), ('請求權', 2142), ('拋棄', 2141), ('費用', 2139), ('自小', 1934), ('他', 1879), ('及其', 1866), ('必要', 1848), ('一切', 1843), ('客車', 1758), ('追究', 1741), ('致聲', 1740), ('刑事責任', 1737), ('於', 1732), ('理賠金', 1724), ('醫療費', 1700), ('慰問金', 1698), ('三', 1553), ('雙方', 1520), ('分', 1511), ('整', 1415), ('普通', 1378), ('車費', 1271), ('付清', 1251), ('本人', 1231), ('均', 1165), ('另', 1138), ('部分', 1133), ('當場', 1065), ('自用', 1064), ('小客車', 1055), ('立據', 1043), ('巷', 1034), ('台南市', 979), ('前', 972), ('約', 936), ('段', 934), ('路口', 928), ('定於', 927), ('臺南', 869), ('臺灣', 841), ('號前', 837), ('致', 831), ('無體傷', 829), ('地方法院', 828), ('受傷', 796), ('貳', 767), ('檢察署', 752), ('修', 749), ('自行處理', 748), ('及', 675), ('自行', 659), ('傷', 633), ('陳', 628), ('人體', 618), ('金額', 613), ('巷口', 608), ('房屋', 603), ('搭載', 592), ('車號', 580), ('申領', 555), ('上', 554), ('開', 546), ('方式', 520), ('向', 513), ('街', 501), ('聲', 490), ('公園路', 479), ('付予', 470), ('至', 468), ('人願', 463), ('元整', 462), ('轉介', 461), ('給', 448), ('其', 447), ('未', 441), ('小', 437), ('北路', 436), ('捌', 431), ('當事人', 428), ('街口', 426), ('公園', 426), ('有', 425), ('因', 422), ('經', 422), ('西門', 422), ('人修', 415), ('壹萬', 412), ('匯款', 407), ('口', 389), ('無車損', 388), ('願', 385), ('四', 377), ('上開', 377), ('黃', 374), ('中華', 372), ('以', 365), ('由', 365), ('帳號', 361), ('為', 360), ('後', 344), ('元', 344), ('壹', 337), ('第', 337), ('就', 335), ('仟', 322), ('長榮', 322), ('開元', 322), ('現金', 320), ('告訴', 315), ('車輛', 314), ('指稱', 305), ('南路', 305), ('壹拾', 305), ('土地', 301), ('自', 298), ('戶名', 293), ('海安', 293), ('貨車', 288), ('貳仟', 288), ('各項', 284), ('案經', 280), ('前將', 275), ('表示', 270), ('和', 268), ('全部', 268), ('樓', 267), ('有限公司', 265), ('並', 263), ('區', 263), ('賢路', 260), ('成功', 260), ('二段', 259), ('萬', 255), ('人傷', 254), ('輕型機車', 249), ('件', 247), ('立帳', 244), ('每月', 237), ('到期', 237), ('和解', 236), ('拾', 234), ('時許', 234), ('視為', 233), ('北門', 232), ('文', 231), ('明細', 230), ('付款', 226), ('三段', 226), ('文成', 224), ('處', 223), ('參', 211), ('已', 211), ('等', 210), ('東路', 208), ('約定', 206), ('分行', 206), ('郵局', 206), ('和緯路', 200), ('伍仟元整', 199), ('仟元整', 197), ('委員會', 197), ('登記', 196), ('銀行', 195), ('雙方同意', 194), ('借款', 193), ('係', 192), ('營業', 191), ('一段', 191), ('建物', 190), ('台南', 190), ('中', 190), ('如', 189), ('台幣', 189), ('歸由聲', 188), ('陸仟元整', 188), ('請求', 184), ('分期', 184), ('不在', 183), ('日起', 182), ('所', 182), ('東豐', 182), ('申請', 181), ('予聲', 180), ('中西區', 180), ('弄', 180), ('腳踏車', 179), ('致對', 177), ('永康', 176), ('行經', 175), ('賠償', 173), ('地號', 173), ('公司', 172), ('即', 171), ('大興', 170), ('玖', 169), ('新臺幣', 167), ('機構', 166), ('返還', 163), ('租金', 163), ('日止', 162), ('支付', 161), ('四段', 161), ('北安路', 161), ('傷害', 161), ('現', 159), ('期間', 159), ('互不', 159), ('年度', 158), ('帳戶', 157), ('租賃', 157), ('該', 155), ('工程', 152), ('內', 149), ('造成', 147), ('清償', 147), ('損害賠償', 145), ('附近', 144), ('糾紛', 144), ('後方', 143), ('一期', 143), ('安南', 141), ('修車', 141), ('履行', 140), ('新', 139), ('路口處', 138), ('損失', 134), ('局號', 134), ('付現金', 133), ('壹仟', 132), ('指定', 132), ('列', 132), ('匯入', 131), ('積欠', 130), ('不再', 129), ('萬伍', 127), ('無條件', 126), ('以上', 126), ('案', 125), ('林森', 125), ('各', 125), ('臨安', 124), ('客貨車', 124), ('而', 124), ('迄今', 121), ('行人', 121), ('購買', 120), ('偵辦', 120), ('求償', 119), ('負擔', 119), ('二人', 119), ('本件經', 119), ('其中', 118), ('歸', 118), ('伍拾', 118), ('相互', 117), ('撤回', 117), ('漏水', 116), ('買賣', 116), ('大', 115), ('連帶', 115), ('騎', 114), ('交付', 113), ('承租', 112), ('又', 112), ('股份', 111), ('撞', 108), ('日至', 108), ('月間', 108), ('尚未', 108), ('死亡', 107), ('提出', 107), ('使用', 106), ('東區', 105), ('金融機構', 104), ('處理', 102), ('未付', 102), ('提告', 102), ('損', 102), ('起', 101), ('前給', 100), ('完畢', 99), ('乘車', 98), ('參拾', 97), ('款', 97), ('支票', 97), ('緯', 96), ('北園', 96), ('伍仟元', 95), ('拾伍', 94), ('予對', 94), ('附件', 94), ('參仟元整', 93), ('伍', 93), ('刑事', 92), ('現場', 92), ('偵字', 91), ('惟', 88), ('號之', 88), ('期', 88), ('歿', 88), ('壹期', 86), ('車', 86), ('無法', 86), ('參萬', 86), ('押金', 85), ('伍佰元整', 85), ('文賢', 85), ('每期', 85), ('成立', 84), ('五段', 84), ('分別', 84), ('契約', 83), ('所有權', 83), ('由聲', 83), ('移轉', 82), ('本票', 82), ('參仟', 81), ('北成路', 80), ('債權', 80), ('亦', 80), ('的', 80), ('整予', 80), ('弄口', 80), ('投資', 79), ('本案', 79), ('車車', 78), ('搬遷', 78), ('遭', 77), ('日為', 76), ('毆打', 76), ('還款', 76), ('北', 75), ('權', 75), ('損害', 75), ('付款日', 74), ('範圍', 74), ('收取', 74), ('月租金', 74), ('肆', 73), ('人林', 73), ('渠', 72), ('受損', 72), ('到', 72), ('並於', 71), ('欲', 71), ('共', 71), ('行駛', 71), ('同年', 71), ('挫傷', 70), ('與育德', 70), ('面額', 70), ('債務', 70), ('北安', 70), ('本會', 70), ('五', 69), ('育德路', 69), ('偵查', 69), ('再', 69), ('屆期', 69), ('柒', 68), ('且', 68), ('二路', 67), ('權利', 67), ('忠義', 67), ('拾元', 67), ('租賃契約', 66), ('碰撞', 66), ('民德', 66), ('故', 65), ('物品', 65), ('大武', 65), ('楊', 65), ('將上', 65), ('位於', 64), ('肆仟元整', 63), ('終止', 63), ('發現', 63), ('段口', 63), ('將', 63), ('南街', 62), ('辦理', 62), ('台', 62), ('主張', 62), ('毀損', 62), ('騰空', 61), ('卻', 61), ('先至', 61), ('損壞', 61), ('問題', 60), ('伍萬', 60), ('不動產', 60), ('育德', 60), ('應', 60), ('對面', 60), ('向聲', 60), ('南區', 60), ('爭議', 60), ('系爭', 59), ('被', 59), ('涉嫌', 59), ('年間', 59), ('門牌', 59), ('票號', 58), ('安平', 58), ('擦', 58), ('車道', 57), ('公里', 57), ('陸佰元整', 57), ('北街', 57), ('大樓', 57), ('金', 57), ('金華', 57), ('一路', 57), ('沿', 57), ('號重', 56), ('租期', 56), ('住處', 56), ('用', 56), ('不慎', 56), ('導致', 56), ('武聖', 56), ('致生', 55), ('陸', 55), ('經聲', 55), ('嗣', 55), ('分在', 55), ('張', 54), ('款項', 54), ('為止', 53), ('住家', 53), ('口角', 53), ('共分', 53), ('取得', 53), ('應於', 52), ('要', 52), ('契約書', 51), ('詎', 51), ('經營', 51), ('曾', 51), ('租約', 51), ('要求', 51), ('人均', 51), ('工作', 51), ('受', 51), ('嗣經', 51), ('勝利', 50), ('回', 50), ('醫院', 50), ('委託', 50), ('廢棄物', 50), ('日期', 50), ('下午', 49), ('發票', 49), ('佰', 49), ('實踐', 49), ('日前', 48), ('坐落', 48), ('三路', 48), ('地', 48), ('惟對', 48), ('皆', 48), ('骨折', 47), ('建號', 47), ('陸續', 47), ('但', 47), ('至本會', 47), ('上午', 47), ('細故', 46), ('緯路', 46), ('居住', 46), ('徒手', 46), ('各自', 46), ('名義', 46), ('里', 46), ('長', 46), ('夫妻', 46), ('日將', 46), ('未經', 46), ('牆壁', 45), ('擔保', 45), ('你', 45), ('前鋒', 45), ('李', 45), ('名下', 45), ('價金', 44), ('簽訂', 44), ('繳納', 44), ('陸仟', 44), ('會', 44), ('予', 44), ('止', 44), ('關係', 44), ('當日', 44), ('其他', 43), ('停車場', 43), ('整給', 43), ('號處', 43), ('遺留', 43), ('以下', 43), ('肆萬伍', 43), ('商業銀行', 43), ('喪葬費', 43), ('道路', 43), ('原', 42), ('爭執', 42), ('頭部', 42), ('區長', 42), ('參萬伍', 42), ('修繕', 42), ('已經', 42), ('餘款', 42), ('日向', 42), ('或', 41), ('事後', 41), ('過失傷害', 41), ('修復', 41), ('發生爭執', 41), ('遂', 41), ('陸仟元', 41), ('中華路', 40), ('作為', 40), ('橋', 40), ('南園', 40), ('詳如', 40), ('無', 40), ('從', 40), ('中正', 40), ('停車', 39), ('肆拾', 39), ('下', 39), ('過戶', 39), ('撞擊', 39), ('除', 39), ('因此', 39), ('簽立', 39), ('提供', 39), ('負責', 39), ('因而', 39), ('利息', 39), ('共同', 39), ('避不見面', 38), ('西華', 38), ('原因', 38), ('嫌', 38), ('醫療', 38), ('手機', 38), ('肆仟', 38), ('林', 38), ('空白', 38), ('互相', 38), ('月份', 38), ('勝利路', 38), ('任由', 38), ('下稱', 38), ('兌現', 38), ('完成', 38), ('本會聲', 37), ('路邊', 37), ('並簽立', 37), ('內容', 37), ('所載', 37), ('身體', 37), ('合意', 37), ('復', 37), ('分配', 37), ('晚上', 37), ('貸款', 37), ('肆萬', 37), ('進行', 36), ('王', 36), ('西側', 36), ('承攬', 36), ('肇事', 36), ('大客車', 36), ('管理', 36), ('趙', 36), ('稱', 36), ('個', 35), ('讓', 35), ('自強', 35), ('交通', 35), ('詐欺', 35), ('第三', 35), ('蔡', 35), ('重', 35), ('本件', 35), ('父親', 34), ('事故', 34), ('相關', 34), ('壹佰', 34), ('尚有', 34), ('合約', 34), ('鍾', 34), ('繼承人', 34), ('施工', 34), ('公尺', 34), ('南', 34), ('停放', 34), ('同時', 34), ('事宜', 34), ('高雄市', 34), ('依', 34), ('責任', 34), ('間', 34), ('賢', 34), ('是', 33), ('左', 33), ('日聲', 33), ('臺南縣', 33), ('開立', 33), ('將其', 33), ('臺', 33), ('車牌號碼', 33), ('雲', 32), ('貨款', 32), ('信託', 32), ('國際', 32), ('柒仟元整', 32), ('肆佰', 32), ('仍', 32), ('需', 32), ('該車', 32), ('電動', 32), ('之列外', 32), ('拆除', 31), ('至聲', 31), ('侵占', 31), ('年月日', 31), ('前置', 31), ('依約', 31), ('永康市', 31), ('自行車', 31), ('立', 31), ('負責人', 31), ('中國', 31), ('行', 31), ('瑜', 30), ('照顧', 30), ('女兒', 30), ('仁德', 30), ('天花板', 30), ('交通事故', 30), ('拾陸', 30), ('停', 30), ('前往', 30), ('友人', 30), ('北側', 30), ('伍仟', 30), ('會款', 30), ('字', 30), ('凌晨', 30), ('因對', 30), ('擦傷', 30), ('陸萬', 30), ('名譽', 29), ('對於', 29), ('行車', 29), ('業已', 29), ('修理', 29), ('面積', 29), ('國道', 29), ('捌佰元整', 29), ('西路', 29), ('安和路', 29), ('罪嫌', 29), ('本金', 29), ('計程車', 29), ('竟', 29), ('寬', 29), ('線', 29), ('健康', 29), ('住宅', 29), ('受有', 29), ('慰撫', 28), ('電費', 28), ('南向', 28), ('妨害', 28), ('協議書', 28), ('因認', 28), ('平方公尺', 28), ('仲介', 28), ('西', 28), ('復原', 28), ('旁', 28), ('外', 28), ('另案', 28), ('離婚', 28), ('告知', 28), ('鑑定', 28), ('施作', 28), ('三個', 27), ('出租', 27), ('併', 27), ('工程款', 27), ('部份', 27), ('開南', 27), ('育成', 27), ('次', 27), ('車門', 27), ('辱罵', 27), ('北成', 27), ('甲方', 27), ('塗銷', 27), ('政府', 27), ('資料', 27), ('道', 27), ('倒地', 27), ('持', 26), ('生活費', 26), ('不向', 26), ('高雄', 26), ('伍佰元', 26), ('拍賣', 26), ('擔任', 26), ('基於', 26), ('客運', 26), ('參仟元', 26), ('自己', 26), ('號旁', 26), ('成', 26), ('住', 26), ('網站', 26), ('先生', 26), ('屋頂', 26), ('中山路', 26), ('國華', 26), ('注意', 26), ('恐嚇', 26), ('貳佰元整', 26), ('書', 25), ('情形', 25), ('情事', 25), ('北段', 25), ('參加', 25), ('左側', 25), ('互毆', 25), ('他人', 25), ('認為', 25), ('到期日', 25), ('南側', 25), ('地板', 25), ('對方', 25), ('瑄', 25), ('出售', 25), ('誠', 25), ('錯誤', 25), ('若', 25), ('富北', 25), ('大港', 25), ('左右', 25), ('歸還', 25), ('飼養', 24), ('陷於', 24), ('合作金庫', 24), ('延平', 24), ('折抵', 24), ('鄰居', 24), ('退還', 24), ('前以', 24), ('提起', 24), ('打', 24), ('右', 24), ('文賢二街', 24), ('核交字', 24), ('解除', 24), ('美', 24), ('許', 24), ('柒仟', 24), ('民族', 24), ('企業', 24), ('之後', 23), ('府', 23), ('等語', 23), ('償還', 23), ('房租', 23), ('頂樓', 23), ('日付', 23), ('簽約', 23), ('人將', 23), ('正覺', 23), ('乙', 23), ('存摺', 23), ('任何', 23), ('人王', 23), ('共有', 23), ('遭對', 23), ('合夥', 23), ('晚間', 23), ('視同', 23), ('上述', 23), ('前方', 23), ('並將', 23), ('住戶', 23), ('人時', 22), ('管理費', 22), ('修理費', 22), ('臉部', 22), ('國泰', 22), ('一街', 22), ('商品', 22), ('肆仟元', 22), ('第一', 22), ('不滿', 22), ('屋水', 22), ('丙', 22), ('男女朋友', 22), ('交', 22), ('人前', 22), ('影響', 22), ('設定', 21), ('可', 21), ('與其', 21), ('北忠街', 21), ('並約', 21), ('電話', 21), ('家庭', 21), ('調解機制', 21), ('裝潢', 21), ('店', 21), ('我', 21), ('台灣', 21), ('並未', 21), ('無擔保', 21), ('扣抵', 21), ('社區', 21), ('珊', 20), ('頸部', 20), ('加油站', 20), ('多處', 20), ('之上', 20), ('因聲', 20), ('興建', 20), ('精神', 20), ('電動車', 20), ('物', 20), ('成傷', 20), ('已於', 20), ('以後', 20), ('黃柏', 20), ('員工', 20), ('南縣', 20), ('以新', 20), ('訂金', 20), ('兩', 20), ('找', 20), ('客戶', 20), ('拉扯', 20), ('筆', 20), ('人張', 20), ('電梯', 20), ('現因', 20), ('姓名', 20), ('中正路', 20), ('立賢', 20), ('無人', 20), ('犯意', 20), ('傷車損', 20), ('右手', 20), ('補償', 20), ('新市區', 20), ('某日', 20), ('每', 20), ('多次', 20), ('願意', 20), ('妤', 19), ('款壹拾', 19), ('設備', 19), ('出面', 19), ('一張', 19), ('該屋', 19), ('路旁', 19), ('歐陽', 19), ('私立', 19), ('共新', 19), ('康樂', 19), ('市北區', 19), ('外傷', 19), ('肆佰元整', 19), ('塑膠', 19), ('保管', 19), ('屋主', 19), ('受騙', 19), ('不詳', 19), ('維修', 19), ('拿', 19), ('等等', 19), ('致其', 19), ('竊取', 19), ('戴', 19), ('目前', 19), ('浴室', 19), ('璇', 19), ('電腦', 19), ('檢察官', 19), ('離開', 19), ('門口', 19), ('破壞', 19), ('曨', 18), ('存款', 18), ('鄭', 18), ('離去', 18), ('生活', 18), ('案件', 18), ('大學', 18), ('王啟', 18), ('三方', 18), ('二街', 18), ('印章', 18), ('怡', 18), ('繼承', 18), ('地址', 18), ('分期付款', 18), ('地上', 18), ('昇', 18), ('進入', 18), ('走時', 18), ('侵害', 18), ('佯稱', 18), ('陸拾', 18), ('女', 18), ('嗣後', 18), ('透過', 18), ('確認', 18), ('配偶', 18), ('本次', 18), ('文書', 18), ('歸仁', 18), ('擅自', 18), ('綺', 18), ('嚴重', 18), ('派出所', 18), ('屋內', 18), ('人施', 18), ('揭', 18), ('去', 18), ('翁', 18), ('安明', 18), ('車牌', 18), ('偽造', 18), ('營造', 18), ('開設', 18), ('小北', 18), ('僅', 18), ('銷售', 18), ('致對造', 17), ('酒後', 17), ('日向聲', 17), ('了', 17), ('原名', 17), ('美金', 17), ('冷氣', 17), ('伍元', 17), ('母親', 17), ('民權路', 17), ('法院', 17), ('詳', 17), ('東興', 17), ('被告', 17), ('增值稅', 17), ('崇德', 17), ('同段', 17), ('尾款', 17), ('人車', 17), ('先', 17), ('都', 17), ('建設', 17), ('中山南路', 17), ('瑕疵', 17), ('安', 17), ('信用卡', 17), ('侵入', 17), ('扶養費', 17), ('人吳', 17), ('協商', 17), ('涉有', 17), ('水電', 17), ('廣告', 17), ('租屋', 17), ('一樓', 17), ('核退', 17), ('參拾伍', 17), ('右側', 17), ('拒', 17), ('彰化', 17), ('美惠', 17), ('實業', 17), ('直行', 17), ('巷處', 17), ('當時', 17), ('協議', 17), ('淑', 17), ('使', 17), ('狀', 17), ('同向', 16), ('地下', 16), ('逃逸', 16), ('東側', 16), ('明知', 16), ('出資', 16), ('樺', 16), ('涉犯', 16), ('人許', 16), ('始知', 16), ('利用', 16), ('條件', 16), ('餐廳', 16), ('橋下', 16), ('駕車', 16), ('地下室', 16), ('人謝', 16), ('薪資', 16), ('任意', 16), ('伊', 16), ('育賢街', 16), ('證明', 16), ('蘇', 16), ('方向', 16), ('排水管', 16), ('男子', 16), ('坪', 16), ('聯絡', 16), ('玉山', 16), ('先行', 16), ('路段', 16), ('珮', 16), ('抵押權', 16), ('中心', 16), ('合計', 16), ('坐落於', 16), ('命令', 16), ('育德三街', 16), ('並經', 16), ('工地', 16), ('鐵皮', 16), ('同', 16), ('日及', 16), ('罪', 16), ('清', 16), ('繳交', 15), ('適', 15), ('千元', 15), ('執行', 15), ('三人', 15), ('水管', 15), ('光', 15), ('金錢', 15), ('壹佰元整', 15), ('尚', 15), ('搬離', 15), ('簽發', 15), ('拾肆', 15), ('甲', 15), ('業務', 15), ('編號', 15), ('北忠', 15), ('意圖', 15), ('保存', 15), ('整修', 15), ('鄉', 15), ('參佰元整', 15), ('始', 15), ('破裂', 15), ('遺產', 15), ('寮', 15), ('國', 15), ('日間', 15), ('也', 15), ('將聲', 15), ('一紙', 15), ('協調', 15), ('滲水', 15), ('丁方', 15), ('房地', 14), ('仁愛', 14), ('則', 14), ('稅捐', 14), ('退票', 14), ('大同路', 14), ('食品', 14), ('不含', 14), ('按', 14), ('大型', 14), ('財團法人', 14), ('款壹', 14), ('上址', 14), ('造人林', 14), ('德', 14), ('大陸', 14), ('基金', 14), ('送', 14), ('供', 14), ('公路', 14), ('文件', 14), ('網路', 14), ('幹', 14), ('佔用', 14), ('李俊', 14), ('地點', 14), ('料', 14), ('市場', 14), ('萱', 14), ('同事', 14), ('不依', 14), ('家', 14), ('債務糾紛', 14), ('代辦費', 14), ('規費', 14), ('鐵皮屋', 14), ('繳付', 14), ('跌倒', 14), ('參佰', 14), ('款伍', 14), ('特定', 14), ('大橋', 14), ('出手', 14), ('店內', 14), ('管委會', 14), ('契稅', 14), ('人員', 14), ('匝道', 14), ('真', 14), ('案外人', 13), ('途經', 13), ('下車', 13), ('經過', 13), ('言語', 13), ('左轉', 13), ('佃路', 13), ('押租', 13), ('富台', 13), ('觀海', 13), ('訂購', 13), ('五街', 13), ('今', 13), ('才', 13), ('追撞', 13), ('陸佰元', 13), ('紅燈', 13), ('占用', 13), ('地面', 13), ('騎樓', 13), ('鎮', 13), ('掉落', 13), ('至今', 13), ('好', 13), ('警察局', 13), ('授權', 13), ('月初', 13), ('區安明路', 13), ('狀況', 13), ('萬陸仟', 13), ('招牌', 13), ('紛爭', 13), ('繳清', 13), ('屋', 13), ('佑', 13), ('載', 13), ('柒萬伍', 13), ('應有', 13), ('郭', 13), ('款肆', 13), ('把', 13), ('地目', 13), ('區海', 13), ('攤位', 13), ('財產', 13), ('零', 13), ('長勝', 13), ('家中', 13), ('說', 13), ('指訴', 13), ('統一', 13), ('對聲', 13), ('日以', 13), ('變更', 13), ('強制執行', 13), ('之聲', 13), ('火車站', 13), ('高', 13), ('作', 13), ('中央', 13), ('需要', 13), ('世華', 13), ('以供', 13), ('繼續', 13), ('圍牆', 13), ('不當', 13), ('開啟', 13), ('除聲', 13), ('訴訟', 13), ('住院', 13), ('大洲', 13), ('達成', 13), ('舖', 13), ('與育賢', 13), ('乃', 13), ('收受', 13), ('業經', 13), ('邀約', 13), ('左手', 13), ('店面', 13), ('新台幣伍', 13), ('自稱', 13), ('站', 13), ('互助會', 12), ('扶養', 12), ('錢', 12), ('邱', 12), ('操作', 12), ('簡', 12), ('人賴', 12), ('看', 12), ('妨害自由', 12), ('攤還', 12), ('得', 12), ('棟', 12), ('身分證', 12), ('服務', 12), ('希望', 12), ('最後', 12), ('記載', 12), ('朋友', 12), ('北華', 12), ('交予', 12), ('借據', 12), ('保證', 12), ('中路', 12), ('產生', 12), ('現象', 12), ('鐵架', 12), ('大潤發', 12), ('朝興', 12), ('判決', 12), ('萬零', 12), ('抵押', 12), ('消費', 12), ('停放在', 12), ('新化', 12), ('營區', 12), ('事業', 12), ('總價', 12), ('訂立', 12), ('誤會', 12), ('借貸', 12), ('過程', 12), ('劉永信', 12), ('中午', 12), ('噪音', 12), ('和田', 12), ('北向', 12), ('不法', 12), ('適聲', 12), ('路面', 12), ('租', 12), ('刊登', 12), ('出血', 12), ('做', 12), ('公分', 12), ('明', 12), ('月底', 12), ('請人', 12), ('違反', 12), ('奕', 12), ('精忠', 12), ('交往', 12), ('因上', 12), ('租車', 12), ('正本', 12), ('新建', 12), ('永華', 12), ('到場', 12), ('便', 12), ('林家', 12), ('因故', 12), ('該路', 12), ('肢體衝突', 12), ('管路', 12), ('人並', 11), ('嘉義縣', 11), ('買方', 11), ('代號', 11), ('無異議', 11), ('長期', 11), ('肆元整', 11), ('後來', 11), ('完工', 11), ('台北', 11), ('男', 11), ('房子', 11), ('型', 11), ('機車行', 11), ('早上', 11), ('離職', 11), ('沒有', 11), ('側門', 11), ('竟未', 11), ('主管機關', 11), ('現已', 11), ('已將', 11), ('鑰匙', 11), ('更換', 11), ('連帶保證', 11), ('南北', 11), ('何', 11), ('不願', 11), ('開支票', 11), ('一棟', 11), ('一號', 11), ('文元', 11), ('東門路', 11), ('外側', 11), ('嘉', 11), ('本區', 11), ('清理', 11), ('隔壁', 11), ('冰箱', 11), ('華南', 11), ('柒萬', 11), ('馬', 11), ('圓環', 11), ('京城', 11), ('橋頭', 11), ('整及', 11), ('土地銀行', 11), ('正在', 11), ('持有', 11), ('前述', 11), ('包包', 11), ('及聲', 11), ('內側', 11), ('郵政', 11), ('殘廢', 11), ('截至', 11), ('特別', 11), ('裕民', 11), ('厝', 11), ('須', 11), ('企業社', 11), ('室內', 11), ('理賠', 11), ('已給', 11), ('民生', 11), ('麵', 11), ('衝突', 11), ('責任險', 11), ('貨品', 11), ('區安', 11), ('出入口', 11), ('已付', 11), ('裕', 11), ('萬柒仟', 11), ('現聲', 11), ('上網', 11), ('睿', 11), ('東光', 11), ('黃金', 11), ('送醫', 11), ('娥', 11), ('岔路', 11), ('給予', 11), ('三街', 11), ('善化', 11), ('日後', 11), ('雖', 11), ('黃玉', 11), ('閃避不及', 11), ('鈍', 11), ('駛來', 11), ('伶', 11), ('貳佰', 11), ('摔', 11), ('無損', 11), ('會首', 11), ('撕裂', 11), ('報警', 11), ('在案', 11), ('大道', 11), ('以為', 11), ('拒絕', 10), ('衍生', 10), ('鄰房', 10), ('二分之一', 10), ('事項', 10), ('承', 10), ('住所', 10), ('臺灣銀行', 10), ('子女', 10), ('傷及', 10), ('行走', 10), ('不及', 10), ('積水', 10), ('通知', 10), ('乘客', 10), ('娘', 10), ('前路', 10), ('達', 10), ('現居', 10), ('鐵門', 10), ('來', 10), ('廠', 10), ('進而', 10), ('胸部', 10), ('員林', 10), ('委任', 10), ('一次', 10), ('點交', 10), ('造就', 10), ('人為', 10), ('別', 10), ('未還', 10), ('催討', 10), ('貨運', 10), ('育有', 10), ('排水溝', 10), ('口頭', 10), ('號及', 10), ('名', 10), ('販賣', 10), ('惟聲', 10), ('俟', 10), ('異議', 10), ('並由', 10), ('顏', 10), ('介紹', 10), ('科技', 10), ('保險', 10), ('任職', 10), ('二樓', 10), ('華北', 10), ('往南方', 10), ('踹', 10), ('著作', 10), ('救護', 10), ('地政事務', 10), ('架設', 10), ('安全', 10), ('詐欺罪', 10), ('柒佰', 10), ('新興', 10), ('費', 10), ('心生', 10), ('申辦', 10), ('信用', 10), ('門診', 10), ('柒佰元整', 10), ('廁所', 10), ('潘', 10), ('搭建', 10), ('工業', 10), ('無名', 10), ('無故', 10), ('台新', 10), ('另聲', 10), ('空地', 10), ('查看', 10), ('高幹', 10), ('點', 10), ('琇', 10), ('收到', 10), ('柒元整', 10), ('入', 10), ('堆高機', 10), ('行東', 10), ('多', 10), ('呈', 10), ('其子', 10), ('兵配', 10), ('照片', 10), ('贈與', 10), ('露天', 10), ('爭吵', 10), ('發生衝突', 10), ('張貼', 10), ('不堪', 10), ('人聲', 10), ('夫妻關係', 10), ('理論', 10), ('實際', 10), ('夥同', 10), ('給聲', 10), ('提示', 10), ('開始', 10), ('置於', 10), ('錦', 10), ('乙方', 10), ('一台', 10), ('行庫', 10), ('二期', 10), ('分局', 10), ('安全帽', 9), ('啟能', 9), ('見面', 9), ('壹台', 9), ('簽署', 9), ('宸', 9), ('正南', 9), ('麻豆', 9), ('羅', 9), ('聯邦', 9), ('潘林', 9), ('云云', 9), ('地下道', 9), ('房間', 9), ('同意書', 9), ('永福路', 9), ('疏於', 9), ('起至', 9), ('大聲', 9), ('文賢二', 9), ('葉', 9), ('凱翔', 9), ('捌佰元', 9), ('人間', 9), ('因未', 9), ('往', 9), ('參元整', 9), ('建築', 9), ('號輕', 9), ('貳佰肆', 9), ('鴻', 9), ('中旬', 9), ('無訛', 9), ('多年', 9), ('咬傷', 9), ('絕無', 9), ('人莊', 9), ('房屋買賣', 9), ('鐵', 9), ('箱', 9), ('代墊', 9), ('賠償金', 9), ('違約金', 9), ('言明', 9), ('廚房', 9), ('陸元整', 9), ('右轉', 9), ('之際', 9), ('巷道', 9), ('時間', 9), ('主因', 9), ('總計', 9), ('周嘉誼', 9), ('只', 9), ('閃避', 9), ('條', 9), ('不得', 9), ('另於', 9), ('科技股份', 9), ('見狀', 9), ('崑山', 9), ('視該', 9), ('王美珍', 9), ('越界', 9), ('開房', 9), ('晴', 9), ('提前', 9), ('大和路', 9), ('續租', 9), ('帶', 9), ('規定', 9), ('行使', 9), ('生意', 9), ('隔鄰', 9), ('和解書', 9), ('總金額', 9), ('確定', 9), ('無權', 9), ('新台幣陸', 9), ('王雨利', 9), ('富', 9), ('認識', 9), ('即聲', 9), ('龜裂', 9), ('北上', 9), ('一年', 9), ('得知', 9), ('李書儂', 9), ('清潔', 9), ('人蘇', 9), ('毗鄰', 9), ('號碼', 9), ('委員', 9), ('一部', 9), ('謝', 9), ('客廳', 9), ('不足', 9), ('建平', 9), ('持分', 9), ('局', 9), ('吳', 9), ('薛', 9), ('車前', 9), ('室', 9), ('祐', 9), ('華', 9), ('經對', 9), ('二張', 9), ('價值', 9), ('入口', 9), ('二筆', 9), ('由南向北', 9), ('竟於', 9), ('安路', 9), ('東', 9), ('車體', 9), ('兄弟', 9), ('款陸', 9), ('解約', 9), ('附設', 9), ('該店', 9), ('據', 9), ('同額', 9), ('柒仟元', 9), ('辦公室', 9), ('裝修', 9), ('裁定', 9), ('遷移', 9), ('則由', 9), ('占有', 9), ('年籍', 9), ('砸傷', 9), ('叡', 8), ('眼鏡', 8), ('將該', 8), ('陸萬伍', 8), ('生', 8), ('合作社', 8), ('曹晉德', 8), ('狀所', 8), ('夜市', 8), ('理由', 8), ('引車', 8), ('證明書', 8), ('廠牌', 8), ('紙', 8), ('摔倒', 8), ('平房', 8), ('不疑', 8), ('水電費', 8), ('搬', 8), ('見', 8), ('鑑界', 8), ('認', 8), ('永樂', 8), ('南科', 8), ('乘', 8), ('上班', 8), ('彼此', 8), ('柒拾', 8), ('甄', 8), ('搭', 8), ('瓦斯', 8), ('公寓', 8), ('雅', 8), ('資金', 8), ('並向', 8), ('迄', 8), ('一批', 8), ('屋後', 8), ('陸佰陸拾', 8), ('本息', 8), ('放置', 8), ('秋', 8), ('華興', 8), ('此事', 8), ('排水', 8), ('南下', 8), ('佔', 8), ('交還', 8), ('之子', 8), ('戶', 8), ('還清', 8), ('砂石', 8), ('息事寧人', 8), ('冷氣機', 8), ('出入', 8), ('同日', 8), ('收入', 8), ('下雨', 8), ('互', 8), ('奇美', 8), ('清秀', 8), ('借', 8), ('吉', 8), ('磁磚', 8), ('人陳彥', 8), ('飛落', 8), ('李文', 8), ('致傷', 8), ('滑倒', 8), ('簡字', 8), ('小孩', 8), ('涉', 8), ('人家', 8), ('若有', 8), ('價款', 8), ('機器', 8), ('待', 8), ('翁靖雅', 8), ('西往東', 8), ('市長', 8), ('補償金', 8), ('卡', 8), ('社', 8), ('未能', 8), ('未處理', 8), ('謝錦珍', 8), ('路由', 8), ('堂', 8), ('吳國', 8), ('颱風', 8), ('三期', 8), ('剩餘', 8), ('狗', 8), ('徐', 8), ('日經', 8), ('區府', 8), ('裂縫', 8), ('文賢三街', 8), ('出', 8), ('移除', 8), ('財務', 8), ('交叉口', 8), ('烤', 8), ('違規', 8), ('雙側', 8), ('亮', 8), ('千興', 8), ('治療', 8), ('造人張', 8), ('環境', 8), ('欣', 8), ('水泥', 8), ('反映', 8), ('車身', 8), ('看護', 8), ('公共', 8), ('隨即', 8), ('義務', 8), ('西向東', 8), ('並已', 8), ('屆時', 8), ('報案', 8), ('拆屋', 8), ('體', 8), ('壹元', 8), ('安寧', 8), ('分公司', 8), ('關廟', 8), ('前開', 8), ('等物', 8), ('淑芳', 8), ('育賢', 8), ('北華街', 8), ('陳家', 8), ('使聲', 8), ('脖子', 8), ('機械', 8), ('還地', 8), ('工資', 8), ('搬走', 8), ('陸萬陸', 8), ('有人', 8), ('不明', 8), ('權益', 8), ('接受', 8), ('玫', 8), ('通行', 8), ('謊稱', 8), ('市', 8), ('樓下', 8), ('樓上', 8), ('材料', 8), ('人人', 8), ('李嘉方', 8), ('水槽', 8), ('結婚', 8), ('民', 8), ('門牌號碼', 8), ('陞', 8), ('協助', 8), ('投保', 8), ('村', 7), ('則約', 7), ('山區', 7), ('遊戲', 7), ('台語', 7), ('網寮', 7), ('之前', 7), ('王家', 7), ('何堪', 7), ('美麗', 7), ('公然侮辱', 7), ('柯', 7), ('被害人', 7), ('之台', 7), ('隻', 7), ('號案', 7), ('人受', 7), ('海成', 7), ('抓傷', 7), ('陽台', 7), ('能', 7), ('檢查', 7), ('此', 7), ('搬出', 7), ('人始', 7), ('讓渡', 7), ('六甲', 7), ('乙事', 7), ('道歉', 7), ('性', 7), ('區甲頂', 7), ('鄔永強', 7), ('吳素', 7), ('診所', 7), ('車上', 7), ('字號', 7), ('數次', 7), ('惠', 7), ('防汛', 7), ('將系爭', 7), ('大灣', 7), ('正', 7), ('拖延', 7), ('上方', 7), ('萬柒仟元整', 7), ('美體', 7), ('小姐', 7), ('股東', 7), ('二車', 7), ('不能', 7), ('夫婦', 7), ('牆面', 7), ('一線', 7), ('法定繼承', 7), ('笑', 7), ('楊順國', 7), ('業務員', 7), ('賠付', 7), ('竊', 7), ('一女', 7), ('消費者', 7), ('劉幸', 7), ('逸', 7), ('平日', 7), ('詐騙', 7), ('之父', 7), ('車行', 7), ('賢北', 7), ('手臂', 7), ('莊', 7), ('等級', 7), ('國有財產', 7), ('至哲', 7), ('其父', 7), ('人即', 7), ('整之', 7), ('勛', 7), ('美玲', 7), ('保固', 7), ('永福', 7), ('支', 7), ('李佳霖', 7), ('教育', 7), ('留有', 7), ('條例', 7), ('險', 7), ('國民', 7), ('引起', 7), ('段處', 7), ('提領', 7), ('處所', 7), ('人洪', 7), ('損及', 7), ('蔡秀霞', 7), ('處分', 7), ('丞', 7), ('鹽水', 7), ('蔡宗志', 7), ('碖', 7), ('長女', 7), ('水溝', 7), ('人馬', 7), ('人陳映', 7), ('補習班', 7), ('養護中心', 7), ('著作權', 7), ('東寧', 7), ('門前', 7), ('康茂富', 7), ('元及', 7), ('往北', 7), ('最大', 7), ('聯繫', 7), ('文字', 7), ('搭乘', 7), ('吳苡', 7), ('統編', 7), ('劉莊', 7), ('安通', 7), ('增建', 7), ('除上', 7), ('私下', 7), ('富邦', 7), ('周碧珠', 7), ('陸佰', 7), ('校區', 7), ('友愛', 7), ('因為', 7), ('遺失', 7), ('長子', 7), ('破損', 7), ('無蹤', 7), ('茲', 7), ('行動', 7), ('楠', 7), ('託', 7), ('不知', 7), ('太子', 7), ('人劉', 7), ('南康', 7), ('之責', 7), ('同居', 7), ('畏懼', 7), ('白色', 7), ('郭素芬', 7), ('屏', 7), ('肢體', 7), ('變賣', 7), ('廠商', 7), ('撞損', 7), ('未將', 7), ('鄉鎮', 7), ('兒子', 7), ('廠前', 7), ('置之不理', 7), ('如意', 7), ('撥打', 7), ('青年', 7), ('設計', 7), ('領取', 7), ('三號', 7), ('日應', 7), ('監視器', 7), ('相鄰', 7), ('設', 7), ('逾期', 7), ('民生路', 7), ('雄', 7), ('改善', 7), ('高祖', 7), ('號與', 7), ('交叉路口', 7), ('原為', 7), ('保安', 7), ('出現', 7), ('檢察', 7), ('濬', 7), ('翰', 7), ('故障', 7), ('在場', 7), ('加油', 7), ('郡', 7), ('僱於', 7), ('以致', 7), ('小腿', 7), ('宥', 7), ('手', 7), ('疑似', 7), ('淇', 7), ('針對', 7), ('六', 7), ('返回', 7), ('未命名', 7), ('原諒', 7), ('金玉', 7), ('玉女', 7), ('學校', 7), ('日給', 7), ('遷出', 7), ('楊舒婷', 7), ('日生', 7), ('世雄', 7), ('硯', 7), ('七股', 7), ('彰化縣', 7), ('核定', 7), ('先後', 7), ('保養', 7), ('完全', 7), ('銀', 7), ('格', 7), ('江龍', 7), ('其所', 7), ('外出', 7), ('昱', 7), ('禹', 7), ('賣方', 7), ('入己', 7), ('小狗', 7), ('三樓', 7), ('頭皮', 7), ('日因', 7), ('販售', 7), ('加蓋', 6), ('除外', 6), ('不佳', 6), ('成大', 6), ('一筆', 6), ('小心', 6), ('絹', 6), ('案經聲', 6), ('吳怡君', 6), ('臉書', 6), ('唐婕容', 6), ('竊盜', 6), ('光裕', 6), ('所生', 6), ('傷害罪', 6), ('石春燕', 6), ('正興', 6), ('堆高', 6), ('三民', 6), ('衣服', 6), ('玻璃', 6), ('另行', 6), ('前來', 6), ('挫', 6), ('人葉', 6), ('行車執照', 6), ('兵工廠', 6), ('勝路', 6), ('小東', 6), ('專任', 6), ('組', 6), ('經由', 6), ('副', 6), ('人稱', 6), ('霓', 6), ('保證金', 6), ('田', 6), ('訴字', 6), ('蘇靜瑜', 6), ('逕', 6), ('右膝', 6), ('門鎖', 6), ('李昀', 6), ('惇', 6), ('外牆', 6), ('瑋', 6), ('冷飲店', 6), ('人羅珮菁', 6), ('吳南波', 6), ('連絡', 6), ('施', 6), ('證件', 6), ('理會', 6), ('整外', 6), ('瑀', 6), ('系', 6), ('前後', 6), ('翔', 6), ('致使', 6), ('體諒', 6), ('六合', 6), ('丟擲', 6), ('臺灣省', 6), ('綵', 6), ('相約', 6), ('芬', 6), ('蘋', 6), ('情況', 6), ('玉', 6), ('施慶隆', 6), ('入股', 6), ('頂', 6), ('路上', 6), ('基地', 6), ('花園', 6), ('計新', 6), ('並以', 6), ('明慧', 6), ('林奕', 6), ('公司員工', 6), ('肆拾伍', 6), ('公開', 6), ('壹佰參拾', 6), ('新市鄉', 6), ('所致', 6), ('連續', 6), ('不予', 6), ('尚欠', 6), ('車子', 6), ('一件', 6), ('崇明', 6), ('砸毀', 6), ('南市', 6), ('事', 6), ('穿越', 6), ('路燈', 6), ('傷均', 6), ('說明', 6), ('不讓', 6), ('董事', 6), ('言詞', 6), ('黃昏', 6), ('路號', 6), ('背部', 6), ('大門', 6), ('普濟', 6), ('仙女', 6), ('肆仟玖佰元整', 6), ('採取', 6), ('人黃怡婷', 6), ('放', 6), ('慈善事業', 6), ('叫', 6), ('收據', 6), ('丟棄', 6), ('參佰陸', 6), ('芯', 6), ('妘', 6), ('售予', 6), ('蔡婷薇', 6), ('閉鎖', 6), ('柒萬肆', 6), ('仟元', 6), ('依安', 6), ('南興', 6), ('顱內', 6), ('污水', 6), ('李明', 6), ('通訊', 6), ('由東向西', 6), ('西賢', 6), ('板', 6), ('西區', 6), ('姈', 6), ('救護車', 6), ('承認', 6), ('通運', 6), ('每個', 6), ('水塔', 6), ('調解書', 6), ('市區', 6), ('林清源', 6), ('正於', 6), ('葉靜', 6), ('京華', 6), ('特力屋', 6), ('走', 6), ('應付', 6), ('鐵窗', 6), ('用地', 6), ('可能', 6), ('其後', 6), ('購得', 6), ('車頭', 6), ('代步車', 6), ('急救', 6), ('報酬', 6), ('起訴', 6), ('齊', 6), ('知', 6), ('措施', 6), ('怡婷', 6), ('乘坐', 6), ('血糖', 6), ('劉', 6), ('資融', 6), ('英', 6), ('偉仁', 6), ('地檢署', 6), ('儀', 6), ('人黃怡', 6), ('億', 6), ('部', 6), ('腦震盪', 6), ('張芸珈', 6), ('人行道', 6), ('農會', 6), ('壁區', 6), ('文生', 6), ('剝落', 6), ('付新', 6), ('新光', 6), ('花', 6), ('借名', 6), ('系統', 6), ('銀行貸款', 6), ('澤', 6), ('許秀枝', 6), ('往西', 6), ('淹水', 6), ('如盈', 6), ('懷湘', 6), ('秋月', 6), ('郭政昕', 6), ('碧', 6), ('車庫', 6), ('設有', 6), ('設立', 6), ('果', 6), ('人梁', 6), ('類別', 6), ('急需', 6), ('仁', 6), ('未果', 6), ('勞保', 6), ('腳', 6), ('飲料', 6), ('某', 6), ('並在', 6), ('該處', 6), ('縣市', 6), ('結清', 6), ('張捷', 6), ('妏', 6), ('李佩芸', 6), ('獲', 6), ('渣打銀行', 6), ('參萬肆', 6), ('致黃', 6), ('基金會', 6), ('台北市', 6), ('黑色', 6), ('迄今已', 6), ('多萬元', 6), ('借用', 6), ('下載', 6), ('兵', 6), ('埕', 6), ('欠款', 6), ('印鑑', 6), ('性骨折', 6), ('大雨', 6), ('詹孟軒', 6), ('設置', 6), ('人三人', 6), ('張奕勝', 6), ('幼試', 6), ('綽號', 6), ('不同', 6), ('芝', 6), ('所示', 6), ('楊懿婷', 6), ('科目', 6), ('脫落', 6), ('項目', 6), ('足', 6), ('涂', 6), ('回家', 6), ('造人許', 6), ('宅', 6), ('興南', 6), ('林奕寬', 6), ('管線', 6), ('用餐', 6), ('轉診', 6), ('變換', 6), ('車業', 6), ('直接', 6), ('警方', 6), ('唐', 6), ('人尚', 6), ('扭打', 6), ('週轉', 6), ('孩子', 6), ('肆佰元', 6), ('法定', 6), ('淮', 6), ('零壹', 6), ('公同', 6), ('配場', 6), ('四分之一', 6), ('砸', 6), ('人江', 6), ('號房', 6), ('權狀', 6), ('物權', 6), ('號大', 6), ('留言', 6), ('活動中心', 6), ('合併', 6), ('租用', 6), ('退休', 6), ('採光罩', 6), ('錄影', 6), ('何仲', 6), ('傷聲', 6), ('秀美', 6), ('型號', 6), ('致林', 6), ('四方', 6), ('有關', 6), ('客', 6), ('身分', 6), ('守義', 6), ('簽名', 6), ('南門', 6), ('明德', 6), ('信用貸款', 6), ('慶', 6), ('昭', 6), ('方', 6), ('胡', 6), ('款玖', 6), ('轉交', 6), ('犬', 6), ('十期', 6), ('之用', 6), ('桂蘭', 5), ('琮', 5), ('客貨', 5), ('扭傷', 5), ('人須', 5), ('車主', 5), ('乙張', 5), ('成員', 5), ('交由', 5), ('卿', 5), ('之台灣', 5), ('跳蚤市場', 5), ('傷口', 5), ('張佑塵', 5), ('館', 5), ('窗戶', 5), ('棚架', 5), ('人士', 5), ('同住', 5), ('教室', 5), ('油漆', 5), ('張瑋恩', 5), ('告聲', 5), ('腳踏', 5), ('發', 5), ('一事', 5), ('崇善', 5), ('撞毀', 5), ('滲漏水', 5), ('銀行借款', 5), ('通道', 5), ('蔡志明', 5), ('陳淑鈴', 5), ('李青霞', 5), ('美英', 5), ('司機', 5), ('賺取', 5), ('近端', 5), ('徵收', 5), ('方車損', 5), ('票據', 5), ('時因', 5), ('鄭夙伶', 5), ('太', 5), ('智勝', 5), ('何姿', 5), ('楊偉立', 5), ('信件', 5), ('車窗', 5), ('拾玖元整', 5), ('蓁', 5), ('汽車貸款', 5), ('榮', 5), ('電線', 5), ('興', 5), ('鄭世華', 5), ('莊坤', 5), ('往前', 5), ('出言', 5), ('堤頂', 5), ('性行', 5), ('共識', 5), ('開門', 5), ('壓', 5), ('劉嘉琳', 5), ('向陽', 5), ('提款機', 5), ('胡書', 5), ('逆向', 5), ('電子', 5), ('前臂', 5), ('逾', 5), ('款柒拾', 5), ('育', 5), ('生前', 5), ('電源線', 5), ('家人', 5), ('警告', 5), ('楊林素', 5), ('原有', 5), ('入住', 5), ('行為', 5), ('商標', 5), ('農業區', 5), ('安裝', 5), ('誣告', 5), ('分區', 5), ('潑灑', 5), ('醫師', 5), ('今因', 5), ('阮', 5), ('商業', 5), ('停車位', 5), ('元至', 5), ('承包', 5), ('偉盛', 5), ('因本', 5), ('之合會', 5), ('新北市', 5), ('王冠', 5), ('柴頭', 5), ('履約', 5), ('張儒', 5), ('人現', 5), ('蔡麗花', 5), ('跟', 5), ('由北向南', 5), ('光碟', 5), ('安定區', 5), ('優先', 5), ('李建興', 5), ('志豪', 5), ('立即', 5), ('朱天來', 5), ('承租人', 5), ('配合', 5), ('佳里', 5), ('造', 5), ('撞傷', 5), ('揚志', 5), ('各為', 5), ('李宛', 5), ('郭璟霖', 5), ('時分', 5), ('個人', 5), ('輝', 5), ('正義', 5), ('不獲', 5), ('途中', 5), ('另有', 5), ('不見', 5), ('肆萬肆', 5), ('指', 5), ('國有土地', 5), ('安東', 5), ('屬', 5), ('小車', 5), ('分社', 5), ('房屋內', 5), ('吳俞', 5), ('機關', 5), ('婕', 5), ('全數', 5), ('使用權', 5), ('往西方', 5), ('工廠', 5), ('蔡富', 5), ('代辦', 5), ('出來', 5), ('審理', 5), ('請傷', 5), ('整並', 5), ('敬', 5), ('故現', 5), ('吳佳哲', 5), ('當初', 5), ('壁癌', 5), ('駕駛座', 5), ('員警', 5), ('修須', 5), ('實', 5), ('李雅婷', 5), ('民調', 5), ('發霉', 5), ('困擾', 5), ('尺骨', 5), ('然', 5), ('座落', 5), ('管理員', 5), ('陸橋', 5), ('未盡', 5), ('朱', 5), ('張岳霖', 5), ('兩筆', 5), ('開發', 5), ('岔口', 5), ('股票', 5), ('輔助', 5), ('開車', 5), ('蔡孟峰', 5), ('址', 5), ('年初', 5), ('盧慈恩', 5), ('滿', 5), ('揚言', 5), ('鍏', 5), ('店家', 5), ('然對', 5), ('中學', 5), ('由西向東', 5), ('旭日', 5), ('蔡雅涵', 5), ('五金', 5), ('騷擾', 5), ('農牧', 5), ('核發', 5), ('李宜宸', 5), ('日內', 5), ('建', 5), ('蔓', 5), ('法令', 5), ('打電話', 5), ('不要', 5), ('拳頭', 5), ('臉', 5), ('文元段', 5), ('轉彎', 5), ('為己', 5), ('保險桿', 5), ('支出', 5), ('均體', 5), ('服務費', 5), ('行里', 5), ('據稱', 5), ('三字經', 5), ('打傷', 5), ('只有', 5), ('教育費', 5), ('門號', 5), ('應將', 5), ('謝孟庭', 5), ('返家', 5), ('突然', 5), ('馬路', 5), ('並無', 5), ('任', 5), ('適有', 5), ('騎車', 5), ('打擊', 5), ('葉靜芬', 5), ('提撥', 5), ('夜間', 5), ('吳青君', 5), ('網路上', 5), ('張慈', 5), ('張美娣', 5), ('購入', 5), ('指示', 5), ('互告', 5), ('溪橋', 5), ('完', 5), ('余佩真', 5), ('意見', 5), ('鹽', 5), ('期滿', 5), ('緊急', 5), ('皮包', 5), ('婷', 5), ('傢俱', 5), ('估價', 5), ('警察', 5), ('南二中', 5), ('張秀琴', 5), ('志', 5), ('樓梯間', 5), ('直至', 5), ('溢收', 5), ('葉庭羽', 5), ('業', 5), ('之一', 5), ('異常', 5), ('治所', 5), ('上車', 5), ('敏', 5), ('依君', 5), ('罹患', 5), ('輕', 5), ('練習場', 5), ('近', 5), ('運', 5), ('函', 5), ('門外', 5), ('蕭暐翰', 5), ('許成', 5), ('並持', 5), ('存放', 5), ('一瓶', 5), ('何忠', 5), ('僱工', 5), ('購物', 5), ('互控', 5), ('著', 5), ('從事', 5), ('出租人', 5), ('蔡翠鳳', 5), ('沒', 5), ('分手', 5), ('區鹽', 5), ('交易', 5), ('背書', 5), ('能力', 5), ('煞車', 5), ('復國', 5), ('北向南', 5), ('第一項', 5), ('勸募', 5), ('富貴', 5), ('英素', 5), ('擋住', 5), ('仟元則', 5), ('六十', 5), ('板橋', 5), ('民事判決', 5), ('妻', 5), ('表', 5), ('放在', 5), ('參佰參拾', 5), ('韻婷', 5), ('妨礙', 5), ('証', 5), ('旻', 5), ('蔡孟麗', 5), ('職業', 5), ('上情', 5), ('蔡雅帆', 5), ('撤銷', 5), ('秀玲', 5), ('當', 5), ('火災', 5), ('可以', 5), ('得標', 5), ('不知去向', 5), ('該址', 5), ('土木', 5), ('人以', 5), ('中山北路', 5), ('橫越', 5), ('打架', 5), ('摔車', 5), ('王敬堯', 5), ('之意', 5), ('踢', 5), ('以現', 5), ('主委', 5), ('稅', 5), ('力行', 5), ('全額', 5), ('之女', 5), ('交給', 5), ('人林秀娟', 5), ('出價', 5), ('霈', 5), ('蔡伊郡', 5), ('帶回', 5), ('慢車道', 5), ('人方', 5), ('懸掛', 5), ('所屬', 5), ('四期', 5), ('蔡漢穎', 5), ('紅利', 5), ('動手', 5), ('人林淑煌', 5), ('濕滑', 5), ('各人', 5), ('所以', 5), ('造人蘇', 5), ('管理室', 5), ('倒車', 5), ('青', 5), ('合建', 5), ('駛出', 5), ('人陳品', 5), ('吳某', 5), ('大眾', 5), ('以聲', 5), ('華平', 5), ('索討', 5), ('故意', 5), ('遮雨棚', 5), ('滄海', 5), ('切結', 5), ('駛至', 5), ('萬泰', 5), ('承擔', 5), ('伍仟元予', 5), ('雨水', 5), ('股權', 5), ('金蓮', 5), ('郭秀琴', 5), ('北華段', 5), ('背信', 5), ('造人王', 5), ('路及', 5), ('邀', 5), ('並非', 5), ('宋', 5), ('遊覽', 5), ('仿冒', 5), ('離家', 5), ('扣除', 5), ('母子', 5), ('毛衣', 5), ('腳趾', 5), ('稚', 5), ('福德', 5), ('提款卡', 5), ('年邁', 5), ('保持', 5), ('調', 5), ('取回', 5), ('並不', 5), ('取信', 5), ('佯以', 5), ('點數', 4), ('右肩', 4), ('侵占罪', 4), ('出口', 4), ('死者', 4), ('迴轉', 4), ('很', 4), ('未獲', 4), ('吳林換', 4), ('每人', 4), ('崑', 4), ('人施作', 4), ('不成', 4), ('鄭羽', 4), ('億峰', 4), ('人陳翠華', 4), ('入口處', 4), ('清心', 4), ('戶籍謄本', 4), ('獨自', 4), ('櫃員機', 4), ('郭志', 4), ('補助', 4), ('許日', 4), ('滲漏', 4), ('台中市', 4), ('楊明松', 4), ('毀謗', 4), ('不治', 4), ('吳建儀', 4), ('亦不得', 4), ('顱骨', 4), ('珠', 4), ('後面', 4), ('活動', 4), ('四張', 4), ('每逢', 4), ('建築物', 4), ('忠孝', 4), ('大成', 4), ('號口', 4), ('閩', 4), ('牙齒', 4), ('樑柱', 4), ('一併', 4), ('許維', 4), ('國小前', 4), ('即將', 4), ('出口處', 4), ('超過', 4), ('輕微', 4), ('賈文翔', 4), ('人黃祥銘', 4), ('顧問', 4), ('上肢', 4), ('采', 4), ('其將', 4), ('銘', 4), ('急診', 4), ('吃', 4), ('潮濕', 4), ('翁睿澤體傷', 4), ('人林郁雯', 4), ('份', 4), ('竹篙', 4), ('上面', 4), ('郭義豪', 4), ('癸', 4), ('李玉美', 4), ('同一', 4), ('中風', 4), ('府城', 4), ('區總頭', 4), ('至成', 4), ('後僅', 4), ('資產', 4), ('陳光明', 4), ('李詠', 4), ('號地號', 4), ('何偉', 4), ('房間內', 4), ('左膝', 4), ('大豐', 4), ('人林柏譯', 4), ('經濟', 4), ('吳宗翰', 4), ('瀧富', 4), ('正常', 4), ('物流', 4), ('違約', 4), ('蔡佳興', 4), ('加', 4), ('置', 4), ('第五', 4), ('林子', 4), ('蔡承佑', 4), ('泰', 4), ('人黃書', 4), ('富田', 4), ('宛真', 4), ('陪同', 4), ('未繳', 4), ('補發', 4), ('之王', 4), ('還是', 4), ('之兆豐', 4), ('螢幕', 4), ('專業', 4), ('一個', 4), ('竹', 4), ('期限', 4), ('鞋子', 4), ('進', 4), ('清枝', 4), ('曾麗珍', 4), ('南台', 4), ('王國', 4), ('信宏', 4), ('環境保護局', 4), ('瑞昌', 4), ('房東', 4), ('拾玖元', 4), ('張曼瑜', 4), ('溫鈞霆', 4), ('水龍頭', 4), ('呂孟頻', 4), ('無著', 4), ('咬', 4), ('帶走', 4), ('超越', 4), ('賣掉', 4), ('清除', 4), ('茄', 4), ('明月', 4), ('圖片', 4), ('家屬', 4), ('六期', 4), ('吳宜', 4), ('往北方', 4), ('挪用', 4), ('柔', 4), ('楊淑', 4), ('左眼', 4), ('車貸', 4), ('其所施作', 4), ('突出', 4), ('自大', 4), ('一起', 4), ('瑾', 4), ('不符', 4), ('壹張', 4), ('就醫', 4), ('壹佰陸拾', 4), ('未留下', 4), ('未成年', 4), ('一直', 4), ('起駛', 4), ('簡訊', 4), ('向前', 4), ('執字', 4), ('盧冠云', 4), ('右前', 4), ('秀馨', 4), ('賣出', 4), ('月止', 4), ('排班', 4), ('火山', 4), ('里南', 4), ('東街口', 4), ('查證', 4), ('緻', 4), ('王菊子', 4), ('品', 4), ('凱', 4), ('借予', 4), ('偕', 4), ('安明路', 4), ('莊雅惠', 4), ('傷對', 4), ('凹陷', 4), ('日許', 4), ('號等', 4), ('有所', 4), ('所有權狀', 4), ('李尉', 4), ('程琮仁', 4), ('空間', 4), ('王茂林', 4), ('月委請', 4), ('不合', 4), ('店長', 4), ('人陳淑莉', 4), ('文雅', 4), ('楊博鈞', 4), ('款參', 4), ('所在', 4), ('王士庭', 4), ('薛承緯', 4), ('就此', 4), ('擔保金', 4), ('南海', 4), ('馮佳琪', 4), ('裝設', 4), ('阿慶', 4), ('雙', 4), ('著作權法', 4), ('就診', 4), ('蔡秀娟', 4), ('人賴玥', 4), ('時至', 4), ('機具', 4), ('捨棄', 4), ('討債', 4), ('壹佰捌', 4), ('郁淳', 4), ('呂峻杰', 4), ('玫秀', 4), ('其向', 4), ('姿伶', 4), ('全權', 4), ('下肢', 4), ('王友廷', 4), ('臺東', 4), ('瀏覽', 4), ('排放', 4), ('暐', 4), ('萩', 4), ('電桿', 4), ('生產', 4), ('清車', 4), ('搬家', 4), ('卓杏', 4), ('功能', 4), ('地政', 4), ('巷與育德', 4), ('區小', 4), ('貿然', 4), ('楊宗憲', 4), ('中途', 4), ('郭彥', 4), ('重製', 4), ('伍佰玖拾', 4), ('顧客', 4), ('高成', 4), ('楊育軒', 4), ('燕車損', 4), ('由黃逸修', 4), ('致該', 4), ('排骨', 4), ('巷東', 4), ('而於', 4), ('平義', 4), ('具狀', 4), ('憲政', 4), ('昏迷', 4), ('東西', 4), ('聲音', 4), ('春', 4), ('電視', 4), ('留置', 4), ('傷且', 4), ('呈祥', 4), ('股骨', 4), ('姊妹', 4), ('王麗秋', 4), ('軟體', 4), ('藉故', 4), ('簡易', 4), ('所有人', 4), ('張秀敏', 4), ('能源', 4), ('日起分', 4), ('吳珮芸', 4), ('公會', 4), ('陽信', 4), ('呂怡靜', 4), ('花蓮市', 4), ('查封', 4), ('每會', 4), ('之大', 4), ('損人傷', 4), ('位置', 4), ('更', 4), ('追加', 4), ('貸得', 4), ('適逢', 4), ('金飾', 4), ('感情', 4), ('司促', 4), ('木質', 4), ('李亞蓁', 4), ('鄭巧', 4), ('衝出', 4), ('陳明輝', 4), ('新樂', 4), ('死', 4), ('壹佰參', 4), ('腳踢', 4), ('王薇婷', 4), ('懷疑', 4), ('邊', 4), ('鄭淑娟', 4), ('改名', 4), ('祈', 4), ('遊覽車', 4), ('不向聲', 4), ('完工後', 4), ('購屋', 4), ('結構', 4), ('錞', 4), ('教唆', 4), ('利潤', 4), ('立人段', 4), ('攤', 4), ('業於', 4), ('造人涉', 4), ('議定', 4), ('聖', 4), ('律師', 4), ('鄭采研', 4), ('韋章', 4), ('生之子', 4), ('事務所', 4), ('如期', 4), ('肘', 4), ('喜', 4), ('二中', 4), ('則自', 4), ('岡山', 4), ('總', 4), ('重劃', 4), ('浪板', 4), ('保險金', 4), ('復興路', 4), ('鄉台', 4), ('靜文', 4), ('寶貴', 4), ('翻覆', 4), ('馬達', 4), ('她', 4), ('欽', 4), ('明於', 4), ('亭', 4), ('公務', 4), ('劉慈慧', 4), ('肩膀', 4), ('人林芷筠', 4), ('汽機', 4), ('禮服', 4), ('大腿', 4), ('人林俊毅', 4), ('蔡玟', 4), ('防水', 4), ('琍', 4), ('劉宸', 4), ('瘀', 4), ('原本', 4), ('則由聲', 4), ('沈鐵民', 4), ('參佰元', 4), ('由於', 4), ('柒佰肆', 4), ('人林怡', 4), ('路人', 4), ('全', 4), ('籃智', 4), ('勝', 4), ('誠富發', 4), ('打聲', 4), ('主臥室', 4), ('左前', 4), ('標誌', 4), ('因該', 4), ('其女', 4), ('駛離', 4), ('給對', 4), ('統亞', 4), ('大廈', 4), ('李郁', 4), ('佳', 4), ('協同', 4), ('歲', 4), ('付', 4), ('崁', 4), ('嫥', 4), ('人陳法', 4), ('刷卡', 4), ('項', 4), ('牆', 4), ('超商前', 4), ('新城', 4), ('王繼蓬', 4), ('賣', 4), ('探視', 4), ('及第', 4), ('慧鳳', 4), ('琿', 4), ('高鐵', 4), ('由北', 4), ('洪淑貞', 4), ('承諾', 4), ('致王', 4), ('月華', 4), ('開刀', 4), ('滷菜', 4), ('周昶', 4), ('本田', 4), ('蔡蘇', 4), ('集團', 4), ('人黃筠潔', 4), ('設施', 4), ('公然', 4), ('指出', 4), ('燕', 4), ('即可', 4), ('董密', 4), ('琡', 4), ('查知', 4), ('上前', 4), ('鈊', 4), ('監護', 4), ('孫孟輝', 4), ('字樣', 4), ('報廢', 4), ('客人', 4), ('港溪', 4), ('墓地', 4), ('鄭玉琪', 4), ('葉家', 4), ('侯聖能', 4), ('明汾', 4), ('身亡', 4), ('明利', 4), ('鄭景耀', 4), ('元予', 4), ('新街', 4), ('劉仲霖', 4), ('彩珠', 4), ('周吳', 4), ('造人施', 4), ('眼球', 4), ('號因', 4), ('底價', 4), ('廖', 4), ('修護', 4), ('擺放', 4), ('屆滿', 4), ('哲學', 4), ('證明文件', 4), ('高珊', 4), ('許秀琴', 4), ('郭棗', 4), ('日本', 4), ('春江', 4), ('檢署', 4), ('三分之一', 4), ('存入', 4), ('文海', 4), ('塞', 4), ('企銀', 4), ('德宏', 4), ('墊', 4), ('秋蘭', 4), ('經解', 4), ('佐理', 4), ('朝', 4), ('周雅雯', 4), ('崴', 4), ('人僅', 4), ('邵嵇睿', 4), ('李林', 4), ('行人穿越', 4), ('推撞', 4), ('標示', 4), ('孟娟', 4), ('門', 4), ('姵', 4), ('謝澈', 4), ('許雯琳', 4), ('該棟', 4), ('檢驗', 4), ('恐嚇罪', 4), ('持續', 4), ('過世', 4), ('振源', 4), ('吳俊鴻', 4), ('告', 4), ('僅就', 4), ('債款', 4), ('平', 4), ('嬴', 4), ('鄭文惠', 4), ('國光', 4), ('款新', 4), ('蔡鎮宇', 4), ('筱晴', 4), ('各新', 4), ('杜松', 4), ('黃鴻斌', 4), ('製作', 4), ('吳東', 4), ('丁', 4), ('丁方應', 4), ('財物', 4), ('新港', 4), ('政升', 4), ('後座', 4), ('議價', 4), ('成交', 4), ('禔', 4), ('捲', 4), ('買', 4), ('鎖骨', 4), ('儀蒨', 4), ('失竊', 4), ('神經', 4), ('人壹拾', 4), ('赤', 4), ('股份有限', 4), ('過', 4), ('人黃碧琴', 4), ('不良', 4), ('未依', 4), ('差價', 4), ('花盆', 4), ('養生', 4), ('出門', 4), ('門牌號', 4), ('接獲', 4), ('詢問', 4), ('王秉洋', 4), ('檢修', 4), ('用於', 4), ('賣家', 4), ('轉賣', 4), ('濠', 4), ('內科', 4), ('不到', 4), ('陳思璇', 4), ('楊雪蓁', 4), ('乘方', 4), ('地震', 4), ('專利權', 4), ('楊惠珍', 4), ('跑', 4), ('與施', 4), ('桌', 4), ('調閱', 4), ('逕行', 4), ('鄢蜀', 4), ('拍照', 4), ('嫺', 4), ('夏林路', 4), ('短期', 4), ('號營', 4), ('蘇得', 4), ('前聲', 4), ('吳品', 4), ('手部', 4), ('周文鴻', 4), ('惟上', 4), ('暨', 4), ('混凝土', 4), ('曳', 4), ('福慶', 4), ('勞', 4), ('詠', 4), ('佃', 4), ('及將', 4), ('筆錄', 4), ('洗衣店', 4), ('李禕柔', 4), ('人林作', 4), ('刑法', 4), ('開放性', 4), ('女方', 4), ('來電', 4), ('格上', 4), ('腰部', 4), ('失去', 4), ('胸壁', 4), ('大路', 4), ('撞壞', 4), ('一中', 4), ('隆起', 4), ('周佳演', 4), ('人當', 4), ('人林佩珍', 4), ('制止', 4), ('人黃千瑜', 4), ('第二', 4), ('路和緯', 4), ('人文', 4), ('致令', 4), ('遭到', 4), ('取走', 4), ('困難', 4), ('倒', 4), ('花蓮縣', 4), ('秋香', 4), ('左營', 4), ('山路', 4), ('出於', 4), ('杕', 4), ('萣', 4), ('邵家', 4), ('吳進廷', 4), ('江泉', 4), ('歇業', 4), ('而致', 4), ('國璽', 4), ('財產權', 4), ('公', 4), ('搬運', 4), ('春華', 4), ('之車', 4), ('吳明', 4), ('盆栽', 4), ('一同', 4), ('事實上', 4), ('會後', 4), ('傾斜', 4), ('具', 4), ('是否', 4), ('元大', 4), ('劉明翰', 4), ('主任', 4), ('幼鳥', 4), ('嗣聲', 4), ('該院', 4), ('損毀', 4), ('杜', 4), ('周春燕', 4), ('劉宇', 4), ('教會', 4), ('確實', 4), ('樓至', 4), ('勞動基準', 4), ('自動', 4), ('人黃昕', 4), ('槍', 4), ('鄭聿涵', 4), ('查獲', 4), ('通路', 4), ('兼', 4), ('號車', 4), ('現僅', 4), ('工時', 4), ('王俊驊', 4), ('一下', 4), ('林立', 4), ('聯結', 4), ('三張', 4), ('許雁茹', 4), ('壎', 4), ('渝', 4), ('豪', 4), ('條第', 4), ('簽訂契約', 3), ('更名', 3), ('車頂', 3), ('四筆', 3), ('民街', 3), ('垃圾車', 3), ('吊車', 3), ('人先', 3), ('杜崇凱', 3), ('雄體', 3), ('影像', 3), ('女友', 3), ('盜版', 3), ('電信', 3), ('盜刷', 3), ('金為', 3), ('人黃瑋', 3), ('捌佰陸', 3), ('年來', 3), ('天明', 3), ('賣場', 3), ('半', 3), ('追逐', 3), ('私自', 3), ('香懷', 3), ('見證人', 3), ('買車', 3), ('區郡安路', 3), ('文章', 3), ('許紋', 3), ('元未還', 3), ('郭條', 3), ('人陳煒', 3), ('鄧宇傑', 3), ('門鈴', 3), ('遭拒', 3), ('另約', 3), ('恭', 3), ('李維霖', 3), ('照鏡', 3), ('環保局', 3), ('人林思妤', 3), ('右邊', 3), ('出賣', 3), ('從後撞', 3), ('劉辰', 3), ('周余蒨', 3), ('查詢', 3), ('謙', 3), ('債務人', 3), ('冷', 3), ('王俊凱', 3), ('補習', 3), ('均分', 3), ('大內', 3), ('血腫', 3), ('天', 3), ('負', 3), ('郭亭', 3), ('王登煌', 3), ('非', 3), ('運送', 3), ('水電工程', 3), ('文賢國', 3), ('犯', 3), ('更改', 3), ('共約', 3), ('婌', 3), ('庇護', 3), ('吳映', 3), ('幫忙', 3), ('哲偉', 3), ('看診', 3), ('人有', 3), ('庭院', 3), ('翁瑋彤', 3), ('貳佰壹拾', 3), ('本糧', 3), ('清水', 3), ('交易量', 3), ('法及', 3), ('伸手', 3), ('遠信', 3), ('借新', 3), ('全利', 3), ('文振', 3), ('收回', 3), ('涂巧', 3), ('唐銘宏', 3), ('套', 3), ('劉家', 3), ('王廷軒', 3), ('蔡永霖', 3), ('擔保責任', 3), ('冠', 3), ('另自', 3), ('娟', 3), ('蔡平', 3), ('疼痛', 3), ('住所地', 3), ('款為', 3), ('舉辦', 3), ('瘀傷', 3), ('盧儀芳', 3), ('張志良', 3), ('文山', 3), ('日要', 3), ('一家', 3), ('影本', 3), ('林泓成', 3), ('複製', 3), ('用均', 3), ('法拍', 3), ('前項', 3), ('伍佰元則', 3), ('小娟', 3), ('周瑋軒', 3), ('駛', 3), ('梁', 3), ('之行', 3), ('蔡益仁', 3), ('稅金', 3), ('信華', 3), ('面', 3), ('某處', 3), ('綾', 3), ('近來', 3), ('崇安', 3), ('王輝麟', 3), ('無效', 3), ('素惠', 3), ('永明', 3), ('看到', 3), ('燈', 3), ('樹', 3), ('東城', 3), ('天聖', 3), ('現先', 3), ('顏維晨', 3), ('醫學院', 3), ('人范氏', 3), ('廠房', 3), ('顯示', 3), ('依附', 3), ('再次', 3), ('諴', 3), ('文凱', 3), ('木地板', 3), ('洪立武', 3), ('逼迫', 3), ('劉育', 3), ('王郭', 3), ('提款', 3), ('棒', 3), ('區慶平路', 3), ('逕自', 3), ('案號', 3), ('額', 3), ('蔡政軒', 3), ('催繳', 3), ('唐芬萍', 3), ('張明', 3), ('兩人', 3), ('路東', 3), ('加以', 3), ('蘇怡', 3), ('桂花', 3), ('珈', 3), ('審核', 3), ('易字', 3), ('檢號', 3), ('先於', 3), ('百元', 3), ('大姆指', 3), ('現就', 3), ('便利商店', 3), ('王雅君', 3), ('代書', 3), ('警示', 3), ('馨', 3), ('滲透', 3), ('鄭雅今', 3), ('房客', 3), ('姐姐', 3), ('款柒', 3), ('永豐', 3), ('貳佰參拾', 3), ('許豪文', 3), ('價', 3), ('少年', 3), ('扆', 3), ('再度', 3), ('加工', 3), ('私人', 3), ('否', 3), ('徐詩婷', 3), ('柳', 3), ('冰', 3), ('安吉', 3), ('艾珍', 3), ('應由', 3), ('山貓', 3), ('波', 3), ('王施勉', 3), ('趁', 3), ('右腳', 3), ('餐盤', 3), ('天成', 3), ('攜帶', 3), ('雅虎', 3), ('如有', 3), ('壓縮機', 3), ('人龍', 3), ('北園橋', 3), ('遲', 3), ('沈孟嬅', 3), ('太太', 3), ('吉安', 3), ('人則', 3), ('喬', 3), ('統聯', 3), ('桐樹', 3), ('運轉', 3), ('金忠', 3), ('解決', 3), ('放於', 3), ('機時', 3), ('東向', 3), ('校門口', 3), ('秀英', 3), ('寀', 3), ('張涵', 3), ('文體', 3), ('員', 3), ('左臉', 3), ('否認', 3), ('留下', 3), ('邱靖', 3), ('吳孟芳', 3), ('認定', 3), ('唐見璋', 3), ('家具', 3), ('雪', 3), ('肌肉', 3), ('發表', 3), ('鎚', 3), ('周素綿', 3), ('掉', 3), ('內有', 3), ('自家', 3), ('獲得', 3), ('楊順', 3), ('吳雅琪', 3), ('金鳳體傷', 3), ('順其', 3), ('絆倒', 3), ('霍', 3), ('玉井', 3), ('下方', 3), ('報告', 3), ('五路', 3), ('房產', 3), ('伍仟元則', 3), ('追', 3), ('邀聲', 3), ('連佩雯', 3), ('人陳慧玲', 3), ('經查', 3), ('現況', 3), ('持球', 3), ('動作', 3), ('接', 3), ('壹佰肆', 3), ('與立', 3), ('鳳爪', 3), ('壁', 3), ('民宅', 3), ('照護', 3), ('廖紹齊', 3), ('三筆', 3), ('轉包', 3), ('點選', 3), ('綠地', 3), ('未歸', 3), ('咖', 3), ('情感', 3), ('不斷', 3), ('偕同', 3), ('揚', 3), ('楊晨', 3), ('喬雯', 3), ('王順國', 3), ('疏未', 3), ('不當得利', 3), ('聶仲澤', 3), ('潘奕玟', 3), ('游雅', 3), ('聲稱', 3), ('磚造', 3), ('鄭閎', 3), ('國慶', 3), ('新樓', 3), ('營', 3), ('停工', 3), ('膝蓋', 3), ('蘇郁馨', 3), ('人陳貞吟', 3), ('林吉村', 3), ('下層', 3), ('同棟', 3), ('肆佰捌', 3), ('呂騏', 3), ('保險局', 3), ('主', 3), ('肆佰陸', 3), ('筆記型電腦', 3), ('丙方', 3), ('鴻佳', 3), ('渣打', 3), ('廖珍平', 3), ('反應', 3), ('君', 3), ('許耿豪', 3), ('注入', 3), ('李榮', 3), ('漆', 3), ('街巷', 3), ('仟玖佰', 3), ('水源', 3), ('替', 3), ('官田', 3), ('造人賴', 3), ('柱子', 3), ('鄭旭', 3), ('區溪', 3), ('楊尚尉', 3), ('裝置', 3), ('無傷', 3), ('書予', 3), ('激能', 3), ('打開', 3), ('柯葉碧子', 3), ('郭建', 3), ('墘', 3), ('資', 3), ('雜', 3), ('計', 3), ('擴點', 3), ('錆', 3), ('人林佳憲', 3), ('紅腫', 3), ('人林莉菁', 3), ('鄰屋', 3), ('行照', 3), ('王君萍', 3), ('顯庭', 3), ('安中', 3), ('老人', 3), ('椅子', 3), ('大約', 3), ('土城', 3), ('發生意外', 3), ('暴力', 3), ('人夏宏毅', 3), ('榛', 3), ('鄭靜軒', 3), ('衣', 3), ('七', 3), ('無骨', 3), ('戶籍', 3), ('人陳芷羚', 3), ('李昆霖', 3), ('裝', 3), ('美修', 3), ('黃色', 3), ('號電桿', 3), ('為聲', 3), ('經向', 3), ('狀態', 3), ('不聞不問', 3), ('將對', 3), ('吳隱展', 3), ('德欽', 3), ('建築材料', 3), ('臉頰', 3), ('頂美三街', 3), ('柯宇晉', 3), ('茶葉', 3), ('釣蝦場', 3), ('人陳宗', 3), ('基祿', 3), ('宛麟', 3), ('造人店', 3), ('敲打', 3), ('有聲', 3), ('蔡正成', 3), ('距離', 3), ('甫', 3), ('不還', 3), ('日起聲', 3), ('現林', 3), ('金孝信', 3), ('咆哮', 3), ('職員', 3), ('蔡佩庭', 3), ('謝君儀', 3), ('向仲信', 3), ('詹項', 3), ('價額', 3), ('西湖', 3), ('延宕', 3), ('表明', 3), ('辜詩婷', 3), ('莊惠晶', 3), ('當晚', 3), ('比例', 3), ('卡拉', 3), ('數萬元', 3), ('頭期款', 3), ('各給', 3), ('人盧', 3), ('高速公路', 3), ('佯', 3), ('岡', 3), ('商議', 3), ('晏', 3), ('再付', 3), ('以壹拾', 3), ('正橋', 3), ('湘', 3), ('不知情', 3), ('玖佰元整', 3), ('訴訟費用', 3), ('湖內', 3), ('意涵', 3), ('苓', 3), ('每天', 3), ('維護', 3), ('床', 3), ('莊林澤', 3), ('要給', 3), ('亞東', 3), ('夢', 3), ('登旺', 3), ('人陳鈺', 3), ('佳益行', 3), ('人壽保險', 3), ('商談', 3), ('及車', 3), ('簡鏡', 3), ('王洪', 3), ('人傑', 3), ('數年', 3), ('一支', 3), ('地基', 3), ('之母', 3), ('其車', 3), ('奇摩', 3), ('於是', 3), ('幫聲', 3), ('散佈', 3), ('憓', 3), ('藥妝店', 3), ('鋁門', 3), ('弟', 3), ('因病', 3), ('花費', 3), ('南化區', 3), ('人右', 3), ('藝術', 3), ('東橋', 3), ('蔡林', 3), ('呂宗', 3), ('國宅', 3), ('柒拾伍', 3), ('曾柏諺', 3), ('護欄', 3), ('密碼', 3), ('秀', 3), ('方面', 3), ('酉', 3), ('東安', 3), ('講義', 3), ('方泳傑', 3), ('班', 3), ('持票', 3), ('氯離子', 3), ('號誌', 3), ('林貴金', 3), ('造人陳彥', 3), ('原定', 3), ('子車', 3), ('諮', 3), ('區頂', 3), ('學園', 3), ('強行', 3), ('訊息', 3), ('人應', 3), ('再委請', 3), ('定時', 3), ('覃陳', 3), ('肆佰玖拾', 3), ('答應', 3), ('隔日', 3), ('沈彥', 3), ('洗車', 3), ('超車', 3), ('建綸', 3), ('眼部', 3), ('短少', 3), ('書上', 3), ('扭', 3), ('聽', 3), ('加入', 3), ('一隻', 3), ('銀南', 3), ('林雅雯', 3), ('檳榔', 3), ('清吉', 3), ('紋', 3), ('肆萬柒仟元整', 3), ('報紙', 3), ('德昌', 3), ('流血', 3), ('吳宗', 3), ('日即', 3), ('蘇奕容', 3), ('蕭百修', 3), ('許芳', 3), ('吃飯', 3), ('拍打', 3), ('無力', 3), ('李良軒', 3), ('昆明', 3), ('分鐘', 3), ('肋骨', 3), ('雋', 3), ('存證', 3), ('他們', 3), ('穿', 3), ('客服', 3), ('林錦溝', 3), ('因其', 3), ('依上', 3), ('雲車損', 3), ('舒妤', 3), ('林崇德', 3), ('木棒', 3), ('駛入', 3), ('蔡柏洲', 3), ('石育', 3), ('文元國', 3), ('謝季', 3), ('道旁', 3), ('致有', 3), ('轉介本件', 3), ('經調', 3), ('鄰', 3), ('斷裂', 3), ('爭執不下', 3), ('轉帳', 3), ('誘使', 3), ('封閉', 3), ('嘉體傷', 3), ('車無', 3), ('源', 3), ('誤信', 3), ('李淑惠', 3), ('小段', 3), ('何馨楠', 3), ('王思婷', 3), ('倉庫', 3), ('佳倍潔', 3), ('吳玉秀', 3), ('人黃懿純', 3), ('公學', 3), ('月琴', 3), ('梁榮鋒', 3), ('將原', 3), ('盧家', 3), ('自有', 3), ('政源', 3), ('人陳國綸', 3), ('東河', 3), ('取消', 3), ('真實', 3), ('早餐', 3), ('呂杰穎', 3), ('麗玉', 3), ('安康', 3), ('驚嚇', 3), ('水流', 3), ('走廊', 3), ('特', 3), ('王儷蓁', 3), ('邱婧容', 3), ('李林淑玲', 3), ('人黃鈺雅', 3), ('相', 3), ('林榮冠', 3), ('李黃慶梅', 3), ('閻家駿', 3), ('姿安', 3), ('謝麗惠', 3), ('西和路', 3), ('臥室', 3), ('伍佰', 3), ('蕭克', 3), ('源泉', 3), ('八街', 3), ('淑珍', 3), ('寶', 3), ('蔡宜庭', 3), ('衝撞', 3), ('工期', 3), ('專案', 3), ('依湘', 3), ('嬋娟', 3), ('區台', 3), ('施琳姿', 3), ('未給', 3), ('清洗', 3), ('謝裕鋒', 3), ('處於', 3), ('許永添', 3), ('陸仟玖佰元整', 3), ('人林佳', 3), ('環河', 3), ('吳信', 3), ('信函', 3), ('人陳雅雯', 3), ('萬多元', 3), ('之下', 3), ('假扣押', 3), ('主機', 3), ('公告', 3), ('處置', 3), ('化學', 3), ('鑑定費', 3), ('叫罵', 3), ('斯', 3), ('楊馥蓉', 3), ('造人以', 3), ('月容', 3), ('地區', 3), ('意舫', 3), ('包含', 3), ('將車', 3), ('東段', 3), ('清體傷', 3), ('正仁', 3), ('中聲', 3), ('低價', 3), ('致李', 3), ('謝富', 3), ('冒用', 3), ('造人劉', 3), ('引發', 3), ('航空', 3), ('星羽', 3), ('追討', 3), ('薛雨', 3), ('唐麗香', 3), ('萬年', 3), ('往來', 3), ('動產', 3), ('張敏珠', 3), ('不便', 3), ('貳佰參', 3), ('並均', 3), ('國立', 3), ('吳秀葉', 3), ('巷子', 3), ('人因', 3), ('慢車', 3), ('蔣采純', 3), ('租給', 3), ('獲利', 3), ('人黃浚', 3), ('起重機', 3), ('與育德路', 3), ('李炎山', 3), ('藏密', 3), ('頸椎', 3), ('五台', 3), ('致渠', 3), ('吳佳紋', 3), ('轉述', 3), ('定', 3), ('經送', 3), ('汽車保險', 3), ('一個月', 3), ('北邊', 3), ('經銷商', 3), ('整理', 3), ('陸萬肆', 3), ('歐', 3), ('司票', 3), ('楷', 3), ('楊聰元', 3), ('性騷擾', 3), ('東往', 3), ('在家', 3), ('舊識', 3), ('茸', 3), ('清風', 3), ('造人洪', 3), ('廷', 3), ('保人', 3), ('建展', 3), ('王俊皓', 3), ('註冊', 3), ('現經', 3), ('集', 3), ('慈', 3), ('三紙', 3), ('攝影', 3), ('數仟元', 3), ('玹', 3), ('造人余', 3), ('曹晉', 3), ('不適', 3), ('王幸', 3), ('不甘', 3), ('條規', 3), ('趁聲', 3), ('陳毅', 3), ('實為', 3), ('器具', 3), ('休息', 3), ('吟', 3), ('重大', 3), ('人傅', 3), ('退租', 3), ('自助餐', 3), ('現與', 3), ('喜樹', 3), ('人黃志', 3), ('娌', 3), ('吳佳鋒', 3), ('豔', 3), ('投射燈', 3), ('汽油', 3), ('好事', 3), ('毀棄', 3), ('維修費', 3), ('許素娟', 3), ('桂', 3), ('你們', 3), ('人陳憶婷', 3), ('壁紙', 3), ('豆腐', 3), ('鄭昱婕', 3), ('永興', 3), ('人方郁', 3), ('緊鄰', 3), ('駱元', 3), ('吳逢玉', 3), ('震動', 3), ('確為', 3), ('木棍', 3), ('施逸陽', 3), ('兩車', 3), ('執照', 3), ('環保', 3), ('靠近', 3), ('海', 3), ('行銷', 3), ('截肢', 3), ('葉慶嵩', 3), ('周淑如', 3), ('摔傷', 3), ('李育', 3), ('吳燕珍', 3), ('月霞', 3), ('壹佰元', 3), ('本市', 3), ('說話', 3), ('書面', 3), ('五樓', 3), ('促字', 3), ('中興', 3), ('參佰肆', 3), ('萬肆', 3), ('人賴映婷', 3), ('徐子婷', 3), ('溍', 3), ('落差', 3), ('不實', 3), ('輛', 3), ('法律', 3), ('觸摸', 3), ('桌子', 3), ('雅區', 3), ('惟其', 3), ('附', 3), ('李金', 3), ('國賢', 3), ('承購', 3), ('含量', 3), ('以及', 3), ('紙以', 3), ('腰椎', 3), ('芳', 3), ('資遣費', 3), ('鄭茂松', 3), ('小吃', 3), ('還', 3), ('石頭', 3), ('與育', 3), ('藉以', 3), ('何人', 3), ('蔡宜倫', 3), ('李惠如', 3), ('察覺', 3), ('車款', 3), ('明偉', 3), ('石羽詩', 3), ('王琬晴', 3), ('蒐證', 3), ('右前方', 3), ('懷孕', 3), ('來車', 3), ('結帳', 3), ('人林煒', 3), ('人竟', 3), ('永吉', 3), ('人林例', 3), ('股利', 3), ('網頁', 3), ('眼眶', 3), ('方便', 3), ('單', 3), ('夙', 3), ('滑', 3), ('蔡妙子', 3), ('法容', 3), ('鋐', 3), ('土狗', 3), ('提', 3), ('駕', 3), ('稅籍', 3), ('人黃冠', 3), ('郭雪', 3), ('瑞', 3), ('吋', 3), ('撿拾', 3), ('人黃', 3), ('葉子', 3), ('計畫', 3), ('影片', 3), ('全福', 3), ('次女', 3), ('經本會', 3), ('贍養費', 3), ('參萬柒仟', 3), ('價格', 3), ('人林展', 3), ('徐銘澤', 3), ('受理', 3), ('吳博雄', 3), ('許芳源', 3), ('現任', 3), ('全義', 3), ('人黃銘', 3), ('人余宛蓉', 3), ('楊苓', 3), ('正盟', 3), ('扣押', 3), ('商行', 3), ('千芳', 3), ('自來水', 3), ('解散', 3), ('主治醫師', 3), ('文聲', 3), ('錡', 3), ('拍', 3), ('損聲', 3), ('斡旋', 3), ('圖', 3), ('一定', 3), ('人壽', 3), ('化糞池', 3), ('啟惠原', 3), ('段家', 3), ('人原', 3), ('洪郁芳', 3), ('同址', 3), ('飛', 3), ('三重', 3), ('百分之五', 3), ('轉讓', 3), ('時即', 3), ('訂於', 3), ('郭麗雪', 3), ('防止', 3), ('賣予', 3), ('佰元整', 3), ('人段', 3), ('交流', 3), ('每次', 3), ('巧', 3), ('張仲賢', 3), ('邱柏勝', 3), ('胡富', 3), ('假借', 3), ('宿舍', 3), ('大光', 3), ('故本件', 3), ('羅素', 3), ('私人物品', 3), ('郭月秀', 3), ('頡', 3), ('盧敬文', 3), ('分隔', 3), ('廣告社', 3), ('建造', 3), ('人陳春秀', 3), ('蔡宗諭', 3), ('整合', 3), ('人陳瑞吟', 3), ('佛像', 3), ('內部', 3), ('區尚', 3), ('彩雲', 3), ('中指', 3), ('祝壽', 3), ('發展', 3), ('按期', 3), ('合一', 3), ('興業', 3), ('天佑', 3), ('代', 3), ('限期', 3), ('董事長', 3), ('明星', 3), ('橈骨', 3), ('推銷', 3), ('王宥', 3), ('回應', 3), ('四樓', 3), ('嘉義', 3), ('用錢', 3), ('人黃秀', 3), ('盧春益', 3), ('瑞芬', 3), ('不想', 3), ('中間', 3), ('這種', 3), ('林王', 3), ('智', 3), ('楊喬安', 3), ('春子', 3), ('人孫', 3), ('蔡正', 3), ('王雅雯', 3), ('秋體傷', 3), ('壹個', 3), ('融資', 3), ('扣款', 3), ('張穎擷', 3), ('菜市場', 3), ('場所', 3), ('仿冒品', 3), ('推擠', 3), ('人陳佳蓉', 3), ('侵佔', 3), ('口處', 3), ('鍚', 3), ('國揚', 3), ('先前', 3), ('郭欽水', 3), ('李蕙', 3), ('百分之', 3), ('之妻', 3), ('興華', 3), ('中小', 3), ('侵犯', 3), ('逝世', 3), ('每張', 3), ('虎骨酒', 3), ('手掌', 3), ('雄州', 3), ('郭文昆', 3), ('葉凱偉', 3), ('聽聞', 3), ('王麗雀', 3), ('戴佑珍', 3), ('泊', 3), ('假', 3), ('張惠娥', 3), ('榮結', 3), ('號的', 3), ('推倒', 3), ('水錶', 3), ('造人程', 3), ('誹謗', 3), ('銀花', 3), ('萬炎彬', 3), ('女婿', 3), ('林德榮', 3), ('費時', 3), ('婚生子女', 3), ('樊', 3), ('趁機', 3), ('曾炳魁', 3), ('所得', 3), ('廖淑芬', 3), ('前夫', 3), ('左肩', 3), ('應徵', 3), ('意見書', 3), ('傳', 3), ('隱瞞', 3), ('出借', 3), ('人黃紀', 3), ('下營', 3), ('王逸琳', 3), ('人永保', 3), ('零件', 3), ('長田', 3), ('大安', 3), ('北海', 3), ('過久', 3), ('平路', 3), ('姚', 3), ('去向不明', 3), ('款壹佰', 3), ('水康區', 3), ('台灣省', 3), ('召集', 3), ('太保', 3), ('李錫端', 3), ('阿蓮', 3), ('相識', 3), ('原佃', 3), ('六段', 3), ('左腳', 3), ('七里香', 3), ('經其', 3), ('不給', 3), ('機', 3), ('德興', 3), ('吳黃明', 3), ('王愛芸', 3), ('植牙', 3), ('成年', 3), ('顏面', 3), ('轉借', 3), ('往生', 3), ('巷內', 3), ('排水槽', 3), ('該地', 3), ('由東', 3), ('生財器具', 3), ('萬整', 3), ('應自', 3), ('驗收', 3), ('子', 3), ('馮', 3), ('欣怡', 3), ('招攬', 3), ('邱利', 3), ('豪體傷', 3), ('江', 3), ('街交', 3), ('許雅婷', 3), ('周建龍', 3), ('科', 3), ('因車禍', 3), ('年底', 3), ('育樂', 3), ('廠內', 3), ('莊妍貞', 3), ('住宅區', 3), ('康祥段', 3), ('配通', 3), ('屋前', 3), ('代為', 3), ('人林福雄', 3), ('林振明', 3), ('周芳玟', 3), ('陳鴻榮', 3), ('采茜', 3), ('聲聲', 3), ('蕭智益', 3), ('抵押借款', 3), ('後門', 3), ('鄭福江', 3), ('洗衣', 3), ('吳蘇玲', 3), ('徒步', 3), ('佛學', 3), ('邱萬', 3), ('振南', 3), ('向上', 3), ('退貨', 3), ('機會', 3), ('石璨綸', 3), ('特種', 3), ('阮妙賢', 3), ('聊天', 3), ('什麼', 3), ('鋼筋', 3), ('侯北成', 3), ('醫護人員', 3), ('撫養', 3), ('宣告', 3), ('人陳芳', 3), ('人陳國舟', 3), ('分割', 3), ('千', 3), ('損均', 3), ('捌佰柒拾', 3), ('宏遠', 3), ('施景中', 3), ('屏體傷', 3), ('汽車旅館', 3), ('一層', 3), ('幀', 3), ('簽單', 3), ('哲持', 3), ('會議', 3), ('車位', 3), ('璦', 3), ('瀛', 3), ('乙案', 3), ('毆打成傷', 3), ('計算', 3), ('撘', 3), ('人林秉叡', 3), ('甲魚', 3), ('蕭', 3), ('豐瑞', 3), ('一對', 3), ('公車站', 3), ('二年', 3), ('遷離', 3), ('貨物', 3), ('汝', 3), ('之共', 3), ('薛淑碧', 3), ('素梅', 3), ('各別', 3), ('商標法', 3), ('人葉靜', 3), ('李雅媚', 3), ('增為', 3), ('股', 3), ('年前', 3), ('屋簷', 3), ('執行命令', 3), ('施昭偉', 3), ('吳旗', 3), ('誆', 3), ('許家', 3), ('涓', 3), ('駱', 3), ('溱', 3), ('人趙益', 3), ('學生', 3), ('溪', 3), ('廚具', 3), ('手肘', 3), ('一場', 3), ('寶華', 3), ('湖美', 3), ('整約', 3), ('司', 3), ('人黃惠珍', 3), ('之鐵', 3), ('謝心', 3), ('愮', 3), ('國一', 3), ('志遠', 3), ('零伍佰元整', 3), ('店員', 3), ('屏東', 3), ('玉器', 3), ('傳送', 3), ('產生糾紛', 3), ('人麥', 3), ('楊融', 3), ('三年', 3), ('瑢', 3), ('桶', 3), ('予以', 3), ('張憶', 3), ('未有', 3), ('樟', 3), ('麥書維', 3), ('開時', 3), ('玉米', 3), ('劉建宗', 3), ('結束', 3), ('信', 3), ('擋風玻璃', 3), ('人伍', 3), ('灣', 3), ('洪翊婷', 3), ('已先', 3), ('黃梅', 3), ('巷前', 3), ('開價', 3), ('開對', 3), ('李黃春美', 3), ('網', 3), ('維持', 3), ('頂里', 3), ('地方', 3), ('王俊能', 3), ('闖越', 3), ('中油', 3), ('如數', 3), ('監理', 3), ('偵緝', 3), ('郭宗北', 3), ('紘', 3), ('臺中市', 3), ('參萬柒仟元整', 3), ('寄至', 3), ('高立', 3), ('蔡林秀菊', 3), ('雙手', 3), ('采妙', 3), ('破洞', 3), ('仔', 3), ('許芳美', 3), ('林麗美', 3), ('債權人', 3), ('思源', 3), ('荃', 3), ('而聲', 3), ('二次', 3), ('勞務費', 3), ('退保', 3), ('葉雪', 3), ('正文', 3), ('鄧', 3), ('盈靜', 3), ('觀音', 3), ('環', 3), ('日分', 3), ('畢業', 3), ('酒瓶', 3), ('人林慧琴', 3), ('鄭采茵', 3), ('突爆', 3), ('模具', 3), ('謀生', 3), ('劉瑞富', 3), ('抵銷', 3), ('王姿琪', 3), ('車損聲', 3), ('摟', 3), ('並回', 3), ('肆萬柒仟', 3), ('秀鳳', 3), ('常', 3), ('婚姻', 3), ('端', 3), ('吳逸煒', 3), ('太元', 3), ('貳佰柒', 3), ('一時', 3), ('韌帶', 3), ('蒼德', 3), ('紀錄', 3), ('倒會', 3), ('過低', 3), ('脫位', 3), ('平台', 3), ('過失', 3), ('李爵麟', 3), ('祥', 3), ('歐盛雄', 3), ('賢街', 3), ('枝葉', 3), ('而涉', 3), ('蔡昀璋', 3), ('發起', 3), ('在外', 3), ('鄭忠典', 2), ('戴宇', 2), ('標的物', 2), ('榮珮華', 2), ('禮', 2), ('健豪', 2), ('時速', 2), ('關住', 2), ('柒萬陸', 2), ('隆', 2), ('陳淑芬', 2), ('積極', 2), ('至此', 2), ('熊', 2), ('人籃', 2), ('兒童', 2), ('空空', 2), ('撿', 2), ('王晟彰', 2), ('運回', 2), ('王得', 2), ('渠父', 2), ('營運', 2), ('區內', 2), ('食品工業', 2), ('不勝酒力', 2), ('趙國', 2), ('呈現', 2), ('方車', 2), ('蔡月英', 2), ('張勝凱', 2), ('人陳靖', 2), ('木', 2), ('郭家', 2), ('龍文', 2), ('農路', 2), ('王維', 2), ('包括', 2), ('搶救無效', 2), ('區公所', 2), ('廖慧卿', 2), ('便溺', 2), ('人林秀玲', 2), ('邱敬翔', 2), ('里長', 2), ('指摘', 2), ('大昌', 2), ('香火', 2), ('陳瑩軒', 2), ('洪月卿', 2), ('租借', 2), ('林明利', 2), ('王立民', 2), ('人黃鼎倫', 2), ('駱遠哲', 2), ('蘇慶峰', 2), ('肺', 2), ('者', 2), ('埔', 2), ('吳燕玉', 2), ('否則', 2), ('莫富名', 2), ('湖美二', 2), ('砸破', 2), ('蕭維揚', 2), ('造人周', 2), ('麗雅', 2), ('洪菁怡', 2), ('翻車', 2), ('琄', 2), ('宋秀鈴', 2), ('大哥大', 2), ('國中', 2), ('升', 2), ('全凱', 2), ('如體傷', 2), ('潘嬅', 2), ('區平', 2), ('並請', 2), ('劉淑惠', 2), ('另一台', 2), ('沈', 2), ('素不相識', 2), ('許嘉雯', 2), ('一群', 2), ('文康', 2), ('以利', 2), ('安溪', 2), ('遲遲', 2), ('左耳', 2), ('人黃舜屏', 2), ('已故', 2), ('時上', 2), ('大理石', 2), ('全體', 2), ('城怡婷', 2), ('產下', 2), ('李興', 2), ('賈丁', 2), ('與富', 2), ('日到', 2), ('人陳馨', 2), ('方法', 2), ('廟', 2), ('元月', 2), ('福慶願', 2), ('楷霖', 2), ('遭受', 2), ('沈偉芳', 2), ('自後駛', 2), ('陳鴻熙', 2), ('造林', 2), ('必須', 2), ('余', 2), ('劉財華', 2), ('壕', 2), ('支付現金', 2), ('人住', 2), ('並使', 2), ('課長', 2), ('填寫', 2), ('並在聲', 2), ('志強', 2), ('阻擋', 2), ('分因', 2), ('數值', 2), ('李懷南', 2), ('盧怡安', 2), ('吹落', 2), ('之新', 2), ('人如', 2), ('張玉枝', 2), ('洪來', 2), ('林振昌', 2), ('人卓麗香', 2), ('而據', 2), ('視聽', 2), ('遵堂', 2), ('鯓', 2), ('飽', 2), ('勸阻', 2), ('游雅雯', 2), ('陽明', 2), ('順位', 2), ('林麗琴', 2), ('金欣', 2), ('扯', 2), ('單位', 2), ('曾素', 2), ('兄妹', 2), ('發出', 2), ('分攤', 2), ('范耀恒', 2), ('李忠憲', 2), ('數學', 2), ('前為', 2), ('潘龍慶', 2), ('嘔吐', 2), ('璿', 2), ('加強', 2), ('推展', 2), ('騙取', 2), ('為系爭', 2), ('五佰元整', 2), ('股份公司', 2), ('兆豐', 2), ('彭雅惠', 2), ('龍', 2), ('吳珮君', 2), ('格旁', 2), ('郭宸', 2), ('檢測', 2), ('范文', 2), ('橋上', 2), ('違章建築', 2), ('美玉', 2), ('李忍', 2), ('樓房', 2), ('之店', 2), ('施龍', 2), ('蔡順', 2), ('小康', 2), ('愉', 2), ('課', 2), ('怡安', 2), ('人陳雪願', 2), ('在國', 2), ('手法', 2), ('刷印', 2), ('吳承諺', 2), ('格位', 2), ('瑞宏', 2), ('晏體傷', 2), ('暫時', 2), ('弘志', 2), ('百達', 2), ('王秀端', 2), ('之狗', 2), ('元分', 2), ('人頭', 2), ('人莫富名', 2), ('人南君', 2), ('協', 2), ('高級中學', 2), ('變電', 2), ('人丁', 2), ('豐磊', 2), ('郭惠琴', 2), ('取財', 2), ('人周', 2), ('世宗', 2), ('最好', 2), ('兩側', 2), ('順德', 2), ('侯', 2), ('出新', 2), ('將來', 2), ('吳金', 2), ('之凱基', 2), ('電玩', 2), ('嫈', 2), ('取出', 2), ('屏東市', 2), ('綠園', 2), ('遲至', 2), ('無涉', 2), ('裂開', 2), ('參仟伍', 2), ('太陽能', 2), ('放款', 2), ('戶頭', 2), ('科儀', 2), ('李文瑞及', 2), ('珀', 2), ('財根', 2), ('兩間', 2), ('仁武', 2), ('已婚', 2), ('神腦', 2), ('璟', 2), ('代轉', 2), ('並有', 2), ('房屋出租', 2), ('已依', 2), ('對話', 2), ('病房', 2), ('龍泉', 2), ('郭國', 2), ('莆怡', 2), ('商借', 2), ('鄭雨鈴', 2), ('中度', 2), ('開刀手術', 2), ('郭肅', 2), ('泉源', 2), ('信義路', 2), ('尤玉子', 2), ('伊達', 2), ('田明巧', 2), ('警車', 2), ('南乙', 2), ('訴', 2), ('宋沂蓁', 2), ('泡', 2), ('遇到', 2), ('王莉雯', 2), ('去年', 2), ('吳玥', 2), ('煞', 2), ('貼', 2), ('人陳輝陽', 2), ('政憲', 2), ('芊', 2), ('旅客', 2), ('天堂', 2), ('救治', 2), ('莊洪美', 2), ('談不成', 2), ('吳侑翰', 2), ('吉無車損', 2), ('名字', 2), ('養育', 2), ('看屋', 2), ('府安路', 2), ('人林芷妤', 2), ('廣慈', 2), ('古蕙菁', 2), ('數人', 2), ('建宏體傷', 2), ('開安中', 2), ('人陳忠謀', 2), ('轉向', 2), ('超商內', 2), ('惟向', 2), ('成果', 2), ('國稅局', 2), ('沿和緯', 2), ('楊玉琴', 2), ('竹鄉', 2), ('惠珍', 2), ('受到', 2), ('造人遲', 2), ('器始', 2), ('椅', 2), ('幃', 2), ('不料', 2), ('因誤', 2), ('製造', 2), ('各付', 2), ('合會', 2), ('樓梯', 2), ('兩重', 2), ('李麗貞', 2), ('限於', 2), ('吳誌', 2), ('安盈', 2), ('配管', 2), ('法拍屋', 2), ('侯怡帆', 2), ('弘名', 2), ('興向聲', 2), ('討回', 2), ('區永', 2), ('城嘉玲', 2), ('勞工保險', 2), ('將新', 2), ('明道', 2), ('作成', 2), ('大樓住戶', 2), ('人顏', 2), ('逃離', 2), ('談判', 2), ('葶', 2), ('徐香', 2), ('出院', 2), ('滿意', 2), ('指控', 2), ('合作', 2), ('煮飯', 2), ('經一', 2), ('落暉', 2), ('秋格', 2), ('鄭佳蓉', 2), ('大燈', 2), ('謝板', 2), ('木松', 2), ('吳采宸', 2), ('龍潭', 2), ('打掃', 2), ('處分權', 2), ('結算', 2), ('起居', 2), ('門柱', 2), ('李可弘', 2), ('人黃慧', 2), ('楊宗諭', 2), ('法國巴黎', 2), ('適宜', 2), ('疑侵', 2), ('商譽', 2), ('人江怡', 2), ('年金', 2), ('行時', 2), ('奕奕', 2), ('憲章', 2), ('堂主', 2), ('號謝', 2), ('佔據', 2), ('牙醫', 2), ('雅婷', 2), ('聖車損', 2), ('人林雪麗', 2), ('壹佰玖拾', 2), ('莊國森', 2), ('明哲', 2), ('敔', 2), ('脛骨', 2), ('合法', 2), ('段佩琪', 2), ('因陳', 2), ('爆裂', 2), ('開建', 2), ('刪除', 2), ('年事已高', 2), ('欣體傷', 2), ('堆置', 2), ('內門', 2), ('洪婉寧', 2), ('強調', 2), ('整地', 2), ('沿育北', 2), ('符合', 2), ('致何', 2), ('金花', 2), ('瑛', 2), ('新美', 2), ('交屋', 2), ('官慧玲', 2), ('臨靠', 2), ('磚', 2), ('范鳳嬌', 2), ('進貨', 2), ('寄交', 2), ('郭鴻霆', 2), ('直到', 2), ('名車', 2), ('千歲', 2), ('清川', 2), ('蔡真香', 2), ('準備', 2), ('桌上', 2), ('吳瑞寶', 2), ('肆萬玖仟元整', 2), ('榮路', 2), ('零柒拾', 2), ('建富', 2), ('入店', 2), ('修正', 2), ('駕駛執照', 2), ('美國', 2), ('要錢', 2), ('姚先生', 2), ('把玩', 2), ('背', 2), ('劉驊', 2), ('後將', 2), ('洪雅', 2), ('綸', 2), ('票款', 2), ('冠勤', 2), ('塊', 2), ('社內里', 2), ('胡嘉哲', 2), ('清泉', 2), ('二紙', 2), ('人帶', 2), ('待轉', 2), ('竹願', 2), ('飲水機', 2), ('岑', 2), ('監視', 2), ('林相', 2), ('遺囑', 2), ('器材', 2), ('人賴筱雅', 2), ('扣', 2), ('王淑玲', 2), ('泡水', 2), ('故而', 2), ('豐路', 2), ('郭國津', 2), ('吳永鉦', 2), ('磚塊', 2), ('比率', 2), ('車未', 2), ('金及', 2), ('籃敏昌', 2), ('連接', 2), ('萬柒仟元', 2), ('人林怡瑾', 2), ('蔡函', 2), ('張雅涵', 2), ('鄭仲翔', 2), ('吳雅苓', 2), ('故未', 2), ('鄭煌雄', 2), ('劉冠廷', 2), ('魏順菊', 2), ('闢', 2), ('景', 2), ('頭', 2), ('法人', 2), ('日始', 2), ('李冠瑤', 2), ('日南鑑', 2), ('冠茂', 2), ('惟體傷', 2), ('三合', 2), ('電料', 2), ('嫌隙', 2), ('利率', 2), ('八萬元', 2), ('大家', 2), ('工處', 2), ('季蓮舫', 2), ('之富邦', 2), ('陸仟伍', 2), ('素女', 2), ('耕德', 2), ('人陳麗惠', 2), ('愉快', 2), ('人田仁傑', 2), ('操', 2), ('煙燻', 2), ('關嶺', 2), ('欠聲', 2), ('再將', 2), ('改造', 2), ('款柒萬', 2), ('液化', 2), ('合夥人', 2), ('曾雅卿', 2), ('金新', 2), ('撞擊到', 2), ('喇叭', 2), ('雙膝', 2), ('雙城', 2), ('劉彥', 2), ('股款', 2), ('棉', 2), ('贓車', 2), ('人賴品', 2), ('鄭淑雯', 2), ('發函', 2), ('軍', 2), ('凱旋', 2), ('人方燕蓉', 2), ('蔡錦', 2), ('該署', 2), ('主任委員', 2), ('曾翊豪', 2), ('一體', 2), ('正北', 2), ('潘保林', 2), ('污損', 2), ('式', 2), ('蘇郁秀', 2), ('牌', 2), ('杜美琴', 2), ('過來', 2), ('立德', 2), ('竣賢', 2), ('仟玖佰元整', 2), ('安富', 2), ('手環', 2), ('漏油', 2), ('楊馥蓉願', 2), ('火鍋', 2), ('邱美', 2), ('漁會', 2), ('現在', 2), ('清單', 2), ('服飾', 2), ('冠彰', 2), ('運用', 2), ('江宏謙', 2), ('余鳳英', 2), ('莊良純', 2), ('林怡', 2), ('攜回', 2), ('邱盈良', 2), ('人林育', 2), ('林月', 2), ('踩到', 2), ('收費', 2), ('預警', 2), ('歌曲', 2), ('煜', 2), ('鄭仔', 2), ('人陳儷', 2), ('聯', 2), ('開球', 2), ('忠孝路', 2), ('品如', 2), ('三百萬元', 2), ('歐建志', 2), ('姚繼雄', 2), ('拆字', 2), ('購置', 2), ('林怡瑾', 2), ('公共設施', 2), ('芫', 2), ('包', 2), ('油煙機', 2), ('李孟涵', 2), ('人侯季', 2), ('鄭才', 2), ('蓋章', 2), ('洗澡時', 2), ('王天', 2), ('流入', 2), ('義務人', 2), ('退休金', 2), ('輪椅', 2), ('號後', 2), ('聰明', 2), ('楊玉蓮', 2), ('楊佳蒨', 2), ('薛吉宏', 2), ('蔣宇帆', 2), ('對照', 2), ('開系爭', 2), ('電風扇', 2), ('吳雨', 2), ('潘怡君', 2), ('彭柏翔', 2), ('高壓', 2), ('代工', 2), ('僱用', 2), ('小人', 2), ('許文', 2), ('曾女', 2), ('分得', 2), ('有時', 2), ('狹小', 2), ('周嘉鈴', 2), ('余姵蓁', 2), ('豐泰', 2), ('邱明賢', 2), ('邊緣', 2), ('弘哲', 2), ('到處', 2), ('東森', 2), ('桃園', 2), ('另陳懷', 2), ('德路', 2), ('王尚仁', 2), ('邱芳盛', 2), ('雙淇淋機', 2), ('張王菊子', 2), ('偽簽', 2), ('吳昱林', 2), ('保健食品', 2), ('張湘玉', 2), ('齊願', 2), ('不雅', 2), ('街及', 2), ('前門', 2), ('商標權', 2), ('休', 2), ('初步', 2), ('陸佰肆', 2), ('一點', 2), ('大智街', 2), ('竹林', 2), ('貨', 2), ('靖喻', 2), ('薪', 2), ('參元', 2), ('代繳', 2), ('女子', 2), ('超商', 2), ('同為', 2), ('召開', 2), ('留在', 2), ('行健', 2), ('鄭滿香', 2), ('濱', 2), ('起即', 2), ('金延齡', 2), ('黃淑惠', 2), ('空', 2), ('疾病', 2), ('媺', 2), ('開窗', 2), ('城怡娃', 2), ('人何', 2), ('邱冠翔', 2), ('一只', 2), ('畢即', 2), ('心', 2), ('信義', 2), ('鬆動', 2), ('三民路', 2), ('瓶', 2), ('光復', 2), ('同樓', 2), ('張念台', 2), ('出去', 2), ('賴', 2), ('短扣', 2), ('造人吳', 2), ('台幣肆', 2), ('義孟車損', 2), ('王荷', 2), ('梅蘭', 2), ('楊御樞', 2), ('敬仁', 2), ('謝金桃', 2), ('號所', 2), ('打給', 2), ('郭嘉琪', 2), ('另告', 2), ('白河', 2), ('本原', 2), ('王非', 2), ('蔡伊尹', 2), ('永', 2), ('大榮', 2), ('煞停', 2), ('五期', 2), ('人去樓空', 2), ('淑女', 2), ('故於', 2), ('鄭清芳', 2), ('莊松雄', 2), ('劉誼', 2), ('蔡秉達', 2), ('因素', 2), ('偵續', 2), ('德旺', 2), ('邱敏雄', 2), ('移動', 2), ('之中', 2), ('睡覺', 2), ('大同', 2), ('產權', 2), ('工街', 2), ('鏽蝕', 2), ('緊靠', 2), ('籤', 2), ('德利', 2), ('整治', 2), ('拾得', 2), ('人肆', 2), ('慧英', 2), ('廖錦芳', 2), ('典當', 2), ('人賴家', 2), ('人黃旨', 2), ('仍將', 2), ('小弟', 2), ('吳富', 2), ('麥月桃', 2), ('遷入', 2), ('蕭菽芸', 2), ('說明書', 2), ('聰敏', 2), ('不服', 2), ('三車', 2), ('陸佰玖', 2), ('李心', 2), ('先帶', 2), ('文豪', 2), ('文理', 2), ('復興', 2), ('廂式', 2), ('偉銘', 2), ('慶賢', 2), ('蔡耿榮願', 2), ('桂珠', 2), ('戴妙臻', 2), ('林珮津', 2), ('瘦仔', 2), ('相連', 2), ('黃水', 2), ('人信', 2), ('李永傑', 2), ('舒彥', 2), ('曬', 2), ('張極', 2), ('簡萍蘭', 2), ('館主', 2), ('鄭春來', 2), ('新店', 2), ('號向', 2), ('峰', 2), ('路竹', 2), ('謝宗憲', 2), ('人榮珮華', 2), ('應該', 2), ('私設', 2), ('予對造', 2), ('極限', 2), ('樓前', 2), ('草場', 2), ('閆恒蛟', 2), ('骨盆', 2), ('主管', 2), ('改變', 2), ('橫突', 2), ('爸', 2), ('純修', 2), ('有利可圖', 2), ('人陳禎', 2), ('區怡安路', 2), ('最高', 2), ('珠願', 2), ('何柏逸', 2), ('住院費用', 2), ('路自', 2), ('劉季', 2), ('朱美娥', 2), ('簡財發', 2), ('吳文', 2), ('遭其', 2), ('大漢', 2), ('弟弟', 2), ('後續', 2), ('穿著', 2), ('婆婆', 2), ('張果', 2), ('蔡耿榮', 2), ('自陳', 2), ('李星輝', 2), ('已達', 2), ('周貴', 2), ('秀瓊', 2), ('元寶', 2), ('不租', 2), ('啟恩', 2), ('時長', 2), ('凱基', 2), ('桂車損', 2), ('西港', 2), ('郁晟', 2), ('大拇指', 2), ('互為', 2), ('李秀珠', 2), ('知名', 2), ('江姿瑩', 2), ('規格', 2), ('掛鉤', 2), ('變形', 2), ('只付', 2), ('關上', 2), ('張富發', 2), ('楊宗翰', 2), ('陸仟元則', 2), ('謝進', 2), ('丁方均', 2), ('采昀', 2), ('美花', 2), ('結識', 2), ('飼主', 2), ('需再', 2), ('鐵材', 2), ('一方', 2), ('吳慧玲', 2), ('賒欠', 2), ('銀勳', 2), ('難以', 2), ('東向西', 2), ('林貞宏', 2), ('許振河', 2), ('宜蘭', 2), ('圍籬', 2), ('每日', 2), ('雜物', 2), ('人黃珮雯', 2), ('造人並', 2), ('工務段', 2), ('農科', 2), ('手錶', 2), ('腦膜', 2), ('林聖憲', 2), ('技師', 2), ('高嘉翊', 2), ('方麥', 2), ('金項鍊', 2), ('睡眠', 2), ('主臥', 2), ('而來', 2), ('麻痺', 2), ('並願', 2), ('地磚', 2), ('球館', 2), ('外面', 2), ('臺北', 2), ('柯葉', 2), ('工程顧問', 2), ('饒育', 2), ('東門', 2), ('李國明', 2), ('馬路上', 2), ('林秀盈', 2), ('高牆', 2), ('李文玉', 2), ('張梅足', 2), ('銀行帳戶', 2), ('萬象', 2), ('號竟', 2), ('切車', 2), ('人林華訓', 2), ('倫體', 2), ('謝育君', 2), ('蔡忠彥', 2), ('有權', 2), ('保管箱', 2), ('麒', 2), ('之三', 2), ('鄭君平', 2), ('人黃于', 2), ('群', 2), ('閎', 2), ('美人', 2), ('東建', 2), ('造人傅', 2), ('全新', 2), ('動物', 2), ('薇', 2), ('皇龍', 2), ('郭信雄', 2), ('日漆晨', 2), ('方景亮', 2), ('吳芷琳', 2), ('以要', 2), ('榮吉', 2), ('得款', 2), ('俊', 2), ('期共', 2), ('平交道', 2), ('防治法', 2), ('願以', 2), ('韋寧', 2), ('質', 2), ('半夜', 2), ('數期', 2), ('星期天', 2), ('點多', 2), ('驛', 2), ('劉良浩', 2), ('添軒', 2), ('妻子', 2), ('田蘭英', 2), ('刀', 2), ('吳忠明', 2), ('楊東', 2), ('現金支付', 2), ('減速', 2), ('徵信社', 2), ('保障', 2), ('相互間', 2), ('溪路', 2), ('郭睿', 2), ('每年', 2), ('林有福', 2), ('鵬', 2), ('骯髒', 2), ('呂炎琴', 2), ('蔡銘徽', 2), ('致陳', 2), ('永大', 2), ('蕭瑞敏', 2), ('探視權', 2), ('頎方', 2), ('爰', 2), ('詳談', 2), ('王浩宇', 2), ('無線', 2), ('區區', 2), ('中華日報', 2), ('鄭繡玉', 2), ('寵物用品', 2), ('通相姦', 2), ('手提包', 2), ('人黃振育', 2), ('莊翠蘭', 2), ('人葉緣', 2), ('嗎', 2), ('張智堯', 2), ('日興', 2), ('建興', 2), ('記得', 2), ('理事長', 2), ('劉蘇麗珠', 2), ('再生能源', 2), ('建樺', 2), ('蘇隆義', 2), ('署', 2), ('蔡泳震', 2), ('王彥', 2), ('溫股', 2), ('停靠', 2), ('吳永霖', 2), ('並且', 2), ('彰', 2), ('凱體傷', 2), ('徐玉珍', 2), ('郭奎菜', 2), ('整後即', 2), ('呼吸衰竭', 2), ('灑水', 2), ('林玉理', 2), ('杜銘豪', 2), ('觀亭', 2), ('抽水', 2), ('連', 2), ('受雇', 2), ('四人', 2), ('格前', 2), ('年紀', 2), ('婦產科', 2), ('據致', 2), ('劉育智', 2), ('宮娥', 2), ('聖心', 2), ('柒佰壹拾', 2), ('青所', 2), ('亟需', 2), ('冠淳', 2), ('中之安親', 2), ('吳榮峰', 2), ('既', 2), ('同學', 2), ('王哲偉', 2), ('停止', 2), ('羿蓁', 2), ('巫', 2), ('誤認', 2), ('李心雅', 2), ('李怡靜', 2), ('並拿', 2), ('至廷', 2), ('翁月蘭', 2), ('魏', 2), ('其受', 2), ('柒佰參拾', 2), ('丈量', 2), ('隱私', 2), ('明體', 2), ('以前', 2), ('花旗', 2), ('包裝', 2), ('寄放', 2), ('慶涵', 2), ('蔡先生', 2), ('郭瑞枝', 2), ('侯佩玲', 2), ('照明', 2), ('林正', 2), ('魏穆', 2), ('條之', 2), ('水', 2), ('肆萬陸', 2), ('舒晴', 2), ('經理', 2), ('天色', 2), ('鋁窗', 2), ('人林香', 2), ('依死', 2), ('香', 2), ('前向', 2), ('恐', 2), ('射擊', 2), ('扯掉', 2), ('捌佰壹', 2), ('建昌', 2), ('移車', 2), ('人黃弘', 2), ('王翁桂', 2), ('謝涵', 2), ('施做', 2), ('就要', 2), ('邱利秦', 2), ('第一期', 2), ('鋼管', 2), ('街處', 2), ('同鄉會', 2), ('用途', 2), ('捏造', 2), ('人陳義孟', 2), ('權利義務', 2), ('英傑', 2), ('許涵', 2), ('拉傷', 2), ('未到', 2), ('台幣伍', 2), ('許幸子', 2), ('華西街', 2), ('金元寶', 2), ('褘', 2), ('顏士', 2), ('加盟', 2), ('劉富雄', 2), ('鐵棒', 2), ('菁', 2), ('蔡明', 2), ('預繳', 2), ('電暖器', 2), ('嬌', 2), ('鄭幸子', 2), ('鄭春琅', 2), ('大林', 2), ('有限責任', 2), ('王麗容', 2), ('壓到', 2), ('施麗紅', 2), ('聯盟', 2), ('永勝', 2), ('逃匿', 2), ('擁有', 2), ('蔡素靜', 2), ('梁典祥', 2), ('薛魏', 2), ('林展弘', 2), ('宋建南', 2), ('翁睿澤', 2), ('羅文', 2), ('開關', 2), ('菸酒', 2), ('干擾', 2), ('樑', 2), ('埩', 2), ('頎盛', 2), ('區兵', 2), ('背面', 2), ('至許', 2), ('伊瑄', 2), ('臨時工', 2), ('潘慧芳', 2), ('回程', 2), ('鋪設', 2), ('澔', 2), ('工程處', 2), ('王繪', 2), ('致何仲因', 2), ('人方彥', 2), ('人林鉦皓', 2), ('寶煌', 2), ('撞倒', 2), ('怕', 2), ('遲旻修', 2), ('棻', 2), ('靜緩', 2), ('人宅', 2), ('千越', 2), ('參萬玖仟元整', 2), ('數位', 2), ('按時', 2), ('電器', 2), ('張奕勝及', 2), ('柯尊致', 2), ('設計師', 2), ('繳款', 2), ('優惠', 2), ('褓', 2), ('遊說', 2), ('吳佳霖', 2), ('鄭守元', 2), ('人見', 2), ('緣聲', 2), ('摔落', 2), ('尚允', 2), ('剩下', 2), ('路肩', 2), ('正明', 2), ('退縮', 2), ('苡', 2), ('芮萱', 2), ('姿惠體傷', 2), ('各壹', 2), ('公設', 2), ('匯至', 2), ('陰莖', 2), ('陳小姐', 2), ('吳敏薇', 2), ('需載', 2), ('李政憲', 2), ('美珠', 2), ('車隊', 2), ('葉梅桂', 2), ('順', 2), ('第二項', 2), ('路共食', 2), ('王麗鸞', 2), ('電影', 2), ('安全門', 2), ('捌佰陸拾', 2), ('郭上', 2), ('謝俊宏', 2), ('學歷', 2), ('交貨', 2), ('永久', 2), ('蔬菜', 2), ('樓層', 2), ('行之', 2), ('整間', 2), ('現要', 2), ('李婉津', 2), ('張芳瑜', 2), ('送達', 2), ('杯', 2), ('林月琴', 2), ('因請', 2), ('左手腕', 2), ('擊中', 2), ('哲宇', 2), ('寺', 2), ('劉建明', 2), ('之車損', 2), ('人陳柏', 2), ('李蘊恩', 2), ('張力', 2), ('朱美燕', 2), ('園', 2), ('三會', 2), ('胡凱翔', 2), ('打壞', 2), ('正強', 2), ('經濟部', 2), ('人陳鈺淞體傷', 2), ('張鈺玲', 2), ('甚', 2), ('人系爭', 2), ('之民', 2), ('郭和蒲', 2), ('將門', 2), ('調字', 2), ('鄭意', 2), ('接到', 2), ('認聲', 2), ('唐溪', 2), ('中興路', 2), ('售價', 2), ('久', 2), ('舞廳', 2), ('水及', 2), ('珊修', 2), ('惠鈴', 2), ('淑英', 2), ('鄭慧', 2), ('未滿', 2), ('民醫院', 2), ('幣', 2), ('避免', 2), ('龔', 2), ('李慶隆', 2), ('碰觸', 2), ('墊付', 2), ('盛', 2), ('簽章', 2), ('吳岱螢', 2), ('嘉南', 2), ('隱匿', 2), ('瑞豐', 2), ('透天', 2), ('膝', 2), ('攸', 2), ('吳芊', 2), ('不理', 2), ('之犬', 2), ('洋', 2), ('名單', 2), ('佳靖', 2), ('蔡通榮', 2), ('發覺', 2), ('柏仁', 2), ('張其', 2), ('林重安', 2), ('法商', 2), ('美蘭', 2), ('林君豪', 2), ('廖銘姿', 2), ('柒佰玖拾', 2), ('莊林堂', 2), ('胡鼎炎', 2), ('人分', 2), ('架', 2), ('推車', 2), ('淩', 2), ('號成', 2), ('其擾', 2), ('格內', 2), ('王昕', 2), ('澤及', 2), ('黃志忠', 2), ('寧體傷', 2), ('蔡志', 2), ('以腳', 2), ('僅需', 2), ('元並', 2), ('安全帶', 2), ('老板', 2), ('劉朝席', 2), ('偉志', 2), ('郭昱宏', 2), ('簡上', 2), ('吳體', 2), ('開重', 2), ('鏡頭', 2), ('裁切', 2), ('書房', 2), ('所欠', 2), ('其因', 2), ('日定', 2), ('號橋', 2), ('人林吉村', 2), ('下顎', 2), ('光賢段', 2), ('下旬', 2), ('尤香蓮', 2), ('林秉叡', 2), ('王書政', 2), ('鄉農', 2), ('徐蘇秀花', 2), ('閃煞', 2), ('進雄', 2), ('俞潔', 2), ('吳孟峰', 2), ('余奕萱', 2), ('榮車損', 2), ('之名', 2), ('十字路口', 2), ('素嬌', 2), ('搖擺', 2), ('葉榮', 2), ('兩棟', 2), ('申棟', 2), ('智慧財產', 2), ('父', 2), ('吳淑貞', 2), ('玩', 2), ('腓骨', 2), ('楊子賢', 2), ('文謙', 2), ('王俊智', 2), ('傷傷', 2), ('范', 2), ('余振榮', 2), ('樓高', 2), ('警局', 2), ('溫', 2), ('鼓吹', 2), ('攤販', 2), ('媜', 2), ('精等', 2), ('奇隆', 2), ('葉馨', 2), ('平臺', 2), ('彭', 2), ('菊花', 2), ('四名', 2), ('楊璧鳳', 2), ('熱水爐', 2), ('林南吉', 2), ('人持', 2), ('蘇逸茹', 2), ('彩蓮體傷', 2), ('收執', 2), ('李維軒', 2), ('塏', 2), ('婉鈺', 2), ('正杉', 2), ('農曆年', 2), ('酒店', 2), ('餐車', 2), ('扳機', 2), ('董慧馨', 2), ('殘體', 2), ('王雅瑩', 2), ('隨後', 2), ('西賢街', 2), ('薛碧香', 2), ('關門', 2), ('侯梅', 2), ('綑', 2), ('冷凍', 2), ('顏高敏', 2), ('薛暖慧', 2), ('錢莊', 2), ('人方國', 2), ('汶樺', 2), ('受領', 2), ('賴淑芬', 2), ('院', 2), ('任華', 2), ('鄭孟藝', 2), ('富麗', 2), ('不利', 2), ('錢黛萍', 2), ('公司股票', 2), ('散播', 2), ('方仲儀', 2), ('一鑫', 2), ('洪文二體傷', 2), ('邱馨瑤', 2), ('周峻毅', 2), ('路之交', 2), ('牟利', 2), ('知情', 2), ('壞', 2), ('黃楊', 2), ('專利', 2), ('翠', 2), ('點唱機', 2), ('岑秉龍', 2), ('勒住', 2), ('德國', 2), ('李怡蓉', 2), ('硬', 2), ('民權', 2), ('票', 2), ('砍傷', 2), ('周湘瑤', 2), ('料件', 2), ('永安路', 2), ('化妝品', 2), ('陳玉蓮', 2), ('湘雅', 2), ('建國', 2), ('鄭秀慧', 2), ('韓菁萍', 2), ('肺炎', 2), ('愛華', 2), ('眉帽', 2), ('林先生', 2), ('設於', 2), ('林宥', 2), ('蔡芳芬', 2), ('哀', 2), ('國賓', 2), ('法', 2), ('商場', 2), ('鬥爭', 2), ('發放', 2), ('黃河', 2), ('汪敬逸', 2), ('年資', 2), ('慧', 2), ('支號', 2), ('紡織', 2), ('王朝', 2), ('聽到', 2), ('午餐', 2), ('裸照', 2), ('修剪', 2), ('附表', 2), ('載有', 2), ('老化', 2), ('預付', 2), ('承接', 2), ('金融', 2), ('指對', 2), ('傷勢', 2), ('李克洛', 2), ('郭婉婷', 2), ('吳宥潔', 2), ('尤福', 2), ('鏈條', 2), ('郭杰霖', 2), ('中成', 2), ('謝明勳', 2), ('鵝肉', 2), ('乙事聲', 2), ('柏升', 2), ('五筆', 2), ('王保盛', 2), ('林岳鋒', 2), ('吳致', 2), ('林俊', 2), ('總共', 2), ('區福德', 2), ('刨除', 2), ('家用', 2), ('永昌', 2), ('過大', 2), ('下去', 2), ('之同額', 2), ('同地號', 2), ('大量', 2), ('長興', 2), ('讚', 2), ('蔡淑貞', 2), ('楊嘉珍', 2), ('謨', 2), ('柯文', 2), ('車後', 2), ('適對', 2), ('朱嘉俊', 2), ('玉體', 2), ('吳湘', 2), ('核准', 2), ('法師', 2), ('或物', 2), ('國威', 2), ('劉芸', 2), ('事情', 2), ('華銀', 2), ('會同', 2), ('巷交', 2), ('違建', 2), ('會員', 2), ('修敏', 2), ('人陳淑惠', 2), ('對黃昱翔', 2), ('徐俊', 2), ('單影', 2), ('分至', 2), ('人陳琴治', 2), ('葉亭', 2), ('書為', 2), ('人羅于婷', 2), ('寶珠', 2), ('昌', 2), ('南輝', 2), ('二王', 2), ('自由', 2), ('王含玉', 2), ('信街', 2), ('派員', 2), ('敲', 2), ('載明', 2), ('快車道', 2), ('侯金', 2), ('十字', 2), ('蔡昆澤', 2), ('並用', 2), ('鄭雅云', 2), ('祝', 2), ('凱文', 2), ('片', 2), ('堆放', 2), ('一半', 2), ('運行', 2), ('殘疾', 2), ('部位', 2), ('直', 2), ('靖', 2), ('再於', 2), ('衝', 2), ('受其', 2), ('性休克', 2), ('曾慶埏', 2), ('蔡命', 2), ('卡號', 2), ('呂奇龍', 2), ('豐華', 2), ('大勇', 2), ('人林彥', 2), ('交通局', 2), ('郭繼明', 2), ('掛號', 2), ('澎湖', 2), ('吳雅筑', 2), ('住址', 2), ('付聲', 2), ('欣容', 2), ('安順', 2), ('大維', 2), ('號燈桿', 2), ('生活費用', 2), ('孫秀', 2), ('薛正延', 2), ('眼睛', 2), ('滑板', 2), ('對外', 2), ('李蘊恩願', 2), ('賴麗娜', 2), ('該案', 2), ('移送', 2), ('六路', 2), ('世振', 2), ('蔡嘉隆', 2), ('點等語', 2), ('派', 2), ('人陳婉婷', 2), ('建宏', 2), ('五霖', 2), ('鑑定書', 2), ('聽力', 2), ('在職', 2), ('後並', 2), ('文忠', 2), ('蘇容', 2), ('戶政事務', 2), ('通過', 2), ('威脅', 2), ('女嬰', 2), ('一般', 2), ('造人陳雅晴', 2), ('鑽孔', 2), ('髒亂', 2), ('物及', 2), ('集集', 2), ('稽核', 2), ('三萬', 2), ('影視', 2), ('意路', 2), ('蓉', 2), ('朱清', 2), ('俊傑', 2), ('鄭淑芬', 2), ('引擎', 2), ('莊惠', 2), ('玉英', 2), ('鄭璋', 2), ('一帶', 2), ('焜', 2), ('起身', 2), ('成交價', 2), ('楊文忠', 2), ('護士', 2), ('簽定', 2), ('沈柏穎', 2), ('植物', 2), ('動力機械', 2), ('肩部', 2), ('造人湯', 2), ('監遂', 2), ('林宗仁', 2), ('雇用', 2), ('許錦桃', 2), ('惟現', 2), ('城國隆', 2), ('濱海', 2), ('李芷因', 2), ('致楊', 2), ('得手', 2), ('林秀芳', 2), ('這樣', 2), ('王合瑞', 2), ('曾家豪', 2), ('允若', 2), ('萎縮', 2), ('並依', 2), ('志成', 2), ('程登祿', 2), ('慈音', 2), ('遙控器', 2), ('含上', 2), ('人陳麗珍', 2), ('第二顆', 2), ('蔡宗恩', 2), ('列帳', 2), ('成杏', 2), ('僅以', 2), ('失智', 2), ('奧', 2), ('就是', 2), ('鉛版', 2), ('號聲', 2), ('薰', 2), ('還去', 2), ('李美瑩', 2), ('座落在', 2), ('標的', 2), ('蘇守堂', 2), ('萬玖仟', 2), ('王玟', 2), ('拖車', 2), ('何沛歆', 2), ('汪偉翔', 2), ('買受', 2), ('擴大', 2), ('人魏', 2), ('人陳怡慧', 2), ('之作', 2), ('退', 2), ('惟車損', 2), ('隔音', 2), ('人富', 2), ('造人陳旻宏', 2), ('給他', 2), ('冷凍庫', 2), ('高雄縣', 2), ('踩踏', 2), ('鄧煜馨', 2), ('電腦主機', 2), ('五人', 2), ('勞動法', 2), ('兩廣', 2), ('順財', 2), ('李秀', 2), ('之合', 2), ('民安', 2), ('捌佰肆', 2), ('林展', 2), ('負荷', 2), ('方秀櫻', 2), ('起來', 2), ('瑞雲', 2), ('林幼綿', 2), ('所訂', 2), ('鄭英富', 2), ('另將', 2), ('造人顏', 2), ('進田', 2), ('區欲往', 2), ('余佩玲', 2), ('請聲', 2), ('感覺', 2), ('未得聲', 2), ('不好', 2), ('保單', 2), ('氣墊', 2), ('呂盈荻', 2), ('周芳', 2), ('住宿', 2), ('前面', 2), ('張軒', 2), ('謝麗', 2), ('鎮段', 2), ('一腳', 2), ('吳木森', 2), ('充作', 2), ('林亭吟', 2), ('主動', 2), ('鄭雅', 2), ('等情', 2), ('劉金雀', 2), ('陸元', 2), ('水淹', 2), ('某屋', 2), ('茜', 2), ('經常', 2), ('登載', 2), ('如玉', 2), ('谷文硯', 2), ('育英', 2), ('開合', 2), ('鯤', 2), ('西段', 2), ('偵第', 2), ('拍屋', 2), ('只能', 2), ('劉卓', 2), ('然上', 2), ('父母', 2), ('死死', 2), ('林吉雄', 2), ('交與', 2), ('委請', 2), ('餘', 2), ('森木', 2), ('葉宇婷', 2), ('人卓雅玲', 2), ('子體', 2), ('貝拉', 2), ('一再', 2), ('吳依倫', 2), ('記憶卡', 2), ('運費', 2), ('子孫', 2), ('王偉聖', 2), ('詹', 2), ('照', 2), ('人陳宗湖', 2), ('莊弘松', 2), ('網購', 2), ('興農', 2), ('覺得', 2), ('蘇渟文', 2), ('吳志仁', 2), ('溪尾', 2), ('盧分', 2), ('伍佰陸', 2), ('人黃婉禎', 2), ('彩', 2), ('彈琴', 2), ('遊藝場', 2), ('熱氣', 2), ('吳雅敏', 2), ('原於', 2), ('雅玲', 2), ('雨衣', 2), ('珺', 2), ('王澤宏', 2), ('鄭佳印', 2), ('清貴', 2), ('以肆', 2), ('楊韻潔', 2), ('郭于', 2), ('劉張', 2), ('郭水金', 2), ('周金亮', 2), ('改良', 2), ('林幸蓉', 2), ('圖利', 2), ('缺乏', 2), ('藝品店', 2), ('埤', 2), ('崇學路', 2), ('富德', 2), ('書籍', 2), ('吳誠緯', 2), ('拒付', 2), ('李玉', 2), ('許祺明', 2), ('秀珠', 2), ('走動', 2), ('侑', 2), ('李至弘', 2), ('疑因', 2), ('藉詞', 2), ('八德', 2), ('與環', 2), ('扣留', 2), ('軍用', 2), ('人及', 2), ('朱利', 2), ('環宇', 2), ('拿走', 2), ('未回', 2), ('陸拾伍', 2), ('世', 2), ('盈華', 2), ('地主', 2), ('劉瀚中', 2), ('侯素', 2), ('標俊辰', 2), ('賭場', 2), ('公款', 2), ('協會', 2), ('樓及', 2), ('張然成', 2), ('諭', 2), ('日伍', 2), ('零玖拾', 2), ('改建', 2), ('刑調', 2), ('傅星晨', 2), ('施素', 2), ('人黃麗雅', 2), ('門市', 2), ('好友', 2), ('掛槍', 2), ('茂輝', 2), ('偷', 2), ('楊雯雯', 2), ('現有', 2), ('新民', 2), ('資格', 2), ('失當', 2), ('均遭', 2), ('工具機', 2), ('其至', 2), ('撞致', 2), ('代理人', 2), ('供稱', 2), ('幸', 2), ('奢侈', 2), ('找到', 2), ('無照', 2), ('建築工地', 2), ('洪惠敏', 2), ('互提', 2), ('珚', 2), ('尾', 2), ('湯碧琴', 2), ('薛如芬', 2), ('整未', 2), ('佰元', 2), ('郭育彰', 2), ('人陳永蓮', 2), ('邱秀芬', 2), ('受體', 2), ('哲體傷', 2), ('林亮葦', 2), ('臀部', 2), ('木林', 2), ('七街', 2), ('磨具', 2), ('沙坑', 2), ('明秀', 2), ('莊千儀', 2), ('三次', 2), ('傅宗明', 2), ('人陳席', 2), ('人江秉家', 2), ('明吉修', 2), ('二個', 2), ('藍甫卿', 2), ('楠梓', 2), ('何仲因', 2), ('鐵屑', 2), ('新加坡', 2), ('許進昌', 2), ('區勝學路', 2), ('釘', 2), ('非望', 2), ('玫螢', 2), ('王德榮', 2), ('國有', 2), ('意外險', 2), ('身上', 2), ('整建', 2), ('拒絕往來', 2), ('四街', 2), ('另涉', 2), ('電錶', 2), ('滑向', 2), ('我要', 2), ('輕型', 2), ('可德', 2), ('號建地', 2), ('庭', 2), ('人連', 2), ('未留', 2), ('零陸佰元整', 2), ('報請', 2), ('冷煤', 2), ('元給', 2), ('李史民', 2), ('所受', 2), ('藍麗玉', 2), ('楊閏光', 2), ('標得', 2), ('存', 2), ('日借', 2), ('獅', 2), ('啟峰', 2), ('生於', 2), ('走上', 2), ('人車損', 2), ('吸乳器', 2), ('坤', 2), ('大德', 2), ('前輪', 2), ('生物', 2), ('夏邦', 2), ('另拾', 2), ('污辱', 2), ('思汝體傷', 2), ('人陳柏翰', 2), ('民雄鄉', 2), ('袁晨昕', 2), ('造人葉', 2), ('榮菁莉', 2), ('同聲', 2), ('算', 2), ('南投縣', 2), ('鐵板', 2), ('檢轉介', 2), ('要斷', 2), ('開工', 2), ('屋況', 2), ('三萬元', 2), ('蔡淑苓', 2), ('餘萬元', 2), ('神像', 2), ('王榮', 2), ('邱和章', 2), ('周', 2), ('益民', 2), ('耀宏', 2), ('劃傷', 2), ('憑', 2), ('收益', 2), ('另以', 2), ('國興', 2), ('竟將', 2), ('節', 2), ('奇寧', 2), ('蔡世仁', 2), ('李榮泰', 2), ('鄒麗華', 2), ('張碧雄', 2), ('結冰', 2), ('避', 2), ('甘承恩', 2), ('經堯', 2), ('劉玲孜', 2), ('陸佰零肆', 2), ('之重', 2), ('售出', 2), ('邢德堂', 2), ('昭平', 2), ('任職期間', 2), ('施麗蘭', 2), ('感染', 2), ('李金爐', 2), ('張雅蕾', 2), ('投資法', 2), ('張馨文', 2), ('張翊芳', 2), ('未立', 2), ('蘇梅凰', 2), ('張為', 2), ('蔣采', 2), ('佣金', 2), ('集合', 2), ('人羅莉惠', 2), ('王郁', 2), ('與羅貴金', 2), ('領走', 2), ('吳冠霆', 2), ('鄰地', 2), ('吳弘鈞行', 2), ('棠', 2), ('油', 2), ('談', 2), ('手續', 2), ('鄭仲妤', 2), ('反對', 2), ('橙', 2), ('邱凱', 2), ('位', 2), ('肱骨', 2), ('藝文', 2), ('小雨', 2), ('免除', 2), ('盈涵', 2), ('標準', 2), ('七喜', 2), ('女兒牆', 2), ('劉國英', 2), ('應繳', 2), ('方沛淳', 2), ('別人', 2), ('飲酒', 2), ('贏祥', 2), ('如為', 2), ('緹', 2), ('羽', 2), ('濂', 2), ('寵物店', 2), ('草稿', 2), ('斗六', 2), ('金葉', 2), ('王思懿', 2), ('收訖', 2), ('楊進', 2), ('自理', 2), ('慶雄', 2), ('新行', 2), ('沿文', 2), ('識字', 2), ('預告', 2), ('駱光裕', 2), ('博文', 2), ('拆佣', 2), ('儷', 2), ('崇', 2), ('三村', 2), ('彝', 2), ('物體', 2), ('領空', 2), ('邱慧芸', 2), ('家樂', 2), ('王得明', 2), ('周素', 2), ('致謝', 2), ('音響', 2), ('加上', 2), ('出國', 2), ('鄭羽庭', 2), ('上課', 2), ('及右', 2), ('郭惠珊', 2), ('快速道路', 2), ('居正', 2), ('牌前', 2), ('歸責', 2), ('單行道', 2), ('及於', 2), ('關閉', 2), ('歐靜', 2), ('葉衍廷', 2), ('迄至', 2), ('精工', 2), ('德光', 2), ('接觸', 2), ('賴逸驍', 2), ('楊翎', 2), ('王煜菱', 2), ('假意', 2), ('林芸', 2), ('萬玖仟元整', 2), ('人林婉蓉', 2), ('顓繹車損', 2), ('正忠', 2), ('如聲', 2), ('反悔', 2), ('因風大', 2), ('溫雅', 2), ('柔體傷', 2), ('劉信良', 2), ('平整', 2), ('兌領', 2), ('溢出', 2), ('中斷', 2), ('承諾書', 2), ('東大', 2), ('另案處理', 2), ('高度', 2), ('憲無體傷', 2), ('郭品慧', 2), ('地檢', 2), ('玖佰參拾', 2), ('反鎖', 2), ('王萬祥', 2), ('慶平路', 2), ('胡明宏體傷', 2), ('蔡黃', 2), ('帆布', 2), ('莊云', 2), ('施嬰桃', 2), ('蘇秋菊', 2), ('蔡宗弦', 2), ('徐奕玄', 2), ('敲擊', 2), ('詹志翔', 2), ('番路', 2), ('蕭士', 2), ('宇洋', 2), ('人白宜', 2), ('邱素瑛', 2), ('行至', 2), ('其妻', 2), ('以黃雅霜', 2), ('門路', 2), ('破皮', 2), ('翁志文', 2), ('邱士榮', 2), ('劉展', 2), ('須依', 2), ('涂景文', 2), ('竟以', 2), ('邱俊', 2), ('吳鄭', 2), ('防火巷', 2), ('打球', 2), ('用電', 2), ('鄭一', 2), ('電告', 2), ('蕭辰易', 2), ('用及', 2), ('旨', 2), ('發電設備', 2), ('大和里文', 2), ('手腳', 2), ('不會', 2), ('李雅媛', 2), ('三台', 2), ('年刑', 2), ('領空權', 2), ('傅方儒', 2), ('手套', 2), ('場', 2), ('洪瑋遠', 2), ('不定期', 2), ('徵友', 2), ('肆元', 2), ('無誤', 2), ('欣願', 2), ('調取', 2), ('周鉦壹', 2), ('立人國', 2), ('林晏瑩', 2), ('北興', 2), ('莊勝宇', 2), ('之娛', 2), ('中古車', 2), ('棍子', 2), ('數日', 2), ('同上址', 2), ('棉被', 2), ('人辰豪', 2), ('拜訪', 2), ('爾特', 2), ('佯為', 2), ('葉雅芬', 2), ('蘇美', 2), ('建聲', 2), ('仕', 2), ('梁均', 2), ('蔡銀奇', 2), ('源商', 2), ('進輝', 2), ('一座', 2), ('燙傷', 2), ('祖母', 2), ('中並', 2), ('失控', 2), ('出生年月', 2), ('貨運行', 2), ('闖紅燈', 2), ('恫稱', 2), ('建宇', 2), ('記錄', 2), ('邱錦源', 2), ('保費', 2), ('豐', 2), ('張雅微', 2), ('曾經', 2), ('蔡金發', 2), ('勾掛', 2), ('李國文', 2), ('之同址', 2), ('宜泉', 2), ('張鏢淙', 2), ('移至', 2), ('髖部', 2), ('許惠茹', 2), ('窗外', 2), ('壓斷', 2), ('王孜任', 2), ('區嘉', 2), ('勞動', 2), ('渠母', 2), ('計費', 2), ('龔南愷', 2), ('國小旁', 2), ('陶', 2), ('其替', 2), ('谷文西', 2), ('戴佑全', 2), ('林高暉', 2), ('人之子', 2), ('愷', 2), ('郭榮傳', 2), ('水費', 2), ('人心', 2), ('黃信', 2), ('展店', 2), ('文斗', 2), ('雨傘', 2), ('落', 2), ('伍佰柒拾', 2), ('四萬', 2), ('蘇立', 2), ('全身', 2), ('繫', 2), ('郭柄志', 2), ('楊麗玲', 2), ('凹洞', 2), ('人施文', 2), ('屆', 2), ('自首', 2), ('憑證', 2), ('全家', 2), ('溫淑惠', 2), ('日新段', 2), ('結凍', 2), ('楊森', 2), ('逃離現場', 2), ('西北', 2), ('官麗華', 2), ('涂慧英', 2), ('號自', 2), ('人口', 2), ('以附', 2), ('阮氏玲', 2), ('咖啡', 2), ('線路', 2), ('載運', 2), ('周貴彬', 2), ('福懋', 2), ('求救', 2), ('營收', 2), ('葉基湧', 2), ('斜坡', 2), ('吳秀桃', 2), ('均須', 2), ('一塊', 2), ('意', 2), ('梅', 2), ('姆費', 2), ('裙子', 2), ('王裕銘', 2), ('致游雅雯', 2), ('將本件', 2), ('黃士', 2), ('特約', 2), ('人要', 2), ('美工刀', 2), ('上層', 2), ('脅迫', 2), ('入侵', 2), ('電廠', 2), ('及伍', 2), ('短', 2), ('日約', 2), ('吳火城', 2), ('全球', 2), ('板金', 2), ('因對造', 2), ('段賢安', 2), ('郭琬玉', 2), ('六萬元', 2), ('徐子翔', 2), ('籃球場', 2), ('陳莉蓁', 2), ('精神疾病', 2), ('沛蓁', 2), ('莊云詳', 2), ('貞', 2), ('許淑敏', 2), ('零肆', 2), ('鴻陽', 2), ('擺設', 2), ('招蓮', 2), ('忠勇', 2), ('翁林祺', 2), ('人林怡君', 2), ('屁股', 2), ('賢車損', 2), ('台幣陸', 2), ('訂定', 2), ('高低', 2), ('許政', 2), ('自對', 2), ('偏名', 2), ('經元路', 2), ('本共經', 2), ('哲霖', 2), ('購車', 2), ('德三街', 2), ('事實', 2), ('鄭吳', 2), ('麋', 2), ('之夫', 2), ('設計費', 2), ('西門町', 2), ('荑', 2), ('金鳳', 2), ('觀光', 2), ('施瓊惠', 2), ('翁翊航', 2), ('人林暉祥', 2), ('月許', 2), ('楊順福', 2), ('進聲', 2), ('得逞', 2), ('吳嘉慧', 2), ('兵仔', 2), ('更正', 2), ('黃東', 2), ('拆', 2), ('新華', 2), ('吳銘宏', 2), ('謝靜雯', 2), ('尤', 2), ('手腕', 2), ('張家', 2), ('門牙', 2), ('房屋貸款', 2), ('泰倫', 2), ('職務', 2), ('棟霖', 2), ('新營', 2), ('棒球', 2), ('光華', 2), ('屏東縣', 2), ('鄭誌', 2), ('兩支', 2), ('支及', 2), ('淦', 2), ('點唱', 2), ('零陸拾', 2), ('懿', 2), ('紀並', 2), ('音量', 2), ('涂陳錦子', 2), ('薀', 2), ('以此', 2), ('如果', 2), ('孜', 2), ('加壓', 2), ('蔡幼絨', 2), ('接至', 2), ('林佩珍', 2), ('潪', 2), ('炎墉', 2), ('服務處', 2), ('城', 2), ('李迪悠', 2), ('綁', 2), ('碰轟', 2), ('山莊', 2), ('號未', 2), ('本件僅', 2), ('迨', 2), ('不睦', 2), ('現對', 2), ('林語', 2), ('巷弄', 2), ('阻塞', 2), ('同月', 2), ('並稱', 2), ('壹佰柒拾', 2), ('凱翔間', 2), ('七米', 2), ('至陽', 2), ('杜治緯', 2), ('吳彥', 2), ('蔡貞', 2), ('人童', 2), ('人林永祥', 2), ('翁鳴謙', 2), ('個合會', 2), ('文德', 2), ('柯承宗', 2), ('驗', 2), ('建瑋', 2), ('始將', 2), ('出拳', 2), ('邱秀鶴', 2), ('思', 2), ('社群', 2), ('張莉婷', 2), ('同方向', 2), ('圓體', 2), ('李黃淑幸', 2), ('松興', 2), ('將油', 2), ('姿吟', 2), ('飲料店', 2), ('一言不合', 2), ('吳芷楹', 2), ('金鐘', 2), ('換發', 2), ('突', 2), ('連宸漢', 2), ('祖先', 2), ('李瀠圳', 2), ('重賢', 2), ('榮興', 2), ('清連', 2), ('江中', 2), ('回饋', 2), ('宜真', 2), ('受驚嚇', 2), ('李正川', 2), ('分院', 2), ('秋雄', 2), ('美車損', 2), ('六年', 2), ('警訊', 2), ('吳坤隆', 2), ('經中', 2), ('芍', 2), ('高雄地', 2), ('清願', 2), ('號世峰', 2), ('精神科', 2), ('惟有', 2), ('榮民', 2), ('郭秋君', 2), ('唐志鴻', 2), ('營利', 2), ('中止', 2), ('安排', 2), ('張銘傑', 2), ('堅持', 2), ('意願', 2), ('楊惠婷', 2), ('人陳昭元', 2), ('宋東', 2), ('整平', 2), ('朱瑞蘭', 2), ('茆員銘', 2), ('層樓', 2), ('母', 2), ('油箱', 2), ('品質', 2), ('左偏', 2), ('洽談', 2), ('崇善路', 2), ('李維庭', 2), ('不負', 2), ('張幸', 2), ('人無體', 2), ('柯權', 2), ('邱靖雄', 2), ('怪手', 2), ('傅雅萍', 2), ('人大', 2), ('劉通智', 2), ('商請', 2), ('作業', 2), ('葉釋霞', 2), ('月租', 2), ('壹佰零', 2), ('盧炎輝', 2), ('盧', 2), ('內湖', 2), ('取', 2), ('寶林', 2), ('知悉', 2), ('杜宜蓉', 2), ('泰體傷', 2), ('工用', 2), ('簡翊珈', 2), ('亡故', 2), ('納稅', 2), ('王俊雄', 2), ('南寧', 2), ('左邊', 2), ('肆佰肆', 2), ('李光', 2), ('乾洗', 2), ('多名', 2), ('臨時', 2), ('菜刀', 2), ('區淵', 2), ('任體傷', 2), ('孫永麟', 2), ('書立', 2), ('沿小', 2), ('親密', 2), ('蔡有銘', 2), ('檢查署', 2), ('二段式', 2), ('慢慢', 2), ('急難', 2), ('予洪秀鑾放', 2), ('宋美英', 2), ('上臂', 2), ('張芸', 2), ('五元', 2), ('蘇郁雯', 2), ('一些', 2), ('動物醫院', 2), ('日交屋', 2), ('內埔', 2), ('靜怡', 2), ('中段', 2), ('認證', 2), ('郭張', 2), ('鈑', 2), ('張育敏', 2), ('雅車損', 2), ('令', 2), ('反於', 2), ('手指', 2), ('其為', 2), ('王雪麗', 2), ('網咖店', 2), ('經台灣', 2), ('因開啟', 2), ('人陳怡潔', 2), ('顒', 2), ('普', 2), ('余榮陽', 2), ('自備', 2), ('金秋', 2), ('兩顆', 2), ('廣車損', 2), ('乃文', 2), ('李雅琛', 2), ('童惠屏', 2), ('中小企業', 2), ('瑪雅', 2), ('豪文修', 2), ('鄭沛倫', 2), ('現欲', 2), ('泰山', 2), ('韋君', 2), ('反擊', 2), ('保險公司', 2), ('李錦雀', 2), ('勾到', 2), ('阮伯洋', 2), ('蘇恒璋', 2), ('區正強', 2), ('駱遠', 2), ('朱怡靜', 2), ('差額', 2), ('詠翔', 2), ('翁靖雅修', 2), ('吳信廣', 2), ('東山', 2), ('仍然', 2), ('竹車損', 2), ('旅遊', 2), ('鼻子', 2), ('涉及', 2), ('之修', 2), ('代表人', 2), ('犯有', 2), ('計元整', 2), ('殘障', 2), ('賴映', 2), ('蘇靖棠', 2), ('遛狗', 2), ('人江佳', 2), ('增加', 2), ('爐', 2), ('鄭伊玲', 2), ('張燕鈴', 2), ('因見', 2), ('邱裕富', 2), ('拖', 2), ('王敬富', 2), ('良', 2), ('施以', 2), ('甲線', 2), ('擬於', 2), ('潘麒蓉', 2), ('撥付', 2), ('撥', 2), ('瓦斯筒', 2), ('李柏毅', 2), ('購', 2), ('小拇指', 2), ('保證書', 2), ('與劉', 2), ('並將聲', 2), ('沈俊廷', 2), ('隨時', 2), ('人黃峻弘', 2), ('石樹蘭', 2), ('幾萬元', 2), ('手上', 2), ('北里', 2), ('請解', 2), ('尊願', 2), ('傳單', 2), ('診治', 2), ('即日起', 2), ('限額', 2), ('跳票', 2), ('鄭鈞豪', 2), ('福建', 2), ('壹佰壹', 2), ('一位', 2), ('術後', 2), ('轉售', 2), ('認對', 2), ('李翊', 2), ('呂鳳珠', 2), ('郭俊麟', 2), ('林雨', 2), ('廟小段', 2), ('怡雯', 2), ('劉燕', 2), ('號遭', 2), ('箱泡', 2), ('予王', 2), ('毛刷', 2), ('滲透到', 2), ('至上', 2), ('附圖', 2), ('應允', 2), ('邱閔南', 2), ('張訓銘', 2), ('李明德', 2), ('廖敏蓉', 2), ('吳伊婷', 2), ('財旺', 2), ('解結', 2), ('郭品', 2), ('九人', 2), ('美雪', 2), ('因已', 2), ('朝貴', 2), ('掃把', 2), ('口欲', 2), ('信瑋', 2), ('李基福', 2), ('尤坤添', 2), ('台塑', 2), ('蔡宜蓁', 2), ('故經', 2), ('敗血', 2), ('施淑霞', 2), ('人林振宇', 2), ('養護', 2), ('人林慶豪', 2), ('領班', 2), ('仟元給', 2), ('王淑瑩', 2), ('經紀', 2), ('紀虹玉', 2), ('蔡同', 2), ('廖嘉哲', 2), ('抱住', 2), ('抵達', 2), ('冠蓉', 2), ('日江宏謙', 2), ('莊先生', 2), ('吳坤', 2), ('李雨倫', 2), ('莊福仁', 2), ('塑膠袋', 2), ('老吳', 2), ('申行', 2), ('王敬驊', 2), ('列舉', 2), ('人林梅桂', 2), ('一輛', 2), ('控告', 2), ('松山區', 2), ('致陳偉仁', 2), ('下陷', 2), ('人范元哲', 2), ('面前', 2), ('近日', 2), ('補強', 2), ('李貴珠', 2), ('日住', 2), ('張書堯', 2), ('處即', 2), ('婚紗店', 2), ('壹佰陸', 2), ('原先', 2), ('孫先宗', 2), ('半年', 2), ('腹部', 2), ('女士', 2), ('吳文堯間', 2), ('人陳安群', 2), ('運動', 2), ('刻', 2), ('憶', 2), ('變造', 2), ('商', 2), ('廖曉菁', 2), ('正當', 2), ('胡秋雲修', 2), ('加盟店', 2), ('金蘭', 2), ('小偷', 2), ('歡', 2), ('侮辱', 2), ('吳羿廷', 2), ('建案', 2), ('因有', 2), ('街由南', 2), ('撞及', 2), ('作廢', 2), ('陳莉莉', 2), ('林宜靜', 2), ('鹽行', 2), ('資金週轉', 2), ('吊飾', 2), ('禾', 2), ('騙', 2), ('百貨', 2), ('提及', 2), ('王文智', 2), ('人陳思', 2), ('葉馨蓮', 2), ('祖公', 2), ('亞龍', 2), ('受損害', 2), ('遠東', 2), ('惟該', 2), ('全宏', 2), ('等傷', 2), ('綿車損', 2), ('吳聖瑜', 2), ('人黃銘祥', 2), ('母女', 2), ('狀並', 2), ('港區', 2), ('鳥', 1), ('靜巷', 1), ('進葉燦盛', 1), ('戰神', 1), ('蔡燿駿', 1), ('歐傳秀治', 1), ('市政', 1), ('與黃續', 1), ('魏秀娥', 1), ('以南', 1), ('及時發現', 1), ('惟對造', 1), ('快', 1), ('朱政宇', 1), ('劉梓卿', 1), ('立方米', 1), ('乘立', 1), ('威達', 1), ('李雅惠', 1), ('幾之新', 1), ('油湯', 1), ('文車損', 1), ('古', 1), ('並轉介', 1), ('視訊', 1), ('蕭紋瑞', 1), ('林仕彬', 1), ('顏俊富', 1), ('填補', 1), ('車損且', 1), ('交鍾政憲', 1), ('朱曦', 1), ('夏林', 1), ('曼華', 1), ('病名', 1), ('另伍', 1), ('爺爺', 1), ('眼花', 1), ('搖管機', 1), ('龜', 1), ('美德', 1), ('雲林縣', 1), ('鋒', 1), ('減免', 1), ('林佩貞', 1), ('妥', 1), ('吳家源', 1), ('才將', 1), ('邀請', 1), ('接洽', 1), ('公面', 1), ('楊璧鳳車', 1), ('榮向警', 1), ('造人瓦頓', 1), ('誘周芳', 1), ('撞死', 1), ('已損壞', 1), ('行列', 1), ('迴廊', 1), ('工讀生', 1), ('第二期', 1), ('林守禮', 1), ('意文', 1), ('豐民', 1), ('要招', 1), ('環保署', 1), ('史努比', 1), ('之桌', 1), ('兩旁', 1), ('蔦', 1), ('會談', 1), ('故轉介', 1), ('滴', 1), ('簡介', 1), ('王建智', 1), ('周轉', 1), ('福仁', 1), ('人無傷', 1), ('刑德堂', 1), ('惠玲', 1), ('分管', 1), ('振幅', 1), ('飯後', 1), ('子珍', 1), ('進德', 1), ('燈具', 1), ('速達', 1), ('阮榮', 1), ('不得不', 1), ('之佳成', 1), ('有何', 1), ('武願', 1), ('姿惠', 1), ('王昭蓉', 1), ('林王秀勤', 1), ('王泰', 1), ('顏于', 1), ('墓碑', 1), ('實行', 1), ('高仕倫', 1), ('人陳柏維', 1), ('元約', 1), ('庠', 1), ('雨大', 1), ('既成', 1), ('三房', 1), ('高級', 1), ('張文', 1), ('腐蝕', 1), ('郭乃萍', 1), ('人未', 1), ('跌下去', 1), ('積累', 1), ('西邊', 1), ('簡沛', 1), ('烏魚子', 1), ('泰羽', 1), ('定向', 1), ('蘇玟', 1), ('李珍', 1), ('王長', 1), ('起因', 1), ('訰', 1), ('折價', 1), ('人共', 1), ('萬昌街', 1), ('日退', 1), ('尊', 1), ('高恒', 1), ('以黃敬', 1), ('一看', 1), ('郭美伶', 1), ('遭張', 1), ('所申', 1), ('刑事處分', 1), ('一間', 1), ('振明', 1), ('託付給', 1), ('建華', 1), ('次子', 1), ('單位名稱', 1), ('將渠', 1), ('唐麗', 1), ('全利並', 1), ('旋', 1), ('畫圖', 1), ('邱志偉', 1), ('全修', 1), ('閔均', 1), ('睢', 1), ('陸佰玖拾', 1), ('徵求', 1), ('天文', 1), ('林金連', 1), ('距骨', 1), ('資源', 1), ('部落', 1), ('狀元', 1), ('亙願', 1), ('林雲如', 1), ('徙', 1), ('持股', 1), ('人寶泓', 1), ('王夢涵', 1), ('美三街', 1), ('柯炯德', 1), ('李典', 1), ('珊願', 1), ('故認', 1), ('比同棟', 1), ('秋華', 1), ('毆傷', 1), ('中平', 1), ('深層', 1), ('鄭孟儒', 1), ('王儷燕', 1), ('王方春', 1), ('運輸', 1), ('收尾', 1), ('李彩蓮', 1), ('備齊', 1), ('平體', 1), ('相反', 1), ('卻持', 1), ('雨林', 1), ('路予', 1), ('改建工程', 1), ('勘查', 1), ('純', 1), ('安定', 1), ('財務報表', 1), ('韋兆安', 1), ('葉明泰', 1), ('按照', 1), ('正安', 1), ('季伶體傷', 1), ('郭清池', 1), ('兩對', 1), ('使用者', 1), ('四號', 1), ('成品', 1), ('人起', 1), ('勝隆', 1), ('自聖輝', 1), ('地質', 1), ('柒佰捌', 1), ('段機', 1), ('林安鎮', 1), ('翔體傷', 1), ('人黃映', 1), ('帳目', 1), ('順路', 1), ('簡詩恩', 1), ('劉泓為', 1), ('純美', 1), ('諦', 1), ('欣騎', 1), ('周志宏', 1), ('北富', 1), ('沈墨慈', 1), ('吳昌恭', 1), ('重重', 1), ('須由聲', 1), ('王惠玉', 1), ('養子', 1), ('林雨柔', 1), ('折斷', 1), ('數張', 1), ('登記手續', 1), ('仁賢為', 1), ('王旭華', 1), ('莊惠年', 1), ('戴明源', 1), ('埔里鎮', 1), ('共盜', 1), ('壹組', 1), ('鄭王', 1), ('蕭吉', 1), ('鄭宇蓓', 1), ('怡平', 1), ('宣芳', 1), ('坊', 1), ('換票', 1), ('完整性', 1), ('貳期', 1), ('空瓶', 1), ('國基', 1), ('素娥', 1), ('異次元', 1), ('中民', 1), ('上下肢', 1), ('得將', 1), ('廖柏菁', 1), ('參萬玖仟', 1), ('推託', 1), ('之晴', 1), ('因住', 1), ('號大光', 1), ('愛卿', 1), ('料屆', 1), ('呂林', 1), ('併發', 1), ('之壹個', 1), ('巖', 1), ('僅限於', 1), ('歐明傑', 1), ('金鑽水', 1), ('至本件', 1), ('調查', 1), ('涂淑芬', 1), ('本房', 1), ('力宏', 1), ('燒材燉', 1), ('宏體傷', 1), ('齊將', 1), ('鐵路', 1), ('劉文榮', 1), ('李榮宗向', 1), ('點心', 1), ('欽共乘', 1), ('江該', 1), ('王勝結', 1), ('化學工業', 1), ('秀車損', 1), ('路科', 1), ('啼哭', 1), ('案而', 1), ('張國祥', 1), ('及擬', 1), ('孫瑞鴻', 1), ('心臟', 1), ('一大早', 1), ('相接', 1), ('王薦國', 1), ('傅青華', 1), ('追至', 1), ('李永鴻', 1), ('書報', 1), ('鄭孟藝修', 1), ('額新', 1), ('銀玉', 1), ('有受', 1), ('王含', 1), ('箋', 1), ('梁芳', 1), ('枷蓉', 1), ('不中意', 1), ('橫切面', 1), ('質借', 1), ('不清且', 1), ('之不實', 1), ('李天', 1), ('蔡漢助', 1), ('洋車', 1), ('花錢', 1), ('極度', 1), ('壹佰貳', 1), ('促婷體', 1), ('干元', 1), ('執迅', 1), ('方因', 1), ('電信業務', 1), ('癡', 1), ('自即日起', 1), ('林梅貴', 1), ('並偽刻', 1), ('北投區', 1), ('傅智', 1), ('之排', 1), ('彩蓮', 1), ('時多許', 1), ('不見蹤影', 1), ('檜木', 1), ('友聯', 1), ('李陳', 1), ('七期', 1), ('甩開', 1), ('洪明凱', 1), ('拿到', 1), ('依據', 1), ('巷鳳', 1), ('總醫院', 1), ('改成', 1), ('致顏', 1), ('人四人', 1), ('燒香', 1), ('起步', 1), ('人同', 1), ('有要', 1), ('刊盒', 1), ('蒼之父', 1), ('歹盡', 1), ('呂維庭', 1), ('曾葉', 1), ('轉用', 1), ('百分之十三', 1), ('邱崑', 1), ('許鎂津', 1), ('光茂', 1), ('銀行戶頭', 1), ('水泥漿', 1), ('未知', 1), ('批', 1), ('周姿吟', 1), ('任克剛', 1), ('住在一起', 1), ('致洪明凱', 1), ('鼎', 1), ('東義', 1), ('此聲', 1), ('交還給', 1), ('任內', 1), ('蔡博任', 1), ('區南科', 1), ('牡丹', 1), ('知言', 1), ('點燃', 1), ('圍毆', 1), ('王昭人', 1), ('柯鶯鶯', 1), ('人標', 1), ('張躍鍾', 1), ('強烈', 1), ('資融役', 1), ('鐵板燒', 1), ('腳盤', 1), ('王金', 1), ('娩出', 1), ('提醒', 1), ('橋西', 1), ('翰修', 1), ('油門', 1), ('鎖定', 1), ('膨脹', 1), ('清潔劑', 1), ('暫扣', 1), ('觸口村', 1), ('李明鴻無體傷', 1), ('君車損', 1), ('參仟元則', 1), ('人借', 1), ('林坤枝', 1), ('跟隨', 1), ('吉娃娃', 1), ('坐在', 1), ('緣於', 1), ('蔡樹芬', 1), ('催離止', 1), ('製藥', 1), ('黃家', 1), ('汎', 1), ('碎粒', 1), ('吳玉婷', 1), ('人史', 1), ('推對', 1), ('李伊好', 1), ('真空成型', 1), ('性別', 1), ('親人', 1), ('里區', 1), ('銹櫻', 1), ('輝國', 1), ('泡腳機', 1), ('及孫', 1), ('盧昕宏', 1), ('稱先', 1), ('石場', 1), ('滋生', 1), ('取走聲', 1), ('延禎', 1), ('真體傷', 1), ('未善', 1), ('楊雲翔', 1), ('區育', 1), ('堤岸', 1), ('長泰', 1), ('几無車損', 1), ('產期', 1), ('祈有', 1), ('致施雯禎', 1), ('未保', 1), ('學府', 1), ('林珍怡', 1), ('廖見', 1), ('則僅須', 1), ('穢語', 1), ('另林母', 1), ('裝有', 1), ('雇主', 1), ('狹怨', 1), ('標購', 1), ('業為', 1), ('豐車損', 1), ('劉惠貞', 1), ('照料', 1), ('林安路', 1), ('人台', 1), ('含稅', 1), ('盧蒨', 1), ('設門', 1), ('許鎂津均', 1), ('露台', 1), ('匯回', 1), ('巫居旺', 1), ('貴金', 1), ('夫去', 1), ('何淑娥', 1), ('訓誡', 1), ('林素', 1), ('初期', 1), ('可代為', 1), ('呂銀治', 1), ('人黃譽', 1), ('補貼', 1), ('天山', 1), ('因未帶', 1), ('疑有', 1), ('李佳蔚', 1), ('盧慈恩車損', 1), ('第十八', 1), ('適郭', 1), ('錯將', 1), ('散熱', 1), ('六樓', 1), ('作贏', 1), ('所涉', 1), ('輪胎', 1), ('憤怒', 1), ('三審', 1), ('其願負', 1), ('劉碧園', 1), ('與育北', 1), ('人事', 1), ('買主', 1), ('緊張狀態', 1), ('楠車損', 1), ('德自', 1), ('吳登峻', 1), ('損翁', 1), ('林姿岑', 1), ('控制器', 1), ('騙術', 1), ('浩瀚', 1), ('購地', 1), ('金城', 1), ('王旭華未', 1), ('大廳', 1), ('敏慧', 1), ('昕', 1), ('旭', 1), ('世德', 1), ('並再', 1), ('人雙', 1), ('南開', 1), ('富農', 1), ('購物中心', 1), ('過快', 1), ('文星', 1), ('沿頂', 1), ('詹文忠', 1), ('金桂', 1), ('舊營里', 1), ('財損', 1), ('吳家興', 1), ('人江行', 1), ('未加', 1), ('錦木', 1), ('分及', 1), ('全以', 1), ('區安億路', 1), ('丞及', 1), ('干興', 1), ('由南', 1), ('信宏並', 1), ('粥', 1), ('安業', 1), ('封住', 1), ('翌靖', 1), ('陸佰捌', 1), ('智障', 1), ('平均', 1), ('技工', 1), ('旗', 1), ('吳啟淵', 1), ('雅之夫', 1), ('林麗瑛', 1), ('持往', 1), ('有膽', 1), ('人口數', 1), ('有麻痺', 1), ('人陳佳佑', 1), ('共陸拾', 1), ('整均', 1), ('致起', 1), ('群組', 1), ('斷電', 1), ('通順', 1), ('情緒', 1), ('資料卡', 1), ('開山', 1), ('人林歆', 1), ('吳南', 1), ('之久', 1), ('凹', 1), ('親戚關係', 1), ('李逸琪', 1), ('輛已', 1), ('棍棒', 1), ('江郁婷', 1), ('國庫', 1), ('素數', 1), ('不可', 1), ('給鄭慧', 1), ('函體傷', 1), ('另一方', 1), ('同樣', 1), ('黃嬿融', 1), ('侯明', 1), ('東莞', 1), ('崇輝', 1), ('啟動', 1), ('擊打', 1), ('林志倉', 1), ('致其右', 1), ('桀', 1), ('幾年', 1), ('艾迪', 1), ('怡平路', 1), ('晴玟', 1), ('人陸', 1), ('與黃俊德', 1), ('勤力', 1), ('歐緯泰以', 1), ('車尾', 1), ('雙人滑', 1), ('許貴華', 1), ('結代為', 1), ('涵洞', 1), ('張慶良', 1), ('金儷', 1), ('楊瓊蓉', 1), ('贖回', 1), ('市立', 1), ('遺有', 1), ('正體', 1), ('比對', 1), ('壹佰柒', 1), ('短缺', 1), ('邱建勳', 1), ('因頭', 1), ('壹筆', 1), ('吳芸', 1), ('秀眉', 1), ('謝林佩芬', 1), ('角屋', 1), ('認本件', 1), ('有事', 1), ('自嘉車損', 1), ('二卒', 1), ('雁車', 1), ('日才', 1), ('反胃', 1), ('許歆', 1), ('蘇宬', 1), ('路橋', 1), ('青山', 1), ('順宗', 1), ('郭昭自', 1), ('各戶', 1), ('明珠', 1), ('邱文賓持', 1), ('楊韻潔體', 1), ('堿', 1), ('故生', 1), ('退職金', 1), ('尚須', 1), ('巴掌', 1), ('號預', 1), ('自拔', 1), ('螢陳', 1), ('時開啟', 1), ('郭榮芳', 1), ('拌', 1), ('動工', 1), ('期屆', 1), ('周明俊修', 1), ('謝雅婷', 1), ('而生', 1), ('女久住', 1), ('腰', 1), ('遭警', 1), ('原料', 1), ('蔡才', 1), ('王昭文', 1), ('啤酒', 1), ('發成', 1), ('未照', 1), ('揭方屋', 1), ('人互告', 1), ('落葉', 1), ('人賴彥霖', 1), ('依湘修', 1), ('誤解', 1), ('手槍', 1), ('人卓鈺', 1), ('高職', 1), ('建元', 1), ('儀為', 1), ('王建明', 1), ('仲凱', 1), ('現就林元', 1), ('凱元', 1), ('等待', 1), ('北港鎮', 1), ('蔡志偉', 1), ('造人黃鈺雅', 1), ('碰壞', 1), ('第三點', 1), ('超炫', 1), ('莊宜蓁', 1), ('症', 1), ('左腹', 1), ('由北往', 1), ('日馬彩', 1), ('貳佰陸拾', 1), ('王段', 1), ('郭雨軒', 1), ('柑', 1), ('李宗棋', 1), ('眼科', 1), ('李昀倩聲', 1), ('及文賢', 1), ('中水', 1), ('轉入', 1), ('簡知翔', 1), ('五權', 1), ('李玉麗為', 1), ('徐銘村', 1), ('號五樓', 1), ('還在', 1), ('窗', 1), ('遭人', 1), ('宇', 1), ('內線', 1), ('周無體傷', 1), ('毒藥', 1), ('你家', 1), ('張君毓', 1), ('所含', 1), ('六個', 1), ('講話', 1), ('報復', 1), ('所放', 1), ('警衛', 1), ('盧鳳敏', 1), ('線芳谷', 1), ('吳旗監', 1), ('人范元', 1), ('李陳育', 1), ('靚', 1), ('隨同', 1), ('人羅椿', 1), ('吳家惠', 1), ('蔡振祥', 1), ('讓售', 1), ('王鎰源', 1), ('李雅純', 1), ('狐狸精', 1), ('志勇', 1), ('文平', 1), ('羅拉', 1), ('高龍賢', 1), ('江濱', 1), ('下降', 1), ('價錢', 1), ('鄭淑文', 1), ('比', 1), ('儀無車損', 1), ('詐稱', 1), ('雞', 1), ('故至', 1), ('謝杰倫', 1), ('薏', 1), ('郭淑鉛', 1), ('獲取', 1), ('但常', 1), ('矯正', 1), ('罐', 1), ('腳掌', 1), ('處方', 1), ('烤肉', 1), ('勝及', 1), ('郭秀娥', 1), ('蔡素', 1), ('施秋鳳', 1), ('李淑貞', 1), ('談論', 1), ('勝不疑', 1), ('搬入', 1), ('林錦義', 1), ('即知', 1), ('陳淑銘', 1), ('欠錢', 1), ('植', 1), ('許毅俊', 1), ('人工', 1), ('鋪', 1), ('偵探', 1), ('路華平路', 1), ('洪文二', 1), ('新約', 1), ('心想', 1), ('邱鴻', 1), ('張華德', 1), ('通運公司', 1), ('力禎', 1), ('因喬宇', 1), ('曾光顯', 1), ('瑞在', 1), ('元交渠', 1), ('蔡林秀菊之子', 1), ('林美鈴', 1), ('純體傷', 1), ('莊富芸', 1), ('褲子', 1), ('機與聲', 1), ('人施琳姿', 1), ('及黃俊賢', 1), ('安養', 1), ('許繼文', 1), ('因王', 1), ('慶賢及', 1), ('人陳席梅', 1), ('台有', 1), ('軍備', 1), ('刑事警察', 1), ('永欣', 1), ('成車損', 1), ('侯彥', 1), ('失修', 1), ('玉蓮', 1), ('榮賢', 1), ('儲蓄', 1), ('卓', 1), ('加裝', 1), ('處藏放時', 1), ('張巧雯', 1), ('年息', 1), ('已受', 1), ('隔壁鄰居', 1), ('高時', 1), ('頭頂', 1), ('懷修', 1), ('之機', 1), ('葉琇玲', 1), ('通知單', 1), ('莊麗', 1), ('一車', 1), ('詹宏', 1), ('號豐', 1), ('細量', 1), ('鎗', 1), ('推', 1), ('人洪丁', 1), ('共用', 1), ('阿姨', 1), ('牆垣', 1), ('寄發', 1), ('可證', 1), ('名願', 1), ('噴濺', 1), ('因煞', 1), ('莊文彥', 1), ('行政', 1), ('給甘承恩', 1), ('拖至', 1), ('芮', 1), ('孟珍', 1), ('毀約', 1), ('以虛', 1), ('新孝', 1), ('圖文', 1), ('王瑞連', 1), ('民間', 1), ('張錦燕', 1), ('珵', 1), ('張芝', 1), ('借住', 1), ('人洪靖', 1), ('李正博', 1), ('亮君', 1), ('立於', 1), ('致洪世彥', 1), ('抵制', 1), ('降血糖', 1), ('人陳秋琴', 1), ('雅芳', 1), ('丞車損', 1), ('十二', 1), ('郵資', 1), ('胡楊', 1), ('淑燕', 1), ('駱元前', 1), ('葉智超', 1), ('張秀婷', 1), ('但聲', 1), ('有錢', 1), ('楊國楨', 1), ('在育德路', 1), ('李靜國', 1), ('樓門口', 1), ('風雨交加', 1), ('撮合', 1), ('巷文賢', 1), ('香草', 1), ('胸膛', 1), ('何冠儀', 1), ('甚高為', 1), ('人陳慧鳳', 1), ('街八巷', 1), ('黃白色', 1), ('失主', 1), ('宴席', 1), ('梅姬', 1), ('提到', 1), ('琳', 1), ('種', 1), ('進門', 1), ('蔡旻龍', 1), ('宣', 1), ('一部分', 1), ('梅因', 1), ('規劃', 1), ('鄭志偉受', 1), ('王翊修', 1), ('資助', 1), ('返台', 1), ('疏濬', 1), ('李麗瑩', 1), ('項鍊', 1), ('巷永祥里', 1), ('時點', 1), ('哲騎', 1), ('王澤宏車損', 1), ('繡花', 1), ('王秀妹', 1), ('營業部', 1), ('王珮函', 1), ('莊淑婉', 1), ('餐飲業', 1), ('書為證', 1), ('要持', 1), ('玉將', 1), ('住居', 1), ('水池', 1), ('致林貞吟', 1), ('看法', 1), ('經營者', 1), ('顯', 1), ('李月珍', 1), ('蕭凱云', 1), ('張正', 1), ('張馨', 1), ('邱家良', 1), ('耀德', 1), ('侯秀枝', 1), ('臺語', 1), ('區王', 1), ('現就辜', 1), ('醫生', 1), ('尖物', 1), ('敬仁願', 1), ('蔡月', 1), ('造人陳慧賢', 1), ('焦慮', 1), ('參佰柒拾', 1), ('萬陸仟元整', 1), ('明池', 1), ('李丹伶', 1), ('劉秀燕', 1), ('勞資', 1), ('王翊車損', 1), ('兆', 1), ('號遷', 1), ('引爆', 1), ('林宣廷', 1), ('中鄰宅', 1), ('伊將', 1), ('文欽', 1), ('花籃', 1), ('損待', 1), ('約翰', 1), ('賴詹寶嬌', 1), ('舜大', 1), ('立兆', 1), ('手機號碼', 1), ('參佰陸拾', 1), ('正殿', 1), ('邵鑑', 1), ('因吳', 1), ('箱體', 1), ('淯', 1), ('停下去', 1), ('聿', 1), ('金慶昌', 1), ('郭素惠', 1), ('口前', 1), ('頸', 1), ('陸佰參拾', 1), ('周子暉', 1), ('未裝', 1), ('工具', 1), ('晏修', 1), ('和善', 1), ('土壤', 1), ('砸損', 1), ('交毛文雄', 1), ('拖下來', 1), ('王惠香', 1), ('光輝', 1), ('李靜惠', 1), ('二臺', 1), ('永南', 1), ('萩體傷', 1), ('區德洋', 1), ('吃宵夜', 1), ('埋設', 1), ('車皆要', 1), ('周陳玉霞', 1), ('武勝路', 1), ('沈玉', 1), ('陸佰零', 1), ('人經', 1), ('因前', 1), ('側漏', 1), ('桂體傷', 1), ('韓明谷', 1), ('李佳青', 1), ('相機', 1), ('及往', 1), ('建福', 1), ('吳智賢', 1), ('期由', 1), ('冒', 1), ('旗津', 1), ('蘇勇', 1), ('康清旗', 1), ('人陳振雲疏', 1), ('出席', 1), ('南往', 1), ('成年人', 1), ('萬成', 1), ('楊錦美', 1), ('一屋', 1), ('振明右', 1), ('蘋果', 1), ('疏導', 1), ('瓦斯行', 1), ('孫芳沂', 1), ('聰恩', 1), ('蔡育菁', 1), ('推至', 1), ('太小', 1), ('沈柏翔', 1), ('達成協議', 1), ('鄭志孝願', 1), ('景旭', 1), ('未附', 1), ('煤氣', 1), ('擔憂', 1), ('木生', 1), ('劉沛', 1), ('人林志良', 1), ('蔡瑞真', 1), ('棚作', 1), ('藥局', 1), ('卻是', 1), ('人本件', 1), ('收銀機', 1), ('世曦', 1), ('完再', 1), ('至鄰', 1), ('貿易', 1), ('消保官', 1), ('將由伊', 1), ('新達', 1), ('造人黃鴻輝', 1), ('電動門', 1), ('將手', 1), ('長年', 1), ('張芝菱', 1), ('及腳', 1), ('材料費', 1), ('家園', 1), ('肆虐', 1), ('寶格成', 1), ('楊繁', 1), ('區鳳仁路', 1), ('翰願', 1), ('恥骨', 1), ('朱紀倫', 1), ('振', 1), ('爭取', 1), ('吳佳蓉', 1), ('指表', 1), ('勞僱', 1), ('盧敬', 1), ('郭容孜', 1), ('薛德貴', 1), ('獲償', 1), ('上次', 1), ('列管', 1), ('猥褻', 1), ('地價稅', 1), ('天仁', 1), ('虛設', 1), ('吳世昌', 1), ('沒想到', 1), ('延後', 1), ('楊祺耀', 1), ('多種', 1), ('繫上', 1), ('郁珊', 1), ('工程車', 1), ('總數', 1), ('造人賴品', 1), ('蘇庭穎', 1), ('餐廚', 1), ('時尚', 1), ('博杯', 1), ('崩塌', 1), ('婚約', 1), ('同巷', 1), ('聲譽', 1), ('人三樓', 1), ('無私', 1), ('智體傷', 1), ('郭添居', 1), ('右腿', 1), ('由王', 1), ('排停', 1), ('共乘', 1), ('劉東原', 1), ('食品廠', 1), ('許芳瑜', 1), ('謝嘉霖', 1), ('書寫', 1), ('人父', 1), ('母在', 1), ('分究', 1), ('吳俊賢', 1), ('林侑燕', 1), ('林錫玄', 1), ('交運', 1), ('依照', 1), ('張莞津', 1), ('故尚', 1), ('甄體傷', 1), ('屋樓', 1), ('燒錄', 1), ('分派', 1), ('出讓', 1), ('吳崇寬', 1), ('面對', 1), ('款陸拾', 1), ('達十', 1), ('顏伯庭', 1), ('造人陳春菊', 1), ('楊立偉', 1), ('鄭文進', 1), ('魏淑慧', 1), ('開挖', 1), ('伊雯', 1), ('渠若', 1), ('致歐', 1), ('臨', 1), ('造人白', 1), ('引起糾紛', 1), ('建業', 1), ('高空作業', 1), ('柯蘇秀蘭', 1), ('因年', 1), ('虎', 1), ('王紫茵', 1), ('沿開', 1), ('大順', 1), ('銅管', 1), ('肖仔', 1), ('萬柒仟元給', 1), ('水木', 1), ('始得', 1), ('鄭培澤車損', 1), ('蔡旻君', 1), ('枷榕', 1), ('桿旁', 1), ('之故', 1), ('杜淑玲', 1), ('真正', 1), ('尋仇', 1), ('鍊', 1), ('怀恩', 1), ('樹根', 1), ('江祐名', 1), ('照費及', 1), ('未成年人', 1), ('路南', 1), ('延', 1), ('張菁', 1), ('對質', 1), ('李伊貞', 1), ('及仲岐', 1), ('仰森', 1), ('保臉', 1), ('郭繼華', 1), ('黎妃', 1), ('蘇善勇', 1), ('葉杰晉', 1), ('座位', 1), ('待聲', 1), ('鄭見生', 1), ('區正年', 1), ('張韶恬', 1), ('遭毛丹', 1), ('蓮', 1), ('嘉之父', 1), ('當選', 1), ('爐灶', 1), ('吳宗明', 1), ('液壓', 1), ('人葉雪', 1), ('惟自', 1), ('煞盤', 1), ('因周轉', 1), ('但是', 1), ('雞腳', 1), ('瑞鴻', 1), ('徐漢萌作', 1), ('蔓體傷', 1), ('同域', 1), ('有疑異', 1), ('結案', 1), ('振輝', 1), ('印尼', 1), ('東街', 1), ('哈士奇', 1), ('行政院', 1), ('葉明', 1), ('鄭福江後因', 1), ('造人陳映', 1), ('不理不睬', 1), ('餅', 1), ('寶月', 1), ('余美儀', 1), ('余豐展', 1), ('單上', 1), ('七路', 1), ('胡正廷', 1), ('毓', 1), ('還有', 1), ('日欲', 1), ('之鐵閂', 1), ('案一', 1), ('啟威', 1), ('一床', 1), ('戰聲', 1), ('劉錦菊', 1), ('區中', 1), ('李味珍', 1), ('秋迪', 1), ('一子', 1), ('十一', 1), ('王文利', 1), ('許尤薇', 1), ('墜下', 1), ('林書瑋', 1), ('郭枝梅', 1), ('蕭伯雄', 1), ('芙茵', 1), ('攻擊', 1), ('維願負', 1), ('側邊', 1), ('危急', 1), ('電信公司', 1), ('石英', 1), ('薛慧玉', 1), ('油漬', 1), ('張博閔', 1), ('蒂爾', 1), ('蕙蘭', 1), ('雅體傷', 1), ('造人竟', 1), ('暗示', 1), ('高腳', 1), ('平豐路', 1), ('李明章', 1), ('人陳振', 1), ('龍詩哲', 1), ('碧玉', 1), ('多筆', 1), ('不然', 1), ('還寫', 1), ('該戶', 1), ('應買', 1), ('票貼', 1), ('中應', 1), ('傅素', 1), ('金輪', 1), ('莊淑鈴', 1), ('惠美', 1), ('指認', 1), ('自覺', 1), ('何交字', 1), ('版', 1), ('元合會', 1), ('並委其', 1), ('車停', 1), ('具有', 1), ('痛', 1), ('千陸佰', 1), ('兩方', 1), ('效益', 1), ('中時', 1), ('數百萬元', 1), ('整個', 1), ('中體傷', 1), ('准許', 1), ('各壹張', 1), ('精銳', 1), ('鼓', 1), ('蒸餾', 1), ('游振祥', 1), ('轉介本會', 1), ('刺入', 1), ('誣指', 1), ('如車損', 1), ('共向聲', 1), ('鴻敏', 1), ('暫', 1), ('適中', 1), ('相贈', 1), ('蔡源植', 1), ('參仟玖佰元整', 1), ('圖面', 1), ('主體', 1), ('挖土機', 1), ('張耀仁', 1), ('依湘均', 1), ('巫貴蘭', 1), ('移交', 1), ('追趕', 1), ('攔查', 1), ('六街', 1), ('串通', 1), ('貨已', 1), ('即用', 1), ('勘驗', 1), ('智勇', 1), ('于', 1), ('立約', 1), ('屢勸不聽', 1), ('楊榮', 1), ('籃妤', 1), ('塘港', 1), ('未得', 1), ('勸架', 1), ('防水工程', 1), ('蕊', 1), ('尾段', 1), ('本車', 1), ('車騎', 1), ('蔡昆澤體傷', 1), ('不歸路', 1), ('王文俊', 1), ('周麗娟', 1), ('丁明恆', 1), ('示意', 1), ('減輕', 1), ('溫淑惠修', 1), ('並匯給', 1), ('工明南', 1), ('德晉', 1), ('頂美二街', 1), ('郭忪', 1), ('涂梅芳', 1), ('林昱成', 1), ('給張奕勝', 1), ('追到', 1), ('碼頭', 1), ('北京', 1), ('就黃逸華', 1), ('人陳菀婷', 1), ('經國', 1), ('日止計', 1), ('沾滿', 1), ('經貿', 1), ('洋自', 1), ('多份', 1), ('其以', 1), ('全字', 1), ('永順', 1), ('三體傷', 1), ('抽血', 1), ('日持聲', 1), ('歸許', 1), ('款壹佰柒', 1), ('現買', 1), ('折', 1), ('李信翰', 1), ('謾罵', 1), ('拖欠', 1), ('美快化', 1), ('人蹌要', 1), ('高架', 1), ('距', 1), ('美郁', 1), ('李體傷', 1), ('經曾', 1), ('孟學', 1), ('公明', 1), ('致撞', 1), ('寶貝', 1), ('楊雅雯', 1), ('鄭培澤', 1), ('鄭金梅', 1), ('則分', 1), ('賭金', 1), ('姿菁', 1), ('致田雅', 1), ('亙幫', 1), ('品晟', 1), ('朱女', 1), ('用腳', 1), ('吳金卿', 1), ('精', 1), ('證實', 1), ('故以', 1), ('空間設計', 1), ('聯單', 1), ('與陳育', 1), ('提出異議', 1), ('手續費', 1), ('河底', 1), ('零參拾', 1), ('老蕃顛', 1), ('丁姿伶', 1), ('江俊德', 1), ('十路', 1), ('依柔', 1), ('造人陳品', 1), ('相對', 1), ('向南', 1), ('文章內容', 1), ('起系', 1), ('原其', 1), ('遭王', 1), ('元成', 1), ('林秀珊', 1), ('出風口', 1), ('劉林', 1), ('張秀菁', 1), ('強安', 1), ('致需', 1), ('記不清', 1), ('致秦', 1), ('房價', 1), ('人系聲', 1), ('莊貴', 1), ('移往', 1), ('魏永宏', 1), ('劉桂英', 1), ('橋處', 1), ('理財', 1), ('常為', 1), ('洪賢成', 1), ('販店', 1), ('致金孝信', 1), ('品瑄', 1), ('公立', 1), ('許慧美', 1), ('鈐', 1), ('宣體傷', 1), ('有塊', 1), ('瓜葛', 1), ('冠惟', 1), ('召集人', 1), ('東寶', 1), ('魏國', 1), ('石達明', 1), ('明東', 1), ('柏翌', 1), ('上防', 1), ('梅桂修', 1), ('吳明義', 1), ('德均', 1), ('戶政', 1), ('李文良', 1), ('吳政偉', 1), ('林鶯', 1), ('日當期', 1), ('段近', 1), ('鄭王春美', 1), ('致魏郁', 1), ('李珮慈', 1), ('方順成', 1), ('遂持', 1), ('惠珠', 1), ('人羅乾恩', 1), ('張林敏子', 1), ('李政憲車損', 1), ('數月', 1), ('李采薇', 1), ('李怡慧', 1), ('貝金', 1), ('莊擁翔', 1), ('鄭茂', 1), ('碇', 1), ('業主', 1), ('人趙敏婷', 1), ('劉政', 1), ('明人', 1), ('延展', 1), ('扳手', 1), ('處北巷', 1), ('柯茗', 1), ('訂車', 1), ('窗玻璃', 1), ('阿瘦', 1), ('間將', 1), ('區五', 1), ('幼珍', 1), ('造人陳士弘', 1), ('受潮', 1), ('致陳信宏', 1), ('健', 1), ('李銀', 1), ('人除', 1), ('此舉', 1), ('洪小婷', 1), ('而將', 1), ('酌減', 1), ('莊孟豪', 1), ('辦竣', 1), ('吳料', 1), ('邇來', 1), ('狗吠', 1), ('吟體傷', 1), ('徵信', 1), ('豐街', 1), ('日驚見', 1), ('梁信', 1), ('四佰陸', 1), ('劃聲', 1), ('委託書', 1), ('還新', 1), ('文表', 1), ('簽有', 1), ('此為', 1), ('柏維體傷', 1), ('光電', 1), ('柴油', 1), ('廖輝明', 1), ('蔡惠華', 1), ('抽風', 1), ('謝敬福', 1), ('之健', 1), ('胞姊', 1), ('會計', 1), ('致江秀', 1), ('室及', 1), ('造人陳慶武', 1), ('田地', 1), ('吳家瑞', 1), ('組頭', 1), ('保護', 1), ('零用錢', 1), ('樹立', 1), ('蘇雅琪', 1), ('宋振威', 1), ('廣播', 1), ('禾聯', 1), ('情侶', 1), ('美稱', 1), ('張永祿', 1), ('剎車', 1), ('凹損', 1), ('予售', 1), ('公證人', 1), ('高信忠', 1), ('楊勝凱', 1), ('鄭志孝', 1), ('山南', 1), ('鑫', 1), ('人連宸', 1), ('吳尚曄修', 1), ('截圖', 1), ('林俊毅', 1), ('合作經營', 1), ('有頭', 1), ('存戶', 1), ('謝宇庭', 1), ('腳部', 1), ('珞', 1), ('曾獻儀', 1), ('治療師', 1), ('郭三益', 1), ('防衛', 1), ('秋金', 1), ('胡祐維體傷', 1), ('人陳仁堯', 1), ('涵', 1), ('寺前', 1), ('韓胡碧蓮', 1), ('蔡淑慧', 1), ('不易', 1), ('村南', 1), ('德洋', 1), ('王旭', 1), ('產物', 1), ('並至', 1), ('恐慌', 1), ('壹佰元給', 1), ('葉耿', 1), ('穆麗秋', 1), ('釘釘子', 1), ('麗香', 1), ('之紀', 1), ('整以', 1), ('剛', 1), ('雞邁', 1), ('應急', 1), ('沿富德街', 1), ('蔡姿瑜', 1), ('壞死', 1), ('揮打', 1), ('可核', 1), ('各分', 1), ('蝕本', 1), ('黃國', 1), ('渠旁', 1), ('開戶', 1), ('中前', 1), ('路北', 1), ('和平東路', 1), ('走聲', 1), ('王耀麟', 1), ('盧陳圓', 1), ('徐欣儀', 1), ('免於', 1), ('鄭淑文及', 1), ('云無車損', 1), ('姪', 1), ('人訴', 1), ('造人陳偉哲', 1), ('盛車損', 1), ('並須', 1), ('葉玟', 1), ('王柏偉', 1), ('已代', 1), ('貓', 1), ('街嵩霖', 1), ('呼氣', 1), ('人黃偉', 1), ('有砂', 1), ('第一天', 1), ('當事', 1), ('棋車損', 1), ('揚善', 1), ('張凱嵐', 1), ('叫賣', 1), ('譏笑', 1), ('王亭勻', 1), ('新興區', 1), ('諒', 1), ('升高', 1), ('人黃鴻輝', 1), ('新南', 1), ('人黃恒', 1), ('與佑民街', 1), ('蔡江鳳', 1), ('郭正', 1), ('金參萬', 1), ('醫學科', 1), ('區永大', 1), ('憨', 1), ('車在', 1), ('李曉萍', 1), ('蔡成宗', 1), ('事由', 1), ('血', 1), ('多少', 1), ('保', 1), ('諺', 1), ('吳尚曄體傷', 1), ('豪記', 1), ('如今', 1), ('二至', 1), ('人且', 1), ('義齒', 1), ('香則', 1), ('莊翌', 1), ('金燕', 1), ('斯社', 1), ('連章', 1), ('清潔費', 1), ('尚需', 1), ('字條', 1), ('次日', 1), ('翠華車損', 1), ('丟到', 1), ('尚群', 1), ('方玟', 1), ('如修', 1), ('德泰', 1), ('修配廠', 1), ('即刻', 1), ('嬰兒', 1), ('遂行', 1), ('元聲', 1), ('林佳翰', 1), ('顳葉', 1), ('王鐘', 1), ('方興', 1), ('蔡慶義', 1), ('南內', 1), ('孟宇', 1), ('潑漆', 1), ('切斷', 1), ('人陳宛', 1), ('花草樹木', 1), ('人黃慧美', 1), ('未行', 1), ('相片', 1), ('介聰', 1), ('蔡秀', 1), ('林金龍', 1), ('林靜瑩', 1), ('發包', 1), ('瘀血', 1), ('王翊', 1), ('吃藥', 1), ('逼', 1), ('嘉義市', 1), ('人林思', 1), ('制傑', 1), ('以證', 1), ('發生地', 1), ('區往', 1), ('林黃', 1), ('計入', 1), ('持向', 1), ('及林義', 1), ('何書薇', 1), ('買受人', 1), ('補償費', 1), ('玉花', 1), ('起瑞', 1), ('林清採', 1), ('許水清', 1), ('轉移', 1), ('即期支票', 1), ('鋸子', 1), ('不濟', 1), ('王書政所', 1), ('多致生', 1), ('王威翔', 1), ('購物網', 1), ('吹破', 1), ('明之其', 1), ('道車', 1), ('黃燈', 1), ('張雅惠', 1), ('國際機場', 1), ('張並', 1), ('加拿大', 1), ('人陳振雲涉', 1), ('伺上', 1), ('一言不和', 1), ('林宗憲', 1), ('王雅君願', 1), ('賸', 1), ('李阡瑋', 1), ('啟甫', 1), ('舊屋', 1), ('代步', 1), ('劉志強', 1), ('包底', 1), ('玩耍', 1), ('適站', 1), ('建智', 1), ('到位', 1), ('定給', 1), ('出版社', 1), ('燕等', 1), ('舒服', 1), ('予覃', 1), ('蕭穎', 1), ('金壹拾', 1), ('有雙', 1), ('歐承翰將', 1), ('宣傳品', 1), ('盒', 1), ('林秀', 1), ('文集', 1), ('自撞', 1), ('之山葉', 1), ('證人', 1), ('蔡阿燕', 1), ('洪孜鳳', 1), ('先裝', 1), ('自上而下', 1), ('路標', 1), ('義誠', 1), ('東道', 1), ('蘇佳慧', 1), ('污水處理', 1), ('砸壞', 1), ('分分', 1), ('蔡淑敏', 1), ('郭金順', 1), ('欸', 1), ('專利證書', 1), ('伸陽', 1), ('根向當', 1), ('陽興', 1), ('桿', 1), ('頂訂', 1), ('外語', 1), ('融體', 1), ('外欲', 1), ('南市區', 1), ('說出', 1), ('名花', 1), ('林彩惠', 1), ('范姜皓亮', 1), ('張津雪', 1), ('賴政文', 1), ('丟出', 1), ('外傷性', 1), ('臻', 1), ('碧滿', 1), ('幫助', 1), ('人黃瑋豪', 1), ('幹麻請', 1), ('研究所', 1), ('牙根', 1), ('昭文', 1), ('診間', 1), ('新台', 1), ('前案', 1), ('給角屋', 1), ('張元碩', 1), ('口時', 1), ('林素蓮', 1), ('屋之事', 1), ('鄭國梅', 1), ('砍', 1), ('外幣', 1), ('掀翻', 1), ('郭麗娟', 1), ('胎兒', 1), ('宋佩玲', 1), ('王貞', 1), ('千餘元', 1), ('美心強', 1), ('春節', 1), ('右面', 1), ('人江政', 1), ('百貨公司', 1), ('精密', 1), ('桃修', 1), ('載客', 1), ('徐翔', 1), ('傢俱公司', 1), ('中陳稱', 1), ('電腦程式', 1), ('南小北', 1), ('美好', 1), ('吳銘章', 1), ('中文版', 1), ('動', 1), ('翁坤霖', 1), ('萬以', 1), ('走火', 1), ('轉趨', 1), ('幹部', 1), ('中街', 1), ('邱政凱', 1), ('新豐', 1), ('吳明珍', 1), ('兼職', 1), ('正言', 1), ('並偽', 1), ('韻如', 1), ('廣大', 1), ('乙型', 1), ('李威宗', 1), ('報社', 1), ('沈佳立', 1), ('人機', 1), ('尿酸', 1), ('完整', 1), ('拋繼本', 1), ('區學', 1), ('掙脫', 1), ('接柏', 1), ('萬約', 1), ('張裕玉', 1), ('霆', 1), ('芽', 1), ('及富北', 1), ('當月', 1), ('證券公司', 1), ('男受', 1), ('張秋賢', 1), ('歸屬', 1), ('楊金映', 1), ('灌漿', 1), ('將莊千儀', 1), ('正順', 1), ('子女教育', 1), ('出生', 1), ('其遷', 1), ('蕭丞佑', 1), ('稱要', 1), ('何舜弘', 1), ('王行', 1), ('滋涵', 1), ('下列', 1), ('郭孝丞體傷', 1), ('吾', 1), ('號將', 1), ('葉凌韻', 1), ('泰興', 1), ('林格', 1), ('蔡淑娟', 1), ('刮', 1), ('嘉執', 1), ('林惠雯', 1), ('前正', 1), ('葉美會亦閉', 1), ('菱', 1), ('趕出去', 1), ('優世大', 1), ('製', 1), ('帳號密碼', 1), ('揮拳', 1), ('環工路', 1), ('柒佰陸', 1), ('葉全泰', 1), ('高出', 1), ('其詐', 1), ('此車', 1), ('證書', 1), ('三合院', 1), ('口腔', 1), ('麗春', 1), ('保留', 1), ('嫻', 1), ('施極安', 1), ('誤差', 1), ('慶安', 1), ('張淑貞', 1), ('王憶慈', 1), ('母遺有', 1), ('渠所受', 1), ('該會', 1), ('門窗', 1), ('市南區', 1), ('流出', 1), ('馬上', 1), ('以手將', 1), ('標高', 1), ('常不關', 1), ('信宏為', 1), ('污染', 1), ('鄭俊忠', 1), ('尚青', 1), ('重測', 1), ('白鐵', 1), ('復華', 1), ('失眠', 1), ('弄碎', 1), ('教師', 1), ('下雨天', 1), ('推開', 1), ('楊梅鎮', 1), ('竣修', 1), ('榮二', 1), ('予吳', 1), ('木料', 1), ('鑽頭', 1), ('回聲', 1), ('上推', 1), ('耶', 1), ('慧玉修', 1), ('詠馨', 1), ('佟一願', 1), ('沙李雪', 1), ('掀裙', 1), ('解曉蘭', 1), ('李西志', 1), ('甲班', 1), ('文宣上', 1), ('橋時', 1), ('明忠', 1), ('投宿在', 1), ('美帥', 1), ('楊佳玲', 1), ('鄰近', 1), ('暫借', 1), ('明宏', 1), ('有傷', 1), ('鐘梅', 1), ('換回', 1), ('匾', 1), ('葉麗雪', 1), ('內出血', 1), ('稅務局', 1), ('潘素', 1), ('依表', 1), ('林良恩', 1), ('蔡穎', 1), ('祺', 1), ('攜', 1), ('南院', 1), ('人陳柏成', 1), ('願作', 1), ('抽驗', 1), ('發揮', 1), ('死地', 1), ('顏國貞', 1), ('楊雅秀', 1), ('失敗', 1), ('胡俊哲', 1), ('沛彤', 1), ('號某', 1), ('許育維', 1), ('榮基為', 1), ('桃園市', 1), ('助理', 1), ('區岳', 1), ('孟興', 1), ('吳貞賢', 1), ('以台語', 1), ('鄰棟', 1), ('宜平', 1), ('抗辯權', 1), ('人林茂森', 1), ('尾椎', 1), ('識昌', 1), ('郭昱辰', 1), ('遺棄', 1), ('鈍傷', 1), ('回原', 1), ('蘇文', 1), ('款壹佰參拾', 1), ('子翁', 1), ('人陳順', 1), ('蔡旻宏', 1), ('北村', 1), ('號群格', 1), ('雙黃線', 1), ('延期', 1), ('再分', 1), ('祥向現', 1), ('腎衰竭', 1), ('人黃麗美', 1), ('進起', 1), ('劉錫錦', 1), ('囍', 1), ('罵聲', 1), ('用開', 1), ('辛美賢', 1), ('大發', 1), ('四維', 1), ('須待', 1), ('屋並', 1), ('人卓晉', 1), ('鋁罐', 1), ('鉛門', 1), ('葉崇鴻', 1), ('張榆', 1), ('兩半', 1), ('林澤峰', 1), ('人林穎辰', 1), ('葉靜茹', 1), ('虛偽', 1), ('汙水', 1), ('鋼骨', 1), ('逼債', 1), ('調整', 1), ('左前方', 1), ('建龍', 1), ('中信', 1), ('書經', 1), ('黑狗', 1), ('萬二仟', 1), ('現實', 1), ('香蘭', 1), ('薹', 1), ('壟丘', 1), ('故黃', 1), ('薛皓', 1), ('謄本', 1), ('少', 1), ('照付', 1), ('文質', 1), ('伍佰陸拾', 1), ('宏欣', 1), ('爾後', 1), ('人黃嬿融', 1), ('鄭采', 1), ('郭展', 1), ('北辰', 1), ('淳', 1), ('說法', 1), ('許金池', 1), ('興路', 1), ('租其', 1), ('頂上', 1), ('常修慈', 1), ('紙面', 1), ('即持', 1), ('澈', 1), ('未拉', 1), ('路台', 1), ('安清', 1), ('劉濬', 1), ('土方', 1), ('僱請', 1), ('育德二', 1), ('財政部', 1), ('人陳怡雯', 1), ('椎骨', 1), ('蘇文哲', 1), ('彬', 1), ('宣修', 1), ('人林梓', 1), ('風吹', 1), ('楊貴華', 1), ('宏願', 1), ('財願', 1), ('純青', 1), ('鄭夙惠', 1), ('電力設施', 1), ('致電', 1), ('春福', 1), ('其常', 1), ('字眼', 1), ('再持', 1), ('謝家', 1), ('並告', 1), ('以成', 1), ('瑞體傷', 1), ('帑', 1), ('櫂', 1), ('管柏家', 1), ('挪為', 1), ('水腦症', 1), ('場地', 1), ('楠修', 1), ('露出', 1), ('路小北', 1), ('定期', 1), ('立票', 1), ('柯南', 1), ('載回', 1), ('磚屋', 1), ('中文', 1), ('困頓', 1), ('許嘉玲', 1), ('再行', 1), ('蔡秀梅', 1), ('七級', 1), ('育民', 1), ('經成', 1), ('驚人', 1), ('溝底', 1), ('推行', 1), ('郭龍偉', 1), ('次將', 1), ('號一至', 1), ('大字', 1), ('武昌', 1), ('運作', 1), ('因閃', 1), ('蔡宇竣', 1), ('西甲', 1), ('紅毛', 1), ('提請', 1), ('王碧香', 1), ('胡育倫', 1), ('家庭成員', 1), ('泰華', 1), ('人方智弘', 1), ('舜', 1), ('蔡碧蓮', 1), ('超勝', 1), ('登財', 1), ('任華修', 1), ('宋佩珊共乘', 1), ('正屋', 1), ('持刀', 1), ('依此', 1), ('轉租', 1), ('會金新', 1), ('雯', 1), ('林睿祺', 1), ('李鳳姿', 1), ('租與', 1), ('安盈珊修', 1), ('李彥瑩', 1), ('簡佑修', 1), ('綠燈', 1), ('大輪', 1), ('邱宗葆', 1), ('祭禮', 1), ('孳生', 1), ('專戶', 1), ('柏宏', 1), ('管', 1), ('同案', 1), ('傷等', 1), ('人衣', 1), ('萬臺', 1), ('金全春', 1), ('卸', 1), ('雅均', 1), ('切開', 1), ('鄭智仁', 1), ('人互', 1), ('祀', 1), ('號之對', 1), ('造人住', 1), ('輾過', 1), ('順騰', 1), ('斜', 1), ('蔡燕', 1), ('秦自', 1), ('玻', 1), ('薛淑碧體傷', 1), ('晉吉', 1), ('共參', 1), ('長褲', 1), ('李偉琦因', 1), ('迭', 1), ('智亮', 1), ('醉意', 1), ('紙上', 1), ('劉友榮', 1), ('玉玲', 1), ('明肆', 1), ('人騙', 1), ('樓因', 1), ('及備', 1), ('嚴錦聰', 1), ('鄰接', 1), ('吳珮芸願', 1), ('並委由', 1), ('致林姬', 1), ('岩', 1), ('虧損', 1), ('所附', 1), ('邱忠雄', 1), ('義孟體傷', 1), ('詹朝', 1), ('訊問', 1), ('張成', 1), ('德川', 1), ('腦瘤', 1), ('脫', 1), ('邵美腰', 1), ('會單', 1), ('監察', 1), ('前所', 1), ('人陳育', 1), ('予千興', 1), ('輸送', 1), ('之臉', 1), ('今後', 1), ('林麗貞', 1), ('軟化', 1), ('中樞神經', 1), ('該藥', 1), ('日之修', 1), ('飲用', 1), ('前上', 1), ('錦淨', 1), ('明泰', 1), ('樵', 1), ('安段', 1), ('金峰', 1), ('週年', 1), ('王森憶', 1), ('乘騎', 1), ('胡海音', 1), ('收養', 1), ('余昭瑢', 1), ('起訴書', 1), ('魯月枝', 1), ('聖誕', 1), ('和平路', 1), ('吳岱', 1), ('屬庭', 1), ('這裡', 1), ('戴政憲', 1), ('不周', 1), ('皇冠', 1), ('李麗蓮', 1), ('之集', 1), ('已向', 1), ('請陳桂珠', 1), ('收錄', 1), ('閔南', 1), ('邱育彰', 1), ('斷水', 1), ('宋玉芳', 1), ('洗碗', 1), ('鈕扣', 1), ('林世菁', 1), ('梁曉玫', 1), ('換貨', 1), ('號金', 1), ('芭比', 1), ('當兩', 1), ('李許', 1), ('劉許施', 1), ('八哥', 1), ('老年', 1), ('歐俊誼', 1), ('入境', 1), ('香車', 1), ('床上', 1), ('頭挫', 1), ('嘉里', 1), ('之原', 1), ('槓頂', 1), ('抵充', 1), ('有任', 1), ('開場', 1), ('號小', 1), ('基泉', 1), ('懲戒', 1), ('斑馬線', 1), ('福華', 1), ('王翁', 1), ('艾', 1), ('侯德瑩', 1), ('公案', 1), ('向陳珮鈺', 1), ('喻等', 1), ('蘇蔡', 1), ('該名', 1), ('洪亞', 1), ('吳岳恩向', 1), ('思念', 1), ('現岑秉龍', 1), ('鄧吉雄', 1), ('造人將', 1), ('上莊', 1), ('楊玉帆', 1), ('營養', 1), ('林珮騏', 1), ('仙', 1), ('嘉隆', 1), ('洗髮', 1), ('美女', 1), ('人收', 1), ('壹日', 1), ('鄭琮憲', 1), ('廖一憲', 1), ('安全設備', 1), ('一品', 1), ('孫薇淳', 1), ('啟淵', 1), ('裕誠路', 1), ('現勘', 1), ('未掛', 1), ('林麗賢', 1), ('社需', 1), ('郭茂豐', 1), ('皆將', 1), ('常至', 1), ('份當', 1), ('骨', 1), ('打到', 1), ('胡明宏', 1), ('旗甲路', 1), ('壞人', 1), ('人林煒堅', 1), ('不久', 1), ('潘美月', 1), ('段雨賢北', 1), ('並拒', 1), ('未泣', 1), ('區白崙段', 1), ('後輪', 1), ('吳佩臻', 1), ('米克斯', 1), ('李葉玉琴', 1), ('勞退', 1), ('骨飯', 1), ('王淑美向', 1), ('侍', 1), ('蔡依珊', 1), ('其間', 1), ('禮品', 1), ('學童', 1), ('合庫', 1), ('楊朝', 1), ('圖案', 1), ('邱柏勝人', 1), ('弄髒', 1), ('韋君共乘', 1), ('蔡緒興', 1), ('漂成', 1), ('溶化', 1), ('樓下住戶', 1), ('農村', 1), ('石羽', 1), ('車速', 1), ('張秀澤', 1), ('供對造', 1), ('分享', 1), ('蟑螂', 1), ('林招蓮', 1), ('留言板', 1), ('周冠弟', 1), ('載何', 1), ('丟', 1), ('許華良', 1), ('送至', 1), ('盧詠', 1), ('繁正', 1), ('陳素貞', 1), ('葉爾文', 1), ('圖修', 1), ('進中', 1), ('之內', 1), ('殺蟲劑', 1), ('如二', 1), ('登錄', 1), ('借自', 1), ('布袋', 1), ('翁榮澤', 1), ('借得', 1), ('獨占', 1), ('蕭碧蓮', 1), ('低收入', 1), ('店展', 1), ('吳秀玉', 1), ('玲', 1), ('王琮', 1), ('巷由北', 1), ('秦石玉直', 1), ('東臺', 1), ('鄭穎駿', 1), ('冠茹', 1), ('團隊', 1), ('區北園', 1), ('中起', 1), ('瘤', 1), ('人程', 1), ('粵桂', 1), ('鑽探', 1), ('人陳妙', 1), ('看報', 1), ('蕭丞佑願', 1), ('邱珍惠', 1), ('廖任', 1), ('李廷緯', 1), ('商工', 1), ('大和街', 1), ('英語教學', 1), ('菜籃', 1), ('握有', 1), ('入帳', 1), ('換人', 1), ('萬澤', 1), ('本利', 1), ('造人方', 1), ('日林', 1), ('未戴', 1), ('郭柏', 1), ('拼裝車', 1), ('人作', 1), ('金雀', 1), ('振興', 1), ('蔡銘祥', 1), ('根治', 1), ('林榮興', 1), ('好漢', 1), ('劉燕菊', 1), ('簽', 1), ('馬桶', 1), ('送往', 1), ('銜口', 1), ('攸體傷', 1), ('何緯', 1), ('另壹佰', 1), ('陸羽', 1), ('世界', 1), ('逾越', 1), ('林兆騫', 1), ('因幫', 1), ('泰向', 1), ('張秋桂', 1), ('大智', 1), ('李張幸', 1), ('會痛', 1), ('維修工', 1), ('李瑋昀', 1), ('姊弟', 1), ('王伊萍', 1), ('右臉', 1), ('高等法院', 1), ('期視', 1), ('超出', 1), ('人患', 1), ('施艷貴', 1), ('貓不雷', 1), ('吸', 1), ('日時許', 1), ('賴書通', 1), ('意外', 1), ('燒碳', 1), ('至台', 1), ('郭愛如', 1), ('佳達', 1), ('維生', 1), ('薛全欽', 1), ('杰', 1), ('九四', 1), ('誤貼', 1), ('憤慨', 1), ('閱覽', 1), ('汪嘉才則', 1), ('煞車燈', 1), ('其南', 1), ('打人', 1), ('文來', 1), ('勾住', 1), ('巷永祥', 1), ('至該', 1), ('熱水', 1), ('甲頂', 1), ('技', 1), ('莫大', 1), ('光賢里', 1), ('邱淑貞', 1), ('電擊', 1), ('孟婕', 1), ('譚惠', 1), ('鵠', 1), ('復健', 1), ('人黃琪芳', 1), ('甄車損', 1), ('燒燬', 1), ('帳單', 1), ('故提', 1), ('王偉任', 1), ('三杯', 1), ('冷凍箱', 1), ('較', 1), ('許文欣', 1), ('對人', 1), ('慈無車損', 1), ('有機', 1), ('開出', 1), ('人林麗貞', 1), ('光俊', 1), ('汽車出口', 1), ('之次', 1), ('待產', 1), ('口作', 1), ('並繳', 1), ('逛街', 1), ('鑿', 1), ('岑玫', 1), ('人生', 1), ('屍首', 1), ('籍口', 1), ('執勤', 1), ('雅修', 1), ('李文琪', 1), ('九線', 1), ('包予', 1), ('李上', 1), ('弘安', 1), ('鋼索', 1), ('經兌', 1), ('掃', 1), ('幫', 1), ('搶走', 1), ('樹谷', 1), ('謝明', 1), ('改為', 1), ('號張奕勝', 1), ('孫水麟', 1), ('蔡穎慈', 1), ('朋體傷', 1), ('所及', 1), ('人涉', 1), ('洪秀惠', 1)] "
     ]
    },
    {
     "name": "stdout",
     "output_type": "stream",
     "text": [
      "\n",
      "\n",
      " [('r', 8471), ('n', 8471), ('OOO', 6679), ('XXX', 5789), ('10', 1882), ('1', 1634), ('5', 1497), ('2', 1483), ('3', 1411), ('105', 1407), ('106', 1387), ('12', 1342), ('104', 1342), ('9', 1340), ('4', 1328), ('8', 1321), ('7', 1316), ('103', 1303), ('11', 1237), ('6', 1126), ('30', 966), ('15', 951), ('20', 908), ('100', 718), ('17', 655), ('101', 632), ('18', 619), ('16', 581), ('14', 547), ('99', 538), ('13', 529), ('19', 514), ('25', 506), ('98', 479), ('102', 478), ('22', 473), ('21', 454), ('50', 436), ('23', 355), ('40', 343), ('sentence', 335), ('no', 335), ('24', 312), ('27', 308), ('28', 285), ('45', 283), ('26', 242), ('29', 217), ('35', 204), ('31', 204)] \n",
      "\n",
      " [('，', 36468), ('\\\\', 25413), ('、', 17781), ('（', 13139), ('）', 12679), ('。', 9652), (' ', 7372), ('：', 6161), ('－', 6061), ('〈', 2523), ('〉', 2491), ('—', 1723), (')', 1236), ('-', 1182), ('(', 748), ('；', 431), (':', 178), ('」', 170), ('「', 166), ('…', 101)]\n"
     ]
    }
   ],
   "source": [
    "chinese_list, sign_list, dig_english_list = [], [], []\n",
    "for word, count in word_dict:\n",
    "    for char in word:\n",
    "        if char >= u'\\u4E00' and char <= u\"\\u9FA5\":\n",
    "            chinese_list.append((word, count))\n",
    "        elif (char >= u'\\u0041' and char <= u'\\u005A') or (char >= u'\\u0061' and char <= u'\\u007A') or (char >= u'\\u0030' and char <= u'\\u0039'):\n",
    "            dig_english_list.append((word, count))\n",
    "            break\n",
    "        else:\n",
    "            sign_list.append((word, count))\n",
    "            break\n",
    "sorted_dig_english_list = sorted(set(dig_english_list), key=lambda x: x[1], reverse=True)\n",
    "sorted_sign_list = sorted(set(sign_list), key=lambda x: x[1], reverse=True)\n",
    "sorted_chinese_list = sorted(set(chinese_list), key=lambda x: x[1], reverse=True)\n",
    "print(\"chinese_word: \", len(sorted_chinese_list))\n",
    "print(\"dig_english_word: \", len(sorted_dig_english_list))\n",
    "print(\"sign_count: \", len(sorted_sign_list))\n",
    "print(sorted_chinese_list[:10000], '\\n\\n', sorted_dig_english_list[:50], '\\n\\n', sorted_sign_list[:20])"
   ]
  },
  {
   "cell_type": "code",
   "execution_count": 56,
   "metadata": {},
   "outputs": [
    {
     "name": "stdout",
     "output_type": "stream",
     "text": [
      "chinese_word:  16250\n",
      "dig_english_word:  0\n",
      "sign_count:  52\n"
     ]
    },
    {
     "name": "stdout",
     "output_type": "stream",
     "text": [
      "[('人', 13487), ('聲請', 7755), ('與', 6733), ('對造', 6403), ('民國', 5276), ('解', 5174), ('請調', 5171), ('騎乘', 5153), ('故聲', 5009), ('機車', 4914), ('年月日時', 4434), ('臺南市', 4410), ('在', 4397), ('發生', 4340), ('車損', 4319), ('車禍', 4114), ('北區', 3905), ('如下', 3750), ('同意', 3726), ('號', 3683), ('給付', 3634), ('年月日', 3627), ('不', 3622), ('結果', 3456), ('駕駛', 3331), ('造人', 3266), ('對', 3169), ('請', 3117), ('含', 3010), ('所有', 2978), ('重型', 2742), ('兩造', 2666), ('分許', 2662), ('本', 2456), ('汽車', 2451), ('其餘', 2407), ('強制', 2394), ('責任保險', 2359), ('新台幣', 2324), ('體傷', 2305), ('之', 2241), ('共計', 2239), ('萬元', 2219), ('調解', 2210), ('事件', 2206), ('一', 2176), ('二', 2173), ('民事', 2145), ('請求權', 2142), ('拋棄', 2141), ('費用', 2139), ('自小', 1934), ('他', 1879), ('及其', 1866), ('必要', 1848), ('路', 1846), ('一切', 1843), ('客車', 1757), ('追究', 1741), ('致聲', 1741), ('刑事責任', 1737), ('於', 1731), ('理賠金', 1724), ('醫療費', 1700), ('慰問金', 1698), ('三', 1526), ('雙方', 1521), ('分', 1479), ('整', 1417), ('普通', 1378), ('車費', 1271), ('付清', 1251), ('本人', 1231), ('前', 1231), ('均', 1143), ('另', 1138), ('部分', 1133), ('當場', 1065), ('自用', 1064), ('小客車', 1055), ('傷', 1047), ('立據', 1043), ('人體', 1038), ('台南市', 979), ('約', 937), ('定於', 927), ('人修', 882), ('臺南', 869), ('臺灣', 842), ('無體傷', 829), ('地方法院', 828), ('受傷', 796), ('路段', 777), ('貳', 772), ('致', 770), ('人願', 764), ('檢察署', 752), ('自行處理', 748), ('及', 659), ('自行', 659), ('陳', 630), ('金額', 613), ('房屋', 601), ('搭載', 592), ('號前', 585), ('至', 565), ('向', 563), ('申領', 555), ('上', 548), ('巷', 545), ('開', 529), ('公園路', 522), ('方式', 520), ('月', 505), ('聲', 488), ('年', 485), ('付予', 470), ('轉介', 461), ('元整', 455), ('有', 453), ('給', 453), ('其', 449), ('小', 439), ('未', 435), ('捌', 431), ('當事人', 428), ('西門', 422), ('因', 419), ('壹萬', 412), ('經', 412), ('匯款', 407), ('無車損', 387), ('街巷', 386), ('公園', 383), ('黃', 375), ('上開', 375), ('四', 374), ('以', 365), ('由', 363), ('帳號', 361), ('為', 355), ('北路', 354), ('後', 345), ('壹', 339), ('仟', 322), ('長榮', 322), ('開元', 322), ('現金', 320), ('車輛', 316), ('告訴', 315), ('賢路', 315), ('就', 309), ('和', 308), ('南路', 308), ('指稱', 305), ('壹拾', 303), ('元', 302), ('土地', 301), ('戶名', 293), ('海安', 293), ('許', 289), ('貨車', 288), ('貳仟', 288), ('各項', 284), ('中', 283), ('修', 280), ('案經', 279), ('前將', 277), ('中華', 273), ('自', 271), ('表示', 270), ('文', 269), ('全部', 268), ('有限公司', 265), ('起', 262), ('區', 261), ('成功', 260), ('並', 260), ('二段', 259), ('處', 257), ('輕型機車', 249), ('分期', 249), ('人傷', 247), ('件', 247), ('巷號', 247), ('立帳', 244), ('街', 243), ('每月', 237), ('到期', 237), ('路號', 236), ('拾', 236), ('和解', 236), ('視為', 234), ('北門', 232), ('明細', 230), ('三段', 226), ('付款', 225), ('文成', 224), ('參', 211), ('已', 211), ('等', 209), ('約定', 206), ('分行', 206), ('郵局', 206), ('車號', 203), ('伍仟元整', 199), ('東路', 198), ('委員會', 197), ('登記', 196), ('仟元整', 196), ('止', 196), ('萬', 194), ('雙方同意', 194), ('台幣', 193), ('北安路', 193), ('銀行', 193), ('借款', 193), ('係', 192), ('營業', 191), ('建物', 190), ('台南', 190), ('一段', 190), ('如', 189), ('歸由聲', 188), ('陸仟元整', 187), ('所', 186), ('請求', 184), ('路巷', 184), ('不在', 183), ('東豐', 182), ('時', 181), ('申請', 181), ('予聲', 181), ('中西區', 180), ('腳踏車', 180), ('永康', 176), ('行經', 175), ('賠償', 173), ('即', 173), ('公司', 171), ('段', 170), ('大興', 170), ('地號', 169), ('巷弄', 169), ('玖', 168), ('新臺幣', 167), ('機構', 166), ('返還', 163), ('租金', 163), ('支付', 161), ('四段', 161), ('傷害', 161), ('期間', 159), ('互不', 159), ('年度', 158), ('租賃', 157), ('第號', 154), ('帳戶', 154), ('內', 154), ('日', 152), ('該', 152), ('工程', 151), ('樓', 148), ('造成', 147), ('清償', 147), ('和緯路', 146), ('損害賠償', 145), ('附近', 144), ('糾紛', 144), ('後方', 143), ('一期', 143), ('安南', 141), ('修車', 141), ('履行', 140), ('損失', 134), ('間', 134), ('局號', 134), ('付現金', 133), ('壹仟', 132), ('指定', 132), ('現', 132), ('列', 132), ('新', 131), ('匯入', 131), ('積欠', 130), ('不再', 129), ('萬伍', 127), ('無條件', 126), ('以上', 126), ('林森', 125), ('臨安', 124), ('客貨車', 124), ('而', 122), ('迄今', 121), ('行人', 121), ('購買', 120), ('偵辦', 120), ('求償', 119), ('案', 119), ('負擔', 119), ('二人', 119), ('本件經', 119), ('其中', 118), ('歸', 118), ('伍拾', 118), ('相互', 117), ('撤回', 117), ('漏水', 116), ('買賣', 116), ('騎', 116), ('連帶', 115), ('各', 114), ('交付', 113), ('承租', 112), ('又', 112), ('股份', 111), ('緯路', 111), ('大', 111), ('下同', 111), ('撞', 109), ('致對', 109), ('尚未', 108), ('死亡', 107), ('提出', 107), ('使用', 106), ('街號', 105), ('東區', 105), ('金融機構', 104), ('處理', 102), ('未付', 102), ('損', 102), ('拾伍', 101), ('前給', 100), ('乘車', 100), ('共', 100), ('完畢', 99), ('參拾', 97), ('華北', 97), ('支票', 97), ('北園', 96), ('款', 96), ('號樓', 96), ('北街', 95), ('提告', 94), ('予對', 94), ('伍仟元', 94), ('附件', 94), ('第人', 93), ('參仟元整', 93), ('刑事', 92), ('時分', 92), ('現場', 92), ('一路', 89), ('偵字', 89), ('歿', 88), ('將上', 87), ('參萬', 87), ('壹期', 86), ('無法', 86), ('押金', 85), ('致對造', 85), ('伍佰元整', 85), ('每期', 85), ('成立', 84), ('願', 84), ('五段', 84), ('分別', 84), ('契約', 83), ('所有權', 83), ('由聲', 83), ('移轉', 82), ('本票', 82), ('的', 81), ('參仟', 81), ('緯', 81), ('惟', 81), ('債權', 80), ('亦', 80), ('勝利路', 80), ('整予', 80), ('投資', 79), ('本案', 79), ('車車', 78), ('搬遷', 78), ('肆', 76), ('還款', 76), ('育德路', 75), ('權', 75), ('損害', 75), ('到', 75), ('付款日', 74), ('範圍', 74), ('收取', 74), ('月租金', 74), ('毆打', 74), ('遭', 73), ('欲', 73), ('人林', 73), ('日為', 73), ('受損', 72), ('並於', 71), ('路處', 71), ('渠', 71), ('再', 71), ('行駛', 71), ('挫傷', 70), ('面額', 70), ('債務', 70), ('本會', 70), ('柒', 69), ('偵查', 69), ('且', 69), ('屆期', 69), ('北成路', 68), ('二路', 68), ('段號', 67), ('向聲', 67), ('權利', 67), ('忠義', 67), ('車', 67), ('拾元', 67), ('租賃契約', 66), ('碰撞', 66), ('民德', 66), ('受', 65), ('物品', 65), ('大武', 65), ('位於', 64), ('將', 64), ('肆仟元整', 63), ('終止', 63), ('發現', 63), ('北', 63), ('辦理', 62), ('楊', 62), ('主張', 62), ('毀損', 62), ('騰空', 61), ('卻', 61), ('三路', 61), ('先至', 61), ('損壞', 61), ('問題', 60), ('伍萬', 60), ('故', 60), ('不動產', 60), ('應', 60), ('對面', 60), ('南區', 60), ('爭議', 60), ('被', 59), ('涉嫌', 59), ('年間', 59), ('人均', 59), ('門牌', 59), ('票號', 58), ('下', 58), ('新台幣伍', 58), ('安平', 58), ('擦', 58), ('系爭', 57), ('車道', 57), ('公里', 57), ('陸佰元整', 57), ('要', 57), ('大樓', 57), ('金華', 57), ('號重', 56), ('租期', 56), ('住處', 56), ('不慎', 56), ('導致', 56), ('五', 56), ('武聖', 56), ('沿', 55), ('經聲', 55), ('為止', 54), ('致生', 54), ('用', 54), ('款項', 54), ('弄', 53), ('住家', 53), ('金', 53), ('嗣', 53), ('佰', 53), ('取得', 53), ('應於', 52), ('地', 52), ('同', 52), ('契約書', 51), ('詎', 51), ('經營', 51), ('南街', 51), ('曾', 51), ('租約', 51), ('要求', 51), ('工作', 51), ('嗣經', 51), ('台', 50), ('回', 50), ('醫院', 50), ('委託', 50), ('廢棄物', 50), ('人人', 50), ('之號', 49), ('張', 49), ('里', 49), ('發票', 49), ('號之', 49), ('皆', 49), ('實踐', 49), ('日期', 49), ('坐落', 48), ('惟對', 48), ('伍', 47), ('骨折', 47), ('一街', 47), ('陸續', 47), ('至本會', 47), ('細故', 46), ('與育德', 46), ('居住', 46), ('徒手', 46), ('各自', 46), ('名義', 46), ('但', 46), ('長', 46), ('夫妻', 46), ('道路', 46), ('未經', 46), ('簽立', 45), ('牆壁', 45), ('擔保', 45), ('你', 45), ('前鋒', 45), ('育德', 45), ('價金', 44), ('簽訂', 44), ('繳納', 44), ('陸仟', 44), ('建號', 44), ('肆萬伍', 44), ('新台幣陸', 44), ('關係', 44), ('角', 44), ('當日', 44), ('其他', 43), ('巷處', 43), ('停車場', 43), ('整給', 43), ('遺留', 43), ('以下', 43), ('商業銀行', 43), ('喪葬費', 43), ('予', 43), ('爭執', 42), ('頭部', 42), ('區長', 42), ('參萬伍', 42), ('修繕', 42), ('已經', 42), ('餘款', 42), ('陸仟元', 42), ('中華路', 42), ('或', 41), ('事後', 41), ('過失傷害', 41), ('修復', 41), ('發生爭執', 41), ('遂', 41), ('第', 40), ('會', 40), ('橋', 40), ('南園', 40), ('名下', 40), ('詳如', 40), ('原', 40), ('李', 40), ('中正', 40), ('午時', 39), ('停車', 39), ('過戶', 39), ('撞擊', 39), ('除', 39), ('文賢', 39), ('因此', 39), ('提供', 39), ('負責', 39), ('因而', 39), ('開南', 39), ('利息', 39), ('共同', 39), ('北成', 39), ('避不見面', 38), ('立', 38), ('西華', 38), ('原因', 38), ('作為', 38), ('嫌', 38), ('醫療', 38), ('手機', 38), ('無', 38), ('北安', 38), ('肆仟', 38), ('從', 38), ('空白', 38), ('互相', 38), ('月份', 38), ('任由', 38), ('下稱', 38), ('兌現', 38), ('完成', 38), ('本會聲', 37), ('路邊', 37), ('肆拾', 37), ('內容', 37), ('所載', 37), ('身體', 37), ('合意', 37), ('弄號', 37), ('復', 37), ('分配', 37), ('晚上', 37), ('貸款', 37), ('林', 37), ('進行', 36), ('西側', 36), ('承攬', 36), ('肇事', 36), ('大客車', 36), ('管理', 36), ('趙', 36), ('肆萬', 36), ('讓', 35), ('自強', 35), ('交通', 35), ('詐欺', 35), ('第三', 35), ('蔡', 35), ('重', 35), ('是', 34), ('父親', 34), ('事故', 34), ('相關', 34), ('壹佰', 34), ('尚有', 34), ('合約', 34), ('鍾', 34), ('繼承人', 34), ('施工', 34), ('公尺', 34), ('稱', 34), ('停放', 34), ('同時', 34), ('事宜', 34), ('本件', 34), ('高雄市', 34), ('責任', 34), ('王', 34), ('臺南縣', 33), ('開立', 33), ('臺', 33), ('依', 33), ('車牌號碼', 33), ('雲', 32), ('貨款', 32), ('拾陸', 32), ('信託', 32), ('左', 32), ('國際', 32), ('旁', 32), ('柒仟元整', 32), ('肆佰', 32), ('仍', 32), ('需', 32), ('該車', 32), ('電動', 32), ('之列外', 32), ('拆除', 31), ('街處', 31), ('侵占', 31), ('前置', 31), ('依約', 31), ('永康市', 31), ('自行車', 31), ('停', 31), ('負責人', 31), ('中國', 31), ('竟', 31), ('瑜', 30), ('照顧', 30), ('至聲', 30), ('女兒', 30), ('上午', 30), ('賢', 30), ('仁德', 30), ('天花板', 30), ('將其', 30), ('交通事故', 30), ('前往', 30), ('友人', 30), ('北側', 30), ('伍仟', 30), ('會款', 30), ('並簽立', 30), ('因對', 30), ('擦傷', 30), ('陸萬', 30), ('人將', 30), ('名譽', 29), ('下午', 29), ('南', 29), ('對於', 29), ('行車', 29), ('業已', 29), ('路巷號', 29), ('修理', 29), ('面積', 29), ('國道', 29), ('捌佰元整', 29), ('西路', 29), ('安和路', 29), ('罪嫌', 29), ('本金', 29), ('計程車', 29), ('寬', 29), ('健康', 29), ('住宅', 29), ('施作', 29), ('慰撫', 28), ('電費', 28), ('南向', 28), ('妨害', 28), ('協議書', 28), ('平方公尺', 28), ('仲介', 28), ('復原', 28), ('另案', 28), ('離婚', 28), ('告知', 28), ('道', 28), ('鑑定', 28), ('三個', 27), ('出租', 27), ('併', 27), ('工程款', 27), ('部份', 27), ('育成', 27), ('因認', 27), ('車門', 27), ('辱罵', 27), ('字', 27), ('甲方', 27), ('塗銷', 27), ('政府', 27), ('資料', 27), ('倒地', 27), ('號處', 27), ('自年', 27), ('致車損', 27), ('生活費', 26), ('人前', 26), ('高雄', 26), ('伍佰元', 26), ('拍賣', 26), ('擔任', 26), ('基於', 26), ('客運', 26), ('參仟元', 26), ('自己', 26), ('網站', 26), ('屋頂', 26), ('中山路', 26), ('國華', 26), ('注意', 26), ('恐嚇', 26), ('貳佰元整', 26), ('書', 25), ('情形', 25), ('情事', 25), ('持', 25), ('北段', 25), ('參加', 25), ('左側', 25), ('與富', 25), ('互毆', 25), ('育賢街', 25), ('他人', 25), ('之後', 25), ('到期日', 25), ('南側', 25), ('地板', 25), ('對方', 25), ('瑄', 25), ('先生', 25), ('成', 25), ('出售', 25), ('北忠街', 25), ('錯誤', 25), ('若', 25), ('五街', 25), ('外', 25), ('大港', 25), ('左右', 25), ('歸還', 25), ('飼養', 24), ('陷於', 24), ('合作金庫', 24), ('延平', 24), ('折抵', 24), ('鄰居', 24), ('退還', 24), ('前以', 24), ('不向', 24), ('次', 24), ('提起', 24), ('認為', 24), ('打', 24), ('付新', 24), ('號車', 24), ('核交字', 24), ('誠', 24), ('住', 24), ('解除', 24), ('美', 24), ('柒仟', 24), ('民族', 24), ('企業', 24), ('等語', 23), ('房租', 23), ('頂樓', 23), ('簽約', 23), ('正覺', 23), ('乙', 23), ('存摺', 23), ('任何', 23), ('中正路', 23), ('遭對', 23), ('合夥', 23), ('店', 23), ('晚間', 23), ('視同', 23), ('文賢二街', 23), ('上述', 23), ('前方', 23), ('並將', 23), ('住戶', 23), ('人時', 22), ('管理費', 22), ('修理費', 22), ('償還', 22), ('臉部', 22), ('國泰', 22), ('商品', 22), ('肆仟元', 22), ('第一', 22), ('屋水', 22), ('丙', 22), ('共有', 22), ('男女朋友', 22), ('傷車損', 22), ('台灣', 22), ('影響', 22), ('設定', 21), ('可', 21), ('與其', 21), ('並約', 21), ('電話', 21), ('個', 21), ('家庭', 21), ('人車', 21), ('人王', 21), ('人並', 21), ('時許', 21), ('調解機制', 21), ('裝潢', 21), ('不滿', 21), ('右', 21), ('我', 21), ('安明路', 21), ('交', 21), ('並未', 21), ('無擔保', 21), ('扣抵', 21), ('社區', 21), ('路旁', 20), ('頸部', 20), ('加油站', 20), ('多處', 20), ('之上', 20), ('因聲', 20), ('興建', 20), ('府', 20), ('精神', 20), ('電動車', 20), ('物', 20), ('西', 20), ('已於', 20), ('以後', 20), ('黃柏', 20), ('員工', 20), ('南縣', 20), ('以新', 20), ('訂金', 20), ('兩', 20), ('找', 20), ('客戶', 20), ('拉扯', 20), ('陸', 20), ('電梯', 20), ('現因', 20), ('姓名', 20), ('無人', 20), ('犯意', 20), ('右手', 20), ('補償', 20), ('新市區', 20), ('某日', 20), ('每', 20), ('多次', 20), ('願意', 20), ('珊', 19), ('凌晨時分', 19), ('妤', 19), ('出入', 19), ('款壹拾', 19), ('設備', 19), ('怡', 19), ('民權路', 19), ('一張', 19), ('該屋', 19), ('歐陽', 19), ('人張', 19), ('私立', 19), ('分期付款', 19), ('共新', 19), ('康樂', 19), ('市北區', 19), ('外傷', 19), ('肆佰元整', 19), ('塑膠', 19), ('保管', 19), ('屋主', 19), ('受騙', 19), ('不詳', 19), ('維修', 19), ('等等', 19), ('竊取', 19), ('戴', 19), ('人施', 19), ('目前', 19), ('浴室', 19), ('偽造', 19), ('璇', 19), ('電腦', 19), ('檢察官', 19), ('離開', 19), ('破壞', 19), ('一號', 18), ('曨', 18), ('存款', 18), ('行', 18), ('離去', 18), ('生活', 18), ('案件', 18), ('大學', 18), ('成傷', 18), ('王啟', 18), ('三方', 18), ('印章', 18), ('傷聲', 18), ('繼承', 18), ('地址', 18), ('地上', 18), ('先', 18), ('昇', 18), ('進入', 18), ('走時', 18), ('侵害', 18), ('佯稱', 18), ('陸拾', 18), ('女', 18), ('嗣後', 18), ('透過', 18), ('確認', 18), ('配偶', 18), ('本次', 18), ('文書', 18), ('歸仁', 18), ('擅自', 18), ('綺', 18), ('嚴重', 18), ('派出所', 18), ('拿', 18), ('屋內', 18), ('致其', 18), ('揭', 18), ('去', 18), ('翁', 18), ('車牌', 18), ('號旁', 18), ('同年', 18), ('營造', 18), ('開設', 18), ('銷售', 18), ('酒後', 17), ('前路', 17), ('了', 17), ('原名', 17), ('冷氣', 17), ('鄭', 17), ('伍元', 17), ('母親', 17), ('法院', 17), ('詳', 17), ('東興', 17), ('被告', 17), ('增值稅', 17), ('崇德', 17), ('尾款', 17), ('出面', 17), ('都', 17), ('建設', 17), ('人謝', 17), ('入', 17), ('中山南路', 17), ('瑕疵', 17), ('安', 17), ('信用卡', 17), ('侵入', 17), ('扶養費', 17), ('協商', 17), ('涉有', 17), ('水電', 17), ('一樓', 17), ('核退', 17), ('參拾伍', 17), ('右側', 17), ('拒', 17), ('彰化', 17), ('美惠', 17), ('實業', 17), ('直行', 17), ('當時', 17), ('協議', 17), ('狀', 17), ('同向', 16), ('二街', 16), ('逃逸', 16), ('光', 16), ('東側', 16), ('明知', 16), ('出資', 16), ('樺', 16), ('涉犯', 16), ('始知', 16), ('與育', 16), ('利用', 16), ('條件', 16), ('期', 16), ('餐廳', 16), ('橋下', 16), ('駕車', 16), ('地下室', 16), ('薪資', 16), ('任意', 16), ('國', 16), ('證明', 16), ('蘇', 16), ('方向', 16), ('排水管', 16), ('男子', 16), ('坪', 16), ('拾肆', 16), ('聯絡', 16), ('廣告', 16), ('玉山', 16), ('先行', 16), ('租屋', 16), ('珮', 16), ('抵押權', 16), ('中心', 16), ('合計', 16), ('坐落於', 16), ('命令', 16), ('小北', 16), ('並經', 16), ('鐵皮', 16), ('罪', 16), ('與育德路', 16), ('繳交', 15), ('適', 15), ('千元', 15), ('北華街', 15), ('工地', 15), ('執行', 15), ('三人', 15), ('水管', 15), ('則', 15), ('金錢', 15), ('壹佰元整', 15), ('尚', 15), ('搬離', 15), ('同段', 15), ('簽發', 15), ('交叉', 15), ('上址', 15), ('送', 15), ('甲', 15), ('業務', 15), ('編號', 15), ('僅', 15), ('意圖', 15), ('伊', 15), ('保存', 15), ('整修', 15), ('鄉', 15), ('參佰元整', 15), ('破裂', 15), ('致受', 15), ('美金', 15), ('淑', 15), ('遺產', 15), ('寮', 15), ('也', 15), ('地下', 15), ('將聲', 15), ('使', 15), ('一紙', 15), ('協調', 15), ('滲水', 15), ('丁方', 15), ('房地', 14), ('才', 14), ('仁愛', 14), ('稅捐', 14), ('退票', 14), ('好', 14), ('食品', 14), ('按', 14), ('大型', 14), ('財團法人', 14), ('線', 14), ('款壹', 14), ('造人林', 14), ('段巷', 14), ('大陸', 14), ('基金', 14), ('供', 14), ('公路', 14), ('文件', 14), ('網路', 14), ('幹', 14), ('佔用', 14), ('文元', 14), ('李俊', 14), ('地點', 14), ('市場', 14), ('萱', 14), ('同事', 14), ('不依', 14), ('債務糾紛', 14), ('代辦費', 14), ('規費', 14), ('鐵皮屋', 14), ('對聲', 14), ('繳付', 14), ('跌倒', 14), ('參佰', 14), ('三街', 14), ('款伍', 14), ('特定', 14), ('大橋', 14), ('出手', 14), ('管委會', 14), ('契稅', 14), ('人員', 14), ('匝道', 14), ('真', 14), ('德三街', 14), ('案外人', 13), ('途經', 13), ('育德三街', 13), ('下車', 13), ('經過', 13), ('門', 13), ('得', 13), ('言語', 13), ('人許', 13), ('左轉', 13), ('押租', 13), ('富台', 13), ('訂購', 13), ('今', 13), ('追撞', 13), ('陸佰元', 13), ('紅燈', 13), ('占用', 13), ('地面', 13), ('騎樓', 13), ('鎮', 13), ('掉落', 13), ('至今', 13), ('警察局', 13), ('授權', 13), ('月初', 13), ('狀況', 13), ('萬陸仟', 13), ('招牌', 13), ('紛爭', 13), ('繳清', 13), ('佑', 13), ('柒萬伍', 13), ('應有', 13), ('郭', 13), ('款肆', 13), ('把', 13), ('料', 13), ('清', 13), ('地目', 13), ('攤位', 13), ('財產', 13), ('零', 13), ('長勝', 13), ('人行', 13), ('指訴', 13), ('統一', 13), ('始', 13), ('街路', 13), ('變更', 13), ('強制執行', 13), ('之聲', 13), ('火車站', 13), ('中央', 13), ('需要', 13), ('世華', 13), ('以供', 13), ('繼續', 13), ('圍牆', 13), ('不當', 13), ('奕', 13), ('開啟', 13), ('除聲', 13), ('訴訟', 13), ('大洲', 13), ('達成', 13), ('以為', 13), ('舖', 13), ('乃', 13), ('收受', 13), ('業經', 13), ('邀約', 13), ('未還', 13), ('左手', 13), ('店面', 13), ('自稱', 13), ('站', 13), ('互助會', 12), ('立賢', 12), ('扶養', 12), ('錢', 12), ('安路', 12), ('邱', 12), ('操作', 12), ('人賴', 12), ('看', 12), ('妨害自由', 12), ('攤還', 12), ('岔路', 12), ('身分證', 12), ('大同路', 12), ('服務', 12), ('希望', 12), ('記載', 12), ('觀海', 12), ('馬', 12), ('朋友', 12), ('交予', 12), ('借據', 12), ('保證', 12), ('屋', 12), ('產生', 12), ('整及', 12), ('現象', 12), ('鐵架', 12), ('大潤發', 12), ('朝興', 12), ('判決', 12), ('載', 12), ('萬零', 12), ('抵押', 12), ('消費', 12), ('停放在', 12), ('人吳', 12), ('新化', 12), ('營區', 12), ('事業', 12), ('家中', 12), ('傷均', 12), ('總價', 12), ('嘉', 12), ('訂立', 12), ('誤會', 12), ('借貸', 12), ('說', 12), ('過程', 12), ('劉永信', 12), ('高', 12), ('噪音', 12), ('和田', 12), ('北向', 12), ('不法', 12), ('適聲', 12), ('路面', 12), ('租', 12), ('刊登', 12), ('出血', 12), ('做', 12), ('公分', 12), ('月底', 12), ('違反', 12), ('現就', 12), ('精忠', 12), ('住院', 12), ('交往', 12), ('因上', 12), ('民生路', 12), ('租車', 12), ('正本', 12), ('新建', 12), ('永華', 12), ('到場', 12), ('店內', 12), ('永福路', 12), ('便', 12), ('林家', 12), ('因故', 12), ('型', 12), ('因未', 12), ('肢體衝突', 12), ('雖', 12), ('管路', 12), ('嘉義縣', 11), ('門前', 11), ('買方', 11), ('代號', 11), ('無異議', 11), ('長期', 11), ('鄰房', 11), ('人間', 11), ('肆元整', 11), ('後來', 11), ('該路', 11), ('區安明路', 11), ('完工', 11), ('台北', 11), ('男', 11), ('房子', 11), ('機車行', 11), ('離職', 11), ('沒有', 11), ('側門', 11), ('竟未', 11), ('主管機關', 11), ('現已', 11), ('已將', 11), ('鑰匙', 11), ('借', 11), ('更換', 11), ('連帶保證', 11), ('南北', 11), ('不願', 11), ('凌晨', 11), ('開支票', 11), ('一棟', 11), ('外側', 11), ('本區', 11), ('清理', 11), ('隔壁', 11), ('冰箱', 11), ('華南', 11), ('柒萬', 11), ('最後', 11), ('圓環', 11), ('京城', 11), ('橋頭', 11), ('富', 11), ('文賢三街', 11), ('土地銀行', 11), ('正在', 11), ('月間', 11), ('持有', 11), ('前述', 11), ('包包', 11), ('及聲', 11), ('內側', 11), ('郵政', 11), ('作', 11), ('殘廢', 11), ('截至', 11), ('特別', 11), ('裕民', 11), ('厝', 11), ('企業社', 11), ('室內', 11), ('理賠', 11), ('已給', 11), ('麵', 11), ('衝突', 11), ('責任險', 11), ('出', 11), ('西和路', 11), ('貨品', 11), ('第條', 11), ('已付', 11), ('萬柒仟', 11), ('現聲', 11), ('上網', 11), ('睿', 11), ('東光', 11), ('黃金', 11), ('送醫', 11), ('娥', 11), ('損人傷', 11), ('給予', 11), ('兵配', 11), ('善化', 11), ('黃玉', 11), ('閃避不及', 11), ('請人', 11), ('鈍', 11), ('駛來', 11), ('人聲', 11), ('伶', 11), ('摔', 11), ('無損', 11), ('會首', 11), ('撕裂', 11), ('報警', 11), ('在案', 11), ('大道', 11), ('拒絕', 10), ('衍生', 10), ('二分之一', 10), ('事項', 10), ('承', 10), ('日止', 10), ('住所', 10), ('子女', 10), ('傷及', 10), ('行走', 10), ('不及', 10), ('積水', 10), ('通知', 10), ('乘客', 10), ('華東', 10), ('娘', 10), ('文賢二', 10), ('達', 10), ('現居', 10), ('鐵門', 10), ('進而', 10), ('凱翔', 10), ('胸部', 10), ('員林', 10), ('委任', 10), ('一次', 10), ('點交', 10), ('造就', 10), ('別', 10), ('催討', 10), ('貨運', 10), ('育有', 10), ('排水溝', 10), ('何', 10), ('販賣', 10), ('惟聲', 10), ('俟', 10), ('異議', 10), ('並由', 10), ('字號', 10), ('顏', 10), ('介紹', 10), ('大和路', 10), ('科技', 10), ('保險', 10), ('任職', 10), ('二樓', 10), ('往南方', 10), ('踹', 10), ('著作', 10), ('救護', 10), ('地政事務', 10), ('架設', 10), ('開房', 10), ('安全', 10), ('詐欺罪', 10), ('柒佰', 10), ('費', 10), ('心生', 10), ('申辦', 10), ('北忠', 10), ('信用', 10), ('門診', 10), ('柒佰元整', 10), ('廁所', 10), ('潘', 10), ('搭建', 10), ('工業', 10), ('無名', 10), ('無故', 10), ('中午', 10), ('台新', 10), ('明', 10), ('另聲', 10), ('空地', 10), ('查看', 10), ('高幹', 10), ('琇', 10), ('通路', 10), ('收到', 10), ('柒元整', 10), ('巷之號', 10), ('堆高機', 10), ('行東', 10), ('多', 10), ('街段', 10), ('呈', 10), ('其子', 10), ('照片', 10), ('贈與', 10), ('露天', 10), ('爭吵', 10), ('發生衝突', 10), ('張貼', 10), ('不堪', 10), ('夫妻關係', 10), ('民', 10), ('理論', 10), ('實際', 10), ('夥同', 10), ('將該', 10), ('生', 10), ('給聲', 10), ('提示', 10), ('開始', 10), ('置於', 10), ('錦', 10), ('乙方', 10), ('一台', 10), ('行庫', 10), ('二期', 10), ('分局', 10), ('安全帽', 9), ('啟能', 9), ('見面', 9), ('壹台', 9), ('簽署', 9), ('宸', 9), ('麻豆', 9), ('羅', 9), ('聯邦', 9), ('來', 9), ('廠', 9), ('潘林', 9), ('云云', 9), ('地下道', 9), ('房間', 9), ('同意書', 9), ('早上', 9), ('疏於', 9), ('起至', 9), ('大聲', 9), ('捌佰元', 9), ('經提告', 9), ('損及', 9), ('往', 9), ('參元整', 9), ('建築', 9), ('號輕', 9), ('貳佰肆', 9), ('鴻', 9), ('中旬', 9), ('無訛', 9), ('多年', 9), ('咬傷', 9), ('絕無', 9), ('房屋買賣', 9), ('鐵', 9), ('棟', 9), ('箱', 9), ('代墊', 9), ('賠償金', 9), ('違約金', 9), ('廚房', 9), ('陸元整', 9), ('右轉', 9), ('之際', 9), ('時間', 9), ('主因', 9), ('總計', 9), ('周嘉誼', 9), ('只', 9), ('閃避', 9), ('育德路號', 9), ('不得', 9), ('人受', 9), ('另於', 9), ('科技股份', 9), ('見狀', 9), ('人家', 9), ('崑山', 9), ('視該', 9), ('人始', 9), ('王美珍', 9), ('越界', 9), ('晴', 9), ('提前', 9), ('續租', 9), ('帶', 9), ('規定', 9), ('行使', 9), ('生意', 9), ('隔鄰', 9), ('和解書', 9), ('總金額', 9), ('確定', 9), ('無權', 9), ('共分', 9), ('王雨利', 9), ('認識', 9), ('即聲', 9), ('龜裂', 9), ('北上', 9), ('一年', 9), ('得知', 9), ('人稱', 9), ('李書儂', 9), ('清潔', 9), ('人蘇', 9), ('毗鄰', 9), ('號碼', 9), ('委員', 9), ('一部', 9), ('客廳', 9), ('不足', 9), ('建平', 9), ('吳', 9), ('薛', 9), ('車前', 9), ('台線', 9), ('祐', 9), ('華', 9), ('經對', 9), ('二張', 9), ('價值', 9), ('日前', 9), ('二筆', 9), ('由南向北', 9), ('竟於', 9), ('車體', 9), ('裕', 9), ('兄弟', 9), ('款陸', 9), ('解約', 9), ('附設', 9), ('該店', 9), ('據', 9), ('同額', 9), ('柒仟元', 9), ('辦公室', 9), ('裝修', 9), ('裁定', 9), ('遷移', 9), ('則由', 9), ('臺灣銀行', 9), ('占有', 9), ('年籍', 9), ('砸傷', 9), ('叡', 8), ('眼鏡', 8), ('陸萬伍', 8), ('合作社', 8), ('曹晉德', 8), ('狀所', 8), ('夜市', 8), ('理由', 8), ('引車', 8), ('證明書', 8), ('廠牌', 8), ('摔倒', 8), ('平房', 8), ('之台', 8), ('水電費', 8), ('搬', 8), ('鑑界', 8), ('永樂', 8), ('南科', 8), ('上班', 8), ('區海佃', 8), ('人須', 8), ('簡', 8), ('彼此', 8), ('柒拾', 8), ('甄', 8), ('搭', 8), ('瓦斯', 8), ('雅', 8), ('資金', 8), ('名', 8), ('並向', 8), ('人莊', 8), ('一批', 8), ('屋後', 8), ('陸佰陸拾', 8), ('本息', 8), ('放置', 8), ('秋', 8), ('人為', 8), ('華興', 8), ('此事', 8), ('排水', 8), ('言明', 8), ('南下', 8), ('佔', 8), ('交還', 8), ('還清', 8), ('砂石', 8), ('巷道', 8), ('息事寧人', 8), ('冷氣機', 8), ('同日', 8), ('收入', 8), ('下雨', 8), ('互', 8), ('奇美', 8), ('清秀', 8), ('吉', 8), ('磁磚', 8), ('人陳彥', 8), ('飛落', 8), ('李文', 8), ('各分', 8), ('人及', 8), ('致傷', 8), ('新興', 8), ('滑倒', 8), ('簡字', 8), ('小孩', 8), ('若有', 8), ('價款', 8), ('萬柒仟元整', 8), ('機器', 8), ('待', 8), ('翁靖雅', 8), ('西往東', 8), ('市長', 8), ('補償金', 8), ('社', 8), ('未能', 8), ('巷前', 8), ('未處理', 8), ('謝錦珍', 8), ('路由', 8), ('吳國', 8), ('颱風', 8), ('三期', 8), ('剩餘', 8), ('狗', 8), ('日經', 8), ('將系爭', 8), ('區府', 8), ('裂縫', 8), ('賢北', 8), ('移除', 8), ('財務', 8), ('謝', 8), ('烤', 8), ('點', 8), ('違規', 8), ('雙側', 8), ('之前', 8), ('千興', 8), ('治療', 8), ('室', 8), ('造人張', 8), ('環境', 8), ('欣', 8), ('水泥', 8), ('反映', 8), ('車身', 8), ('看護', 8), ('公共', 8), ('隨即', 8), ('義務', 8), ('西向東', 8), ('局', 8), ('屆時', 8), ('報案', 8), ('拆屋', 8), ('壹元', 8), ('安寧', 8), ('分公司', 8), ('關廟', 8), ('前開', 8), ('日後', 8), ('等物', 8), ('淑芳', 8), ('陳家', 8), ('使聲', 8), ('脖子', 8), ('機械', 8), ('還地', 8), ('工資', 8), ('搬走', 8), ('陸萬陸', 8), ('及同', 8), ('有人', 8), ('不明', 8), ('權益', 8), ('區安', 8), ('接受', 8), ('玫', 8), ('通行', 8), ('謊稱', 8), ('勝利', 8), ('李明', 8), ('市', 8), ('樓下', 8), ('樓上', 8), ('材料', 8), ('李嘉方', 8), ('水槽', 8), ('結婚', 8), ('門牌號碼', 8), ('陞', 8), ('協助', 8), ('投保', 8), ('德街', 8), ('則約', 7), ('認', 7), ('第號案', 7), ('山區', 7), ('遊戲', 7), ('台語', 7), ('網寮', 7), ('王家', 7), ('何堪', 7), ('美麗', 7), ('公然侮辱', 7), ('被害人', 7), ('隻', 7), ('東', 7), ('海成', 7), ('抓傷', 7), ('能', 7), ('檢查', 7), ('此', 7), ('搬出', 7), ('讓渡', 7), ('六甲', 7), ('乙事', 7), ('道歉', 7), ('性', 7), ('堂', 7), ('不疑', 7), ('路時', 7), ('區甲頂', 7), ('鄔永強', 7), ('吳素', 7), ('起即', 7), ('診所', 7), ('車上', 7), ('數次', 7), ('惠', 7), ('防汛', 7), ('大灣', 7), ('正', 7), ('拖延', 7), ('上方', 7), ('美體', 7), ('小姐', 7), ('股東', 7), ('二車', 7), ('頂', 7), ('不能', 7), ('夫婦', 7), ('牆面', 7), ('一線', 7), ('法定繼承', 7), ('笑', 7), ('楊順國', 7), ('業務員', 7), ('賠付', 7), ('竊', 7), ('見', 7), ('一女', 7), ('消費者', 7), ('劉幸', 7), ('逸', 7), ('平日', 7), ('詐騙', 7), ('之父', 7), ('車行', 7), ('之子', 7), ('手臂', 7), ('莊', 7), ('等級', 7), ('國有財產', 7), ('至哲', 7), ('大門', 7), ('其父', 7), ('並已', 7), ('整之', 7), ('乘', 7), ('勛', 7), ('美玲', 7), ('保固', 7), ('李佳霖', 7), ('教育', 7), ('留有', 7), ('條例', 7), ('險', 7), ('國民', 7), ('引起', 7), ('提領', 7), ('處所', 7), ('人洪', 7), ('蔡秀霞', 7), ('處分', 7), ('丞', 7), ('鹽水', 7), ('蔡宗志', 7), ('碖', 7), ('長女', 7), ('水溝', 7), ('東門', 7), ('市區', 7), ('人馬', 7), ('人陳映', 7), ('補習班', 7), ('養護中心', 7), ('著作權', 7), ('東寧', 7), ('康茂富', 7), ('往北', 7), ('最大', 7), ('聯繫', 7), ('文字', 7), ('徐', 7), ('搭乘', 7), ('吳苡', 7), ('統編', 7), ('劉莊', 7), ('增建', 7), ('除上', 7), ('私下', 7), ('富邦', 7), ('走', 7), ('須', 7), ('周碧珠', 7), ('陸佰', 7), ('校區', 7), ('人應', 7), ('友愛', 7), ('因為', 7), ('遺失', 7), ('長子', 7), ('破損', 7), ('無蹤', 7), ('茲', 7), ('行動', 7), ('楠', 7), ('託', 7), ('不知', 7), ('太子', 7), ('人劉', 7), ('日起', 7), ('南康', 7), ('之責', 7), ('南線', 7), ('同居', 7), ('畏懼', 7), ('白色', 7), ('郭素芬', 7), ('屏', 7), ('肢體', 7), ('變賣', 7), ('廠商', 7), ('撞損', 7), ('未將', 7), ('鄉鎮', 7), ('兒子', 7), ('廠前', 7), ('置之不理', 7), ('如意', 7), ('撥打', 7), ('青年', 7), ('設計', 7), ('領取', 7), ('三號', 7), ('監視器', 7), ('相鄰', 7), ('設', 7), ('逾期', 7), ('中路', 7), ('改善', 7), ('高祖', 7), ('損均', 7), ('原為', 7), ('保安', 7), ('出現', 7), ('檢察', 7), ('亮', 7), ('濬', 7), ('翰', 7), ('故障', 7), ('在場', 7), ('葉', 7), ('加油', 7), ('郡', 7), ('僱於', 7), ('以致', 7), ('小腿', 7), ('宥', 7), ('正南', 7), ('疑似', 7), ('淇', 7), ('針對', 7), ('張奕勝', 7), ('返回', 7), ('未命名', 7), ('原諒', 7), ('金玉', 7), ('玉女', 7), ('學校', 7), ('遷出', 7), ('楊舒婷', 7), ('人以', 7), ('世雄', 7), ('號房', 7), ('硯', 7), ('七股', 7), ('彰化縣', 7), ('核定', 7), ('先後', 7), ('保養', 7), ('完全', 7), ('客', 7), ('銀', 7), ('格', 7), ('筆', 7), ('江龍', 7), ('其所', 7), ('外出', 7), ('昱', 7), ('禹', 7), ('賣方', 7), ('入己', 7), ('小狗', 7), ('頭皮', 7), ('販售', 7), ('加蓋', 6), ('除外', 6), ('不佳', 6), ('榮', 6), ('成大', 6), ('一筆', 6), ('小心', 6), ('絹', 6), ('三樓', 6), ('案經聲', 6), ('吳怡君', 6), ('臉書', 6), ('陽台', 6), ('唐婕容', 6), ('竊盜', 6), ('光裕', 6), ('所生', 6), ('傷害罪', 6), ('石春燕', 6), ('正興', 6), ('堆高', 6), ('三民', 6), ('衣服', 6), ('玻璃', 6), ('另行', 6), ('前來', 6), ('柯', 6), ('挫', 6), ('人葉', 6), ('行車執照', 6), ('兵工廠', 6), ('小東', 6), ('專任', 6), ('經由', 6), ('副', 6), ('霓', 6), ('保證金', 6), ('田', 6), ('訴字', 6), ('蘇靜瑜', 6), ('逕', 6), ('右膝', 6), ('門鎖', 6), ('李昀', 6), ('惇', 6), ('瑋', 6), ('冷飲店', 6), ('人羅珮菁', 6), ('吳南波', 6), ('連絡', 6), ('施', 6), ('證件', 6), ('巷路', 6), ('理會', 6), ('整外', 6), ('瑀', 6), ('系', 6), ('前後', 6), ('翔', 6), ('致使', 6), ('東門路', 6), ('體諒', 6), ('六合', 6), ('丟擲', 6), ('臺灣省', 6), ('綵', 6), ('相約', 6), ('芬', 6), ('蘋', 6), ('情況', 6), ('玉', 6), ('施慶隆', 6), ('入股', 6), ('育', 6), ('路上', 6), ('基地', 6), ('花園', 6), ('計新', 6), ('並以', 6), ('明慧', 6), ('林奕', 6), ('公司員工', 6), ('公開', 6), ('壹佰參拾', 6), ('新市鄉', 6), ('所致', 6), ('連續', 6), ('不予', 6), ('尚欠', 6), ('車子', 6), ('一件', 6), ('崇明', 6), ('砸毀', 6), ('體', 6), ('南市', 6), ('事', 6), ('穿越', 6), ('路燈', 6), ('說明', 6), ('不讓', 6), ('董事', 6), ('言詞', 6), ('黃昏', 6), ('背部', 6), ('普濟', 6), ('家', 6), ('仙女', 6), ('肆仟玖佰元整', 6), ('採取', 6), ('人黃怡婷', 6), ('放', 6), ('慈善事業', 6), ('叫', 6), ('收據', 6), ('丟棄', 6), ('參佰陸', 6), ('芯', 6), ('妘', 6), ('售予', 6), ('蔡婷薇', 6), ('閉鎖', 6), ('柒萬肆', 6), ('依安', 6), ('南興', 6), ('顱內', 6), ('污水', 6), ('通訊', 6), ('由東向西', 6), ('板', 6), ('西區', 6), ('姈', 6), ('迄', 6), ('救護車', 6), ('承認', 6), ('通運', 6), ('每個', 6), ('水塔', 6), ('調解書', 6), ('林清源', 6), ('正於', 6), ('葉靜', 6), ('京華', 6), ('特力屋', 6), ('應付', 6), ('鐵窗', 6), ('用地', 6), ('可能', 6), ('購得', 6), ('車頭', 6), ('代步車', 6), ('急救', 6), ('報酬', 6), ('起訴', 6), ('齊', 6), ('知', 6), ('措施', 6), ('怡婷', 6), ('乘坐', 6), ('血糖', 6), ('劉', 6), ('資融', 6), ('英', 6), ('偉仁', 6), ('北華', 6), ('地檢署', 6), ('儀', 6), ('人黃怡', 6), ('億', 6), ('腦震盪', 6), ('張芸珈', 6), ('人行道', 6), ('農會', 6), ('壁區', 6), ('文生', 6), ('剝落', 6), ('就體', 6), ('新光', 6), ('花', 6), ('借名', 6), ('系統', 6), ('銀行貸款', 6), ('澤', 6), ('許秀枝', 6), ('民生', 6), ('往西', 6), ('淹水', 6), ('期滿', 6), ('如盈', 6), ('定', 6), ('秋月', 6), ('郭政昕', 6), ('碧', 6), ('車庫', 6), ('設有', 6), ('設立', 6), ('果', 6), ('類別', 6), ('現與', 6), ('急需', 6), ('未果', 6), ('勞保', 6), ('腳', 6), ('由北', 6), ('飲料', 6), ('並在', 6), ('該處', 6), ('縣市', 6), ('結清', 6), ('張捷', 6), ('妏', 6), ('李佩芸', 6), ('雄', 6), ('卡', 6), ('獲', 6), ('渣打銀行', 6), ('參萬肆', 6), ('致黃', 6), ('基金會', 6), ('台北市', 6), ('黑色', 6), ('迄今已', 6), ('多萬元', 6), ('貳佰', 6), ('借用', 6), ('手', 6), ('下載', 6), ('埕', 6), ('欠款', 6), ('印鑑', 6), ('性骨折', 6), ('大雨', 6), ('詹孟軒', 6), ('設置', 6), ('人三人', 6), ('幼試', 6), ('綽號', 6), ('不同', 6), ('所示', 6), ('楊懿婷', 6), ('科目', 6), ('脫落', 6), ('項目', 6), ('足', 6), ('涂', 6), ('回家', 6), ('興南', 6), ('林奕寬', 6), ('管線', 6), ('用餐', 6), ('轉診', 6), ('變換', 6), ('車業', 6), ('直接', 6), ('六', 6), ('警方', 6), ('唐', 6), ('人尚', 6), ('扭打', 6), ('週轉', 6), ('孩子', 6), ('肆佰元', 6), ('法定', 6), ('淮', 6), ('零壹', 6), ('公同', 6), ('四分之一', 6), ('砸', 6), ('人江', 6), ('權狀', 6), ('物權', 6), ('號大', 6), ('留言', 6), ('致車', 6), ('活動中心', 6), ('合併', 6), ('租用', 6), ('退休', 6), ('採光罩', 6), ('錄影', 6), ('何仲', 6), ('秀美', 6), ('至同', 6), ('型號', 6), ('致林', 6), ('四方', 6), ('有關', 6), ('身分', 6), ('守義', 6), ('簽名', 6), ('南門', 6), ('明德', 6), ('涉', 6), ('信用貸款', 6), ('慶', 6), ('昭', 6), ('胡', 6), ('款玖', 6), ('公寓', 6), ('轉交', 6), ('犬', 6), ('十期', 6), ('之用', 6), ('桂蘭', 5), ('琮', 5), ('客貨', 5), ('配場', 5), ('扭傷', 5), ('車主', 5), ('乙張', 5), ('成員', 5), ('交由', 5), ('卿', 5), ('之台灣', 5), ('跳蚤市場', 5), ('張佑塵', 5), ('德', 5), ('館', 5), ('窗戶', 5), ('棚架', 5), ('人士', 5), ('同住', 5), ('教室', 5), ('油漆', 5), ('張瑋恩', 5), ('告聲', 5), ('一事', 5), ('德路', 5), ('撞毀', 5), ('滲漏水', 5), ('銀行借款', 5), ('通道', 5), ('蔡志明', 5), ('陳淑鈴', 5), ('李青霞', 5), ('美英', 5), ('司機', 5), ('賺取', 5), ('近端', 5), ('徵收', 5), ('票據', 5), ('鄭夙伶', 5), ('太', 5), ('智勝', 5), ('至成', 5), ('何姿', 5), ('楊偉立', 5), ('信件', 5), ('車窗', 5), ('拾玖元整', 5), ('蓁', 5), ('號巷', 5), ('汽車貸款', 5), ('電線', 5), ('興', 5), ('司', 5), ('鄭世華', 5), ('莊坤', 5), ('往前', 5), ('出言', 5), ('堤頂', 5), ('性行', 5), ('共識', 5), ('人伍', 5), ('開門', 5), ('壓', 5), ('劉嘉琳', 5), ('外牆', 5), ('向陽', 5), ('提款機', 5), ('胡書', 5), ('逆向', 5), ('電子', 5), ('前臂', 5), ('路與育', 5), ('款柒拾', 5), ('生前', 5), ('電源線', 5), ('家人', 5), ('警告', 5), ('楊林素', 5), ('勝路', 5), ('原有', 5), ('入住', 5), ('行為', 5), ('商標', 5), ('為分', 5), ('農業區', 5), ('安裝', 5), ('誣告', 5), ('分區', 5), ('潑灑', 5), ('醫師', 5), ('今因', 5), ('阮', 5), ('商業', 5), ('停車位', 5), ('承包', 5), ('偉盛', 5), ('因本', 5), ('新北市', 5), ('王冠', 5), ('柴頭', 5), ('履約', 5), ('張儒', 5), ('華平路', 5), ('人現', 5), ('蔡麗花', 5), ('跟', 5), ('由北向南', 5), ('光碟', 5), ('安定區', 5), ('優先', 5), ('李建興', 5), ('志豪', 5), ('立即', 5), ('朱天來', 5), ('承租人', 5), ('配合', 5), ('佳里', 5), ('造', 5), ('撞傷', 5), ('揚志', 5), ('各為', 5), ('李宛', 5), ('郭璟霖', 5), ('個人', 5), ('輝', 5), ('西賢街', 5), ('正義', 5), ('不獲', 5), ('途中', 5), ('不見', 5), ('肆萬肆', 5), ('國有土地', 5), ('安東', 5), ('屬', 5), ('小車', 5), ('分社', 5), ('房屋內', 5), ('吳俞', 5), ('機關', 5), ('全數', 5), ('使用權', 5), ('往西方', 5), ('蔡富', 5), ('代辦', 5), ('出來', 5), ('審理', 5), ('請傷', 5), ('整並', 5), ('敬', 5), ('故現', 5), ('吳佳哲', 5), ('當初', 5), ('壁癌', 5), ('駕駛座', 5), ('委請', 5), ('元及', 5), ('人即', 5), ('員警', 5), ('其後', 5), ('修須', 5), ('電桿', 5), ('實', 5), ('李雅婷', 5), ('佃路', 5), ('民調', 5), ('發霉', 5), ('困擾', 5), ('尺骨', 5), ('座落', 5), ('管理員', 5), ('陸橋', 5), ('未盡', 5), ('朱', 5), ('張岳霖', 5), ('兩筆', 5), ('銀行帳戶', 5), ('開發', 5), ('股票', 5), ('輔助', 5), ('開車', 5), ('蔡孟峰', 5), ('址', 5), ('年初', 5), ('盧慈恩', 5), ('揚言', 5), ('鍏', 5), ('店家', 5), ('然對', 5), ('由西向東', 5), ('中學', 5), ('旭日', 5), ('蔡雅涵', 5), ('五金', 5), ('騷擾', 5), ('農牧', 5), ('核發', 5), ('李宜宸', 5), ('建', 5), ('蔓', 5), ('法令', 5), ('打電話', 5), ('不要', 5), ('拳頭', 5), ('臉', 5), ('致體傷', 5), ('轉彎', 5), ('為己', 5), ('保險桿', 5), ('支出', 5), ('均體', 5), ('下筆', 5), ('服務費', 5), ('行里', 5), ('據稱', 5), ('三字經', 5), ('打傷', 5), ('懷湘', 5), ('只有', 5), ('教育費', 5), ('門號', 5), ('應將', 5), ('謝孟庭', 5), ('返家', 5), ('突然', 5), ('馬路', 5), ('並無', 5), ('適有', 5), ('騎車', 5), ('打擊', 5), ('葉靜芬', 5), ('提撥', 5), ('夜間', 5), ('吳青君', 5), ('網路上', 5), ('張慈', 5), ('平路', 5), ('張美娣', 5), ('購入', 5), ('牆', 5), ('指示', 5), ('持分', 5), ('互告', 5), ('溪橋', 5), ('完', 5), ('余佩真', 5), ('意見', 5), ('鹽', 5), ('緊急', 5), ('皮包', 5), ('婷', 5), ('傢俱', 5), ('估價', 5), ('警察', 5), ('南二中', 5), ('張秀琴', 5), ('志', 5), ('樓梯間', 5), ('直至', 5), ('溢收', 5), ('葉庭羽', 5), ('業', 5), ('之一', 5), ('人原', 5), ('異常', 5), ('治所', 5), ('上車', 5), ('依君', 5), ('罹患', 5), ('輕', 5), ('練習場', 5), ('近', 5), ('運', 5), ('函', 5), ('門外', 5), ('號與', 5), ('蕭暐翰', 5), ('許成', 5), ('並持', 5), ('存放', 5), ('一瓶', 5), ('何忠', 5), ('僱工', 5), ('毆打成傷', 5), ('四街', 5), ('購物', 5), ('互控', 5), ('著', 5), ('朝', 5), ('從事', 5), ('出租人', 5), ('沒', 5), ('分手', 5), ('交易', 5), ('背書', 5), ('能力', 5), ('煞車', 5), ('復國', 5), ('北向南', 5), ('第一項', 5), ('勸募', 5), ('其年', 5), ('福德街', 5), ('富貴', 5), ('英素', 5), ('擋住', 5), ('與育賢街', 5), ('仟元則', 5), ('六十', 5), ('板橋', 5), ('民事判決', 5), ('買', 5), ('表', 5), ('人僅', 5), ('放在', 5), ('參佰參拾', 5), ('韻婷', 5), ('妨礙', 5), ('証', 5), ('現就車', 5), ('蔡孟麗', 5), ('職業', 5), ('上情', 5), ('人梁', 5), ('蔡雅帆', 5), ('撤銷', 5), ('秀玲', 5), ('當', 5), ('區海', 5), ('火災', 5), ('可以', 5), ('得標', 5), ('造人許', 5), ('宅', 5), ('仁', 5), ('不知去向', 5), ('該址', 5), ('土木', 5), ('中山北路', 5), ('兵', 5), ('橫越', 5), ('打架', 5), ('摔車', 5), ('王敬堯', 5), ('之意', 5), ('踢', 5), ('以現', 5), ('主委', 5), ('稅', 5), ('力行', 5), ('全額', 5), ('均分', 5), ('交給', 5), ('人林秀娟', 5), ('出價', 5), ('萬仟元', 5), ('霈', 5), ('日付', 5), ('蔡伊郡', 5), ('帶回', 5), ('慢車道', 5), ('人方', 5), ('懸掛', 5), ('所屬', 5), ('四期', 5), ('蔡漢穎', 5), ('紅利', 5), ('動手', 5), ('人林淑煌', 5), ('濕滑', 5), ('各人', 5), ('所以', 5), ('科', 5), ('造人蘇', 5), ('面', 5), ('管理室', 5), ('倒車', 5), ('青', 5), ('合建', 5), ('駛出', 5), ('人陳品', 5), ('吳某', 5), ('大眾', 5), ('以聲', 5), ('索討', 5), ('故意', 5), ('遮雨棚', 5), ('滄海', 5), ('切結', 5), ('萬泰', 5), ('承擔', 5), ('伍仟元予', 5), ('雨水', 5), ('股權', 5), ('金蓮', 5), ('郭秀琴', 5), ('背信', 5), ('造人王', 5), ('路及', 5), ('並非', 5), ('遊覽', 5), ('仿冒', 5), ('離家', 5), ('扣除', 5), ('母子', 5), ('現就體', 5), ('毛衣', 5), ('腳趾', 5), ('稚', 5), ('提款卡', 5), ('年邁', 5), ('保持', 5), ('調', 5), ('取回', 5), ('並不', 5), ('頭', 5), ('東街', 5), ('取信', 5), ('與立', 5), ('佯以', 5), ('點數', 4), ('右肩', 4), ('侵占罪', 4), ('死者', 4), ('迴轉', 4), ('很', 4), ('吳清', 4), ('溪', 4), ('未獲', 4), ('吳林換', 4), ('每人', 4), ('樓至樓', 4), ('崑', 4), ('人施作', 4), ('不成', 4), ('億峰', 4), ('泡', 4), ('人陳翠華', 4), ('清心', 4), ('戶籍謄本', 4), ('賢街', 4), ('獨自', 4), ('櫃員機', 4), ('郭志', 4), ('補助', 4), ('許日', 4), ('人陳宗', 4), ('合會', 4), ('滲漏', 4), ('台中市', 4), ('時因', 4), ('楊明松', 4), ('樓之號', 4), ('毀謗', 4), ('不治', 4), ('吳建儀', 4), ('亦不得', 4), ('顱骨', 4), ('珠', 4), ('後面', 4), ('活動', 4), ('至樓', 4), ('四張', 4), ('每逢', 4), ('建築物', 4), ('忠孝', 4), ('大成', 4), ('閩', 4), ('腳踏', 4), ('牙齒', 4), ('樑柱', 4), ('一併', 4), ('許維', 4), ('國小前', 4), ('即將', 4), ('安中', 4), ('超過', 4), ('輕微', 4), ('賈文翔', 4), ('人黃祥銘', 4), ('顧問', 4), ('上肢', 4), ('采', 4), ('其將', 4), ('為聲', 4), ('銘', 4), ('急診', 4), ('吃', 4), ('潮濕', 4), ('翁睿澤體傷', 4), ('人林郁雯', 4), ('份', 4), ('竹篙', 4), ('上面', 4), ('郭義豪', 4), ('癸', 4), ('李玉美', 4), ('同一', 4), ('中風', 4), ('府城', 4), ('區總頭', 4), ('後僅', 4), ('資產', 4), ('陳光明', 4), ('李詠', 4), ('何偉', 4), ('前期', 4), ('房間內', 4), ('左膝', 4), ('大豐', 4), ('人林柏譯', 4), ('經濟', 4), ('吳宗翰', 4), ('瀧富', 4), ('正常', 4), ('物流', 4), ('違約', 4), ('蔡佳興', 4), ('置', 4), ('第五', 4), ('林子', 4), ('蔡承佑', 4), ('泰', 4), ('富田', 4), ('宛真', 4), ('陪同', 4), ('未繳', 4), ('育德路巷', 4), ('補發', 4), ('之王', 4), ('還是', 4), ('之兆豐', 4), ('螢幕', 4), ('與育賢', 4), ('專業', 4), ('一個', 4), ('竹', 4), ('持分分', 4), ('期限', 4), ('鞋子', 4), ('清枝', 4), ('曾麗珍', 4), ('南台', 4), ('王國', 4), ('信宏', 4), ('環境保護局', 4), ('瑞昌', 4), ('房東', 4), ('拾玖元', 4), ('之合會', 4), ('張曼瑜', 4), ('溫鈞霆', 4), ('水龍頭', 4), ('呂孟頻', 4), ('無著', 4), ('咬', 4), ('帶走', 4), ('超越', 4), ('賣掉', 4), ('清除', 4), ('茄', 4), ('明月', 4), ('圖片', 4), ('家屬', 4), ('六期', 4), ('吳宜', 4), ('往北方', 4), ('挪用', 4), ('柔', 4), ('楊淑', 4), ('左眼', 4), ('車貸', 4), ('其所施作', 4), ('突出', 4), ('自大', 4), ('一起', 4), ('不符', 4), ('壹張', 4), ('就醫', 4), ('壹佰陸拾', 4), ('未留下', 4), ('未成年', 4), ('一直', 4), ('起駛', 4), ('簡訊', 4), ('向前', 4), ('執字', 4), ('盧冠云', 4), ('右前', 4), ('秀馨', 4), ('賣出', 4), ('一路路', 4), ('自月', 4), ('排班', 4), ('火山', 4), ('江宏謙', 4), ('查證', 4), ('緻', 4), ('王菊子', 4), ('品', 4), ('凱', 4), ('借予', 4), ('偕', 4), ('莊雅惠', 4), ('傷對', 4), ('凹陷', 4), ('另有', 4), ('有所', 4), ('所有權狀', 4), ('李尉', 4), ('程琮仁', 4), ('空間', 4), ('王茂林', 4), ('不合', 4), ('店長', 4), ('人陳淑莉', 4), ('文雅', 4), ('楊博鈞', 4), ('款參', 4), ('所在', 4), ('王士庭', 4), ('支', 4), ('薛承緯', 4), ('因年', 4), ('就此', 4), ('擔保金', 4), ('路和緯路', 4), ('南海', 4), ('馮佳琪', 4), ('工廠', 4), ('裝設', 4), ('阿慶', 4), ('著作權法', 4), ('就診', 4), ('蔡秀娟', 4), ('人賴玥', 4), ('機具', 4), ('捨棄', 4), ('討債', 4), ('壹佰捌', 4), ('郁淳', 4), ('呂峻杰', 4), ('玫秀', 4), ('其向', 4), ('姿伶', 4), ('全權', 4), ('下肢', 4), ('王友廷', 4), ('臺東', 4), ('瀏覽', 4), ('排放', 4), ('暐', 4), ('萩', 4), ('生產', 4), ('清車', 4), ('搬家', 4), ('卓杏', 4), ('功能', 4), ('指', 4), ('地政', 4), ('區小', 4), ('貿然', 4), ('楊宗憲', 4), ('中途', 4), ('郭彥', 4), ('重製', 4), ('婕', 4), ('伍佰玖拾', 4), ('顧客', 4), ('高成', 4), ('楊育軒', 4), ('燕車損', 4), ('由黃逸修', 4), ('致該', 4), ('排骨', 4), ('巷東', 4), ('而於', 4), ('平義', 4), ('具狀', 4), ('憲政', 4), ('昏迷', 4), ('東西', 4), ('聲音', 4), ('電視', 4), ('留置', 4), ('傷且', 4), ('呈祥', 4), ('人右', 4), ('股骨', 4), ('姊妹', 4), ('王麗秋', 4), ('軟體', 4), ('藉故', 4), ('簡易', 4), ('所有人', 4), ('張秀敏', 4), ('能源', 4), ('吳珮芸', 4), ('公會', 4), ('陽信', 4), ('呂怡靜', 4), ('花蓮市', 4), ('查封', 4), ('每會', 4), ('之大', 4), ('位置', 4), ('更', 4), ('追加', 4), ('貸得', 4), ('適逢', 4), ('金飾', 4), ('施琳姿', 4), ('然', 4), ('感情', 4), ('木質', 4), ('永福', 4), ('李亞蓁', 4), ('鄭巧', 4), ('及號', 4), ('衝出', 4), ('陳明輝', 4), ('分在', 4), ('巷巷', 4), ('新樂', 4), ('死', 4), ('壹佰參', 4), ('經向', 4), ('腳踢', 4), ('王薇婷', 4), ('懷疑', 4), ('邊', 4), ('鄭淑娟', 4), ('大同', 4), ('改名', 4), ('海', 4), ('祈', 4), ('遊覽車', 4), ('不向聲', 4), ('完工後', 4), ('購屋', 4), ('結構', 4), ('錞', 4), ('教唆', 4), ('利潤', 4), ('立人段', 4), ('間止', 4), ('攤', 4), ('造人涉', 4), ('議定', 4), ('聖', 4), ('出處', 4), ('律師', 4), ('鄭采研', 4), ('韋章', 4), ('生之子', 4), ('事務所', 4), ('如期', 4), ('肘', 4), ('巷時', 4), ('巷與育', 4), ('喜', 4), ('則自', 4), ('岡山', 4), ('總', 4), ('重劃', 4), ('浪板', 4), ('保險金', 4), ('復興路', 4), ('鄉台', 4), ('寶貴', 4), ('翻覆', 4), ('馬達', 4), ('她', 4), ('欽', 4), ('明於', 4), ('亭', 4), ('公務', 4), ('劉慈慧', 4), ('肩膀', 4), ('人林芷筠', 4), ('汽機', 4), ('禮服', 4), ('大腿', 4), ('人林俊毅', 4), ('蔡玟', 4), ('附', 4), ('防水', 4), ('琍', 4), ('劉宸', 4), ('瘀', 4), ('原本', 4), ('則由聲', 4), ('沈鐵民', 4), ('參佰元', 4), ('由於', 4), ('柒佰肆', 4), ('人林怡', 4), ('路人', 4), ('全', 4), ('籃智', 4), ('勝', 4), ('誠富發', 4), ('打聲', 4), ('主臥室', 4), ('左前', 4), ('標誌', 4), ('敏', 4), ('因該', 4), ('其女', 4), ('駛離', 4), ('給對', 4), ('統亞', 4), ('大廈', 4), ('李郁', 4), ('佳', 4), ('協同', 4), ('付', 4), ('崁', 4), ('嫥', 4), ('人陳法', 4), ('刷卡', 4), ('超商前', 4), ('新城', 4), ('王繼蓬', 4), ('賣', 4), ('探視', 4), ('及第', 4), ('慧鳳', 4), ('琿', 4), ('高鐵', 4), ('洪淑貞', 4), ('承諾', 4), ('致王', 4), ('月華', 4), ('開刀', 4), ('滷菜', 4), ('後期', 4), ('周昶', 4), ('本田', 4), ('蔡蘇', 4), ('集團', 4), ('人黃筠潔', 4), ('設施', 4), ('公然', 4), ('指出', 4), ('文賢街', 4), ('燕', 4), ('即可', 4), ('入處', 4), ('蔡翠鳳', 4), ('董密', 4), ('琡', 4), ('區鹽', 4), ('查知', 4), ('上前', 4), ('鈊', 4), ('監護', 4), ('孫孟輝', 4), ('字樣', 4), ('報廢', 4), ('客人', 4), ('港溪', 4), ('墓地', 4), ('鄭玉琪', 4), ('葉家', 4), ('侯聖能', 4), ('明汾', 4), ('身亡', 4), ('明利', 4), ('王逸琳', 4), ('鄭景耀', 4), ('劉仲霖', 4), ('彩珠', 4), ('周吳', 4), ('造人施', 4), ('眼球', 4), ('底價', 4), ('廖', 4), ('修護', 4), ('擺放', 4), ('屆滿', 4), ('哲學', 4), ('證明文件', 4), ('高珊', 4), ('許秀琴', 4), ('郭棗', 4), ('日本', 4), ('春江', 4), ('檢署', 4), ('三分之一', 4), ('存入', 4), ('文海', 4), ('塞', 4), ('德宏', 4), ('墊', 4), ('秋蘭', 4), ('經解', 4), ('佐理', 4), ('周雅雯', 4), ('崴', 4), ('路路', 4), ('邵嵇睿', 4), ('李林', 4), ('行人穿越', 4), ('推撞', 4), ('標示', 4), ('造人共家', 4), ('孟娟', 4), ('旻', 4), ('姵', 4), ('謝澈', 4), ('許雯琳', 4), ('該棟', 4), ('檢驗', 4), ('恐嚇罪', 4), ('持續', 4), ('大光', 4), ('過世', 4), ('戶', 4), ('振源', 4), ('吳俊鴻', 4), ('債款', 4), ('平', 4), ('嬴', 4), ('鄭文惠', 4), ('國光', 4), ('款新', 4), ('蔡鎮宇', 4), ('整未', 4), ('筱晴', 4), ('各新', 4), ('杜松', 4), ('黃鴻斌', 4), ('製作', 4), ('幀', 4), ('吳東', 4), ('丁', 4), ('丁方應', 4), ('財物', 4), ('新港', 4), ('政升', 4), ('後座', 4), ('議價', 4), ('成交', 4), ('某', 4), ('禔', 4), ('捲', 4), ('五樓', 4), ('鎖骨', 4), ('儀蒨', 4), ('失竊', 4), ('神經', 4), ('人壹拾', 4), ('赤', 4), ('股份有限', 4), ('過', 4), ('人黃碧琴', 4), ('不良', 4), ('未依', 4), ('差價', 4), ('花盆', 4), ('養生', 4), ('出門', 4), ('門牌號', 4), ('接獲', 4), ('詢問', 4), ('王秉洋', 4), ('檢修', 4), ('用於', 4), ('始將', 4), ('賣家', 4), ('轉賣', 4), ('濠', 4), ('內科', 4), ('不到', 4), ('陳思璇', 4), ('楊雪蓁', 4), ('乘方', 4), ('地震', 4), ('專利權', 4), ('楊惠珍', 4), ('跑', 4), ('機', 4), ('與施', 4), ('崇善路', 4), ('調閱', 4), ('逕行', 4), ('鄢蜀', 4), ('拍照', 4), ('嫺', 4), ('夏林路', 4), ('短期', 4), ('號營', 4), ('蘇得', 4), ('前聲', 4), ('吳品', 4), ('手部', 4), ('周文鴻', 4), ('簡瑾', 4), ('惟上', 4), ('暨', 4), ('混凝土', 4), ('福慶', 4), ('勞', 4), ('詠', 4), ('佃', 4), ('及將', 4), ('筆錄', 4), ('洗衣店', 4), ('李禕柔', 4), ('人林作', 4), ('刑法', 4), ('開放性', 4), ('女方', 4), ('來電', 4), ('格上', 4), ('顏維晨', 4), ('芝', 4), ('腰部', 4), ('失去', 4), ('胸壁', 4), ('撞壞', 4), ('一中', 4), ('隆起', 4), ('周佳演', 4), ('人當', 4), ('人林佩珍', 4), ('制止', 4), ('人黃千瑜', 4), ('第二', 4), ('人文', 4), ('致令', 4), ('遭到', 4), ('困難', 4), ('倒', 4), ('花蓮縣', 4), ('北華段', 4), ('秋香', 4), ('左營', 4), ('山路', 4), ('出於', 4), ('杕', 4), ('萣', 4), ('邵家', 4), ('吳進廷', 4), ('江泉', 4), ('歇業', 4), ('邀', 4), ('而致', 4), ('國璽', 4), ('財產權', 4), ('公', 4), ('搬運', 4), ('春華', 4), ('二街號', 4), ('之車', 4), ('交屋', 4), ('吳明', 4), ('盆栽', 4), ('一同', 4), ('事實上', 4), ('會後', 4), ('傾斜', 4), ('具', 4), ('是否', 4), ('元大', 4), ('劉明翰', 4), ('主任', 4), ('幼鳥', 4), ('駛至', 4), ('嗣聲', 4), ('該院', 4), ('損毀', 4), ('村', 4), ('杜', 4), ('周春燕', 4), ('劉宇', 4), ('教會', 4), ('確實', 4), ('勞動基準', 4), ('自動', 4), ('人黃昕', 4), ('槍', 4), ('鄭聿涵', 4), ('查獲', 4), ('兼', 4), ('現僅', 4), ('工時', 4), ('王俊驊', 4), ('一下', 4), ('林立', 4), ('聯結', 4), ('三張', 4), ('許雁茹', 4), ('壎', 4), ('渝', 4), ('豪', 4), ('簽訂契約', 3), ('更名', 3), ('車頂', 3), ('四筆', 3), ('垃圾車', 3), ('吊車', 3), ('人先', 3), ('杜崇凱', 3), ('雄體', 3), ('影像', 3), ('女友', 3), ('盜版', 3), ('電信', 3), ('盜刷', 3), ('金為', 3), ('人黃瑋', 3), ('捌佰陸', 3), ('年來', 3), ('天明', 3), ('賣場', 3), ('半', 3), ('追逐', 3), ('私自', 3), ('香懷', 3), ('見證人', 3), ('買車', 3), ('區郡安路', 3), ('文章', 3), ('許紋', 3), ('因有', 3), ('郭條', 3), ('開部', 3), ('日將', 3), ('人陳煒', 3), ('鄧宇傑', 3), ('門鈴', 3), ('遭拒', 3), ('另約', 3), ('恭', 3), ('宋', 3), ('李維霖', 3), ('照鏡', 3), ('環保局', 3), ('人林思妤', 3), ('右邊', 3), ('出賣', 3), ('從後撞', 3), ('劉辰', 3), ('周余蒨', 3), ('條', 3), ('查詢', 3), ('謙', 3), ('債務人', 3), ('冷', 3), ('王俊凱', 3), ('補習', 3), ('大內', 3), ('血腫', 3), ('負', 3), ('郭亭', 3), ('王登煌', 3), ('非', 3), ('運送', 3), ('水電工程', 3), ('文賢國', 3), ('犯', 3), ('更改', 3), ('婌', 3), ('庇護', 3), ('號及號', 3), ('吳映', 3), ('幫忙', 3), ('哲偉', 3), ('看診', 3), ('庭院', 3), ('翁瑋彤', 3), ('貳佰壹拾', 3), ('本糧', 3), ('清水', 3), ('交易量', 3), ('法及', 3), ('伸手', 3), ('遠信', 3), ('全利', 3), ('區中', 3), ('產下', 3), ('文振', 3), ('收回', 3), ('涂巧', 3), ('唐銘宏', 3), ('套', 3), ('並使', 3), ('劉家', 3), ('王廷軒', 3), ('蔡永霖', 3), ('擔保責任', 3), ('冠', 3), ('另自', 3), ('蔡平', 3), ('疼痛', 3), ('住所地', 3), ('款為', 3), ('舉辦', 3), ('瘀傷', 3), ('盧儀芳', 3), ('張志良', 3), ('文山', 3), ('人峰', 3), ('一家', 3), ('影本', 3), ('林泓成', 3), ('複製', 3), ('用均', 3), ('法拍', 3), ('前項', 3), ('伍佰元則', 3), ('小娟', 3), ('周瑋軒', 3), ('梁', 3), ('之行', 3), ('蔡益仁', 3), ('稅金', 3), ('信華', 3), ('某處', 3), ('綾', 3), ('近來', 3), ('人頭', 3), ('崇安', 3), ('王輝麟', 3), ('無效', 3), ('素惠', 3), ('永明', 3), ('看到', 3), ('燈', 3), ('東城', 3), ('天聖', 3), ('現先', 3), ('醫學院', 3), ('人范氏', 3), ('廠房', 3), ('顯示', 3), ('依附', 3), ('再次', 3), ('諴', 3), ('文凱', 3), ('木地板', 3), ('洪立武', 3), ('逼迫', 3), ('劉育', 3), ('王郭', 3), ('提款', 3), ('棒', 3), ('逕自', 3), ('案號', 3), ('額', 3), ('蔡政軒', 3), ('催繳', 3), ('煞', 3), ('唐芬萍', 3), ('張明', 3), ('兩人', 3), ('路東', 3), ('加以', 3), ('蘇怡', 3), ('桂花', 3), ('成路', 3), ('珈', 3), ('審核', 3), ('易字', 3), ('檢號', 3), ('先於', 3), ('雙', 3), ('百元', 3), ('大姆指', 3), ('便利商店', 3), ('王雅君', 3), ('代書', 3), ('警示', 3), ('滲透', 3), ('馨', 3), ('鄭雅今', 3), ('房客', 3), ('姐姐', 3), ('款柒', 3), ('永豐', 3), ('貳佰參拾', 3), ('許豪文', 3), ('方車損', 3), ('價', 3), ('少年', 3), ('扆', 3), ('再度', 3), ('加工', 3), ('私人', 3), ('否', 3), ('徐詩婷', 3), ('柳', 3), ('冰', 3), ('安吉', 3), ('艾珍', 3), ('應由', 3), ('山貓', 3), ('波', 3), ('王施勉', 3), ('第期', 3), ('趁', 3), ('右腳', 3), ('餐盤', 3), ('天成', 3), ('攜帶', 3), ('雅虎', 3), ('如有', 3), ('壓縮機', 3), ('人龍', 3), ('北園橋', 3), ('遲', 3), ('沈孟嬅', 3), ('太太', 3), ('吉安', 3), ('人則', 3), ('喬', 3), ('統聯', 3), ('桐樹', 3), ('運轉', 3), ('金忠', 3), ('解決', 3), ('放於', 3), ('機時', 3), ('東向', 3), ('秀英', 3), ('寀', 3), ('張涵', 3), ('文體', 3), ('何方', 3), ('左臉', 3), ('否認', 3), ('邱靖', 3), ('吳孟芳', 3), ('認定', 3), ('唐見璋', 3), ('家具', 3), ('雪', 3), ('肌肉', 3), ('發表', 3), ('鎚', 3), ('周素綿', 3), ('掉', 3), ('組', 3), ('內有', 3), ('自家', 3), ('獲得', 3), ('楊順', 3), ('吳雅琪', 3), ('金鳳體傷', 3), ('順其', 3), ('絆倒', 3), ('霍', 3), ('玉井', 3), ('下方', 3), ('報告', 3), ('五路', 3), ('房產', 3), ('伍仟元則', 3), ('追', 3), ('邀聲', 3), ('連佩雯', 3), ('人陳慧玲', 3), ('經查', 3), ('現況', 3), ('持球', 3), ('接', 3), ('動作', 3), ('壹佰肆', 3), ('鳳爪', 3), ('壁', 3), ('民宅', 3), ('照護', 3), ('廖紹齊', 3), ('三筆', 3), ('轉包', 3), ('點選', 3), ('綠地', 3), ('未歸', 3), ('咖', 3), ('情感', 3), ('不斷', 3), ('偕同', 3), ('揚', 3), ('起分', 3), ('楊晨', 3), ('喬雯', 3), ('王順國', 3), ('疏未', 3), ('不當得利', 3), ('聶仲澤', 3), ('潘奕玟', 3), ('游雅', 3), ('聲稱', 3), ('磚造', 3), ('鄭閎', 3), ('國慶', 3), ('新樓', 3), ('營', 3), ('紙', 3), ('停工', 3), ('膝蓋', 3), ('蘇郁馨', 3), ('人陳貞吟', 3), ('林吉村', 3), ('區安中', 3), ('下層', 3), ('同棟', 3), ('肆佰捌', 3), ('呂騏', 3), ('保險局', 3), ('主', 3), ('肆佰陸', 3), ('筆記型電腦', 3), ('丙方', 3), ('鴻佳', 3), ('逾', 3), ('渣打', 3), ('廖珍平', 3), ('反應', 3), ('君', 3), ('許耿豪', 3), ('注入', 3), ('李榮', 3), ('漆', 3), ('仟玖佰', 3), ('水源', 3), ('替', 3), ('官田', 3), ('造人賴', 3), ('柱子', 3), ('鄭旭', 3), ('區溪', 3), ('楊尚尉', 3), ('裝置', 3), ('無傷', 3), ('書予', 3), ('激能', 3), ('打開', 3), ('柯葉碧子', 3), ('郭建', 3), ('墘', 3), ('資', 3), ('雜', 3), ('崇善', 3), ('擴點', 3), ('錆', 3), ('人林佳憲', 3), ('紅腫', 3), ('人林莉菁', 3), ('鄰屋', 3), ('行照', 3), ('王君萍', 3), ('顯庭', 3), ('老人', 3), ('椅子', 3), ('大約', 3), ('土城', 3), ('發生意外', 3), ('暴力', 3), ('人夏宏毅', 3), ('榛', 3), ('鄭靜軒', 3), ('衣', 3), ('七', 3), ('無骨', 3), ('戶籍', 3), ('人陳芷羚', 3), ('李昆霖', 3), ('裝', 3), ('美修', 3), ('黃色', 3), ('狀態', 3), ('不聞不問', 3), ('將對', 3), ('吳隱展', 3), ('春', 3), ('德欽', 3), ('建築材料', 3), ('臉頰', 3), ('頂美三街', 3), ('柯宇晉', 3), ('茶葉', 3), ('釣蝦場', 3), ('基祿', 3), ('宛麟', 3), ('造人店', 3), ('敲打', 3), ('人肆', 3), ('有聲', 3), ('蔡正成', 3), ('距離', 3), ('刀', 3), ('不還', 3), ('現林', 3), ('金孝信', 3), ('咆哮', 3), ('職員', 3), ('蔡佩庭', 3), ('謝君儀', 3), ('向仲信', 3), ('詹項', 3), ('價額', 3), ('西湖', 3), ('延宕', 3), ('表明', 3), ('辜詩婷', 3), ('莊惠晶', 3), ('當晚', 3), ('比例', 3), ('卡拉', 3), ('數萬元', 3), ('頭期款', 3), ('各給', 3), ('人盧', 3), ('高速公路', 3), ('佯', 3), ('岡', 3), ('商議', 3), ('晏', 3), ('以壹拾', 3), ('正橋', 3), ('湘', 3), ('不知情', 3), ('玖佰元整', 3), ('訴訟費用', 3), ('湖內', 3), ('意涵', 3), ('苓', 3), ('每天', 3), ('維護', 3), ('床', 3), ('莊林澤', 3), ('世峰', 3), ('要給', 3), ('亞東', 3), ('夢', 3), ('登旺', 3), ('人陳鈺', 3), ('佳益行', 3), ('人壽保險', 3), ('商談', 3), ('及車', 3), ('簡鏡', 3), ('王洪', 3), ('台幣伍', 3), ('人傑', 3), ('數年', 3), ('一支', 3), ('地基', 3), ('之三', 3), ('之母', 3), ('其車', 3), ('奇摩', 3), ('於是', 3), ('幫聲', 3), ('散佈', 3), ('憓', 3), ('藥妝店', 3), ('鋁門', 3), ('弟', 3), ('因病', 3), ('花費', 3), ('南化區', 3), ('藝術', 3), ('東橋', 3), ('蔡林', 3), ('呂宗', 3), ('國宅', 3), ('曾柏諺', 3), ('護欄', 3), ('密碼', 3), ('秀', 3), ('方面', 3), ('酉', 3), ('東安', 3), ('講義', 3), ('方泳傑', 3), ('班', 3), ('持票', 3), ('氯離子', 3), ('號誌', 3), ('林貴金', 3), ('造人陳彥', 3), ('原定', 3), ('子車', 3), ('諮', 3), ('區頂', 3), ('學園', 3), ('強行', 3), ('訊息', 3), ('再委請', 3), ('定時', 3), ('覃陳', 3), ('肆佰玖拾', 3), ('答應', 3), ('隔日', 3), ('沈彥', 3), ('洗車', 3), ('超車', 3), ('建綸', 3), ('眼部', 3), ('短少', 3), ('書上', 3), ('扭', 3), ('聽', 3), ('加入', 3), ('一隻', 3), ('銀南', 3), ('許靜文', 3), ('林雅雯', 3), ('檳榔', 3), ('清吉', 3), ('紋', 3), ('報紙', 3), ('德昌', 3), ('流血', 3), ('人系爭', 3), ('吳宗', 3), ('蘇奕容', 3), ('蕭百修', 3), ('許芳', 3), ('吃飯', 3), ('拍打', 3), ('無力', 3), ('李良軒', 3), ('昆明', 3), ('分鐘', 3), ('肋骨', 3), ('雋', 3), ('存證', 3), ('等家', 3), ('他們', 3), ('穿', 3), ('元予', 3), ('客服', 3), ('林錦溝', 3), ('因其', 3), ('依上', 3), ('雲車損', 3), ('舒妤', 3), ('林崇德', 3), ('木棒', 3), ('駛入', 3), ('蔡柏洲', 3), ('石育', 3), ('文元國', 3), ('謝季', 3), ('道旁', 3), ('致有', 3), ('轉介本件', 3), ('經調', 3), ('斷裂', 3), ('爭執不下', 3), ('轉帳', 3), ('誘使', 3), ('封閉', 3), ('嘉體傷', 3), ('車無', 3), ('源', 3), ('誤信', 3), ('李淑惠', 3), ('小段', 3), ('王思婷', 3), ('倉庫', 3), ('佳倍潔', 3), ('吳玉秀', 3), ('人黃懿純', 3), ('公學', 3), ('月琴', 3), ('梁榮鋒', 3), ('將原', 3), ('盧家', 3), ('自有', 3), ('政源', 3), ('人陳國綸', 3), ('東河', 3), ('取消', 3), ('真實', 3), ('早餐', 3), ('呂杰穎', 3), ('麗玉', 3), ('安康', 3), ('驚嚇', 3), ('水流', 3), ('走廊', 3), ('特', 3), ('王儷蓁', 3), ('邱婧容', 3), ('李林淑玲', 3), ('人黃鈺雅', 3), ('相', 3), ('林榮冠', 3), ('李黃慶梅', 3), ('閻家駿', 3), ('姿安', 3), ('謝麗惠', 3), ('臥室', 3), ('伍佰', 3), ('蕭克', 3), ('源泉', 3), ('八街', 3), ('淑珍', 3), ('寶', 3), ('蔡宜庭', 3), ('衝撞', 3), ('工期', 3), ('專案', 3), ('依湘', 3), ('嬋娟', 3), ('未給', 3), ('清洗', 3), ('謝裕鋒', 3), ('處於', 3), ('許永添', 3), ('陸仟玖佰元整', 3), ('人林佳', 3), ('司促', 3), ('環河', 3), ('吳信', 3), ('二中', 3), ('信函', 3), ('人陳雅雯', 3), ('萬多元', 3), ('之下', 3), ('假扣押', 3), ('主機', 3), ('公告', 3), ('處置', 3), ('化學', 3), ('鑑定費', 3), ('叫罵', 3), ('斯', 3), ('楊馥蓉', 3), ('造人以', 3), ('月容', 3), ('地區', 3), ('意舫', 3), ('包含', 3), ('將車', 3), ('東段', 3), ('正仁', 3), ('中聲', 3), ('低價', 3), ('致李', 3), ('謝富', 3), ('冒用', 3), ('造人劉', 3), ('引發', 3), ('航空', 3), ('星羽', 3), ('追討', 3), ('薛雨', 3), ('唐麗香', 3), ('萬年', 3), ('往來', 3), ('動產', 3), ('張敏珠', 3), ('不便', 3), ('貳佰參', 3), ('並均', 3), ('國立', 3), ('吳秀葉', 3), ('巷子', 3), ('慢車', 3), ('蔣采純', 3), ('租給', 3), ('獲利', 3), ('人黃浚', 3), ('起重機', 3), ('李炎山', 3), ('藏密', 3), ('頸椎', 3), ('五台', 3), ('致渠', 3), ('號及', 3), ('吳佳紋', 3), ('轉述', 3), ('與府', 3), ('經送', 3), ('汽車保險', 3), ('一個月', 3), ('北邊', 3), ('經銷商', 3), ('整理', 3), ('陸萬肆', 3), ('歐', 3), ('司票', 3), ('楷', 3), ('楊聰元', 3), ('性騷擾', 3), ('東往', 3), ('在家', 3), ('舊識', 3), ('茸', 3), ('清風', 3), ('保人', 3), ('建展', 3), ('王俊皓', 3), ('註冊', 3), ('現經', 3), ('慈', 3), ('三紙', 3), ('攝影', 3), ('數仟元', 3), ('玹', 3), ('造人余', 3), ('曹晉', 3), ('不適', 3), ('王幸', 3), ('建國', 3), ('不甘', 3), ('條規', 3), ('趁聲', 3), ('陳毅', 3), ('實為', 3), ('器具', 3), ('休息', 3), ('僅就', 3), ('重大', 3), ('退租', 3), ('自助餐', 3), ('喜樹', 3), ('人黃志', 3), ('娌', 3), ('吳佳鋒', 3), ('豔', 3), ('投射燈', 3), ('汽油', 3), ('好事', 3), ('毀棄', 3), ('維修費', 3), ('許素娟', 3), ('桂', 3), ('一街號', 3), ('你們', 3), ('人陳憶婷', 3), ('壁紙', 3), ('豆腐', 3), ('鄭昱婕', 3), ('永興', 3), ('人方郁', 3), ('緊鄰', 3), ('駱元', 3), ('吳逢玉', 3), ('震動', 3), ('確為', 3), ('木棍', 3), ('施逸陽', 3), ('兩車', 3), ('執照', 3), ('環保', 3), ('靠近', 3), ('行銷', 3), ('截肢', 3), ('葉慶嵩', 3), ('周淑如', 3), ('摔傷', 3), ('李育', 3), ('吳燕珍', 3), ('月霞', 3), ('壹佰元', 3), ('說話', 3), ('書面', 3), ('曳', 3), ('促字', 3), ('信街', 3), ('中興', 3), ('參佰肆', 3), ('萬肆', 3), ('人賴映婷', 3), ('徐子婷', 3), ('溍', 3), ('落差', 3), ('時時', 3), ('不實', 3), ('法律', 3), ('觸摸', 3), ('桌子', 3), ('雅區', 3), ('惟其', 3), ('李金', 3), ('西賢', 3), ('承購', 3), ('含量', 3), ('以及', 3), ('紙以', 3), ('腰椎', 3), ('資遣費', 3), ('鄭茂松', 3), ('小吃', 3), ('石頭', 3), ('藉以', 3), ('何人', 3), ('蔡宜倫', 3), ('李惠如', 3), ('察覺', 3), ('車款', 3), ('明偉', 3), ('石羽詩', 3), ('王琬晴', 3), ('蒐證', 3), ('右前方', 3), ('懷孕', 3), ('來車', 3), ('結帳', 3), ('人林煒', 3), ('人竟', 3), ('永吉', 3), ('人林例', 3), ('股利', 3), ('網頁', 3), ('眼眶', 3), ('方便', 3), ('單', 3), ('夙', 3), ('滑', 3), ('蔡妙子', 3), ('法容', 3), ('鋐', 3), ('土狗', 3), ('提', 3), ('稅籍', 3), ('人黃冠', 3), ('郭雪', 3), ('吋', 3), ('撿拾', 3), ('葉子', 3), ('應再付', 3), ('計畫', 3), ('影片', 3), ('全福', 3), ('次女', 3), ('經本會', 3), ('贍養費', 3), ('參萬柒仟', 3), ('價格', 3), ('人林展', 3), ('徐銘澤', 3), ('受理', 3), ('吳博雄', 3), ('許芳源', 3), ('現任', 3), ('全義', 3), ('人黃銘', 3), ('人余宛蓉', 3), ('楊苓', 3), ('正盟', 3), ('扣押', 3), ('商行', 3), ('千芳', 3), ('滿', 3), ('自來水', 3), ('解散', 3), ('主治醫師', 3), ('旁巷', 3), ('文聲', 3), ('錡', 3), ('拍', 3), ('損聲', 3), ('拍屋', 3), ('斡旋', 3), ('子體', 3), ('一定', 3), ('人壽', 3), ('化糞池', 3), ('啟惠原', 3), ('段家', 3), ('洪郁芳', 3), ('同址', 3), ('飛', 3), ('三重', 3), ('百分之五', 3), ('轉讓', 3), ('時即', 3), ('訂於', 3), ('郭麗雪', 3), ('防止', 3), ('賣予', 3), ('佰元整', 3), ('交流', 3), ('人段', 3), ('每次', 3), ('巧', 3), ('張仲賢', 3), ('邱柏勝', 3), ('胡富', 3), ('假借', 3), ('宿舍', 3), ('與環', 3), ('故本件', 3), ('羅素', 3), ('私人物品', 3), ('郭月秀', 3), ('頡', 3), ('盧敬文', 3), ('分隔', 3), ('廣告社', 3), ('建造', 3), ('人陳春秀', 3), ('蔡宗諭', 3), ('整合', 3), ('人陳瑞吟', 3), ('佛像', 3), ('內部', 3), ('區尚', 3), ('彩雲', 3), ('中指', 3), ('祝壽', 3), ('發展', 3), ('按期', 3), ('合一', 3), ('興業', 3), ('天佑', 3), ('限期', 3), ('董事長', 3), ('明星', 3), ('橈骨', 3), ('推銷', 3), ('王宥', 3), ('回應', 3), ('四樓', 3), ('嘉義', 3), ('用錢', 3), ('人黃秀', 3), ('盧春益', 3), ('瑞芬', 3), ('不想', 3), ('中間', 3), ('這種', 3), ('林王', 3), ('智', 3), ('楊喬安', 3), ('春子', 3), ('人孫', 3), ('蔡正', 3), ('王雅雯', 3), ('秋體傷', 3), ('壹個', 3), ('融資', 3), ('扣款', 3), ('張穎擷', 3), ('菜市場', 3), ('場所', 3), ('仿冒品', 3), ('推擠', 3), ('人陳佳蓉', 3), ('侵佔', 3), ('鍚', 3), ('國揚', 3), ('先前', 3), ('郭欽水', 3), ('李蕙', 3), ('百分之', 3), ('興華', 3), ('中小', 3), ('侵犯', 3), ('逝世', 3), ('每張', 3), ('虎骨酒', 3), ('手掌', 3), ('南鑑案', 3), ('雄州', 3), ('郭文昆', 3), ('葉凱偉', 3), ('聽聞', 3), ('王麗雀', 3), ('戴佑珍', 3), ('泊', 3), ('假', 3), ('張惠娥', 3), ('榮結', 3), ('部', 3), ('推倒', 3), ('水錶', 3), ('第項', 3), ('鄭羽', 3), ('造人程', 3), ('誹謗', 3), ('銀花', 3), ('萬炎彬', 3), ('女婿', 3), ('林德榮', 3), ('張為', 3), ('費時', 3), ('婚生子女', 3), ('樊', 3), ('趁機', 3), ('曾炳魁', 3), ('所得', 3), ('廖淑芬', 3), ('前夫', 3), ('左肩', 3), ('應徵', 3), ('意見書', 3), ('傳', 3), ('隱瞞', 3), ('出借', 3), ('人黃紀', 3), ('下營', 3), ('人永保', 3), ('零件', 3), ('長田', 3), ('大安', 3), ('北海', 3), ('過久', 3), ('姚', 3), ('去向不明', 3), ('款壹佰', 3), ('水康區', 3), ('台灣省', 3), ('召集', 3), ('太保', 3), ('李錫端', 3), ('阿蓮', 3), ('相識', 3), ('線路', 3), ('原佃', 3), ('六段', 3), ('左腳', 3), ('七里香', 3), ('經其', 3), ('不給', 3), ('德興', 3), ('吳黃明', 3), ('王愛芸', 3), ('植牙', 3), ('成年', 3), ('起聲', 3), ('顏面', 3), ('因風大', 3), ('轉借', 3), ('往生', 3), ('排水槽', 3), ('該地', 3), ('由東', 3), ('生財器具', 3), ('萬整', 3), ('驗收', 3), ('子', 3), ('馮', 3), ('欣怡', 3), ('招攬', 3), ('號戶', 3), ('邱利', 3), ('企銀', 3), ('豪體傷', 3), ('江', 3), ('妻', 3), ('許雅婷', 3), ('周建龍', 3), ('因車禍', 3), ('年底', 3), ('育樂', 3), ('廠內', 3), ('莊妍貞', 3), ('住宅區', 3), ('配通', 3), ('屋前', 3), ('代為', 3), ('人林福雄', 3), ('林振明', 3), ('周芳玟', 3), ('陳鴻榮', 3), ('發', 3), ('采茜', 3), ('聲聲', 3), ('蕭智益', 3), ('抵押借款', 3), ('後門', 3), ('大路', 3), ('鄭福江', 3), ('洗衣', 3), ('吳蘇玲', 3), ('徒步', 3), ('佛學', 3), ('振南', 3), ('向上', 3), ('退貨', 3), ('機會', 3), ('石璨綸', 3), ('特種', 3), ('阮妙賢', 3), ('聊天', 3), ('什麼', 3), ('鋼筋', 3), ('侯北成', 3), ('醫護人員', 3), ('撫養', 3), ('宣告', 3), ('人陳芳', 3), ('人陳國舟', 3), ('分割', 3), ('捌佰柒拾', 3), ('宏遠', 3), ('施景中', 3), ('屏體傷', 3), ('汽車旅館', 3), ('一層', 3), ('取', 3), ('簽單', 3), ('哲持', 3), ('會議', 3), ('車位', 3), ('璦', 3), ('瀛', 3), ('乙案', 3), ('人民', 3), ('計算', 3), ('撘', 3), ('人林秉叡', 3), ('甲魚', 3), ('蕭', 3), ('豐瑞', 3), ('之外', 3), ('一對', 3), ('公車站', 3), ('二年', 3), ('遷離', 3), ('貨物', 3), ('人國賢', 3), ('汝', 3), ('之共', 3), ('中段', 3), ('薛淑碧', 3), ('素梅', 3), ('各別', 3), ('商標法', 3), ('人葉靜', 3), ('李雅媚', 3), ('增為', 3), ('股', 3), ('年前', 3), ('屋簷', 3), ('執行命令', 3), ('施昭偉', 3), ('吳旗', 3), ('誆', 3), ('許家', 3), ('新興路', 3), ('涓', 3), ('駱', 3), ('溱', 3), ('人趙益', 3), ('學生', 3), ('廚具', 3), ('手肘', 3), ('一場', 3), ('寶華', 3), ('湖美', 3), ('整約', 3), ('人黃惠珍', 3), ('之鐵', 3), ('謝心', 3), ('愮', 3), ('國一', 3), ('志遠', 3), ('同月', 3), ('零伍佰元整', 3), ('店員', 3), ('屏東', 3), ('玉器', 3), ('人黃書', 3), ('傳送', 3), ('產生糾紛', 3), ('人麥', 3), ('楊融', 3), ('三年', 3), ('瑢', 3), ('予以', 3), ('張憶', 3), ('未有', 3), ('李瀠圳', 3), ('樟', 3), ('麥書維', 3), ('開時', 3), ('玉米', 3), ('劉建宗', 3), ('結束', 3), ('擋風玻璃', 3), ('洪翊婷', 3), ('已先', 3), ('黃梅', 3), ('開價', 3), ('開對', 3), ('李黃春美', 3), ('網', 3), ('維持', 3), ('頂里', 3), ('地方', 3), ('王俊能', 3), ('闖越', 3), ('中油', 3), ('如數', 3), ('監理', 3), ('偵緝', 3), ('郭宗北', 3), ('紘', 3), ('臺中市', 3), ('參萬柒仟元整', 3), ('寄至', 3), ('高立', 3), ('蔡林秀菊', 3), ('雙手', 3), ('采妙', 3), ('破洞', 3), ('仔', 3), ('許芳美', 3), ('林麗美', 3), ('債權人', 3), ('思源', 3), ('荃', 3), ('而聲', 3), ('二次', 3), ('勞務費', 3), ('退保', 3), ('葉雪', 3), ('正文', 3), ('鄧', 3), ('盈靜', 3), ('觀音', 3), ('環', 3), ('畢業', 3), ('現欲', 3), ('酒瓶', 3), ('人林慧琴', 3), ('鄭采茵', 3), ('突爆', 3), ('模具', 3), ('謀生', 3), ('劉瑞富', 3), ('文和街', 3), ('抵銷', 3), ('王姿琪', 3), ('車損聲', 3), ('摟', 3), ('並回', 3), ('肆萬柒仟', 3), ('秀鳳', 3), ('常', 3), ('婚姻', 3), ('端', 3), ('吳逸煒', 3), ('加', 3), ('太元', 3), ('貳佰柒', 3), ('一時', 3), ('韌帶', 3), ('蒼德', 3), ('紀錄', 3), ('倒會', 3), ('過低', 3), ('脫位', 3), ('平台', 3), ('過失', 3), ('李爵麟', 3), ('歐盛雄', 3), ('枝葉', 3), ('而涉', 3), ('蔡昀璋', 3), ('發起', 3), ('在外', 3), ('鄭忠典', 2), ('戴宇', 2), ('標的物', 2), ('榮珮華', 2), ('禮', 2), ('健豪', 2), ('時速', 2), ('關住', 2), ('柒萬陸', 2), ('隆', 2), ('陳淑芬', 2), ('積極', 2), ('至此', 2), ('熊', 2), ('人籃', 2), ('兒童', 2), ('空空', 2), ('撿', 2), ('王晟彰', 2), ('運回', 2), ('會期', 2), ('王得', 2), ('渠父', 2), ('營運', 2), ('區內', 2), ('食品工業', 2), ('不勝酒力', 2), ('趙國', 2), ('呈現', 2), ('蔡月英', 2), ('張勝凱', 2), ('人陳靖', 2), ('木', 2), ('郭家', 2), ('龍文', 2), ('王維', 2), ('包括', 2), ('搶救無效', 2), ('區公所', 2), ('廖慧卿', 2), ('便溺', 2), ('人林秀玲', 2), ('邱敬翔', 2), ('里長', 2), ('指摘', 2), ('大昌', 2), ('香火', 2), ('陳瑩軒', 2), ('洪月卿', 2), ('故年', 2), ('租借', 2), ('林明利', 2), ('共約', 2), ('王立民', 2), ('人黃鼎倫', 2), ('駱遠哲', 2), ('蘇慶峰', 2), ('肺', 2), ('埔', 2), ('吳燕玉', 2), ('否則', 2), ('莫富名', 2), ('及安', 2), ('砸破', 2), ('蕭維揚', 2), ('造人周', 2), ('麗雅', 2), ('洪菁怡', 2), ('翻車', 2), ('琄', 2), ('宋秀鈴', 2), ('大哥大', 2), ('國中', 2), ('升', 2), ('全凱', 2), ('如體傷', 2), ('潘嬅', 2), ('區平', 2), ('並請', 2), ('劉淑惠', 2), ('另一台', 2), ('沈', 2), ('祥', 2), ('素不相識', 2), ('許嘉雯', 2), ('一群', 2), ('文康', 2), ('以利', 2), ('安溪', 2), ('遲遲', 2), ('左耳', 2), ('人黃舜屏', 2), ('已故', 2), ('時上', 2), ('大理石', 2), ('全體', 2), ('城怡婷', 2), ('李興', 2), ('賈丁', 2), ('人陳馨', 2), ('方法', 2), ('文車損', 2), ('廟', 2), ('元月', 2), ('福慶願', 2), ('住樓', 2), ('楷霖', 2), ('遭受', 2), ('沈偉芳', 2), ('自後駛', 2), ('陳鴻熙', 2), ('造林', 2), ('必須', 2), ('余', 2), ('劉財華', 2), ('壕', 2), ('支付現金', 2), ('人住', 2), ('課長', 2), ('填寫', 2), ('並在聲', 2), ('志強', 2), ('阻擋', 2), ('數值', 2), ('李懷南', 2), ('盧怡安', 2), ('吹落', 2), ('之新', 2), ('人如', 2), ('張玉枝', 2), ('洪來', 2), ('林振昌', 2), ('人卓麗香', 2), ('而據', 2), ('視聽', 2), ('遵堂', 2), ('鯓', 2), ('飽', 2), ('勸阻', 2), ('游雅雯', 2), ('區怡安', 2), ('陽明', 2), ('順位', 2), ('林麗琴', 2), ('金欣', 2), ('扯', 2), ('單位', 2), ('曾素', 2), ('兄妹', 2), ('文化路', 2), ('發出', 2), ('分攤', 2), ('范耀恒', 2), ('李忠憲', 2), ('數學', 2), ('潘龍慶', 2), ('嘔吐', 2), ('璿', 2), ('加強', 2), ('推展', 2), ('騙取', 2), ('為系爭', 2), ('五佰元整', 2), ('股份公司', 2), ('兆豐', 2), ('彭雅惠', 2), ('龍', 2), ('吳珮君', 2), ('格旁', 2), ('郭宸', 2), ('檢測', 2), ('范文', 2), ('橋上', 2), ('違章建築', 2), ('美玉', 2), ('李忍', 2), ('樓房', 2), ('之店', 2), ('施龍', 2), ('蔡順', 2), ('小康', 2), ('愉', 2), ('人陳雪願', 2), ('在國', 2), ('手法', 2), ('儀式', 2), ('刷印', 2), ('吳承諺', 2), ('格位', 2), ('瑞宏', 2), ('晏體傷', 2), ('暫時', 2), ('弘志', 2), ('百達', 2), ('王秀端', 2), ('之狗', 2), ('元分', 2), ('人莫富名', 2), ('人南君', 2), ('協', 2), ('高級中學', 2), ('變電', 2), ('人丁', 2), ('豐磊', 2), ('郭惠琴', 2), ('取財', 2), ('人周', 2), ('世宗', 2), ('兩側', 2), ('最好', 2), ('順德', 2), ('侯', 2), ('出新', 2), ('將來', 2), ('吳金', 2), ('之凱基', 2), ('電玩', 2), ('嫈', 2), ('取出', 2), ('屏東市', 2), ('綠園', 2), ('遲至', 2), ('無涉', 2), ('裂開', 2), ('參仟伍', 2), ('太陽能', 2), ('放款', 2), ('戶頭', 2), ('李文瑞及', 2), ('珀', 2), ('財根', 2), ('兩間', 2), ('仁武', 2), ('已婚', 2), ('之女', 2), ('神腦', 2), ('璟', 2), ('肆拾伍', 2), ('代轉', 2), ('並有', 2), ('房屋出租', 2), ('已依', 2), ('對話', 2), ('病房', 2), ('龍泉', 2), ('郭國', 2), ('莆怡', 2), ('商借', 2), ('鄭雨鈴', 2), ('中度', 2), ('開刀手術', 2), ('郭肅', 2), ('泉源', 2), ('信義路', 2), ('伊達', 2), ('區慶平路', 2), ('田明巧', 2), ('警車', 2), ('南乙', 2), ('訴', 2), ('宋沂蓁', 2), ('遇到', 2), ('王莉雯', 2), ('去年', 2), ('人有', 2), ('吳玥', 2), ('貼', 2), ('人陳輝陽', 2), ('政憲', 2), ('芊', 2), ('旅客', 2), ('天堂', 2), ('救治', 2), ('莊洪美', 2), ('談不成', 2), ('吳侑翰', 2), ('吉無車損', 2), ('各紙', 2), ('養育', 2), ('名字', 2), ('上點', 2), ('看屋', 2), ('府安路', 2), ('借新', 2), ('人林芷妤', 2), ('古蕙菁', 2), ('數人', 2), ('建宏體傷', 2), ('開安中', 2), ('人陳忠謀', 2), ('造人竟', 2), ('轉向', 2), ('超商內', 2), ('惟向', 2), ('成果', 2), ('國稅局', 2), ('沿和緯', 2), ('楊玉琴', 2), ('竹鄉', 2), ('惠珍', 2), ('受到', 2), ('造人遲', 2), ('器始', 2), ('椅', 2), ('幃', 2), ('不料', 2), ('因誤', 2), ('製造', 2), ('各付', 2), ('街之號', 2), ('樓梯', 2), ('取走', 2), ('兩重', 2), ('李麗貞', 2), ('限於', 2), ('吳誌', 2), ('安盈', 2), ('配管', 2), ('侯怡帆', 2), ('六街', 2), ('弘名', 2), ('興向聲', 2), ('討回', 2), ('城嘉玲', 2), ('勞工保險', 2), ('將新', 2), ('明道', 2), ('作成', 2), ('大樓住戶', 2), ('人顏', 2), ('逃離', 2), ('談判', 2), ('葶', 2), ('徐香', 2), ('出院', 2), ('滿意', 2), ('指控', 2), ('合作', 2), ('煮飯', 2), ('經一', 2), ('落暉', 2), ('秋格', 2), ('鄭佳蓉', 2), ('大燈', 2), ('謝板', 2), ('木松', 2), ('方', 2), ('吳采宸', 2), ('龍潭', 2), ('打掃', 2), ('處分權', 2), ('結算', 2), ('起居', 2), ('門柱', 2), ('李可弘', 2), ('人黃慧', 2), ('楊宗諭', 2), ('法國巴黎', 2), ('適宜', 2), ('疑侵', 2), ('商譽', 2), ('人江怡', 2), ('年金', 2), ('行時', 2), ('橋處', 2), ('奕奕', 2), ('憲章', 2), ('堂主', 2), ('佔據', 2), ('駛', 2), ('牙醫', 2), ('雅婷', 2), ('宴席', 2), ('聖車損', 2), ('人林雪麗', 2), ('壹佰玖拾', 2), ('莊國森', 2), ('明哲', 2), ('敔', 2), ('脛骨', 2), ('合法', 2), ('段佩琪', 2), ('因陳', 2), ('爆裂', 2), ('開建', 2), ('刪除', 2), ('萬陸仟元整', 2), ('年事已高', 2), ('凱旋路', 2), ('欣體傷', 2), ('堆置', 2), ('內門', 2), ('洪婉寧', 2), ('強調', 2), ('整地', 2), ('沿育北', 2), ('符合', 2), ('致何', 2), ('金花', 2), ('樹', 2), ('人之妻', 2), ('官慧玲', 2), ('臨靠', 2), ('磚', 2), ('范鳳嬌', 2), ('進貨', 2), ('寄交', 2), ('郭鴻霆', 2), ('留下', 2), ('直到', 2), ('名車', 2), ('千歲', 2), ('清川', 2), ('蔡真香', 2), ('準備', 2), ('桌上', 2), ('吳瑞寶', 2), ('肆萬玖仟元整', 2), ('區永大', 2), ('零柒拾', 2), ('建富', 2), ('入店', 2), ('修正', 2), ('駕駛執照', 2), ('美國', 2), ('要錢', 2), ('姚先生', 2), ('把玩', 2), ('背', 2), ('劉驊', 2), ('後將', 2), ('洪雅', 2), ('綸', 2), ('票款', 2), ('冠勤', 2), ('社內里', 2), ('胡嘉哲', 2), ('清泉', 2), ('二紙', 2), ('人帶', 2), ('待轉', 2), ('竹願', 2), ('飲水機', 2), ('岑', 2), ('監視', 2), ('林相', 2), ('遺囑', 2), ('由南', 2), ('器材', 2), ('人賴筱雅', 2), ('扣', 2), ('王淑玲', 2), ('泡水', 2), ('故而', 2), ('豐路', 2), ('郭國津', 2), ('吳永鉦', 2), ('磚塊', 2), ('路之號', 2), ('比率', 2), ('因失智', 2), ('金及', 2), ('籃敏昌', 2), ('連接', 2), ('萬柒仟元', 2), ('人林怡瑾', 2), ('蔡函', 2), ('張雅涵', 2), ('鄭仲翔', 2), ('吳雅苓', 2), ('故未', 2), ('鄭煌雄', 2), ('劉冠廷', 2), ('魏順菊', 2), ('景', 2), ('闢', 2), ('法人', 2), ('李冠瑤', 2), ('因頭', 2), ('冠茂', 2), ('惟體傷', 2), ('三合', 2), ('電料', 2), ('嫌隙', 2), ('利率', 2), ('八萬元', 2), ('號門', 2), ('大家', 2), ('季蓮舫', 2), ('之富邦', 2), ('陸仟伍', 2), ('素女', 2), ('耕德', 2), ('人陳麗惠', 2), ('愉快', 2), ('人田仁傑', 2), ('操', 2), ('煙燻', 2), ('早', 2), ('關嶺', 2), ('欠聲', 2), ('再將', 2), ('改造', 2), ('款柒萬', 2), ('液化', 2), ('合夥人', 2), ('大智', 2), ('曾雅卿', 2), ('金新', 2), ('撞擊到', 2), ('喇叭', 2), ('雙膝', 2), ('雙城', 2), ('劉彥', 2), ('股款', 2), ('棉', 2), ('贓車', 2), ('人賴品', 2), ('鄭淑雯', 2), ('發函', 2), ('軍', 2), ('人方燕蓉', 2), ('蔡錦', 2), ('該署', 2), ('主任委員', 2), ('曾翊豪', 2), ('人工', 2), ('一體', 2), ('盧分生', 2), ('許對', 2), ('潘保林', 2), ('污損', 2), ('蘇郁秀', 2), ('牌', 2), ('杜美琴', 2), ('過來', 2), ('立德', 2), ('竣賢', 2), ('仟玖佰元整', 2), ('手環', 2), ('漏油', 2), ('楊馥蓉願', 2), ('火鍋', 2), ('邱美', 2), ('十路', 2), ('漁會', 2), ('現在', 2), ('清單', 2), ('服飾', 2), ('冠彰', 2), ('運用', 2), ('余鳳英', 2), ('莊良純', 2), ('林怡', 2), ('攜回', 2), ('邱盈良', 2), ('人林育', 2), ('林月', 2), ('踩到', 2), ('收費', 2), ('預警', 2), ('歌曲', 2), ('煜', 2), ('鄭仔', 2), ('人陳儷', 2), ('聯', 2), ('開球', 2), ('忠孝路', 2), ('品如', 2), ('三百萬元', 2), ('故無其', 2), ('歐建志', 2), ('姚繼雄', 2), ('拆字', 2), ('購置', 2), ('林怡瑾', 2), ('公共設施', 2), ('芫', 2), ('包', 2), ('油煙機', 2), ('李孟涵', 2), ('人侯季', 2), ('鄭才', 2), ('蓋章', 2), ('洗澡時', 2), ('王天', 2), ('流入', 2), ('義務人', 2), ('退休金', 2), ('輪椅', 2), ('號後', 2), ('聰明', 2), ('楊玉蓮', 2), ('楊佳蒨', 2), ('薛吉宏', 2), ('蔣宇帆', 2), ('對照', 2), ('開系爭', 2), ('電風扇', 2), ('吳雨', 2), ('潘怡君', 2), ('彭柏翔', 2), ('高壓', 2), ('代工', 2), ('員', 2), ('僱用', 2), ('小人', 2), ('許文', 2), ('曾女', 2), ('分得', 2), ('有時', 2), ('狹小', 2), ('周嘉鈴', 2), ('楊甫', 2), ('余姵蓁', 2), ('豐泰', 2), ('邱明賢', 2), ('邊緣', 2), ('弘哲', 2), ('到處', 2), ('東森', 2), ('桃園', 2), ('另陳懷', 2), ('王尚仁', 2), ('邱芳盛', 2), ('雙淇淋機', 2), ('張王菊子', 2), ('偽簽', 2), ('吳昱林', 2), ('保健食品', 2), ('張湘玉', 2), ('齊願', 2), ('不雅', 2), ('街及', 2), ('前門', 2), ('商標權', 2), ('角而', 2), ('初步', 2), ('陸佰肆', 2), ('一點', 2), ('竹林', 2), ('貨', 2), ('靖喻', 2), ('薪', 2), ('參元', 2), ('代繳', 2), ('女子', 2), ('超商', 2), ('同為', 2), ('召開', 2), ('留在', 2), ('行健', 2), ('鄭滿香', 2), ('濱', 2), ('金延齡', 2), ('黃淑惠', 2), ('空', 2), ('疾病', 2), ('媺', 2), ('開窗', 2), ('城怡娃', 2), ('邱冠翔', 2), ('一只', 2), ('畢即', 2), ('之山葉', 2), ('心', 2), ('信義', 2), ('鬆動', 2), ('三民路', 2), ('號電桿', 2), ('瓶', 2), ('光復', 2), ('同樓', 2), ('張念台', 2), ('出去', 2), ('賴', 2), ('短扣', 2), ('造人吳', 2), ('台幣肆', 2), ('義孟車損', 2), ('王荷', 2), ('梅蘭', 2), ('楊御樞', 2), ('敬仁', 2), ('謝金桃', 2), ('打給', 2), ('郭嘉琪', 2), ('另告', 2), ('白河', 2), ('本原', 2), ('王非', 2), ('蔡伊尹', 2), ('永', 2), ('大榮', 2), ('五期', 2), ('人去樓空', 2), ('淑女', 2), ('故於', 2), ('鄭清芳', 2), ('莊松雄', 2), ('劉誼', 2), ('蔡秉達', 2), ('因素', 2), ('偵續', 2), ('人作', 2), ('德旺', 2), ('邱敏雄', 2), ('移動', 2), ('之中', 2), ('睡覺', 2), ('產權', 2), ('工街', 2), ('鏽蝕', 2), ('緊靠', 2), ('籤', 2), ('德利', 2), ('整治', 2), ('拾得', 2), ('廖錦芳', 2), ('典當', 2), ('人賴家', 2), ('人黃旨', 2), ('仍將', 2), ('小弟', 2), ('吳富', 2), ('麥月桃', 2), ('遷入', 2), ('共張', 2), ('蕭菽芸', 2), ('說明書', 2), ('聰敏', 2), ('不服', 2), ('三車', 2), ('陸佰玖', 2), ('李心', 2), ('先帶', 2), ('文豪', 2), ('文理', 2), ('復興', 2), ('廂式', 2), ('偉銘', 2), ('慶賢', 2), ('蔡耿榮願', 2), ('桂珠', 2), ('戴妙臻', 2), ('林珮津', 2), ('瘦仔', 2), ('相連', 2), ('黃水', 2), ('李永傑', 2), ('舒彥', 2), ('曬', 2), ('張極', 2), ('簡萍蘭', 2), ('館主', 2), ('鄭春來', 2), ('新店', 2), ('路竹', 2), ('謝宗憲', 2), ('人榮珮華', 2), ('應該', 2), ('私設', 2), ('予對造', 2), ('極限', 2), ('樓前', 2), ('草場', 2), ('閆恒蛟', 2), ('骨盆', 2), ('主管', 2), ('改變', 2), ('爸', 2), ('橫突', 2), ('純修', 2), ('有利可圖', 2), ('人陳禎', 2), ('業於', 2), ('最高', 2), ('珠願', 2), ('何柏逸', 2), ('住院費用', 2), ('路自', 2), ('劉季', 2), ('朱美娥', 2), ('簡財發', 2), ('大漢', 2), ('遭其', 2), ('吳文', 2), ('弟弟', 2), ('後續', 2), ('穿著', 2), ('婆婆', 2), ('張果', 2), ('蔡耿榮', 2), ('李星輝', 2), ('已達', 2), ('周貴', 2), ('元寶', 2), ('不租', 2), ('啟恩', 2), ('時長', 2), ('凱基', 2), ('桂車損', 2), ('西港', 2), ('郁晟', 2), ('桌個', 2), ('大拇指', 2), ('互為', 2), ('李秀珠', 2), ('有頭', 2), ('知名', 2), ('江姿瑩', 2), ('規格', 2), ('掛鉤', 2), ('變形', 2), ('只付', 2), ('關上', 2), ('張富發', 2), ('楊宗翰', 2), ('陸仟元則', 2), ('謝進', 2), ('丁方均', 2), ('采昀', 2), ('美花', 2), ('結識', 2), ('飼主', 2), ('需再', 2), ('鐵材', 2), ('一方', 2), ('任', 2), ('十字路', 2), ('吳慧玲', 2), ('賒欠', 2), ('銀勳', 2), ('難以', 2), ('東向西', 2), ('林貞宏', 2), ('許振河', 2), ('宜蘭', 2), ('圍籬', 2), ('每日', 2), ('雜物', 2), ('人黃珮雯', 2), ('造人並', 2), ('工務段', 2), ('農科', 2), ('手錶', 2), ('腦膜', 2), ('弄路', 2), ('林聖憲', 2), ('技師', 2), ('高嘉翊', 2), ('方麥', 2), ('金項鍊', 2), ('睡眠', 2), ('而來', 2), ('麻痺', 2), ('並願', 2), ('地磚', 2), ('球館', 2), ('外面', 2), ('臺北', 2), ('柯葉', 2), ('工程顧問', 2), ('饒育', 2), ('李國明', 2), ('馬路上', 2), ('日內', 2), ('林秀盈', 2), ('高牆', 2), ('第人張', 2), ('李文玉', 2), ('張梅足', 2), ('萬象', 2), ('切車', 2), ('廣慈街', 2), ('人林華訓', 2), ('倫體', 2), ('謝育君', 2), ('蔡忠彥', 2), ('有權', 2), ('保管箱', 2), ('麒', 2), ('鄭君平', 2), ('人黃于', 2), ('群', 2), ('閎', 2), ('美人', 2), ('東建', 2), ('造人傅', 2), ('全新', 2), ('動物', 2), ('薇', 2), ('皇龍', 2), ('郭信雄', 2), ('方景亮', 2), ('吳芷琳', 2), ('榮吉', 2), ('得款', 2), ('俊', 2), ('平交道', 2), ('防治法', 2), ('願以', 2), ('韋寧', 2), ('質', 2), ('半夜', 2), ('數期', 2), ('星期天', 2), ('點多', 2), ('驛', 2), ('劉良浩', 2), ('添軒', 2), ('妻子', 2), ('田蘭英', 2), ('社內村', 2), ('吳忠明', 2), ('楊東', 2), ('現金支付', 2), ('減速', 2), ('徵信社', 2), ('保障', 2), ('相互間', 2), ('郭睿', 2), ('柒拾伍', 2), ('每年', 2), ('林有福', 2), ('鵬', 2), ('骯髒', 2), ('呂炎琴', 2), ('蔡銘徽', 2), ('之個', 2), ('致陳', 2), ('永大', 2), ('蕭瑞敏', 2), ('探視權', 2), ('頎方', 2), ('爰', 2), ('詳談', 2), ('王浩宇', 2), ('無線', 2), ('區區', 2), ('中華日報', 2), ('鄭繡玉', 2), ('寵物用品', 2), ('通相姦', 2), ('手提包', 2), ('人黃振育', 2), ('莊翠蘭', 2), ('人葉緣', 2), ('嗎', 2), ('張智堯', 2), ('日興', 2), ('建興', 2), ('記得', 2), ('理事長', 2), ('劉蘇麗珠', 2), ('再生能源', 2), ('建樺', 2), ('蘇隆義', 2), ('署', 2), ('蔡泳震', 2), ('王彥', 2), ('溫股', 2), ('停靠', 2), ('吳永霖', 2), ('並且', 2), ('彰', 2), ('凱體傷', 2), ('徐玉珍', 2), ('郭奎菜', 2), ('整後即', 2), ('呼吸衰竭', 2), ('灑水', 2), ('林玉理', 2), ('杜銘豪', 2), ('觀亭', 2), ('抽水', 2), ('連', 2), ('受雇', 2), ('格前', 2), ('四人', 2), ('年紀', 2), ('婦產科', 2), ('據致', 2), ('劉育智', 2), ('宮娥', 2), ('聖心', 2), ('柒佰壹拾', 2), ('青所', 2), ('亟需', 2), ('冠淳', 2), ('中之安親', 2), ('吳榮峰', 2), ('同學', 2), ('既', 2), ('王哲偉', 2), ('停止', 2), ('羿蓁', 2), ('巫', 2), ('誤認', 2), ('李心雅', 2), ('李怡靜', 2), ('並拿', 2), ('至廷', 2), ('翁月蘭', 2), ('魏', 2), ('其受', 2), ('柒佰參拾', 2), ('丈量', 2), ('隱私', 2), ('明體', 2), ('以前', 2), ('花旗', 2), ('包裝', 2), ('寄放', 2), ('慶涵', 2), ('蔡先生', 2), ('郭瑞枝', 2), ('侯佩玲', 2), ('照明', 2), ('林正', 2), ('魏穆', 2), ('肆萬陸', 2), ('水', 2), ('舒晴', 2), ('經理', 2), ('天色', 2), ('鋁窗', 2), ('人林香', 2), ('依死', 2), ('香', 2), ('前向', 2), ('恐', 2), ('射擊', 2), ('扯掉', 2), ('捌佰壹', 2), ('建昌', 2), ('移車', 2), ('占', 2), ('人黃弘', 2), ('王翁桂', 2), ('謝涵', 2), ('施做', 2), ('邱利秦', 2), ('就要', 2), ('第一期', 2), ('鋼管', 2), ('同鄉會', 2), ('用途', 2), ('捏造', 2), ('人陳義孟', 2), ('權利義務', 2), ('英傑', 2), ('怡安路', 2), ('許涵', 2), ('拉傷', 2), ('未到', 2), ('許幸子', 2), ('華西街', 2), ('金元寶', 2), ('褘', 2), ('沿中', 2), ('顏士', 2), ('加盟', 2), ('劉富雄', 2), ('鐵棒', 2), ('菁', 2), ('蔡明', 2), ('新美街', 2), ('預繳', 2), ('電暖器', 2), ('嬌', 2), ('鄭幸子', 2), ('鄭春琅', 2), ('大林', 2), ('有限責任', 2), ('王麗容', 2), ('壓到', 2), ('施麗紅', 2), ('聯盟', 2), ('永勝', 2), ('逃匿', 2), ('擁有', 2), ('蔡素靜', 2), ('鄰', 2), ('梁典祥', 2), ('薛魏', 2), ('林展弘', 2), ('宋建南', 2), ('翁睿澤', 2), ('羅文', 2), ('開關', 2), ('菸酒', 2), ('干擾', 2), ('樑', 2), ('埩', 2), ('頎盛', 2), ('區兵', 2), ('背面', 2), ('至許', 2), ('安通', 2), ('湖美二街', 2), ('伊瑄', 2), ('臨時工', 2), ('潘慧芳', 2), ('回程', 2), ('鋪設', 2), ('澔', 2), ('工程處', 2), ('王繪', 2), ('致何仲因', 2), ('人方彥', 2), ('人林鉦皓', 2), ('寶煌', 2), ('撞倒', 2), ('怕', 2), ('日間', 2), ('遲旻修', 2), ('棻', 2), ('人宅', 2), ('千越', 2), ('參萬玖仟元整', 2), ('數位', 2), ('按時', 2), ('電器', 2), ('張奕勝及', 2), ('柯尊致', 2), ('設計師', 2), ('繳款', 2), ('優惠', 2), ('褓', 2), ('遊說', 2), ('吳佳霖', 2), ('鄭守元', 2), ('人見', 2), ('緣聲', 2), ('摔落', 2), ('尚允', 2), ('剩下', 2), ('路肩', 2), ('正明', 2), ('退縮', 2), ('苡', 2), ('芮萱', 2), ('姿惠體傷', 2), ('各壹', 2), ('公設', 2), ('匯至', 2), ('陰莖', 2), ('陳小姐', 2), ('吳敏薇', 2), ('需載', 2), ('李政憲', 2), ('美珠', 2), ('車隊', 2), ('葉梅桂', 2), ('第二項', 2), ('路共食', 2), ('王麗鸞', 2), ('電影', 2), ('安全門', 2), ('捌佰陸拾', 2), ('郭上', 2), ('立榮', 2), ('謝俊宏', 2), ('學歷', 2), ('交貨', 2), ('永久', 2), ('蔬菜', 2), ('樓層', 2), ('行之', 2), ('整間', 2), ('現要', 2), ('李婉津', 2), ('張芳瑜', 2), ('送達', 2), ('杯', 2), ('林月琴', 2), ('因請', 2), ('左手腕', 2), ('擊中', 2), ('哲宇', 2), ('區台線', 2), ('寺', 2), ('劉建明', 2), ('之車損', 2), ('李蘊恩', 2), ('張力', 2), ('朱美燕', 2), ('園', 2), ('三會', 2), ('胡凱翔', 2), ('打壞', 2), ('正強', 2), ('經濟部', 2), ('人陳鈺淞體傷', 2), ('張鈺玲', 2), ('肆萬柒仟元整', 2), ('甚', 2), ('之民', 2), ('郭和蒲', 2), ('將門', 2), ('調字', 2), ('鄭意', 2), ('接到', 2), ('認聲', 2), ('唐溪', 2), ('中興路', 2), ('售價', 2), ('久', 2), ('東和路', 2), ('舞廳', 2), ('水及', 2), ('珊修', 2), ('段路', 2), ('惠鈴', 2), ('淑英', 2), ('鄭慧', 2), ('民醫院', 2), ('避免', 2), ('龔', 2), ('李慶隆', 2), ('碰觸', 2), ('墊付', 2), ('盛', 2), ('簽章', 2), ('吳岱螢', 2), ('嘉南', 2), ('隱匿', 2), ('瑞豐', 2), ('透天', 2), ('膝', 2), ('攸', 2), ('吳芊', 2), ('不理', 2), ('之犬', 2), ('洋', 2), ('名單', 2), ('佳靖', 2), ('蔡通榮', 2), ('發覺', 2), ('柏仁', 2), ('造人原', 2), ('張其', 2), ('林重安', 2), ('法商', 2), ('美蘭', 2), ('林君豪', 2), ('廖銘姿', 2), ('柒佰玖拾', 2), ('莊林堂', 2), ('胡鼎炎', 2), ('人分', 2), ('架', 2), ('推車', 2), ('清體傷', 2), ('淩', 2), ('號成', 2), ('該路號', 2), ('其擾', 2), ('格內', 2), ('王昕', 2), ('澤及', 2), ('黃志忠', 2), ('寧體傷', 2), ('蔡志', 2), ('以腳', 2), ('僅需', 2), ('元並', 2), ('安全帶', 2), ('老板', 2), ('劉朝席', 2), ('偉志', 2), ('郭昱宏', 2), ('簡上', 2), ('吳體', 2), ('開重', 2), ('鏡頭', 2), ('裁切', 2), ('書房', 2), ('所欠', 2), ('其因', 2), ('人林吉村', 2), ('號橋', 2), ('下顎', 2), ('光賢段', 2), ('下旬', 2), ('尤香蓮', 2), ('林秉叡', 2), ('王書政', 2), ('鄉農', 2), ('徐蘇秀花', 2), ('閃煞', 2), ('進雄', 2), ('俞潔', 2), ('吳孟峰', 2), ('何馨楠', 2), ('中校', 2), ('余奕萱', 2), ('榮車損', 2), ('之名', 2), ('素嬌', 2), ('搖擺', 2), ('葉榮', 2), ('申棟', 2), ('兩棟', 2), ('智慧財產', 2), ('吳淑貞', 2), ('玩', 2), ('人因', 2), ('腓骨', 2), ('楊子賢', 2), ('文謙', 2), ('王俊智', 2), ('傷傷', 2), ('范', 2), ('余振榮', 2), ('樓高', 2), ('警局', 2), ('溫', 2), ('起以', 2), ('鼓吹', 2), ('攤販', 2), ('九', 2), ('媜', 2), ('精等', 2), ('奇隆', 2), ('葉馨', 2), ('平臺', 2), ('彭', 2), ('菊花', 2), ('四名', 2), ('楊璧鳳', 2), ('熱水爐', 2), ('林南吉', 2), ('人持', 2), ('蘇逸茹', 2), ('彩蓮體傷', 2), ('收執', 2), ('李維軒', 2), ('塏', 2), ('婉鈺', 2), ('正杉', 2), ('農曆年', 2), ('酒店', 2), ('餐車', 2), ('扳機', 2), ('董慧馨', 2), ('殘體', 2), ('王雅瑩', 2), ('隨後', 2), ('薛碧香', 2), ('關門', 2), ('侯梅', 2), ('伍芙茵', 2), ('綑', 2), ('冷凍', 2), ('顏高敏', 2), ('薛暖慧', 2), ('錢莊', 2), ('人方國', 2), ('汶樺', 2), ('受領', 2), ('賴淑芬', 2), ('院', 2), ('任華', 2), ('造人洪', 2), ('廷', 2), ('鄭孟藝', 2), ('富麗', 2), ('不利', 2), ('錢黛萍', 2), ('公司股票', 2), ('散播', 2), ('方仲儀', 2), ('一鑫', 2), ('洪文二體傷', 2), ('邱馨瑤', 2), ('周峻毅', 2), ('路之交', 2), ('牟利', 2), ('知情', 2), ('壞', 2), ('黃楊', 2), ('專利', 2), ('翠', 2), ('故請', 2), ('點唱機', 2), ('岑秉龍', 2), ('勒住', 2), ('德國', 2), ('李怡蓉', 2), ('硬', 2), ('票', 2), ('砍傷', 2), ('周湘瑤', 2), ('區安明', 2), ('料件', 2), ('永安路', 2), ('化妝品', 2), ('陳玉蓮', 2), ('湘雅', 2), ('鄭秀慧', 2), ('韓菁萍', 2), ('肺炎', 2), ('愛華', 2), ('林先生', 2), ('設於', 2), ('林宥', 2), ('蔡芳芬', 2), ('哀', 2), ('國賓', 2), ('法', 2), ('商場', 2), ('鬥爭', 2), ('發放', 2), ('黃河', 2), ('汪敬逸', 2), ('外門', 2), ('年資', 2), ('慧', 2), ('吟', 2), ('支號', 2), ('紡織', 2), ('王朝', 2), ('聽到', 2), ('人傅', 2), ('午餐', 2), ('裸照', 2), ('屋門', 2), ('修剪', 2), ('附表', 2), ('載有', 2), ('老化', 2), ('預付', 2), ('承接', 2), ('金融', 2), ('指對', 2), ('傷勢', 2), ('李克洛', 2), ('郭婉婷', 2), ('吳宥潔', 2), ('尤福', 2), ('鏈條', 2), ('郭杰霖', 2), ('海佃', 2), ('謝明勳', 2), ('鵝肉', 2), ('乙事聲', 2), ('柏升', 2), ('五筆', 2), ('王保盛', 2), ('林岳鋒', 2), ('吳致', 2), ('林俊', 2), ('總共', 2), ('區福德', 2), ('刨除', 2), ('從樓', 2), ('家用', 2), ('永昌', 2), ('過大', 2), ('請出', 2), ('下去', 2), ('之同額', 2), ('同地號', 2), ('大量', 2), ('長興', 2), ('讚', 2), ('蔡淑貞', 2), ('楊嘉珍', 2), ('謨', 2), ('柯文', 2), ('適對', 2), ('朱嘉俊', 2), ('玉體', 2), ('吳湘', 2), ('核准', 2), ('法師', 2), ('或物', 2), ('國威', 2), ('劉芸', 2), ('文元段', 2), ('事情', 2), ('華銀', 2), ('會同', 2), ('違建', 2), ('會員', 2), ('修敏', 2), ('人陳淑惠', 2), ('對黃昱翔', 2), ('徐俊', 2), ('單影', 2), ('人陳琴治', 2), ('葉亭', 2), ('書為', 2), ('因來', 2), ('本市', 2), ('人羅于婷', 2), ('寶珠', 2), ('昌', 2), ('南輝', 2), ('二王', 2), ('自由', 2), ('王含玉', 2), ('派員', 2), ('敲', 2), ('載明', 2), ('快車道', 2), ('侯金', 2), ('十字', 2), ('蔡昆澤', 2), ('偵第號', 2), ('並用', 2), ('鄭雅云', 2), ('彩女', 2), ('祝', 2), ('凱文', 2), ('堆放', 2), ('一半', 2), ('運行', 2), ('殘疾', 2), ('部位', 2), ('直', 2), ('靖', 2), ('再於', 2), ('衝', 2), ('受其', 2), ('性休克', 2), ('惟未', 2), ('曾慶埏', 2), ('蔡命', 2), ('卡號', 2), ('呂奇龍', 2), ('豐華', 2), ('大勇', 2), ('人林彥', 2), ('交通局', 2), ('林王昭治', 2), ('郭繼明', 2), ('掛號', 2), ('澎湖', 2), ('吳雅筑', 2), ('由為', 2), ('住址', 2), ('旁路', 2), ('欣容', 2), ('安順', 2), ('大維', 2), ('生活費用', 2), ('孫秀', 2), ('薛正延', 2), ('眼睛', 2), ('滑板', 2), ('對外', 2), ('李蘊恩願', 2), ('賴麗娜', 2), ('該案', 2), ('移送', 2), ('六路', 2), ('還', 2), ('世振', 2), ('蔡嘉隆', 2), ('點等語', 2), ('派', 2), ('人陳婉婷', 2), ('建宏', 2), ('五霖', 2), ('鑑定書', 2), ('聽力', 2), ('在職', 2), ('後並', 2), ('文忠', 2), ('蘇容', 2), ('戶政事務', 2), ('通過', 2), ('威脅', 2), ('女嬰', 2), ('一般', 2), ('造人陳雅晴', 2), ('鑽孔', 2), ('髒亂', 2), ('物及', 2), ('集集', 2), ('稽核', 2), ('集', 2), ('三萬', 2), ('影視', 2), ('意路', 2), ('蓉', 2), ('朱清', 2), ('俊傑', 2), ('鄭淑芬', 2), ('引擎', 2), ('莊惠', 2), ('玉英', 2), ('鄭璋', 2), ('一帶', 2), ('焜', 2), ('起身', 2), ('成交價', 2), ('楊文忠', 2), ('護士', 2), ('簽定', 2), ('沈柏穎', 2), ('植物', 2), ('動力機械', 2), ('肩部', 2), ('造人湯', 2), ('監遂', 2), ('林宗仁', 2), ('雇用', 2), ('許錦桃', 2), ('惟現', 2), ('城國隆', 2), ('濱海', 2), ('李芷因', 2), ('致楊', 2), ('得手', 2), ('林秀芳', 2), ('這樣', 2), ('王合瑞', 2), ('曾家豪', 2), ('逾個', 2), ('允若', 2), ('萎縮', 2), ('並依', 2), ('志成', 2), ('程登祿', 2), ('慈音', 2), ('遙控器', 2), ('駕', 2), ('含上', 2), ('人陳麗珍', 2), ('第二顆', 2), ('蔡宗恩', 2), ('列帳', 2), ('成杏', 2), ('僅以', 2), ('奧', 2), ('就是', 2), ('鉛版', 2), ('號聲', 2), ('薰', 2), ('還去', 2), ('李美瑩', 2), ('座落在', 2), ('標的', 2), ('蘇守堂', 2), ('萬玖仟', 2), ('王玟', 2), ('拖車', 2), ('何沛歆', 2), ('汪偉翔', 2), ('擴大', 2), ('人魏', 2), ('人陳怡慧', 2), ('之作', 2), ('退', 2), ('惟車損', 2), ('隔音', 2), ('人富', 2), ('造人陳旻宏', 2), ('給他', 2), ('巷樓', 2), ('冷凍庫', 2), ('高雄縣', 2), ('踩踏', 2), ('鄧煜馨', 2), ('電腦主機', 2), ('堤防', 2), ('五人', 2), ('勞動法', 2), ('兩廣', 2), ('順財', 2), ('李秀', 2), ('之合', 2), ('民安', 2), ('捌佰肆', 2), ('林展', 2), ('負荷', 2), ('方秀櫻', 2), ('起來', 2), ('瑞雲', 2), ('林幼綿', 2), ('所訂', 2), ('鄭英富', 2), ('另將', 2), ('造人顏', 2), ('進田', 2), ('區欲往', 2), ('余佩玲', 2), ('請聲', 2), ('感覺', 2), ('未得聲', 2), ('不好', 2), ('保單', 2), ('氣墊', 2), ('呂盈荻', 2), ('周芳', 2), ('住宿', 2), ('前面', 2), ('張軒', 2), ('謝麗', 2), ('鎮段', 2), ('一腳', 2), ('吳木森', 2), ('充作', 2), ('林亭吟', 2), ('主動', 2), ('鄭雅', 2), ('等情', 2), ('劉金雀', 2), ('陸元', 2), ('水淹', 2), ('某屋', 2), ('茜', 2), ('經常', 2), ('登載', 2), ('如玉', 2), ('谷文硯', 2), ('育英', 2), ('開合', 2), ('鯤', 2), ('第地號', 2), ('西段', 2), ('只能', 2), ('劉卓', 2), ('然上', 2), ('父母', 2), ('死死', 2), ('林吉雄', 2), ('圖', 2), ('交與', 2), ('餘', 2), ('森木', 2), ('葉宇婷', 2), ('人卓雅玲', 2), ('貝拉', 2), ('一再', 2), ('吳依倫', 2), ('角及', 2), ('記憶卡', 2), ('運費', 2), ('子孫', 2), ('王偉聖', 2), ('詹', 2), ('照', 2), ('人陳宗湖', 2), ('莊弘松', 2), ('網購', 2), ('興農', 2), ('覺得', 2), ('蘇渟文', 2), ('吳志仁', 2), ('溪尾', 2), ('伍佰陸', 2), ('人黃婉禎', 2), ('彩', 2), ('元會', 2), ('彈琴', 2), ('芳', 2), ('遊藝場', 2), ('熱氣', 2), ('吳雅敏', 2), ('原於', 2), ('雅玲', 2), ('雨衣', 2), ('珺', 2), ('王澤宏', 2), ('鄭佳印', 2), ('清貴', 2), ('上建號', 2), ('以肆', 2), ('楊韻潔', 2), ('郭于', 2), ('劉張', 2), ('郭水金', 2), ('周金亮', 2), ('改良', 2), ('林幸蓉', 2), ('圖利', 2), ('缺乏', 2), ('藝品店', 2), ('南工處', 2), ('崇學路', 2), ('書籍', 2), ('吳誠緯', 2), ('拒付', 2), ('李玉', 2), ('許祺明', 2), ('秀珠', 2), ('有名', 2), ('走動', 2), ('侑', 2), ('李至弘', 2), ('疑因', 2), ('藉詞', 2), ('八德', 2), ('扣留', 2), ('軍用', 2), ('朱利', 2), ('環宇', 2), ('拿走', 2), ('世', 2), ('地主', 2), ('劉瀚中', 2), ('侯素', 2), ('前自', 2), ('標俊辰', 2), ('賭場', 2), ('公款', 2), ('協會', 2), ('張然成', 2), ('諭', 2), ('零玖拾', 2), ('改建', 2), ('傅星晨', 2), ('施素', 2), ('洪語婕', 2), ('門市', 2), ('好友', 2), ('掛槍', 2), ('茂輝', 2), ('偷', 2), ('楊雯雯', 2), ('現有', 2), ('瑞', 2), ('新民', 2), ('資格', 2), ('失當', 2), ('均遭', 2), ('工具機', 2), ('其至', 2), ('撞致', 2), ('代理人', 2), ('供稱', 2), ('奢侈', 2), ('找到', 2), ('無照', 2), ('建築工地', 2), ('洪惠敏', 2), ('互提', 2), ('珚', 2), ('尾', 2), ('湯碧琴', 2), ('薛如芬', 2), ('郭育彰', 2), ('人陳永蓮', 2), ('邱秀芬', 2), ('受體', 2), ('哲體傷', 2), ('林亮葦', 2), ('臀部', 2), ('木林', 2), ('七街', 2), ('磨具', 2), ('沙坑', 2), ('明秀', 2), ('莊千儀', 2), ('三次', 2), ('人陳席', 2), ('人江秉家', 2), ('明吉修', 2), ('二個', 2), ('藍甫卿', 2), ('楠梓', 2), ('何仲因', 2), ('鐵屑', 2), ('新加坡', 2), ('許進昌', 2), ('釘', 2), ('非望', 2), ('玫螢', 2), ('王德榮', 2), ('國有', 2), ('意外險', 2), ('路前', 2), ('身上', 2), ('整建', 2), ('拒絕往來', 2), ('另涉', 2), ('電錶', 2), ('滑向', 2), ('我要', 2), ('輕型', 2), ('可德', 2), ('號建地', 2), ('庭', 2), ('人連', 2), ('未留', 2), ('零陸佰元整', 2), ('萬千', 2), ('報請', 2), ('冷煤', 2), ('李史民', 2), ('藍麗玉', 2), ('楊閏光', 2), ('存', 2), ('獅', 2), ('啟峰', 2), ('生於', 2), ('走上', 2), ('美街', 2), ('吸乳器', 2), ('坤', 2), ('因無', 2), ('大德', 2), ('前輪', 2), ('生物', 2), ('夏邦', 2), ('另拾', 2), ('污辱', 2), ('思汝體傷', 2), ('人陳柏翰', 2), ('民雄鄉', 2), ('袁晨昕', 2), ('葉吟', 2), ('造人葉', 2), ('榮菁莉', 2), ('同聲', 2), ('算', 2), ('南投縣', 2), ('鐵板', 2), ('檢轉介', 2), ('要斷', 2), ('開工', 2), ('屋況', 2), ('三萬元', 2), ('蔡淑苓', 2), ('餘萬元', 2), ('神像', 2), ('王榮', 2), ('邱和章', 2), ('入屋', 2), ('周', 2), ('益民', 2), ('耀宏', 2), ('劃傷', 2), ('憑', 2), ('收益', 2), ('另以', 2), ('國興', 2), ('號的', 2), ('節', 2), ('奇寧', 2), ('蔡世仁', 2), ('李榮泰', 2), ('人樓', 2), ('鄒麗華', 2), ('金元', 2), ('張碧雄', 2), ('結冰', 2), ('避', 2), ('鐵工廠', 2), ('甘承恩', 2), ('經堯', 2), ('劉玲孜', 2), ('陸佰零肆', 2), ('之重', 2), ('售出', 2), ('邢德堂', 2), ('昭平', 2), ('任職期間', 2), ('施麗蘭', 2), ('感染', 2), ('損人', 2), ('李金爐', 2), ('張雅蕾', 2), ('投資法', 2), ('傷之', 2), ('張馨文', 2), ('張翊芳', 2), ('未立', 2), ('蘇梅凰', 2), ('蔣采', 2), ('佣金', 2), ('集合', 2), ('人羅莉惠', 2), ('王郁', 2), ('與羅貴金', 2), ('領走', 2), ('吳冠霆', 2), ('鄰地', 2), ('吳弘鈞行', 2), ('棠', 2), ('油', 2), ('談', 2), ('手續', 2), ('鄭仲妤', 2), ('芝角', 2), ('反對', 2), ('橙', 2), ('邱凱', 2), ('位', 2), ('段賢安街', 2), ('肱骨', 2), ('藝文', 2), ('小雨', 2), ('免除', 2), ('盈涵', 2), ('標準', 2), ('七喜', 2), ('女兒牆', 2), ('劉國英', 2), ('應繳', 2), ('方沛淳', 2), ('別人', 2), ('飲酒', 2), ('贏祥', 2), ('如為', 2), ('緹', 2), ('羽', 2), ('濂', 2), ('寵物店', 2), ('草稿', 2), ('斗六', 2), ('金葉', 2), ('王思懿', 2), ('收訖', 2), ('楊進', 2), ('自理', 2), ('慶雄', 2), ('沿文', 2), ('識字', 2), ('預告', 2), ('駱光裕', 2), ('博文', 2), ('拆佣', 2), ('儷', 2), ('三村', 2), ('彝', 2), ('桌', 2), ('物體', 2), ('領空', 2), ('邱慧芸', 2), ('家樂', 2), ('王得明', 2), ('周素', 2), ('致謝', 2), ('音響', 2), ('加上', 2), ('出國', 2), ('鄭羽庭', 2), ('上課', 2), ('及右', 2), ('郭惠珊', 2), ('快速道路', 2), ('居正', 2), ('牌前', 2), ('歸責', 2), ('單行道', 2), ('及於', 2), ('歐靜', 2), ('關閉', 2), ('下樓', 2), ('葉衍廷', 2), ('迄至', 2), ('公寓樓', 2), ('偽', 2), ('精工', 2), ('接觸', 2), ('賴逸驍', 2), ('楊翎', 2), ('王煜菱', 2), ('假意', 2), ('林芸', 2), ('萬玖仟元整', 2), ('人林婉蓉', 2), ('顓繹車損', 2), ('正忠', 2), ('如聲', 2), ('反悔', 2), ('溫雅', 2), ('柔體傷', 2), ('劉信良', 2), ('平整', 2), ('兌領', 2), ('溢出', 2), ('中斷', 2), ('承諾書', 2), ('東大', 2), ('另案處理', 2), ('高度', 2), ('憲無體傷', 2), ('郭品慧', 2), ('地檢', 2), ('玖佰參拾', 2), ('反鎖', 2), ('王萬祥', 2), ('慶平路', 2), ('胡明宏體傷', 2), ('蔡黃', 2), ('帆布', 2), ('莊云', 2), ('施嬰桃', 2), ('蘇秋菊', 2), ('蔡宗弦', 2), ('徐奕玄', 2), ('敲擊', 2), ('詹志翔', 2), ('番路', 2), ('家門', 2), ('蕭士', 2), ('宇洋', 2), ('人白宜', 2), ('邱素瑛', 2), ('行至', 2), ('其妻', 2), ('以黃雅霜', 2), ('門路', 2), ('破皮', 2), ('翁志文', 2), ('邱士榮', 2), ('劉展', 2), ('街交', 2), ('須依', 2), ('涂景文', 2), ('竟以', 2), ('邱俊', 2), ('吳鄭', 2), ('防火巷', 2), ('打球', 2), ('用電', 2), ('鄭一', 2), ('電告', 2), ('蕭辰易', 2), ('用及', 2), ('旨', 2), ('第人黃麗雅', 2), ('發電設備', 2), ('大和里文', 2), ('手腳', 2), ('不會', 2), ('李雅媛', 2), ('三台', 2), ('年刑', 2), ('領空權', 2), ('傅方儒', 2), ('康祥段', 2), ('手套', 2), ('場', 2), ('洪瑋遠', 2), ('不定期', 2), ('徵友', 2), ('肆元', 2), ('無誤', 2), ('欣願', 2), ('調取', 2), ('周鉦壹', 2), ('立人國', 2), ('林晏瑩', 2), ('莊勝宇', 2), ('之娛', 2), ('中古車', 2), ('棍子', 2), ('數日', 2), ('同上址', 2), ('棉被', 2), ('人辰豪', 2), ('拜訪', 2), ('爾特', 2), ('佯為', 2), ('葉雅芬', 2), ('蘇美', 2), ('建聲', 2), ('仕', 2), ('梁均', 2), ('蔡銀奇', 2), ('源商', 2), ('進輝', 2), ('一座', 2), ('燙傷', 2), ('祖母', 2), ('中並', 2), ('失控', 2), ('出生年月', 2), ('貨運行', 2), ('闖紅燈', 2), ('恫稱', 2), ('建宇', 2), ('記錄', 2), ('邱錦源', 2), ('保費', 2), ('豐', 2), ('張雅微', 2), ('曾經', 2), ('蔡金發', 2), ('勾掛', 2), ('李國文', 2), ('之同址', 2), ('宜泉', 2), ('張鏢淙', 2), ('移至', 2), ('髖部', 2), ('許惠茹', 2), ('窗外', 2), ('壓斷', 2), ('王孜任', 2), ('緯路路', 2), ('區嘉', 2), ('勞動', 2), ('渠母', 2), ('計費', 2), ('龔南愷', 2), ('國小旁', 2), ('陶', 2), ('其替', 2), ('谷文西', 2), ('戴佑全', 2), ('林高暉', 2), ('人告', 2), ('人之子', 2), ('愷', 2), ('郭榮傳', 2), ('水費', 2), ('人心', 2), ('黃信', 2), ('展店', 2), ('文斗', 2), ('漆晨', 2), ('雨傘', 2), ('落', 2), ('伍佰柒拾', 2), ('四萬', 2), ('不含', 2), ('蘇立', 2), ('全身', 2), ('以須', 2), ('繫', 2), ('郭柄志', 2), ('楊麗玲', 2), ('歲', 2), ('凹洞', 2), ('屆', 2), ('自首', 2), ('信路', 2), ('憑證', 2), ('全家', 2), ('溫淑惠', 2), ('日新段', 2), ('結凍', 2), ('楊森', 2), ('逃離現場', 2), ('西北', 2), ('官麗華', 2), ('涂慧英', 2), ('號自', 2), ('阮氏玲', 2), ('咖啡', 2), ('載運', 2), ('周貴彬', 2), ('福懋', 2), ('求救', 2), ('營收', 2), ('葉基湧', 2), ('斜坡', 2), ('吳秀桃', 2), ('均須', 2), ('一塊', 2), ('梅', 2), ('姆費', 2), ('裙子', 2), ('王裕銘', 2), ('致游雅雯', 2), ('將本件', 2), ('黃士', 2), ('特約', 2), ('人要', 2), ('美工刀', 2), ('及筆', 2), ('上層', 2), ('脅迫', 2), ('入侵', 2), ('該紙', 2), ('電廠', 2), ('及伍', 2), ('短', 2), ('吳火城', 2), ('全球', 2), ('板金', 2), ('因對造', 2), ('郭琬玉', 2), ('六萬元', 2), ('徐子翔', 2), ('籃球場', 2), ('陳莉蓁', 2), ('精神疾病', 2), ('沛蓁', 2), ('莊云詳', 2), ('貞', 2), ('許淑敏', 2), ('零肆', 2), ('鴻陽', 2), ('擺設', 2), ('招蓮', 2), ('忠勇', 2), ('翁林祺', 2), ('人林怡君', 2), ('屁股', 2), ('賢車損', 2), ('台幣陸', 2), ('訂定', 2), ('高低', 2), ('許政', 2), ('自對', 2), ('永祥', 2), ('偏名', 2), ('經元路', 2), ('本共經', 2), ('哲霖', 2), ('購車', 2), ('事實', 2), ('鄭吳', 2), ('麋', 2), ('以年', 2), ('設計費', 2), ('西門町', 2), ('荑', 2), ('金鳳', 2), ('觀光', 2), ('施瓊惠', 2), ('翁翊航', 2), ('人林暉祥', 2), ('楊順福', 2), ('進聲', 2), ('得逞', 2), ('吳嘉慧', 2), ('兵仔', 2), ('更正', 2), ('富德街', 2), ('黃東', 2), ('拆', 2), ('日應', 2), ('新華', 2), ('吳銘宏', 2), ('謝靜雯', 2), ('尤', 2), ('手腕', 2), ('張家', 2), ('門牙', 2), ('房屋貸款', 2), ('泰倫', 2), ('職務', 2), ('棟霖', 2), ('新營', 2), ('棒球', 2), ('光華', 2), ('屏東縣', 2), ('鄭誌', 2), ('兩支', 2), ('支及', 2), ('淦', 2), ('點唱', 2), ('零陸拾', 2), ('懿', 2), ('紀並', 2), ('音量', 2), ('涂陳錦子', 2), ('薀', 2), ('以此', 2), ('如果', 2), ('孜', 2), ('加壓', 2), ('蔡幼絨', 2), ('接至', 2), ('林佩珍', 2), ('潪', 2), ('炎墉', 2), ('服務處', 2), ('城', 2), ('李迪悠', 2), ('綁', 2), ('碰轟', 2), ('山莊', 2), ('本件僅', 2), ('迨', 2), ('不睦', 2), ('現對', 2), ('林語', 2), ('阻塞', 2), ('並稱', 2), ('壹佰柒拾', 2), ('洪健豪', 2), ('凱翔間', 2), ('七米', 2), ('至陽', 2), ('第個', 2), ('杜治緯', 2), ('吳彥', 2), ('逐', 2), ('邱萬', 2), ('蔡貞', 2), ('人童', 2), ('人林永祥', 2), ('翁鳴謙', 2), ('文德', 2), ('柯承宗', 2), ('驗', 2), ('建瑋', 2), ('出拳', 2), ('邱秀鶴', 2), ('思', 2), ('社群', 2), ('張莉婷', 2), ('同方向', 2), ('圓體', 2), ('李黃淑幸', 2), ('松興', 2), ('將油', 2), ('姿吟', 2), ('飲料店', 2), ('一言不合', 2), ('吳芷楹', 2), ('金鐘', 2), ('換發', 2), ('突', 2), ('連宸漢', 2), ('祖先', 2), ('重賢', 2), ('榮興', 2), ('清連', 2), ('江中', 2), ('回饋', 2), ('宜真', 2), ('受驚嚇', 2), ('李正川', 2), ('分院', 2), ('秋雄', 2), ('美車損', 2), ('六年', 2), ('吳坤隆', 2), ('警訊', 2), ('經中', 2), ('芍', 2), ('高雄地', 2), ('精神科', 2), ('惟有', 2), ('榮民', 2), ('郭秋君', 2), ('唐志鴻', 2), ('營利', 2), ('中止', 2), ('安排', 2), ('張銘傑', 2), ('堅持', 2), ('意願', 2), ('楊惠婷', 2), ('人陳昭元', 2), ('宋東', 2), ('整平', 2), ('朱瑞蘭', 2), ('層樓', 2), ('母', 2), ('油箱', 2), ('品質', 2), ('左偏', 2), ('洽談', 2), ('李維庭', 2), ('不負', 2), ('張幸', 2), ('人無體', 2), ('柯權', 2), ('邱靖雄', 2), ('怪手', 2), ('傅雅萍', 2), ('人大', 2), ('劉通智', 2), ('商請', 2), ('作業', 2), ('葉釋霞', 2), ('月租', 2), ('壹佰零', 2), ('盧炎輝', 2), ('底', 2), ('內湖', 2), ('寶林', 2), ('知悉', 2), ('杜宜蓉', 2), ('泰體傷', 2), ('工用', 2), ('巷作', 2), ('簡翊珈', 2), ('亡故', 2), ('納稅', 2), ('王俊雄', 2), ('南寧', 2), ('左邊', 2), ('肆佰肆', 2), ('李光', 2), ('乾洗', 2), ('多名', 2), ('臨時', 2), ('菜刀', 2), ('區淵', 2), ('任體傷', 2), ('孫永麟', 2), ('書立', 2), ('沿小', 2), ('親密', 2), ('蔡有銘', 2), ('檢查署', 2), ('二段式', 2), ('慢慢', 2), ('急難', 2), ('予洪秀鑾放', 2), ('宋美英', 2), ('上臂', 2), ('張芸', 2), ('五元', 2), ('蘇郁雯', 2), ('一些', 2), ('動物醫院', 2), ('內埔', 2), ('靜怡', 2), ('世璋', 2), ('認證', 2), ('郭張', 2), ('鈑', 2), ('張育敏', 2), ('雅車損', 2), ('令', 2), ('反於', 2), ('手指', 2), ('其為', 2), ('王雪麗', 2), ('及北忠街', 2), ('網咖店', 2), ('經台灣', 2), ('因開啟', 2), ('人陳怡潔', 2), ('顒', 2), ('余榮陽', 2), ('自備', 2), ('金秋', 2), ('兩顆', 2), ('廣車損', 2), ('乃文', 2), ('李雅琛', 2), ('童惠屏', 2), ('中小企業', 2), ('瑪雅', 2), ('豪文修', 2), ('鄭沛倫', 2), ('泰山', 2), ('韋君', 2), ('反擊', 2), ('保險公司', 2), ('李錦雀', 2), ('勾到', 2), ('阮伯洋', 2), ('蘇恒璋', 2), ('區正強', 2), ('駱遠', 2), ('朱怡靜', 2), ('差額', 2), ('詠翔', 2), ('翁靖雅修', 2), ('吳信廣', 2), ('東山', 2), ('仍然', 2), ('竹車損', 2), ('旅遊', 2), ('鼻子', 2), ('涉及', 2), ('之修', 2), ('代表人', 2), ('犯有', 2), ('計元整', 2), ('殘障', 2), ('蘇靖棠', 2), ('賴映', 2), ('遛狗', 2), ('人江佳', 2), ('增加', 2), ('爐', 2), ('鄭伊玲', 2), ('張燕鈴', 2), ('因見', 2), ('邱裕富', 2), ('拖', 2), ('王敬富', 2), ('良', 2), ('施以', 2), ('甲線', 2), ('擬於', 2), ('潘麒蓉', 2), ('撥付', 2), ('撥', 2), ('瓦斯筒', 2), ('李柏毅', 2), ('購', 2), ('小拇指', 2), ('保證書', 2), ('與劉', 2), ('並將聲', 2), ('沈俊廷', 2), ('隨時', 2), ('人黃峻弘', 2), ('石樹蘭', 2), ('幾萬元', 2), ('手上', 2), ('北里', 2), ('請解', 2), ('尊願', 2), ('傳單', 2), ('診治', 2), ('即日起', 2), ('限額', 2), ('跳票', 2), ('鄭鈞豪', 2), ('住進', 2), ('福建', 2), ('壹佰壹', 2), ('桶', 2), ('一位', 2), ('術後', 2), ('轉售', 2), ('認對', 2), ('李翊', 2), ('呂鳳珠', 2), ('郭俊麟', 2), ('林雨', 2), ('廟小段', 2), ('怡雯', 2), ('劉燕', 2), ('予王', 2), ('毛刷', 2), ('滲透到', 2), ('至上', 2), ('附圖', 2), ('應允', 2), ('邱閔南', 2), ('張訓銘', 2), ('李明德', 2), ('廖敏蓉', 2), ('吳伊婷', 2), ('財旺', 2), ('解結', 2), ('郭品', 2), ('九人', 2), ('美雪', 2), ('因已', 2), ('朝貴', 2), ('掃把', 2), ('信瑋', 2), ('受有', 2), ('李基福', 2), ('尤坤添', 2), ('台塑', 2), ('蔡宜蓁', 2), ('故經', 2), ('敗血', 2), ('施淑霞', 2), ('人林振宇', 2), ('養護', 2), ('人林慶豪', 2), ('信', 2), ('領班', 2), ('王淑瑩', 2), ('經紀', 2), ('紀虹玉', 2), ('蔡同', 2), ('廖嘉哲', 2), ('抱住', 2), ('抵達', 2), ('冠蓉', 2), ('莊先生', 2), ('吳坤', 2), ('灣', 2), ('李雨倫', 2), ('莊福仁', 2), ('塑膠袋', 2), ('老吳', 2), ('申行', 2), ('王敬驊', 2), ('列舉', 2), ('人林梅桂', 2), ('一輛', 2), ('控告', 2), ('松山區', 2), ('致陳偉仁', 2), ('之樓', 2), ('下陷', 2), ('人范元哲', 2), ('面前', 2), ('近日', 2), ('補強', 2), ('李貴珠', 2), ('張書堯', 2), ('處即', 2), ('婚紗店', 2), ('壹佰陸', 2), ('原先', 2), ('孫先宗', 2), ('半年', 2), ('腹部', 2), ('女士', 2), ('宏', 2), ('吳文堯間', 2), ('人陳安群', 2), ('運動', 2), ('刻', 2), ('憶', 2), ('變造', 2), ('商', 2), ('廖曉菁', 2), ('正當', 2), ('胡秋雲修', 2), ('加盟店', 2), ('金蘭', 2), ('小偷', 2), ('歡', 2), ('侮辱', 2), ('吳羿廷', 2), ('建案', 2), ('街由南', 2), ('撞及', 2), ('作廢', 2), ('陳莉莉', 2), ('林宜靜', 2), ('鹽行', 2), ('資金週轉', 2), ('吊飾', 2), ('禾', 2), ('騙', 2), ('百貨', 2), ('提及', 2), ('王文智', 2), ('人陳思', 2), ('葉馨蓮', 2), ('祖公', 2), ('交渠', 2), ('亞龍', 2), ('受損害', 2), ('遠東', 2), ('惟該', 2), ('全宏', 2), ('等傷', 2), ('前時', 2), ('綿車損', 2), ('吳聖瑜', 2), ('人黃銘祥', 2), ('母女', 2), ('狀並', 2), ('港區', 2), ('鳥', 1), ('靜巷', 1), ('進葉燦盛', 1), ('戰神', 1), ('蔡燿駿', 1), ('歐傳秀治', 1), ('市政', 1), ('與黃續', 1), ('魏秀娥', 1), ('將光室', 1), ('以南', 1), ('及時發現', 1), ('快', 1), ('惟對造', 1), ('朱政宇', 1), ('劉梓卿', 1), ('立方米', 1), ('乘立', 1), ('威達', 1), ('李雅惠', 1), ('及育賢街', 1), ('幾之新', 1), ('油湯', 1), ('古', 1), ('並轉介', 1), ('視訊', 1), ('蕭紋瑞', 1), ('林仕彬', 1), ('顏俊富', 1), ('填補', 1), ('德光街', 1), ('交鍾政憲', 1), ('朱曦', 1), ('圖份當', 1), ('曼華', 1), ('病名', 1), ('另伍', 1), ('爺爺', 1), ('眼花', 1), ('搖管機', 1), ('龜', 1), ('美德', 1), ('巷交岔處', 1), ('雲林縣', 1), ('鋒', 1), ('減免', 1), ('林佩貞', 1), ('妥', 1), ('吳家源', 1), ('才將', 1), ('邀請', 1), ('接洽', 1), ('公面', 1), ('楊璧鳳車', 1), ('造人瓦頓', 1), ('誘周芳', 1), ('撞死', 1), ('已損壞', 1), ('行列', 1), ('迴廊', 1), ('工讀生', 1), ('第二期', 1), ('緯路號', 1), ('林守禮', 1), ('意文', 1), ('豐民', 1), ('要招', 1), ('環保署', 1), ('史努比', 1), ('之桌', 1), ('兩旁', 1), ('蔦', 1), ('會談', 1), ('故轉介', 1), ('滴', 1), ('簡介', 1), ('王建智', 1), ('周轉', 1), ('福仁', 1), ('人無傷', 1), ('刑德堂', 1), ('惠玲', 1), ('分管', 1), ('振幅', 1), ('飯後', 1), ('子珍', 1), ('進德', 1), ('燈具', 1), ('速達', 1), ('阮榮', 1), ('不得不', 1), ('之佳成', 1), ('有何', 1), ('姿惠', 1), ('王昭蓉', 1), ('林王秀勤', 1), ('王泰', 1), ('顏于', 1), ('墓碑', 1), ('實行', 1), ('高仕倫', 1), ('載到', 1), ('及文', 1), ('人陳柏維', 1), ('元約', 1), ('霸味', 1), ('人元', 1), ('娟', 1), ('庠', 1), ('雨大', 1), ('既成', 1), ('三房', 1), ('高級', 1), ('張文', 1), ('腐蝕', 1), ('郭乃萍', 1), ('積累', 1), ('跌下去', 1), ('西邊', 1), ('簡沛', 1), ('烏魚子', 1), ('泰羽', 1), ('定向', 1), ('蘇玟', 1), ('李珍', 1), ('王長', 1), ('起因', 1), ('訰', 1), ('折價', 1), ('人共', 1), ('萬昌街', 1), ('尊', 1), ('高恒', 1), ('街街', 1), ('以黃敬', 1), ('一看', 1), ('郭美伶', 1), ('遭張', 1), ('所申', 1), ('刑事處分', 1), ('一間', 1), ('振明', 1), ('熱漲冷縮', 1), ('託付給', 1), ('建華', 1), ('次子', 1), ('單位名稱', 1), ('將渠', 1), ('唐麗', 1), ('全利並', 1), ('旋', 1), ('畫圖', 1), ('邱志偉', 1), ('全修', 1), ('經年', 1), ('第者', 1), ('閔均', 1), ('睢', 1), ('陸佰玖拾', 1), ('徵求', 1), ('天文', 1), ('林金連', 1), ('距骨', 1), ('資源', 1), ('部落', 1), ('狀元', 1), ('亙願', 1), ('林雲如', 1), ('徙', 1), ('持股', 1), ('人寶泓', 1), ('王夢涵', 1), ('美三街', 1), ('柯炯德', 1), ('李典', 1), ('珊願', 1), ('故認', 1), ('比同棟', 1), ('秋華', 1), ('毆傷', 1), ('中平', 1), ('深層', 1), ('鄭孟儒', 1), ('王儷燕', 1), ('王方春', 1), ('運輸', 1), ('收尾', 1), ('李彩蓮', 1), ('備齊', 1), ('平體', 1), ('相反', 1), ('卻持', 1), ('雨林', 1), ('路予', 1), ('改建工程', 1), ('勘查', 1), ('純', 1), ('安定', 1), ('財務報表', 1), ('韋兆安', 1), ('葉明泰', 1), ('正安', 1), ('按照', 1), ('季伶體傷', 1), ('郭清池', 1), ('兩對', 1), ('使用者', 1), ('請人修', 1), ('四號', 1), ('成品', 1), ('人起', 1), ('勝隆', 1), ('自聖輝', 1), ('地質', 1), ('柒佰捌', 1), ('林安鎮', 1), ('翔體傷', 1), ('人黃映', 1), ('帳目', 1), ('林宏陽', 1), ('順路', 1), ('簡詩恩', 1), ('劉泓為', 1), ('純美', 1), ('諦', 1), ('欣騎', 1), ('周志宏', 1), ('沈墨慈', 1), ('吳昌恭', 1), ('重重', 1), ('須由聲', 1), ('王惠玉', 1), ('養子', 1), ('林雨柔', 1), ('折斷', 1), ('數張', 1), ('登記手續', 1), ('仁賢為', 1), ('王旭華', 1), ('莊惠年', 1), ('戴明源', 1), ('埔里鎮', 1), ('壹組', 1), ('鄭王', 1), ('物批', 1), ('蕭吉', 1), ('鄭宇蓓', 1), ('宣芳', 1), ('坊', 1), ('換票', 1), ('完整性', 1), ('號謝', 1), ('貳期', 1), ('空瓶', 1), ('國基', 1), ('素娥', 1), ('異次元', 1), ('上下肢', 1), ('得將', 1), ('廖柏菁', 1), ('參萬玖仟', 1), ('推託', 1), ('之晴', 1), ('因住', 1), ('愛卿', 1), ('料屆', 1), ('呂林', 1), ('併發', 1), ('之壹個', 1), ('巖', 1), ('僅限於', 1), ('歐明傑', 1), ('金鑽水', 1), ('至本件', 1), ('調查', 1), ('以出', 1), ('涂淑芬', 1), ('本房', 1), ('貴元', 1), ('力宏', 1), ('燒材燉', 1), ('怡安', 1), ('齊將', 1), ('鐵路', 1), ('宏體傷', 1), ('未拿回', 1), ('劉文榮', 1), ('李榮宗向', 1), ('點心', 1), ('欽共乘', 1), ('王勝結', 1), ('交岔', 1), ('江該', 1), ('化學工業', 1), ('秀車損', 1), ('路科', 1), ('啼哭', 1), ('案而', 1), ('張國祥', 1), ('及擬', 1), ('孫瑞鴻', 1), ('心臟', 1), ('一大早', 1), ('相接', 1), ('王薦國', 1), ('傅青華', 1), ('追至', 1), ('李永鴻', 1), ('書報', 1), ('鄭孟藝修', 1), ('額新', 1), ('銀玉', 1), ('王含', 1), ('前處', 1), ('梁芳', 1), ('箋', 1), ('枷蓉', 1), ('不中意', 1), ('橫切面', 1), ('不清且', 1), ('之不實', 1), ('李天', 1), ('蔡漢助', 1), ('洋車', 1), ('言', 1), ('花錢', 1), ('極度', 1), ('壹佰貳', 1), ('促婷體', 1), ('日分', 1), ('電信業務', 1), ('癡', 1), ('自即日起', 1), ('並偽刻', 1), ('林梅貴', 1), ('北投區', 1), ('街共次', 1), ('傅智', 1), ('之排', 1), ('彩蓮', 1), ('不見蹤影', 1), ('檜木', 1), ('友聯', 1), ('李陳', 1), ('七期', 1), ('甩開', 1), ('洪明凱', 1), ('拿到', 1), ('依據', 1), ('巷鳳', 1), ('總醫院', 1), ('取走箱', 1), ('改成', 1), ('致顏', 1), ('人四人', 1), ('燒香', 1), ('起步', 1), ('人同', 1), ('有要', 1), ('刊盒', 1), ('蒼之父', 1), ('歹盡', 1), ('呂維庭', 1), ('曾葉', 1), ('轉用', 1), ('百分之十三', 1), ('邱崑', 1), ('許鎂津', 1), ('光茂', 1), ('銀行戶頭', 1), ('水泥漿', 1), ('未知', 1), ('周姿吟', 1), ('任克剛', 1), ('住在一起', 1), ('致洪明凱', 1), ('鼎', 1), ('東義', 1), ('此聲', 1), ('交還給', 1), ('任內', 1), ('蔡博任', 1), ('區南科', 1), ('牡丹', 1), ('知言', 1), ('點燃', 1), ('圍毆', 1), ('王昭人', 1), ('柯鶯鶯', 1), ('人標', 1), ('之堂', 1), ('張躍鍾', 1), ('強烈', 1), ('誠街', 1), ('資融役', 1), ('鐵板燒', 1), ('腳盤', 1), ('瑛', 1), ('使受', 1), ('王金', 1), ('新美', 1), ('娩出', 1), ('提醒', 1), ('橋西', 1), ('翰修', 1), ('油門', 1), ('鎖定', 1), ('膨脹', 1), ('清潔劑', 1), ('暫扣', 1), ('李明鴻無體傷', 1), ('君車損', 1), ('參仟元則', 1), ('人借', 1), ('林坤枝', 1), ('跟隨', 1), ('吉娃娃', 1), ('緣於', 1), ('坐在', 1), ('蔡樹芬', 1), ('催離止', 1), ('製藥', 1), ('黃家', 1), ('汎', 1), ('碎粒', 1), ('吳玉婷', 1), ('人史', 1), ('推對', 1), ('李伊好', 1), ('真空成型', 1), ('性別', 1), ('親人', 1), ('里區', 1), ('銹櫻', 1), ('輝國', 1), ('泡腳機', 1), ('及孫', 1), ('盧昕宏', 1), ('偵', 1), ('石場', 1), ('滋生', 1), ('取走聲', 1), ('農路', 1), ('真體傷', 1), ('未善', 1), ('楊雲翔', 1), ('區育', 1), ('堤岸', 1), ('長泰', 1), ('几無車損', 1), ('產期', 1), ('祈有', 1), ('未保', 1), ('致施雯禎', 1), ('學府', 1), ('林珍怡', 1), ('人疑', 1), ('廖見', 1), ('則僅須', 1), ('穢語', 1), ('裝有', 1), ('另林母', 1), ('雇主', 1), ('標購', 1), ('狹怨', 1), ('業為', 1), ('豐車損', 1), ('劉惠貞', 1), ('照料', 1), ('人台', 1), ('含稅', 1), ('盧蒨', 1), ('設門', 1), ('許鎂津均', 1), ('之交', 1), ('露台', 1), ('匯回', 1), ('巫居旺', 1), ('貴金', 1), ('夫去', 1), ('何淑娥', 1), ('訓誡', 1), ('林素', 1), ('初期', 1), ('可代為', 1), ('呂銀治', 1), ('人黃譽', 1), ('補貼', 1), ('天山', 1), ('因未帶', 1), ('李佳蔚', 1), ('盧慈恩車損', 1), ('第十八', 1), ('適郭', 1), ('錯將', 1), ('散熱', 1), ('六樓', 1), ('作贏', 1), ('所涉', 1), ('輪胎', 1), ('憤怒', 1), ('三審', 1), ('其願負', 1), ('劉碧園', 1), ('人事', 1), ('買主', 1), ('緊張狀態', 1), ('楠車損', 1), ('德自', 1), ('吳登峻', 1), ('分之及', 1), ('損翁', 1), ('林姿岑', 1), ('控制器', 1), ('騙術', 1), ('盈', 1), ('浩瀚', 1), ('最', 1), ('購地', 1), ('金城', 1), ('王旭華未', 1), ('大廳', 1), ('敏慧', 1), ('昕', 1), ('旭', 1), ('世德', 1), ('並再', 1), ('人雙', 1), ('南開', 1), ('富農', 1), ('購物中心', 1), ('過快', 1), ('文星', 1), ('沿頂', 1), ('詹文忠', 1), ('妻至', 1), ('金桂', 1), ('舊營里', 1), ('財損', 1), ('人江行', 1), ('未加', 1), ('錦木', 1), ('分及', 1), ('全以', 1), ('區安億路', 1), ('丞及', 1), ('干興', 1), ('信宏並', 1), ('粥', 1), ('安業', 1), ('封住', 1), ('翌靖', 1), ('陸佰捌', 1), ('智障', 1), ('平均', 1), ('區段', 1), ('技工', 1), ('旗', 1), ('吳啟淵', 1), ('雅之夫', 1), ('林麗瑛', 1), ('持往', 1), ('一段路', 1), ('有膽', 1), ('有麻痺', 1), ('人陳佳佑', 1), ('共陸拾', 1), ('整均', 1), ('致起', 1), ('群組', 1), ('斷電', 1), ('通順', 1), ('情緒', 1), ('資料卡', 1), ('開山', 1), ('人林歆', 1), ('吳南', 1), ('之久', 1), ('李逸琪', 1), ('凹', 1), ('親戚關係', 1), ('輛已', 1), ('棍棒', 1), ('江郁婷', 1), ('國庫', 1), ('素數', 1), ('不可', 1), ('給鄭慧', 1), ('函體傷', 1), ('方興', 1), ('另一方', 1), ('同樣', 1), ('黃嬿融', 1), ('侯明', 1), ('東莞', 1), ('崇輝', 1), ('啟動', 1), ('擊打', 1), ('林志倉', 1), ('致其右', 1), ('桀', 1), ('幾年', 1), ('怡平路', 1), ('艾迪', 1), ('晴玟', 1), ('人陸', 1), ('右號', 1), ('與黃俊德', 1), ('勤力', 1), ('莊延禎', 1), ('歐緯泰以', 1), ('雙人滑', 1), ('許貴華', 1), ('結代為', 1), ('涵洞', 1), ('車尾', 1), ('張慶良', 1), ('金儷', 1), ('楊瓊蓉', 1), ('贖回', 1), ('市立', 1), ('遺有', 1), ('正體', 1), ('比對', 1), ('壹佰柒', 1), ('短缺', 1), ('邱建勳', 1), ('壹筆', 1), ('吳芸', 1), ('秀眉', 1), ('謝林佩芬', 1), ('交作', 1), ('角屋', 1), ('認本件', 1), ('有事', 1), ('自嘉車損', 1), ('二卒', 1), ('雁車', 1), ('反胃', 1), ('許歆', 1), ('蘇宬', 1), ('區德民路', 1), ('路橋', 1), ('青山', 1), ('郭昭自', 1), ('各戶', 1), ('順宗', 1), ('明珠', 1), ('邱文賓持', 1), ('楊韻潔體', 1), ('堿', 1), ('故生', 1), ('退職金', 1), ('尚須', 1), ('巴掌', 1), ('號預', 1), ('號燈', 1), ('自拔', 1), ('螢陳', 1), ('時開啟', 1), ('郭榮芳', 1), ('拌', 1), ('動工', 1), ('期屆', 1), ('周明俊修', 1), ('謝雅婷', 1), ('而生', 1), ('女久住', 1), ('腰', 1), ('遭警', 1), ('原料', 1), ('蔡才', 1), ('王昭文', 1), ('啤酒', 1), ('促號', 1), ('發成', 1), ('未照', 1), ('揭方屋', 1), ('人互告', 1), ('落葉', 1), ('人賴彥霖', 1), ('依湘修', 1), ('誤解', 1), ('手槍', 1), ('人卓鈺', 1), ('高職', 1), ('建元', 1), ('儀為', 1), ('王建明', 1), ('仲凱', 1), ('現就林元', 1), ('凱元', 1), ('等待', 1), ('北港鎮', 1), ('蔡志偉', 1), ('造人黃鈺雅', 1), ('碰壞', 1), ('第三點', 1), ('超炫', 1), ('莊宜蓁', 1), ('症', 1), ('左腹', 1), ('由北往', 1), ('貳佰陸拾', 1), ('郭雨軒', 1), ('柑', 1), ('李宗棋', 1), ('眼科', 1), ('李昀倩聲', 1), ('中水', 1), ('轉入', 1), ('簡知翔', 1), ('五權', 1), ('李玉麗為', 1), ('徐銘村', 1), ('還在', 1), ('窗', 1), ('遭人', 1), ('宇', 1), ('內線', 1), ('周無體傷', 1), ('毒藥', 1), ('你家', 1), ('張君毓', 1), ('所含', 1), ('六個', 1), ('警衛', 1), ('講話', 1), ('報復', 1), ('所放', 1), ('盧鳳敏', 1), ('線芳谷', 1), ('吳旗監', 1), ('人范元', 1), ('李陳育', 1), ('靚', 1), ('隨同', 1), ('人羅椿', 1), ('吳家惠', 1), ('蔡振祥', 1), ('讓售', 1), ('起向', 1), ('王鎰源', 1), ('李雅純', 1), ('狐狸精', 1), ('志勇', 1), ('羅拉', 1), ('高龍賢', 1), ('江濱', 1), ('下降', 1), ('價錢', 1), ('鄭淑文', 1), ('比', 1), ('托', 1), ('進', 1), ('儀無車損', 1), ('詐稱', 1), ('雞', 1), ('故至', 1), ('意誠段號', 1), ('謝杰倫', 1), ('薏', 1), ('郭淑鉛', 1), ('獲取', 1), ('但常', 1), ('矯正', 1), ('罐', 1), ('腳掌', 1), ('處方', 1), ('烤肉', 1), ('街前', 1), ('勝及', 1), ('郭秀娥', 1), ('蔡素', 1), ('施秋鳳', 1), ('李淑貞', 1), ('談論', 1), ('函文請', 1), ('號室', 1), ('勝不疑', 1), ('搬入', 1), ('林錦義', 1), ('即知', 1), ('陳淑銘', 1), ('欠錢', 1), ('植', 1), ('許毅俊', 1), ('鋪', 1), ('偵探', 1), ('路華平路', 1), ('洪文二', 1), ('新約', 1), ('心想', 1), ('邱鴻', 1), ('張華德', 1), ('通運公司', 1), ('力禎', 1), ('因喬宇', 1), ('曾光顯', 1), ('瑞在', 1), ('區鹽忠', 1), ('蔡林秀菊之子', 1), ('林美鈴', 1), ('純體傷', 1), ('莊富芸', 1), ('褲子', 1), ('機與聲', 1), ('及黃俊賢', 1), ('安養', 1), ('許繼文', 1), ('因王', 1), ('慶賢及', 1), ('人陳席梅', 1), ('軍備', 1), ('刑事警察', 1), ('永欣', 1), ('國年', 1), ('成車損', 1), ('侯彥', 1), ('失修', 1), ('玉蓮', 1), ('榮賢', 1), ('儲蓄', 1), ('加裝', 1), ('處藏放時', 1), ('張巧雯', 1), ('年息', 1), ('已受', 1), ('隔壁鄰居', 1), ('頭頂', 1), ('高時', 1), ('懷修', 1), ('之機', 1), ('葉琇玲', 1), ('通知單', 1), ('莊麗', 1), ('一車', 1), ('詹宏', 1), ('號豐', 1), ('細量', 1), ('鎗', 1), ('推', 1), ('人洪丁', 1), ('共用', 1), ('阿姨', 1), ('牆垣', 1), ('寄發', 1), ('可證', 1), ('名願', 1), ('噴濺', 1), ('因煞', 1), ('莊文彥', 1), ('行政', 1), ('給甘承恩', 1), ('拖至', 1), ('芮', 1), ('孟珍', 1), ('毀約', 1), ('以虛', 1), ('新孝', 1), ('圖文', 1), ('王瑞連', 1), ('民間', 1), ('張錦燕', 1), ('珵', 1), ('張芝', 1), ('借住', 1), ('人洪靖', 1), ('李正博', 1), ('女黃敏', 1), ('之戶', 1), ('人法', 1), ('亮君', 1), ('立於', 1), ('致洪世彥', 1), ('抵制', 1), ('降血糖', 1), ('雅芳', 1), ('人陳秋琴', 1), ('丞車損', 1), ('十二', 1), ('郵資', 1), ('胡楊', 1), ('淑燕', 1), ('駱元前', 1), ('葉智超', 1), ('張秀婷', 1), ('但聲', 1), ('美華', 1), ('有錢', 1), ('楊國楨', 1), ('在育德路', 1), ('李靜國', 1), ('風雨交加', 1), ('及紙', 1), ('撮合', 1), ('香草', 1), ('胸膛', 1), ('何冠儀', 1), ('甚高為', 1), ('人陳慧鳳', 1), ('街八巷', 1), ('黃白色', 1), ('失主', 1), ('梅姬', 1), ('提到', 1), ('第指', 1), ('種', 1), ('進門', 1), ('琳', 1), ('蔡旻龍', 1), ('前作', 1), ('宣', 1), ('一部分', 1), ('梅因', 1), ('規劃', 1), ('鄭志偉受', 1), ('王翊修', 1), ('資助', 1), ('返台', 1), ('疏濬', 1), ('項鍊', 1), ('李麗瑩', 1), ('時點', 1), ('哲騎', 1), ('王澤宏車損', 1), ('繡花', 1), ('王秀妹', 1), ('營業部', 1), ('王珮函', 1), ('造人共人', 1), ('莊淑婉', 1), ('餐飲業', 1), ('書為證', 1), ('要持', 1), ('住居', 1), ('水池', 1), ('致林貞吟', 1), ('看法', 1), ('經營者', 1), ('顯', 1), ('起至聲', 1), ('李月珍', 1), ('蕭凱云', 1), ('張正', 1), ('張馨', 1), ('棋車損', 1), ('邱家良', 1), ('耀德', 1), ('侯秀枝', 1), ('臺語', 1), ('現就辜', 1), ('醫生', 1), ('區王', 1), ('尖物', 1), ('敬仁願', 1), ('許以', 1), ('蔡月', 1), ('造人陳慧賢', 1), ('焦慮', 1), ('參佰柒拾', 1), ('起共', 1), ('明池', 1), ('李丹伶', 1), ('劉秀燕', 1), ('勞資', 1), ('王翊車損', 1), ('兆', 1), ('引爆', 1), ('林宣廷', 1), ('中鄰宅', 1), ('伊將', 1), ('文欽', 1), ('花籃', 1), ('造人分', 1), ('損待', 1), ('約翰', 1), ('賴詹寶嬌', 1), ('舜大', 1), ('立兆', 1), ('手機號碼', 1), ('參佰陸拾', 1), ('正殿', 1), ('邵鑑', 1), ('因吳', 1), ('箱體', 1), ('淯', 1), ('聿', 1), ('停下去', 1), ('金慶昌', 1), ('郭素惠', 1), ('頸', 1), ('陸佰參拾', 1), ('周子暉', 1), ('未裝', 1), ('工具', 1), ('和善', 1), ('土壤', 1), ('砸損', 1), ('交毛文雄', 1), ('拖下來', 1), ('王惠香', 1), ('光輝', 1), ('李靜惠', 1), ('號等', 1), ('永南', 1), ('萩體傷', 1), ('區德洋', 1), ('二臺', 1), ('吃宵夜', 1), ('埋設', 1), ('儲金', 1), ('周陳玉霞', 1), ('沈玉', 1), ('武勝路', 1), ('人經', 1), ('陸佰零', 1), ('因前', 1), ('側漏', 1), ('桂體傷', 1), ('韓明谷', 1), ('李佳青', 1), ('相機', 1), ('及往', 1), ('建福', 1), ('吳智賢', 1), ('冒', 1), ('旗津', 1), ('性傷', 1), ('蘇勇', 1), ('康清旗', 1), ('人陳振雲疏', 1), ('出席', 1), ('南往', 1), ('成年人', 1), ('萬成', 1), ('楊錦美', 1), ('一屋', 1), ('蘋果', 1), ('各陸拾', 1), ('振明右', 1), ('號店', 1), ('瓦斯行', 1), ('孫芳沂', 1), ('聰恩', 1), ('蔡育菁', 1), ('推至', 1), ('太小', 1), ('沈柏翔', 1), ('達成協議', 1), ('鄭志孝願', 1), ('景旭', 1), ('未附', 1), ('煤氣', 1), ('擔憂', 1), ('木生', 1), ('劉沛', 1), ('謝旻樵', 1), ('人林志良', 1), ('料將', 1), ('蔡瑞真', 1), ('棚作', 1), ('藥局', 1), ('卻是', 1), ('人本件', 1), ('收銀機', 1), ('世曦', 1), ('完再', 1), ('至鄰', 1), ('貿易', 1), ('消保官', 1), ('將由伊', 1), ('新達', 1), ('造人黃鴻輝', 1), ('電動門', 1), ('將手', 1), ('長年', 1), ('向質', 1), ('張芝菱', 1), ('及腳', 1), ('材料費', 1), ('家園', 1), ('肆虐', 1), ('人林鶯', 1), ('寶格成', 1), ('楊繁', 1), ('區鳳仁路', 1), ('翰願', 1), ('榮路', 1), ('恥骨', 1), ('朱紀倫', 1), ('振', 1), ('爭取', 1), ('號棟樓', 1), ('吳佳蓉', 1), ('勞僱', 1), ('盧敬', 1), ('郭容孜', 1), ('薛德貴', 1), ('獲償', 1), ('林安', 1), ('上次', 1), ('列管', 1), ('猥褻', 1), ('地價稅', 1), ('天仁', 1), ('虛設', 1), ('吳世昌', 1), ('沒想到', 1), ('延後', 1), ('楊祺耀', 1), ('多種', 1), ('繫上', 1), ('郁珊', 1), ('工程車', 1), ('渠向', 1), ('總數', 1), ('造人賴品', 1), ('蘇庭穎', 1), ('餐廚', 1), ('時尚', 1), ('博杯', 1), ('崩塌', 1), ('婚約', 1), ('同巷', 1), ('銀號', 1), ('聲譽', 1), ('人三樓', 1), ('無私', 1), ('智體傷', 1), ('郭添居', 1), ('右腿', 1), ('由王', 1), ('排停', 1), ('共乘', 1), ('年月許', 1), ('劉東原', 1), ('食品廠', 1), ('許芳瑜', 1), ('謝嘉霖', 1), ('書寫', 1), ('人父', 1), ('福德', 1), ('母在', 1), ('分究', 1), ('吳俊賢', 1), ('林侑燕', 1), ('林錫玄', 1), ('交運', 1), ('依照', 1), ('張莞津', 1), ('故尚', 1), ('甄體傷', 1), ('屋樓', 1), ('燒錄', 1), ('分派', 1), ('出讓', 1), ('尤玉子', 1), ('吳崇寬', 1), ('達十', 1), ('面對', 1), ('款陸拾', 1), ('顏伯庭', 1), ('造人陳春菊', 1), ('楊立偉', 1), ('鄭文進', 1), ('魏淑慧', 1), ('開挖', 1), ('伊雯', 1), ('渠若', 1), ('致歐', 1), ('臨', 1), ('造人白', 1), ('大新', 1), ('引起糾紛', 1), ('建業', 1), ('高空作業', 1), ('柯蘇秀蘭', 1), ('虎', 1), ('王紫茵', 1), ('大順', 1), ('銅管', 1), ('楊體傷', 1), ('肖仔', 1), ('萬柒仟元給', 1), ('水木', 1), ('始得', 1), ('鄭培澤車損', 1), ('蔡旻君', 1), ('枷榕', 1), ('桿旁', 1), ('之故', 1), ('杜淑玲', 1), ('已年', 1), ('真正', 1), ('尋仇', 1), ('造人秀瓊', 1), ('鍊', 1), ('怀恩', 1), ('樹根', 1), ('江祐名', 1), ('照費及', 1), ('致方車', 1), ('未成年人', 1), ('路南', 1), ('南鄉', 1), ('張菁', 1), ('對質', 1), ('及仲岐', 1), ('車未', 1), ('仰森', 1), ('黎妃', 1), ('郭繼華', 1), ('座位', 1), ('蘇善勇', 1), ('葉杰晉', 1), ('鄭見生', 1), ('待聲', 1), ('張韶恬', 1), ('遭毛丹', 1), ('蓮', 1), ('嘉之父', 1), ('當選', 1), ('爐灶', 1), ('吳宗明', 1), ('液壓', 1), ('人葉雪', 1), ('煞盤', 1), ('因周轉', 1), ('但是', 1), ('雞腳', 1), ('瑞鴻', 1), ('徐漢萌作', 1), ('蔓體傷', 1), ('同域', 1), ('有疑異', 1), ('結案', 1), ('振輝', 1), ('印尼', 1), ('哈士奇', 1), ('行政院', 1), ('惟認', 1), ('現就名', 1), ('葉明', 1), ('鄭福江後因', 1), ('造人陳映', 1), ('不理不睬', 1), ('寶月', 1), ('餅', 1), ('余美儀', 1), ('余豐展', 1), ('單上', 1), ('七路', 1), ('共元', 1), ('胡正廷', 1), ('毓', 1), ('還有', 1), ('之鐵閂', 1), ('案一', 1), ('起有', 1), ('觀', 1), ('啟威', 1), ('一床', 1), ('戰聲', 1), ('劉錦菊', 1), ('李味珍', 1), ('秋迪', 1), ('一子', 1), ('十一', 1), ('王文利', 1), ('許尤薇', 1), ('墜下', 1), ('林書瑋', 1), ('郭枝梅', 1), ('蕭伯雄', 1), ('攻擊', 1), ('維願負', 1), ('側邊', 1), ('危急', 1), ('電信公司', 1), ('石英', 1), ('薛慧玉', 1), ('油漬', 1), ('張博閔', 1), ('蒂爾', 1), ('蕙蘭', 1), ('雅體傷', 1), ('暗示', 1), ('高腳', 1), ('平豐路', 1), ('李明章', 1), ('第人梁', 1), ('龍詩哲', 1), ('人陳振', 1), ('碧玉', 1), ('多筆', 1), ('不然', 1), ('還寫', 1), ('該戶', 1), ('應買', 1), ('票貼', 1), ('中應', 1), ('傅素', 1), ('金輪', 1), ('莊淑鈴', 1), ('惠美', 1), ('指認', 1), ('自覺', 1), ('何交字', 1), ('中事路', 1), ('版', 1), ('並委其', 1), ('車停', 1), ('鼓個', 1), ('具有', 1), ('痛', 1), ('千陸佰', 1), ('兩方', 1), ('效益', 1), ('中時', 1), ('數百萬元', 1), ('整個', 1), ('中體傷', 1), ('第人羅乾恩', 1), ('准許', 1), ('各壹張', 1), ('文平路', 1), ('精銳', 1), ('蒸餾', 1), ('游振祥', 1), ('轉介本會', 1), ('刺入', 1), ('誣指', 1), ('如車損', 1), ('里線', 1), ('共向聲', 1), ('分因', 1), ('鴻敏', 1), ('行路', 1), ('暫', 1), ('適中', 1), ('相贈', 1), ('蔡源植', 1), ('法拍屋', 1), ('參仟玖佰元整', 1), ('圖面', 1), ('主體', 1), ('挖土機', 1), ('張耀仁', 1), ('依湘均', 1), ('巫貴蘭', 1), ('移交', 1), ('追趕', 1), ('盧祥', 1), ('攔查', 1), ('串通', 1), ('貨已', 1), ('即用', 1), ('勘驗', 1), ('智勇', 1), ('于', 1), ('立約', 1), ('屢勸不聽', 1), ('楊榮', 1), ('籃妤', 1), ('未得', 1), ('不向方', 1), ('勸架', 1), ('防水工程', 1), ('蕊', 1), ('尾段', 1), ('本車', 1), ('車騎', 1), ('蔡昆澤體傷', 1), ('不歸路', 1), ('王文俊', 1), ('周麗娟', 1), ('適第人', 1), ('丁明恆', 1), ('示意', 1), ('減輕', 1), ('溫淑惠修', 1), ('並匯給', 1), ('工明南', 1), ('德晉', 1), ('邀至', 1), ('鄭羽任', 1), ('郭忪', 1), ('涂梅芳', 1), ('林昱成', 1), ('致方', 1), ('給張奕勝', 1), ('追到', 1), ('碼頭', 1), ('北京', 1), ('人陳菀婷', 1), ('經國', 1), ('聲請行', 1), ('沾滿', 1), ('經貿', 1), ('洋自', 1), ('多份', 1), ('第人黃昱翔', 1), ('其以', 1), ('全字', 1), ('永順', 1), ('三體傷', 1), ('抽血', 1), ('歸許', 1), ('款壹佰柒', 1), ('現買', 1), ('折', 1), ('李信翰', 1), ('謾罵', 1), ('拖欠', 1), ('美快化', 1), ('人蹌要', 1), ('高架', 1), ('美郁', 1), ('距', 1), ('李體傷', 1), ('經曾', 1), ('孟學', 1), ('公明', 1), ('由本會', 1), ('致撞', 1), ('寶貝', 1), ('楊雅雯', 1), ('鄭培澤', 1), ('鄭金梅', 1), ('賭金', 1), ('姿菁', 1), ('致田雅', 1), ('亙幫', 1), ('品晟', 1), ('朱女', 1), ('用腳', 1), ('吳金卿', 1), ('前為', 1), ('證實', 1), ('故以', 1), ('空間設計', 1), ('聯單', 1), ('與陳育', 1), ('提出異議', 1), ('安富', 1), ('手續費', 1), ('河底', 1), ('零參拾', 1), ('老蕃顛', 1), ('丁姿伶', 1), ('江俊德', 1), ('收分', 1), ('依柔', 1), ('造人陳品', 1), ('相對', 1), ('文章內容', 1), ('起系', 1), ('原其', 1), ('遭王', 1), ('元成', 1), ('林秀珊', 1), ('劉林', 1), ('張秀菁', 1), ('強安', 1), ('致需', 1), ('記不清', 1), ('致秦', 1), ('房價', 1), ('人系聲', 1), ('莊貴', 1), ('人意', 1), ('移往', 1), ('魏永宏', 1), ('劉桂英', 1), ('理財', 1), ('現方因', 1), ('常為', 1), ('洪賢成', 1), ('販店', 1), ('致金孝信', 1), ('公立', 1), ('品瑄', 1), ('環工路號', 1), ('將拖出', 1), ('許慧美', 1), ('鈐', 1), ('宣體傷', 1), ('有塊', 1), ('將李明', 1), ('瓜葛', 1), ('冠惟', 1), ('召集人', 1), ('東寶', 1), ('魏國', 1), ('石達明', 1), ('明東', 1), ('柏翌', 1), ('上防', 1), ('梅桂修', 1), ('吳明義', 1), ('德均', 1), ('戶政', 1), ('李文良', 1), ('吳政偉', 1), ('鄭王春美', 1), ('致魏郁', 1), ('李珮慈', 1), ('方順成', 1), ('遂持', 1), ('惠珠', 1), ('德路巷', 1), ('張林敏子', 1), ('李政憲車損', 1), ('數月', 1), ('李采薇', 1), ('李怡慧', 1), ('貝金', 1), ('莊擁翔', 1), ('鄭茂', 1), ('碇', 1), ('業主', 1), ('人趙敏婷', 1), ('劉政', 1), ('明人', 1), ('延展', 1), ('扳手', 1), ('處北巷', 1), ('柯茗', 1), ('訂車', 1), ('窗玻璃', 1), ('阿瘦', 1), ('間將', 1), ('區五', 1), ('幼珍', 1), ('造人陳士弘', 1), ('受潮', 1), ('致陳信宏', 1), ('健', 1), ('李銀', 1), ('人除', 1), ('此舉', 1), ('洪小婷', 1), ('而將', 1), ('酌減', 1), ('莊孟豪', 1), ('辦竣', 1), ('吳料', 1), ('邇來', 1), ('狗吠', 1), ('徵信', 1), ('區育安二', 1), ('梁信', 1), ('四佰陸', 1), ('劃聲', 1), ('委託書', 1), ('還新', 1), ('文表', 1), ('簽有', 1), ('此為', 1), ('柏維體傷', 1), ('光電', 1), ('柴油', 1), ('廖輝明', 1), ('蔡惠華', 1), ('抽風', 1), ('謝敬福', 1), ('之健', 1), ('胞姊', 1), ('會計', 1), ('致江秀', 1), ('造人陳慶武', 1), ('給元', 1), ('田地', 1), ('吳家瑞', 1), ('組頭', 1), ('保護', 1), ('零用錢', 1), ('樹立', 1), ('蘇雅琪', 1), ('宋振威', 1), ('廣播', 1), ('禾聯', 1), ('情侶', 1), ('美稱', 1), ('替加', 1), ('張永祿', 1), ('剎車', 1), ('凹損', 1), ('予售', 1), ('公證人', 1), ('高信忠', 1), ('楊勝凱', 1), ('鄭志孝', 1), ('山南', 1), ('鑫', 1), ('人連宸', 1), ('人黃政付', 1), ('吳尚曄修', 1), ('截圖', 1), ('林俊毅', 1), ('合作經營', 1), ('存戶', 1), ('謝宇庭', 1), ('腳部', 1), ('珞', 1), ('曾獻儀', 1), ('治療師', 1), ('郭三益', 1), ('防衛', 1), ('秋金', 1), ('胡祐維體傷', 1), ('涵', 1), ('人約聲', 1), ('寺前', 1), ('韓胡碧蓮', 1), ('蔡淑慧', 1), ('不易', 1), ('德洋', 1), ('王旭', 1), ('之家', 1), ('產物', 1), ('並至', 1), ('恐慌', 1), ('壹佰元給', 1), ('葉耿', 1), ('穆麗秋', 1), ('釘釘子', 1), ('麗香', 1), ('之紀', 1), ('整以', 1), ('明天', 1), ('剛', 1), ('雞邁', 1), ('應急', 1), ('沿富德街', 1), ('蔡姿瑜', 1), ('壞死', 1), ('揮打', 1), ('可核', 1), ('蝕本', 1), ('黃國', 1), ('渠旁', 1), ('區岳王', 1), ('含光', 1), ('開戶', 1), ('中前', 1), ('路北', 1), ('和平東路', 1), ('走聲', 1), ('王耀麟', 1), ('盧陳圓', 1), ('徐欣儀', 1), ('免於', 1), ('鄭淑文及', 1), ('云無車損', 1), ('姪', 1), ('損且', 1), ('人訴', 1), ('造人陳偉哲', 1), ('盛車損', 1), ('並須', 1), ('安富路', 1), ('葉玟', 1), ('王柏偉', 1), ('已代', 1), ('貓', 1), ('街嵩霖', 1), ('呼氣', 1), ('計', 1), ('人黃偉', 1), ('有砂', 1), ('第一天', 1), ('當事', 1), ('揚善', 1), ('張凱嵐', 1), ('叫賣', 1), ('譏笑', 1), ('王亭勻', 1), ('新興區', 1), ('諒', 1), ('升高', 1), ('上人', 1), ('人黃鴻輝', 1), ('新南', 1), ('人黃恒', 1), ('與佑民街', 1), ('大缺', 1), ('郭正', 1), ('舉喜', 1), ('金參萬', 1), ('及間', 1), ('醫學科', 1), ('憨', 1), ('事由', 1), ('李曉萍', 1), ('血', 1), ('蔡成宗', 1), ('美心', 1), ('多少', 1), ('保', 1), ('諺', 1), ('吳尚曄體傷', 1), ('豪記', 1), ('如今', 1), ('人且', 1), ('二至', 1), ('莊翌', 1), ('義齒', 1), ('香則', 1), ('請留下', 1), ('斯社', 1), ('少泳課', 1), ('連章', 1), ('清潔費', 1), ('金燕', 1), ('尚需', 1), ('字條', 1), ('次日', 1), ('翠華車損', 1), ('丟到', 1), ('尚群', 1), ('方玟', 1), ('如修', 1), ('德泰', 1), ('修配廠', 1), ('即刻', 1), ('嬰兒', 1), ('造人修', 1), ('遂行', 1), ('元聲', 1), ('林佳翰', 1), ('顳葉', 1), ('王鐘', 1), ('蔡慶義', 1), ('南內', 1), ('孟宇', 1), ('塊', 1), ('潑漆', 1), ('切斷', 1), ('人陳宛', 1), ('花草樹木', 1), ('人黃慧美', 1), ('未行', 1), ('相片', 1), ('介聰', 1), ('蔡秀', 1), ('林金龍', 1), ('林靜瑩', 1), ('發包', 1), ('瘀血', 1), ('王翊', 1), ('托聲', 1), ('吃藥', 1), ('逼', 1), ('嘉義市', 1), ('人林思', 1), ('制傑', 1), ('以證', 1), ('發生地', 1), ('區往', 1), ('林黃', 1), ('計入', 1), ('持向', 1), ('還一', 1), ('及林義', 1), ('何書薇', 1), ('買受人', 1), ('主臥', 1), ('玉花', 1), ('補償費', 1), ('起瑞', 1), ('林清採', 1), ('許水清', 1), ('轉移', 1), ('即期支票', 1), ('北富台', 1), ('鋸子', 1), ('不濟', 1), ('邱萬無車損', 1), ('王書政所', 1), ('多致生', 1), ('王威翔', 1), ('購物網', 1), ('吹破', 1), ('已個', 1), ('明之其', 1), ('道車', 1), ('黃燈', 1), ('張雅惠', 1), ('國際機場', 1), ('張並', 1), ('加拿大', 1), ('人陳振雲涉', 1), ('路琥', 1), ('伺上', 1), ('一言不和', 1), ('林宗憲', 1), ('王雅君願', 1), ('賸', 1), ('李阡瑋', 1), ('啟甫', 1), ('舊屋', 1), ('代步', 1), ('劉志強', 1), ('間共盜', 1), ('包底', 1), ('玩耍', 1), ('適站', 1), ('建智', 1), ('到位', 1), ('出版社', 1), ('許前', 1), ('燕等', 1), ('舒服', 1), ('予覃', 1), ('蕭穎', 1), ('金壹拾', 1), ('有雙', 1), ('歐承翰將', 1), ('宣傳品', 1), ('盒', 1), ('林秀', 1), ('文集', 1), ('自撞', 1), ('證人', 1), ('號曳', 1), ('蔡阿燕', 1), ('洪孜鳳', 1), ('先裝', 1), ('自上而下', 1), ('路標', 1), ('義誠', 1), ('東道', 1), ('蘇佳慧', 1), ('污水處理', 1), ('砸壞', 1), ('蔡淑敏', 1), ('郭金順', 1), ('欸', 1), ('日始', 1), ('專利證書', 1), ('伸陽', 1), ('根向當', 1), ('陽興', 1), ('外語', 1), ('融體', 1), ('外欲', 1), ('南市區', 1), ('說出', 1), ('名花', 1), ('林彩惠', 1), ('范姜皓亮', 1), ('張津雪', 1), ('義', 1), ('賴政文', 1), ('丟出', 1), ('外傷性', 1), ('臻', 1), ('碧滿', 1), ('幫助', 1), ('人黃瑋豪', 1), ('區案', 1), ('幹麻請', 1), ('研究所', 1), ('牙根', 1), ('昭文', 1), ('診間', 1), ('新台', 1), ('前案', 1), ('給角屋', 1), ('張元碩', 1), ('林素蓮', 1), ('屋之事', 1), ('鄭國梅', 1), ('砍', 1), ('外幣', 1), ('造人娟生', 1), ('掀翻', 1), ('郭麗娟', 1), ('工處', 1), ('胎兒', 1), ('宋佩玲', 1), ('王貞', 1), ('千餘元', 1), ('春節', 1), ('右面', 1), ('人江政', 1), ('百貨公司', 1), ('精密', 1), ('桃修', 1), ('載客', 1), ('徐翔', 1), ('傢俱公司', 1), ('中陳稱', 1), ('電腦程式', 1), ('南小北', 1), ('美好', 1), ('吳銘章', 1), ('煞停', 1), ('中文版', 1), ('動', 1), ('時至', 1), ('翁坤霖', 1), ('走火', 1), ('以要', 1), ('轉趨', 1), ('交代', 1), ('幹部', 1), ('中街', 1), ('償還期', 1), ('邱政凱', 1), ('新豐', 1), ('吳明珍', 1), ('兼職', 1), ('正言', 1), ('並偽', 1), ('韻如', 1), ('廣大', 1), ('乙型', 1), ('李威宗', 1), ('報社', 1), ('沈佳立', 1), ('人機', 1), ('尿酸', 1), ('完整', 1), ('拋繼本', 1), ('區學', 1), ('掙脫', 1), ('接柏', 1), ('張裕玉', 1), ('萬約', 1), ('芽', 1), ('當月', 1), ('證券公司', 1), ('男受', 1), ('張秋賢', 1), ('歸屬', 1), ('楊金映', 1), ('灌漿', 1), ('將莊千儀', 1), ('正順', 1), ('子女教育', 1), ('出生', 1), ('其遷', 1), ('稱要', 1), ('蕭丞佑', 1), ('何舜弘', 1), ('王行', 1), ('滋涵', 1), ('下列', 1), ('郭孝丞體傷', 1), ('吾', 1), ('葉凌韻', 1), ('泰興', 1), ('林格', 1), ('蔡淑娟', 1), ('刮', 1), ('嘉執', 1), ('區永', 1), ('林惠雯', 1), ('將虛偽', 1), ('將代', 1), ('前正', 1), ('葉美會亦閉', 1), ('菱', 1), ('起向聲', 1), ('楠名', 1), ('趕出去', 1), ('甫', 1), ('優世大', 1), ('製', 1), ('帳號密碼', 1), ('揮拳', 1), ('柒佰陸', 1), ('第人陳仁堯', 1), ('葉全泰', 1), ('區慶', 1), ('高出', 1), ('其詐', 1), ('此車', 1), ('證書', 1), ('三合院', 1), ('麗春', 1), ('保留', 1), ('嫻', 1), ('阿義仔', 1), ('傅順', 1), ('施極安', 1), ('日至', 1), ('誤差', 1), ('慶安', 1), ('張淑貞', 1), ('王憶慈', 1), ('母遺有', 1), ('渠所受', 1), ('該會', 1), ('門窗', 1), ('市南區', 1), ('流出', 1), ('馬上', 1), ('以手將', 1), ('標高', 1), ('常不關', 1), ('信宏為', 1), ('局地', 1), ('污染', 1), ('鄭俊忠', 1), ('尚青', 1), ('重測', 1), ('白鐵', 1), ('復華', 1), ('失眠', 1), ('弄碎', 1), ('教師', 1), ('下雨天', 1), ('推開', 1), ('楊梅鎮', 1), ('竣修', 1), ('榮二', 1), ('予吳', 1), ('木料', 1), ('鑽頭', 1), ('回聲', 1), ('上推', 1), ('耶', 1), ('將診', 1), ('慧玉修', 1), ('詠馨', 1), ('佟一願', 1), ('沙李雪', 1), ('掀裙', 1), ('解曉蘭', 1), ('李西志', 1), ('甲班', 1), ('文宣上', 1), ('橋時', 1), ('明忠', 1), ('投宿在', 1), ('美帥', 1), ('楊佳玲', 1), ('鄰近', 1), ('暫借', 1), ('明宏', 1), ('有傷', 1), ('鐘梅', 1), ('換回', 1), ('匾', 1), ('葉麗雪', 1), ('內出血', 1), ('稅務局', 1), ('潘素', 1), ('依表', 1), ('林良恩', 1), ('人信', 1), ('蔡穎', 1), ('祺', 1), ('蔡江鳳年', 1), ('攜', 1), ('南院', 1), ('人陳柏成', 1), ('願作', 1), ('抽驗', 1), ('發揮', 1), ('死地', 1), ('顏國貞', 1), ('楊雅秀', 1), ('失敗', 1), ('胡俊哲', 1), ('沛彤', 1), ('第至', 1), ('號某', 1), ('許育維', 1), ('榮基為', 1), ('桃園市', 1), ('助理', 1), ('孟興', 1), ('吳貞賢', 1), ('以台語', 1), ('鄰棟', 1), ('宜平', 1), ('抗辯權', 1), ('人林茂森', 1), ('尾椎', 1), ('識昌', 1), ('郭昱辰', 1), ('遺棄', 1), ('鈍傷', 1), ('回原', 1), ('蘇文', 1), ('款壹佰參拾', 1), ('子翁', 1), ('人陳順', 1), ('號向', 1), ('北村', 1), ('蔡旻宏', 1), ('人數', 1), ('號群格', 1), ('雙黃線', 1), ('號地', 1), ('延期', 1), ('祥向現', 1), ('腎衰竭', 1), ('人黃麗美', 1), ('進起', 1), ('劉錫錦', 1), ('囍', 1), ('罵聲', 1), ('用開', 1), ('辛美賢', 1), ('大發', 1), ('四維', 1), ('須待', 1), ('屋並', 1), ('人卓晉', 1), ('鋁罐', 1), ('鉛門', 1), ('葉崇鴻', 1), ('張榆', 1), ('兩半', 1), ('人林穎辰', 1), ('林澤峰', 1), ('葉靜茹', 1), ('汙水', 1), ('鋼骨', 1), ('逼債', 1), ('調整', 1), ('左前方', 1), ('建龍', 1), ('中信', 1), ('書經', 1), ('黑狗', 1), ('萬二仟', 1), ('現實', 1), ('香蘭', 1), ('薹', 1), ('壟丘', 1), ('故黃', 1), ('卡均', 1), ('薛皓', 1), ('謄本', 1), ('少', 1), ('照付', 1), ('文質', 1), ('伍佰陸拾', 1), ('宏欣', 1), ('爾後', 1), ('人黃淑車損', 1), ('人黃嬿融', 1), ('鄭采', 1), ('郭展', 1), ('北辰', 1), ('淳', 1), ('說法', 1), ('許金池', 1), ('租其', 1), ('頂上', 1), ('常修慈', 1), ('整故', 1), ('紙面', 1), ('即持', 1), ('澈', 1), ('未拉', 1), ('路台', 1), ('劉濬', 1), ('現就及', 1), ('土方', 1), ('僱請', 1), ('財政部', 1), ('人陳怡雯', 1), ('椎骨', 1), ('蘇文哲', 1), ('宣修', 1), ('人林梓', 1), ('風吹', 1), ('楊貴華', 1), ('宏願', 1), ('財願', 1), ('純青', 1), ('鄭夙惠', 1), ('電力設施', 1), ('致電', 1), ('春福', 1), ('其常', 1), ('惟僅', 1), ('字眼', 1), ('再持', 1), ('謝家', 1), ('並告', 1), ('瑞體傷', 1), ('帑', 1), ('櫂', 1), ('管柏家', 1), ('水腦症', 1), ('挪為', 1), ('場地', 1), ('楠修', 1), ('露出', 1), ('路小北', 1), ('定期', 1), ('立票', 1), ('柯南', 1), ('載回', 1), ('磚屋', 1), ('中文', 1), ('困頓', 1), ('許嘉玲', 1), ('再行', 1), ('蔡秀梅', 1), ('七級', 1), ('育民', 1), ('經成', 1), ('遭持', 1), ('驚人', 1), ('溝底', 1), ('推行', 1), ('郭龍偉', 1), ('大字', 1), ('武昌', 1), ('運作', 1), ('因閃', 1), ('蔡宇竣', 1), ('肯', 1), ('西甲', 1), ('紅毛', 1), ('提請', 1), ('王碧香', 1), ('胡育倫', 1), ('家庭成員', 1), ('泰華', 1), ('人方智弘', 1), ('舜', 1), ('蔡碧蓮', 1), ('超勝', 1), ('登財', 1), ('任華修', 1), ('宋佩珊共乘', 1), ('正屋', 1), ('持刀', 1), ('依此', 1), ('轉租', 1), ('會金新', 1), ('林睿祺', 1), ('李鳳姿', 1), ('租與', 1), ('安盈珊修', 1), ('李彥瑩', 1), ('簡佑修', 1), ('綠燈', 1), ('大輪', 1), ('邱宗葆', 1), ('予和緯', 1), ('祭禮', 1), ('孳生', 1), ('專戶', 1), ('柏宏', 1), ('管', 1), ('同案', 1), ('傷等', 1), ('人衣', 1), ('萬臺', 1), ('金全春', 1), ('卸', 1), ('雅均', 1), ('切開', 1), ('鄭智仁', 1), ('祀', 1), ('人互', 1), ('造人住', 1), ('輾過', 1), ('順騰', 1), ('斜', 1), ('蔡燕', 1), ('秦自', 1), ('玻', 1), ('薛淑碧體傷', 1), ('晉吉', 1), ('共參', 1), ('長褲', 1), ('李偉琦因', 1), ('迭', 1), ('智亮', 1), ('醉意', 1), ('紙上', 1), ('劉友榮', 1), ('玉玲', 1), ('國聖街', 1), ('明肆', 1), ('及備', 1), ('嚴錦聰', 1), ('鄰接', 1), ('吳珮芸願', 1), ('並委由', 1), ('致林姬', 1), ('岩', 1), ('虧損', 1), ('所附', 1), ('邱忠雄', 1), ('義孟體傷', 1), ('詹朝', 1), ('訊問', 1), ('張成', 1), ('德川', 1), ('腦瘤', 1), ('脫', 1), ('邵美腰', 1), ('會單', 1), ('監察', 1), ('前所', 1), ('許向', 1), ('予千興', 1), ('輸送', 1), ('宗明', 1), ('今後', 1), ('林麗貞', 1), ('軟化', 1), ('中樞神經', 1), ('該藥', 1), ('飲用', 1), ('前上', 1), ('錦淨', 1), ('洪順', 1), ('明泰', 1), ('安段', 1), ('週年', 1), ('金峰', 1), ('王森憶', 1), ('休', 1), ('乘騎', 1), ('胡海音', 1), ('收養', 1), ('余昭瑢', 1), ('起訴書', 1), ('造人慧', 1), ('魯月枝', 1), ('聖誕', 1), ('和平路', 1), ('吳岱', 1), ('屬庭', 1), ('這裡', 1), ('戴政憲', 1), ('不周', 1), ('皇冠', 1), ('大智街', 1), ('李麗蓮', 1), ('之集', 1), ('請陳桂珠', 1), ('收錄', 1), ('閔南', 1), ('邱育彰', 1), ('斷水', 1), ('宋玉芳', 1), ('洗碗', 1), ('淺', 1), ('鈕扣', 1), ('林世菁', 1), ('梁曉玫', 1), ('換貨', 1), ('號金', 1), ('芭比', 1), ('當兩', 1), ('李許', 1), ('劉許施', 1), ('八哥', 1), ('老年', 1), ('歐俊誼', 1), ('入境', 1), ('床上', 1), ('頭挫', 1), ('香車', 1), ('嘉里', 1), ('之原', 1), ('槓頂', 1), ('抵充', 1), ('有任', 1), ('開場', 1), ('號小', 1), ('基泉', 1), ('懲戒', 1), ('斑馬線', 1), ('福華', 1), ('王翁', 1), ('至宅', 1), ('艾', 1), ('侯德瑩', 1), ('公案', 1), ('向陳珮鈺', 1), ('喻等', 1), ('蘇蔡', 1), ('該名', 1), ('洪亞', 1), ('吳岳恩向', 1), ('思念', 1), ('現岑秉龍', 1), ('尤玉', 1), ('鄧吉雄', 1), ('造人將', 1), ('上莊', 1), ('楊玉帆', 1), ('營養', 1), ('林珮騏', 1), ('仙', 1), ('嘉隆', 1), ('洗髮', 1), ('美女', 1), ('人收', 1), ('壹日', 1), ('鄭琮憲', 1), ('廖一憲', 1), ('安全設備', 1), ('一品', 1), ('孫薇淳', 1), ('開號', 1), ('啟淵', 1), ('裕誠路', 1), ('現勘', 1), ('未掛', 1), ('林麗賢', 1), ('社需', 1), ('郭茂豐', 1), ('皆將', 1), ('常至', 1), ('骨', 1), ('胡明宏', 1), ('壞人', 1), ('人林煒堅', 1), ('不久', 1), ('潘美月', 1), ('並拒', 1), ('未泣', 1), ('後輪', 1), ('吳佩臻', 1), ('米克斯', 1), ('李葉玉琴', 1), ('勞退', 1), ('骨飯', 1), ('王淑美向', 1), ('蔡依珊', 1), ('其間', 1), ('禮品', 1), ('學童', 1), ('合庫', 1), ('楊朝', 1), ('圖案', 1), ('弄髒', 1), ('韋君共乘', 1), ('蔡緒興', 1), ('漂成', 1), ('溶化', 1), ('樓下住戶', 1), ('農村', 1), ('石羽', 1), ('車速', 1), ('張秀澤', 1), ('供對造', 1), ('分享', 1), ('蟑螂', 1), ('林招蓮', 1), ('留言板', 1), ('周冠弟', 1), ('載何', 1), ('丟', 1), ('許華良', 1), ('盧詠', 1), ('繁正', 1), ('陳素貞', 1), ('圖修', 1), ('進中', 1), ('之內', 1), ('殺蟲劑', 1), ('如二', 1), ('登錄', 1), ('借自', 1), ('布袋', 1), ('翁榮澤', 1), ('借得', 1), ('將各', 1), ('蕭碧蓮', 1), ('低收入', 1), ('店展', 1), ('吳秀玉', 1), ('王琮', 1), ('秦石玉直', 1), ('東臺', 1), ('鄭穎駿', 1), ('冠茹', 1), ('團隊', 1), ('區北園', 1), ('中起', 1), ('瘤', 1), ('人程', 1), ('葉長', 1), ('粵桂', 1), ('鑽探', 1), ('人陳妙', 1), ('看報', 1), ('蕭丞佑願', 1), ('邱珍惠', 1), ('廖任', 1), ('李廷緯', 1), ('商工', 1), ('及體', 1), ('大和街', 1), ('英語教學', 1), ('菜籃', 1), ('握有', 1), ('入帳', 1), ('換人', 1), ('萬澤', 1), ('本利', 1), ('造人方', 1), ('未戴', 1), ('郭柏', 1), ('拼裝車', 1), ('金雀', 1), ('振興', 1), ('蔡銘祥', 1), ('根治', 1), ('林榮興', 1), ('劉燕菊', 1), ('好漢', 1), ('簽', 1), ('馬桶', 1), ('送往', 1), ('攸體傷', 1), ('另壹佰', 1), ('陸羽', 1), ('世界', 1), ('逾越', 1)] "
     ]
    },
    {
     "name": "stdout",
     "output_type": "stream",
     "text": [
      "\n",
      "\n",
      " [] \n",
      "\n",
      " [('，', 36468), ('、', 17781), ('。', 9652), ('）', 8296), ('（', 8268), ('：', 5964), ('－', 5686), ('-', 2905), ('\\\\', 2012), ('〈', 1680), ('〉', 1648), ('；', 437), ('...', 410), ('」', 170), ('「', 166), ('？', 115), ('○', 54), ('......', 35), ('─', 33), ('/', 27)]\n"
     ]
    }
   ],
   "source": [
    "chinese_list, sign_list, dig_english_list = [], [], []\n",
    "for word, count in cleaned_word_dict:\n",
    "    for char in word:\n",
    "        if char >= u'\\u4E00' and char <= u\"\\u9FA5\":\n",
    "            chinese_list.append((word, count))\n",
    "        elif (char >= u'\\u0041' and char <= u'\\u005A') or (char >= u'\\u0061' and char <= u'\\u007A') or (char >= u'\\u0030' and char <= u'\\u0039'):\n",
    "            dig_english_list.append((word, count))\n",
    "            break\n",
    "        else:\n",
    "            sign_list.append((word, count))\n",
    "            break\n",
    "sorted_dig_english_list = sorted(set(dig_english_list), key=lambda x: x[1], reverse=True)\n",
    "sorted_sign_list = sorted(set(sign_list), key=lambda x: x[1], reverse=True)\n",
    "sorted_chinese_list = sorted(set(chinese_list), key=lambda x: x[1], reverse=True)\n",
    "print(\"chinese_word: \", len(sorted_chinese_list))\n",
    "print(\"dig_english_word: \", len(sorted_dig_english_list))\n",
    "print(\"sign_count: \", len(sorted_sign_list))\n",
    "print(sorted_chinese_list[:10000], '\\n\\n', sorted_dig_english_list[:50], '\\n\\n', sorted_sign_list[:20])"
   ]
  },
  {
   "cell_type": "markdown",
   "metadata": {},
   "source": [
    "# Build Vocabulary"
   ]
  },
  {
   "cell_type": "code",
   "execution_count": 57,
   "metadata": {},
   "outputs": [],
   "source": [
    "tokenizer = Tokenizer(num_words=20000, filters='\"#$%&()+,-./:;<=>@[\\\\]^_`{|}~\\t\\n')"
   ]
  },
  {
   "cell_type": "code",
   "execution_count": 58,
   "metadata": {},
   "outputs": [
    {
     "name": "stdout",
     "output_type": "stream",
     "text": [
      "Automatically train vocab & tokenizer...\n",
      "Found 8445 unique tokens\n"
     ]
    }
   ],
   "source": [
    "print('Automatically train vocab & tokenizer...')\n",
    "tokenizer.fit_on_texts(cut_train_sentences)\n",
    "\n",
    "train_sequences = tokenizer.texts_to_sequences(cut_train_sentences)\n",
    "\n",
    "word_index = tokenizer.word_index\n",
    "print('Found %s unique tokens' % len(word_index))"
   ]
  },
  {
   "cell_type": "markdown",
   "metadata": {},
   "source": [
    "# Tf-idf Feature Extraction"
   ]
  },
  {
   "cell_type": "markdown",
   "metadata": {},
   "source": [
    "## Word-Level"
   ]
  },
  {
   "cell_type": "code",
   "execution_count": 105,
   "metadata": {},
   "outputs": [
    {
     "name": "stdout",
     "output_type": "stream",
     "text": [
      "Word vectorization process Done!\n"
     ]
    }
   ],
   "source": [
    "word_vectorizer = TfidfVectorizer(\n",
    "    sublinear_tf=True,\n",
    "    strip_accents='unicode',\n",
    "    analyzer='word',\n",
    "    token_pattern=r'\\w{1,}',\n",
    "    ngram_range=(1, 6),\n",
    "    max_features=200000\n",
    ")\n",
    "word_vectorizer.fit(cut_train_sentences)\n",
    "train_word_features = word_vectorizer.transform(cut_train_sentences)\n",
    "print('Word vectorization process Done!')"
   ]
  },
  {
   "cell_type": "code",
   "execution_count": 106,
   "metadata": {},
   "outputs": [],
   "source": [
    "train_tfidf_features = train_word_features.tocsr()"
   ]
  },
  {
   "cell_type": "code",
   "execution_count": 107,
   "metadata": {},
   "outputs": [
    {
     "data": {
      "text/plain": [
       "(6277, 200000)"
      ]
     },
     "execution_count": 107,
     "metadata": {},
     "output_type": "execute_result"
    }
   ],
   "source": [
    "train_tfidf_features.shape"
   ]
  },
  {
   "cell_type": "markdown",
   "metadata": {},
   "source": [
    "## Temporary Veiw & Processing Col Features"
   ]
  },
  {
   "cell_type": "code",
   "execution_count": 108,
   "metadata": {},
   "outputs": [],
   "source": [
    "cols = list(train_df.columns)"
   ]
  },
  {
   "cell_type": "code",
   "execution_count": 109,
   "metadata": {},
   "outputs": [],
   "source": [
    "data_columns = np.array([cols[3]] + cols[5:13] + cols[14:21])\n",
    "label_column = np.array([cols[13]])"
   ]
  },
  {
   "cell_type": "code",
   "execution_count": 110,
   "metadata": {},
   "outputs": [],
   "source": [
    "train_df['結案時間'] = [replace_sharp.sub('99:99', str(text)) for text in train_df['結案時間'].fillna(' ').values]\n",
    "train_df['收件時間'] = [replace_sharp.sub('99:99', str(text)) for text in train_df['收件時間'].fillna(' ').values]"
   ]
  },
  {
   "cell_type": "code",
   "execution_count": 111,
   "metadata": {},
   "outputs": [
    {
     "name": "stdout",
     "output_type": "stream",
     "text": [
      "6277\n"
     ]
    }
   ],
   "source": [
    "new_col = []\n",
    "for lin in train_df['對照人'].fillna(' ').values:\n",
    "    temp = \"000000\"\n",
    "    if temp in str(lin):\n",
    "        new_col.append(lin)\n",
    "    else:\n",
    "        new_col.append(\"gb\")\n",
    "\n",
    "print(len(new_col))"
   ]
  },
  {
   "cell_type": "code",
   "execution_count": 112,
   "metadata": {},
   "outputs": [
    {
     "data": {
      "text/plain": [
       "[array([192, 616,  74, ...,  73,  79,  88], dtype=int64),\n",
       " array([46, 42, 50, ..., 13, 37, 37], dtype=int64),\n",
       " array([2, 2, 0, ..., 2, 2, 2], dtype=int64),\n",
       " array([0, 1, 0, ..., 1, 0, 1], dtype=int64),\n",
       " array([128, 224, 226, ..., 224, 128, 224], dtype=int64),\n",
       " array([182, 304, 142, ..., 133, 192, 182], dtype=int64),\n",
       " array([275, 645, 156, ..., 259, 327, 159], dtype=int64),\n",
       " array([3, 3, 3, ..., 1, 1, 1], dtype=int64),\n",
       " array([13, 18,  0, ...,  5,  0, 14], dtype=int64),\n",
       " array([   0,    0,    0, ...,   47, 1176,  532], dtype=int64),\n",
       " array([4, 4, 4, ..., 5, 5, 5], dtype=int64),\n",
       " array([1, 4, 4, ..., 1, 1, 1], dtype=int64),\n",
       " array([2, 4, 2, ..., 1, 1, 2], dtype=int64),\n",
       " array([0, 1, 0, ..., 0, 0, 0], dtype=int64),\n",
       " array([ 69, 200, 133, ...,  70,  70,  70], dtype=int64),\n",
       " array([0, 0, 0, ..., 1, 1, 1], dtype=int64)]"
      ]
     },
     "execution_count": 112,
     "metadata": {},
     "output_type": "execute_result"
    }
   ],
   "source": [
    "feature_data = []\n",
    "for column in data_columns:\n",
    "    try:\n",
    "        le = LabelEncoder()\n",
    "        le.fit(list(train_df[column].fillna(' ').values))\n",
    "        feature_data.append(le.transform(list(train_df[column].fillna(' ').values)))\n",
    "    except:\n",
    "        print(column)\n",
    "feature_data"
   ]
  },
  {
   "cell_type": "code",
   "execution_count": 113,
   "metadata": {},
   "outputs": [],
   "source": [
    "train_feature_sets = []\n",
    "for line in zip(feature_data[0], feature_data[0], feature_data[1], feature_data[2], feature_data[3], feature_data[4], feature_data[5], \n",
    "                feature_data[6], feature_data[7], feature_data[8], feature_data[9], feature_data[10], feature_data[11], feature_data[12],\n",
    "                feature_data[13], feature_data[14], feature_data[15]):\n",
    "    train_feature_sets.append(line)\n",
    "train_feature_sets = np.array(train_feature_sets)"
   ]
  },
  {
   "cell_type": "markdown",
   "metadata": {},
   "source": [
    "# Model Training"
   ]
  },
  {
   "cell_type": "markdown",
   "metadata": {},
   "source": [
    "## Logistic Regression Model with Tfidf Features (Multi-Lables)"
   ]
  },
  {
   "cell_type": "code",
   "execution_count": 117,
   "metadata": {},
   "outputs": [
    {
     "name": "stdout",
     "output_type": "stream",
     "text": [
      "## In fold 1 ##\n",
      "Processing 不受理 ...\n",
      "Training accuracy is 0.9976987077358824\n",
      "Validation accuracy is 0.9984076433121019\n",
      "Processing 不成立 ...\n",
      "Training accuracy is 0.992742078243937\n",
      "Validation accuracy is 0.732484076433121\n",
      "Processing 成立 ...\n",
      "Training accuracy is 0.9907948309435298\n",
      "Validation accuracy is 0.5621019108280255\n",
      "Processing 當事人不到場 ...\n",
      "Training accuracy is 0.9938042131350682\n",
      "Validation accuracy is 0.8439490445859873\n",
      "Processing 聲請人撤回 ...\n",
      "Training accuracy is 0.9812356169233493\n",
      "Validation accuracy is 0.9570063694267515\n",
      "## In fold 2 ##\n",
      "Processing 不受理 ...\n",
      "Training accuracy is 0.9975216852540273\n",
      "Validation accuracy is 0.9936305732484076\n",
      "Processing 不成立 ...\n",
      "Training accuracy is 0.9858382014515844\n",
      "Validation accuracy is 0.7388535031847133\n",
      "Processing 成立 ...\n",
      "Training accuracy is 0.9803505045140732\n",
      "Validation accuracy is 0.64171974522293\n",
      "Processing 當事人不到場 ...\n",
      "Training accuracy is 0.9907948309435298\n",
      "Validation accuracy is 0.8503184713375797\n",
      "Processing 聲請人撤回 ...\n",
      "Training accuracy is 0.9833598867056116\n",
      "Validation accuracy is 0.9426751592356688\n",
      "## In fold 3 ##\n",
      "Processing 不受理 ...\n",
      "Training accuracy is 0.9976987077358824\n",
      "Validation accuracy is 0.9984076433121019\n",
      "Processing 不成立 ...\n",
      "Training accuracy is 0.9854841564878739\n",
      "Validation accuracy is 0.7340764331210191\n",
      "Processing 成立 ...\n",
      "Training accuracy is 0.9803505045140732\n",
      "Validation accuracy is 0.6847133757961783\n",
      "Processing 當事人不到場 ...\n",
      "Training accuracy is 0.9904407859798194\n",
      "Validation accuracy is 0.8837579617834395\n",
      "Processing 聲請人撤回 ...\n",
      "Training accuracy is 0.9805275269959285\n",
      "Validation accuracy is 0.9697452229299363\n",
      "## In fold 4 ##\n",
      "Processing 不受理 ...\n",
      "Training accuracy is 0.9976987077358824\n",
      "Validation accuracy is 0.9936305732484076\n",
      "Processing 不成立 ...\n",
      "Training accuracy is 0.9853071340060188\n",
      "Validation accuracy is 0.767515923566879\n",
      "Processing 成立 ...\n",
      "Training accuracy is 0.9833598867056116\n",
      "Validation accuracy is 0.6878980891719745\n",
      "Processing 當事人不到場 ...\n",
      "Training accuracy is 0.9904407859798194\n",
      "Validation accuracy is 0.89171974522293\n",
      "Processing 聲請人撤回 ...\n",
      "Training accuracy is 0.9807045494777836\n",
      "Validation accuracy is 0.9554140127388535\n",
      "## In fold 5 ##\n",
      "Processing 不受理 ...\n",
      "Training accuracy is 0.9976987077358824\n",
      "Validation accuracy is 0.9984076433121019\n",
      "Processing 不成立 ...\n",
      "Training accuracy is 0.9847760665604531\n",
      "Validation accuracy is 0.7595541401273885\n",
      "Processing 成立 ...\n",
      "Training accuracy is 0.9784032572136662\n",
      "Validation accuracy is 0.8678343949044586\n",
      "Processing 當事人不到場 ...\n",
      "Training accuracy is 0.9906178084616747\n",
      "Validation accuracy is 0.8757961783439491\n",
      "Processing 聲請人撤回 ...\n",
      "Training accuracy is 0.9828288192600461\n",
      "Validation accuracy is 0.9235668789808917\n",
      "## In fold 6 ##\n",
      "Processing 不受理 ...\n",
      "Training accuracy is 0.9975216852540273\n",
      "Validation accuracy is 0.9984076433121019\n",
      "Processing 不成立 ...\n",
      "Training accuracy is 0.9844220215967427\n",
      "Validation accuracy is 0.7818471337579618\n",
      "Processing 成立 ...\n",
      "Training accuracy is 0.9784032572136662\n",
      "Validation accuracy is 0.9761146496815286\n",
      "Processing 當事人不到場 ...\n",
      "Training accuracy is 0.9895556735705434\n",
      "Validation accuracy is 0.8471337579617835\n",
      "Processing 聲請人撤回 ...\n",
      "Training accuracy is 0.9808815719596389\n",
      "Validation accuracy is 0.9124203821656051\n",
      "## In fold 7 ##\n",
      "Processing 不受理 ...\n",
      "Training accuracy is 0.9978757302177377\n",
      "Validation accuracy is 0.9888535031847133\n",
      "Processing 不成立 ...\n",
      "Training accuracy is 0.9840679766330324\n",
      "Validation accuracy is 0.7898089171974523\n",
      "Processing 成立 ...\n",
      "Training accuracy is 0.9784032572136662\n",
      "Validation accuracy is 0.9872611464968153\n",
      "Processing 當事人不到場 ...\n",
      "Training accuracy is 0.9897326960523987\n",
      "Validation accuracy is 0.8646496815286624\n",
      "Processing 聲請人撤回 ...\n",
      "Training accuracy is 0.9807045494777836\n",
      "Validation accuracy is 0.9299363057324841\n",
      "## In fold 8 ##\n",
      "Processing 不受理 ...\n",
      "Training accuracy is 0.9975221238938053\n",
      "Validation accuracy is 0.9984051036682615\n",
      "Processing 不成立 ...\n",
      "Training accuracy is 0.9856637168141593\n",
      "Validation accuracy is 0.7894736842105263\n",
      "Processing 成立 ...\n",
      "Training accuracy is 0.9789380530973452\n",
      "Validation accuracy is 0.9585326953748007\n",
      "Processing 當事人不到場 ...\n",
      "Training accuracy is 0.9906194690265486\n",
      "Validation accuracy is 0.8452950558213717\n",
      "Processing 聲請人撤回 ...\n",
      "Training accuracy is 0.9819469026548673\n",
      "Validation accuracy is 0.9521531100478469\n",
      "## In fold 9 ##\n",
      "Processing 不受理 ...\n",
      "Training accuracy is 0.9975221238938053\n",
      "Validation accuracy is 1.0\n",
      "Processing 不成立 ...\n",
      "Training accuracy is 0.9854867256637169\n",
      "Validation accuracy is 0.7559808612440191\n",
      "Processing 成立 ...\n",
      "Training accuracy is 0.9792920353982301\n",
      "Validation accuracy is 0.9346092503987241\n",
      "Processing 當事人不到場 ...\n",
      "Training accuracy is 0.9904424778761062\n",
      "Validation accuracy is 0.8724082934609251\n",
      "Processing 聲請人撤回 ...\n",
      "Training accuracy is 0.9812389380530974\n",
      "Validation accuracy is 0.9473684210526315\n",
      "## In fold 10 ##\n",
      "Processing 不受理 ...\n",
      "Training accuracy is 0.9975221238938053\n",
      "Validation accuracy is 0.9984051036682615\n",
      "Processing 不成立 ...\n",
      "Training accuracy is 0.9842477876106195\n",
      "Validation accuracy is 0.7894736842105263\n",
      "Processing 成立 ...\n",
      "Training accuracy is 0.9785840707964601\n",
      "Validation accuracy is 0.9808612440191388\n",
      "Processing 當事人不到場 ...\n",
      "Training accuracy is 0.9899115044247787\n",
      "Validation accuracy is 0.8995215311004785\n",
      "Processing 聲請人撤回 ...\n",
      "Training accuracy is 0.9805309734513274\n",
      "Validation accuracy is 0.9537480063795853\n",
      "K-fold cross validation Done!\n"
     ]
    }
   ],
   "source": [
    "kfold = KFold(n_splits=FOLD_COUNT, shuffle=False)\n",
    "tfidf_models = []\n",
    "for i, (train_idx, test_idx) in enumerate(kfold.split(train_tfidf_features)):\n",
    "    print('## In fold {} ##'.format(i + 1))\n",
    "    classifier = LogisticRegression(solver='sag', C=12.0)\n",
    "    predictions = OrderedDict()\n",
    "    predictions['id'] = train_df['id']\n",
    "    \n",
    "    for class_name in list_classes:\n",
    "        print('Processing {} ...'.format(class_name))\n",
    "        train_target = train_df[class_name][train_idx]\n",
    "        \n",
    "        classifier.fit(train_tfidf_features[train_idx], train_target)\n",
    "        y_pred = classifier.predict(train_tfidf_features[train_idx])\n",
    "        \n",
    "        print('Training accuracy is {}'.format(accuracy_score(y_pred, train_target)))\n",
    "        \n",
    "        val_target = train_df[class_name][test_idx]\n",
    "        val_pred = classifier.predict(train_tfidf_features[test_idx])\n",
    "        \n",
    "        print('Validation accuracy is {}'.format(accuracy_score(val_pred, val_target)))\n",
    "        predictions[class_name] = classifier.predict_proba(train_tfidf_features)[:, 1]\n",
    "        \n",
    "    tfidf_models.append(classifier)\n",
    "    train_predicts = pd.DataFrame.from_dict(predictions)\n",
    "    train_predicts.to_csv('results/Submission_file_{}.csv'.format(i), index=False, encoding='big5')\n",
    "    \n",
    "print('K-fold cross validation Done!')"
   ]
  },
  {
   "cell_type": "code",
   "execution_count": 118,
   "metadata": {},
   "outputs": [
    {
     "name": "stdout",
     "output_type": "stream",
     "text": [
      "## In fold 1 ##\n",
      "Processing 不受理 ...\n",
      "Training accuracy is 0.9964595503628961\n",
      "Validation accuracy is 0.9984076433121019\n",
      "Processing 不成立 ...\n",
      "Training accuracy is 0.7696937511063905\n",
      "Validation accuracy is 0.7197452229299363\n",
      "Processing 成立 ...\n",
      "Training accuracy is 0.8334218445742609\n",
      "Validation accuracy is 0.643312101910828\n",
      "Processing 當事人不到場 ...\n",
      "Training accuracy is 0.8702425208001416\n",
      "Validation accuracy is 0.856687898089172\n",
      "Processing 聲請人撤回 ...\n",
      "Training accuracy is 0.9433528058063374\n",
      "Validation accuracy is 0.9570063694267515\n",
      "## In fold 2 ##\n",
      "Processing 不受理 ...\n",
      "Training accuracy is 0.9969906178084617\n",
      "Validation accuracy is 0.9936305732484076\n",
      "Processing 不成立 ...\n",
      "Training accuracy is 0.7663303239511418\n",
      "Validation accuracy is 0.7388535031847133\n",
      "Processing 成立 ...\n",
      "Training accuracy is 0.8445742609311383\n",
      "Validation accuracy is 0.6242038216560509\n",
      "Processing 當事人不到場 ...\n",
      "Training accuracy is 0.8727208355461143\n",
      "Validation accuracy is 0.8439490445859873\n",
      "Processing 聲請人撤回 ...\n",
      "Training accuracy is 0.9449460081430342\n",
      "Validation accuracy is 0.9426751592356688\n",
      "## In fold 3 ##\n",
      "Processing 不受理 ...\n",
      "Training accuracy is 0.9964595503628961\n",
      "Validation accuracy is 0.9984076433121019\n",
      "Processing 不成立 ...\n",
      "Training accuracy is 0.7649141440963002\n",
      "Validation accuracy is 0.732484076433121\n",
      "Processing 成立 ...\n",
      "Training accuracy is 0.8328907771286953\n",
      "Validation accuracy is 0.660828025477707\n",
      "Processing 當事人不到場 ...\n",
      "Training accuracy is 0.8674101610904585\n",
      "Validation accuracy is 0.8869426751592356\n",
      "Processing 聲請人撤回 ...\n",
      "Training accuracy is 0.9419366259514959\n",
      "Validation accuracy is 0.9697452229299363\n",
      "## In fold 4 ##\n",
      "Processing 不受理 ...\n",
      "Training accuracy is 0.9969906178084617\n",
      "Validation accuracy is 0.9936305732484076\n",
      "Processing 不成立 ...\n",
      "Training accuracy is 0.763852009205169\n",
      "Validation accuracy is 0.7643312101910829\n",
      "Processing 成立 ...\n",
      "Training accuracy is 0.8268720127456187\n",
      "Validation accuracy is 0.697452229299363\n",
      "Processing 當事人不到場 ...\n",
      "Training accuracy is 0.8659939812356169\n",
      "Validation accuracy is 0.893312101910828\n",
      "Processing 聲請人撤回 ...\n",
      "Training accuracy is 0.9435298282881927\n",
      "Validation accuracy is 0.9554140127388535\n",
      "## In fold 5 ##\n",
      "Processing 不受理 ...\n",
      "Training accuracy is 0.9964595503628961\n",
      "Validation accuracy is 0.9984076433121019\n",
      "Processing 不成立 ...\n",
      "Training accuracy is 0.7663303239511418\n",
      "Validation accuracy is 0.7531847133757962\n",
      "Processing 成立 ...\n",
      "Training accuracy is 0.8089927420782439\n",
      "Validation accuracy is 0.8264331210191083\n",
      "Processing 當事人不到場 ...\n",
      "Training accuracy is 0.8713046556912728\n",
      "Validation accuracy is 0.856687898089172\n",
      "Processing 聲請人撤回 ...\n",
      "Training accuracy is 0.9470702779252965\n",
      "Validation accuracy is 0.9235668789808917\n",
      "## In fold 6 ##\n",
      "Processing 不受理 ...\n",
      "Training accuracy is 0.9964595503628961\n",
      "Validation accuracy is 0.9984076433121019\n",
      "Processing 不成立 ...\n",
      "Training accuracy is 0.7599575146043548\n",
      "Validation accuracy is 0.7818471337579618\n",
      "Processing 成立 ...\n",
      "Training accuracy is 0.8004956629491945\n",
      "Validation accuracy is 0.9410828025477707\n",
      "Processing 當事人不到場 ...\n",
      "Training accuracy is 0.8713046556912728\n",
      "Validation accuracy is 0.8487261146496815\n",
      "Processing 聲請人撤回 ...\n",
      "Training accuracy is 0.9481324128164277\n",
      "Validation accuracy is 0.9140127388535032\n",
      "## In fold 7 ##\n",
      "Processing 不受理 ...\n",
      "Training accuracy is 0.9975216852540273\n",
      "Validation accuracy is 0.9888535031847133\n",
      "Processing 不成立 ...\n",
      "Training accuracy is 0.7626128518321826\n",
      "Validation accuracy is 0.7595541401273885\n",
      "Processing 成立 ...\n",
      "Training accuracy is 0.8012037528766154\n",
      "Validation accuracy is 0.9506369426751592\n",
      "Processing 當事人不到場 ...\n",
      "Training accuracy is 0.8718357231368383\n",
      "Validation accuracy is 0.8503184713375797\n",
      "Processing 聲請人撤回 ...\n",
      "Training accuracy is 0.9463621879978757\n",
      "Validation accuracy is 0.9299363057324841\n",
      "## In fold 8 ##\n",
      "Processing 不受理 ...\n",
      "Training accuracy is 0.9964601769911504\n",
      "Validation accuracy is 0.9984051036682615\n",
      "Processing 不成立 ...\n",
      "Training accuracy is 0.7584070796460177\n",
      "Validation accuracy is 0.7910685805422647\n",
      "Processing 成立 ...\n",
      "Training accuracy is 0.804070796460177\n",
      "Validation accuracy is 0.9537480063795853\n",
      "Processing 當事人不到場 ...\n",
      "Training accuracy is 0.8702654867256637\n",
      "Validation accuracy is 0.8628389154704944\n",
      "Processing 聲請人撤回 ...\n",
      "Training accuracy is 0.9438938053097345\n",
      "Validation accuracy is 0.9521531100478469\n",
      "## In fold 9 ##\n",
      "Processing 不受理 ...\n",
      "Training accuracy is 0.996283185840708\n",
      "Validation accuracy is 1.0\n",
      "Processing 不成立 ...\n",
      "Training accuracy is 0.7608849557522124\n",
      "Validation accuracy is 0.7687400318979266\n",
      "Processing 成立 ...\n",
      "Training accuracy is 0.8115044247787611\n",
      "Validation accuracy is 0.89792663476874\n",
      "Processing 當事人不到場 ...\n",
      "Training accuracy is 0.8686725663716814\n",
      "Validation accuracy is 0.8803827751196173\n",
      "Processing 聲請人撤回 ...\n",
      "Training accuracy is 0.9442477876106194\n",
      "Validation accuracy is 0.94896331738437\n",
      "## In fold 10 ##\n",
      "Processing 不受理 ...\n",
      "Training accuracy is 0.9964601769911504\n",
      "Validation accuracy is 0.9984051036682615\n",
      "Processing 不成立 ...\n",
      "Training accuracy is 0.7591150442477876\n",
      "Validation accuracy is 0.7894736842105263\n",
      "Processing 成立 ...\n",
      "Training accuracy is 0.8093805309734513\n",
      "Validation accuracy is 0.8963317384370016\n",
      "Processing 當事人不到場 ...\n",
      "Training accuracy is 0.8654867256637168\n",
      "Validation accuracy is 0.8963317384370016\n",
      "Processing 聲請人撤回 ...\n",
      "Training accuracy is 0.943716814159292\n",
      "Validation accuracy is 0.9537480063795853\n",
      "K-fold cross validation Done!\n"
     ]
    }
   ],
   "source": [
    "labels_models = []\n",
    "for i, (train_idx, test_idx) in enumerate(kfold.split(train_feature_sets)):\n",
    "    print('## In fold {} ##'.format(i + 1))\n",
    "    classifier = LogisticRegression(C=1.0, class_weight=None, dual=False, fit_intercept=True, intercept_scaling=1, \n",
    "                   max_iter=100, multi_class='ovr', penalty='l2', random_state=None, solver='liblinear', tol=0.0001,verbose=0)\n",
    "    predictions = OrderedDict()\n",
    "    predictions['id'] = train_df['id']\n",
    "    \n",
    "    for class_name in list_classes:\n",
    "        print('Processing {} ...'.format(class_name))\n",
    "        train_target = train_df[class_name][train_idx]\n",
    "        \n",
    "        classifier.fit(train_feature_sets[train_idx], train_target)\n",
    "        y_pred = classifier.predict(train_feature_sets[train_idx])\n",
    "        \n",
    "        print('Training accuracy is {}'.format(accuracy_score(y_pred, train_target)))\n",
    "        \n",
    "        val_target = train_df[class_name][test_idx]\n",
    "        val_pred = classifier.predict(train_feature_sets[test_idx])\n",
    "        \n",
    "        print('Validation accuracy is {}'.format(accuracy_score(val_pred, val_target)))\n",
    "        predictions[class_name] = classifier.predict_proba(train_feature_sets)[:, 1]\n",
    "        \n",
    "    labels_models.append(classifier)\n",
    "    train_predicts = pd.DataFrame.from_dict(predictions)\n",
    "    train_predicts.to_csv('results/Submission_file_{}.csv'.format(i + 10), index=False, encoding='big5')\n",
    "print('K-fold cross validation Done!')"
   ]
  },
  {
   "cell_type": "markdown",
   "metadata": {},
   "source": [
    "# OOB (Out-of-Bag) Evaluation (Error ...)"
   ]
  },
  {
   "cell_type": "code",
   "execution_count": null,
   "metadata": {},
   "outputs": [],
   "source": [
    "print('Predicting training results...')\n",
    "\n",
    "for i, model in enumerate(tfidf_models):\n",
    "    predictions = OrderedDict()\n",
    "    predictions['id'] = train_df['id']\n",
    "    for class_name in list_classes:\n",
    "        predictions[class_name] = model.predict_proba(train_tfidf_features)[:, 1]\n",
    "    \n",
    "    train_predicts = pd.DataFrame.from_dict(predictions)\n",
    "    train_predicts.to_csv('results/Submission_file_{}.csv'.format(i), index=False, encoding='big5')\n",
    "    \n",
    "for i, model in enumerate(labels_models):\n",
    "    predictions = OrderedDict()\n",
    "    predictions['id'] = train_df['id']\n",
    "    for class_name in list_classes:\n",
    "        predictions[class_name] = model.predict_proba(train_feature_sets)[:, 1]\n",
    "        \n",
    "    train_predicts = pd.DataFrame.from_dict(predictions)\n",
    "    train_predicts.to_csv('results/Submission_file_{}.csv'.format(i + 10), index=False, encoding='big5')\n",
    "\n",
    "print('Done!')"
   ]
  },
  {
   "cell_type": "code",
   "execution_count": 125,
   "metadata": {},
   "outputs": [
    {
     "name": "stdout",
     "output_type": "stream",
     "text": [
      "Doing ensemble on\n",
      "results/Submission_file_10.csv\n",
      "results/Submission_file_11.csv\n",
      "results/Submission_file_12.csv\n",
      "results/Submission_file_13.csv\n",
      "results/Submission_file_14.csv\n",
      "results/Submission_file_15.csv\n",
      "results/Submission_file_16.csv\n",
      "results/Submission_file_17.csv\n",
      "results/Submission_file_18.csv\n",
      "results/Submission_file_19.csv\n",
      "Bagging operation Done!\n"
     ]
    }
   ],
   "source": [
    "result_list = ['results/Submission_file_{}.csv'.format(i) for i in range(10, FOLD_COUNT * 2)]\n",
    "bagging(result_list, 'results/bagging.csv')\n",
    "print('Bagging operation Done!')"
   ]
  },
  {
   "cell_type": "code",
   "execution_count": 126,
   "metadata": {},
   "outputs": [],
   "source": [
    "test_df = pd.read_csv('results/bagging.csv', encoding='big5')\n",
    "result_label = test_df[list_classes]\n",
    "results = result_label.idxmax(axis=1)"
   ]
  },
  {
   "cell_type": "code",
   "execution_count": 127,
   "metadata": {},
   "outputs": [
    {
     "name": "stdout",
     "output_type": "stream",
     "text": [
      "Validation accuracy is 0.6859964951409909\n"
     ]
    }
   ],
   "source": [
    "val_target = train_df['是否成立']\n",
    "print('Validation accuracy is {}'.format(accuracy_score(results, val_target)))"
   ]
  },
  {
   "cell_type": "markdown",
   "metadata": {},
   "source": [
    "## Multi-Classification"
   ]
  },
  {
   "cell_type": "code",
   "execution_count": null,
   "metadata": {},
   "outputs": [],
   "source": [
    "train_label = train_df['是否成立']"
   ]
  },
  {
   "cell_type": "code",
   "execution_count": null,
   "metadata": {},
   "outputs": [],
   "source": [
    "kfold = StratifiedKFold(n_splits=FOLD_COUNT, shuffle=False)\n",
    "multi_classifier_tfidf_models = []\n",
    "for i, (train_idx, test_idx) in enumerate(kfold.split(train_tfidf_features, train_label)):\n",
    "    print('## In fold {} ##'.format(i + 1))\n",
    "    classifier = LogisticRegression(solver='sag', C=12.0)\n",
    "    predictions = OrderedDict()\n",
    "    predictions['id'] = train_df['id']\n",
    "    \n",
    "    train_target = train_label[train_idx]\n",
    "    classifier.fit(train_tfidf_features[train_idx], train_target)\n",
    "    y_pred = classifier.predict(train_tfidf_features[train_idx])\n",
    "\n",
    "    print('Training accuracy is {}'.format(accuracy_score(y_pred, train_target)))\n",
    "\n",
    "    val_target = train_label[test_idx]\n",
    "    val_pred = classifier.predict(train_tfidf_features[test_idx])\n",
    "\n",
    "    print('Validation accuracy is {}'.format(accuracy_score(val_pred, val_target)))\n",
    "        \n",
    "    multi_classifier_tfidf_models.append(classifier)\n",
    "    predictions = classifier.predict_proba(train_tfidf_features)[:, 1]\n",
    "        \n",
    "    tfidf_models.append(classifier)\n",
    "    train_predicts = pd.DataFrame.from_dict(predictions)\n",
    "    train_predicts.to_csv('results/multi/Submission_file_{}.csv'.format(i), index=False, encoding='big5')\n",
    "    \n",
    "print('K-fold cross validation Done!')"
   ]
  },
  {
   "cell_type": "code",
   "execution_count": null,
   "metadata": {},
   "outputs": [],
   "source": [
    "for i, (train_idx, test_idx) in enumerate(kfold.split(train_feature_sets, train_label)):\n",
    "    print('## In fold {} ##'.format(i + 1))\n",
    "    classifier = LogisticRegression(C=1.0, class_weight=None, dual=False, fit_intercept=True, intercept_scaling=1, \n",
    "                   max_iter=100, multi_class='ovr', penalty='l2', random_state=None, solver='liblinear', tol=0.0001,verbose=0)\n",
    "    predictions = OrderedDict()\n",
    "    predictions['id'] = train_df['id']\n",
    "    \n",
    "    train_target = train_label[train_idx]\n",
    "\n",
    "    classifier.fit(train_feature_sets[train_idx], train_target)\n",
    "    y_pred = classifier.predict(train_feature_sets[train_idx])\n",
    "\n",
    "    print('Training accuracy is {}'.format(accuracy_score(y_pred, train_target)))\n",
    "\n",
    "    val_target = train_label[test_idx]\n",
    "    val_pred = classifier.predict(train_feature_sets[test_idx])\n",
    "\n",
    "    print('Validation accuracy is {}'.format(accuracy_score(val_pred, val_target)))\n",
    "        \n",
    "    multi_classifier_tfidf_models.append(classifier)\n",
    "    predictions[class_name] = classifier.predict_proba(train_feature_sets)[:, 1]\n",
    "        \n",
    "    tfidf_models.append(classifier)\n",
    "    train_predicts = pd.DataFrame.from_dict(predictions)\n",
    "    train_predicts.to_csv('results/multi/Submission_file_{}.csv'.format(i + 10), index=False, encoding='big5')\n",
    "    \n",
    "print('K-fold cross validation Done!')"
   ]
  },
  {
   "cell_type": "markdown",
   "metadata": {},
   "source": [
    "# ExtraTreesClassifier"
   ]
  },
  {
   "cell_type": "code",
   "execution_count": null,
   "metadata": {},
   "outputs": [],
   "source": [
    "accs = []\n",
    "et_predictions = OrderedDict()\n",
    "et_predictions['id'] = test_df['id']\n",
    "\n",
    "for class_name in list_classes:\n",
    "    train_target = train_df[class_name]\n",
    "    classifier = ExtraTreesClassifier(n_estimators=30)\n",
    "    \n",
    "    cv_score = np.mean(cross_val_score(classifier, train_tfidf_features, train_target, cv=10, scoring='roc_auc'))\n",
    "    accs.append(cv_score)\n",
    "    print('CV Score for class {} is {}'.format(class_name, cv_score))\n",
    "    \n",
    "    classifier.fit(train_tfidf_features, train_target)\n",
    "    et_predictions[class_name] = classifier.predict_proba(test_tfidf_features)[:, 1]\n",
    "    \n",
    "submission = pd.DataFrame.from_dict(et_predictions)\n",
    "submission.to_csv('result/LR_Based/ExtraTreesClassifier_Submission.csv', index=False)"
   ]
  },
  {
   "cell_type": "markdown",
   "metadata": {},
   "source": [
    "# Predictions (Optional)"
   ]
  },
  {
   "cell_type": "code",
   "execution_count": null,
   "metadata": {},
   "outputs": [],
   "source": [
    "for i, model in enumerate(tfidf_models):\n",
    "    print('## In Model {} ##'.format(i + 1))\n",
    "    predictions = OrderedDict()\n",
    "    predictions['id'] = test_df['id']\n",
    "    \n",
    "    for class_name in list_classes:\n",
    "        predictions[class_name] = model.predict_proba(test_tfidf_features)[:, 1]\n",
    "        print('Predict the proba for {} Done!'.format(class_name))\n",
    "        print(predictions.keys())\n",
    "    \n",
    "    print(predictions.keys())\n",
    "    submission = pd.DataFrame.from_dict(predictions)\n",
    "    submission.to_csv('Logistic_Regression_Submission_{}.csv'.format(i), index=False)"
   ]
  },
  {
   "cell_type": "markdown",
   "metadata": {},
   "source": [
    "# Result Ensemble"
   ]
  },
  {
   "cell_type": "code",
   "execution_count": 49,
   "metadata": {},
   "outputs": [],
   "source": [
    "def bagging(arrs, path):\n",
    "    print(\"Doing ensemble on\")\n",
    "    subs = []\n",
    "    for arr in arrs:\n",
    "        print(arr)\n",
    "        subs.append(pd.read_csv(arr, encoding='big5'))\n",
    "    \n",
    "    for sub in subs[1:]:\n",
    "        for c in list_classes:\n",
    "            subs[0][c] += sub[c]\n",
    "    \n",
    "    for c in list_classes:\n",
    "        subs[0][c] /= len(subs)\n",
    "        \n",
    "    subs[0].to_csv(path, index=False, encoding='big5')"
   ]
  },
  {
   "cell_type": "code",
   "execution_count": null,
   "metadata": {},
   "outputs": [],
   "source": []
  }
 ],
 "metadata": {
  "kernelspec": {
   "display_name": "Python 3",
   "language": "python",
   "name": "python3"
  },
  "language_info": {
   "codemirror_mode": {
    "name": "ipython",
    "version": 3
   },
   "file_extension": ".py",
   "mimetype": "text/x-python",
   "name": "python",
   "nbconvert_exporter": "python",
   "pygments_lexer": "ipython3",
   "version": "3.6.4"
  }
 },
 "nbformat": 4,
 "nbformat_minor": 2
}
